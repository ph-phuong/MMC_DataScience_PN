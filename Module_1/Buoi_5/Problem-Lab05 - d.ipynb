{
 "cells": [
  {
   "cell_type": "markdown",
   "metadata": {
    "id": "jxgT4r6ovuvd"
   },
   "source": [
    "#Bài tập 1: Thao tác với ma trận  \n",
    "**Lý thuyết**:  \n",
    "NumPy cung cấp các công cụ mạnh mẽ để thao tác ma trận, bao gồm tính toán các định thức, tìm nghịch đảo và tính toán các giá trị riêng và vectơ riêng.\n",
    "  \n",
    "**Đề bài**:  \n",
    "Tạo ma trận 5x5 ngẫu nhiên và thực hiện các thao tác sau:  \n",
    "* Tính định thức (determinant) của ma trận.  \n",
    "* Tìm nghịch đảo (transpose) của ma trận.  \n",
    "* Tính các giá trị riêng (eigent value) và vectơ riêng (eigent vector) của ma trận.   \n",
    "(Phần này sẽ liên quan tới đại số tuyến tính, mọi người có thể tự tìm hiểu để hiểu chi tiết về các khái niệm trên)\n",
    "\n",
    "<details>\n",
    "  <summary>Hint</summary>\n",
    "\n",
    "```python\n",
    "import numpy as np\n",
    "\n",
    "# Generate a random 5x5 matrix\n",
    "matrix = np.random.rand(5, 5)\n",
    "\n",
    "# Compute determinant\n",
    "det = np.linalg.det(matrix)\n",
    "\n",
    "# Find inverse\n",
    "inverse = np.linalg.inv(matrix)\n",
    "\n",
    "# Calculate eigenvalues and eigenvectors\n",
    "eigenvalues, eigenvectors = np.linalg.eig(matrix)\n",
    "\n",
    "```\n",
    "</details>"
   ]
  },
  {
   "cell_type": "code",
   "execution_count": 5,
   "metadata": {},
   "outputs": [],
   "source": [
    "import numpy as np"
   ]
  },
  {
   "cell_type": "code",
   "execution_count": 7,
   "metadata": {
    "executionInfo": {
     "elapsed": 2,
     "status": "ok",
     "timestamp": 1711943184294,
     "user": {
      "displayName": "Nha Nguyen",
      "userId": "05581690424976052134"
     },
     "user_tz": -420
    },
    "id": "-SEd8zd9tBN8"
   },
   "outputs": [
    {
     "name": "stdout",
     "output_type": "stream",
     "text": [
      "Ma trận:  [[93 97 99 30 66]\n",
      " [16 65 13  4 45]\n",
      " [15 79 67  3  4]\n",
      " [ 7  9  8 69  8]\n",
      " [74 40 36 46 92]]\n",
      "Định thức của ma trận là: 392903669.9999997\n",
      "nghịch đảo (transpose) của ma trận [[93 16 15  7 74]\n",
      " [97 65 79  9 40]\n",
      " [99 13 67  8 36]\n",
      " [30  4  3 69 46]\n",
      " [66 45  4  8 92]]\n",
      "Các giá trị riêng của ma trận là: [219.71829415 +0.j           7.10304797 +0.j\n",
      "  47.31112587+40.76025583j  47.31112587-40.76025583j\n",
      "  64.55640613 +0.j        ]\n",
      "Các vectơ riêng tương ứng:\n",
      "[[ 0.71560139+0.j         -0.62393507+0.j          0.21215   -0.40192269j\n",
      "   0.21215   +0.40192269j -0.464352  +0.j        ]\n",
      " [ 0.26888696+0.j         -0.31352323+0.j         -0.15624916+0.38004145j\n",
      "  -0.15624916-0.38004145j  0.05714746+0.j        ]\n",
      " [ 0.2268232 +0.j          0.5390486 +0.j          0.57391983+0.j\n",
      "   0.57391983-0.j         -0.2867947 +0.j        ]\n",
      " [ 0.09298022+0.j         -0.01436788+0.j         -0.01596453-0.00350581j\n",
      "  -0.01596453+0.00350581j  0.81751571+0.j        ]\n",
      " [ 0.59625528+0.j          0.47077423+0.j         -0.52262699-0.14769944j\n",
      "  -0.52262699+0.14769944j  0.17472333+0.j        ]]\n"
     ]
    }
   ],
   "source": [
    "# Your code here\n",
    "\n",
    "matrix = np.random.randint(1, 100, size = (5,5))\n",
    "print('Ma trận: ', matrix)\n",
    "\n",
    "# Tính định thức của ma trận\n",
    "determinant = np.linalg.det(matrix)\n",
    "print(\"Định thức của ma trận là:\", determinant)\n",
    "\n",
    "# Tìm nghịch đảo (transpose) của ma trận.\n",
    "transpose = matrix.T\n",
    "print('nghịch đảo (transpose) của ma trận', transpose)\n",
    "\n",
    "# Tính các giá trị riêng và vectơ riêng\n",
    "eigenvalues, eigenvectors = np.linalg.eig(matrix)\n",
    "\n",
    "print(\"Các giá trị riêng của ma trận là:\", eigenvalues)\n",
    "print(\"Các vectơ riêng tương ứng:\")\n",
    "print(eigenvectors)"
   ]
  },
  {
   "cell_type": "markdown",
   "metadata": {
    "id": "j5y16Eqkxd_o"
   },
   "source": [
    "# Bài tập 2: Optimization\n",
    "**Lý thuyết:**  \n",
    "Gradient descent là một thuật toán tối ưu hóa được sử dụng để cực tiểu hóa hàm bằng cách di chuyển lặp đi lặp lại theo hướng dốc xuống.\n",
    "\n",
    "**Đề bài:**  \n",
    "Triển khai gradient descent sử dụng NumPy để tối ưu hàm số sau:\n",
    " $$ f(x) = x^2 + 5 \\sin(x) $$\n",
    "<details>\n",
    "  <summary>Hint</summary>\n",
    "\n",
    "```python\n",
    "import numpy as np\n",
    "\n",
    "def gradient_descent(x, learning_rate, iterations):\n",
    "    for _ in range(iterations):\n",
    "        gradient = 2*x + 5*np.cos(x)  # Đạo hàm riêng theo x\n",
    "        x = x - learning_rate * gradient # Cập nhật tham số\n",
    "    return x\n",
    "\n",
    "# Khởi tạo các hyperparameters\n",
    "x_initial = 5  # Input đầu vào\n",
    "learning_rate = 0.1 # Tốc độ học\n",
    "iterations = 100 # Số lần lặp\n",
    "\n",
    "# Run gradient descent\n",
    "minima = gradient_descent(x_initial, learning_rate, iterations)\n",
    "```\n",
    "\n",
    "</details>"
   ]
  },
  {
   "cell_type": "code",
   "execution_count": 9,
   "metadata": {
    "executionInfo": {
     "elapsed": 2,
     "status": "ok",
     "timestamp": 1711943686064,
     "user": {
      "displayName": "Nha Nguyen",
      "userId": "05581690424976052134"
     },
     "user_tz": -420
    },
    "id": "s3Q3kOnuwxxW"
   },
   "outputs": [
    {
     "data": {
      "text/plain": [
       "-1.110510503581112"
      ]
     },
     "execution_count": 9,
     "metadata": {},
     "output_type": "execute_result"
    }
   ],
   "source": [
    "# Your code here\n",
    "\n",
    "import numpy as np\n",
    "\n",
    "def gradient_descent(x, learning_rate, iterations):\n",
    "    for _ in range(iterations):\n",
    "        gradient = 2*x + 5*np.cos(x)  # Đạo hàm riêng theo x\n",
    "        x = x - learning_rate * gradient # Cập nhật tham số\n",
    "    return x\n",
    "\n",
    "# Khởi tạo các hyperparameters\n",
    "x_initial = 5  # Input đầu vào\n",
    "learning_rate = 0.1 # Tốc độ học\n",
    "iterations = 100 # Số lần lặp\n",
    "\n",
    "# Run gradient descent\n",
    "minima = gradient_descent(x_initial, learning_rate, iterations)\n",
    "minima"
   ]
  },
  {
   "cell_type": "markdown",
   "metadata": {
    "id": "r9TwMgo-y5tm"
   },
   "source": [
    "# Bài tập 3: Phân tích thống kê  \n",
    "**Lý thuyết**:  \n",
    "NumPy cung cấp các chức năng để phân tích thống kê, bao gồm tính toán giá trị trung bình (mean), trung vị (median), độ lệch chuẩn (standard deviation) và mối tương quan (correlation).  \n",
    "\n",
    "**Đề Bài**:  \n",
    "Thực hiện phân tích thống kê trên tập dữ liệu bai3.csv bằng NumPy:  \n",
    "* Tính giá trị trung bình, trung vị và độ lệch chuẩn của tập dữ liệu.\n",
    "* Tính toán ma trận tương quan giữa các biến khác nhau.\n",
    "* Xác định các ngoại lệ trong tập dữ liệu bằng cách sử dụng điểm z.\n",
    "\n",
    "<details>\n",
    "  <summary>Hint</summary>\n",
    "\n",
    "```python\n",
    "  # Load dataset\n",
    "  data = np.loadtxt('dataset.csv', delimiter=',')\n",
    "\n",
    "  # Calculate mean, median, and standard deviation\n",
    "  mean = np.mean(data, axis=0)\n",
    "  median = np.median(data, axis=0)\n",
    "  std_dev = np.std(data, axis=0)\n",
    "\n",
    "  # Compute correlation matrix\n",
    "  correlation_matrix = np.corrcoef(data, rowvar=False)\n",
    "\n",
    "  # Identify outliers using z-scores\n",
    "  z_scores = np.abs((data - mean) / std_dev)\n",
    "  outliers = np.where(z_scores > 3)\n",
    "```\n",
    "</details>"
   ]
  },
  {
   "cell_type": "code",
   "execution_count": 12,
   "metadata": {
    "id": "KjYxequp1pld"
   },
   "outputs": [
    {
     "name": "stdout",
     "output_type": "stream",
     "text": [
      "Giá trị trung vị:  [3.1 3.8 6.7 2.6 7.1]\n",
      "Giá trị trung bình:  [3.42 3.82 6.48 2.72 7.32]\n",
      "Độ lệch chuẩn:  [1.56639714 0.59799666 1.25443214 0.75736385 1.32272446]\n",
      "Độ tương quan giữa các biến:  [[1.         0.47784764 0.89183434 0.61500461 0.94868903]\n",
      " [0.47784764 1.         0.81104187 0.97063145 0.71505798]\n",
      " [0.89183434 0.81104187 1.         0.88457426 0.98139657]\n",
      " [0.61500461 0.97063145 0.88457426 1.         0.79617986]\n",
      " [0.94868903 0.71505798 0.98139657 0.79617986 1.        ]]\n",
      "Các ngoại lệ trong tập dữ liệu:  (array([], dtype=int64), array([], dtype=int64))\n"
     ]
    }
   ],
   "source": [
    "# Your code here\n",
    "\n",
    "data = np.loadtxt('bai3.csv', delimiter=',', skiprows=1)\n",
    "\n",
    "data_mean = np.mean(data, axis=0)\n",
    "\n",
    "data_median = np.median(data, axis=0)\n",
    "\n",
    "data_std = np. std(data, axis=0)\n",
    "\n",
    "data_correlation = np.corrcoef(data, rowvar=False)\n",
    "\n",
    "z_scores = np.abs((data - data_mean) / data_std)\n",
    "outliers = np.where(z_scores > 3)\n",
    "\n",
    "print('Giá trị trung vị: ', data_median)\n",
    "print('Giá trị trung bình: ', data_mean)  \n",
    "print('Độ lệch chuẩn: ', data_std) \n",
    "print('Độ tương quan giữa các biến: ', data_correlation)\n",
    "print('Các ngoại lệ trong tập dữ liệu: ', outliers)"
   ]
  },
  {
   "cell_type": "markdown",
   "metadata": {
    "id": "ZX1eKlF805bM"
   },
   "source": [
    "# Bài 4: Thao tác với tensor\n",
    "Đề cho một tensor đại diện cho một hình ảnh thang độ xám. Thực hiện các thao tác sau:\n",
    "\n",
    "1. Reshape: Reshape tensor thành một hình dạng khác trong khi vẫn đảm bảo tổng số phần tử không đổi.\n",
    "2. Transpose: Transpose tensor dọc theo các trục được chỉ định.\n",
    "3. Slice: Trích xuất một tập hợp con của tensor bằng cách cắt dọc theo các kích thước được chỉ định.\n",
    "4. Concatenate: Concatenate nhiều tensor dọc theo các trục được chỉ định.\n",
    "5. Các phép toán theo phần tử: Thực hiện các phép toán theo phần tử như cộng, trừ, nhân và chia với các giá trị vô hướng hoặc các tensor khác.\n",
    "6. Hoạt động rút gọn: Thực hiện các hoạt động rút gọn như tính tổng, trung bình, tối thiểu và tối đa dọc theo các trục được chỉ định.\n",
    "7. Indexing: Truy cập các phần tử riêng lẻ hoặc các tensor phụ bằng cách sử dụng các chỉ số nguyên hoặc boolean mark.\n",
    "\n",
    "<details>\n",
    "  <summary>Hint</summary>\n",
    "\n",
    "  ```python\n",
    "    # 1. Reshape the tensor\n",
    "    reshaped_tensor = image_tensor.reshape(1, 9)\n",
    "\n",
    "    # 2. Transpose the tensor\n",
    "    transposed_tensor = image_tensor.T\n",
    "\n",
    "    # 3. Slice the tensor\n",
    "    sliced_tensor = image_tensor[:2, :2]\n",
    "\n",
    "    # 4. Concatenate tensors\n",
    "    concatenated_tensor = np.concatenate((image_tensor, image_tensor), axis=0)\n",
    "\n",
    "    # 5. Element-wise operations\n",
    "    added_tensor = image_tensor + 0.1\n",
    "    multiplied_tensor = image_tensor * 2\n",
    "\n",
    "    # 6. Reduction operations\n",
    "    sum_tensor = np.sum(image_tensor)\n",
    "    mean_tensor = np.mean(image_tensor, axis=0)\n",
    "    max_tensor = np.max(image_tensor, axis=1)\n",
    "\n",
    "    # 7. Indexing\n",
    "    element = image_tensor[1, 2]\n",
    "  ```\n",
    "</details>"
   ]
  },
  {
   "cell_type": "code",
   "execution_count": 14,
   "metadata": {
    "executionInfo": {
     "elapsed": 2,
     "status": "ok",
     "timestamp": 1711944428036,
     "user": {
      "displayName": "Nha Nguyen",
      "userId": "05581690424976052134"
     },
     "user_tz": -420
    },
    "id": "sKx_zUMw041d"
   },
   "outputs": [],
   "source": [
    "image_tensor = np.array([\n",
    "    [0.1, 0.2, 0.3],\n",
    "    [0.4, 0.5, 0.6],\n",
    "    [0.7, 0.8, 0.9]\n",
    "])"
   ]
  },
  {
   "cell_type": "code",
   "execution_count": 35,
   "metadata": {
    "id": "aDy3tPzby5RN"
   },
   "outputs": [
    {
     "name": "stdout",
     "output_type": "stream",
     "text": [
      "Reshape tensor thành một hình dạng khác [[0.1 0.2 0.3 0.4 0.5 0.6 0.7 0.8 0.9]]\n",
      "Transpose: \n",
      " [[0.1]\n",
      " [0.2]\n",
      " [0.3]\n",
      " [0.4]\n",
      " [0.5]\n",
      " [0.6]\n",
      " [0.7]\n",
      " [0.8]\n",
      " [0.9]]\n",
      "Trích xuất một tập hợp con của tensor \n",
      " [[0.2 0.3]\n",
      " [0.5 0.6]]\n",
      "Concatenate nhiều tensor \n",
      " [[0.1 0.2 0.3]\n",
      " [0.4 0.5 0.6]\n",
      " [0.7 0.8 0.9]\n",
      " [0.5 0.7 0.6]]\n",
      "Cộng với 1 giá trị vô hướng: \n",
      " [[2.1 2.2 2.3]\n",
      " [2.4 2.5 2.6]\n",
      " [2.7 2.8 2.9]]\n",
      "Trừ 2 vector: \n",
      " [[-0.4 -0.5 -0.3]\n",
      " [-0.1 -0.2  0. ]\n",
      " [ 0.2  0.1  0.3]]\n",
      "Tích với 1 giá trị vô hướng: \n",
      " [[0.3 0.6 0.9]\n",
      " [1.2 1.5 1.8]\n",
      " [2.1 2.4 2.7]]\n",
      "Chia 2 vector: \n",
      " [[0.2        0.28571429 0.5       ]\n",
      " [0.8        0.71428571 1.        ]\n",
      " [1.4        1.14285714 1.5       ]]\n",
      "Tổng hàng: \n",
      " [1.2 1.5 1.8]\n",
      "Trung bình cột: \n",
      " [0.2 0.5 0.8]\n",
      "Lớn nhất hàng: \n",
      " [0.7 0.8 0.9]\n",
      "Nhỏ nhất cột: \n",
      " [0.3 0.6 0.9]\n",
      "Truy cập phần tử với các hàng từ 0 đến 1 và cột từ 1 đến 2: \n",
      " [[0.2 0.3]\n",
      " [0.5 0.6]]\n",
      "Tensor phụ bằng boolean mask: \n",
      " [0.6 0.7 0.8 0.9]\n"
     ]
    }
   ],
   "source": [
    "# your code here\n",
    "\n",
    "reshaped_tensor = image_tensor.reshape(1, 9)\n",
    "print('Reshape tensor thành một hình dạng khác', reshaped_tensor)\n",
    "\n",
    "transpose_tensor = np.transpose(reshaped_tensor)\n",
    "print('Transpose: \\n', transpose_tensor)\n",
    "\n",
    "slice_tensor = image_tensor[:2, 1:3]\n",
    "print('Trích xuất một tập hợp con của tensor \\n', slice_tensor)\n",
    "\n",
    "image_tensor2 = np.array([[0.5, 0.7, 0.6]])\n",
    "concatenate_tensor = np.concatenate((image_tensor, image_tensor2), axis=0)\n",
    "print('Concatenate nhiều tensor \\n', concatenate_tensor)\n",
    "\n",
    "total_tensor = image_tensor + 2\n",
    "print('Cộng với 1 giá trị vô hướng: \\n', total_tensor)\n",
    "\n",
    "minus_tensor = image_tensor - image_tensor2\n",
    "print('Trừ 2 vector: \\n', minus_tensor)\n",
    "\n",
    "mul_tensor = np.multiply(image_tensor, 3)\n",
    "print('Tích với 1 giá trị vô hướng: \\n', mul_tensor)\n",
    "\n",
    "div_tensor = np.divide(image_tensor,image_tensor2)\n",
    "print('Chia 2 vector: \\n', div_tensor)\n",
    "\n",
    "sum_axis0 = np.sum(image_tensor, axis = 0)\n",
    "print('Tổng hàng: \\n', sum_axis0)\n",
    "\n",
    "mean_axis1 = np.mean(image_tensor, axis = 1)\n",
    "print('Trung bình cột: \\n', mean_axis1)\n",
    "\n",
    "max_axis0 = np.max(image_tensor, axis = 0)\n",
    "print('Lớn nhất hàng: \\n', max_axis0)\n",
    "\n",
    "min_axis1 = np.max(image_tensor, axis = 1)\n",
    "print('Nhỏ nhất cột: \\n', min_axis1)\n",
    "\n",
    "element = image_tensor[0:2, 1:3]\n",
    "print('Truy cập phần tử với các hàng từ 0 đến 1 và cột từ 1 đến 2: \\n', element)\n",
    "\n",
    "mask = image_tensor > 0.5\n",
    "sub_tensor = image_tensor[mask]\n",
    "print(\"Tensor phụ bằng boolean mask: \\n\", sub_tensor)"
   ]
  },
  {
   "cell_type": "code",
   "execution_count": null,
   "metadata": {},
   "outputs": [],
   "source": []
  }
 ],
 "metadata": {
  "colab": {
   "authorship_tag": "ABX9TyMk1q12/N28maJwPQwRv9wn",
   "provenance": []
  },
  "kernelspec": {
   "display_name": "Python 3 (ipykernel)",
   "language": "python",
   "name": "python3"
  },
  "language_info": {
   "codemirror_mode": {
    "name": "ipython",
    "version": 3
   },
   "file_extension": ".py",
   "mimetype": "text/x-python",
   "name": "python",
   "nbconvert_exporter": "python",
   "pygments_lexer": "ipython3",
   "version": "3.11.4"
  }
 },
 "nbformat": 4,
 "nbformat_minor": 1
}
