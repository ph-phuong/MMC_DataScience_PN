{
 "cells": [
  {
   "cell_type": "code",
   "execution_count": 1,
   "id": "5bf268ce",
   "metadata": {},
   "outputs": [],
   "source": [
    "import numpy as np"
   ]
  },
  {
   "cell_type": "markdown",
   "id": "c58ff661",
   "metadata": {},
   "source": [
    "1. Tạo mảng:\n",
    "\n",
    "Tạo mảng một chiều (1D) chứa 10 số nguyên ngẫu nhiên từ 0 đến 100. <br>\n",
    "Tạo mảng hai chiều (2D) chứa 5 hàng và 3 cột, với các giá trị được khởi tạo bằng 0.<br>\n",
    "Tạo mảng ba chiều (3D) chứa 2 khối 3x3x3, với các giá trị được khởi tạo bằng 1."
   ]
  },
  {
   "cell_type": "code",
   "execution_count": 9,
   "id": "c158b54c",
   "metadata": {},
   "outputs": [
    {
     "name": "stdout",
     "output_type": "stream",
     "text": [
      "[20 78  5 48 79 45 51 16 88 24 66]\n",
      "[[0. 0. 0.]\n",
      " [0. 0. 0.]\n",
      " [0. 0. 0.]\n",
      " [0. 0. 0.]\n",
      " [0. 0. 0.]]\n",
      "[[[[1. 1. 1.]\n",
      "   [1. 1. 1.]\n",
      "   [1. 1. 1.]]\n",
      "\n",
      "  [[1. 1. 1.]\n",
      "   [1. 1. 1.]\n",
      "   [1. 1. 1.]]\n",
      "\n",
      "  [[1. 1. 1.]\n",
      "   [1. 1. 1.]\n",
      "   [1. 1. 1.]]]\n",
      "\n",
      "\n",
      " [[[1. 1. 1.]\n",
      "   [1. 1. 1.]\n",
      "   [1. 1. 1.]]\n",
      "\n",
      "  [[1. 1. 1.]\n",
      "   [1. 1. 1.]\n",
      "   [1. 1. 1.]]\n",
      "\n",
      "  [[1. 1. 1.]\n",
      "   [1. 1. 1.]\n",
      "   [1. 1. 1.]]]]\n"
     ]
    }
   ],
   "source": [
    "arr_1D = np.random.randint(0,100, (11))\n",
    "arr_2D = np.zeros([5,3])\n",
    "arr_3D = np.ones((2,3,3,3))\n",
    "\n",
    "print(arr_1D)\n",
    "print(arr_2D)\n",
    "print(arr_3D)"
   ]
  },
  {
   "cell_type": "code",
   "execution_count": null,
   "id": "21a29754",
   "metadata": {},
   "outputs": [],
   "source": []
  },
  {
   "cell_type": "markdown",
   "id": "f61b7904",
   "metadata": {},
   "source": [
    "2. Truy cập phần tử:\n",
    "\n",
    "Truy cập và in ra phần tử đầu tiên, phần tử cuối cùng của mảng 1D.<br>\n",
    "Truy cập và in ra phần tử tại vị trí (2, 1) của mảng 2D.<br>\n",
    "Truy cập và thay đổi giá trị của phần tử tại vị trí (1, 1, 1) của mảng 3D.<br>\n",
    "Chuyển đổi mảng 2D sang mảng 1D và ngược lại."
   ]
  },
  {
   "cell_type": "code",
   "execution_count": null,
   "id": "3ca04100",
   "metadata": {},
   "outputs": [],
   "source": []
  },
  {
   "cell_type": "code",
   "execution_count": null,
   "id": "ff27f058",
   "metadata": {},
   "outputs": [],
   "source": []
  }
 ],
 "metadata": {
  "kernelspec": {
   "display_name": "Python 3 (ipykernel)",
   "language": "python",
   "name": "python3"
  },
  "language_info": {
   "codemirror_mode": {
    "name": "ipython",
    "version": 3
   },
   "file_extension": ".py",
   "mimetype": "text/x-python",
   "name": "python",
   "nbconvert_exporter": "python",
   "pygments_lexer": "ipython3",
   "version": "3.11.4"
  }
 },
 "nbformat": 4,
 "nbformat_minor": 5
}
