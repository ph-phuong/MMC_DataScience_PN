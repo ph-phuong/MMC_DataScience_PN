{
 "cells": [
  {
   "cell_type": "markdown",
   "id": "4fdb21d4",
   "metadata": {},
   "source": [
    "## Exercise 1"
   ]
  },
  {
   "cell_type": "markdown",
   "id": "e2bada44",
   "metadata": {},
   "source": [
    "### Question 1:\n",
    "Viết chương trình nhập vào một số thực. Đơn vị tính cho số này là centimet (cm). Hãy in ra số tương đương tính bằng foot (số thực, có 2 số lẻ thập phân) và inch (số thực, có 2 số lẻ thập phân). Với 1 inch = 2.54 cm và 1 foot = 12 inches"
   ]
  },
  {
   "cell_type": "code",
   "execution_count": 1,
   "id": "fcb74712",
   "metadata": {},
   "outputs": [
    {
     "name": "stdout",
     "output_type": "stream",
     "text": [
      "Nhập số cm: 2.5687\n",
      "2.57 cm bằng  78.29 foot\n"
     ]
    }
   ],
   "source": [
    "cm = float(input('Nhập số cm: '))\n",
    "foot = cm * 2.54 * 12\n",
    "print(f'{cm:.2f} cm bằng  {foot:.2f} foot')"
   ]
  },
  {
   "cell_type": "markdown",
   "id": "b40b4f12",
   "metadata": {},
   "source": [
    "### Question 2:\n",
    "Viết chương trình nhập vào số giây từ 0 tới 68399, đổi số giây này thành dạng [giờ:phút:giây], mỗi thành phần là một số nguyên có 2 chữ số.<br>\n",
    "Ví dụ: 02:11:05\n"
   ]
  },
  {
   "cell_type": "code",
   "execution_count": 1,
   "id": "911298e2",
   "metadata": {},
   "outputs": [
    {
     "name": "stdout",
     "output_type": "stream",
     "text": [
      "Nhập số giây từ 0 -> 68399: 570004\n",
      "Nhập sai. Vui lòng nhập từ 0 -> 68399\n",
      "Nhập số giây từ 0 -> 68399: 4878\n",
      "Bằng  01:21:18\n"
     ]
    }
   ],
   "source": [
    "giay = int(input('Nhập số giây từ 0 -> 68399: '))\n",
    "while (giay < 0 or giay > 68399) :\n",
    "    print('Nhập sai. Vui lòng nhập từ 0 -> 68399')\n",
    "    giay = int(input('Nhập số giây từ 0 -> 68399: '))\n",
    "    \n",
    "so_gio = int(giay / 3600)\n",
    "so_phut = int((giay - so_gio*3600) / 60)\n",
    "so_giay = int(giay - so_gio*3600 - so_phut*60)\n",
    "\n",
    "print(f'Bằng  {so_gio:0>2d}:{so_phut:0>2d}:{so_giay:0>2d}')\n"
   ]
  },
  {
   "cell_type": "markdown",
   "id": "858cafa5",
   "metadata": {},
   "source": [
    "### Question 3:\n",
    "Viết chương trình nhập vào 4 số nguyên.\n",
    "Hiển thị ra số lớn nhất và nhỏ nhất<br>\n",
    "Ví dụ:\n",
    "nhập vào 4 số 1,2,3,4 thì kết quả là:\n",
    "Số lớn nhất là: 4\n",
    "Số nhỏ nhất là: 1\n"
   ]
  },
  {
   "cell_type": "code",
   "execution_count": 2,
   "id": "da9d8696",
   "metadata": {},
   "outputs": [
    {
     "name": "stdout",
     "output_type": "stream",
     "text": [
      "Nhập số nguyên: 4\n",
      "Nhập số nguyên: 2\n",
      "Nhập số nguyên: 7\n",
      "Nhập số nguyên: 1\n",
      "4 số nguyên là:  [4, 2, 7, 1]\n",
      "Số lớn nhất:  7\n",
      "Số nhỏ nhất:  1\n"
     ]
    }
   ],
   "source": [
    "lst =[]\n",
    "for i in range(4) :\n",
    "    a1 = int(input('Nhập số nguyên: '))\n",
    "    lst.append(a1)\n",
    "\n",
    "print('4 số nguyên là: ', lst)\n",
    "print('Số lớn nhất: ', max(lst))\n",
    "print('Số nhỏ nhất: ', min(lst))"
   ]
  },
  {
   "cell_type": "markdown",
   "id": "01ac34bf",
   "metadata": {},
   "source": [
    "### Question 4:\n",
    "Nhập vào hai số tự nhiên a và b. Tính hiệu của hai số đó.\n",
    "Nếu hiệu số lớn hơn 0 thì in ra dòng chữ [Số thứ nhất lớn hơn số thứ hai].\n",
    "Nếu hiệu số nhỏ hơn 0 thì in ra dòng chữ [Số thứ nhất nhỏ hơn số thứ hai].\n"
   ]
  },
  {
   "cell_type": "code",
   "execution_count": 5,
   "id": "60d2f963",
   "metadata": {
    "scrolled": true
   },
   "outputs": [
    {
     "name": "stdout",
     "output_type": "stream",
     "text": [
      "Nhập số nguyên a: 1\n",
      "Nhập số nguyên b : 6\n",
      "Số thứ nhất nhỏ hơn số thứ hai\n"
     ]
    }
   ],
   "source": [
    "a2 = int(input('Nhập số nguyên a: '))\n",
    "b1 = int(input('Nhập số nguyên b : '))\n",
    "\n",
    "if (a2 - b1) > 0:\n",
    "    print('Số thứ nhất lớn hơn số thứ hai')\n",
    "else:\n",
    "    print('Số thứ nhất nhỏ hơn số thứ hai')"
   ]
  },
  {
   "cell_type": "markdown",
   "id": "71c792bc",
   "metadata": {},
   "source": [
    "### Question 5:\n",
    "Nhập vào 2 số tự nhiên a và b. Kiểm tra xem a có chia hết cho b không\n"
   ]
  },
  {
   "cell_type": "code",
   "execution_count": 7,
   "id": "7a149fb2",
   "metadata": {},
   "outputs": [
    {
     "name": "stdout",
     "output_type": "stream",
     "text": [
      "Nhập số nguyên a: 4\n",
      "Nhập số nguyên b : 3\n",
      "a không chia hết cho b\n"
     ]
    }
   ],
   "source": [
    "a3 = int(input('Nhập số nguyên a: '))\n",
    "b2 = int(input('Nhập số nguyên b : '))\n",
    "\n",
    "if a3%b2 == 0:\n",
    "    print('a chia hết cho b')\n",
    "else:\n",
    "    print('a không chia hết cho b')"
   ]
  },
  {
   "cell_type": "markdown",
   "id": "72d170c2",
   "metadata": {},
   "source": [
    "### Question 6:\n",
    "Xếp loại sinh viên theo các quy luật dưới đây:<br><br>\n",
    "*Nếu điểm >= 9.0 - Loại xuất sắc <br>\n",
    "*Nếu 8.0<= điểm < 9.0 - Loại giỏi <br>\n",
    "*Nếu 7.0<= điểm < 8.0 - Loại khá <br>\n",
    "*Nếu 6.0 <= điểm < 7.0 - Loại trung bình khá <br>\n",
    "*Nếu 5.0 <= điểm < 6.0 - Loại trung bình <br>\n",
    "*Nếu điểm < 5.0 - Loại kém <br><br>\n",
    "Với điểm = ( (điểm toán)*2 + điểm lý + điểm hóa )/4<br><br>\n",
    "Viết Chương trình:<br>\n",
    "a. Nhập vào điểm 3 môn học<br>\n",
    "b. Tính điểm trung bình<br>\n",
    "c. Xác định học lực của học sinh dựa trên điểm trung bình<br>\n",
    "d. Hiển thị học lực của học sinh<br>\n"
   ]
  },
  {
   "cell_type": "code",
   "execution_count": 14,
   "id": "e0f5cf10",
   "metadata": {},
   "outputs": [
    {
     "name": "stdout",
     "output_type": "stream",
     "text": [
      "Nhập điểm môn Toán: 6\n",
      "Nhập điểm môn Lý : 6\n",
      "Nhập điểm môn Hóa : 6\n",
      "Điểm trung bình là: 6.00\n",
      "Loại trung bình khá\n"
     ]
    }
   ],
   "source": [
    "toan = int(input('Nhập điểm môn Toán: '))\n",
    "ly = int(input('Nhập điểm môn Lý : '))\n",
    "hoa = int(input('Nhập điểm môn Hóa : '))\n",
    "\n",
    "diem_tb = ((toan*2) + ly + hoa)/4\n",
    "print(f'Điểm trung bình là: {diem_tb:.2f}')\n",
    "\n",
    "if diem_tb >= 9.0 :\n",
    "    print('Loại xuất sắc')\n",
    "elif diem_tb>=8.0 and diem_tb<9.0:\n",
    "    print('Loạn giỏi')\n",
    "elif diem_tb>=7 and diem_tb<8.0:\n",
    "    print('Loại khá')\n",
    "elif diem_tb>=6 and diem_tb<7.0:\n",
    "    print('Loại trung bình khá')\n",
    "elif diem_tb>=5 and diem_tb<6.0:\n",
    "    print('Loại trung bình')\n",
    "else:\n",
    "    print('Loại kém')"
   ]
  },
  {
   "cell_type": "markdown",
   "id": "f8bdcf15",
   "metadata": {},
   "source": [
    "## Exercise 2:"
   ]
  },
  {
   "cell_type": "markdown",
   "id": "734d7b50",
   "metadata": {},
   "source": [
    "### Question 1:\n",
    "Hãy viết chương trình tính tổng các chữ số của một số nguyên bất kỳ.<br>\n",
    "Ví dụ: Số 8545604 có tổng các chữ số là: 8+5+4+5+6+0+4= 32\n"
   ]
  },
  {
   "cell_type": "code",
   "execution_count": 32,
   "id": "00cf6ff7",
   "metadata": {},
   "outputs": [
    {
     "name": "stdout",
     "output_type": "stream",
     "text": [
      "Nhập số nguyên a: 8545604\n",
      "Tổng các chữ số trong a là:  32\n"
     ]
    }
   ],
   "source": [
    "lst1 = []\n",
    "a4 = int(input('Nhập số nguyên a: '))\n",
    "\n",
    "while a4 >= 10:\n",
    "    lst1.append(int(a4%10))\n",
    "    a4 = int(a4 / 10)\n",
    "lst1.append(a4)\n",
    "\n",
    "print('Tổng các chữ số trong a là: ', sum(lst1))"
   ]
  },
  {
   "cell_type": "markdown",
   "id": "7f13fc64",
   "metadata": {},
   "source": [
    "### Question 2:\n",
    "Viết chương trình phân tích một số nguyên thành các thừa số nguyên tố<br>\n",
    "Ví dụ: Số 28 được phân tích thành 2 x 2 x 7\n"
   ]
  },
  {
   "cell_type": "code",
   "execution_count": 17,
   "id": "1325b8b8",
   "metadata": {},
   "outputs": [
    {
     "name": "stdout",
     "output_type": "stream",
     "text": [
      "Nhập số nguyên a: 10\n",
      "Các thừa số nguyên tố là: [2, 5]\n"
     ]
    }
   ],
   "source": [
    "import math\n",
    "\n",
    "def so_nguyen_to(a):\n",
    "    if a <= 1:\n",
    "        return False\n",
    "    for i in range(2, int(math.sqrt(a))+1):\n",
    "        if a % i == 0:\n",
    "            return False\n",
    "    return True\n",
    "\n",
    "a5 = int(input('Nhập số nguyên a: '))\n",
    "lst2 =[]\n",
    "\n",
    "while so_nguyen_to(a5) == False:\n",
    "    if a5 % 2 == 0:\n",
    "        lst2.append(2)\n",
    "        a5 //= 2\n",
    "    elif a5 % 3 == 0:\n",
    "        lst2.append(3)\n",
    "        a5 //= 3\n",
    "    else:\n",
    "        lst2.append(a5)\n",
    "        break\n",
    "lst2.append(a5)\n",
    "\n",
    "print(f'Các thừa số nguyên tố là: {lst2}')"
   ]
  },
  {
   "cell_type": "markdown",
   "id": "cbc9e0fd",
   "metadata": {},
   "source": [
    "### Question 3:\n",
    "Viết chương trình liệt kê tất cả các số nguyên tố nhỏ hơn n cho trước\n"
   ]
  },
  {
   "cell_type": "code",
   "execution_count": 15,
   "id": "5c1857f5",
   "metadata": {},
   "outputs": [
    {
     "name": "stdout",
     "output_type": "stream",
     "text": [
      "Nhập số nguyên n: 1\n",
      "Nhập sai. Số nguyên lớn hơn 1\n",
      "Nhập số nguyên n: -7\n",
      "Nhập sai. Số nguyên lớn hơn 1\n",
      "Nhập số nguyên n: 9\n",
      "Số nguyên tố nhỏ hơn 9 là : [2, 3, 5, 7]\n"
     ]
    }
   ],
   "source": [
    "n1 = int(input('Nhập số nguyên n: '))\n",
    "while n1 <=1:\n",
    "    print('Nhập sai. Số nguyên lớn hơn 1')\n",
    "    n1 = int(input('Nhập số nguyên n: '))\n",
    "    \n",
    "lst3 =[]\n",
    "\n",
    "for i in range(2, n1):\n",
    "    if so_nguyen_to(i) == True:\n",
    "        lst3.append(i)\n",
    "        i += 1\n",
    "        \n",
    "print(f'Số nguyên tố nhỏ hơn {n1} là : {lst3}')"
   ]
  },
  {
   "cell_type": "markdown",
   "id": "dd82a4ba",
   "metadata": {},
   "source": [
    "### Question 4:\n",
    "Viết chương trình liệt kê n số nguyên tố đầu tiên.\n"
   ]
  },
  {
   "cell_type": "code",
   "execution_count": 7,
   "id": "111abc42",
   "metadata": {},
   "outputs": [
    {
     "name": "stdout",
     "output_type": "stream",
     "text": [
      "Nhập số nguyên n: 3\n",
      "3 số nguyên tố đầu tiên [2, 3, 5]\n",
      "3 số nguyên tố đầu tiên [2, 3, 5]\n"
     ]
    }
   ],
   "source": [
    "#Cách 1:\n",
    "n2 = int(input('Nhập số nguyên n: '))\n",
    "while n2 <=1:\n",
    "    print('Nhập sai. Số nguyên lớn hơn 1')\n",
    "    n2 = int(input('Nhập số nguyên n: '))\n",
    "    \n",
    "lst4=[]\n",
    "\n",
    "i = 1\n",
    "sum = 0\n",
    "while sum < n2:\n",
    "    i += 1\n",
    "    if so_nguyen_to(i):\n",
    "        lst4.append(i)\n",
    "        sum += 1\n",
    "    else:\n",
    "        sum = sum\n",
    "        \n",
    "print(f'{n2} số nguyên tố đầu tiên {lst4}')\n",
    "\n",
    "#Cách 2:\n",
    "def nguyen_to_dau_tien(n):\n",
    "    lst =[]\n",
    "    i = 2\n",
    "    while len(lst) < n:\n",
    "        if so_nguyen_to(i):\n",
    "            lst.append(i)\n",
    "        i += 1\n",
    "    return lst\n",
    "\n",
    "print(f'{n2} số nguyên tố đầu tiên {nguyen_to_dau_tien(n2)}')\n",
    "            "
   ]
  },
  {
   "cell_type": "markdown",
   "id": "7ea72643",
   "metadata": {},
   "source": [
    "### Question 5:\n",
    "Viết chương trình tìm ước số chung lớn nhất, bội số chung nhỏ nhất của hai số tự nhiên a và b.\n"
   ]
  },
  {
   "cell_type": "code",
   "execution_count": 11,
   "id": "4ce743fb",
   "metadata": {},
   "outputs": [
    {
     "name": "stdout",
     "output_type": "stream",
     "text": [
      "Nhập số nguyên a: 24\n",
      "Nhập số nguyên b : 18\n",
      "Ước chung lớn nhất của 24 và 18 là 6\n",
      "Bội chung nhỏ nhất của 24 và 18 là 72.0\n"
     ]
    }
   ],
   "source": [
    "a4 = int(input('Nhập số nguyên a: '))\n",
    "b3 = int(input('Nhập số nguyên b : '))\n",
    "\n",
    "def uoc_chung_lon_nhat(a, b):\n",
    "    if a % b == 0:\n",
    "        return b\n",
    "    else:\n",
    "        return (uoc_chung_lon_nhat(b, a%b))\n",
    "    \n",
    "def uscln(a, b):\n",
    "    while b != 0:\n",
    "        a, b = b, a % b\n",
    "    return a\n",
    "\n",
    "def boi_chung_nho_nhat(a, b):\n",
    "    return (a*b) / uoc_chung_lon_nhat(a, b)\n",
    "\n",
    "print(f'Ước chung lớn nhất của {a4} và {b3} là {uoc_chung_lon_nhat(a4, b3)}')\n",
    "print(f'Bội chung nhỏ nhất của {a4} và {b3} là {boi_chung_nho_nhat(a4, b3)}')"
   ]
  },
  {
   "cell_type": "markdown",
   "id": "1cdf12de",
   "metadata": {},
   "source": [
    "### Question 6:\n",
    "Dãy số Fibonacci được định nghĩa như sau:\n",
    "\n",
    "F0 =1, F1 = 1; Fn = Fn-1 + Fn-2 với n>=2. <br>\n",
    "\n",
    "Hãy viết chương trình tìm số Fibonacci thứ n\n"
   ]
  },
  {
   "cell_type": "code",
   "execution_count": 10,
   "id": "2f5b00a3",
   "metadata": {},
   "outputs": [
    {
     "name": "stdout",
     "output_type": "stream",
     "text": [
      "Nhập số n: 3\n"
     ]
    },
    {
     "data": {
      "text/plain": [
       "2"
      ]
     },
     "execution_count": 10,
     "metadata": {},
     "output_type": "execute_result"
    }
   ],
   "source": [
    "n3 = int(input('Nhập số n: '))\n",
    "\n",
    "def fibonacci(n):\n",
    "    if n <= 0:\n",
    "        print('Không có số Fibonacci nhỏ hơn hoặc bằng 0')\n",
    "    elif n == 1 or n == 2:\n",
    "        return 1\n",
    "    else:\n",
    "        f0, f1 = 1, 1\n",
    "        for i in range(2, n):\n",
    "            f0, f1 = f1, f0 + f1\n",
    "        return f1\n",
    "\n",
    "fibonacci(n3)"
   ]
  },
  {
   "cell_type": "markdown",
   "id": "77a15d94",
   "metadata": {},
   "source": [
    "### Question 7:\n",
    "Nhập một số tự nhiên n.\n",
    "Hãy liệt kê các số Fibonaci nhỏ hơn n là số nguyên tố\n"
   ]
  },
  {
   "cell_type": "code",
   "execution_count": 19,
   "id": "ff2d0c0d",
   "metadata": {},
   "outputs": [
    {
     "name": "stdout",
     "output_type": "stream",
     "text": [
      "Nhập số n: 10\n",
      "[2, 3, 5]\n"
     ]
    }
   ],
   "source": [
    "n3 = int(input('Nhập số n: '))\n",
    "\n",
    "def fibonacci_nho_n(n):\n",
    "    if n <= 0:\n",
    "        print('Không có số Fibonacci nhỏ hơn hoặc bằng 0')      \n",
    "    else:\n",
    "        fibon = [1, 1]\n",
    "        fibon_next = 0\n",
    "        while fibon_next < n:\n",
    "            fibon_next = fibon[-1] + fibon[-2]\n",
    "            if fibon_next < n:\n",
    "                fibon.append(fibon_next)\n",
    "        return fibon\n",
    "\n",
    "lst_fib_nguyen_to =[]\n",
    "    \n",
    "for i in fibonacci_nho_n(n3):\n",
    "    if so_nguyen_to(i) == True:\n",
    "        lst_fib_nguyen_to.append(i)\n",
    "\n",
    "print(lst_fib_nguyen_to)"
   ]
  },
  {
   "cell_type": "markdown",
   "id": "3c04adf3",
   "metadata": {},
   "source": [
    "### Question 8:\n",
    "Viết chương trình nhập một số nguyên dương n và thực hiện các chức năng sau:<br>\n",
    "a) Tính tổng các chữ số của n. <br>\n",
    "b) Phân tích n thành các thừa số nguyên tố.\n"
   ]
  },
  {
   "cell_type": "code",
   "execution_count": 34,
   "id": "765f8745",
   "metadata": {},
   "outputs": [
    {
     "name": "stdout",
     "output_type": "stream",
     "text": [
      "Nhập số nguyên dương n: 28\n",
      "Tổng các chữ số của n:  10\n",
      "Các thừa số nguyên tố:  [2, 2, 7]\n"
     ]
    }
   ],
   "source": [
    "def tong_chu_so(n):\n",
    "    lst = []\n",
    "\n",
    "    while n >= 10:\n",
    "        lst.append(int(n%10))\n",
    "        n = int(n / 10)\n",
    "    lst.append(n)\n",
    "    return sum(lst)\n",
    "\n",
    "def thua_so_nguyen_to(n):\n",
    "    lst =[]\n",
    "\n",
    "    while so_nguyen_to(n) == False:\n",
    "        if n % 2 == 0:\n",
    "            lst.append(2)\n",
    "            n //= 2\n",
    "        elif n % 3 == 0:\n",
    "            lst.append(3)\n",
    "            n //= 3\n",
    "        else:\n",
    "            lst.append(n)\n",
    "            break\n",
    "    lst.append(n)\n",
    "    return lst\n",
    " \n",
    "            \n",
    "n4 = int(input('Nhập số nguyên dương n: '))\n",
    "print('Tổng các chữ số của n: ', tong_chu_so(n4))\n",
    "print('Các thừa số nguyên tố: ', thua_so_nguyen_to(n4))"
   ]
  },
  {
   "cell_type": "markdown",
   "id": "58812def",
   "metadata": {},
   "source": [
    "### Question 9:\n",
    "Viết chương trình nhập một số nguyên dương n và thực hiện các chức năng sau: <br>\n",
    "a) Liệt kê các ước số của n. Có bao nhiêu ước số.<br>\n",
    "b) Liệt kê các ước số là nguyên tố của n.\n"
   ]
  },
  {
   "cell_type": "code",
   "execution_count": 38,
   "id": "5fea5e25",
   "metadata": {},
   "outputs": [
    {
     "name": "stdout",
     "output_type": "stream",
     "text": [
      "Nhập số nguyên dương n: 10\n",
      "Ước số của n là: [1, 2, 5, 10] và có 4 ước số\n",
      "Các ước số là số nguyên tố [2, 5]\n"
     ]
    }
   ],
   "source": [
    "def uoc_so(n):\n",
    "    lst =[]\n",
    "    count = 0\n",
    "    for i in range(1, n+1):\n",
    "        if n % i == 0:\n",
    "            lst.append(i)\n",
    "            count += 1\n",
    "    return lst, count\n",
    "\n",
    "def uoc_so_nguyen_to(lst):\n",
    "    lst_new = []\n",
    "    for i in lst:\n",
    "        if so_nguyen_to(i) == True:\n",
    "            lst_new.append(i)\n",
    "    return lst_new\n",
    "\n",
    "\n",
    "n5 = int(input('Nhập số nguyên dương n: ')) \n",
    "lst5, count = uoc_so(n5)\n",
    "print(f'Ước số của n là: {lst5} và có {count} ước số')\n",
    "print('Các ước số là số nguyên tố', uoc_so_nguyen_to(lst5))"
   ]
  },
  {
   "cell_type": "markdown",
   "id": "ae6a6a77",
   "metadata": {},
   "source": [
    "### Question 10:\n",
    "Viết chương trình thực hiện chuẩn hoá một xâu ký tự nhập từ bàn phím (loại bỏ các dấu cách thừa, chuyển ký tự đầu mỗi từ thành chữ hoa, các ký tự khác thành chữ thường)\n"
   ]
  },
  {
   "cell_type": "code",
   "execution_count": 51,
   "id": "49810eff",
   "metadata": {},
   "outputs": [
    {
     "name": "stdout",
     "output_type": "stream",
     "text": [
      "Nhập ký tự n: dAy    la\n",
      "Day la\n"
     ]
    }
   ],
   "source": [
    "def chuan_ky_tu(chuoi):\n",
    "    new_chuoi = chuoi[0].upper()\n",
    "    for i in range(1,len(chuoi)):\n",
    "        new_chuoi = new_chuoi + chuoi[i].lower()\n",
    "    \n",
    "    new_chuoi = \" \".join(new_chuoi.split())\n",
    "    return new_chuoi\n",
    "\n",
    "n6 = str(input('Nhập ký tự n: ')) \n",
    "print(chuan_ky_tu(n6))"
   ]
  },
  {
   "cell_type": "markdown",
   "id": "e2f49595",
   "metadata": {},
   "source": [
    "### Question 11:\n",
    "Viết chương trình thực hiện nhập một xâu ký tự <br>\n",
    "a) Tìm từ dài nhất trong xâu đó.<br>\n",
    "b) Từ đó xuất hiện ở vị trí nào?<br>\n",
    "(Chú ý. nếu có nhiều từ có độ dài giống nhau thì chọn từ đầu tiên tìm thấy).\n"
   ]
  },
  {
   "cell_type": "code",
   "execution_count": 9,
   "id": "6b2e89d1",
   "metadata": {},
   "outputs": [
    {
     "name": "stdout",
     "output_type": "stream",
     "text": [
      "Nhập chuỗi ký tự n: this is apple\n",
      "Từ apple có độ dài 5 ký tự ở vị trí 8\n"
     ]
    }
   ],
   "source": [
    "def tim_tu_dai_nhat(n):\n",
    "    tu_dai_nhat = ''\n",
    "    dai_nhat = 0\n",
    "    lst_n = n.split()\n",
    "    \n",
    "    for tu in lst_n:\n",
    "        if len(tu) > dai_nhat:\n",
    "            tu_dai_nhat = tu\n",
    "            dai_nhat = len(tu)\n",
    "            vi_tri = n.find(tu_dai_nhat)\n",
    "    return tu_dai_nhat, dai_nhat, vi_tri\n",
    "\n",
    "n7 = str(input('Nhập chuỗi ký tự n: '))\n",
    "tu_dai_nhat, dai_nhat, vi_tri = tim_tu_dai_nhat(n7)\n",
    "print(f'Từ {tu_dai_nhat} có độ dài {dai_nhat} ký tự ở vị trí {vi_tri}')"
   ]
  },
  {
   "cell_type": "code",
   "execution_count": 10,
   "id": "6c9caa57",
   "metadata": {},
   "outputs": [
    {
     "data": {
      "text/plain": [
       "'enumerate'"
      ]
     },
     "execution_count": 10,
     "metadata": {},
     "output_type": "execute_result"
    }
   ],
   "source": [
    "# Có thể không sử dụng vòng lặp để tìm từ có độ dài lớn nhất\n",
    "lst10 = ['this', 'is', 'enumerate']\n",
    "max(lst10, key=len)"
   ]
  },
  {
   "cell_type": "code",
   "execution_count": 5,
   "id": "d5d0cf74",
   "metadata": {},
   "outputs": [
    {
     "data": {
      "text/plain": [
       "3"
      ]
     },
     "execution_count": 5,
     "metadata": {},
     "output_type": "execute_result"
    }
   ],
   "source": [
    "s = ['day', 'la']\n",
    "len(s[0])"
   ]
  },
  {
   "cell_type": "markdown",
   "id": "bb3548c9",
   "metadata": {},
   "source": [
    "## Exercise 3"
   ]
  },
  {
   "attachments": {
    "image.png": {
     "image/png": "[encoded data removed]"
    }
   },
   "cell_type": "markdown",
   "id": "1780a702",
   "metadata": {},
   "source": [
    "Question 1: \n",
    "Sử dụng for, while, do while để cho ra kết quả a, b, c, d như ảnh\n",
    "![image.png](attachment:image.png)"
   ]
  },
  {
   "cell_type": "code",
   "execution_count": 29,
   "id": "87ea1c0e",
   "metadata": {},
   "outputs": [
    {
     "name": "stdout",
     "output_type": "stream",
     "text": [
      "Hình a_for\n",
      "*\n",
      "**\n",
      "***\n",
      "****\n",
      "*****\n",
      "******\n",
      "*******\n",
      "********\n",
      "Hình b_for\n",
      "********\n",
      "*******\n",
      "******\n",
      "*****\n",
      "****\n",
      "***\n",
      "**\n",
      "*\n",
      "Hình c_for\n",
      "********\n",
      " *******\n",
      "  ******\n",
      "   *****\n",
      "    ****\n",
      "     ***\n",
      "      **\n",
      "       *\n",
      "Hình d_for\n",
      "       *\n",
      "      **\n",
      "     ***\n",
      "    ****\n",
      "   *****\n",
      "  ******\n",
      " *******\n",
      "********\n"
     ]
    }
   ],
   "source": [
    "#Hình a\n",
    "print('Hình a_for')\n",
    "for i in range(1,9):\n",
    "    a = \"*\" * i\n",
    "    print(a)\n",
    "    \n",
    "#Hình b\n",
    "print('Hình b_for')\n",
    "for i in range(8,0,-1):\n",
    "    a = \"*\" * i\n",
    "    print(a)\n",
    "\n",
    "#Hình c\n",
    "print('Hình c_for')\n",
    "for i in range(8,0,-1):\n",
    "    a = \"*\" * i\n",
    "    print(f'{a:>8}')\n",
    "\n",
    "#Hình d\n",
    "print('Hình d_for')\n",
    "for i in range(1,9):\n",
    "    a = \"*\" * i\n",
    "    print(f'{a:>8}')"
   ]
  },
  {
   "cell_type": "code",
   "execution_count": 4,
   "id": "92be8257",
   "metadata": {},
   "outputs": [
    {
     "name": "stdout",
     "output_type": "stream",
     "text": [
      "Hình a_while\n",
      "*\n",
      "**\n",
      "***\n",
      "****\n",
      "*****\n",
      "******\n",
      "*******\n",
      "********\n",
      "Hình b_while\n",
      "********\n",
      "*******\n",
      "******\n",
      "*****\n",
      "****\n",
      "***\n",
      "**\n",
      "*\n",
      "Hình c_while\n",
      "********\n",
      " *******\n",
      "  ******\n",
      "   *****\n",
      "    ****\n",
      "     ***\n",
      "      **\n",
      "       *\n",
      "Hình d_while\n",
      "       *\n",
      "      **\n",
      "     ***\n",
      "    ****\n",
      "   *****\n",
      "  ******\n",
      " *******\n",
      "********\n"
     ]
    }
   ],
   "source": [
    "#Hình a\n",
    "print('Hình a_while')\n",
    "i = 1\n",
    "while i < 9 :\n",
    "    a = \"*\" * i\n",
    "    print(a)\n",
    "    i += 1\n",
    "    \n",
    "#Hình b\n",
    "print('Hình b_while')\n",
    "i = 8\n",
    "while i >= 1 :\n",
    "    a = \"*\" * i\n",
    "    print(a)\n",
    "    i -= 1\n",
    "    \n",
    "#Hình c\n",
    "print('Hình c_while')\n",
    "i = 8\n",
    "while i >= 1:\n",
    "    a = \"*\" * i\n",
    "    print(f'{a:>8}')\n",
    "    i -= 1\n",
    "\n",
    "#Hình d\n",
    "print('Hình d_while')\n",
    "i = 1\n",
    "while i < 9:\n",
    "    a = \"*\" * i\n",
    "    print(f'{a:>8}')\n",
    "    i += 1"
   ]
  },
  {
   "cell_type": "markdown",
   "id": "f3d2add4",
   "metadata": {},
   "source": [
    "### Question 2:\n",
    "Viết chương trình tính n! với n là số tự nhiên không âm nhập vào từ bàn phím. Trong đó: 0! = 1 n! = 1.2.3...n\n"
   ]
  },
  {
   "cell_type": "code",
   "execution_count": 15,
   "id": "40997288",
   "metadata": {},
   "outputs": [
    {
     "name": "stdout",
     "output_type": "stream",
     "text": [
      "Nhập số n: 4\n"
     ]
    },
    {
     "data": {
      "text/plain": [
       "24"
      ]
     },
     "execution_count": 15,
     "metadata": {},
     "output_type": "execute_result"
    }
   ],
   "source": [
    "n8 = int(input('Nhập số n: '))\n",
    "while n8 < 0:\n",
    "    print('Nhập sai. Số không âm')\n",
    "    n8 = int(input('Nhập số n: '))\n",
    "    \n",
    "def giai_thua(n):\n",
    "    giai_thua = 1\n",
    "    if n == 0:\n",
    "        giai_thua = 1\n",
    "    elif n > 0:\n",
    "        for i in range(1, n+1):\n",
    "            giai_thua *= i\n",
    "    return giai_thua\n",
    "\n",
    "giai_thua(n8)"
   ]
  },
  {
   "cell_type": "code",
   "execution_count": null,
   "id": "d6a9e277",
   "metadata": {},
   "outputs": [],
   "source": []
  }
 ],
 "metadata": {
  "kernelspec": {
   "display_name": "Python 3 (ipykernel)",
   "language": "python",
   "name": "python3"
  },
  "language_info": {
   "codemirror_mode": {
    "name": "ipython",
    "version": 3
   },
   "file_extension": ".py",
   "mimetype": "text/x-python",
   "name": "python",
   "nbconvert_exporter": "python",
   "pygments_lexer": "ipython3",
   "version": "3.11.4"
  }
 },
 "nbformat": 4,
 "nbformat_minor": 5
}
