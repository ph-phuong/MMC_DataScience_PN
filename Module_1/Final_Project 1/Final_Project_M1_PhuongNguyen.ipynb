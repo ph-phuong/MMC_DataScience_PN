{
 "cells": [
  {
   "cell_type": "markdown",
   "id": "de7cd4dc",
   "metadata": {
    "id": "de7cd4dc"
   },
   "source": [
    "## Task 1:"
   ]
  },
  {
   "cell_type": "markdown",
   "id": "5b069f6b",
   "metadata": {
    "id": "5b069f6b"
   },
   "source": [
    "1.1. Tạo một chương trình Python mới có tên “lastname_firstname_grade_the_exams.py.”\n",
    "\n",
    "1.2. Viết hàm cho phép người dùng nhập tên của một tệp và truy cập đọc.\n",
    "\n",
    "1.3. Nếu tệp tồn tại, bạn có thể in ra một thông báo xác nhận. Nếu tệp không tồn tại, hiển thị không thể tìm thấy tệp và yêu cầu nhập lại.\n",
    "\n",
    "1.4. Sử dụng try/except để thực hiện việc này (đừng chỉ sử dụng một loạt câu lệnh “if”):"
   ]
  },
  {
   "cell_type": "code",
   "execution_count": 1,
   "id": "92a84678",
   "metadata": {
    "executionInfo": {
     "elapsed": 21,
     "status": "ok",
     "timestamp": 1713404558369,
     "user": {
      "displayName": "Phuong Nguyen",
      "userId": "11974806599025701743"
     },
     "user_tz": -420
    },
    "id": "92a84678"
   },
   "outputs": [],
   "source": [
    "import re\n",
    "import os\n",
    "import numpy as np\n",
    "import pandas as pd"
   ]
  },
  {
   "cell_type": "code",
   "execution_count": 2,
   "id": "a4e75e44",
   "metadata": {
    "colab": {
     "base_uri": "https://localhost:8080/"
    },
    "executionInfo": {
     "elapsed": 7649,
     "status": "ok",
     "timestamp": 1713404574784,
     "user": {
      "displayName": "Phuong Nguyen",
      "userId": "11974806599025701743"
     },
     "user_tz": -420
    },
    "id": "a4e75e44",
    "outputId": "11291b5c-a773-43f9-e4ad-d0999082e7a0"
   },
   "outputs": [
    {
     "name": "stdout",
     "output_type": "stream",
     "text": [
      "Enter a filename: class2\n",
      "Successfully opened class2.txt\n"
     ]
    },
    {
     "data": {
      "text/plain": [
       "'class2.txt'"
      ]
     },
     "execution_count": 2,
     "metadata": {},
     "output_type": "execute_result"
    }
   ],
   "source": [
    "def access():\n",
    "    while True:\n",
    "        try:\n",
    "            filename = input('Enter a filename: ') + '.txt'\n",
    "            with open(filename, 'r') as f:\n",
    "                FileContent = f.read()\n",
    "        except:\n",
    "            print(\"Sorry, I can't find this filename\")\n",
    "        else:\n",
    "            print(f'Successfully opened {filename}')\n",
    "            return filename\n",
    "\n",
    "filename = access()\n",
    "filename"
   ]
  },
  {
   "cell_type": "markdown",
   "id": "f0ed8b49",
   "metadata": {
    "id": "f0ed8b49"
   },
   "source": [
    "## Task 2"
   ]
  },
  {
   "cell_type": "markdown",
   "id": "b86d069a",
   "metadata": {
    "id": "b86d069a"
   },
   "source": [
    "Tiếp theo, bạn sẽ cần phân tích dữ liệu có trong tệp bạn vừa mở để đảm bảo rằng nó ở đúng định dạng. Mỗi tệp dữ liệu chứa một loạt câu trả lời của học sinh ở định dạng sau:\n",
    "\n",
    "N12345678,B,A,D,D,C,B,D,A,C,C,D,B,A,B,A,C,B,D,A,C,A,A,B,D,D\n",
    "\n",
    "hoặc\n",
    "\n",
    "N12345678,B,A,D,D,C,B,D,A,C,C,D,B,A,B,A,C,B,D,A,C,A,A,B,D,D,A,B,C,D,E\n",
    "\n",
    "Nhiệm vụ của bạn cho phần này của chương trình là thực hiện như sau:\n",
    "\n",
    "2.1. Báo cáo tổng số dòng dữ liệu được lưu trữ trong tệp.\n",
    "\n",
    "2.2. Báo cáo tổng số dòng dữ liệu không hợp lệ trong tệp.\n",
    "\n",
    "Một dòng hợp lệ chứa danh sách 26 giá trị được phân tách bằng dấu phẩy N# cho một học sinh là mục đầu tiên trên dòng. Nó phải chứa ký tự “N” theo sau là 8 ký tự số. \n",
    "\n",
    "2.3. Nếu một dòng dữ liệu không hợp lệ, bạn nên báo cáo cho người dùng bằng cách in ra một thông báo lỗi.\n",
    "\n",
    "Gợi ý: Sử dụng phương pháp split để tách dữ liệu ra khỏi tệp."
   ]
  },
  {
   "cell_type": "code",
   "execution_count": 3,
   "id": "55fc9f44",
   "metadata": {
    "id": "55fc9f44",
    "outputId": "06aef8fd-27eb-4628-8666-ecfc560713ec"
   },
   "outputs": [
    {
     "name": "stdout",
     "output_type": "stream",
     "text": [
      "**** ANALYZING ****\n",
      "Invalid line of data: does not contain exactly 26 values:\n",
      "N00000023,,A,D,D,C,B,D,A,C,C,,C,,B,A,C,B,D,A,C,A,A\n",
      "N0000002,B,A,D,D,C,B,D,A,C,D,D,D,A,,A,C,D,,A,C,A,A,B,D,D\n",
      "NA0000027,B,A,D,D,,B,,A,C,B,D,B,A,,A,C,B,D,A,,A,A,B,D,D\n",
      "N00000035,B,A,D,D,B,B,,A,C,,D,B,A,B,A,A,B,D,A,C,A,C,B,D,D,A,A\n",
      "\n",
      "\n",
      "**** REPORT ****\n",
      "Valid Lines: 21 values\n",
      "Invalid Lines: 4 values\n"
     ]
    }
   ],
   "source": [
    "def analyzing(filename):\n",
    "    valid_lines = []                                   # Tạo danh sách phần tử hợp lệ\n",
    "    invalid_lines = []                                 # Tạo danh sách phần tử không hợp lệ\n",
    "    \n",
    "    with open(filename, 'r') as f:  \n",
    "        for line in f:\n",
    "            lines = line.strip().split(',')\n",
    "\n",
    "            count_element = len(lines) == 26          # Tạo Biến số lượng phần tử trong danh sách là 26\n",
    "\n",
    "            # Tạo biến có giá trị đầu là N + 8 ký tự số khác None\n",
    "            is_valid_first_element = re.match(r'^N\\d{8}$', lines[0].strip()) is not None \n",
    "\n",
    "            # Kiểm tra số lượng phần tử và phần tử đầu tiên thỏa điều kiện và để vào 2 danh sách\n",
    "            if count_element and is_valid_first_element:\n",
    "                valid_lines.append(line.strip())\n",
    "            else:\n",
    "                invalid_lines.append(line.strip())\n",
    "                \n",
    "    print('**** ANALYZING ****')\n",
    "    if len(invalid_lines) != 0:\n",
    "        print('Invalid line of data: does not contain exactly 26 values:')\n",
    "        for line in invalid_lines:\n",
    "            print(line)\n",
    "    else:\n",
    "        print('No errors found!')\n",
    "\n",
    "    print('\\n')\n",
    "    print('**** REPORT ****')\n",
    "    print(\"Valid Lines:\", len(valid_lines), 'values')\n",
    "    print(\"Invalid Lines:\", len(invalid_lines), 'values')\n",
    "\n",
    "\n",
    "analyzing(filename)"
   ]
  },
  {
   "cell_type": "markdown",
   "id": "f11ec673",
   "metadata": {
    "id": "9b59fa9d",
    "outputId": "038ba86a-5d65-4c6f-d4e6-410b616e72b3"
   },
   "source": [
    "## Task 3"
   ]
  },
  {
   "cell_type": "markdown",
   "id": "cffd2cab",
   "metadata": {
    "id": "7ba95811",
    "outputId": "33a98524-5929-41a8-9e6f-4072594f1f2d"
   },
   "source": [
    "Tiếp theo, bạn sẽ viết chương trình để chấm điểm các bài thi cho một phần nhất định. Kỳ thi gồm 25 câu hỏi, trắc nghiệm. Đây là một chuỗi đại diện cho các câu trả lời:\n",
    "\n",
    "answer_key = \"B,A,D,D,C,B,D,A,C,C,D,B,A,B,A,C,B,D,A,C,A,A,B,D,D\"\n",
    "\n",
    "Chương trình sẽ sử dụng những câu trả lời này để tính điểm cho mỗi dòng dữ liệu hợp lệ. Điểm có thể được tính như sau:\n",
    "\n",
    "+ 4 điểm cho mỗi câu trả lời đúng\n",
    "+ 0 điểm cho mỗi câu trả lời bị bỏ qua\n",
    "+ -1 điểm cho mỗi câu trả lời sai\n",
    "\n",
    "Chúng ta cũng cần thống kê các yêu cầu sau:\n",
    "\n",
    "Đếm số lượng học sinh đạt điểm cao (>80).\n",
    "\n",
    "Điểm trung bình.\n",
    "\n",
    "Điểm cao nhất.\n",
    "\n",
    "Điểm thấp nhất.\n",
    "\n",
    "Miền giá trị của điểm (cao nhất trừ thấp nhất).\n",
    "\n",
    "Giá trị trung vị (Sắp xếp các điểm theo thứ tự tăng dần. Nếu # học sinh là số lẻ, bạn có thể lấy giá trị nằm ở giữa của tất cả các điểm (tức là [0, 50, 100] — trung vị là 50). Nếu # học sinh là chẵn bạn có thể tính giá trị trung vị bằng cách lấy giá trị trung bình của hai giá trị giữa (tức là [0, 50, 60, 100] — giá trị trung vị là 55)).\n",
    "\n",
    "Trả về các câu hỏi bị học sinh bỏ qua nhiều nhất theo thứ tự: số thứ tự câu hỏi - số lượng học sinh bỏ qua - tỉ lệ bị bỏ qua (nếu có cùng số lượng cho nhiều câu hỏi bị bỏ thì phải liệt kê ra đầy đủ).\n",
    "\n",
    "Trả về các câu hỏi bị học sinh sai qua nhiều nhất theo thứ tự: số thứ tự câu hỏi - số lượng học sinh trả lời sai - tỉ lệ bị sai (nếu có cùng số lượng cho nhiều câu hỏi bị sai thì phải liệt kê ra đầy đủ).\n",
    "\n",
    "Lưu ý: các giá trị số thực làm tròn 3 chữ số thập phân"
   ]
  },
  {
   "cell_type": "code",
   "execution_count": 4,
   "id": "0a65c740",
   "metadata": {
    "id": "0a65c740"
   },
   "outputs": [],
   "source": [
    "answer_keys = ['B','A','D','D','C','B','D','A','C','C','D','B','A','B','A','C','B','D','A','C','A','A','B','D','D']"
   ]
  },
  {
   "cell_type": "code",
   "execution_count": 5,
   "id": "96eb6298",
   "metadata": {
    "id": "96eb6298"
   },
   "outputs": [
    {
     "name": "stdout",
     "output_type": "stream",
     "text": [
      "Total student of high scores:  7\n",
      "Mean (average) score:  77.68\n",
      "Highest score:  100\n",
      "Lowest score::  66\n",
      "Range of scores:  34\n",
      "Median score::  76\n",
      "Question that most people skip:  [(22, 6, '0.24'), (12, 4, '0.16'), (18, 4, '0.16'), (19, 4, '0.16'), (1, 3, '0.12'), (7, 3, '0.12'), (14, 3, '0.12'), (16, 3, '0.12'), (2, 2, '0.08'), (4, 2, '0.08'), (6, 2, '0.08'), (11, 2, '0.08'), (13, 2, '0.08'), (21, 2, '0.08'), (24, 2, '0.08'), (25, 2, '0.08'), (3, 1, '0.04'), (5, 1, '0.04'), (8, 1, '0.04'), (9, 1, '0.04'), (10, 1, '0.04'), (15, 1, '0.04'), (20, 1, '0.04'), (23, 1, '0.04'), (17, 0, '0.0')]\n",
      "Question that most people answer incorrectly:  [(10, 5, '0.2'), (18, 5, '0.2'), (1, 4, '0.16'), (6, 4, '0.16'), (8, 4, '0.16'), (12, 4, '0.16'), (16, 4, '0.16'), (17, 4, '0.16'), (7, 3, '0.12'), (21, 3, '0.12'), (22, 3, '0.12'), (24, 3, '0.12'), (2, 2, '0.08'), (3, 2, '0.08'), (5, 2, '0.08'), (9, 2, '0.08'), (11, 2, '0.08'), (14, 2, '0.08'), (15, 2, '0.08'), (19, 2, '0.08'), (20, 2, '0.08'), (4, 1, '0.04'), (25, 1, '0.04'), (13, 0, '0.0'), (23, 0, '0.0')]\n"
     ]
    }
   ],
   "source": [
    "def find_median_grade(grades, numbers_student):\n",
    "    grades.sort()\n",
    "    mid_index = numbers_student // 2\n",
    "    if numbers_student % 2 == 0:\n",
    "        median_grade = (grades[mid_index - 1] + grades[mid_index]) / 2\n",
    "    else:\n",
    "        median_grade = grades[mid_index]\n",
    "    return median_grade  \n",
    "\n",
    "def find_above_grade(grades, find_grade):\n",
    "    count_above_grade = 0\n",
    "    for grade in grades:\n",
    "        if grade >= find_grade:\n",
    "            count_above_grade += 1\n",
    "    return count_above_grade\n",
    "\n",
    "def find_skipped_answers(skipped_answers, numbers_student):\n",
    "    most_skipped_questions = sorted(\n",
    "        ((idx + 1, count, f\"{count / numbers_student}\") for idx, count in enumerate(skipped_answers)),\n",
    "        key=lambda x: x[1], reverse=True\n",
    "                                    )\n",
    "    return most_skipped_questions\n",
    "                                  \n",
    "def find_incorrect_answers(incorrect_answers, numbers_student):                           \n",
    "    most_incorrect_questions = sorted(\n",
    "        ((idx + 1, count, f\"{count / numbers_student}\") for idx, count in enumerate(incorrect_answers)),\n",
    "        key=lambda x: x[1], reverse=True\n",
    "                                    ) \n",
    "    return most_incorrect_questions\n",
    "\n",
    "def calculate_grade(filename, answer_keys):\n",
    "    results = []                                # Tạo Danh sách gồm mã thí sinh và điểm\n",
    "    grades = []                                 # Tạo Danh sách điểm từng câu hỏi\n",
    "    skipped_answers = [0] * len(answer_keys)    # Tạo Danh sách rỗng câu trả lời bị bỏ qua\n",
    "    incorrect_answers = [0] * len(answer_keys)  # Tạo Danh sách rỗng câu trả lời sai\n",
    "    \n",
    "    with open (filename, 'r') as f:\n",
    "        for line in f:\n",
    "            line = line.strip().split(',')\n",
    "            \n",
    "            student_id = line[0]                # Xác nhận giá trị đầu tiên là mã thí sinh\n",
    "            student_answers = line[1:]          # Xác nhận từ giá trị thứ 2 trở về sau là câu trả lời của thí sinh\n",
    "            grade = 0\n",
    "            \n",
    "            # So sánh câu trả lời của thí sinh với đáp án\n",
    "            for index, (student_answer, correct_answer) in enumerate(zip(student_answers, answer_keys)):\n",
    "                if student_answer == correct_answer:\n",
    "                    grade += 4\n",
    "                elif student_answer == '':\n",
    "                    skipped_answers[index] += 1\n",
    "                else:\n",
    "                    grade -= 1\n",
    "                    incorrect_answers[index] += 1\n",
    "                        \n",
    "            results.append((student_id, grade))   # Nối tuple Danh sách mã thí sinh + điểm\n",
    "            grades.append(grade)                  # Nối Danh sách Điểm\n",
    " \n",
    "    return results, grades, student_answers, skipped_answers, incorrect_answers\n",
    "\n",
    "def report(filename, answer_keys):\n",
    "    results, grades, student_answers, skipped_answers, incorrect_answers = calculate_grade(filename, answer_keys)\n",
    "    \n",
    "    total_grade = sum(grades)    \n",
    "    numbers_student = len(results)  \n",
    "    \n",
    "    average_grade = total_grade / numbers_student \n",
    "    max_grade = max(grades)\n",
    "    min_grade = min(grades)\n",
    "    median_grade = find_median_grade(grades, numbers_student)\n",
    "    count_above_80 = find_above_grade(grades, 80)\n",
    "    most_skipped_questions = find_skipped_answers(skipped_answers, numbers_student)\n",
    "    most_incorrect_questions = find_incorrect_answers(incorrect_answers, numbers_student)\n",
    "        \n",
    "    print('Total student of high scores: ', count_above_80)\n",
    "    print('Mean (average) score: ', average_grade)\n",
    "    print('Highest score: ', max_grade)\n",
    "    print('Lowest score:: ', min_grade)\n",
    "    print('Range of scores: ', max_grade - min_grade)\n",
    "    print('Median score:: ', median_grade)\n",
    "    print('Question that most people skip: ', most_skipped_questions)\n",
    "    print('Question that most people answer incorrectly: ', most_incorrect_questions)\n",
    "\n",
    "    \n",
    "report = report(filename, answer_keys)"
   ]
  },
  {
   "cell_type": "markdown",
   "id": "5437ce35",
   "metadata": {
    "id": "6f189663"
   },
   "source": [
    "## Task 4"
   ]
  },
  {
   "cell_type": "markdown",
   "id": "770bd4f6",
   "metadata": {},
   "source": [
    "Cuối cùng, yêu cầu chương trình là tạo một tệp “kết quả” chứa các kết quả chi tiết cho từng học sinh trong lớp. Mỗi dòng của tệp này phải chứa số ID của học sinh, dấu phẩy và sau đó là điểm của họ. Bạn nên đặt tên tệp này dựa trên tên tệp gốc được cung cấp — ví dụ: nếu người dùng chọn “class1.txt”, bạn nên lưu trữ kết quả trong tệp có tên “class1_grades.txt”."
   ]
  },
  {
   "cell_type": "code",
   "execution_count": 6,
   "id": "3bb2c2dd",
   "metadata": {},
   "outputs": [],
   "source": [
    "def get_output_filename(input_file):\n",
    "    base_name, _ = os.path.splitext(input_file)\n",
    "    return f\"{base_name}_grades.txt\"\n",
    "\n",
    "\n",
    "def save_file(filename):\n",
    "    output_file_name = get_output_filename(filename)\n",
    "    results, grades, student_answers, skipped_answers, incorrect_answers = calculate_grade(filename, answer_keys)\n",
    "    \n",
    "    with open(output_file_name, 'w') as out_file:\n",
    "        for student_id, grade in results:\n",
    "            out_file.write(f\"{student_id},{grade}\\n\")\n",
    "\n",
    "save_file(filename)           "
   ]
  },
  {
   "cell_type": "markdown",
   "id": "3cf4bf7e",
   "metadata": {},
   "source": [
    "## Task 5"
   ]
  },
  {
   "cell_type": "markdown",
   "id": "0f306c09",
   "metadata": {},
   "source": [
    "Chỉ sử dụng pandas và numpy, triển khai task 1 đến task 4."
   ]
  },
  {
   "cell_type": "code",
   "execution_count": 31,
   "id": "185ccc9b",
   "metadata": {},
   "outputs": [
    {
     "name": "stdout",
     "output_type": "stream",
     "text": [
      "Enter a filename: class2\n",
      "Successfully opened class2.txt\n"
     ]
    },
    {
     "data": {
      "text/html": [
       "<div>\n",
       "<style scoped>\n",
       "    .dataframe tbody tr th:only-of-type {\n",
       "        vertical-align: middle;\n",
       "    }\n",
       "\n",
       "    .dataframe tbody tr th {\n",
       "        vertical-align: top;\n",
       "    }\n",
       "\n",
       "    .dataframe thead th {\n",
       "        text-align: right;\n",
       "    }\n",
       "</style>\n",
       "<table border=\"1\" class=\"dataframe\">\n",
       "  <thead>\n",
       "    <tr style=\"text-align: right;\">\n",
       "      <th></th>\n",
       "      <th>0</th>\n",
       "    </tr>\n",
       "  </thead>\n",
       "  <tbody>\n",
       "    <tr>\n",
       "      <th>0</th>\n",
       "      <td>N00000021,B,A,C,D,C,C,D,D,C,C,D,B,,B,A,C,B,,A,...</td>\n",
       "    </tr>\n",
       "    <tr>\n",
       "      <th>1</th>\n",
       "      <td>N00000022,B,A,D,A,C,B,D,D,C,C,D,B,A,B,A,,B,A,A...</td>\n",
       "    </tr>\n",
       "    <tr>\n",
       "      <th>2</th>\n",
       "      <td>N00000023,,A,D,D,C,B,D,A,C,C,,C,,B,A,C,B,D,A,C...</td>\n",
       "    </tr>\n",
       "    <tr>\n",
       "      <th>3</th>\n",
       "      <td>N00000024,C,C,D,D,C,B,,A,C,C,D,B,A,B,,C,B,D,A,...</td>\n",
       "    </tr>\n",
       "    <tr>\n",
       "      <th>4</th>\n",
       "      <td>N0000002,B,A,D,D,C,B,D,A,C,D,D,D,A,,A,C,D,,A,C...</td>\n",
       "    </tr>\n",
       "    <tr>\n",
       "      <th>5</th>\n",
       "      <td>N00000026,B,C,D,D,C,D,B,A,C,D,D,,A,B,A,C,B,D,,...</td>\n",
       "    </tr>\n",
       "    <tr>\n",
       "      <th>6</th>\n",
       "      <td>NA0000027,B,A,D,D,,B,,A,C,B,D,B,A,,A,C,B,D,A,,...</td>\n",
       "    </tr>\n",
       "    <tr>\n",
       "      <th>7</th>\n",
       "      <td>N00000028,B,A,D,D,D,B,D,A,C,C,,,A,B,A,,B,D,C,C...</td>\n",
       "    </tr>\n",
       "    <tr>\n",
       "      <th>8</th>\n",
       "      <td>N00000029,B,A,D,D,C,A,D,A,C,C,D,B,A,B,A,C,B,,,...</td>\n",
       "    </tr>\n",
       "    <tr>\n",
       "      <th>9</th>\n",
       "      <td>N00000030,A,A,D,D,C,B,D,,C,C,D,B,A,B,A,C,B,B,A...</td>\n",
       "    </tr>\n",
       "    <tr>\n",
       "      <th>10</th>\n",
       "      <td>N00000031,B,,D,D,C,B,D,A,A,C,D,C,A,B,A,C,B,C,A...</td>\n",
       "    </tr>\n",
       "    <tr>\n",
       "      <th>11</th>\n",
       "      <td>N00000032,B,A,D,D,C,B,D,A,C,C,D,,A,A,A,C,B,D,A...</td>\n",
       "    </tr>\n",
       "    <tr>\n",
       "      <th>12</th>\n",
       "      <td>N00000033,B,A,D,D,C,,D,A,C,B,D,B,A,B,C,C,C,D,A...</td>\n",
       "    </tr>\n",
       "    <tr>\n",
       "      <th>13</th>\n",
       "      <td>N00000034,B,,D,,C,B,A,A,C,C,D,B,A,,A,C,B,A,B,C...</td>\n",
       "    </tr>\n",
       "    <tr>\n",
       "      <th>14</th>\n",
       "      <td>N00000035,B,A,D,D,B,B,,A,C,,D,B,A,B,A,A,B,D,A,...</td>\n",
       "    </tr>\n",
       "    <tr>\n",
       "      <th>15</th>\n",
       "      <td>N00000036,B,A,D,D,C,B,D,A,C,B,A,C,A,B,A,C,B,D,...</td>\n",
       "    </tr>\n",
       "    <tr>\n",
       "      <th>16</th>\n",
       "      <td>N00000037,B,A,D,D,C,,D,A,C,C,D,,A,B,A,A,B,D,A,...</td>\n",
       "    </tr>\n",
       "    <tr>\n",
       "      <th>17</th>\n",
       "      <td>N00000038,,A,D,,C,B,D,A,A,C,D,B,A,B,A,C,B,D,,C...</td>\n",
       "    </tr>\n",
       "    <tr>\n",
       "      <th>18</th>\n",
       "      <td>N00000039,B,A,D,D,C,A,B,A,C,C,D,B,A,D,A,,C,D,A...</td>\n",
       "    </tr>\n",
       "    <tr>\n",
       "      <th>19</th>\n",
       "      <td>N00000040,B,A,,D,C,B,D,D,C,C,C,B,A,B,A,C,A,,A,...</td>\n",
       "    </tr>\n",
       "    <tr>\n",
       "      <th>20</th>\n",
       "      <td>N00000041,,A,D,D,C,B,D,A,C,C,D,B,A,B,A,C,B,D,A...</td>\n",
       "    </tr>\n",
       "    <tr>\n",
       "      <th>21</th>\n",
       "      <td>N00000042,B,A,D,D,C,B,D,A,C,C,D,B,A,B,A,C,B,D,...</td>\n",
       "    </tr>\n",
       "    <tr>\n",
       "      <th>22</th>\n",
       "      <td>N00000043,C,A,D,D,C,B,D,A,C,C,D,B,A,B,C,C,B,D,...</td>\n",
       "    </tr>\n",
       "    <tr>\n",
       "      <th>23</th>\n",
       "      <td>N00000044,B,A,D,D,C,B,D,A,C,C,D,B,A,B,A,A,B,D,...</td>\n",
       "    </tr>\n",
       "    <tr>\n",
       "      <th>24</th>\n",
       "      <td>N00000045,C,A,A,D,C,B,D,C,,C,D,B,A,B,A,B,B,A,,...</td>\n",
       "    </tr>\n",
       "  </tbody>\n",
       "</table>\n",
       "</div>"
      ],
      "text/plain": [
       "                                                    0\n",
       "0   N00000021,B,A,C,D,C,C,D,D,C,C,D,B,,B,A,C,B,,A,...\n",
       "1   N00000022,B,A,D,A,C,B,D,D,C,C,D,B,A,B,A,,B,A,A...\n",
       "2   N00000023,,A,D,D,C,B,D,A,C,C,,C,,B,A,C,B,D,A,C...\n",
       "3   N00000024,C,C,D,D,C,B,,A,C,C,D,B,A,B,,C,B,D,A,...\n",
       "4   N0000002,B,A,D,D,C,B,D,A,C,D,D,D,A,,A,C,D,,A,C...\n",
       "5   N00000026,B,C,D,D,C,D,B,A,C,D,D,,A,B,A,C,B,D,,...\n",
       "6   NA0000027,B,A,D,D,,B,,A,C,B,D,B,A,,A,C,B,D,A,,...\n",
       "7   N00000028,B,A,D,D,D,B,D,A,C,C,,,A,B,A,,B,D,C,C...\n",
       "8   N00000029,B,A,D,D,C,A,D,A,C,C,D,B,A,B,A,C,B,,,...\n",
       "9   N00000030,A,A,D,D,C,B,D,,C,C,D,B,A,B,A,C,B,B,A...\n",
       "10  N00000031,B,,D,D,C,B,D,A,A,C,D,C,A,B,A,C,B,C,A...\n",
       "11  N00000032,B,A,D,D,C,B,D,A,C,C,D,,A,A,A,C,B,D,A...\n",
       "12  N00000033,B,A,D,D,C,,D,A,C,B,D,B,A,B,C,C,C,D,A...\n",
       "13  N00000034,B,,D,,C,B,A,A,C,C,D,B,A,,A,C,B,A,B,C...\n",
       "14  N00000035,B,A,D,D,B,B,,A,C,,D,B,A,B,A,A,B,D,A,...\n",
       "15  N00000036,B,A,D,D,C,B,D,A,C,B,A,C,A,B,A,C,B,D,...\n",
       "16  N00000037,B,A,D,D,C,,D,A,C,C,D,,A,B,A,A,B,D,A,...\n",
       "17  N00000038,,A,D,,C,B,D,A,A,C,D,B,A,B,A,C,B,D,,C...\n",
       "18  N00000039,B,A,D,D,C,A,B,A,C,C,D,B,A,D,A,,C,D,A...\n",
       "19  N00000040,B,A,,D,C,B,D,D,C,C,C,B,A,B,A,C,A,,A,...\n",
       "20  N00000041,,A,D,D,C,B,D,A,C,C,D,B,A,B,A,C,B,D,A...\n",
       "21  N00000042,B,A,D,D,C,B,D,A,C,C,D,B,A,B,A,C,B,D,...\n",
       "22  N00000043,C,A,D,D,C,B,D,A,C,C,D,B,A,B,C,C,B,D,...\n",
       "23  N00000044,B,A,D,D,C,B,D,A,C,C,D,B,A,B,A,A,B,D,...\n",
       "24  N00000045,C,A,A,D,C,B,D,C,,C,D,B,A,B,A,B,B,A,,..."
      ]
     },
     "execution_count": 31,
     "metadata": {},
     "output_type": "execute_result"
    }
   ],
   "source": [
    "# Task 1\n",
    "\n",
    "def access_pd():\n",
    "    while True:\n",
    "        try:\n",
    "            file_name = input(\"Enter a filename: \") + '.txt'\n",
    "            df = pd.read_csv(file_name, header=None, delimiter='\\t')\n",
    "        except FileNotFoundError:\n",
    "            print(\"Sorry, I can't find this filename\")\n",
    "            return None\n",
    "        else:\n",
    "            print(f'Successfully opened {file_name}')\n",
    "            return df\n",
    "\n",
    "filename = access_pd()\n",
    "filename"
   ]
  },
  {
   "cell_type": "code",
   "execution_count": 35,
   "id": "7824a5c8",
   "metadata": {},
   "outputs": [
    {
     "name": "stdout",
     "output_type": "stream",
     "text": [
      "line ['N00000021', 'B', 'A', 'C', 'D', 'C', 'C', 'D', 'D', 'C', 'C', 'D', 'B', '', 'B', 'A', 'C', 'B', '', 'A', 'D', 'A', 'A', 'B', 'D', '']\n"
     ]
    },
    {
     "ename": "NameError",
     "evalue": "name 'count' is not defined",
     "output_type": "error",
     "traceback": [
      "\u001b[1;31m---------------------------------------------------------------------------\u001b[0m",
      "\u001b[1;31mNameError\u001b[0m                                 Traceback (most recent call last)",
      "Cell \u001b[1;32mIn[35], line 31\u001b[0m\n\u001b[0;32m     28\u001b[0m     \u001b[38;5;28mprint\u001b[39m(\u001b[38;5;124m'\u001b[39m\u001b[38;5;124mTotal valid lines of data: \u001b[39m\u001b[38;5;124m'\u001b[39m, valid_rows)\n\u001b[0;32m     29\u001b[0m     \u001b[38;5;28mprint\u001b[39m(\u001b[38;5;124m'\u001b[39m\u001b[38;5;124mTotal invalid lines of data: \u001b[39m\u001b[38;5;124m'\u001b[39m, invalid_rows)\n\u001b[1;32m---> 31\u001b[0m \u001b[43manalyzing_pd\u001b[49m\u001b[43m(\u001b[49m\u001b[43mfilename\u001b[49m\u001b[43m)\u001b[49m\n",
      "Cell \u001b[1;32mIn[35], line 21\u001b[0m, in \u001b[0;36manalyzing_pd\u001b[1;34m(filename)\u001b[0m\n\u001b[0;32m     18\u001b[0m         valid_rows \u001b[38;5;241m+\u001b[39m\u001b[38;5;241m=\u001b[39m \u001b[38;5;241m1\u001b[39m\n\u001b[0;32m     20\u001b[0m     \u001b[38;5;28mprint\u001b[39m(\u001b[38;5;124m'\u001b[39m\u001b[38;5;124mline\u001b[39m\u001b[38;5;124m'\u001b[39m, line)\n\u001b[1;32m---> 21\u001b[0m     \u001b[38;5;28mprint\u001b[39m(\u001b[38;5;124m'\u001b[39m\u001b[38;5;124mcount\u001b[39m\u001b[38;5;124m'\u001b[39m, \u001b[43mcount\u001b[49m(row))\n\u001b[0;32m     24\u001b[0m \u001b[38;5;66;03m#print('**** ANALYZING ****')\u001b[39;00m\n\u001b[0;32m     25\u001b[0m \n\u001b[0;32m     26\u001b[0m \n\u001b[0;32m     27\u001b[0m \u001b[38;5;66;03m#print('**** REPORT ****')\u001b[39;00m\n\u001b[0;32m     28\u001b[0m \u001b[38;5;28mprint\u001b[39m(\u001b[38;5;124m'\u001b[39m\u001b[38;5;124mTotal valid lines of data: \u001b[39m\u001b[38;5;124m'\u001b[39m, valid_rows)\n",
      "\u001b[1;31mNameError\u001b[0m: name 'count' is not defined"
     ]
    }
   ],
   "source": [
    "# Task 2\n",
    "\n",
    "def analyzing_pd(filename):\n",
    "    valid_rows = 0\n",
    "    invalid_rows = 0\n",
    "    \n",
    "    for index, row in filename.iterrows():\n",
    "        line = row[0].split(',')\n",
    "        if len(row) != 26:  # Kiểm tra xem mỗi dòng có đúng 26 giá trị hay không\n",
    "            #print(f\"Invalid data at line {index+1}: Incorrect number of values\")\n",
    "            invalid_rows += 1\n",
    "        \n",
    "        student_id = row[0][:9]\n",
    "        if not isinstance(student_id, str) or not student_id.startswith('N') or not student_id[1:].isdigit() or len(student_id) != 9:\n",
    "            #print(f\"Invalid data at line {index+1}: Invalid student ID format\")\n",
    "            invalid_rows += 1\n",
    "        else:\n",
    "            valid_rows += 1\n",
    "        \n",
    "        print('line', line)\n",
    "        print('count', count(row))\n",
    "        \n",
    "        \n",
    "    #print('**** ANALYZING ****')\n",
    "    \n",
    "    \n",
    "    #print('**** REPORT ****')\n",
    "    print('Total valid lines of data: ', valid_rows)\n",
    "    print('Total invalid lines of data: ', invalid_rows)\n",
    "    \n",
    "analyzing_pd(filename)"
   ]
  },
  {
   "cell_type": "code",
   "execution_count": null,
   "id": "56f992b1",
   "metadata": {},
   "outputs": [],
   "source": []
  },
  {
   "cell_type": "code",
   "execution_count": 37,
   "id": "9e9bfa74",
   "metadata": {
    "id": "9e9bfa74"
   },
   "outputs": [
    {
     "name": "stdout",
     "output_type": "stream",
     "text": [
      "           0  1  2  3  4  5  6  7  8  9   ... 18 19 20 21 22    23    24  \\\n",
      "0   N00000021  B  A  C  D  C  C  D  D  C  ...     A  D  A  A     B     D   \n",
      "1   N00000022  B  A  D  A  C  B  D  D  C  ...  A  A  C  A  A     B     A   \n",
      "2   N00000023     A  D  D  C  B  D  A  C  ...  D  A  C  A  A  None  None   \n",
      "3   N00000024  C  C  D  D  C  B     A  C  ...  D  A  C  A  B     B         \n",
      "4    N0000002  B  A  D  D  C  B  D  A  C  ...     A  C  A  A     B     D   \n",
      "5   N00000026  B  C  D  D  C  D  B  A  C  ...  D     C  A  A     B     D   \n",
      "6   NA0000027  B  A  D  D     B     A  C  ...  D  A     A  A     B     D   \n",
      "7   N00000028  B  A  D  D  D  B  D  A  C  ...  D  C  C  A  A     B     C   \n",
      "8   N00000029  B  A  D  D  C  A  D  A  C  ...        C  A  A     B     D   \n",
      "9   N00000030  A  A  D  D  C  B  D     C  ...  B  A  C  A        B     D   \n",
      "10  N00000031  B     D  D  C  B  D  A  A  ...  C  A  C  C  A     B     D   \n",
      "11  N00000032  B  A  D  D  C  B  D  A  C  ...  D  A  C     A     B     D   \n",
      "12  N00000033  B  A  D  D  C     D  A  C  ...  D  A  C  A        B     D   \n",
      "13  N00000034  B     D     C  B  A  A  C  ...  A  B  C  A        B     D   \n",
      "14  N00000035  B  A  D  D  B  B     A  C  ...  D  A  C  A  C     B     D   \n",
      "15  N00000036  B  A  D  D  C  B  D  A  C  ...  D  A  C  A  A     B         \n",
      "16  N00000037  B  A  D  D  C     D  A  C  ...  D  A  C                 D   \n",
      "17  N00000038     A  D     C  B  D  A  A  ...  D     C  A  D     B     D   \n",
      "18  N00000039  B  A  D  D  C  A  B  A  C  ...  D  A  B  A  A     B     A   \n",
      "19  N00000040  B  A     D  C  B  D  D  C  ...     A  C  A        B     D   \n",
      "20  N00000041     A  D  D  C  B  D  A  C  ...  D  A  C  B  A     B     D   \n",
      "21  N00000042  B  A  D  D  C  B  D  A  C  ...  D  A  C  A  A     B     D   \n",
      "22  N00000043  C  A  D  D  C  B  D  A  C  ...  D  A  C  A        B     D   \n",
      "23  N00000044  B  A  D  D  C  B  D  A  C  ...  D  A  C  D  A     B     D   \n",
      "24  N00000045  C  A  A  D  C  B  D  C     ...  A     C  A  A     B     D   \n",
      "\n",
      "      25    26    27  \n",
      "0         None  None  \n",
      "1      D  None  None  \n",
      "2   None  None  None  \n",
      "3      D  None  None  \n",
      "4      D  None  None  \n",
      "5      D  None  None  \n",
      "6      D  None  None  \n",
      "7      D  None  None  \n",
      "8      D  None  None  \n",
      "9      D  None  None  \n",
      "10     D  None  None  \n",
      "11     D  None  None  \n",
      "12     D  None  None  \n",
      "13     D  None  None  \n",
      "14     D     A     A  \n",
      "15        None  None  \n",
      "16     D  None  None  \n",
      "17     C  None  None  \n",
      "18     D  None  None  \n",
      "19     D  None  None  \n",
      "20     D  None  None  \n",
      "21     D  None  None  \n",
      "22     D  None  None  \n",
      "23     D  None  None  \n",
      "24     D  None  None  \n",
      "\n",
      "[25 rows x 28 columns]\n"
     ]
    }
   ],
   "source": [
    "import pandas as pd\n",
    "\n",
    "# Đường dẫn đến file\n",
    "file_path = 'class2.txt'\n",
    "\n",
    "# Đọc file và chia các giá trị trong mỗi hàng thành các cột\n",
    "data = []\n",
    "with open(file_path, 'r') as file:\n",
    "    for line in file:\n",
    "        # Tách các giá trị trong hàng bằng dấu phẩy (hoặc dấu tương ứng)\n",
    "        values = line.strip().split(',')  # Sử dụng dấu tab ('\\t') nếu cách các giá trị bằng tab\n",
    "        data.append(values)\n",
    "\n",
    "# Tạo DataFrame từ dữ liệu đã đọc\n",
    "df = pd.DataFrame(data)\n",
    "\n",
    "# Hiển thị DataFrame\n",
    "print(df)\n"
   ]
  },
  {
   "cell_type": "code",
   "execution_count": null,
   "id": "d496c8b7",
   "metadata": {},
   "outputs": [],
   "source": [
    " "
   ]
  },
  {
   "cell_type": "code",
   "execution_count": 41,
   "id": "947ab709",
   "metadata": {},
   "outputs": [
    {
     "name": "stdout",
     "output_type": "stream",
     "text": [
      "Enter name class: class2\n",
      "Error tokenizing data. C error: Expected 26 fields in line 15, saw 28\n",
      "\n",
      "Enter name class: class4\n",
      "Error tokenizing data. C error: Expected 26 fields in line 471, saw 27\n",
      "\n",
      "Enter name class: class5\n",
      "\n",
      " SUCCESSFULLY OPENED class5\n",
      "**** REPORT ****\n",
      "\n",
      "Total valid lines of data:  1000 \n",
      "\n",
      "Mean (average) score: 75.604 \n",
      "\n",
      "Highest score 100 \n",
      "\n",
      "Lowest score 40 \n",
      "\n",
      "Range of scores 60 \n",
      "\n",
      "Median score:  77.0 \n",
      "\n"
     ]
    }
   ],
   "source": [
    "while True:\n",
    "    filename = input(\"Enter name class: \") \n",
    "    FILE_PATH = filename + \".txt\"\n",
    "    try:\n",
    "        df = pd.read_csv(FILE_PATH,delimiter=\",\",header = None, index_col=0)\n",
    "        df.index.name = \"student_number\"\n",
    "        df = df.fillna(0)\n",
    "    except Exception as e:\n",
    "        print(e)\n",
    "    else:\n",
    "        print(\"\\n SUCCESSFULLY OPENED\",filename)\n",
    "        break\n",
    "\n",
    "grade = [] # list grade\n",
    "\n",
    "answer_key = \"B,A,D,D,C,B,D,A,C,C,D,B,A,B,A,C,B,D,A,C,A,A,B,D,D\".split(\",\")\n",
    "\n",
    "for i in range(df.shape[0]):\n",
    "    score = 0\n",
    "    for j in range (df.shape[1]):\n",
    "        if df.iloc[i,j] == answer_key[j]:\n",
    "            score += 4\n",
    "        elif df.iloc[i,j] == 0:\n",
    "            score += 0\n",
    "        else:\n",
    "            score -= 1\n",
    "    grade.append(score)\n",
    "    \n",
    "df[\"score\"] = grade\n",
    "\n",
    "\n",
    "print(\"**** REPORT ****\\n\")\n",
    "print(\"Total valid lines of data: \", df.shape[0],\"\\n\")\n",
    "print(\"Mean (average) score:\", df[\"score\"].mean(),\"\\n\")\n",
    "print(\"Highest score\", df[\"score\"].max(),\"\\n\")\n",
    "print(\"Lowest score\", df[\"score\"].min(),\"\\n\")\n",
    "print(\"Range of scores\", df[\"score\"].max() - df[\"score\"].min(),\"\\n\")\n",
    "print(\"Median score: \",df[\"score\"].median(),\"\\n\")\n",
    "\n",
    "    \n",
    "    "
   ]
  },
  {
   "cell_type": "code",
   "execution_count": null,
   "id": "61bffe9e",
   "metadata": {},
   "outputs": [],
   "source": []
  }
 ],
 "metadata": {
  "colab": {
   "provenance": []
  },
  "kernelspec": {
   "display_name": "Python 3 (ipykernel)",
   "language": "python",
   "name": "python3"
  },
  "language_info": {
   "codemirror_mode": {
    "name": "ipython",
    "version": 3
   },
   "file_extension": ".py",
   "mimetype": "text/x-python",
   "name": "python",
   "nbconvert_exporter": "python",
   "pygments_lexer": "ipython3",
   "version": "3.11.4"
  }
 },
 "nbformat": 4,
 "nbformat_minor": 5
}
