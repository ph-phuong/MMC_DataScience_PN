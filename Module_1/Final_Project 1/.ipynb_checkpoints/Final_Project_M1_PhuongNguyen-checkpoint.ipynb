{
 "cells": [
  {
   "cell_type": "markdown",
   "id": "de7cd4dc",
   "metadata": {
    "id": "de7cd4dc"
   },
   "source": [
    "## Task 1:"
   ]
  },
  {
   "cell_type": "markdown",
   "id": "5b069f6b",
   "metadata": {
    "id": "5b069f6b"
   },
   "source": [
    "1.1. Tạo một chương trình Python mới có tên “lastname_firstname_grade_the_exams.py.”\n",
    "\n",
    "1.2. Viết hàm cho phép người dùng nhập tên của một tệp và truy cập đọc.\n",
    "\n",
    "1.3. Nếu tệp tồn tại, bạn có thể in ra một thông báo xác nhận. Nếu tệp không tồn tại, hiển thị không thể tìm thấy tệp và yêu cầu nhập lại.\n",
    "\n",
    "1.4. Sử dụng try/except để thực hiện việc này (đừng chỉ sử dụng một loạt câu lệnh “if”):"
   ]
  },
  {
   "cell_type": "code",
   "execution_count": 2,
   "id": "92a84678",
   "metadata": {
    "executionInfo": {
     "elapsed": 21,
     "status": "ok",
     "timestamp": 1713404558369,
     "user": {
      "displayName": "Phuong Nguyen",
      "userId": "11974806599025701743"
     },
     "user_tz": -420
    },
    "id": "92a84678"
   },
   "outputs": [],
   "source": [
    "import re"
   ]
  },
  {
   "cell_type": "code",
   "execution_count": 3,
   "id": "a4e75e44",
   "metadata": {
    "colab": {
     "base_uri": "https://localhost:8080/"
    },
    "executionInfo": {
     "elapsed": 7649,
     "status": "ok",
     "timestamp": 1713404574784,
     "user": {
      "displayName": "Phuong Nguyen",
      "userId": "11974806599025701743"
     },
     "user_tz": -420
    },
    "id": "a4e75e44",
    "outputId": "11291b5c-a773-43f9-e4ad-d0999082e7a0"
   },
   "outputs": [
    {
     "name": "stdout",
     "output_type": "stream",
     "text": [
      "Enter a filename: class1.txt\n",
      "N00000001,A,A,D,D,C,D,D,A,,C,D,B,C,,B,C,B,D,A,C,,A,,C,D\n",
      "N00000002,,A,,D,,B,D,A,C,C,D,,A,A,A,C,B,D,C,C,A,A,B,,D\n",
      "N00000003,B,A,,D,C,B,D,A,C,C,,B,A,B,A,C,B,D,A,,A,,B,D,D\n",
      "N00000004,B,B,D,,,B,D,A,C,C,D,B,A,B,A,C,B,D,,C,A,D,B,C,D\n",
      "N00000005,B,A,,D,,B,D,A,C,C,D,B,A,B,A,C,B,D,D,C,A,A,,D,D\n",
      "N00000006,B,A,D,A,C,B,D,A,C,C,C,B,A,D,A,C,,C,A,C,A,C,B,D,A\n",
      "N00000007,B,A,D,D,C,B,D,A,C,,D,B,A,B,A,C,B,D,,C,A,A,B,D,\n",
      "N00000008,A,A,D,D,C,,D,A,C,C,B,C,A,B,A,A,B,D,A,C,A,,B,B,D\n",
      "N00000009,B,A,,D,C,B,D,A,C,A,D,B,A,B,A,A,B,D,A,C,A,A,B,D,D\n",
      "N00000010,,A,D,B,C,B,D,A,C,C,D,B,A,B,A,C,B,D,A,D,,,B,D,B\n",
      "N00000011,B,A,D,,C,B,D,A,C,D,D,B,A,B,A,C,B,D,A,C,A,B,B,D,D\n",
      "N00000012,B,,D,D,C,B,D,A,C,C,D,B,A,B,A,A,B,D,A,,A,A,A,,C\n",
      "N00000013,,A,D,,B,B,,A,C,A,D,B,A,B,D,C,B,D,A,C,A,A,B,D,D\n",
      "N00000014,B,B,D,D,C,B,,D,C,C,D,B,A,B,A,C,,D,A,C,A,A,,D,D\n",
      "N00000015,A,C,C,D,C,B,,A,C,C,D,B,A,B,A,C,B,D,A,C,A,B,,D,D\n",
      "N00000016,B,A,C,D,,B,D,A,C,C,D,B,A,B,A,C,B,D,A,C,A,A,B,D,D\n",
      "N00000017,B,A,D,D,C,B,C,A,D,C,D,A,A,D,A,C,B,D,D,B,,A,B,D,D\n",
      "N00000018,B,A,D,A,C,B,D,A,C,C,D,B,A,B,,,B,D,A,B,A,A,B,,D\n",
      "N00000019,B,A,D,D,C,B,D,C,C,C,,B,,B,D,C,B,D,A,,A,A,B,D,D\n",
      "N00000020,B,,D,D,C,B,D,A,C,B,,,A,C,A,D,B,D,B,C,A,A,B,D,D\n",
      "Successfully opened class1.txt\n"
     ]
    }
   ],
   "source": [
    "def access():\n",
    "    try:\n",
    "        filename = input('Enter a filename: ')\n",
    "        with open(filename, 'r') as f:\n",
    "            FileContent = f.read()\n",
    "            print(FileContent)\n",
    "        print(f'Successfully opened {filename}')\n",
    "    except:\n",
    "        print(\"Sorry, I can't find this filename\")\n",
    "\n",
    "access()"
   ]
  },
  {
   "cell_type": "markdown",
   "id": "f0ed8b49",
   "metadata": {
    "id": "f0ed8b49"
   },
   "source": [
    "## Task 2"
   ]
  },
  {
   "cell_type": "markdown",
   "id": "b86d069a",
   "metadata": {
    "id": "b86d069a"
   },
   "source": [
    "Tiếp theo, bạn sẽ cần phân tích dữ liệu có trong tệp bạn vừa mở để đảm bảo rằng nó ở đúng định dạng. Mỗi tệp dữ liệu chứa một loạt câu trả lời của học sinh ở định dạng sau:\n",
    "\n",
    "N12345678,B,A,D,D,C,B,D,A,C,C,D,B,A,B,A,C,B,D,A,C,A,A,B,D,D\n",
    "\n",
    "hoặc\n",
    "\n",
    "N12345678,B,A,D,D,C,B,D,A,C,C,D,B,A,B,A,C,B,D,A,C,A,A,B,D,D,A,B,C,D,E\n",
    "\n",
    "Nhiệm vụ của bạn cho phần này của chương trình là thực hiện như sau:\n",
    "\n",
    "2.1. Báo cáo tổng số dòng dữ liệu được lưu trữ trong tệp.\n",
    "\n",
    "2.2. Báo cáo tổng số dòng dữ liệu không hợp lệ trong tệp.\n",
    "\n",
    "Một dòng hợp lệ chứa danh sách 26 giá trị được phân tách bằng dấu phẩy N# cho một học sinh là mục đầu tiên trên dòng. Nó phải chứa ký tự “N” theo sau là 8 ký tự số. \n",
    "\n",
    "2.3. Nếu một dòng dữ liệu không hợp lệ, bạn nên báo cáo cho người dùng bằng cách in ra một thông báo lỗi.\n",
    "\n",
    "Gợi ý: Sử dụng phương pháp split để tách dữ liệu ra khỏi tệp."
   ]
  },
  {
   "cell_type": "code",
   "execution_count": 35,
   "id": "55fc9f44",
   "metadata": {
    "id": "55fc9f44",
    "outputId": "06aef8fd-27eb-4628-8666-ecfc560713ec"
   },
   "outputs": [
    {
     "name": "stdout",
     "output_type": "stream",
     "text": [
      "**** ANALYZING ****\n",
      "No errors found!\n",
      "\n",
      "\n",
      "**** REPORT ****\n",
      "Valid Lines: 20 values\n",
      "Invalid Lines: 0 values\n"
     ]
    }
   ],
   "source": [
    "def analyzing(file):\n",
    "    valid_lines = []\n",
    "    invalid_lines = []\n",
    "    \n",
    "    with open(file, 'r') as f:\n",
    "        filecontent = f.readlines()        \n",
    "        for index, line in enumerate(filecontent):\n",
    "            elements = line.strip().split(',')\n",
    "  \n",
    "            count_element = len(elements) == 26\n",
    "            is_valid_first_element = re.match(r'^N\\d{8}$', elements[0].strip()) is not None\n",
    "\n",
    "            if count_element and is_valid_first_element:\n",
    "                valid_lines.append(line.strip())\n",
    "            else:\n",
    "                invalid_lines.append(line.strip())\n",
    "                \n",
    "    print('**** ANALYZING ****')\n",
    "    if len(invalid_lines) != 0:\n",
    "        print('Invalid line of data: does not contain exactly 26 values:')\n",
    "        for line in invalid_lines:\n",
    "            print(line)\n",
    "    else:\n",
    "        print('No errors found!')\n",
    "\n",
    "    print('\\n')\n",
    "    print('**** REPORT ****')\n",
    "    print(\"Valid Lines:\", len(valid_lines), 'values')\n",
    "    print(\"Invalid Lines:\", len(invalid_lines), 'values')\n",
    "\n",
    "analyzing('class1.txt')"
   ]
  },
  {
   "cell_type": "markdown",
   "id": "f11ec673",
   "metadata": {
    "id": "9b59fa9d",
    "outputId": "038ba86a-5d65-4c6f-d4e6-410b616e72b3"
   },
   "source": [
    "## Task 3"
   ]
  },
  {
   "cell_type": "markdown",
   "id": "cffd2cab",
   "metadata": {
    "id": "7ba95811",
    "outputId": "33a98524-5929-41a8-9e6f-4072594f1f2d"
   },
   "source": [
    "Tiếp theo, bạn sẽ viết chương trình để chấm điểm các bài thi cho một phần nhất định. Kỳ thi gồm 25 câu hỏi, trắc nghiệm. Đây là một chuỗi đại diện cho các câu trả lời:\n",
    "\n",
    "answer_key = \"B,A,D,D,C,B,D,A,C,C,D,B,A,B,A,C,B,D,A,C,A,A,B,D,D\"\n",
    "\n",
    "Chương trình sẽ sử dụng những câu trả lời này để tính điểm cho mỗi dòng dữ liệu hợp lệ. Điểm có thể được tính như sau:\n",
    "\n",
    "+ 4 điểm cho mỗi câu trả lời đúng\n",
    "+ 0 điểm cho mỗi câu trả lời bị bỏ qua\n",
    "+ -1 điểm cho mỗi câu trả lời sai\n",
    "\n",
    "Chúng ta cũng cần thống kê các yêu cầu sau:\n",
    "\n",
    "Đếm số lượng học sinh đạt điểm cao (>80).\n",
    "\n",
    "Điểm trung bình.\n",
    "\n",
    "Điểm cao nhất.\n",
    "\n",
    "Điểm thấp nhất.\n",
    "\n",
    "Miền giá trị của điểm (cao nhất trừ thấp nhất).\n",
    "\n",
    "Giá trị trung vị (Sắp xếp các điểm theo thứ tự tăng dần. Nếu # học sinh là số lẻ, bạn có thể lấy giá trị nằm ở giữa của tất cả các điểm (tức là [0, 50, 100] — trung vị là 50). Nếu # học sinh là chẵn bạn có thể tính giá trị trung vị bằng cách lấy giá trị trung bình của hai giá trị giữa (tức là [0, 50, 60, 100] — giá trị trung vị là 55)).\n",
    "\n",
    "Trả về các câu hỏi bị học sinh bỏ qua nhiều nhất theo thứ tự: số thứ tự câu hỏi - số lượng học sinh bỏ qua - tỉ lệ bị bỏ qua (nếu có cùng số lượng cho nhiều câu hỏi bị bỏ thì phải liệt kê ra đầy đủ).\n",
    "\n",
    "Trả về các câu hỏi bị học sinh sai qua nhiều nhất theo thứ tự: số thứ tự câu hỏi - số lượng học sinh trả lời sai - tỉ lệ bị sai (nếu có cùng số lượng cho nhiều câu hỏi bị sai thì phải liệt kê ra đầy đủ).\n",
    "\n",
    "Lưu ý: các giá trị số thực làm tròn 3 chữ số thập phân"
   ]
  },
  {
   "cell_type": "code",
   "execution_count": 37,
   "id": "0a65c740",
   "metadata": {
    "id": "0a65c740"
   },
   "outputs": [],
   "source": [
    "answer_keys = ['B','A','D','D','C','B','D','A','C','C','D','B','A','B','A','C','B','D','A','C','A','A','B','D','D']"
   ]
  },
  {
   "cell_type": "code",
   "execution_count": 50,
   "id": "96eb6298",
   "metadata": {
    "id": "96eb6298"
   },
   "outputs": [
    {
     "ename": "ValueError",
     "evalue": "could not convert string to float: 'int'",
     "output_type": "error",
     "traceback": [
      "\u001b[1;31m---------------------------------------------------------------------------\u001b[0m",
      "\u001b[1;31mValueError\u001b[0m                                Traceback (most recent call last)",
      "Cell \u001b[1;32mIn[50], line 43\u001b[0m\n\u001b[0;32m     40\u001b[0m     \u001b[38;5;28mprint\u001b[39m(\u001b[38;5;124m'\u001b[39m\u001b[38;5;124mTotal student of high scores: \u001b[39m\u001b[38;5;124m'\u001b[39m, count_above_80)\n\u001b[0;32m     41\u001b[0m     \u001b[38;5;28mprint\u001b[39m(\u001b[38;5;124m'\u001b[39m\u001b[38;5;124mHighest score:: \u001b[39m\u001b[38;5;124m'\u001b[39m, max_grade)\n\u001b[1;32m---> 43\u001b[0m results \u001b[38;5;241m=\u001b[39m \u001b[43mcalculate_grade\u001b[49m\u001b[43m(\u001b[49m\u001b[38;5;124;43m'\u001b[39;49m\u001b[38;5;124;43mclass1.txt\u001b[39;49m\u001b[38;5;124;43m'\u001b[39;49m\u001b[43m,\u001b[49m\u001b[43m \u001b[49m\u001b[43manswer_keys\u001b[49m\u001b[43m)\u001b[49m\n",
      "Cell \u001b[1;32mIn[50], line 6\u001b[0m, in \u001b[0;36mcalculate_grade\u001b[1;34m(file, answer_keys)\u001b[0m\n\u001b[0;32m      4\u001b[0m total_grade \u001b[38;5;241m=\u001b[39m \u001b[38;5;241m0\u001b[39m\n\u001b[0;32m      5\u001b[0m max_grade \u001b[38;5;241m=\u001b[39m \u001b[38;5;28mfloat\u001b[39m(\u001b[38;5;124m'\u001b[39m\u001b[38;5;124m-inf\u001b[39m\u001b[38;5;124m'\u001b[39m)\n\u001b[1;32m----> 6\u001b[0m min_grade \u001b[38;5;241m=\u001b[39m \u001b[38;5;28;43mfloat\u001b[39;49m\u001b[43m(\u001b[49m\u001b[38;5;124;43m'\u001b[39;49m\u001b[38;5;124;43mint\u001b[39;49m\u001b[38;5;124;43m'\u001b[39;49m\u001b[43m)\u001b[49m\n\u001b[0;32m      8\u001b[0m \u001b[38;5;28;01mwith\u001b[39;00m \u001b[38;5;28mopen\u001b[39m (file, \u001b[38;5;124m'\u001b[39m\u001b[38;5;124mr\u001b[39m\u001b[38;5;124m'\u001b[39m) \u001b[38;5;28;01mas\u001b[39;00m f:\n\u001b[0;32m      9\u001b[0m     \u001b[38;5;28;01mfor\u001b[39;00m line \u001b[38;5;129;01min\u001b[39;00m f:\n",
      "\u001b[1;31mValueError\u001b[0m: could not convert string to float: 'int'"
     ]
    }
   ],
   "source": [
    "def calculate_grade(file, answer_keys):\n",
    "    results = []\n",
    "    count_above_80 = 0\n",
    "    total_grade = 0\n",
    "    max_grade = float('-inf')\n",
    "    min_grade = float('int')\n",
    "    \n",
    "    with open (file, 'r') as f:\n",
    "        for line in f:\n",
    "            line = line.strip().split(',')\n",
    "            \n",
    "            student_id = line[0]\n",
    "            student_answers = line[1:]\n",
    "            grade = 0\n",
    "            \n",
    "            for student_answer, correct_answer in zip(student_answers, answer_keys):\n",
    "                if student_answer == correct_answer:\n",
    "                    grade += 4\n",
    "                elif student_answer == '':\n",
    "                    pass\n",
    "                else:\n",
    "                    grade -= 1\n",
    "                        \n",
    "            results.append((student_id, grade))\n",
    "            total_grade += grade\n",
    "            \n",
    "            if grade >= 80:\n",
    "                count_above_80 += 1\n",
    "            elif grade >  max_grade:\n",
    "                max_grade = grade\n",
    "            elif grade <  max_grade:\n",
    "                min_grade = grade\n",
    "                \n",
    "    numbers_student = len(results)  \n",
    "    average_grade = total_grade / numbers_student\n",
    "    \n",
    "    for id_student, grade in results:\n",
    "        print(f'{id_student} : {grade}')\n",
    "        \n",
    "    print('Total student of high scores: ', count_above_80)\n",
    "    print('Highest score:: ', max_grade)\n",
    "\n",
    "results = calculate_grade('class1.txt', answer_keys)"
   ]
  },
  {
   "cell_type": "code",
   "execution_count": 36,
   "id": "6f189663",
   "metadata": {
    "id": "6f189663"
   },
   "outputs": [
    {
     "name": "stdout",
     "output_type": "stream",
     "text": [
      "Mã TS01: Điểm số là 15\n",
      "Mã TS02: Điểm số là 20\n"
     ]
    }
   ],
   "source": []
  },
  {
   "cell_type": "code",
   "execution_count": null,
   "id": "9e9bfa74",
   "metadata": {
    "id": "9e9bfa74"
   },
   "outputs": [],
   "source": []
  }
 ],
 "metadata": {
  "colab": {
   "provenance": []
  },
  "kernelspec": {
   "display_name": "Python 3 (ipykernel)",
   "language": "python",
   "name": "python3"
  },
  "language_info": {
   "codemirror_mode": {
    "name": "ipython",
    "version": 3
   },
   "file_extension": ".py",
   "mimetype": "text/x-python",
   "name": "python",
   "nbconvert_exporter": "python",
   "pygments_lexer": "ipython3",
   "version": "3.11.4"
  }
 },
 "nbformat": 4,
 "nbformat_minor": 5
}
