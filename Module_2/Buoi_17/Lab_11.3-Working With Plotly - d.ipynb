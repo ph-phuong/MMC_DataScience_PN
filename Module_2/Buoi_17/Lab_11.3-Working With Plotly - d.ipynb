{
 "cells": [
  {
   "cell_type": "markdown",
   "metadata": {
    "id": "iKWkOwVc25K5"
   },
   "source": [
    "# Thực hành với Plotly"
   ]
  },
  {
   "cell_type": "code",
   "execution_count": 1,
   "metadata": {
    "id": "uKjEUako25K_",
    "outputId": "6c45ed5e-f1df-4cb6-ee44-494c88e50694"
   },
   "outputs": [
    {
     "name": "stdout",
     "output_type": "stream",
     "text": [
      "5.22.0\n"
     ]
    }
   ],
   "source": [
    "#import\n",
    "import plotly\n",
    "from plotly import __version__\n",
    "print (__version__)\n",
    "from plotly.offline import download_plotlyjs, init_notebook_mode, plot, iplot"
   ]
  },
  {
   "cell_type": "code",
   "execution_count": 2,
   "metadata": {
    "id": "JcZ_EVeX25LB",
    "outputId": "d9074a62-cea6-41d3-e44f-c9f7715e0709"
   },
   "outputs": [
    {
     "data": {
      "text/html": [
       "        <script type=\"text/javascript\">\n",
       "        window.PlotlyConfig = {MathJaxConfig: 'local'};\n",
       "        if (window.MathJax && window.MathJax.Hub && window.MathJax.Hub.Config) {window.MathJax.Hub.Config({SVG: {font: \"STIX-Web\"}});}\n",
       "        if (typeof require !== 'undefined') {\n",
       "        require.undef(\"plotly\");\n",
       "        requirejs.config({\n",
       "            paths: {\n",
       "                'plotly': ['https://cdn.plot.ly/plotly-2.32.0.min']\n",
       "            }\n",
       "        });\n",
       "        require(['plotly'], function(Plotly) {\n",
       "            window._Plotly = Plotly;\n",
       "        });\n",
       "        }\n",
       "        </script>\n",
       "        "
      ]
     },
     "metadata": {},
     "output_type": "display_data"
    }
   ],
   "source": [
    "#Jupyter setup\n",
    "init_notebook_mode(connected=True)"
   ]
  },
  {
   "cell_type": "markdown",
   "metadata": {
    "id": "1UTWSgDM25LB"
   },
   "source": [
    "<br>\n",
    "\n",
    "Để lưu biểu đồ trong Plotly Cloud hoặc Plotly Enterprise, hãy sử dụng `plotly.plotly.iplot`.\n",
    "\n",
    "Sử dụng py.plot() để trả về url duy nhất và mở url (tự chọn).\n",
    "\n",
    "Sử dụng py.iplot() khi hoạt động trong Jupyter Notebook để hiển thị plot trong notebook.\n",
    "\n",
    "<br>"
   ]
  },
  {
   "cell_type": "code",
   "execution_count": 3,
   "metadata": {
    "id": "hQgLqbPF25LC"
   },
   "outputs": [
    {
     "data": {
      "application/vnd.plotly.v1+json": {
       "config": {
        "linkText": "Export to plot.ly",
        "plotlyServerURL": "https://plot.ly",
        "showLink": false
       },
       "data": [
        {
         "type": "scatter",
         "x": [
          1,
          2,
          3,
          4,
          5
         ],
         "y": [
          1,
          2,
          6,
          4,
          1
         ]
        }
       ],
       "layout": {
        "template": {
         "data": {
          "bar": [
           {
            "error_x": {
             "color": "#2a3f5f"
            },
            "error_y": {
             "color": "#2a3f5f"
            },
            "marker": {
             "line": {
              "color": "#E5ECF6",
              "width": 0.5
             },
             "pattern": {
              "fillmode": "overlay",
              "size": 10,
              "solidity": 0.2
             }
            },
            "type": "bar"
           }
          ],
          "barpolar": [
           {
            "marker": {
             "line": {
              "color": "#E5ECF6",
              "width": 0.5
             },
             "pattern": {
              "fillmode": "overlay",
              "size": 10,
              "solidity": 0.2
             }
            },
            "type": "barpolar"
           }
          ],
          "carpet": [
           {
            "aaxis": {
             "endlinecolor": "#2a3f5f",
             "gridcolor": "white",
             "linecolor": "white",
             "minorgridcolor": "white",
             "startlinecolor": "#2a3f5f"
            },
            "baxis": {
             "endlinecolor": "#2a3f5f",
             "gridcolor": "white",
             "linecolor": "white",
             "minorgridcolor": "white",
             "startlinecolor": "#2a3f5f"
            },
            "type": "carpet"
           }
          ],
          "choropleth": [
           {
            "colorbar": {
             "outlinewidth": 0,
             "ticks": ""
            },
            "type": "choropleth"
           }
          ],
          "contour": [
           {
            "colorbar": {
             "outlinewidth": 0,
             "ticks": ""
            },
            "colorscale": [
             [
              0,
              "#0d0887"
             ],
             [
              0.1111111111111111,
              "#46039f"
             ],
             [
              0.2222222222222222,
              "#7201a8"
             ],
             [
              0.3333333333333333,
              "#9c179e"
             ],
             [
              0.4444444444444444,
              "#bd3786"
             ],
             [
              0.5555555555555556,
              "#d8576b"
             ],
             [
              0.6666666666666666,
              "#ed7953"
             ],
             [
              0.7777777777777778,
              "#fb9f3a"
             ],
             [
              0.8888888888888888,
              "#fdca26"
             ],
             [
              1,
              "#f0f921"
             ]
            ],
            "type": "contour"
           }
          ],
          "contourcarpet": [
           {
            "colorbar": {
             "outlinewidth": 0,
             "ticks": ""
            },
            "type": "contourcarpet"
           }
          ],
          "heatmap": [
           {
            "colorbar": {
             "outlinewidth": 0,
             "ticks": ""
            },
            "colorscale": [
             [
              0,
              "#0d0887"
             ],
             [
              0.1111111111111111,
              "#46039f"
             ],
             [
              0.2222222222222222,
              "#7201a8"
             ],
             [
              0.3333333333333333,
              "#9c179e"
             ],
             [
              0.4444444444444444,
              "#bd3786"
             ],
             [
              0.5555555555555556,
              "#d8576b"
             ],
             [
              0.6666666666666666,
              "#ed7953"
             ],
             [
              0.7777777777777778,
              "#fb9f3a"
             ],
             [
              0.8888888888888888,
              "#fdca26"
             ],
             [
              1,
              "#f0f921"
             ]
            ],
            "type": "heatmap"
           }
          ],
          "heatmapgl": [
           {
            "colorbar": {
             "outlinewidth": 0,
             "ticks": ""
            },
            "colorscale": [
             [
              0,
              "#0d0887"
             ],
             [
              0.1111111111111111,
              "#46039f"
             ],
             [
              0.2222222222222222,
              "#7201a8"
             ],
             [
              0.3333333333333333,
              "#9c179e"
             ],
             [
              0.4444444444444444,
              "#bd3786"
             ],
             [
              0.5555555555555556,
              "#d8576b"
             ],
             [
              0.6666666666666666,
              "#ed7953"
             ],
             [
              0.7777777777777778,
              "#fb9f3a"
             ],
             [
              0.8888888888888888,
              "#fdca26"
             ],
             [
              1,
              "#f0f921"
             ]
            ],
            "type": "heatmapgl"
           }
          ],
          "histogram": [
           {
            "marker": {
             "pattern": {
              "fillmode": "overlay",
              "size": 10,
              "solidity": 0.2
             }
            },
            "type": "histogram"
           }
          ],
          "histogram2d": [
           {
            "colorbar": {
             "outlinewidth": 0,
             "ticks": ""
            },
            "colorscale": [
             [
              0,
              "#0d0887"
             ],
             [
              0.1111111111111111,
              "#46039f"
             ],
             [
              0.2222222222222222,
              "#7201a8"
             ],
             [
              0.3333333333333333,
              "#9c179e"
             ],
             [
              0.4444444444444444,
              "#bd3786"
             ],
             [
              0.5555555555555556,
              "#d8576b"
             ],
             [
              0.6666666666666666,
              "#ed7953"
             ],
             [
              0.7777777777777778,
              "#fb9f3a"
             ],
             [
              0.8888888888888888,
              "#fdca26"
             ],
             [
              1,
              "#f0f921"
             ]
            ],
            "type": "histogram2d"
           }
          ],
          "histogram2dcontour": [
           {
            "colorbar": {
             "outlinewidth": 0,
             "ticks": ""
            },
            "colorscale": [
             [
              0,
              "#0d0887"
             ],
             [
              0.1111111111111111,
              "#46039f"
             ],
             [
              0.2222222222222222,
              "#7201a8"
             ],
             [
              0.3333333333333333,
              "#9c179e"
             ],
             [
              0.4444444444444444,
              "#bd3786"
             ],
             [
              0.5555555555555556,
              "#d8576b"
             ],
             [
              0.6666666666666666,
              "#ed7953"
             ],
             [
              0.7777777777777778,
              "#fb9f3a"
             ],
             [
              0.8888888888888888,
              "#fdca26"
             ],
             [
              1,
              "#f0f921"
             ]
            ],
            "type": "histogram2dcontour"
           }
          ],
          "mesh3d": [
           {
            "colorbar": {
             "outlinewidth": 0,
             "ticks": ""
            },
            "type": "mesh3d"
           }
          ],
          "parcoords": [
           {
            "line": {
             "colorbar": {
              "outlinewidth": 0,
              "ticks": ""
             }
            },
            "type": "parcoords"
           }
          ],
          "pie": [
           {
            "automargin": true,
            "type": "pie"
           }
          ],
          "scatter": [
           {
            "fillpattern": {
             "fillmode": "overlay",
             "size": 10,
             "solidity": 0.2
            },
            "type": "scatter"
           }
          ],
          "scatter3d": [
           {
            "line": {
             "colorbar": {
              "outlinewidth": 0,
              "ticks": ""
             }
            },
            "marker": {
             "colorbar": {
              "outlinewidth": 0,
              "ticks": ""
             }
            },
            "type": "scatter3d"
           }
          ],
          "scattercarpet": [
           {
            "marker": {
             "colorbar": {
              "outlinewidth": 0,
              "ticks": ""
             }
            },
            "type": "scattercarpet"
           }
          ],
          "scattergeo": [
           {
            "marker": {
             "colorbar": {
              "outlinewidth": 0,
              "ticks": ""
             }
            },
            "type": "scattergeo"
           }
          ],
          "scattergl": [
           {
            "marker": {
             "colorbar": {
              "outlinewidth": 0,
              "ticks": ""
             }
            },
            "type": "scattergl"
           }
          ],
          "scattermapbox": [
           {
            "marker": {
             "colorbar": {
              "outlinewidth": 0,
              "ticks": ""
             }
            },
            "type": "scattermapbox"
           }
          ],
          "scatterpolar": [
           {
            "marker": {
             "colorbar": {
              "outlinewidth": 0,
              "ticks": ""
             }
            },
            "type": "scatterpolar"
           }
          ],
          "scatterpolargl": [
           {
            "marker": {
             "colorbar": {
              "outlinewidth": 0,
              "ticks": ""
             }
            },
            "type": "scatterpolargl"
           }
          ],
          "scatterternary": [
           {
            "marker": {
             "colorbar": {
              "outlinewidth": 0,
              "ticks": ""
             }
            },
            "type": "scatterternary"
           }
          ],
          "surface": [
           {
            "colorbar": {
             "outlinewidth": 0,
             "ticks": ""
            },
            "colorscale": [
             [
              0,
              "#0d0887"
             ],
             [
              0.1111111111111111,
              "#46039f"
             ],
             [
              0.2222222222222222,
              "#7201a8"
             ],
             [
              0.3333333333333333,
              "#9c179e"
             ],
             [
              0.4444444444444444,
              "#bd3786"
             ],
             [
              0.5555555555555556,
              "#d8576b"
             ],
             [
              0.6666666666666666,
              "#ed7953"
             ],
             [
              0.7777777777777778,
              "#fb9f3a"
             ],
             [
              0.8888888888888888,
              "#fdca26"
             ],
             [
              1,
              "#f0f921"
             ]
            ],
            "type": "surface"
           }
          ],
          "table": [
           {
            "cells": {
             "fill": {
              "color": "#EBF0F8"
             },
             "line": {
              "color": "white"
             }
            },
            "header": {
             "fill": {
              "color": "#C8D4E3"
             },
             "line": {
              "color": "white"
             }
            },
            "type": "table"
           }
          ]
         },
         "layout": {
          "annotationdefaults": {
           "arrowcolor": "#2a3f5f",
           "arrowhead": 0,
           "arrowwidth": 1
          },
          "autotypenumbers": "strict",
          "coloraxis": {
           "colorbar": {
            "outlinewidth": 0,
            "ticks": ""
           }
          },
          "colorscale": {
           "diverging": [
            [
             0,
             "#8e0152"
            ],
            [
             0.1,
             "#c51b7d"
            ],
            [
             0.2,
             "#de77ae"
            ],
            [
             0.3,
             "#f1b6da"
            ],
            [
             0.4,
             "#fde0ef"
            ],
            [
             0.5,
             "#f7f7f7"
            ],
            [
             0.6,
             "#e6f5d0"
            ],
            [
             0.7,
             "#b8e186"
            ],
            [
             0.8,
             "#7fbc41"
            ],
            [
             0.9,
             "#4d9221"
            ],
            [
             1,
             "#276419"
            ]
           ],
           "sequential": [
            [
             0,
             "#0d0887"
            ],
            [
             0.1111111111111111,
             "#46039f"
            ],
            [
             0.2222222222222222,
             "#7201a8"
            ],
            [
             0.3333333333333333,
             "#9c179e"
            ],
            [
             0.4444444444444444,
             "#bd3786"
            ],
            [
             0.5555555555555556,
             "#d8576b"
            ],
            [
             0.6666666666666666,
             "#ed7953"
            ],
            [
             0.7777777777777778,
             "#fb9f3a"
            ],
            [
             0.8888888888888888,
             "#fdca26"
            ],
            [
             1,
             "#f0f921"
            ]
           ],
           "sequentialminus": [
            [
             0,
             "#0d0887"
            ],
            [
             0.1111111111111111,
             "#46039f"
            ],
            [
             0.2222222222222222,
             "#7201a8"
            ],
            [
             0.3333333333333333,
             "#9c179e"
            ],
            [
             0.4444444444444444,
             "#bd3786"
            ],
            [
             0.5555555555555556,
             "#d8576b"
            ],
            [
             0.6666666666666666,
             "#ed7953"
            ],
            [
             0.7777777777777778,
             "#fb9f3a"
            ],
            [
             0.8888888888888888,
             "#fdca26"
            ],
            [
             1,
             "#f0f921"
            ]
           ]
          },
          "colorway": [
           "#636efa",
           "#EF553B",
           "#00cc96",
           "#ab63fa",
           "#FFA15A",
           "#19d3f3",
           "#FF6692",
           "#B6E880",
           "#FF97FF",
           "#FECB52"
          ],
          "font": {
           "color": "#2a3f5f"
          },
          "geo": {
           "bgcolor": "white",
           "lakecolor": "white",
           "landcolor": "#E5ECF6",
           "showlakes": true,
           "showland": true,
           "subunitcolor": "white"
          },
          "hoverlabel": {
           "align": "left"
          },
          "hovermode": "closest",
          "mapbox": {
           "style": "light"
          },
          "paper_bgcolor": "white",
          "plot_bgcolor": "#E5ECF6",
          "polar": {
           "angularaxis": {
            "gridcolor": "white",
            "linecolor": "white",
            "ticks": ""
           },
           "bgcolor": "#E5ECF6",
           "radialaxis": {
            "gridcolor": "white",
            "linecolor": "white",
            "ticks": ""
           }
          },
          "scene": {
           "xaxis": {
            "backgroundcolor": "#E5ECF6",
            "gridcolor": "white",
            "gridwidth": 2,
            "linecolor": "white",
            "showbackground": true,
            "ticks": "",
            "zerolinecolor": "white"
           },
           "yaxis": {
            "backgroundcolor": "#E5ECF6",
            "gridcolor": "white",
            "gridwidth": 2,
            "linecolor": "white",
            "showbackground": true,
            "ticks": "",
            "zerolinecolor": "white"
           },
           "zaxis": {
            "backgroundcolor": "#E5ECF6",
            "gridcolor": "white",
            "gridwidth": 2,
            "linecolor": "white",
            "showbackground": true,
            "ticks": "",
            "zerolinecolor": "white"
           }
          },
          "shapedefaults": {
           "line": {
            "color": "#2a3f5f"
           }
          },
          "ternary": {
           "aaxis": {
            "gridcolor": "white",
            "linecolor": "white",
            "ticks": ""
           },
           "baxis": {
            "gridcolor": "white",
            "linecolor": "white",
            "ticks": ""
           },
           "bgcolor": "#E5ECF6",
           "caxis": {
            "gridcolor": "white",
            "linecolor": "white",
            "ticks": ""
           }
          },
          "title": {
           "x": 0.05
          },
          "xaxis": {
           "automargin": true,
           "gridcolor": "white",
           "linecolor": "white",
           "ticks": "",
           "title": {
            "standoff": 15
           },
           "zerolinecolor": "white",
           "zerolinewidth": 2
          },
          "yaxis": {
           "automargin": true,
           "gridcolor": "white",
           "linecolor": "white",
           "ticks": "",
           "title": {
            "standoff": 15
           },
           "zerolinecolor": "white",
           "zerolinewidth": 2
          }
         }
        }
       }
      },
      "text/html": [
       "<div>                            <div id=\"b0b06f08-9183-41e4-9220-ad20f4328ae2\" class=\"plotly-graph-div\" style=\"height:525px; width:100%;\"></div>            <script type=\"text/javascript\">                require([\"plotly\"], function(Plotly) {                    window.PLOTLYENV=window.PLOTLYENV || {};                                    if (document.getElementById(\"b0b06f08-9183-41e4-9220-ad20f4328ae2\")) {                    Plotly.newPlot(                        \"b0b06f08-9183-41e4-9220-ad20f4328ae2\",                        [{\"x\":[1,2,3,4,5],\"y\":[1,2,6,4,1],\"type\":\"scatter\"}],                        {\"template\":{\"data\":{\"barpolar\":[{\"marker\":{\"line\":{\"color\":\"#E5ECF6\",\"width\":0.5},\"pattern\":{\"fillmode\":\"overlay\",\"size\":10,\"solidity\":0.2}},\"type\":\"barpolar\"}],\"bar\":[{\"error_x\":{\"color\":\"#2a3f5f\"},\"error_y\":{\"color\":\"#2a3f5f\"},\"marker\":{\"line\":{\"color\":\"#E5ECF6\",\"width\":0.5},\"pattern\":{\"fillmode\":\"overlay\",\"size\":10,\"solidity\":0.2}},\"type\":\"bar\"}],\"carpet\":[{\"aaxis\":{\"endlinecolor\":\"#2a3f5f\",\"gridcolor\":\"white\",\"linecolor\":\"white\",\"minorgridcolor\":\"white\",\"startlinecolor\":\"#2a3f5f\"},\"baxis\":{\"endlinecolor\":\"#2a3f5f\",\"gridcolor\":\"white\",\"linecolor\":\"white\",\"minorgridcolor\":\"white\",\"startlinecolor\":\"#2a3f5f\"},\"type\":\"carpet\"}],\"choropleth\":[{\"colorbar\":{\"outlinewidth\":0,\"ticks\":\"\"},\"type\":\"choropleth\"}],\"contourcarpet\":[{\"colorbar\":{\"outlinewidth\":0,\"ticks\":\"\"},\"type\":\"contourcarpet\"}],\"contour\":[{\"colorbar\":{\"outlinewidth\":0,\"ticks\":\"\"},\"colorscale\":[[0.0,\"#0d0887\"],[0.1111111111111111,\"#46039f\"],[0.2222222222222222,\"#7201a8\"],[0.3333333333333333,\"#9c179e\"],[0.4444444444444444,\"#bd3786\"],[0.5555555555555556,\"#d8576b\"],[0.6666666666666666,\"#ed7953\"],[0.7777777777777778,\"#fb9f3a\"],[0.8888888888888888,\"#fdca26\"],[1.0,\"#f0f921\"]],\"type\":\"contour\"}],\"heatmapgl\":[{\"colorbar\":{\"outlinewidth\":0,\"ticks\":\"\"},\"colorscale\":[[0.0,\"#0d0887\"],[0.1111111111111111,\"#46039f\"],[0.2222222222222222,\"#7201a8\"],[0.3333333333333333,\"#9c179e\"],[0.4444444444444444,\"#bd3786\"],[0.5555555555555556,\"#d8576b\"],[0.6666666666666666,\"#ed7953\"],[0.7777777777777778,\"#fb9f3a\"],[0.8888888888888888,\"#fdca26\"],[1.0,\"#f0f921\"]],\"type\":\"heatmapgl\"}],\"heatmap\":[{\"colorbar\":{\"outlinewidth\":0,\"ticks\":\"\"},\"colorscale\":[[0.0,\"#0d0887\"],[0.1111111111111111,\"#46039f\"],[0.2222222222222222,\"#7201a8\"],[0.3333333333333333,\"#9c179e\"],[0.4444444444444444,\"#bd3786\"],[0.5555555555555556,\"#d8576b\"],[0.6666666666666666,\"#ed7953\"],[0.7777777777777778,\"#fb9f3a\"],[0.8888888888888888,\"#fdca26\"],[1.0,\"#f0f921\"]],\"type\":\"heatmap\"}],\"histogram2dcontour\":[{\"colorbar\":{\"outlinewidth\":0,\"ticks\":\"\"},\"colorscale\":[[0.0,\"#0d0887\"],[0.1111111111111111,\"#46039f\"],[0.2222222222222222,\"#7201a8\"],[0.3333333333333333,\"#9c179e\"],[0.4444444444444444,\"#bd3786\"],[0.5555555555555556,\"#d8576b\"],[0.6666666666666666,\"#ed7953\"],[0.7777777777777778,\"#fb9f3a\"],[0.8888888888888888,\"#fdca26\"],[1.0,\"#f0f921\"]],\"type\":\"histogram2dcontour\"}],\"histogram2d\":[{\"colorbar\":{\"outlinewidth\":0,\"ticks\":\"\"},\"colorscale\":[[0.0,\"#0d0887\"],[0.1111111111111111,\"#46039f\"],[0.2222222222222222,\"#7201a8\"],[0.3333333333333333,\"#9c179e\"],[0.4444444444444444,\"#bd3786\"],[0.5555555555555556,\"#d8576b\"],[0.6666666666666666,\"#ed7953\"],[0.7777777777777778,\"#fb9f3a\"],[0.8888888888888888,\"#fdca26\"],[1.0,\"#f0f921\"]],\"type\":\"histogram2d\"}],\"histogram\":[{\"marker\":{\"pattern\":{\"fillmode\":\"overlay\",\"size\":10,\"solidity\":0.2}},\"type\":\"histogram\"}],\"mesh3d\":[{\"colorbar\":{\"outlinewidth\":0,\"ticks\":\"\"},\"type\":\"mesh3d\"}],\"parcoords\":[{\"line\":{\"colorbar\":{\"outlinewidth\":0,\"ticks\":\"\"}},\"type\":\"parcoords\"}],\"pie\":[{\"automargin\":true,\"type\":\"pie\"}],\"scatter3d\":[{\"line\":{\"colorbar\":{\"outlinewidth\":0,\"ticks\":\"\"}},\"marker\":{\"colorbar\":{\"outlinewidth\":0,\"ticks\":\"\"}},\"type\":\"scatter3d\"}],\"scattercarpet\":[{\"marker\":{\"colorbar\":{\"outlinewidth\":0,\"ticks\":\"\"}},\"type\":\"scattercarpet\"}],\"scattergeo\":[{\"marker\":{\"colorbar\":{\"outlinewidth\":0,\"ticks\":\"\"}},\"type\":\"scattergeo\"}],\"scattergl\":[{\"marker\":{\"colorbar\":{\"outlinewidth\":0,\"ticks\":\"\"}},\"type\":\"scattergl\"}],\"scattermapbox\":[{\"marker\":{\"colorbar\":{\"outlinewidth\":0,\"ticks\":\"\"}},\"type\":\"scattermapbox\"}],\"scatterpolargl\":[{\"marker\":{\"colorbar\":{\"outlinewidth\":0,\"ticks\":\"\"}},\"type\":\"scatterpolargl\"}],\"scatterpolar\":[{\"marker\":{\"colorbar\":{\"outlinewidth\":0,\"ticks\":\"\"}},\"type\":\"scatterpolar\"}],\"scatter\":[{\"fillpattern\":{\"fillmode\":\"overlay\",\"size\":10,\"solidity\":0.2},\"type\":\"scatter\"}],\"scatterternary\":[{\"marker\":{\"colorbar\":{\"outlinewidth\":0,\"ticks\":\"\"}},\"type\":\"scatterternary\"}],\"surface\":[{\"colorbar\":{\"outlinewidth\":0,\"ticks\":\"\"},\"colorscale\":[[0.0,\"#0d0887\"],[0.1111111111111111,\"#46039f\"],[0.2222222222222222,\"#7201a8\"],[0.3333333333333333,\"#9c179e\"],[0.4444444444444444,\"#bd3786\"],[0.5555555555555556,\"#d8576b\"],[0.6666666666666666,\"#ed7953\"],[0.7777777777777778,\"#fb9f3a\"],[0.8888888888888888,\"#fdca26\"],[1.0,\"#f0f921\"]],\"type\":\"surface\"}],\"table\":[{\"cells\":{\"fill\":{\"color\":\"#EBF0F8\"},\"line\":{\"color\":\"white\"}},\"header\":{\"fill\":{\"color\":\"#C8D4E3\"},\"line\":{\"color\":\"white\"}},\"type\":\"table\"}]},\"layout\":{\"annotationdefaults\":{\"arrowcolor\":\"#2a3f5f\",\"arrowhead\":0,\"arrowwidth\":1},\"autotypenumbers\":\"strict\",\"coloraxis\":{\"colorbar\":{\"outlinewidth\":0,\"ticks\":\"\"}},\"colorscale\":{\"diverging\":[[0,\"#8e0152\"],[0.1,\"#c51b7d\"],[0.2,\"#de77ae\"],[0.3,\"#f1b6da\"],[0.4,\"#fde0ef\"],[0.5,\"#f7f7f7\"],[0.6,\"#e6f5d0\"],[0.7,\"#b8e186\"],[0.8,\"#7fbc41\"],[0.9,\"#4d9221\"],[1,\"#276419\"]],\"sequential\":[[0.0,\"#0d0887\"],[0.1111111111111111,\"#46039f\"],[0.2222222222222222,\"#7201a8\"],[0.3333333333333333,\"#9c179e\"],[0.4444444444444444,\"#bd3786\"],[0.5555555555555556,\"#d8576b\"],[0.6666666666666666,\"#ed7953\"],[0.7777777777777778,\"#fb9f3a\"],[0.8888888888888888,\"#fdca26\"],[1.0,\"#f0f921\"]],\"sequentialminus\":[[0.0,\"#0d0887\"],[0.1111111111111111,\"#46039f\"],[0.2222222222222222,\"#7201a8\"],[0.3333333333333333,\"#9c179e\"],[0.4444444444444444,\"#bd3786\"],[0.5555555555555556,\"#d8576b\"],[0.6666666666666666,\"#ed7953\"],[0.7777777777777778,\"#fb9f3a\"],[0.8888888888888888,\"#fdca26\"],[1.0,\"#f0f921\"]]},\"colorway\":[\"#636efa\",\"#EF553B\",\"#00cc96\",\"#ab63fa\",\"#FFA15A\",\"#19d3f3\",\"#FF6692\",\"#B6E880\",\"#FF97FF\",\"#FECB52\"],\"font\":{\"color\":\"#2a3f5f\"},\"geo\":{\"bgcolor\":\"white\",\"lakecolor\":\"white\",\"landcolor\":\"#E5ECF6\",\"showlakes\":true,\"showland\":true,\"subunitcolor\":\"white\"},\"hoverlabel\":{\"align\":\"left\"},\"hovermode\":\"closest\",\"mapbox\":{\"style\":\"light\"},\"paper_bgcolor\":\"white\",\"plot_bgcolor\":\"#E5ECF6\",\"polar\":{\"angularaxis\":{\"gridcolor\":\"white\",\"linecolor\":\"white\",\"ticks\":\"\"},\"bgcolor\":\"#E5ECF6\",\"radialaxis\":{\"gridcolor\":\"white\",\"linecolor\":\"white\",\"ticks\":\"\"}},\"scene\":{\"xaxis\":{\"backgroundcolor\":\"#E5ECF6\",\"gridcolor\":\"white\",\"gridwidth\":2,\"linecolor\":\"white\",\"showbackground\":true,\"ticks\":\"\",\"zerolinecolor\":\"white\"},\"yaxis\":{\"backgroundcolor\":\"#E5ECF6\",\"gridcolor\":\"white\",\"gridwidth\":2,\"linecolor\":\"white\",\"showbackground\":true,\"ticks\":\"\",\"zerolinecolor\":\"white\"},\"zaxis\":{\"backgroundcolor\":\"#E5ECF6\",\"gridcolor\":\"white\",\"gridwidth\":2,\"linecolor\":\"white\",\"showbackground\":true,\"ticks\":\"\",\"zerolinecolor\":\"white\"}},\"shapedefaults\":{\"line\":{\"color\":\"#2a3f5f\"}},\"ternary\":{\"aaxis\":{\"gridcolor\":\"white\",\"linecolor\":\"white\",\"ticks\":\"\"},\"baxis\":{\"gridcolor\":\"white\",\"linecolor\":\"white\",\"ticks\":\"\"},\"bgcolor\":\"#E5ECF6\",\"caxis\":{\"gridcolor\":\"white\",\"linecolor\":\"white\",\"ticks\":\"\"}},\"title\":{\"x\":0.05},\"xaxis\":{\"automargin\":true,\"gridcolor\":\"white\",\"linecolor\":\"white\",\"ticks\":\"\",\"title\":{\"standoff\":15},\"zerolinecolor\":\"white\",\"zerolinewidth\":2},\"yaxis\":{\"automargin\":true,\"gridcolor\":\"white\",\"linecolor\":\"white\",\"ticks\":\"\",\"title\":{\"standoff\":15},\"zerolinecolor\":\"white\",\"zerolinewidth\":2}}}},                        {\"responsive\": true}                    ).then(function(){\n",
       "                            \n",
       "var gd = document.getElementById('b0b06f08-9183-41e4-9220-ad20f4328ae2');\n",
       "var x = new MutationObserver(function (mutations, observer) {{\n",
       "        var display = window.getComputedStyle(gd).display;\n",
       "        if (!display || display === 'none') {{\n",
       "            console.log([gd, 'removed!']);\n",
       "            Plotly.purge(gd);\n",
       "            observer.disconnect();\n",
       "        }}\n",
       "}});\n",
       "\n",
       "// Listen for the removal of the full notebook cells\n",
       "var notebookContainer = gd.closest('#notebook-container');\n",
       "if (notebookContainer) {{\n",
       "    x.observe(notebookContainer, {childList: true});\n",
       "}}\n",
       "\n",
       "// Listen for the clearing of the current output cell\n",
       "var outputEl = gd.closest('.output');\n",
       "if (outputEl) {{\n",
       "    x.observe(outputEl, {childList: true});\n",
       "}}\n",
       "\n",
       "                        })                };                });            </script>        </div>"
      ]
     },
     "metadata": {},
     "output_type": "display_data"
    }
   ],
   "source": [
    "iplot([{\"x\": [1, 2, 3, 4, 5], \"y\": [1, 2, 6, 4, 1]}])"
   ]
  },
  {
   "cell_type": "code",
   "execution_count": 4,
   "metadata": {
    "id": "EVFmJ-mf25LC",
    "outputId": "c612787f-2a18-4023-d39e-128d849f5dfb"
   },
   "outputs": [
    {
     "data": {
      "application/vnd.plotly.v1+json": {
       "config": {
        "linkText": "Export to plot.ly",
        "plotlyServerURL": "https://plot.ly",
        "showLink": false
       },
       "data": [
        {
         "contours": {
          "coloring": "heatmap"
         },
         "type": "histogram2dcontour",
         "x": [
          0.5465736579520414,
          1.199191097945311,
          1.3854618294216,
          2.8739246833723233,
          0.34959007762020833,
          0.2101219159748956,
          -0.044104488800265025,
          -0.3592033328931769,
          0.15798466686180104,
          -1.437216718134857,
          0.1878965017376754,
          1.0656446181169124,
          1.9543459858599048,
          -0.13365273991778773,
          1.0865978677907642,
          -0.8012369775279364,
          0.24275118550613972,
          0.4714792992521871,
          -0.2909337414549523,
          0.6697060393177087,
          1.784870009597721,
          0.2589910521077722,
          -1.497240776889539,
          -0.479359708310925,
          0.45528549411002306,
          0.038430693968327594,
          -1.0265295573073607,
          0.06461751069412792,
          -0.35942546787123253,
          0.48621172903282267,
          -0.2817744251651497,
          0.2977005001462227,
          -1.4270267380366741,
          -0.5561636323850507,
          -0.7156435898570221,
          -1.9145496915702302,
          -0.4312151950626301,
          -0.29564919641526605,
          -0.1231947781276731,
          0.6454882541999198,
          -0.478329869503585,
          1.203922332479485,
          0.4836432981705512,
          1.4399216001163777,
          0.7306170693905668,
          -1.2199329537504187,
          0.38913531377747557,
          -1.3038256706586815,
          -0.2992829907651729,
          -0.35175290103588297,
          1.2672298063770981,
          2.023654805008079,
          0.24155703578779975,
          0.1918472382915681,
          -0.07441984550654247,
          0.41316246629391246,
          1.3337394754039775,
          1.1975096248517103,
          1.770995303011352,
          0.2383436924870869,
          -0.8149678167167053,
          -0.36117695107398023,
          0.3248187401677931,
          0.03894887535931781,
          0.017981565921951763,
          0.18713400491639737,
          -1.013506419998934,
          1.3250368400136339,
          -0.03644421459666435,
          -1.181788588250882,
          0.8299847445602468,
          -0.47394086912914274,
          1.8297470636298143,
          1.2406019906218835,
          -0.5872218850525966,
          0.8557743796123175,
          1.2665062142740795,
          0.36477875738379917,
          -0.0589094079335857,
          -1.7219831188255188,
          1.4573177614277626,
          -1.1004804504983625,
          0.5611371055131029,
          -0.3062970274676136,
          0.22063060322019426,
          0.12797459122834165,
          -0.9410831903014033,
          -1.5033156858405465,
          -0.8573911947076823,
          0.13261726061587173,
          0.4266188230720724,
          0.19227178472904244,
          -0.06103700326644921,
          -0.33873871153698026,
          -0.19826804762451913,
          0.6980080873712878,
          0.49237565120206517,
          -0.15547160597884016,
          0.2190900768085989,
          -0.8532174004032381,
          -0.29801131033967443,
          -0.94960300046756,
          -1.0767319594024678,
          0.030361570023168336,
          -0.3831268070788777,
          0.6216436687634521,
          -0.7159651763980263,
          1.617256082545143,
          2.345052940600371,
          0.4792120191238974,
          0.5693899603210089,
          -0.9645696137889759,
          1.4331219743114887,
          -0.30576924574035924,
          -0.041127707207843915,
          0.7545446027922127,
          0.600159774498096,
          -0.38353424599839925,
          0.5192379863451975,
          1.361346317858611,
          -1.3903708290861945,
          -0.8790252396299731,
          -1.5921541934852046,
          -0.505316150772982,
          0.3607030629790932,
          -0.26145111130351956,
          1.219136701509934,
          -0.5127178461332533,
          0.3797148405655652,
          -0.9251454914225733,
          0.34510878981466714,
          -1.2142361099207286,
          -1.2992205923235796,
          0.19984503387736957,
          0.1962849429509274,
          1.0255588717076283,
          -0.4789431001831097,
          -1.9204148748318945,
          0.21196177691118603,
          -0.33643053294504827,
          -1.2016008572524077,
          0.2868808449318455,
          -0.8007709328607542,
          0.10185884103194316,
          -0.057120414762734294,
          -0.7442492847507595,
          2.2315728446739325,
          -0.7782309522821865,
          1.68419544250344,
          -0.36862980215238694,
          0.7611684539533521,
          0.8197228685426162,
          0.9723544529643455,
          1.0235122963193775,
          -0.7723302858553691,
          -0.9880683927193767,
          0.24177140299032787,
          1.5104821267527546,
          0.3240066270473089,
          -1.90936288029695,
          1.1031982410998094,
          -1.0977577273814236,
          -0.6268756195357855,
          -0.17024881211190573,
          1.6349396868065988,
          -1.281632390482404,
          -1.369913972744195,
          -0.19593277154847225,
          -1.2485731955501573,
          1.404552219098374,
          -0.5274365471314493,
          -0.44092225346961555,
          -1.0491567408380902,
          -0.7357776787506887,
          -0.15243506688100544,
          -0.7047651886383794,
          1.219466195719851,
          -0.414601823333276,
          -2.7908942345780168,
          -2.2411689481072306,
          0.18083965327063725,
          -0.15151523960018162,
          -0.4517657092857894,
          0.9927832147227739,
          0.24193645475487033,
          -0.5105738723950974,
          0.2988534401974377,
          0.009113678745944615,
          1.404902765830761,
          1.4991550893366712,
          0.9357843945369488,
          -0.09556995384429595,
          1.2140850669421401,
          0.7418105449638375,
          -1.1899254031942996,
          2.2542754532893645,
          -0.5420586052793077,
          -0.01249247573849786,
          -0.27325671376241933,
          0.9838205670907701,
          1.3698640635450432,
          -0.38021839260064844,
          -0.2721913737024253,
          0.20532582736683258,
          0.3413329230906213,
          1.2272116192293003,
          1.104377626621635,
          -2.5632992362806606,
          -0.5597664916276317,
          1.2086081267906092,
          0.2670219881074668,
          0.5483888876667379,
          0.961035468986979,
          -0.36825039641486085,
          0.34059059889154825,
          -1.8649672525127854,
          0.09669400269649453,
          1.326529300180918,
          -0.5658259997520977,
          -0.3599837272634119,
          1.4159131070054576,
          -1.5255859384485877,
          0.8817051609524431,
          0.0901828937610591,
          -1.1292763015939253,
          0.7443053720207518,
          0.2121763034841361,
          0.08759439014810892,
          0.4141962952372725,
          -0.7424822976450546,
          -0.8745229494850951,
          0.13919530117094128,
          -1.0989108467408129,
          1.0946555354665084,
          -0.9677935529156402,
          -0.19563813827761825,
          -0.19595966673445786,
          -0.9687153390878962,
          0.05951905448847641,
          0.839632814312218,
          -1.4279987317999616,
          0.738020238042697,
          -0.2798845902882226,
          -0.18322671298030951,
          -1.448073587708047,
          0.45571655305876874,
          -0.2542113137558483,
          -0.933899783730624,
          -0.45954856654908427,
          0.6717981043594805,
          0.791118984926067,
          -1.474076032732944,
          -0.49039728730576915,
          0.185485668861812,
          -0.074423117167162,
          1.022547373015571,
          -0.14636835923938785,
          0.7027717570659885,
          0.8190599224406516,
          -0.3777617332087278,
          1.777959603501752,
          -0.8900401678552913,
          0.3839921395671437,
          -0.13897327241505628,
          1.4210537016901907,
          -1.8071283659337554,
          -0.6063941198880582,
          -0.8072658473621892,
          -0.9705853450242022,
          -0.5005122320712426,
          1.7263189465857522,
          0.8462374123657451,
          -0.17947560324532852,
          -0.29581100896773155,
          -0.3636106707209423,
          0.9069882370225214,
          -2.3804690365346577,
          -1.1648097291103627,
          -0.8602762829147041,
          -0.7707088762216882,
          0.8161872841031507,
          -1.9066625080538977,
          1.6625281307286446,
          -1.8515279817331458,
          1.0857433472897846,
          -0.9289869094933203,
          2.7181978918854655,
          0.2558080201622237,
          -1.2443607406053083,
          -1.8406386176957468,
          1.2588908128184302,
          -1.0242000854054905,
          0.10314946151556201,
          -0.016753630810475786,
          0.8379074475766622,
          0.61019944567419,
          0.19932044546826325,
          -1.0756534644897673,
          -0.012513922927383776,
          -0.8159518083593977,
          0.3796054754996264,
          0.4243370887829271,
          1.3262991957265073,
          0.6844341043376888,
          -1.1171694301478756,
          0.7336281671313238,
          0.6147426649164572,
          -0.7217358125626246,
          0.4219475901094399,
          0.8731242279151323,
          2.0636513326180186,
          0.14702331842661956,
          -0.31078968592865924,
          -1.2067813568540813,
          0.5356977205246708,
          0.28108393898281836,
          0.7489041449474183,
          1.0680368627645611,
          0.1862468204666871,
          0.8678795868179884,
          0.1050354876890061,
          1.3432319738188025,
          0.11552707476511358,
          0.013711422506430053,
          -0.916841723609218,
          -0.7926518503303284,
          0.35125312421719146,
          -0.5302011520907064,
          -0.4140719536125548,
          -0.2050195988751169,
          0.5648748044552677,
          -3.064800482505433,
          -0.4841250516132817,
          -1.305580885308176,
          -0.9817473976693237,
          -0.8488895588623401,
          0.008730788510092168,
          -0.5026956204263193,
          -0.8771875161933576,
          -1.2180291828827958,
          -0.06902074372482991,
          1.1987468631885982,
          1.2984139262012508,
          -0.4630193317895061,
          0.720346482950109,
          -0.24831117984970966,
          0.7181120460152632,
          0.7945239699314206,
          0.28374937921432414,
          0.7157578127045728,
          -0.35513296213889917,
          1.4209484493274813,
          0.26540786151546336,
          0.8898391264040384,
          0.14255101445548155,
          0.0032068268331731185,
          -0.6671660170003195,
          0.022366611216438872,
          0.07878078073444195,
          0.34197645766567414,
          2.0757970363747718,
          -1.8593055884116705,
          -0.25678085858411787,
          -1.13561888170855,
          1.1094019570722784,
          -0.1570166336785825,
          -0.009939560048638652,
          1.8219939249514792,
          0.31050811101284703,
          0.8997816378760153,
          0.48935658085186307,
          2.1125127017298144,
          0.25911997935131,
          1.278354799935499,
          -0.04874548015616842,
          0.062047211467902465,
          0.7880336860641423,
          0.6482787895919094,
          -0.8643128722211646,
          -0.17704890831657638,
          0.4278561655809566,
          -0.6725978300900635,
          0.7532156726464722,
          1.1267148685818746,
          -0.31460266776774853,
          -1.8699249057409486,
          0.1408877440611983,
          1.7625408446618822,
          1.4013211434780122,
          -0.2624180178676363,
          1.2751848807258628,
          0.36232204085270214,
          1.0278038875962163,
          0.9431832944734982,
          -0.4773737329192406,
          0.4092995418924496,
          1.1042127709161387,
          1.0196077126208907,
          -0.7066993182145354,
          -0.09062026401885091,
          0.9042222309598213,
          0.5837678403386827,
          -1.4622035877878476,
          0.03549483280717214,
          0.17634186503378568,
          0.6202511852217657,
          0.16988502660133944,
          -1.4394027604626216,
          -1.0813220488114192,
          0.09199886469050884,
          0.7495381469822144,
          -0.49827148321964065,
          0.6071546695965455,
          0.3233816842508152,
          -1.156315585332376,
          -0.7634740396283455,
          0.3984747772632237,
          -0.060217263135913225,
          1.7956788416668943,
          2.542600737537201,
          0.4994194955431525,
          0.27816577279541177,
          1.4073050107990102,
          -0.10232046015307393,
          -0.26349249085945664,
          -1.0256316375161283,
          1.772056790723303,
          0.24224504535957941,
          0.3006408983130885,
          1.6918640857943321,
          -1.3297808013553156,
          0.25809765563625886,
          -0.59239277095806,
          -0.6461180348748141,
          -0.44561532108747853,
          -0.651478543644362,
          0.10768121655458111,
          -1.3224587343715255,
          0.03164819185801112,
          -0.9666691403812319,
          2.419495372268247,
          -2.4087828344100735,
          -0.17068488580004607,
          -1.1722470993510372,
          0.0561233561348205,
          -0.29642066578134507,
          2.0279502832089147,
          0.08116448281928121,
          0.7782972437314664,
          2.170570773151476,
          -0.0044883036898510946,
          0.4989056527058948,
          0.875752378743303,
          1.6663774874096755,
          0.2662860177778213,
          -2.1508197035134144,
          -2.421473591109148,
          0.4237028842587805,
          0.25618830916428026,
          0.326716147497096,
          -0.8180977882301173,
          0.8549382024429162,
          1.7337276636574148,
          -0.30387887964708105,
          0.6965555546694839,
          -1.209562860820719,
          1.4135875403846951,
          0.812097701627545,
          0.3514312359627664,
          0.17641104959854786,
          0.2296601538600224,
          -2.66691510742759,
          -0.7817786599740923,
          0.31064058351725005,
          0.01395076192648793,
          -1.488701457266969,
          -1.846869179619965,
          0.5651796050978727,
          -2.3227913549856503,
          -0.40442735238775834,
          -0.37389646392119275,
          0.9045194646556894,
          -0.6249478771948798,
          0.8568279956458877,
          1.3198008913951431,
          0.06386421249570061,
          -1.923053763380045,
          0.5285409862347922,
          0.8782753403978073,
          -1.2613677308164752,
          0.9410515378885274,
          -0.15020838442364917,
          0.10790163585921395,
          1.990399343992763,
          -0.6620782088489374,
          1.7274352947962985,
          0.9178261489669293,
          -1.300251997364336,
          -0.4672890728063471,
          0.3981479519984537,
          0.33455737600563284,
          -0.7033165154098072,
          -1.7609189151542708,
          2.1432201732362053,
          -1.4701393475965883,
          0.6568684421145592,
          0.5089215288237326,
          -0.9146330678204414,
          1.8556579879031903,
          0.8844976541214351,
          0.8447609447427107,
          -0.4706295702946832,
          -0.12456612453966409,
          0.5223446349854642,
          0.08449757841392713,
          0.9787979964751297,
          -0.019199309498494584,
          -0.10367929655578426,
          0.9128643556526228,
          0.845790808096461,
          -0.08668882122786092,
          -0.5892828927299268,
          2.4409667723859343,
          -0.6517484968774027,
          -0.24314076313647046,
          2.4626932639304373,
          0.05783164918446414,
          -0.5735281551464478,
          -1.0791443596965073,
          0.3612375674309647,
          2.2925030613818445,
          0.6766843636127455,
          -1.2251603240426008,
          0.27366058123833703,
          -0.3005690373566258,
          -1.4834427505217584,
          0.18864489835739712,
          1.3242267787263162,
          -0.5369316064649243,
          -0.29684323942868623,
          -0.2931442869979767,
          -1.151864864829075,
          -1.9489129131553868,
          -0.35868926256358974,
          0.727890929774501,
          -0.15404955758732103,
          -0.25602379937052183,
          1.9729624115118982,
          -0.5432877111788449,
          -1.269406829233057,
          1.614074656830744,
          -0.3584460460015811,
          1.4688419240738126,
          -2.2353018147054335,
          0.12369658194148934,
          1.3007585619195852,
          -0.6823619769354514,
          -0.0537007867762153,
          -0.536046057129287,
          -1.9680509173354397,
          -0.2698358745556005,
          -1.1449847579260344,
          -0.6008853503374222,
          -1.1409468471687618,
          -1.0169347346564983,
          -0.8828202033345894,
          -1.2861171622147065,
          0.9692905737581483,
          0.30420920021187337,
          -0.8319940540088501,
          -1.3697441424872667,
          0.7169045505942391,
          1.4351117406080653,
          -1.21483658928051,
          0.30526382670873164,
          2.5727270702161835,
          0.5387278599034516,
          0.6590774463170339,
          0.49609880272419116,
          -0.7316574666629463,
          -0.49560644857268116,
          0.9998569447827164,
          0.33910416589228415,
          0.9945594888800132,
          -0.9445584322383755,
          0.9190383834955681,
          0.33547520116013435,
          -0.6739295574048285,
          0.07582519956010776,
          -0.6737396061681181,
          -1.2268165052238267,
          0.3049735109252614,
          0.7839621781139676,
          1.0892869291799647,
          1.640280025549598,
          -0.8344705002684724,
          -1.4272379343033967,
          1.8426524265790496,
          1.201809065960673,
          -0.1983990659835364,
          -0.33192458053657947,
          -2.0659219089595067,
          -0.043547281813813093,
          -0.45523998856628983,
          -1.6403193532446934,
          0.6687239711661691,
          -0.5042776465498529,
          -0.37523703969656896,
          0.7429489574872914,
          0.02802768417862022,
          -1.070974660874209,
          0.03442542234621025,
          1.5987272531045948,
          1.2338883414968846,
          -0.24432324349031798,
          -0.7827205352954498,
          -1.1741593852853751,
          0.6333462241460843,
          -2.55038747229211,
          0.23940038481389667,
          0.2865789396208104,
          -0.2963722329100241,
          0.6189527385317501,
          -0.8717095513510615,
          -0.05285760232344006,
          -0.968980895328761,
          0.8825671746053845,
          1.1257945014393744,
          -1.2022745004316362,
          0.8616968236186666,
          -0.9603090913532758,
          0.5777775590828547,
          1.1948615454961051,
          0.07051477974859462,
          -1.9397152055979856,
          -1.2403731982962911,
          1.0652296899064984,
          1.226888021164865,
          0.6723669150977968,
          -1.2727718339730796,
          0.20057759930134764,
          -0.19006355007180636,
          -0.3399704729128217,
          -0.7742677808677285,
          -1.2795716026582542,
          -0.6008967523771077,
          -1.2121564354817134,
          0.23688766464491473,
          1.9158024529227777,
          -0.3021695485372087,
          0.5268948577064745,
          -1.0661813770402744,
          -0.7173481509055941,
          2.3046810068406014,
          -1.067724803722399,
          0.38910743239923723,
          -0.4793934110116364,
          -1.6121006131183124,
          -1.2093315217786251,
          -0.7011603672722017,
          0.04594299430635943,
          -0.7354333146678006,
          -0.8761375723241206,
          0.061137199106223,
          1.2651626354594496,
          -0.17575202876895887,
          -0.27561483744844345,
          -1.5859549136176334,
          1.4945065053084432,
          -0.900924689220603,
          0.5908205657557017,
          0.38463332299667197,
          -1.3103058819496372,
          1.3575459292981067,
          0.10355497990704053,
          -0.11400630844596832,
          1.6243304846456839,
          0.11839890841477883,
          0.05791727445068717,
          -0.25356359843036613,
          -1.8956121269974855,
          -0.05528657395101722,
          -0.4214899922246996,
          0.08251561057603918,
          0.7592967914350558,
          -0.2668826845021553,
          -0.633158443982216,
          0.8923850248050718,
          -1.3623993663321476,
          -1.0735478108363887,
          -2.1286518476528826,
          -0.5392829964658732,
          2.023798185380656,
          1.8952310989220167,
          -0.4224479041253591,
          1.1449472937750587,
          0.14163658735420717,
          0.6988023345954761,
          -0.5829273809187304,
          -1.2543716908636857,
          -0.1494412557675123,
          -0.9941796828478328,
          -0.6168536682372214,
          0.19844531059159087,
          -0.4598339490019057,
          0.28693479077669454,
          -0.002109467541671378,
          0.5348683445480905,
          2.5020064687788754,
          1.3842266841015747,
          -0.24635753523536844,
          1.549041276102489,
          -0.09554440033964827,
          -0.37032356514926495,
          1.1950410567635241,
          0.7477200923184676,
          -0.9792517159413072,
          0.031329886987459615,
          -0.968395176805899,
          1.2369973525978786,
          1.673023893615962,
          -0.3024254370294277,
          -0.4438472840968737,
          -1.1477316947530016,
          0.8681499603639105,
          0.334059252104856,
          -0.17871267206898603,
          -0.5927527028024288,
          2.0386947165083784,
          -0.10353003909564498,
          0.09997415507331824,
          -0.10295473789335226,
          1.2220526711328217,
          -0.6880891316310619,
          0.025567043864230813,
          -0.0012197465963647647,
          1.6153072722359025,
          0.23252158194414763,
          -0.0064368958386073274,
          0.5109014245159308,
          0.2570910437581396,
          -0.7434708102102804,
          -0.6177341042028985,
          -0.4268650831884757,
          -0.39489848700135816,
          -0.20048408564784578,
          0.3900139390841064,
          0.9216888390265542,
          -0.42426836099035126,
          -0.9488981415885542,
          0.8941713531141089,
          0.7447848967342947,
          -1.9353542535304984,
          -0.19010427347493222,
          0.5221397740342424,
          0.5676477437267302,
          0.21802058740465596,
          -0.3685782395982187,
          0.4812756705966927,
          -1.189329453695909,
          0.23370116186052373,
          -0.27213412849795454,
          1.6807488798627739,
          -0.3644949971800649,
          1.2848332085434022,
          0.8242819047193088,
          0.5810964226151305,
          -0.19024709931589365,
          -0.896309995553333,
          -0.44059164343442286,
          -2.209254442126772,
          0.22793377288814762,
          -0.9847084144433057,
          -1.1474075633255911,
          0.05981404555399189,
          0.4909306637162865,
          -0.07118245119674416,
          -0.8282176213228836,
          0.5892977946051453,
          -1.6937920010050027,
          0.851198248016464,
          0.7344175799381721,
          0.5416423832130207,
          1.185010726737503,
          0.695992048376487,
          -1.894987113490657,
          -1.4711639412558921,
          0.9607682303298711,
          0.43975296620027715,
          0.689052260680187,
          0.811968127531019,
          -0.29883253687404415,
          0.9024503161726184,
          0.43821775148884134,
          0.27920199733101186,
          0.006042154419405174,
          -0.6279058016589152,
          -1.5414272785685135,
          -0.7153765715581805,
          0.21773786332641185,
          2.7521044141728743,
          -0.4353156199072523,
          -1.1060510376379744,
          -2.19586345408302,
          -0.7149552049423001,
          -0.25201689159379265,
          0.6812958792908516,
          0.8202335062963001,
          -1.0343165974281114,
          -1.0931591016459723,
          0.5824211073306773,
          1.5303835012564382,
          1.6052214404030305,
          0.9851478096579722,
          0.5797532302200665,
          0.03497299006604775,
          -0.2339329848967712,
          0.10244801072708995,
          0.180921251800485,
          1.1360782198372674,
          -0.9641230884699848,
          -1.9807289837732827,
          -0.4986636335430608,
          0.5567525758319368,
          -0.822846504557857,
          -0.84977017755536,
          -0.2321956833021199,
          -1.7879243408161452,
          -0.304937058640139,
          -1.2880089540252408,
          -0.6897273382395196,
          -1.5153290753671356,
          -0.8775763474085007,
          -1.1271549556150504,
          -1.1777632989544584,
          0.2242163140159442,
          -0.7769082511992457,
          0.07537533703583409,
          -0.9526231314585168,
          1.2261932881589452,
          -0.32270590477779354,
          1.4828530208930102,
          0.368474951971865,
          0.25705168294362074,
          0.029300786043937734,
          -0.0705563264185672,
          -0.30570442064978604,
          -1.0349251310672067,
          -0.9324934044980466,
          -0.6517943391510365,
          -1.0710811507472062,
          -0.44818834112429967,
          -0.40000870527796323,
          -0.264900655194727,
          0.854476554516275,
          1.5489162426566379,
          0.8970692761355341,
          -0.22933859127993136,
          -0.702487288067723,
          0.2736550389657503,
          -0.22961061109875897,
          1.0044044418200322,
          0.8581981987463504,
          0.3067922614845921,
          -0.3651756199066655,
          0.4803306928685353,
          -0.361901105971888,
          0.0533355654391766,
          -1.2059961624355582,
          0.22390915809771061,
          1.0012547892802488,
          1.1830687063296061,
          -1.035566191412404,
          1.1322520060912393,
          -0.5625286669477705,
          0.3977997688197847,
          -0.8613965670993451,
          0.11151679396516519,
          1.9791121714689013,
          0.23500406724791223,
          0.13486722727402756,
          0.7000404606633058,
          1.6667878059687482,
          1.3131389377557703,
          0.045009966511619794,
          -1.3113662666991934,
          -0.023817005588394044,
          0.5591672229152406,
          0.42776943223784425,
          -1.3357176012836287,
          0.07717096139756888,
          -0.7389501878690646,
          -1.7757184276581952,
          -0.49703562995108586,
          0.07196227763412366,
          -0.7296797195040922,
          0.10432701334421292,
          0.2637454760291156,
          -0.7231732784263377,
          0.12384679434543078,
          -0.9556524284436385,
          -0.08419739242724275,
          -0.5943668221534311,
          -0.6411915141057434,
          1.3983934180942241,
          -1.201675878467897,
          0.6143975341676395,
          -1.9895896299257745,
          1.3854420608977158,
          -0.6296844445799883,
          -0.2521479896142054,
          0.28312780500885054,
          -0.25217063720799626,
          -3.049442321448261,
          1.0860472650835882,
          0.5441921335457527,
          -1.3021833934804905,
          -1.8063719204380633,
          -0.8399307366753049,
          0.008089632596003028,
          0.5488576665404675,
          -0.006851104025064234,
          -0.30893618009028273,
          -0.7842896095891535,
          0.41309669942411675,
          -0.25910084499489444,
          -0.26849591316771315,
          1.3479622469862935,
          1.5842184396698955,
          -0.14820470590499674,
          -0.6930314493680187,
          -1.1606642875678164,
          -0.10342387987914696,
          -1.7753429539471568,
          1.0620130994438335,
          -1.4693526426311272,
          0.49553451807972015,
          -1.411968727193103,
          -0.18465128367854552,
          -0.2416492479799183,
          -1.0504262837372011,
          -1.106761299913864,
          0.7099742655273261,
          0.5715489394862486,
          -1.308499941179441,
          -0.018364698607090772,
          -0.4680697372761507,
          1.2604770342299356,
          2.3337197713400006,
          1.2902895279547626,
          -1.0699868663229026,
          -0.8413971007903015,
          0.7977781482024946,
          1.8745531002193492,
          0.4180328789113602,
          -0.4430690817314931,
          1.295003236606799,
          1.0673601092230076,
          0.03250847220490271,
          2.5612920856907455,
          -0.5339751279548345,
          0.1118450292377074,
          -1.0466464267606181,
          0.7281674599308019,
          -0.14667380464762633,
          0.5361439973357373,
          -0.6455801391345413,
          -0.003974688822395513,
          0.18650529691373768,
          0.5465332958215213,
          -0.7409395820037273,
          0.865347184244655,
          -0.8576406987567498,
          -0.014707104160190932,
          0.12128870597613926,
          -2.552401075528895,
          -0.8502709688960564,
          0.07972223853980098,
          0.42710363900320003,
          -0.9175644078109031,
          -0.5534845117991678,
          -1.866607457952943,
          -0.8664022492526159,
          -0.6769382845290448,
          0.10706738781324979,
          0.48177951746660097,
          -0.45115751066585996,
          -0.4060255662139269,
          2.425576593171324,
          0.3677675916012053,
          0.3759087666496739,
          -0.542667797944678,
          0.06736904474971535,
          -0.6190833801474368,
          -1.9407200852571862,
          0.9035833910585847,
          2.7605214224198704,
          1.0001430623038812,
          -0.023567870459518723,
          1.632473911789778,
          0.507545505718247,
          -0.3458339981962568,
          0.7966259563230541,
          0.25532677946442306,
          1.6278426424530272,
          -0.02605563992992214,
          -1.55167745133505,
          0.09613407254468442,
          2.0448569260001697,
          0.37320499473950103,
          -0.9504008810515431,
          -0.43401725973804073,
          0.8735151230883483,
          -0.5766507211601242,
          -0.09506481952825484,
          0.3588500574902766,
          -0.3087401225435287,
          0.2583356780679459,
          1.217992367859612,
          -2.9722007220814235,
          0.09040085846368597,
          -0.2376031516635789,
          0.6896901649634558,
          -0.4532931001574331,
          -0.1909458644408877,
          0.4689370555886229,
          -0.934576945567105,
          -0.7192221300201279,
          -1.8398829128977152,
          -0.18448552619365305,
          -0.2246600491890016,
          -1.065579094396493,
          0.811295323380187,
          1.9933806746486273,
          0.24538507089852163,
          -0.78838604642682,
          -1.373912953963199,
          -0.08428816983457253,
          -1.428356171560874,
          -0.4424189913034202,
          0.844440903074474,
          0.5949460105198968,
          1.59972816797384,
          -1.3547675387932836,
          -0.5974647383829457,
          -1.5089059509221803,
          0.72905972891875,
          1.4564509488578008,
          -0.7272453241944492,
          -1.410145248303456,
          -2.5930506069097023,
          1.2368168538700746,
          -0.7049341441972579,
          -0.44848057408554637,
          -1.2993699000405197,
          0.31177485394206667,
          0.19570923601683085,
          0.35650085207150556,
          -0.005109012563237837,
          0.03943174164149487,
          -0.6253266771244538,
          -1.5622674545660864,
          0.8994214817099021,
          2.1921030200975493,
          -0.13506176881430404,
          -1.2420719237905689,
          -0.9637549905424995,
          0.024492209539889943,
          1.35467898159326,
          1.8724926029014766,
          -0.09795706967647269,
          -0.3367809939801128,
          -0.2995261017262293,
          0.9291012007077857,
          -0.9670306662807091,
          -0.12095575972997835,
          -1.0269754298305644,
          -1.637767635791713,
          -0.5547085477669292,
          0.7333929816018019,
          1.809109721300532,
          -0.28624207895504,
          1.6814845157354807,
          0.11842762955559478,
          0.16519180875746123,
          -0.7077054762901634,
          -0.4917891370898812,
          -0.39983882847402935,
          -0.28355228549121586,
          0.24652899184114918,
          1.5798105933969526,
          -0.006717090707968717,
          -0.43641225127171585,
          -0.7967878953929121,
          -0.05417425909163411,
          -1.0434063813234606,
          1.832043601420747,
          0.13932035219860225,
          0.904253932944776,
          0.4072606355123508,
          -1.1575920614646462,
          -0.6875209381124888,
          0.4372088177480439,
          -0.7884739605123356,
          0.17104483186906042,
          0.3080606159608332,
          0.3482154688687089,
          -0.7415221767490614,
          -2.095017012920495,
          -0.7486099322475,
          0.032827836951530555,
          0.8007350926714922,
          1.05788025088057,
          -0.09377541407925782,
          0.3361908212667744,
          -0.14939059680298464,
          0.12240819354519121,
          0.953094405207546,
          -0.025266379051185756,
          -0.24041826273730132,
          -0.8151450647811614,
          -0.657027127303431,
          -1.112927925779855,
          2.110560127446943,
          0.3405886873137777,
          -0.015063859983813457,
          -1.5410703842549742,
          0.6466429577306728,
          -0.9897954418784926,
          0.690358114107804,
          0.47017122351836915,
          0.6402586680685467,
          -0.04547352026453417,
          0.549558030851289,
          0.7093085998842088,
          -0.5111637750441804,
          -0.24986116328359,
          0.35472850814808143,
          0.8322048584054235,
          0.2455082589772731,
          0.038793079303608695,
          0.9582031623361112,
          -0.06374488982803567,
          0.48384403703897727,
          0.42529055419172,
          1.7340724053093062,
          1.284421793690901,
          -1.2938391748946128,
          -1.0398180577969882,
          -0.40286932694547767,
          -0.49224369719408756,
          -0.9549795633306299,
          -2.4088956812808298,
          -1.4684237125378443,
          -0.47068608650182425,
          0.9088724269419982,
          0.8010599412563421,
          -1.312414088144675,
          0.2808519156391273,
          0.14046850613131742,
          0.5540722895436236,
          0.1951743424818287,
          1.2621675624344817,
          -0.39681498754150984,
          -0.3767583364511968,
          -1.279632828481682,
          -0.028583679864970162,
          0.008028050567350453,
          0.14082951278234349,
          -1.5876892180334907,
          0.5398485768142516,
          0.6465629076478865,
          -0.20120561220988478,
          0.006859411486852795,
          -0.21243144269481581,
          2.1679812463556605,
          1.5781777961561387,
          -0.17205084628979594,
          -1.1647111850873977,
          0.8795410956143017,
          -0.9430774373023331,
          0.5487581111961122,
          0.5075185691763315,
          2.608276870137376,
          0.07144488400482732,
          -0.6022528621477454,
          -0.16025746322350404,
          1.0708339425191562,
          -0.09682144073183938,
          2.0971240109494427,
          0.933522550281925,
          2.2301010375850123,
          0.13217327567743345,
          -0.27876288098136576,
          2.1412340890532677,
          0.12097433387542067,
          -0.05633677487311188,
          2.243192307427613,
          0.39303325279367196,
          -0.6967708728159139,
          -1.1405915312470656,
          1.731876877289144,
          -0.7141645872874062,
          0.9446189208867273,
          0.6663424449997936,
          -0.11397649726101075,
          -0.299890591841999,
          2.8332369364427503,
          -0.728423525076929,
          -0.578097857492259,
          0.4312434773945334,
          0.3646991876816898,
          -0.6999318459338728,
          2.0831151005725266,
          1.2589543565180932,
          -0.5069102807601983,
          -0.1117960270163433,
          0.5870302352855127,
          0.5862103501025918,
          0.6171729825960165,
          -0.8490266730346129,
          0.3908364584521507,
          0.12297688214025426,
          -1.7840473705598805,
          0.09613473420297051,
          -1.2151085102665795,
          0.2613249990892008,
          0.3917133112604233,
          0.1340459314510714,
          0.8451480257091591,
          -0.2491312106736161,
          0.7665501453699273,
          -2.1648748435183136,
          0.9109280591308717,
          0.8574084956974196,
          -1.1850054836631112,
          0.4254918075868025,
          0.15351710597110949,
          1.9822681305183925,
          -0.17301208869608287,
          1.386975041403768,
          -0.5431607536963665,
          -0.0566886664188805,
          -1.242599259114693,
          -1.2056330135335687,
          1.685379482647,
          1.1510025492912637,
          2.357510687989396,
          0.8355145041859923,
          -0.5761932201748282,
          -0.4942520148835336,
          -1.2941581385276935,
          -1.5626031741586377,
          0.0713698004700481,
          -0.028371427697112157,
          1.1877496445268796,
          1.0141786065715797,
          -1.533624597827551,
          0.2507335282026609,
          -1.8524665660139878,
          -0.41009132609829346,
          -0.7676713772943432,
          -0.30171732723218264,
          -1.3336342417369933,
          1.1647553496466876,
          2.13345041069429,
          -0.23239206794729067,
          1.19051644333857,
          -2.6273634817563347,
          0.11722631842458012,
          -0.859528727803681,
          -0.23485946935897983,
          0.4552468214950111,
          2.108867269382422,
          0.5398822192622366,
          -0.1631072020189904,
          -0.24342659452640641,
          0.5435366431699418,
          1.0078438161887981,
          -2.196781999949882,
          -0.42750110582355677,
          -2.0590170487733475,
          0.5206398346281517,
          2.195261541690349,
          -0.7566417386483654,
          -0.34225487344430017,
          0.3901296153966047,
          0.23935805991646333,
          0.22096267404150785,
          -0.3824335007031151,
          -0.6247631405451411,
          0.6363849150909614,
          -1.6786073641877963,
          0.7722498413852127,
          0.5551640364949113,
          -0.5990453030290309,
          -0.842625540321714,
          -0.4011730746030603,
          -1.314475772214459,
          2.299601623552796,
          0.5318470500758163,
          -0.683391249589213,
          0.7998341783435645,
          1.5480980487442497,
          -1.7378059158356984,
          0.7818019577254136,
          -0.2694143124593592,
          -0.7985299278297041,
          -0.02332909951848132,
          0.6736950890238015,
          0.2323455352838524,
          0.22955056819335318,
          0.583037974286543,
          -0.027578736280075653,
          -1.5056334248168588,
          1.5057647261942602,
          0.19544015726596187,
          -0.6306078171213103,
          -1.1554575623923602,
          -1.866438689694975,
          1.8056694959770463,
          1.353472606740964,
          0.3147317029434646,
          -0.2977705132139908,
          -0.4111477855825424,
          -1.3933223332315972,
          -0.47796715191744793,
          0.280041743592277,
          -0.5544386779559887,
          0.0534656348638386,
          -0.09843798664218288,
          1.9634735934088765,
          -1.6905688421562846,
          0.5744076266763838,
          1.2063922576572501,
          -0.4198587192997873,
          0.23518523080766582,
          -0.5961223796252857,
          1.0401412191486838,
          0.22892084064803897,
          1.2669059131246267,
          -1.142261021872691,
          -0.35918230575820503,
          -0.8800405207105608,
          0.30401017169747524,
          -0.6998465141407794,
          -0.6114159296034706,
          -0.13187567681613072,
          -1.886335472556188,
          0.16684893407581283,
          -0.6031624628705917,
          -0.9370108169948407,
          0.2432984468806058,
          -1.2342409865515835,
          -0.8735760793398782,
          1.3936591004086394,
          0.2832085501318837,
          -0.45131666652431446,
          -1.7436580749063395,
          1.4448860448566907,
          2.0039235415680485,
          -0.5018640317370757,
          -1.9755988870516061,
          -0.10087964826198474,
          1.3266712305300354,
          -0.7718857203778198,
          -2.3908278772680207,
          -0.07844332372144383,
          0.32069332621444835,
          -0.4358940074131709,
          0.7043580460929173,
          -0.7900754558783222,
          -2.10643990530462,
          -1.9908600237682315,
          0.19230992793626128,
          -0.7844977639750453,
          0.011778015352657399,
          0.3631683225860756,
          -1.158784441979609,
          1.1100776998333783,
          1.2435611096343335,
          -0.12266543580808777,
          0.5526983002308674,
          -0.7214208540850656,
          -1.6667138178252818,
          -0.3311221381736893,
          -0.4192674658688768,
          1.0313525580332896,
          0.5623045549415204,
          0.4738006636868103,
          1.035645605427171,
          1.455499495952899,
          -1.1373619044913408,
          1.7722425842178808,
          -1.6546388781450299,
          0.28756952007084724,
          0.7257219223433127,
          -0.802811515651045,
          0.30569091410725613,
          -0.8441306544111443,
          -0.8156926955519278,
          -0.3403391488828762,
          -0.46209919789229775,
          -0.2517662188299,
          -0.38047410803215737,
          0.353916523490445,
          -0.1867296085231889,
          -0.8696650040703445,
          -0.16065153151507208,
          -0.6540019321351879,
          0.714081710702046,
          0.10278172643196895,
          0.8428961960603526,
          0.10720415439785408,
          -0.9396074339927224,
          0.3375957438016125,
          -1.1871770258310146,
          -1.272969018700718,
          -1.0521916841302903,
          -0.40570675065209216,
          0.3252771535915009,
          0.09473649506289399,
          -1.3364636395811993,
          -0.6435416576078661,
          0.5714599706490484,
          1.0254347864707818,
          1.0208787494022393,
          0.8252310300115013,
          -1.4745884938551637,
          -1.4539937337330107,
          1.0459755716601615,
          0.11941146246459523,
          0.29072381111680695,
          -0.9217758608899711,
          1.7858654391449782,
          -1.048566170298058,
          1.4475976233684673,
          1.4160568558849722,
          -0.7430798764481976,
          1.3436802131574148,
          -1.4845472127273136,
          1.8512046477595308,
          -0.6440339078577014,
          1.5210592443561204,
          -0.054896803818157355,
          0.9163294556875299,
          0.6877231022768332,
          0.8791267366980764,
          0.17101269949099654,
          1.4222265796463018,
          0.1625923830514093,
          -0.19636379635063933,
          -0.09190473212184011,
          0.49591992177837335,
          -2.341392808148818,
          2.5413543738670734,
          0.05027071281970602,
          1.156783496174255,
          -0.24913531623237417,
          0.3569116347926788,
          -0.538010906507468,
          0.09818349912077434,
          -0.38312612010278074,
          1.307093720923112,
          -0.19379477532659098,
          1.636488509755138,
          0.03992473428460492,
          0.9493842698955413,
          -1.801703009541594,
          -0.6997173613785361,
          1.6007006330523612,
          -0.4414272926580313,
          -1.5656502295658576,
          0.13713818554894278,
          -0.13163102028980253,
          0.1442543174575286,
          -1.8253717500206557,
          0.6059141342439474,
          -0.46946525058201566,
          -0.3665200279367319,
          1.2427843879179918,
          -2.0245372926489282,
          -2.0504757522423405,
          0.7927262135157261,
          0.37017524882822617,
          0.990624399193544,
          -0.20562159169519167,
          0.6294840889775876,
          0.9607028750713509,
          -1.5883185793882748,
          0.9232641433160323,
          0.8751160602150743,
          0.7657702155261292,
          -0.09849209852691211,
          -0.41054687355528663,
          -0.4815570373757001,
          -1.9825602718899613,
          0.5503599508327761,
          -0.3811276871963754,
          0.047931300910945364,
          -0.14605393133783834,
          -0.8213983786241998,
          0.8304073422103417,
          0.5752133925098152,
          0.00153617605537147,
          -0.09630883566024598,
          -1.7730873775347504,
          1.4136643041228802,
          0.5475505802012143,
          -1.204788708717815,
          -0.7072941929476676,
          1.6021578145305593,
          -5.579511202511599e-06,
          0.7610069698714285,
          -0.14027199935296042,
          1.824831585851487,
          -1.2587716146773322,
          -0.8503607764635075,
          3.0570921101123303,
          0.588544917962304,
          1.2473329494152121,
          -0.40928106558728744,
          0.46400027278128114,
          0.1048484254580791,
          -1.6192930729903048,
          -1.234812070287014,
          0.2604708497780573,
          0.005817170716988387,
          1.4126839780913372,
          0.8402975908861362,
          -1.8397577489969943,
          1.3075427636711783,
          -1.0064436737380762,
          -1.2281949500426605,
          0.9134391814666072,
          1.1975091802700644,
          0.23397890375152608,
          0.44914168238417823,
          -0.4313459008015403,
          0.30733611400030914,
          0.0835614711807169,
          2.0140719798846427,
          -0.4671792344511679,
          -0.456869602554341,
          0.7162406190703516,
          0.5350107403640745,
          1.3234197099847709,
          0.2325567966679178,
          0.3793261478053902,
          -0.8203902955939099,
          -0.5914027605996688,
          0.3718698021487487,
          0.03733957146407731,
          0.6431274887215589,
          1.7812328903647716,
          -0.7179428646435752,
          0.39399144115089807,
          -0.7916730072071346,
          -0.3255838107778837,
          -1.9264737962277232,
          0.2740823083280172,
          -0.16025560222646618,
          1.8405822011247375,
          1.4801227287693774,
          1.0492277488318271,
          0.6690387986779491,
          1.6737751174183857,
          -1.8358257164791376,
          -1.1578381794026782,
          -1.656768770758164,
          -1.3922823951794414,
          1.865341864732956,
          -0.9691835850036736,
          1.1962667231600437,
          0.8968120330395564,
          -0.31548130285188963,
          1.2235733661549013,
          0.2063326052545958,
          0.00656002495526554,
          0.5992513027256468,
          -0.9265497103980175,
          -0.2897870105637903,
          1.1950897804938103,
          -0.673512734905742,
          -0.5648511396146557,
          -1.6166491024455325,
          0.7458118744891664,
          -0.06427502462938188,
          -0.13421154405875002,
          0.39595397202349913,
          -1.857942044004946,
          0.6940214426518502,
          0.29488380190983393,
          -2.623579257796062,
          -0.06465073600462583,
          -0.13395505188111126,
          0.9263600585425039,
          -1.2135826321548473,
          -0.10959161067659116,
          -0.5413070456002077,
          -0.962589000782982,
          -2.103250515012246,
          -0.014141070641661846,
          0.7245277593466146,
          -0.9282584882490109,
          0.7748250711871941,
          1.6105317236118935,
          2.502704458491481,
          -0.0528676542846476,
          1.3246621444953104,
          -1.7280228845220802,
          0.7060566487187683,
          -0.6670962470258324,
          0.7746222967894387,
          0.9930680165753505,
          0.1904597624174096,
          -0.8348298236696061,
          -0.5965087976205536,
          1.4789459646449723,
          0.6397343015747025,
          0.040760989344784275,
          0.4438748580374994,
          0.8693035577641515,
          0.5950026358170425,
          -0.047212955310426796,
          -0.3807501381388765,
          1.5596564057883278,
          1.949683414098706,
          0.10522741627337406,
          -0.469371084910487,
          0.013871975490577927,
          -3.166331995753341,
          0.9983004701884834,
          1.964426273047587,
          -1.3841052564890681,
          0.6473245177252978,
          0.2321766750277704,
          0.46390179030018935,
          -0.3813149348953103,
          1.1599694983740143,
          0.5119706570733145,
          0.8355370356095244,
          -1.799744398818019,
          -0.7602796139431623,
          -0.7212742229763602,
          1.6140308153654765,
          0.36070589677563164,
          -1.0486992660618986,
          0.9836887559420059,
          -0.09075112598077703,
          -0.4623215192956811,
          -0.3557019193698097,
          0.4625636717822336,
          -0.3569435172103973,
          -2.160936027725935,
          -1.3111459838800077,
          0.40856760678853876,
          -1.826224900077778,
          0.9350793915027094,
          -0.07882378599358623,
          1.943375651086299,
          0.15273125782697392,
          0.2279962201426337,
          -0.2771866182609222,
          -0.788407394210459,
          1.9325544765141174,
          0.3132977615585777,
          -0.26969983156204824,
          -0.0032433306908185053,
          1.391416209599937,
          -0.8351838025355917,
          2.3612313809146626,
          1.8314273005983757,
          0.6902790498811683,
          -1.4558552278331867,
          0.14387424716753963,
          1.4026557729633529,
          -0.009794891829332908,
          -2.0356993588176753,
          -2.991008545537987,
          1.0274573148450337,
          -1.5099828599092393,
          0.1332187332852605,
          0.4357686242043305,
          -1.2472641533589846,
          0.1892268779735384,
          -0.05884605817581805,
          1.4872847796851174,
          0.2544341672272626,
          0.4574595144929178,
          0.5988086760359689,
          -0.5220940095422906,
          -0.544647606072358,
          2.850364686416001,
          0.7543957315815859,
          -2.033384312589785,
          0.6484617706246713,
          -0.9990976201242222,
          0.19120027263485867,
          0.6831664583526056,
          -1.2848058483886264,
          -0.41044620504940815,
          1.5727105599415654,
          -0.5391376618223015,
          -0.2306232528844037,
          1.7821831139403337,
          -0.8272415913779915,
          1.1999631019844985,
          -0.13187873239934125,
          -0.36111595870425445,
          -0.5099073682826001,
          -0.33412323045092945,
          -1.380756664041274,
          0.6839648594089927,
          -0.15747526490006336,
          0.0931584376499049,
          -1.5045594922136731,
          0.11457901083835659,
          -0.008038419511603393,
          1.0885850915448523,
          -1.2578820701458673,
          0.2066486384001494,
          0.8359157702043518,
          0.44746783492066755,
          -0.16843047689250926,
          -1.8094408867296892,
          2.7655536952464064,
          0.4459271999200616,
          -1.1522015064085542,
          0.45328270774475204,
          -0.4388627668550488,
          -0.21024800697102336,
          -0.600253196136185,
          0.151911234558798,
          -0.6204490302348894,
          -0.3251943972277467,
          1.0134810499587705,
          1.478326523799757,
          0.011680856172416001,
          0.1622775998639722,
          -0.18048861168359645,
          -0.3180420717756567,
          -0.6306667283482741,
          -0.9984553858768156,
          -0.22353098761987628,
          -0.7616171500661709,
          1.2315219661370844,
          -0.7785239850569988,
          0.6872078305462204,
          -0.01971170124966158,
          0.9864876920915405,
          0.40984282175199144,
          -0.08003092743957341,
          -0.10333855099752118,
          0.6414887752020159,
          -0.014946406297380515,
          -0.02667078630712676,
          -0.9788889567899279,
          -1.1683990066269607,
          -1.3620200203153714,
          -0.7598089145764272,
          -0.039927461536188154,
          0.6531219165962745,
          -1.0050035108940512,
          0.08877928424732492,
          0.18162156478161218,
          -1.614785604874144,
          0.7178365702901056,
          -0.16294578961321027,
          1.347270606410923,
          -1.6236249630345443,
          -0.7124621201227285,
          1.4892837215638566,
          -0.22410947270770606,
          0.42526180273096065,
          -0.19547965208935672,
          -0.9464970387402277,
          1.5248142852943412,
          1.1832728938342796,
          0.022301878966018433,
          0.6382220071739964,
          0.42553125699273253,
          -0.9433908784454716,
          -0.9917249319622644,
          -0.6400698202768893,
          0.003897238980645859,
          -1.371896271231593,
          -0.514003218991007,
          -1.3469917268298945,
          2.1894287767744305,
          -0.570487851059021,
          -0.28390595072541974,
          -1.7152637836667735,
          -0.7157392469896323,
          1.3315028832653582,
          -0.2839599503636074,
          0.6059569432919008,
          -1.9669891206670143,
          -0.9185396218860904,
          -0.4228268967338386,
          0.1862410052397992,
          0.6469079096695551,
          1.1271579047246745,
          -0.8242841861571851,
          0.20719788966675773,
          -0.8088354707157727,
          -0.2607665951624569,
          -0.7996797312622138,
          -0.564802910648721,
          -0.17310553379898935,
          -1.4452223662493826,
          -0.47788358270764314,
          -0.019931671847240703,
          -0.36278741195821507,
          -0.030350331060791873,
          -1.1231778766438405,
          1.5081296591212248,
          0.580713308971926,
          -0.10526099604514227,
          -1.3271848462401086,
          -2.0152885723792924,
          -0.398757171703036,
          0.272756600065593,
          -0.1161102485195099,
          1.071586996097545,
          -1.8301630714843582,
          0.45677886516782956,
          1.3820663151778176,
          -1.3742514152361067,
          0.5994345128021141,
          -0.22154225062512312,
          -0.44779246162002284,
          1.0291702404416339,
          1.4347349237507252,
          -1.2192995577477475,
          -1.2648623403574841,
          0.43560007628397185,
          -0.1696429994176648,
          0.5671164939857829,
          -2.205548453402961,
          -0.4595029831858837,
          -0.6939344535348159,
          -1.8411769425399067,
          -0.5730150162575964,
          -0.06570830576964816,
          0.9645172709982012,
          0.3047461844047345,
          -0.8153890931574738,
          0.09412619358198712,
          -0.0727440910225704,
          -0.357657546005404,
          0.8645359877681539,
          0.39661198509678525,
          -0.10274407891528001,
          0.3457815517555768,
          -0.16271453211592204,
          -0.5548658029989898,
          1.5180000005122238,
          -0.3341121297351151,
          -0.25154651334681627,
          0.8354648956018735,
          -0.28149991785410317,
          1.2028584171943193,
          0.23913292796459645,
          -0.6424702077179226,
          -2.1788777065432163,
          -0.0031188568838696343,
          -0.5029837099415365,
          -0.1432447489071826,
          -1.7391733691395848,
          -0.12356500321542702,
          1.2278259832651406,
          0.436444865242317,
          0.15966015033251071,
          -0.24750211154190585,
          0.5605074909724705,
          1.7012388960607971,
          -0.4592698307324492,
          -2.245575841400929,
          -0.48548459893287293,
          0.6567074577661618,
          -0.3930553262545764,
          -0.11336859619932695,
          -0.9891213826987255,
          0.9770735448387805,
          0.5105975068543128,
          1.0947717993580615,
          -0.08409107526987965,
          0.18059834520160142,
          -0.8226432053489018,
          -0.5047408909649866,
          -1.2888156615816329,
          0.6502555450678146,
          -0.9346844251580985,
          -1.2393414148464037,
          0.12377495255110486,
          1.8240976768726325,
          0.6704243805124833,
          -0.7019406671204592,
          -0.08451890353690432,
          1.4497719966139835,
          -1.3183460472663937,
          -0.7893618898626718,
          -0.566655044344879,
          0.951024675102823,
          -0.3147640494502886,
          0.3452149800899153,
          0.4603203287526379,
          0.31133958932993594,
          0.8590226804554754,
          2.1822502499647705,
          2.093958770153132,
          0.09149737566783245,
          -1.1216524966263843,
          -0.9435583187133476,
          0.28938150943647073,
          -2.036096306795085,
          0.08905701958996358,
          0.5192826624007206,
          -2.0499248325860076,
          0.22617877556043117,
          1.2864387899938439,
          2.4611026449175046,
          1.7675974557336065,
          -0.156832307185492,
          0.43246324117652296,
          -1.5589012137396074,
          1.4817633088578663,
          -2.941922209840373,
          0.6410170360772073,
          0.239315271565656,
          -0.04479597944109596,
          1.0360950880857511,
          0.5795392647357844,
          0.285050298578902,
          -0.8397944215947413,
          0.8995800131653657,
          1.7164238144042638,
          0.9524210388580215,
          1.2853200575960526,
          1.07405439209206,
          1.2481038268838538,
          -1.181564835606925,
          -0.7092858894119876,
          -0.6053039080967504,
          1.310280554230839,
          -0.9543416791128592,
          0.3835051929684184,
          -1.5680356267325497,
          -0.046279961874514906,
          -0.07080712745262363,
          0.01707754344554796,
          0.514192311617676,
          -0.45772670751754513,
          -0.9428904526621061,
          -0.6991741266310124,
          -0.26663293590474574,
          0.41739788419958374,
          -1.2842738749990008,
          -1.3828323358801977,
          0.5657752387928753,
          0.5692064610817907,
          0.7749051006242093,
          -0.7923019292508918,
          0.3690601704288909,
          0.7903295687623848,
          1.0268481072162716,
          0.5311379788090275,
          -1.4866776122220704,
          0.9302074018835979,
          2.1533646576339,
          -0.0026020821340250744,
          0.5522259866368145,
          0.1654601409580799,
          -0.40769298749338095,
          1.4719451455932697,
          0.3127180811553209,
          -0.09626026109474636,
          -1.4933253934986654,
          0.40781114723987444,
          0.08759511310408008,
          0.4047948731817973,
          -0.5764929756536156,
          1.3281210893622346,
          -2.3536379818732587,
          -1.8338523690293531,
          -0.08060546037625925,
          -0.05676008555505025,
          0.008891284320598351,
          1.1393487356981993,
          0.9824513998529727,
          0.02951626480360196,
          1.2018805771083805,
          0.8767736737366683,
          0.856391641758432,
          -0.4545113918771347,
          -0.7059360563456837,
          0.12381837316800418,
          0.8445042734616808,
          0.28011120973648335
         ],
         "y": [
          0.25050609476009283,
          0.0030004651090658526,
          0.5524223136429547,
          -0.6488226077083485,
          1.2479256640927272,
          -0.5308153541094189,
          1.3127910679260282,
          0.20815765004404002,
          -1.7846853774338034,
          -1.5153810993298331,
          -0.7190671154523401,
          -1.7973128280099047,
          -0.06974048358419303,
          -1.2051736292919975,
          -0.08481540402581782,
          -0.747402686407019,
          0.3655581185664324,
          -0.3819117538427739,
          -0.09002410850101102,
          0.7458214724734473,
          0.5657700005654962,
          -2.175652159098188,
          0.8218414771703706,
          0.5850746984438395,
          2.4133844708123235,
          0.10210801850625217,
          -0.7911849364539602,
          0.48370850071065913,
          0.7087825853878656,
          -0.9763061224871087,
          -1.6362116343699058,
          -1.194075933630571,
          -1.6547916940724456,
          1.68545105411234,
          1.0339064851708382,
          1.4768519223601213,
          -0.30071123834539754,
          -0.6076220935628984,
          1.0844863157717135,
          0.4497865453836335,
          0.6388739036871578,
          2.0942043951601508,
          -1.0478555254651905,
          0.8429429445253769,
          0.03151718340690123,
          1.3035433469551228,
          -0.9756625354441509,
          1.4402221023212143,
          -0.7855795477691117,
          0.009142405713819916,
          0.6835463803953887,
          0.8164579972181917,
          0.02550326272725123,
          0.5174960269262113,
          2.5321642162352758,
          -0.3241456603279669,
          0.10705913228799893,
          -0.5502015937927408,
          1.0098084772295641,
          0.7848311502410641,
          0.37358348354400733,
          0.17021998371161812,
          -1.889607303010635,
          0.4527761507556027,
          0.5592470242016772,
          -0.2638638728356517,
          0.9391530774125032,
          1.7543845033316343,
          1.392075957644774,
          1.412808218865146,
          0.6432418172315634,
          1.7820328999719086,
          -0.005708083088053558,
          0.3094855846012524,
          -0.14281738581932568,
          1.1708148011172963,
          1.5718727237546644,
          1.6014536911703143,
          -1.1526391592211633,
          -0.9790339360435333,
          -0.10305032210497973,
          -0.08982088196861504,
          1.008928656607252,
          -1.4886058939328828,
          -1.6694275966018413,
          -0.13528592268435116,
          -0.5288761826804271,
          0.258752436686005,
          0.4183888795065857,
          1.2813542572613499,
          -0.15609759576904034,
          0.9031784369060536,
          -0.2568828783103753,
          -1.0619796336658305,
          -2.268663823671183,
          0.1313695046597388,
          -0.8279654382829856,
          0.6956399481156238,
          0.06619508206508863,
          -0.21015725754332168,
          0.8694663740622965,
          0.384880821863838,
          -0.41336270084838195,
          0.4466524304973291,
          0.309615048554639,
          -0.8453791534628302,
          0.553689625021151,
          -0.5484061132309216,
          -1.9235668119210863,
          1.212825434224671,
          -1.3263454759346747,
          -2.554497136698884,
          -2.415449069649477,
          1.2987337354076267,
          1.1767027187296535,
          0.43291172823666346,
          0.7595798838346278,
          -0.5509918935803204,
          1.2253068209696876,
          0.9004049652040135,
          -0.7916853074041149,
          1.0717954344179381,
          -0.23911996272748173,
          -0.6201637930627024,
          0.55374551430722,
          -1.0880456928095108,
          -0.8737296600891892,
          1.3242829931913915,
          0.3668958074367885,
          0.26105845024133056,
          -0.7264922840841075,
          -0.08252218479309162,
          0.21287085036448083,
          0.02798604495094648,
          -0.5646739831057761,
          -0.5117077014731328,
          -0.7358074052894166,
          1.2834012149550995,
          -1.340044191510235,
          0.007219686086603071,
          1.4972614073093489,
          -0.04609665935234763,
          0.5832496922048391,
          -1.160912284573802,
          -0.8877020344794185,
          -2.186678021404555,
          1.7487283717368767,
          -0.8719783272724331,
          1.4493763554675398,
          0.11561214078396854,
          -0.8972141854272594,
          -0.29355953166479615,
          -1.1682435059504628,
          1.3786205320999103,
          0.7029306137055299,
          -0.38007980865336044,
          1.0032308211482863,
          -0.5685765137851263,
          0.8713943460995273,
          0.1927885796500527,
          -0.2751621456168191,
          0.22684271539656603,
          -1.837909029969711,
          0.5014835575497858,
          -0.3546939089017811,
          -0.4696171175794592,
          -0.4345301163163577,
          -1.4616570556248334,
          0.38909851914139076,
          -1.5400906186922956,
          -0.6872201259078786,
          0.7482639365509252,
          -1.7892755878261868,
          0.8400639168089808,
          0.09819463519562766,
          -0.2615110732860843,
          3.1793374019239726,
          -0.08670782047291116,
          -2.1300441913924453,
          -0.4554377001417159,
          -0.6377633484496905,
          0.733157439935938,
          0.28870473359009824,
          -0.9193502098873848,
          0.48687161988351946,
          1.6424137888751968,
          1.015535311115342,
          0.9138342808974499,
          -1.6218024187224305,
          -2.392459364977683,
          -0.1420622592139242,
          1.0582889215079105,
          -1.2950118177782814,
          -0.5360598451217263,
          0.0731377606026403,
          1.1234249878168598,
          -1.5759070702215632,
          0.11304870309755373,
          0.4422367727290712,
          -0.6032620828052875,
          1.8626049979893835,
          1.0401778661341772,
          0.01669400356380883,
          -0.09203427486901614,
          -0.3637457690533202,
          0.22495212968339492,
          1.1616132507353933,
          0.04095237700946709,
          -0.6766285558027316,
          -0.11833905998707339,
          0.7281348538685237,
          -1.0173261169720615,
          0.4988816656128602,
          0.08121816158344466,
          1.4465190343394592,
          -1.1028652379852462,
          -0.42244143294951275,
          -1.2752585402757737,
          -0.6097536444022841,
          0.6410262067138363,
          0.8444186389101047,
          -0.5909109487788097,
          0.32074330184721456,
          -0.3421928846739918,
          0.25911507025855096,
          -1.0724326475644987,
          0.815436250153532,
          0.45743279240665713,
          0.02120133953180642,
          1.1981606450102738,
          1.2376959462224455,
          -0.5611798761045033,
          1.0233464376540242,
          0.2214098729640432,
          0.6848854352022663,
          0.8499813647671488,
          0.3031451674980366,
          0.8252626927211091,
          1.7716091587496114,
          0.0357398071154578,
          0.2847729496048749,
          1.096715308379943,
          0.35404747521392504,
          1.0986586959617928,
          1.0751734643453659,
          -0.727139026004347,
          -0.5042717665465527,
          0.46277277275164597,
          -0.5162293422079407,
          0.4373821879601408,
          -1.9320525486069755,
          0.7076964850107175,
          -1.0665220380197293,
          -0.8000173429710902,
          0.46005002101947756,
          -1.1352061399555284,
          -1.4581519948413122,
          -0.15657589287547624,
          0.37886602695868615,
          -0.5647192114539014,
          -1.0405458576132194,
          -0.12480252529942139,
          -1.4958364429239837,
          -0.9790399452620899,
          -0.4847165649552854,
          0.24095656593259798,
          -0.4641789356080759,
          -2.032343779870609,
          1.2079144628375893,
          -0.7173108950091918,
          -1.5857396763833582,
          -1.4728592736827695,
          0.951295293115328,
          0.542659136881205,
          -0.40750184014503016,
          0.5241485171204354,
          1.1532756770518728,
          -1.1488705986557868,
          0.3210296367733202,
          -2.3162181448062316,
          -0.7863614176996532,
          -0.8675095630817283,
          -0.20779277685812964,
          1.022923261773937,
          -0.16264982475502576,
          -0.6378977980139955,
          -2.109040643078583,
          0.15285280300673657,
          0.10033428746595642,
          0.7985329015642794,
          0.18719475804312377,
          -0.2442259987822182,
          0.12967305916573815,
          -0.29616787535252215,
          -0.5644133631791696,
          -0.4789731663069605,
          2.5785588664235832,
          0.5610897927318939,
          -1.662086910629218,
          -0.6667074634131411,
          1.8559436566359517,
          -0.19365809406941295,
          -0.2899468119778489,
          0.08239792926657928,
          0.1620798023308258,
          -1.1789280029928473,
          0.30861494091827657,
          2.080948191438688,
          0.17395805813645698,
          -0.049368907625992935,
          -0.18639712772658892,
          0.856392096089919,
          -1.1465066570547116,
          -0.609085160191032,
          -1.8616163507385233,
          -1.275677414663254,
          1.1678548286269912,
          0.6743054926560207,
          0.12715178654877785,
          -0.6859139931657987,
          -0.703424625908697,
          -1.0666022612418777,
          0.8910920193100705,
          -1.393104074633198,
          1.0922052820949593,
          -1.6581721545990171,
          0.09785634393280203,
          1.3128957271937751,
          -0.8078793398679767,
          0.8576282354169649,
          -1.9303162965493132,
          0.03405062439287506,
          -0.022452808575351445,
          1.2384433462801023,
          -1.7519410808804596,
          0.8047770172752632,
          1.7917319529262852,
          -1.273442937003866,
          0.18279819593861196,
          1.7275355883514527,
          0.4082866048261445,
          -0.04779002293358511,
          0.055053551824683564,
          0.6983706303404468,
          1.0412711195895148,
          -1.490834481890102,
          0.12513620982995424,
          -1.463287325630996,
          0.31722407424828086,
          0.2315586506830054,
          -0.918542981795037,
          -0.20213956500656524,
          -0.18911032894151397,
          -0.31026307650620544,
          -0.21954316972091045,
          -0.46633194179246085,
          -1.0070272736801584,
          -1.106999892698809,
          0.9975969403818966,
          -0.0403327133448877,
          0.14114251032226,
          0.9866459925457108,
          -0.4112685702018566,
          0.022918903280537813,
          -0.6114754043789101,
          1.3033040785159227,
          0.4725091010047569,
          1.3927379926097332,
          1.4841271017427962,
          0.27743856289409,
          -0.17512957720833222,
          0.9145366470009568,
          -0.02011024986683093,
          1.096462615940105,
          -0.20488943258664533,
          1.6875491783789842,
          -1.2822952337752693,
          -0.8431271451217714,
          -0.06850429106927008,
          -0.9811055142203493,
          0.5574706646276707,
          -0.10703333028740676,
          0.6812809105640354,
          0.024105084945749155,
          1.3144984991023763,
          0.40138141673857236,
          0.6545914778959717,
          1.4511387539229468,
          0.5225127515058949,
          0.8434900472579351,
          -0.764767835556175,
          0.6720991904980775,
          0.7808434241247554,
          -1.7021104294486928,
          0.6154524693192829,
          -0.4186425327804643,
          1.724310350063445,
          -1.2042415478696833,
          0.3130722263520311,
          -0.19143721376851275,
          -0.7563545328127226,
          0.6230042981527254,
          0.1466422228907432,
          -1.2818249000800495,
          -1.477921947510572,
          -0.45479020947916754,
          0.20671265976448838,
          -1.443480679875236,
          -0.5727668677446112,
          -0.4120477996885198,
          0.16042585586946514,
          -0.46636472602665396,
          -1.081515927147076,
          -0.6290954893141838,
          1.1812637237682597,
          0.536735425262891,
          -0.4738373497594471,
          1.3291001500612314,
          -0.14082481002481806,
          -0.40590448545786234,
          0.4890014387213559,
          -0.015969494697304094,
          0.4269671007838707,
          -0.6472150561298006,
          0.23608261691043664,
          0.8011830973898876,
          0.06100527450082239,
          0.1784080935061504,
          -0.2387284120438354,
          -0.272504790070189,
          1.4148371410771734,
          0.39936311100720595,
          -0.26492136459762705,
          -0.37960036833346916,
          0.41185081257202855,
          -0.05165321467085935,
          -1.7211904623485157,
          1.0329910499695492,
          0.28905165688076495,
          1.195186913208505,
          -0.3976977026288993,
          0.2182898395484769,
          1.1173460451077937,
          -0.4002789343117277,
          0.9085249779828987,
          -0.5970291238188219,
          -0.03679337324159869,
          -0.6616190621186151,
          -2.329010471080156,
          -0.8824066869996116,
          2.1735379045701455,
          -0.3713179149423788,
          -0.30388645050264707,
          0.28980000847011456,
          0.8047813952962729,
          0.4054878524902272,
          -0.43432898989700375,
          1.6794196622350597,
          -1.5099310197778761,
          0.6722702909769224,
          -0.7030685238960269,
          0.48743997424359814,
          -0.676054159271135,
          0.8458724706974876,
          0.27937116502135667,
          0.9687589437597646,
          -0.19046412853822242,
          -1.7619256357212272,
          -1.3137689294913235,
          -0.4723713201555558,
          -0.3509046472725066,
          -0.7986989962877084,
          -0.9821301328056349,
          -1.8513039046049427,
          0.4504670298067862,
          -0.47017358307538704,
          1.6508780655401065,
          0.22627361172086305,
          0.5424414224425861,
          -0.2627647029438465,
          -0.21965723687142277,
          -0.7742921182904545,
          -0.33519096612164206,
          -0.26758387880143775,
          -0.9179636909277077,
          -1.7630499771180987,
          -0.5227071565948039,
          -2.7010382603007805,
          1.1176150989510514,
          -1.1174553839770687,
          0.25657369192585483,
          -0.7589479452052714,
          1.829918121341258,
          -0.09272396138146054,
          -0.4443403691433471,
          0.022162194249646883,
          1.9681125057971076,
          0.1929597507744939,
          0.46048014216037636,
          -1.3809263873553048,
          -1.3345517050958047,
          2.0116769871134115,
          -0.2869463699794904,
          -0.3935926777786429,
          0.42033110935412166,
          1.454543959180279,
          0.05113020767690329,
          -0.23594403211657983,
          0.39482715915892935,
          -0.6797278435904334,
          -1.7053323686500141,
          -0.5283106500500504,
          -0.41046052994261945,
          -0.047730496565854395,
          1.9517451495323719,
          -0.06777169696774545,
          0.26205546575584204,
          0.09668304928985652,
          -1.03682712286367,
          2.1516959449541093,
          -0.1515770620952362,
          0.38529949925785534,
          0.31975149249312323,
          0.9444415091915828,
          0.02919266889352085,
          -0.3655670617980617,
          0.031087194615799358,
          0.2512029125698339,
          -0.19843639549340014,
          0.44347065632150134,
          -0.23323486623073386,
          0.5621075282293665,
          -1.0967903816655231,
          -0.16063168145345103,
          -2.507098577056796,
          0.153462143737839,
          -2.3257925718676993,
          0.1647574813592169,
          -0.3387797523427237,
          1.2497059249930889,
          -0.4002765948889909,
          -1.0848543872338712,
          -0.08967858974718924,
          -0.804552946890749,
          -1.3652796708415504,
          -1.4980511547499502,
          -0.1027572069195776,
          -0.8953652402107993,
          1.336461240083169,
          -0.3655597178661835,
          1.6537783199134204,
          1.39266912420587,
          -0.7600077971018069,
          0.002232809675425009,
          0.4625208573368677,
          1.5565628408302157,
          0.5230870605751267,
          -0.04908475448464546,
          0.46770382598148214,
          -0.7015828111339222,
          -1.7098671744929006,
          0.0646039508480374,
          0.26301209378236,
          -0.620918165452059,
          -0.5324905226837388,
          -0.007349620065699979,
          1.485010726892002,
          0.8060838979198542,
          -1.5054649843424448,
          -0.5991011916563479,
          0.48839695650482007,
          1.034510284209622,
          2.254890628896241,
          -1.823508415040192,
          0.48382625294599924,
          -0.1492999210054008,
          -0.5307593644396803,
          -0.4498756014766365,
          -0.18330126022835547,
          -0.3635701958943089,
          -0.8213059681968096,
          1.0030463760096302,
          -2.205206266278945,
          1.696172553635219,
          0.6340174879852681,
          -0.43264922637568876,
          -0.19182262659257351,
          -1.3102366268324908,
          0.4780931209094271,
          0.8990952364585522,
          0.7571809462299433,
          -0.9168157635919065,
          0.7734822445046023,
          1.439242564657576,
          0.5137404916018314,
          -0.48759662158885103,
          -0.29411093346219086,
          1.4734208466505705,
          -0.17277335890125042,
          -1.2165668322055903,
          2.1150387437715015,
          -0.10994328653962673,
          1.5433152169310542,
          0.492916489047503,
          1.099056830691693,
          -0.17799170078913143,
          -0.4849116575042685,
          1.1446086829818385,
          0.9457247196028276,
          0.6975037829007673,
          0.3616766509281956,
          2.4640777211326284,
          -0.11565974687020678,
          -0.9545232413863574,
          0.2641893212364025,
          -1.4361805794687499,
          0.10915387222917418,
          -0.599691466111542,
          1.0931243697704092,
          0.4166875197687251,
          -0.2836766054159715,
          0.47397282574850225,
          1.8171374302017147,
          -1.3070554862472132,
          1.212960787400571,
          -1.3367330662566916,
          -0.4363430703385006,
          -1.9141725613010925,
          -0.6591022294496356,
          -1.1881174553645841,
          -0.4855799616854638,
          -0.85163748003156,
          0.153489822928468,
          -0.46339667960644054,
          0.7209995112159343,
          -0.049848757636975195,
          -0.9988854597963508,
          0.8379409265665734,
          0.3803623416629129,
          -0.07977038544350645,
          0.2195794685739533,
          -0.2757007594509705,
          0.3623407798403987,
          0.27237298055139886,
          -0.23845875000586012,
          -0.6026279956857726,
          -0.21411075350367217,
          2.195588142180795,
          -1.0366613674712495,
          0.17277009941572805,
          1.5510039989530868,
          1.3393292194906221,
          -1.5575120430673195,
          -0.6511784447603747,
          -1.2022748288123453,
          2.1791672613297286,
          0.3688132960948365,
          -0.29857087529647663,
          0.16200018198522984,
          2.4169645775672888,
          0.26607110005439677,
          -0.9923094067762411,
          -0.7304127491766216,
          -1.5085104934939473,
          -1.1953176078560868,
          0.008830869092020327,
          0.8591085411483121,
          -0.022266419812790598,
          -0.058773966549547564,
          -1.4637638908077928,
          -0.33628055069156554,
          -0.8194524077843893,
          -1.303158528508218,
          0.7710162560952357,
          -1.2445585997948996,
          1.369323578737425,
          -0.7751542093496668,
          -0.43846330205859724,
          -0.4747484564496387,
          -0.6054784605477409,
          -0.5828068899931947,
          1.4064941815541336,
          -0.07045070766597392,
          -0.07931642362689069,
          -0.6002009819739493,
          0.06498385869025135,
          1.3472196752116177,
          -0.6300333884141537,
          1.4984396490498286,
          0.19343276409770238,
          0.5399003572422248,
          -0.8336907286159306,
          0.4303110157274294,
          0.08954330784775284,
          0.8987116275534227,
          2.43893339481085,
          0.5949796489392564,
          -0.7903320833341627,
          -2.71546599049831,
          -0.45688789449547956,
          1.3868825667535374,
          0.3635342776312941,
          0.6388313296519463,
          1.195453554250292,
          -0.2821187718845466,
          0.16595528458246597,
          0.10177949625603559,
          0.27376281149219345,
          -0.3871860807447361,
          -0.38488636559316336,
          1.786422136592792,
          -1.492212949442347,
          -0.4009444308045116,
          1.0669078752347754,
          -0.14021603902820154,
          0.863162650015835,
          -0.10050304364175303,
          -0.6438816053107178,
          2.010190337968157,
          -0.4878066418556827,
          -1.4057701557399116,
          -1.4299810484975395,
          1.0931352798374785,
          1.2730222752908975,
          0.037792243415456846,
          -1.6465707840187902,
          1.696746513062621,
          -0.353021057918157,
          -2.102812714839042,
          -0.6656460678592472,
          -0.7895141208378081,
          -1.3951566370156985,
          -0.4701176949487766,
          1.9366786054779597,
          -0.2780374860445139,
          1.2947265172720526,
          1.3571021530922518,
          1.0195108483148012,
          0.0626963994082289,
          -0.7722998020656351,
          -1.353209182537532,
          1.0643149268603325,
          -2.640287903169448,
          0.07029310524184747,
          -0.5288450188880869,
          0.3638227250102882,
          0.2465970109468828,
          -0.11052559918009715,
          -0.23743676425814433,
          -1.677387843120302,
          -0.08562675823228623,
          0.5984546299630684,
          0.6076379090972879,
          1.254124672057115,
          -0.9724778149831481,
          0.3143545194191499,
          -0.058757956215938184,
          -0.03737652487987073,
          -0.6802828041691912,
          -1.5672140547661044,
          1.0463712798929348,
          0.011779607431918354,
          0.19906242655162534,
          -1.387986633464073,
          0.3947178451929407,
          -0.6544888761951909,
          -0.43241078879186734,
          0.5529688788719433,
          -0.6476489907686221,
          -0.861413119962127,
          -1.3531129534526538,
          -0.6984103584903586,
          -1.0634539106852559,
          0.3516009496637605,
          2.192674055018413,
          0.8701948653279472,
          -0.026203766684250257,
          -0.1612220190020383,
          0.46359793232707014,
          -0.27600074575817984,
          -1.156750181569165,
          0.6798050439901265,
          -1.1728500356905869,
          -0.18410887618957578,
          1.0382651634749183,
          0.3947340256619207,
          0.6859121318450213,
          -0.88545025729977,
          -0.3150055332303982,
          1.8126579166330625,
          0.3147616747323655,
          -2.6740421090810105,
          0.4059699223029372,
          -2.814693660123929,
          -0.6930434598461482,
          -0.6492453170372148,
          -0.8402318705494847,
          -0.14630092518220958,
          -0.2375964670024113,
          0.19133324986256467,
          0.17238740645483738,
          -1.0415195960057646,
          0.2991669483810755,
          -0.7584674424581026,
          1.7878060389572574,
          -0.5649400282340064,
          0.3043535930866452,
          1.0205266068186039,
          -0.5667949669104921,
          0.1917677673659334,
          -0.855743027934645,
          0.2763033763577128,
          0.20224118655973058,
          0.10651995698684925,
          -0.07188380995994023,
          0.44780244390635754,
          -1.5615166489539152,
          -0.7470479808014171,
          1.0828648276146124,
          1.3148346167787655,
          -0.968651655027996,
          -0.8087261235810866,
          -0.005589512415402244,
          2.1446105167859155,
          -1.845470204820757,
          -0.3916671112517671,
          -1.0447118829772202,
          -0.5137341826333847,
          -0.9631175540932926,
          -0.5287077671624641,
          -0.5124697112105684,
          -0.22473335935761898,
          1.5922851889014118,
          -1.9247261983034087,
          0.04208562593001435,
          0.9809193965521468,
          -2.1715256850186857,
          0.22026544112456617,
          1.0274724018083001,
          0.19146882644173502,
          0.2966209929572214,
          -1.251048096697558,
          -0.9480605820509905,
          -1.2452603120344947,
          -0.5948701446344465,
          -0.0728012671598547,
          -1.7292582637192355,
          1.4853841957627223,
          -0.28522507588836427,
          -2.21032938119405,
          0.41047064809853306,
          1.313858253987967,
          -1.9927269721846654,
          -2.4045677600322293,
          0.17563487066987854,
          0.4494777777883911,
          0.13197529133720184,
          0.13886685170236462,
          -1.2747313569637944,
          0.2615858758460099,
          -0.9627393919491288,
          -0.7762717239981387,
          -0.4536576763425273,
          0.38619998896098967,
          0.5330995152486147,
          0.42322347471210003,
          0.4650280440565669,
          -0.13909190579500164,
          0.09453065711883347,
          1.4137002776931857,
          -0.8848798381064654,
          -0.5613883141116315,
          0.4271392493358198,
          -0.7719578864453772,
          0.31355699973984297,
          -0.710808301641366,
          -0.4668353989062388,
          2.9251593739618813,
          -0.5354517739253739,
          0.6068426028196436,
          -1.7521068471130539,
          -1.5844215547596894,
          0.08467806480852133,
          -0.12021665980445842,
          0.2539441294754349,
          -1.2967572927173594,
          0.13812642407570522,
          0.19331265784250276,
          2.2050709700426623,
          -1.4286981500574392,
          -0.6580571382406363,
          1.5159396083972232,
          0.06760966822277466,
          0.4564393251414711,
          0.4579403757874037,
          -1.256128008190096,
          1.1030976102723842,
          -0.6096231739850535,
          1.7623489428352255,
          -0.2090700851972197,
          0.7931232665267367,
          -0.7597890240027518,
          1.8581871835268868,
          -1.160710829567585,
          0.17706960897194118,
          -0.1062554459023574,
          0.5877838939151928,
          -0.5740409150457704,
          -0.10576334432512305,
          -2.067877933451655,
          -0.7174589918498919,
          0.40677416919509146,
          -0.9256282480422119,
          0.757873446526456,
          -1.2449964166479919,
          -1.1063370741072738,
          -0.725871313212018,
          0.017526499340869812,
          -0.11968346613358016,
          0.8794544119204947,
          -1.8531276258015983,
          -1.5286884782924697,
          0.6187826423948037,
          0.8811564763837493,
          -0.38952920954592996,
          -0.264422145250853,
          -0.4504878812394111,
          1.3740073388916418,
          -2.2464860984112476,
          0.7408506650268087,
          -1.9020053337022909,
          0.20382352965406633,
          0.6671417029534187,
          0.666869873715674,
          -0.6887249573388003,
          0.0930243768134932,
          -1.006893990285936,
          -0.24328554116895773,
          0.5332809006736275,
          -0.5005326058311155,
          -0.6665983184525959,
          0.3401269947304808,
          -1.0744375075309684,
          0.8739425494050931,
          0.5199375803828654,
          2.233266326963029,
          1.182886587423966,
          0.6538138451393498,
          1.0499017221279183,
          0.9849625151269034,
          0.2143966243313062,
          0.42147111004828874,
          -1.4335338280464536,
          0.5891053304221869,
          1.836340582786884,
          -0.19176101741375426,
          2.0375769576541543,
          0.22803703322887953,
          -0.3406016284271402,
          -0.17014935128939718,
          -1.976557265148297,
          0.2740121259926054,
          -0.7935924735099087,
          0.010962642445743987,
          -0.26885170354957,
          -1.8440277227275006,
          -1.5834860921760927,
          -0.0114782143268399,
          0.3470258615925487,
          1.5779642675110253,
          -1.9897780039262476,
          -1.8884793216211657,
          -0.08197798920311962,
          -1.6358083183813956,
          1.276508047369394,
          1.1559677978708558,
          -0.5012594810647238,
          -0.7862818625321734,
          -0.8348248742174379,
          -0.8558500306859055,
          1.4245505976242927,
          0.12951135302557779,
          0.5800941514975937,
          -0.5560131996003186,
          1.467784330041294,
          0.19582099923556756,
          0.2654877185618999,
          -0.010971155594760303,
          -0.03015525448018339,
          1.1078184574985708,
          0.7993364497532396,
          -0.06000718188401065,
          1.1851077712847506,
          -1.2339963340719622,
          -0.24786784224805597,
          0.5195832576824289,
          0.2560917252018305,
          1.367812802758703,
          -1.4110001653765711,
          1.6654565542521238,
          -0.5435425673018908,
          1.334086453121928,
          -0.0768777101281786,
          0.3308647126261426,
          0.5717384291417286,
          -0.20943493255058146,
          -0.608887315061422,
          -1.728689671679145,
          0.18598119368430685,
          1.5147488586989974,
          0.25291600750220045,
          -0.5405776698422251,
          -0.360341804491502,
          0.6154496432433069,
          1.1567515286074088,
          -0.12921175290771392,
          -0.5764787920227445,
          0.9789207875916022,
          -1.0825170379641689,
          -0.6912606050945371,
          0.2042127405112615,
          -0.007062369146108063,
          -0.3561355118462063,
          1.4789574359830135,
          -0.5606668599504836,
          -1.721022395003217,
          -0.1731516011521658,
          -0.6913562790479066,
          -0.34535825909539725,
          1.1709324610294654,
          -0.04176259899052151,
          -1.0965078410852902,
          -0.9897153000854241,
          -0.0002234635499085957,
          -1.8818277772745868,
          0.7085706077271451,
          1.9120465509042064,
          -1.8645589092341888,
          0.4000352515379545,
          -1.2965567285302968,
          -1.2608141022032393,
          -0.5272424841053021,
          0.9162688356785331,
          0.4698780312206122,
          -0.009924243568570206,
          -1.5002820477718246,
          0.14449557241825464,
          -0.40293473402593727,
          -0.46619004404891307,
          -0.36570218879527183,
          1.1189930859008161,
          0.1888649500342992,
          0.49407416494590034,
          -0.6001207128601571,
          0.32984697989549816,
          0.05894151431539787,
          0.7188315825939091,
          1.4982879051215832,
          -0.05292883973912044,
          0.2826746894317272,
          -0.7139365424262557,
          -1.2468072587160939,
          -0.8890894698644939,
          -0.065962137830307,
          1.810762790569657,
          -0.07647749144977684,
          0.7970283323280202,
          0.07310606497284414,
          0.8888698597793643,
          0.49531521115328386,
          -1.2375665013076895,
          -0.020957430053891554,
          -1.3897099076100883,
          -1.1253371012158795,
          -1.2974624235625265,
          -0.20804568590699773,
          -0.7291312248779944,
          -0.08486926584593327,
          0.5456153649414199,
          -0.6254965009530854,
          0.4478878744647442,
          -0.1924064326489712,
          0.23165044144794814,
          -1.3852099318458946,
          -1.3875217498433254,
          -0.9471953953512128,
          0.12207231614655514,
          -0.12486983705233645,
          -0.2604277416426192,
          -0.8976168034050819,
          -0.37027783502299244,
          -0.5591629063068851,
          -0.06010683304504971,
          1.304364739897875,
          -1.3098893785117296,
          0.6273085181054181,
          -1.411849869984284,
          1.4604582964128539,
          0.4161940562915186,
          0.0686630050928481,
          0.9639197884801174,
          0.332794547225913,
          0.5444607585142656,
          -0.09707880294276126,
          -0.5898380793608238,
          -0.09988596665370439,
          -0.4511009621429025,
          1.5839119936872925,
          0.45562034517937344,
          -1.0393039867495133,
          -0.2158514154849838,
          -0.609309755683151,
          1.6462308140359478,
          -1.0510303595719726,
          -0.6419182543722538,
          -1.4297857984155977,
          -0.06689202544509518,
          -0.20300292940822492,
          -1.6876602633464077,
          -1.278232571116688,
          1.1607939158955252,
          0.977032512731871,
          0.18879699528354205,
          0.14366509407551112,
          0.49641550697026476,
          2.159770005839213,
          0.023707570685367243,
          -1.1895345170961629,
          0.5671195609093028,
          0.49957010384480754,
          -0.5117194434120194,
          0.7586900609806113,
          0.14495032861142126,
          -0.32238814123824155,
          2.7075386297687056,
          -0.369758583502732,
          -0.6067831223025454,
          1.286676381957433,
          -1.2369022581960594,
          0.9971647193982403,
          -0.3707214494414906,
          -0.5661106092917135,
          -0.5033229651174689,
          -0.8853289913050088,
          -1.8911428512168607,
          -1.1010893654675427,
          -0.7479821173900504,
          0.7175225803963051,
          -1.2038821372312847,
          -1.063320900435505,
          0.4176657119745844,
          -0.02050698501904491,
          -0.44880100609119494,
          2.033586729886769,
          1.6172788504510494,
          0.5408988301131055,
          -1.2706972844789448,
          1.6025592087497496,
          -3.1501668078950082,
          1.367469004772903,
          2.4533665483293343,
          -0.9331854023803994,
          -0.028577272872386473,
          -0.43267910591683034,
          -0.42842245543535123,
          -1.822866501393956,
          0.15481818202906333,
          0.8032167230077678,
          -0.155808639505359,
          0.7267338260131352,
          -0.3569027261352732,
          -1.1387549882840167,
          1.198787613716028,
          0.08382517926926492,
          0.7947136810615927,
          -0.3078683353622674,
          0.35011933455639505,
          0.2588655294417708,
          0.9118990186015538,
          -0.03081291594940044,
          -0.28459886379572663,
          -0.7906998836463587,
          1.9080792802302329,
          1.4464392666911636,
          -1.0737236819300506,
          0.07701149305412197,
          -0.5905987731436502,
          -0.2110638736660074,
          -2.31107761523779,
          0.7387218351162446,
          0.7101763699573554,
          -1.1495806743694386,
          0.22203473685351047,
          0.3958450093298442,
          -0.020967886221650325,
          0.24761944640150696,
          -0.6360957358089608,
          -0.0831212462430292,
          -0.05766327454067503,
          -0.23491602835808506,
          0.496907275584944,
          -0.09491232091057746,
          -0.26038716084562386,
          -0.48169729706320874,
          -0.4900268837320281,
          0.6111901310559487,
          2.196936897392297,
          1.6555490454166493,
          -2.8159358549060554,
          -0.07998606159080072,
          0.0645389193957452,
          0.9249152791300675,
          0.3318183640113746,
          0.4963016541518108,
          0.8941056672987766,
          -0.6479721952616144,
          -0.24150106139818628,
          1.0257735215406671,
          -0.7045490616972447,
          0.8189694824992093,
          0.07681581077177282,
          0.38948425542292386,
          0.2644136766247914,
          -1.871580017055433,
          -1.17854139720492,
          1.4833633697799082,
          1.15044476454698,
          -0.8685073555665335,
          -1.2474698591787552,
          -1.1547729439988024,
          0.06463237964047193,
          -0.1365344638269574,
          -0.5362097266512261,
          0.17541770161923378,
          0.19663923528081478,
          0.22015964503846777,
          -0.3950268921064058,
          1.227887673995571,
          -0.4698533676496491,
          -0.5586597831572034,
          -0.227635434996058,
          0.30850577119623923,
          -0.18276653903608248,
          -1.597494211264757,
          -0.8968970954924189,
          1.4649709232885118,
          -0.5200566045513272,
          2.465038671765193,
          0.49289420973886816,
          -1.6845712981775278,
          0.03886243643235829,
          0.416884768654999,
          0.06888678583659597,
          -0.4102864814544886,
          -0.24171836334973434,
          1.2209294301002953,
          -1.6634805140089068,
          -0.02233010868806819,
          0.17378080386602665,
          0.2867836786380533,
          0.34925785362516204,
          -0.5316397676447475,
          -0.34791403414582617,
          0.37275585809606515,
          -0.7032641996537113,
          -0.633582114845352,
          0.6238261892894027,
          -0.03683706879370984,
          -1.1486905678973525,
          -0.3930538644416666,
          0.7262719838846678,
          1.6238966443006873,
          0.49012623154078905,
          -2.3619170316618856,
          -0.7832467103511628,
          0.2160267981332813,
          0.7590331396758194,
          0.3663614263541731,
          -1.6394197560547799,
          -0.5101510532842545,
          -0.5968990335296012,
          0.7076898759046845,
          0.10111402107770572,
          -1.1122672247581828,
          0.08167310549344949,
          -2.3002168864333656,
          2.424556395373364,
          0.5838915265134144,
          -0.2869192892553071,
          -1.888771010704265,
          2.1713084473608206,
          -2.3348048912971833,
          0.17455550907464748,
          0.1181430853628287,
          0.41305838469971495,
          0.2288451598784666,
          -0.4012581949013563,
          -0.8622766485501344,
          -0.3091542732941031,
          -0.7836036397171464,
          0.16989611787091866,
          -1.6651835180309356,
          0.1382979335181665,
          -0.9913234627419238,
          0.18161741080132257,
          0.3033320211888739,
          -0.23392988769695314,
          0.6755360957450551,
          0.4280196481315851,
          -1.0301198581946638,
          0.039311660203746525,
          0.12381583172589011,
          0.9374399559545441,
          -0.13512596353619147,
          0.4321417504491294,
          -1.3248555915289548,
          2.4293173907149224,
          -0.41037636519281545,
          -1.054898684079829,
          1.2724324296006917,
          -1.3261890088995174,
          -1.104359080396998,
          0.2500064343798217,
          0.006320298631699747,
          -0.5154997407105152,
          0.23624968988736428,
          0.15613688114453145,
          0.6424470225691189,
          1.2117271475873177,
          -0.9845801481779056,
          0.5208504208365592,
          0.2627423952492921,
          0.7792031422855146,
          -0.15335431550117157,
          0.6445080686446504,
          0.04599857072586567,
          0.4364527295328009,
          -0.5004725752921146,
          0.7083029991335118,
          -0.3286851557920419,
          -0.5949900754195714,
          0.2214887588908578,
          0.7886325047062979,
          -0.4985094568286113,
          0.44143874363298313,
          0.5328251219422981,
          -1.353285300048155,
          0.37951962479912726,
          -0.3272858424772699,
          0.6536707453974069,
          2.306566721445888,
          -1.1843107029758235,
          0.10583259248010035,
          0.6655948112552725,
          -2.710430876960346,
          0.7892348377556224,
          0.2015439919516832,
          1.3650865044308094,
          -1.865820019987835,
          -0.2989827858752314,
          0.23933061536635938,
          -0.9295414688681944,
          1.8576033802663863,
          1.6307702946869638,
          -0.9085562592553719,
          -0.30642749601553626,
          -1.094116579790802,
          -0.21487987997588773,
          0.9705504146505187,
          0.6550075392491035,
          1.4132846183638388,
          0.731210480920366,
          -0.15162101731867988,
          2.5338330676588656,
          -0.8534055553350982,
          -0.22224019446391605,
          -0.265952690500246,
          0.25228119358103296,
          -1.7346755946997983,
          1.9092045013142576,
          -0.6133829125838717,
          1.6783868162843092,
          -0.5774804056458916,
          1.563906286406633,
          0.6268184734880021,
          -0.19130399447801302,
          0.04261778734773015,
          -0.10054229581183415,
          -0.8947659957880798,
          1.5649008284882011,
          0.5274284657562932,
          -0.3318260240837032,
          -0.7368648000905011,
          0.52456767811696,
          -0.2031407142453453,
          -0.32912372208353524,
          -1.0548721137030461,
          1.2608124728750776,
          0.7784538820187725,
          -0.15513790776966635,
          -0.9325827448069153,
          -0.3782467178932643,
          0.28882310734423217,
          0.2917891750484117,
          1.245182830306438,
          -0.6604011499599796,
          -0.6964415214819384,
          -0.9118304908563568,
          0.17592976933757795,
          0.9349811965385129,
          -0.5434858798737959,
          -0.15294221503701674,
          -0.8016965629643338,
          0.4539616494012536,
          0.6755763066936502,
          -1.381183233118573,
          -0.7551101256461502,
          0.6445672320962359,
          0.8587556035425125,
          -0.5671925219375182,
          0.22045781055448763,
          -0.1784258741800318,
          -1.2137419852126252,
          -2.957520817422983,
          -0.051749371931401174,
          -0.0028919236057743177,
          -0.7313313979148742,
          1.0165930294003573,
          1.1182332763350844,
          -0.8003261163843434,
          1.134196607237462,
          -0.24081152520777208,
          -0.26119453253005714,
          -1.3999417145600455,
          -0.8503573901132547,
          -0.09416731580557999,
          1.5773697891681446,
          0.6166383676147209,
          -0.47065596451993924,
          -2.3832233735845665,
          0.12848469561932518,
          0.46363334578328425,
          1.57240105838216,
          0.6855289358314559,
          2.17339301322876,
          1.3733331654536742,
          -0.7946168707740797,
          -0.2529082124046605,
          0.3387061924261835,
          0.10621924843434641,
          0.837793520856126,
          0.8416827390986698,
          -0.1814032201415747,
          1.478898413961566,
          1.4822009886303362,
          -0.7347363625875081,
          -0.45223482840353096,
          -2.2387350221684037,
          2.0361636482432828,
          -1.2495388213202272,
          0.47409495777104466,
          0.7543965555229444,
          0.15286893216545552,
          -0.9092318523639165,
          -0.5038157753976537,
          -0.8941077823658622,
          0.15817809000963814,
          0.7859939596253486,
          1.6892349147050534,
          0.9068413986690085,
          -0.7889208938869929,
          -0.4188890188660395,
          -0.5554838500111468,
          0.1735788250264432,
          0.2322560673964984,
          -0.03715685868698827,
          -0.975846517409458,
          0.7972308307999934,
          -1.6140279373918045,
          1.4777476052075638,
          0.8235337992785449,
          0.31437748676257393,
          -0.742737747080613,
          -1.25502853276865,
          -0.528401653621594,
          -0.8006496520718922,
          1.9525763779102916,
          -0.46132163338943033,
          -1.7031247413749675,
          -0.9693398758801363,
          0.0841547791828935,
          -0.9173212130681694,
          0.48066455658035095,
          0.19407593080973856,
          -1.348620966651474,
          0.566332000383684,
          3.1629806487743113,
          1.259139795617536,
          0.6896823456673106,
          -1.1268703328564866,
          -1.194886497982371,
          0.13864863246966355,
          0.08405326477021355,
          -0.4904055576945669,
          0.6170069415584493,
          -0.0015460773905243653,
          -0.11192891689073539,
          -1.5275001049837857,
          -0.5361282566038934,
          0.07109601210929552,
          2.414070094885766,
          -2.1975307149651266,
          0.01652344817721471,
          -0.7402224029080667,
          -0.8611910663777452,
          -0.84161419107413,
          -0.4039840276746652,
          -1.7044971118999024,
          -0.16296739101151606,
          2.006781878354883,
          -0.2962145486493859,
          -0.7053889385163113,
          2.2961038040539723,
          0.17403614335404438,
          -0.07767792770178247,
          -1.4656916553754664,
          -0.6990312997554704,
          -0.49668973100752833,
          -0.522148267878785,
          0.9430345196652499,
          -0.6985611883356921,
          -0.3268290166240014,
          -0.22043780424582737,
          1.1224904765719363,
          -1.4116593292243989,
          -0.4586975712974204,
          1.0768067453446983,
          1.023749194548247,
          -0.6328095308154777,
          -0.26242612629362716,
          1.6489493358440677,
          -0.7344507235173204,
          1.7987346223853802,
          -0.590202235019461,
          0.21843820863830854,
          0.8279857821646149,
          -0.5419992938061082,
          -1.9798134236960347,
          0.6220096723059714,
          1.2339922466486566,
          -0.05870021701881918,
          0.20890025056480765,
          0.823962552675662,
          2.204063408480706,
          -0.8982425246924542,
          1.509552808730266,
          -0.22293106614724914,
          -1.7121336896090071,
          -0.5219024264614331,
          -0.6725252696348598,
          0.7900759757179397,
          -0.6388428565962607,
          -0.7710255856193508,
          1.3114042747492671,
          -0.251706524357906,
          -0.9998854389290461,
          -1.313635854802315,
          0.08123044955139128,
          1.0625521726130807,
          1.2786749180891508,
          -0.35136675822253355,
          0.13708499338579846,
          0.9904177741470922,
          -0.2266423755736852,
          0.20920877549402306,
          -0.14711056640710152,
          -0.69376479663673,
          -1.0612012488844766,
          -0.49389342003614706,
          -0.954784411178941,
          -0.1436206622121841,
          -0.1291650760565076,
          -0.26085702168883496,
          0.17404135206418866,
          -0.5232971609382255,
          -0.4260236740571143,
          0.06343708413167634,
          0.884965118602101,
          0.2760925978919972,
          1.122847865435642,
          -0.01677328631517995,
          -0.1027354726956838,
          1.31905196003047,
          0.08694728559137525,
          -1.0251689025723556,
          0.7885010867375053,
          1.8123376849401354,
          1.3790884297390587,
          0.40464824008774036,
          -2.01030747070879,
          -0.733751377658719,
          0.9861945581045873,
          1.8819406100331886,
          -0.9022307452491746,
          -0.6038576998216388,
          0.6169898304901236,
          -0.054390617481092106,
          0.1631997925384422,
          -1.7897195753850306,
          -1.726202903011734,
          -2.463965206848845,
          0.9477105206258258,
          -1.5504550232938716,
          -0.7245604114503834,
          -0.06848837173332657,
          -0.8507437703205205,
          0.6656569377615825,
          -2.0008741957064644,
          -0.5927326479600049,
          0.024298507227441736,
          -1.002938483186389,
          1.3556954347273964,
          0.6787796885460887,
          -0.47495088063595153,
          0.8618009564689699,
          0.5846701486738941,
          0.8367111325981346,
          2.0703560641442413,
          0.9346207144603267,
          -0.6949012274048068,
          1.06012366602569,
          0.5594138420197564,
          -0.8069952148786189,
          -0.1524855218637045,
          0.02384442424762657,
          -0.13943632347539733,
          0.5931645436065887,
          1.118442570258617,
          1.0605118682135017,
          0.4424039706047199,
          0.586692225453598,
          1.8187004179426431,
          1.0150853832869802,
          -0.748054201523194,
          -0.20223331550029824,
          -0.705526147901966,
          1.2827813362114955,
          1.5090626528644528,
          -1.9243412179453168,
          0.013110493263333389,
          -0.36764206630306334,
          1.323975316983373,
          0.3133556443405028,
          -0.34030012885914107,
          1.0332155725357663,
          0.2503261596723349,
          -0.116566203268021,
          -1.291414965587748,
          -0.6325494834496732,
          0.9157666929905606,
          -1.0939618667161164,
          -1.079723661890586,
          0.9502941639233846,
          1.6096173730063206,
          -0.9833090996147125,
          0.7173841184774626,
          0.28601625218446514,
          -0.38456681430883655,
          0.27506442564857947,
          -1.7097488639153928,
          2.098168730288847,
          -1.0600280345630742,
          0.8911530019032444,
          1.2973090273500927,
          0.8251133784062223,
          -0.03021497205248733,
          0.14709282404559126,
          0.6436127341056148,
          0.5233485864392287,
          1.9982961663194148,
          0.43793590524883746,
          0.4616229041534004,
          0.32069562130818763,
          0.9891094290946884,
          -0.5773757716059793,
          -0.3181119005102529,
          -0.5245836033794711,
          1.6462230044982162,
          -0.15766956690292888,
          -0.5062992149663385,
          -0.10897453600783669,
          0.01713698550356456,
          1.0967905431617166,
          -1.4139783359104758,
          0.05286356395085484,
          0.5263415647398767,
          0.2499597343672616,
          -1.7000632932495925,
          -0.1668149291172145,
          0.040449959134853115,
          0.1697168294996862,
          0.021199942447534054,
          1.2332213138525185,
          1.2399315842521872,
          -0.6288455042974673,
          0.2999489096109978,
          0.5039734181897157,
          -0.021880870636735772,
          -0.24041693616346785,
          -0.5609369773005002,
          -0.06686318233548727,
          0.6141479504977725,
          0.09129073315053145,
          -1.8080344613980164,
          0.44044348284595153,
          1.6783879950156735,
          0.3085522114607901,
          -0.27230263896017276,
          0.7299725203430897,
          1.4235125370582318,
          -0.43565771980700535,
          0.2539514626096239,
          0.1013181583376304,
          -0.755366766303154,
          -1.3788198057163041,
          0.1942123626321156,
          0.6980869179509783,
          0.1674453631778015,
          -0.05883653923496085,
          1.4125406918444903,
          -0.28195748519150243,
          -0.40481018036027905,
          -0.07189848917241624,
          -1.8056581175693296,
          0.9393197468379887,
          -1.1629926056712063,
          -0.7507435885574044,
          0.004442131842646419,
          1.3591089338839155,
          -0.7440938890498752,
          1.070905908032184,
          0.012692753864978486,
          -0.1574577375759745,
          -1.4890990752553794,
          -0.7358747603747823,
          0.9969306002217411,
          -0.8247002700502423,
          0.552701181156863,
          0.9173281121534994,
          -0.394431703984102,
          0.653734128420817,
          -0.19824458290618208,
          1.4471150520123577,
          -1.4676526265682943,
          0.5173966445814197,
          1.6691553798974132,
          -0.37429644138227475,
          0.9277210407799513,
          -0.18614539283303344,
          -0.3924022561719057,
          0.7027923794813201,
          1.757329702925744,
          -0.14364305302618235,
          0.015187693208137813,
          -0.8858713016822561,
          -0.26936922111696326,
          -0.38729364123715415,
          0.015096165027009374,
          1.4775822386232857,
          -0.5761283685045808,
          -0.026211860408456602,
          -1.6864024814158811,
          0.21580775869258756,
          1.9330742425531804,
          -1.1390484840560697,
          -0.688441221463475,
          0.23502235414233408,
          0.49310714783069615,
          -1.221573015284721,
          2.156633988189983,
          -0.8180921529818848,
          0.12927816532368322,
          0.4661549503123242,
          -1.5513827817974453,
          0.8833098320832596,
          0.34548793192706956,
          0.25582019742168177,
          -0.5991123379292383,
          0.29060873367214285,
          1.899070745817109,
          -0.4257333534063908,
          -0.31626115026914436,
          2.0696689666809527,
          0.1859650303781638,
          0.159129956785548,
          -1.2011220171230306,
          0.9163571812663305,
          0.6875388400139367,
          -1.0870020761021848,
          0.7406711037329063,
          1.0238329985300019,
          -0.20138916649794897,
          0.7930178984825453,
          0.8098683686855486,
          1.1019226066499215,
          1.1453153713694046,
          0.9642044065347152,
          -1.191235868759841,
          0.40054554404884113,
          0.8318389512460436,
          -0.7950197601175023,
          -1.0997687487050793,
          -0.34394859511224507,
          -0.23566196106296783,
          -0.6018879074815662,
          0.7283030703988493,
          -1.2230363283318504,
          1.2775830204921255,
          -1.3888544340051907,
          0.847371489904005,
          -0.1282739694401609,
          -0.6409323073967943,
          -0.37309031916866187,
          -0.7574112690790761,
          -1.0019170094618892,
          -0.023554304362230775,
          0.16297694120150494,
          1.685950337891197,
          0.8277370417858094,
          0.431999294799516,
          0.07345832969790304,
          0.7631007500420964,
          0.6003972092891193,
          -0.6333068048062906,
          1.267536929626598,
          -1.0531342690607246,
          0.47211837595901507,
          -0.8838033771008235,
          1.7595702679065721,
          0.6901139988447967,
          -1.439791618776031,
          -0.8948763564183431,
          0.8090970686117226,
          -0.8020962806357113,
          -0.4412470712979747,
          0.9275989085770173,
          -0.002705862618950477,
          -2.0791722321203734,
          0.8977612770239194,
          1.6683564066769276,
          0.27120083749417373,
          0.6477876368544233,
          0.6227489253487826,
          0.2750401406485739,
          1.743525411836308,
          0.6227323669205118,
          0.09042980288752485,
          0.5271808152200965,
          0.37783970570053926,
          -0.8148113139657488,
          -1.8134062681245378,
          -2.229398836208169,
          0.8114645789300411,
          1.3249556365046553,
          0.7678718536719731,
          -0.24684776059963406,
          0.07021460137344199,
          1.7736777008301021,
          0.3773162377624031,
          -0.6501523305069821,
          -0.02970340781720099,
          0.7370225426394115,
          -0.19205044768885363,
          0.5939366828874044,
          2.4739114301438447,
          1.8160641012469063,
          0.1260347216144264,
          0.21491396091740084,
          -0.08880837188956117,
          0.48944089346408587,
          -1.164668827013413,
          -1.7290427227618652,
          0.6939420214919435,
          -1.5575202957489263,
          -0.5854538761595126,
          -0.1655632353218035,
          -0.22299805615704524,
          0.6925420154302606,
          -1.263730473433422,
          0.23888112922029045,
          0.030863269995122896,
          0.813619200399223,
          -0.2149963046016491,
          0.4388580464722834,
          1.4237987985137068,
          -0.022648431465903167,
          -0.04701659052734999,
          0.023400389413187988,
          0.5811529194663483,
          0.08073505148102515,
          -2.105871703600591,
          0.3513880026960906,
          -0.6223922137501267,
          1.676353568924408,
          -0.6312774686944439,
          -0.09394185369997925,
          -0.22097143018707185,
          0.41028755766792213,
          -0.2977821509578876,
          -1.0114257160042583,
          1.3076735292596993,
          -0.20013059972103828,
          -0.6387341429189001,
          -0.21112658155297484,
          1.6035509123777922,
          0.38096105515059797,
          -0.7890158331809971,
          -1.3687532656463266,
          0.20446777677183184,
          -0.5611234792997919,
          0.4321510645197742,
          -1.1519865100933095,
          1.638215341074138,
          -0.9071764484425988,
          -1.3958229611953747,
          -1.0380495431575136,
          -0.5033587762207077,
          0.8176086911913756,
          -0.7468105340274183,
          -1.1109524458661562,
          -0.8649180858446428,
          -0.4689321814047323,
          0.019001761091833574,
          -0.4218641199192646,
          -0.6239474556309832,
          -0.03456680869555658,
          0.19588793676246077,
          -0.014306426342394051,
          -0.540023017699285,
          0.07921118030627085,
          -0.34903036035506424,
          0.4420772907844918,
          0.14602188312643258,
          -1.0768729210694463,
          1.094730239091747,
          -1.1698239058552031,
          -1.521816409171872,
          -1.0129740086926098,
          0.17644718429429018,
          2.2401429346973556,
          -0.5682526311441812,
          1.8768926006224609,
          -0.44083072054346567,
          1.2426400343974322,
          0.2967201152551996,
          1.4226773667386492,
          -0.3557147922558001,
          1.697833834871072,
          0.7560128538193963,
          0.4695438162014104,
          0.5728657153217493,
          0.9799427662801813,
          1.1671682613869534,
          -0.6966906374801115,
          0.7146674139673661,
          0.44670014267441904,
          1.3583166117324217,
          -0.22543325591301336,
          -1.059263937388333,
          0.9157209921332955,
          -0.12570512947218931,
          0.5611778967002315,
          -2.061206187162275,
          -1.2935964138293465,
          -0.9168260887286767,
          1.431665826872943,
          0.028217556747632135,
          -0.046432240107803176,
          1.0574378420578927,
          0.7505921900633832,
          0.32090118086154257,
          -1.2341374175430715,
          0.5511084616929731,
          -2.0840242666323454,
          -2.0237967864777744,
          0.3590826630670367,
          -0.8403181895883168,
          -2.048996165075957,
          0.2828404142172029,
          -0.8896190652558875,
          -0.3440039029143271,
          1.5009915185574545,
          1.9253667522666635,
          -0.31260100135122226,
          -0.4357818675581748,
          -0.1371633559423791,
          0.4553500883180476,
          -0.6986389626877406,
          0.8271191627972534,
          -0.09213867577681968
         ]
        },
        {
         "marker": {
          "color": "white",
          "opacity": 0.3,
          "size": 3
         },
         "mode": "markers",
         "type": "scatter",
         "x": [
          0.5465736579520414,
          1.199191097945311,
          1.3854618294216,
          2.8739246833723233,
          0.34959007762020833,
          0.2101219159748956,
          -0.044104488800265025,
          -0.3592033328931769,
          0.15798466686180104,
          -1.437216718134857,
          0.1878965017376754,
          1.0656446181169124,
          1.9543459858599048,
          -0.13365273991778773,
          1.0865978677907642,
          -0.8012369775279364,
          0.24275118550613972,
          0.4714792992521871,
          -0.2909337414549523,
          0.6697060393177087,
          1.784870009597721,
          0.2589910521077722,
          -1.497240776889539,
          -0.479359708310925,
          0.45528549411002306,
          0.038430693968327594,
          -1.0265295573073607,
          0.06461751069412792,
          -0.35942546787123253,
          0.48621172903282267,
          -0.2817744251651497,
          0.2977005001462227,
          -1.4270267380366741,
          -0.5561636323850507,
          -0.7156435898570221,
          -1.9145496915702302,
          -0.4312151950626301,
          -0.29564919641526605,
          -0.1231947781276731,
          0.6454882541999198,
          -0.478329869503585,
          1.203922332479485,
          0.4836432981705512,
          1.4399216001163777,
          0.7306170693905668,
          -1.2199329537504187,
          0.38913531377747557,
          -1.3038256706586815,
          -0.2992829907651729,
          -0.35175290103588297,
          1.2672298063770981,
          2.023654805008079,
          0.24155703578779975,
          0.1918472382915681,
          -0.07441984550654247,
          0.41316246629391246,
          1.3337394754039775,
          1.1975096248517103,
          1.770995303011352,
          0.2383436924870869,
          -0.8149678167167053,
          -0.36117695107398023,
          0.3248187401677931,
          0.03894887535931781,
          0.017981565921951763,
          0.18713400491639737,
          -1.013506419998934,
          1.3250368400136339,
          -0.03644421459666435,
          -1.181788588250882,
          0.8299847445602468,
          -0.47394086912914274,
          1.8297470636298143,
          1.2406019906218835,
          -0.5872218850525966,
          0.8557743796123175,
          1.2665062142740795,
          0.36477875738379917,
          -0.0589094079335857,
          -1.7219831188255188,
          1.4573177614277626,
          -1.1004804504983625,
          0.5611371055131029,
          -0.3062970274676136,
          0.22063060322019426,
          0.12797459122834165,
          -0.9410831903014033,
          -1.5033156858405465,
          -0.8573911947076823,
          0.13261726061587173,
          0.4266188230720724,
          0.19227178472904244,
          -0.06103700326644921,
          -0.33873871153698026,
          -0.19826804762451913,
          0.6980080873712878,
          0.49237565120206517,
          -0.15547160597884016,
          0.2190900768085989,
          -0.8532174004032381,
          -0.29801131033967443,
          -0.94960300046756,
          -1.0767319594024678,
          0.030361570023168336,
          -0.3831268070788777,
          0.6216436687634521,
          -0.7159651763980263,
          1.617256082545143,
          2.345052940600371,
          0.4792120191238974,
          0.5693899603210089,
          -0.9645696137889759,
          1.4331219743114887,
          -0.30576924574035924,
          -0.041127707207843915,
          0.7545446027922127,
          0.600159774498096,
          -0.38353424599839925,
          0.5192379863451975,
          1.361346317858611,
          -1.3903708290861945,
          -0.8790252396299731,
          -1.5921541934852046,
          -0.505316150772982,
          0.3607030629790932,
          -0.26145111130351956,
          1.219136701509934,
          -0.5127178461332533,
          0.3797148405655652,
          -0.9251454914225733,
          0.34510878981466714,
          -1.2142361099207286,
          -1.2992205923235796,
          0.19984503387736957,
          0.1962849429509274,
          1.0255588717076283,
          -0.4789431001831097,
          -1.9204148748318945,
          0.21196177691118603,
          -0.33643053294504827,
          -1.2016008572524077,
          0.2868808449318455,
          -0.8007709328607542,
          0.10185884103194316,
          -0.057120414762734294,
          -0.7442492847507595,
          2.2315728446739325,
          -0.7782309522821865,
          1.68419544250344,
          -0.36862980215238694,
          0.7611684539533521,
          0.8197228685426162,
          0.9723544529643455,
          1.0235122963193775,
          -0.7723302858553691,
          -0.9880683927193767,
          0.24177140299032787,
          1.5104821267527546,
          0.3240066270473089,
          -1.90936288029695,
          1.1031982410998094,
          -1.0977577273814236,
          -0.6268756195357855,
          -0.17024881211190573,
          1.6349396868065988,
          -1.281632390482404,
          -1.369913972744195,
          -0.19593277154847225,
          -1.2485731955501573,
          1.404552219098374,
          -0.5274365471314493,
          -0.44092225346961555,
          -1.0491567408380902,
          -0.7357776787506887,
          -0.15243506688100544,
          -0.7047651886383794,
          1.219466195719851,
          -0.414601823333276,
          -2.7908942345780168,
          -2.2411689481072306,
          0.18083965327063725,
          -0.15151523960018162,
          -0.4517657092857894,
          0.9927832147227739,
          0.24193645475487033,
          -0.5105738723950974,
          0.2988534401974377,
          0.009113678745944615,
          1.404902765830761,
          1.4991550893366712,
          0.9357843945369488,
          -0.09556995384429595,
          1.2140850669421401,
          0.7418105449638375,
          -1.1899254031942996,
          2.2542754532893645,
          -0.5420586052793077,
          -0.01249247573849786,
          -0.27325671376241933,
          0.9838205670907701,
          1.3698640635450432,
          -0.38021839260064844,
          -0.2721913737024253,
          0.20532582736683258,
          0.3413329230906213,
          1.2272116192293003,
          1.104377626621635,
          -2.5632992362806606,
          -0.5597664916276317,
          1.2086081267906092,
          0.2670219881074668,
          0.5483888876667379,
          0.961035468986979,
          -0.36825039641486085,
          0.34059059889154825,
          -1.8649672525127854,
          0.09669400269649453,
          1.326529300180918,
          -0.5658259997520977,
          -0.3599837272634119,
          1.4159131070054576,
          -1.5255859384485877,
          0.8817051609524431,
          0.0901828937610591,
          -1.1292763015939253,
          0.7443053720207518,
          0.2121763034841361,
          0.08759439014810892,
          0.4141962952372725,
          -0.7424822976450546,
          -0.8745229494850951,
          0.13919530117094128,
          -1.0989108467408129,
          1.0946555354665084,
          -0.9677935529156402,
          -0.19563813827761825,
          -0.19595966673445786,
          -0.9687153390878962,
          0.05951905448847641,
          0.839632814312218,
          -1.4279987317999616,
          0.738020238042697,
          -0.2798845902882226,
          -0.18322671298030951,
          -1.448073587708047,
          0.45571655305876874,
          -0.2542113137558483,
          -0.933899783730624,
          -0.45954856654908427,
          0.6717981043594805,
          0.791118984926067,
          -1.474076032732944,
          -0.49039728730576915,
          0.185485668861812,
          -0.074423117167162,
          1.022547373015571,
          -0.14636835923938785,
          0.7027717570659885,
          0.8190599224406516,
          -0.3777617332087278,
          1.777959603501752,
          -0.8900401678552913,
          0.3839921395671437,
          -0.13897327241505628,
          1.4210537016901907,
          -1.8071283659337554,
          -0.6063941198880582,
          -0.8072658473621892,
          -0.9705853450242022,
          -0.5005122320712426,
          1.7263189465857522,
          0.8462374123657451,
          -0.17947560324532852,
          -0.29581100896773155,
          -0.3636106707209423,
          0.9069882370225214,
          -2.3804690365346577,
          -1.1648097291103627,
          -0.8602762829147041,
          -0.7707088762216882,
          0.8161872841031507,
          -1.9066625080538977,
          1.6625281307286446,
          -1.8515279817331458,
          1.0857433472897846,
          -0.9289869094933203,
          2.7181978918854655,
          0.2558080201622237,
          -1.2443607406053083,
          -1.8406386176957468,
          1.2588908128184302,
          -1.0242000854054905,
          0.10314946151556201,
          -0.016753630810475786,
          0.8379074475766622,
          0.61019944567419,
          0.19932044546826325,
          -1.0756534644897673,
          -0.012513922927383776,
          -0.8159518083593977,
          0.3796054754996264,
          0.4243370887829271,
          1.3262991957265073,
          0.6844341043376888,
          -1.1171694301478756,
          0.7336281671313238,
          0.6147426649164572,
          -0.7217358125626246,
          0.4219475901094399,
          0.8731242279151323,
          2.0636513326180186,
          0.14702331842661956,
          -0.31078968592865924,
          -1.2067813568540813,
          0.5356977205246708,
          0.28108393898281836,
          0.7489041449474183,
          1.0680368627645611,
          0.1862468204666871,
          0.8678795868179884,
          0.1050354876890061,
          1.3432319738188025,
          0.11552707476511358,
          0.013711422506430053,
          -0.916841723609218,
          -0.7926518503303284,
          0.35125312421719146,
          -0.5302011520907064,
          -0.4140719536125548,
          -0.2050195988751169,
          0.5648748044552677,
          -3.064800482505433,
          -0.4841250516132817,
          -1.305580885308176,
          -0.9817473976693237,
          -0.8488895588623401,
          0.008730788510092168,
          -0.5026956204263193,
          -0.8771875161933576,
          -1.2180291828827958,
          -0.06902074372482991,
          1.1987468631885982,
          1.2984139262012508,
          -0.4630193317895061,
          0.720346482950109,
          -0.24831117984970966,
          0.7181120460152632,
          0.7945239699314206,
          0.28374937921432414,
          0.7157578127045728,
          -0.35513296213889917,
          1.4209484493274813,
          0.26540786151546336,
          0.8898391264040384,
          0.14255101445548155,
          0.0032068268331731185,
          -0.6671660170003195,
          0.022366611216438872,
          0.07878078073444195,
          0.34197645766567414,
          2.0757970363747718,
          -1.8593055884116705,
          -0.25678085858411787,
          -1.13561888170855,
          1.1094019570722784,
          -0.1570166336785825,
          -0.009939560048638652,
          1.8219939249514792,
          0.31050811101284703,
          0.8997816378760153,
          0.48935658085186307,
          2.1125127017298144,
          0.25911997935131,
          1.278354799935499,
          -0.04874548015616842,
          0.062047211467902465,
          0.7880336860641423,
          0.6482787895919094,
          -0.8643128722211646,
          -0.17704890831657638,
          0.4278561655809566,
          -0.6725978300900635,
          0.7532156726464722,
          1.1267148685818746,
          -0.31460266776774853,
          -1.8699249057409486,
          0.1408877440611983,
          1.7625408446618822,
          1.4013211434780122,
          -0.2624180178676363,
          1.2751848807258628,
          0.36232204085270214,
          1.0278038875962163,
          0.9431832944734982,
          -0.4773737329192406,
          0.4092995418924496,
          1.1042127709161387,
          1.0196077126208907,
          -0.7066993182145354,
          -0.09062026401885091,
          0.9042222309598213,
          0.5837678403386827,
          -1.4622035877878476,
          0.03549483280717214,
          0.17634186503378568,
          0.6202511852217657,
          0.16988502660133944,
          -1.4394027604626216,
          -1.0813220488114192,
          0.09199886469050884,
          0.7495381469822144,
          -0.49827148321964065,
          0.6071546695965455,
          0.3233816842508152,
          -1.156315585332376,
          -0.7634740396283455,
          0.3984747772632237,
          -0.060217263135913225,
          1.7956788416668943,
          2.542600737537201,
          0.4994194955431525,
          0.27816577279541177,
          1.4073050107990102,
          -0.10232046015307393,
          -0.26349249085945664,
          -1.0256316375161283,
          1.772056790723303,
          0.24224504535957941,
          0.3006408983130885,
          1.6918640857943321,
          -1.3297808013553156,
          0.25809765563625886,
          -0.59239277095806,
          -0.6461180348748141,
          -0.44561532108747853,
          -0.651478543644362,
          0.10768121655458111,
          -1.3224587343715255,
          0.03164819185801112,
          -0.9666691403812319,
          2.419495372268247,
          -2.4087828344100735,
          -0.17068488580004607,
          -1.1722470993510372,
          0.0561233561348205,
          -0.29642066578134507,
          2.0279502832089147,
          0.08116448281928121,
          0.7782972437314664,
          2.170570773151476,
          -0.0044883036898510946,
          0.4989056527058948,
          0.875752378743303,
          1.6663774874096755,
          0.2662860177778213,
          -2.1508197035134144,
          -2.421473591109148,
          0.4237028842587805,
          0.25618830916428026,
          0.326716147497096,
          -0.8180977882301173,
          0.8549382024429162,
          1.7337276636574148,
          -0.30387887964708105,
          0.6965555546694839,
          -1.209562860820719,
          1.4135875403846951,
          0.812097701627545,
          0.3514312359627664,
          0.17641104959854786,
          0.2296601538600224,
          -2.66691510742759,
          -0.7817786599740923,
          0.31064058351725005,
          0.01395076192648793,
          -1.488701457266969,
          -1.846869179619965,
          0.5651796050978727,
          -2.3227913549856503,
          -0.40442735238775834,
          -0.37389646392119275,
          0.9045194646556894,
          -0.6249478771948798,
          0.8568279956458877,
          1.3198008913951431,
          0.06386421249570061,
          -1.923053763380045,
          0.5285409862347922,
          0.8782753403978073,
          -1.2613677308164752,
          0.9410515378885274,
          -0.15020838442364917,
          0.10790163585921395,
          1.990399343992763,
          -0.6620782088489374,
          1.7274352947962985,
          0.9178261489669293,
          -1.300251997364336,
          -0.4672890728063471,
          0.3981479519984537,
          0.33455737600563284,
          -0.7033165154098072,
          -1.7609189151542708,
          2.1432201732362053,
          -1.4701393475965883,
          0.6568684421145592,
          0.5089215288237326,
          -0.9146330678204414,
          1.8556579879031903,
          0.8844976541214351,
          0.8447609447427107,
          -0.4706295702946832,
          -0.12456612453966409,
          0.5223446349854642,
          0.08449757841392713,
          0.9787979964751297,
          -0.019199309498494584,
          -0.10367929655578426,
          0.9128643556526228,
          0.845790808096461,
          -0.08668882122786092,
          -0.5892828927299268,
          2.4409667723859343,
          -0.6517484968774027,
          -0.24314076313647046,
          2.4626932639304373,
          0.05783164918446414,
          -0.5735281551464478,
          -1.0791443596965073,
          0.3612375674309647,
          2.2925030613818445,
          0.6766843636127455,
          -1.2251603240426008,
          0.27366058123833703,
          -0.3005690373566258,
          -1.4834427505217584,
          0.18864489835739712,
          1.3242267787263162,
          -0.5369316064649243,
          -0.29684323942868623,
          -0.2931442869979767,
          -1.151864864829075,
          -1.9489129131553868,
          -0.35868926256358974,
          0.727890929774501,
          -0.15404955758732103,
          -0.25602379937052183,
          1.9729624115118982,
          -0.5432877111788449,
          -1.269406829233057,
          1.614074656830744,
          -0.3584460460015811,
          1.4688419240738126,
          -2.2353018147054335,
          0.12369658194148934,
          1.3007585619195852,
          -0.6823619769354514,
          -0.0537007867762153,
          -0.536046057129287,
          -1.9680509173354397,
          -0.2698358745556005,
          -1.1449847579260344,
          -0.6008853503374222,
          -1.1409468471687618,
          -1.0169347346564983,
          -0.8828202033345894,
          -1.2861171622147065,
          0.9692905737581483,
          0.30420920021187337,
          -0.8319940540088501,
          -1.3697441424872667,
          0.7169045505942391,
          1.4351117406080653,
          -1.21483658928051,
          0.30526382670873164,
          2.5727270702161835,
          0.5387278599034516,
          0.6590774463170339,
          0.49609880272419116,
          -0.7316574666629463,
          -0.49560644857268116,
          0.9998569447827164,
          0.33910416589228415,
          0.9945594888800132,
          -0.9445584322383755,
          0.9190383834955681,
          0.33547520116013435,
          -0.6739295574048285,
          0.07582519956010776,
          -0.6737396061681181,
          -1.2268165052238267,
          0.3049735109252614,
          0.7839621781139676,
          1.0892869291799647,
          1.640280025549598,
          -0.8344705002684724,
          -1.4272379343033967,
          1.8426524265790496,
          1.201809065960673,
          -0.1983990659835364,
          -0.33192458053657947,
          -2.0659219089595067,
          -0.043547281813813093,
          -0.45523998856628983,
          -1.6403193532446934,
          0.6687239711661691,
          -0.5042776465498529,
          -0.37523703969656896,
          0.7429489574872914,
          0.02802768417862022,
          -1.070974660874209,
          0.03442542234621025,
          1.5987272531045948,
          1.2338883414968846,
          -0.24432324349031798,
          -0.7827205352954498,
          -1.1741593852853751,
          0.6333462241460843,
          -2.55038747229211,
          0.23940038481389667,
          0.2865789396208104,
          -0.2963722329100241,
          0.6189527385317501,
          -0.8717095513510615,
          -0.05285760232344006,
          -0.968980895328761,
          0.8825671746053845,
          1.1257945014393744,
          -1.2022745004316362,
          0.8616968236186666,
          -0.9603090913532758,
          0.5777775590828547,
          1.1948615454961051,
          0.07051477974859462,
          -1.9397152055979856,
          -1.2403731982962911,
          1.0652296899064984,
          1.226888021164865,
          0.6723669150977968,
          -1.2727718339730796,
          0.20057759930134764,
          -0.19006355007180636,
          -0.3399704729128217,
          -0.7742677808677285,
          -1.2795716026582542,
          -0.6008967523771077,
          -1.2121564354817134,
          0.23688766464491473,
          1.9158024529227777,
          -0.3021695485372087,
          0.5268948577064745,
          -1.0661813770402744,
          -0.7173481509055941,
          2.3046810068406014,
          -1.067724803722399,
          0.38910743239923723,
          -0.4793934110116364,
          -1.6121006131183124,
          -1.2093315217786251,
          -0.7011603672722017,
          0.04594299430635943,
          -0.7354333146678006,
          -0.8761375723241206,
          0.061137199106223,
          1.2651626354594496,
          -0.17575202876895887,
          -0.27561483744844345,
          -1.5859549136176334,
          1.4945065053084432,
          -0.900924689220603,
          0.5908205657557017,
          0.38463332299667197,
          -1.3103058819496372,
          1.3575459292981067,
          0.10355497990704053,
          -0.11400630844596832,
          1.6243304846456839,
          0.11839890841477883,
          0.05791727445068717,
          -0.25356359843036613,
          -1.8956121269974855,
          -0.05528657395101722,
          -0.4214899922246996,
          0.08251561057603918,
          0.7592967914350558,
          -0.2668826845021553,
          -0.633158443982216,
          0.8923850248050718,
          -1.3623993663321476,
          -1.0735478108363887,
          -2.1286518476528826,
          -0.5392829964658732,
          2.023798185380656,
          1.8952310989220167,
          -0.4224479041253591,
          1.1449472937750587,
          0.14163658735420717,
          0.6988023345954761,
          -0.5829273809187304,
          -1.2543716908636857,
          -0.1494412557675123,
          -0.9941796828478328,
          -0.6168536682372214,
          0.19844531059159087,
          -0.4598339490019057,
          0.28693479077669454,
          -0.002109467541671378,
          0.5348683445480905,
          2.5020064687788754,
          1.3842266841015747,
          -0.24635753523536844,
          1.549041276102489,
          -0.09554440033964827,
          -0.37032356514926495,
          1.1950410567635241,
          0.7477200923184676,
          -0.9792517159413072,
          0.031329886987459615,
          -0.968395176805899,
          1.2369973525978786,
          1.673023893615962,
          -0.3024254370294277,
          -0.4438472840968737,
          -1.1477316947530016,
          0.8681499603639105,
          0.334059252104856,
          -0.17871267206898603,
          -0.5927527028024288,
          2.0386947165083784,
          -0.10353003909564498,
          0.09997415507331824,
          -0.10295473789335226,
          1.2220526711328217,
          -0.6880891316310619,
          0.025567043864230813,
          -0.0012197465963647647,
          1.6153072722359025,
          0.23252158194414763,
          -0.0064368958386073274,
          0.5109014245159308,
          0.2570910437581396,
          -0.7434708102102804,
          -0.6177341042028985,
          -0.4268650831884757,
          -0.39489848700135816,
          -0.20048408564784578,
          0.3900139390841064,
          0.9216888390265542,
          -0.42426836099035126,
          -0.9488981415885542,
          0.8941713531141089,
          0.7447848967342947,
          -1.9353542535304984,
          -0.19010427347493222,
          0.5221397740342424,
          0.5676477437267302,
          0.21802058740465596,
          -0.3685782395982187,
          0.4812756705966927,
          -1.189329453695909,
          0.23370116186052373,
          -0.27213412849795454,
          1.6807488798627739,
          -0.3644949971800649,
          1.2848332085434022,
          0.8242819047193088,
          0.5810964226151305,
          -0.19024709931589365,
          -0.896309995553333,
          -0.44059164343442286,
          -2.209254442126772,
          0.22793377288814762,
          -0.9847084144433057,
          -1.1474075633255911,
          0.05981404555399189,
          0.4909306637162865,
          -0.07118245119674416,
          -0.8282176213228836,
          0.5892977946051453,
          -1.6937920010050027,
          0.851198248016464,
          0.7344175799381721,
          0.5416423832130207,
          1.185010726737503,
          0.695992048376487,
          -1.894987113490657,
          -1.4711639412558921,
          0.9607682303298711,
          0.43975296620027715,
          0.689052260680187,
          0.811968127531019,
          -0.29883253687404415,
          0.9024503161726184,
          0.43821775148884134,
          0.27920199733101186,
          0.006042154419405174,
          -0.6279058016589152,
          -1.5414272785685135,
          -0.7153765715581805,
          0.21773786332641185,
          2.7521044141728743,
          -0.4353156199072523,
          -1.1060510376379744,
          -2.19586345408302,
          -0.7149552049423001,
          -0.25201689159379265,
          0.6812958792908516,
          0.8202335062963001,
          -1.0343165974281114,
          -1.0931591016459723,
          0.5824211073306773,
          1.5303835012564382,
          1.6052214404030305,
          0.9851478096579722,
          0.5797532302200665,
          0.03497299006604775,
          -0.2339329848967712,
          0.10244801072708995,
          0.180921251800485,
          1.1360782198372674,
          -0.9641230884699848,
          -1.9807289837732827,
          -0.4986636335430608,
          0.5567525758319368,
          -0.822846504557857,
          -0.84977017755536,
          -0.2321956833021199,
          -1.7879243408161452,
          -0.304937058640139,
          -1.2880089540252408,
          -0.6897273382395196,
          -1.5153290753671356,
          -0.8775763474085007,
          -1.1271549556150504,
          -1.1777632989544584,
          0.2242163140159442,
          -0.7769082511992457,
          0.07537533703583409,
          -0.9526231314585168,
          1.2261932881589452,
          -0.32270590477779354,
          1.4828530208930102,
          0.368474951971865,
          0.25705168294362074,
          0.029300786043937734,
          -0.0705563264185672,
          -0.30570442064978604,
          -1.0349251310672067,
          -0.9324934044980466,
          -0.6517943391510365,
          -1.0710811507472062,
          -0.44818834112429967,
          -0.40000870527796323,
          -0.264900655194727,
          0.854476554516275,
          1.5489162426566379,
          0.8970692761355341,
          -0.22933859127993136,
          -0.702487288067723,
          0.2736550389657503,
          -0.22961061109875897,
          1.0044044418200322,
          0.8581981987463504,
          0.3067922614845921,
          -0.3651756199066655,
          0.4803306928685353,
          -0.361901105971888,
          0.0533355654391766,
          -1.2059961624355582,
          0.22390915809771061,
          1.0012547892802488,
          1.1830687063296061,
          -1.035566191412404,
          1.1322520060912393,
          -0.5625286669477705,
          0.3977997688197847,
          -0.8613965670993451,
          0.11151679396516519,
          1.9791121714689013,
          0.23500406724791223,
          0.13486722727402756,
          0.7000404606633058,
          1.6667878059687482,
          1.3131389377557703,
          0.045009966511619794,
          -1.3113662666991934,
          -0.023817005588394044,
          0.5591672229152406,
          0.42776943223784425,
          -1.3357176012836287,
          0.07717096139756888,
          -0.7389501878690646,
          -1.7757184276581952,
          -0.49703562995108586,
          0.07196227763412366,
          -0.7296797195040922,
          0.10432701334421292,
          0.2637454760291156,
          -0.7231732784263377,
          0.12384679434543078,
          -0.9556524284436385,
          -0.08419739242724275,
          -0.5943668221534311,
          -0.6411915141057434,
          1.3983934180942241,
          -1.201675878467897,
          0.6143975341676395,
          -1.9895896299257745,
          1.3854420608977158,
          -0.6296844445799883,
          -0.2521479896142054,
          0.28312780500885054,
          -0.25217063720799626,
          -3.049442321448261,
          1.0860472650835882,
          0.5441921335457527,
          -1.3021833934804905,
          -1.8063719204380633,
          -0.8399307366753049,
          0.008089632596003028,
          0.5488576665404675,
          -0.006851104025064234,
          -0.30893618009028273,
          -0.7842896095891535,
          0.41309669942411675,
          -0.25910084499489444,
          -0.26849591316771315,
          1.3479622469862935,
          1.5842184396698955,
          -0.14820470590499674,
          -0.6930314493680187,
          -1.1606642875678164,
          -0.10342387987914696,
          -1.7753429539471568,
          1.0620130994438335,
          -1.4693526426311272,
          0.49553451807972015,
          -1.411968727193103,
          -0.18465128367854552,
          -0.2416492479799183,
          -1.0504262837372011,
          -1.106761299913864,
          0.7099742655273261,
          0.5715489394862486,
          -1.308499941179441,
          -0.018364698607090772,
          -0.4680697372761507,
          1.2604770342299356,
          2.3337197713400006,
          1.2902895279547626,
          -1.0699868663229026,
          -0.8413971007903015,
          0.7977781482024946,
          1.8745531002193492,
          0.4180328789113602,
          -0.4430690817314931,
          1.295003236606799,
          1.0673601092230076,
          0.03250847220490271,
          2.5612920856907455,
          -0.5339751279548345,
          0.1118450292377074,
          -1.0466464267606181,
          0.7281674599308019,
          -0.14667380464762633,
          0.5361439973357373,
          -0.6455801391345413,
          -0.003974688822395513,
          0.18650529691373768,
          0.5465332958215213,
          -0.7409395820037273,
          0.865347184244655,
          -0.8576406987567498,
          -0.014707104160190932,
          0.12128870597613926,
          -2.552401075528895,
          -0.8502709688960564,
          0.07972223853980098,
          0.42710363900320003,
          -0.9175644078109031,
          -0.5534845117991678,
          -1.866607457952943,
          -0.8664022492526159,
          -0.6769382845290448,
          0.10706738781324979,
          0.48177951746660097,
          -0.45115751066585996,
          -0.4060255662139269,
          2.425576593171324,
          0.3677675916012053,
          0.3759087666496739,
          -0.542667797944678,
          0.06736904474971535,
          -0.6190833801474368,
          -1.9407200852571862,
          0.9035833910585847,
          2.7605214224198704,
          1.0001430623038812,
          -0.023567870459518723,
          1.632473911789778,
          0.507545505718247,
          -0.3458339981962568,
          0.7966259563230541,
          0.25532677946442306,
          1.6278426424530272,
          -0.02605563992992214,
          -1.55167745133505,
          0.09613407254468442,
          2.0448569260001697,
          0.37320499473950103,
          -0.9504008810515431,
          -0.43401725973804073,
          0.8735151230883483,
          -0.5766507211601242,
          -0.09506481952825484,
          0.3588500574902766,
          -0.3087401225435287,
          0.2583356780679459,
          1.217992367859612,
          -2.9722007220814235,
          0.09040085846368597,
          -0.2376031516635789,
          0.6896901649634558,
          -0.4532931001574331,
          -0.1909458644408877,
          0.4689370555886229,
          -0.934576945567105,
          -0.7192221300201279,
          -1.8398829128977152,
          -0.18448552619365305,
          -0.2246600491890016,
          -1.065579094396493,
          0.811295323380187,
          1.9933806746486273,
          0.24538507089852163,
          -0.78838604642682,
          -1.373912953963199,
          -0.08428816983457253,
          -1.428356171560874,
          -0.4424189913034202,
          0.844440903074474,
          0.5949460105198968,
          1.59972816797384,
          -1.3547675387932836,
          -0.5974647383829457,
          -1.5089059509221803,
          0.72905972891875,
          1.4564509488578008,
          -0.7272453241944492,
          -1.410145248303456,
          -2.5930506069097023,
          1.2368168538700746,
          -0.7049341441972579,
          -0.44848057408554637,
          -1.2993699000405197,
          0.31177485394206667,
          0.19570923601683085,
          0.35650085207150556,
          -0.005109012563237837,
          0.03943174164149487,
          -0.6253266771244538,
          -1.5622674545660864,
          0.8994214817099021,
          2.1921030200975493,
          -0.13506176881430404,
          -1.2420719237905689,
          -0.9637549905424995,
          0.024492209539889943,
          1.35467898159326,
          1.8724926029014766,
          -0.09795706967647269,
          -0.3367809939801128,
          -0.2995261017262293,
          0.9291012007077857,
          -0.9670306662807091,
          -0.12095575972997835,
          -1.0269754298305644,
          -1.637767635791713,
          -0.5547085477669292,
          0.7333929816018019,
          1.809109721300532,
          -0.28624207895504,
          1.6814845157354807,
          0.11842762955559478,
          0.16519180875746123,
          -0.7077054762901634,
          -0.4917891370898812,
          -0.39983882847402935,
          -0.28355228549121586,
          0.24652899184114918,
          1.5798105933969526,
          -0.006717090707968717,
          -0.43641225127171585,
          -0.7967878953929121,
          -0.05417425909163411,
          -1.0434063813234606,
          1.832043601420747,
          0.13932035219860225,
          0.904253932944776,
          0.4072606355123508,
          -1.1575920614646462,
          -0.6875209381124888,
          0.4372088177480439,
          -0.7884739605123356,
          0.17104483186906042,
          0.3080606159608332,
          0.3482154688687089,
          -0.7415221767490614,
          -2.095017012920495,
          -0.7486099322475,
          0.032827836951530555,
          0.8007350926714922,
          1.05788025088057,
          -0.09377541407925782,
          0.3361908212667744,
          -0.14939059680298464,
          0.12240819354519121,
          0.953094405207546,
          -0.025266379051185756,
          -0.24041826273730132,
          -0.8151450647811614,
          -0.657027127303431,
          -1.112927925779855,
          2.110560127446943,
          0.3405886873137777,
          -0.015063859983813457,
          -1.5410703842549742,
          0.6466429577306728,
          -0.9897954418784926,
          0.690358114107804,
          0.47017122351836915,
          0.6402586680685467,
          -0.04547352026453417,
          0.549558030851289,
          0.7093085998842088,
          -0.5111637750441804,
          -0.24986116328359,
          0.35472850814808143,
          0.8322048584054235,
          0.2455082589772731,
          0.038793079303608695,
          0.9582031623361112,
          -0.06374488982803567,
          0.48384403703897727,
          0.42529055419172,
          1.7340724053093062,
          1.284421793690901,
          -1.2938391748946128,
          -1.0398180577969882,
          -0.40286932694547767,
          -0.49224369719408756,
          -0.9549795633306299,
          -2.4088956812808298,
          -1.4684237125378443,
          -0.47068608650182425,
          0.9088724269419982,
          0.8010599412563421,
          -1.312414088144675,
          0.2808519156391273,
          0.14046850613131742,
          0.5540722895436236,
          0.1951743424818287,
          1.2621675624344817,
          -0.39681498754150984,
          -0.3767583364511968,
          -1.279632828481682,
          -0.028583679864970162,
          0.008028050567350453,
          0.14082951278234349,
          -1.5876892180334907,
          0.5398485768142516,
          0.6465629076478865,
          -0.20120561220988478,
          0.006859411486852795,
          -0.21243144269481581,
          2.1679812463556605,
          1.5781777961561387,
          -0.17205084628979594,
          -1.1647111850873977,
          0.8795410956143017,
          -0.9430774373023331,
          0.5487581111961122,
          0.5075185691763315,
          2.608276870137376,
          0.07144488400482732,
          -0.6022528621477454,
          -0.16025746322350404,
          1.0708339425191562,
          -0.09682144073183938,
          2.0971240109494427,
          0.933522550281925,
          2.2301010375850123,
          0.13217327567743345,
          -0.27876288098136576,
          2.1412340890532677,
          0.12097433387542067,
          -0.05633677487311188,
          2.243192307427613,
          0.39303325279367196,
          -0.6967708728159139,
          -1.1405915312470656,
          1.731876877289144,
          -0.7141645872874062,
          0.9446189208867273,
          0.6663424449997936,
          -0.11397649726101075,
          -0.299890591841999,
          2.8332369364427503,
          -0.728423525076929,
          -0.578097857492259,
          0.4312434773945334,
          0.3646991876816898,
          -0.6999318459338728,
          2.0831151005725266,
          1.2589543565180932,
          -0.5069102807601983,
          -0.1117960270163433,
          0.5870302352855127,
          0.5862103501025918,
          0.6171729825960165,
          -0.8490266730346129,
          0.3908364584521507,
          0.12297688214025426,
          -1.7840473705598805,
          0.09613473420297051,
          -1.2151085102665795,
          0.2613249990892008,
          0.3917133112604233,
          0.1340459314510714,
          0.8451480257091591,
          -0.2491312106736161,
          0.7665501453699273,
          -2.1648748435183136,
          0.9109280591308717,
          0.8574084956974196,
          -1.1850054836631112,
          0.4254918075868025,
          0.15351710597110949,
          1.9822681305183925,
          -0.17301208869608287,
          1.386975041403768,
          -0.5431607536963665,
          -0.0566886664188805,
          -1.242599259114693,
          -1.2056330135335687,
          1.685379482647,
          1.1510025492912637,
          2.357510687989396,
          0.8355145041859923,
          -0.5761932201748282,
          -0.4942520148835336,
          -1.2941581385276935,
          -1.5626031741586377,
          0.0713698004700481,
          -0.028371427697112157,
          1.1877496445268796,
          1.0141786065715797,
          -1.533624597827551,
          0.2507335282026609,
          -1.8524665660139878,
          -0.41009132609829346,
          -0.7676713772943432,
          -0.30171732723218264,
          -1.3336342417369933,
          1.1647553496466876,
          2.13345041069429,
          -0.23239206794729067,
          1.19051644333857,
          -2.6273634817563347,
          0.11722631842458012,
          -0.859528727803681,
          -0.23485946935897983,
          0.4552468214950111,
          2.108867269382422,
          0.5398822192622366,
          -0.1631072020189904,
          -0.24342659452640641,
          0.5435366431699418,
          1.0078438161887981,
          -2.196781999949882,
          -0.42750110582355677,
          -2.0590170487733475,
          0.5206398346281517,
          2.195261541690349,
          -0.7566417386483654,
          -0.34225487344430017,
          0.3901296153966047,
          0.23935805991646333,
          0.22096267404150785,
          -0.3824335007031151,
          -0.6247631405451411,
          0.6363849150909614,
          -1.6786073641877963,
          0.7722498413852127,
          0.5551640364949113,
          -0.5990453030290309,
          -0.842625540321714,
          -0.4011730746030603,
          -1.314475772214459,
          2.299601623552796,
          0.5318470500758163,
          -0.683391249589213,
          0.7998341783435645,
          1.5480980487442497,
          -1.7378059158356984,
          0.7818019577254136,
          -0.2694143124593592,
          -0.7985299278297041,
          -0.02332909951848132,
          0.6736950890238015,
          0.2323455352838524,
          0.22955056819335318,
          0.583037974286543,
          -0.027578736280075653,
          -1.5056334248168588,
          1.5057647261942602,
          0.19544015726596187,
          -0.6306078171213103,
          -1.1554575623923602,
          -1.866438689694975,
          1.8056694959770463,
          1.353472606740964,
          0.3147317029434646,
          -0.2977705132139908,
          -0.4111477855825424,
          -1.3933223332315972,
          -0.47796715191744793,
          0.280041743592277,
          -0.5544386779559887,
          0.0534656348638386,
          -0.09843798664218288,
          1.9634735934088765,
          -1.6905688421562846,
          0.5744076266763838,
          1.2063922576572501,
          -0.4198587192997873,
          0.23518523080766582,
          -0.5961223796252857,
          1.0401412191486838,
          0.22892084064803897,
          1.2669059131246267,
          -1.142261021872691,
          -0.35918230575820503,
          -0.8800405207105608,
          0.30401017169747524,
          -0.6998465141407794,
          -0.6114159296034706,
          -0.13187567681613072,
          -1.886335472556188,
          0.16684893407581283,
          -0.6031624628705917,
          -0.9370108169948407,
          0.2432984468806058,
          -1.2342409865515835,
          -0.8735760793398782,
          1.3936591004086394,
          0.2832085501318837,
          -0.45131666652431446,
          -1.7436580749063395,
          1.4448860448566907,
          2.0039235415680485,
          -0.5018640317370757,
          -1.9755988870516061,
          -0.10087964826198474,
          1.3266712305300354,
          -0.7718857203778198,
          -2.3908278772680207,
          -0.07844332372144383,
          0.32069332621444835,
          -0.4358940074131709,
          0.7043580460929173,
          -0.7900754558783222,
          -2.10643990530462,
          -1.9908600237682315,
          0.19230992793626128,
          -0.7844977639750453,
          0.011778015352657399,
          0.3631683225860756,
          -1.158784441979609,
          1.1100776998333783,
          1.2435611096343335,
          -0.12266543580808777,
          0.5526983002308674,
          -0.7214208540850656,
          -1.6667138178252818,
          -0.3311221381736893,
          -0.4192674658688768,
          1.0313525580332896,
          0.5623045549415204,
          0.4738006636868103,
          1.035645605427171,
          1.455499495952899,
          -1.1373619044913408,
          1.7722425842178808,
          -1.6546388781450299,
          0.28756952007084724,
          0.7257219223433127,
          -0.802811515651045,
          0.30569091410725613,
          -0.8441306544111443,
          -0.8156926955519278,
          -0.3403391488828762,
          -0.46209919789229775,
          -0.2517662188299,
          -0.38047410803215737,
          0.353916523490445,
          -0.1867296085231889,
          -0.8696650040703445,
          -0.16065153151507208,
          -0.6540019321351879,
          0.714081710702046,
          0.10278172643196895,
          0.8428961960603526,
          0.10720415439785408,
          -0.9396074339927224,
          0.3375957438016125,
          -1.1871770258310146,
          -1.272969018700718,
          -1.0521916841302903,
          -0.40570675065209216,
          0.3252771535915009,
          0.09473649506289399,
          -1.3364636395811993,
          -0.6435416576078661,
          0.5714599706490484,
          1.0254347864707818,
          1.0208787494022393,
          0.8252310300115013,
          -1.4745884938551637,
          -1.4539937337330107,
          1.0459755716601615,
          0.11941146246459523,
          0.29072381111680695,
          -0.9217758608899711,
          1.7858654391449782,
          -1.048566170298058,
          1.4475976233684673,
          1.4160568558849722,
          -0.7430798764481976,
          1.3436802131574148,
          -1.4845472127273136,
          1.8512046477595308,
          -0.6440339078577014,
          1.5210592443561204,
          -0.054896803818157355,
          0.9163294556875299,
          0.6877231022768332,
          0.8791267366980764,
          0.17101269949099654,
          1.4222265796463018,
          0.1625923830514093,
          -0.19636379635063933,
          -0.09190473212184011,
          0.49591992177837335,
          -2.341392808148818,
          2.5413543738670734,
          0.05027071281970602,
          1.156783496174255,
          -0.24913531623237417,
          0.3569116347926788,
          -0.538010906507468,
          0.09818349912077434,
          -0.38312612010278074,
          1.307093720923112,
          -0.19379477532659098,
          1.636488509755138,
          0.03992473428460492,
          0.9493842698955413,
          -1.801703009541594,
          -0.6997173613785361,
          1.6007006330523612,
          -0.4414272926580313,
          -1.5656502295658576,
          0.13713818554894278,
          -0.13163102028980253,
          0.1442543174575286,
          -1.8253717500206557,
          0.6059141342439474,
          -0.46946525058201566,
          -0.3665200279367319,
          1.2427843879179918,
          -2.0245372926489282,
          -2.0504757522423405,
          0.7927262135157261,
          0.37017524882822617,
          0.990624399193544,
          -0.20562159169519167,
          0.6294840889775876,
          0.9607028750713509,
          -1.5883185793882748,
          0.9232641433160323,
          0.8751160602150743,
          0.7657702155261292,
          -0.09849209852691211,
          -0.41054687355528663,
          -0.4815570373757001,
          -1.9825602718899613,
          0.5503599508327761,
          -0.3811276871963754,
          0.047931300910945364,
          -0.14605393133783834,
          -0.8213983786241998,
          0.8304073422103417,
          0.5752133925098152,
          0.00153617605537147,
          -0.09630883566024598,
          -1.7730873775347504,
          1.4136643041228802,
          0.5475505802012143,
          -1.204788708717815,
          -0.7072941929476676,
          1.6021578145305593,
          -5.579511202511599e-06,
          0.7610069698714285,
          -0.14027199935296042,
          1.824831585851487,
          -1.2587716146773322,
          -0.8503607764635075,
          3.0570921101123303,
          0.588544917962304,
          1.2473329494152121,
          -0.40928106558728744,
          0.46400027278128114,
          0.1048484254580791,
          -1.6192930729903048,
          -1.234812070287014,
          0.2604708497780573,
          0.005817170716988387,
          1.4126839780913372,
          0.8402975908861362,
          -1.8397577489969943,
          1.3075427636711783,
          -1.0064436737380762,
          -1.2281949500426605,
          0.9134391814666072,
          1.1975091802700644,
          0.23397890375152608,
          0.44914168238417823,
          -0.4313459008015403,
          0.30733611400030914,
          0.0835614711807169,
          2.0140719798846427,
          -0.4671792344511679,
          -0.456869602554341,
          0.7162406190703516,
          0.5350107403640745,
          1.3234197099847709,
          0.2325567966679178,
          0.3793261478053902,
          -0.8203902955939099,
          -0.5914027605996688,
          0.3718698021487487,
          0.03733957146407731,
          0.6431274887215589,
          1.7812328903647716,
          -0.7179428646435752,
          0.39399144115089807,
          -0.7916730072071346,
          -0.3255838107778837,
          -1.9264737962277232,
          0.2740823083280172,
          -0.16025560222646618,
          1.8405822011247375,
          1.4801227287693774,
          1.0492277488318271,
          0.6690387986779491,
          1.6737751174183857,
          -1.8358257164791376,
          -1.1578381794026782,
          -1.656768770758164,
          -1.3922823951794414,
          1.865341864732956,
          -0.9691835850036736,
          1.1962667231600437,
          0.8968120330395564,
          -0.31548130285188963,
          1.2235733661549013,
          0.2063326052545958,
          0.00656002495526554,
          0.5992513027256468,
          -0.9265497103980175,
          -0.2897870105637903,
          1.1950897804938103,
          -0.673512734905742,
          -0.5648511396146557,
          -1.6166491024455325,
          0.7458118744891664,
          -0.06427502462938188,
          -0.13421154405875002,
          0.39595397202349913,
          -1.857942044004946,
          0.6940214426518502,
          0.29488380190983393,
          -2.623579257796062,
          -0.06465073600462583,
          -0.13395505188111126,
          0.9263600585425039,
          -1.2135826321548473,
          -0.10959161067659116,
          -0.5413070456002077,
          -0.962589000782982,
          -2.103250515012246,
          -0.014141070641661846,
          0.7245277593466146,
          -0.9282584882490109,
          0.7748250711871941,
          1.6105317236118935,
          2.502704458491481,
          -0.0528676542846476,
          1.3246621444953104,
          -1.7280228845220802,
          0.7060566487187683,
          -0.6670962470258324,
          0.7746222967894387,
          0.9930680165753505,
          0.1904597624174096,
          -0.8348298236696061,
          -0.5965087976205536,
          1.4789459646449723,
          0.6397343015747025,
          0.040760989344784275,
          0.4438748580374994,
          0.8693035577641515,
          0.5950026358170425,
          -0.047212955310426796,
          -0.3807501381388765,
          1.5596564057883278,
          1.949683414098706,
          0.10522741627337406,
          -0.469371084910487,
          0.013871975490577927,
          -3.166331995753341,
          0.9983004701884834,
          1.964426273047587,
          -1.3841052564890681,
          0.6473245177252978,
          0.2321766750277704,
          0.46390179030018935,
          -0.3813149348953103,
          1.1599694983740143,
          0.5119706570733145,
          0.8355370356095244,
          -1.799744398818019,
          -0.7602796139431623,
          -0.7212742229763602,
          1.6140308153654765,
          0.36070589677563164,
          -1.0486992660618986,
          0.9836887559420059,
          -0.09075112598077703,
          -0.4623215192956811,
          -0.3557019193698097,
          0.4625636717822336,
          -0.3569435172103973,
          -2.160936027725935,
          -1.3111459838800077,
          0.40856760678853876,
          -1.826224900077778,
          0.9350793915027094,
          -0.07882378599358623,
          1.943375651086299,
          0.15273125782697392,
          0.2279962201426337,
          -0.2771866182609222,
          -0.788407394210459,
          1.9325544765141174,
          0.3132977615585777,
          -0.26969983156204824,
          -0.0032433306908185053,
          1.391416209599937,
          -0.8351838025355917,
          2.3612313809146626,
          1.8314273005983757,
          0.6902790498811683,
          -1.4558552278331867,
          0.14387424716753963,
          1.4026557729633529,
          -0.009794891829332908,
          -2.0356993588176753,
          -2.991008545537987,
          1.0274573148450337,
          -1.5099828599092393,
          0.1332187332852605,
          0.4357686242043305,
          -1.2472641533589846,
          0.1892268779735384,
          -0.05884605817581805,
          1.4872847796851174,
          0.2544341672272626,
          0.4574595144929178,
          0.5988086760359689,
          -0.5220940095422906,
          -0.544647606072358,
          2.850364686416001,
          0.7543957315815859,
          -2.033384312589785,
          0.6484617706246713,
          -0.9990976201242222,
          0.19120027263485867,
          0.6831664583526056,
          -1.2848058483886264,
          -0.41044620504940815,
          1.5727105599415654,
          -0.5391376618223015,
          -0.2306232528844037,
          1.7821831139403337,
          -0.8272415913779915,
          1.1999631019844985,
          -0.13187873239934125,
          -0.36111595870425445,
          -0.5099073682826001,
          -0.33412323045092945,
          -1.380756664041274,
          0.6839648594089927,
          -0.15747526490006336,
          0.0931584376499049,
          -1.5045594922136731,
          0.11457901083835659,
          -0.008038419511603393,
          1.0885850915448523,
          -1.2578820701458673,
          0.2066486384001494,
          0.8359157702043518,
          0.44746783492066755,
          -0.16843047689250926,
          -1.8094408867296892,
          2.7655536952464064,
          0.4459271999200616,
          -1.1522015064085542,
          0.45328270774475204,
          -0.4388627668550488,
          -0.21024800697102336,
          -0.600253196136185,
          0.151911234558798,
          -0.6204490302348894,
          -0.3251943972277467,
          1.0134810499587705,
          1.478326523799757,
          0.011680856172416001,
          0.1622775998639722,
          -0.18048861168359645,
          -0.3180420717756567,
          -0.6306667283482741,
          -0.9984553858768156,
          -0.22353098761987628,
          -0.7616171500661709,
          1.2315219661370844,
          -0.7785239850569988,
          0.6872078305462204,
          -0.01971170124966158,
          0.9864876920915405,
          0.40984282175199144,
          -0.08003092743957341,
          -0.10333855099752118,
          0.6414887752020159,
          -0.014946406297380515,
          -0.02667078630712676,
          -0.9788889567899279,
          -1.1683990066269607,
          -1.3620200203153714,
          -0.7598089145764272,
          -0.039927461536188154,
          0.6531219165962745,
          -1.0050035108940512,
          0.08877928424732492,
          0.18162156478161218,
          -1.614785604874144,
          0.7178365702901056,
          -0.16294578961321027,
          1.347270606410923,
          -1.6236249630345443,
          -0.7124621201227285,
          1.4892837215638566,
          -0.22410947270770606,
          0.42526180273096065,
          -0.19547965208935672,
          -0.9464970387402277,
          1.5248142852943412,
          1.1832728938342796,
          0.022301878966018433,
          0.6382220071739964,
          0.42553125699273253,
          -0.9433908784454716,
          -0.9917249319622644,
          -0.6400698202768893,
          0.003897238980645859,
          -1.371896271231593,
          -0.514003218991007,
          -1.3469917268298945,
          2.1894287767744305,
          -0.570487851059021,
          -0.28390595072541974,
          -1.7152637836667735,
          -0.7157392469896323,
          1.3315028832653582,
          -0.2839599503636074,
          0.6059569432919008,
          -1.9669891206670143,
          -0.9185396218860904,
          -0.4228268967338386,
          0.1862410052397992,
          0.6469079096695551,
          1.1271579047246745,
          -0.8242841861571851,
          0.20719788966675773,
          -0.8088354707157727,
          -0.2607665951624569,
          -0.7996797312622138,
          -0.564802910648721,
          -0.17310553379898935,
          -1.4452223662493826,
          -0.47788358270764314,
          -0.019931671847240703,
          -0.36278741195821507,
          -0.030350331060791873,
          -1.1231778766438405,
          1.5081296591212248,
          0.580713308971926,
          -0.10526099604514227,
          -1.3271848462401086,
          -2.0152885723792924,
          -0.398757171703036,
          0.272756600065593,
          -0.1161102485195099,
          1.071586996097545,
          -1.8301630714843582,
          0.45677886516782956,
          1.3820663151778176,
          -1.3742514152361067,
          0.5994345128021141,
          -0.22154225062512312,
          -0.44779246162002284,
          1.0291702404416339,
          1.4347349237507252,
          -1.2192995577477475,
          -1.2648623403574841,
          0.43560007628397185,
          -0.1696429994176648,
          0.5671164939857829,
          -2.205548453402961,
          -0.4595029831858837,
          -0.6939344535348159,
          -1.8411769425399067,
          -0.5730150162575964,
          -0.06570830576964816,
          0.9645172709982012,
          0.3047461844047345,
          -0.8153890931574738,
          0.09412619358198712,
          -0.0727440910225704,
          -0.357657546005404,
          0.8645359877681539,
          0.39661198509678525,
          -0.10274407891528001,
          0.3457815517555768,
          -0.16271453211592204,
          -0.5548658029989898,
          1.5180000005122238,
          -0.3341121297351151,
          -0.25154651334681627,
          0.8354648956018735,
          -0.28149991785410317,
          1.2028584171943193,
          0.23913292796459645,
          -0.6424702077179226,
          -2.1788777065432163,
          -0.0031188568838696343,
          -0.5029837099415365,
          -0.1432447489071826,
          -1.7391733691395848,
          -0.12356500321542702,
          1.2278259832651406,
          0.436444865242317,
          0.15966015033251071,
          -0.24750211154190585,
          0.5605074909724705,
          1.7012388960607971,
          -0.4592698307324492,
          -2.245575841400929,
          -0.48548459893287293,
          0.6567074577661618,
          -0.3930553262545764,
          -0.11336859619932695,
          -0.9891213826987255,
          0.9770735448387805,
          0.5105975068543128,
          1.0947717993580615,
          -0.08409107526987965,
          0.18059834520160142,
          -0.8226432053489018,
          -0.5047408909649866,
          -1.2888156615816329,
          0.6502555450678146,
          -0.9346844251580985,
          -1.2393414148464037,
          0.12377495255110486,
          1.8240976768726325,
          0.6704243805124833,
          -0.7019406671204592,
          -0.08451890353690432,
          1.4497719966139835,
          -1.3183460472663937,
          -0.7893618898626718,
          -0.566655044344879,
          0.951024675102823,
          -0.3147640494502886,
          0.3452149800899153,
          0.4603203287526379,
          0.31133958932993594,
          0.8590226804554754,
          2.1822502499647705,
          2.093958770153132,
          0.09149737566783245,
          -1.1216524966263843,
          -0.9435583187133476,
          0.28938150943647073,
          -2.036096306795085,
          0.08905701958996358,
          0.5192826624007206,
          -2.0499248325860076,
          0.22617877556043117,
          1.2864387899938439,
          2.4611026449175046,
          1.7675974557336065,
          -0.156832307185492,
          0.43246324117652296,
          -1.5589012137396074,
          1.4817633088578663,
          -2.941922209840373,
          0.6410170360772073,
          0.239315271565656,
          -0.04479597944109596,
          1.0360950880857511,
          0.5795392647357844,
          0.285050298578902,
          -0.8397944215947413,
          0.8995800131653657,
          1.7164238144042638,
          0.9524210388580215,
          1.2853200575960526,
          1.07405439209206,
          1.2481038268838538,
          -1.181564835606925,
          -0.7092858894119876,
          -0.6053039080967504,
          1.310280554230839,
          -0.9543416791128592,
          0.3835051929684184,
          -1.5680356267325497,
          -0.046279961874514906,
          -0.07080712745262363,
          0.01707754344554796,
          0.514192311617676,
          -0.45772670751754513,
          -0.9428904526621061,
          -0.6991741266310124,
          -0.26663293590474574,
          0.41739788419958374,
          -1.2842738749990008,
          -1.3828323358801977,
          0.5657752387928753,
          0.5692064610817907,
          0.7749051006242093,
          -0.7923019292508918,
          0.3690601704288909,
          0.7903295687623848,
          1.0268481072162716,
          0.5311379788090275,
          -1.4866776122220704,
          0.9302074018835979,
          2.1533646576339,
          -0.0026020821340250744,
          0.5522259866368145,
          0.1654601409580799,
          -0.40769298749338095,
          1.4719451455932697,
          0.3127180811553209,
          -0.09626026109474636,
          -1.4933253934986654,
          0.40781114723987444,
          0.08759511310408008,
          0.4047948731817973,
          -0.5764929756536156,
          1.3281210893622346,
          -2.3536379818732587,
          -1.8338523690293531,
          -0.08060546037625925,
          -0.05676008555505025,
          0.008891284320598351,
          1.1393487356981993,
          0.9824513998529727,
          0.02951626480360196,
          1.2018805771083805,
          0.8767736737366683,
          0.856391641758432,
          -0.4545113918771347,
          -0.7059360563456837,
          0.12381837316800418,
          0.8445042734616808,
          0.28011120973648335
         ],
         "y": [
          0.25050609476009283,
          0.0030004651090658526,
          0.5524223136429547,
          -0.6488226077083485,
          1.2479256640927272,
          -0.5308153541094189,
          1.3127910679260282,
          0.20815765004404002,
          -1.7846853774338034,
          -1.5153810993298331,
          -0.7190671154523401,
          -1.7973128280099047,
          -0.06974048358419303,
          -1.2051736292919975,
          -0.08481540402581782,
          -0.747402686407019,
          0.3655581185664324,
          -0.3819117538427739,
          -0.09002410850101102,
          0.7458214724734473,
          0.5657700005654962,
          -2.175652159098188,
          0.8218414771703706,
          0.5850746984438395,
          2.4133844708123235,
          0.10210801850625217,
          -0.7911849364539602,
          0.48370850071065913,
          0.7087825853878656,
          -0.9763061224871087,
          -1.6362116343699058,
          -1.194075933630571,
          -1.6547916940724456,
          1.68545105411234,
          1.0339064851708382,
          1.4768519223601213,
          -0.30071123834539754,
          -0.6076220935628984,
          1.0844863157717135,
          0.4497865453836335,
          0.6388739036871578,
          2.0942043951601508,
          -1.0478555254651905,
          0.8429429445253769,
          0.03151718340690123,
          1.3035433469551228,
          -0.9756625354441509,
          1.4402221023212143,
          -0.7855795477691117,
          0.009142405713819916,
          0.6835463803953887,
          0.8164579972181917,
          0.02550326272725123,
          0.5174960269262113,
          2.5321642162352758,
          -0.3241456603279669,
          0.10705913228799893,
          -0.5502015937927408,
          1.0098084772295641,
          0.7848311502410641,
          0.37358348354400733,
          0.17021998371161812,
          -1.889607303010635,
          0.4527761507556027,
          0.5592470242016772,
          -0.2638638728356517,
          0.9391530774125032,
          1.7543845033316343,
          1.392075957644774,
          1.412808218865146,
          0.6432418172315634,
          1.7820328999719086,
          -0.005708083088053558,
          0.3094855846012524,
          -0.14281738581932568,
          1.1708148011172963,
          1.5718727237546644,
          1.6014536911703143,
          -1.1526391592211633,
          -0.9790339360435333,
          -0.10305032210497973,
          -0.08982088196861504,
          1.008928656607252,
          -1.4886058939328828,
          -1.6694275966018413,
          -0.13528592268435116,
          -0.5288761826804271,
          0.258752436686005,
          0.4183888795065857,
          1.2813542572613499,
          -0.15609759576904034,
          0.9031784369060536,
          -0.2568828783103753,
          -1.0619796336658305,
          -2.268663823671183,
          0.1313695046597388,
          -0.8279654382829856,
          0.6956399481156238,
          0.06619508206508863,
          -0.21015725754332168,
          0.8694663740622965,
          0.384880821863838,
          -0.41336270084838195,
          0.4466524304973291,
          0.309615048554639,
          -0.8453791534628302,
          0.553689625021151,
          -0.5484061132309216,
          -1.9235668119210863,
          1.212825434224671,
          -1.3263454759346747,
          -2.554497136698884,
          -2.415449069649477,
          1.2987337354076267,
          1.1767027187296535,
          0.43291172823666346,
          0.7595798838346278,
          -0.5509918935803204,
          1.2253068209696876,
          0.9004049652040135,
          -0.7916853074041149,
          1.0717954344179381,
          -0.23911996272748173,
          -0.6201637930627024,
          0.55374551430722,
          -1.0880456928095108,
          -0.8737296600891892,
          1.3242829931913915,
          0.3668958074367885,
          0.26105845024133056,
          -0.7264922840841075,
          -0.08252218479309162,
          0.21287085036448083,
          0.02798604495094648,
          -0.5646739831057761,
          -0.5117077014731328,
          -0.7358074052894166,
          1.2834012149550995,
          -1.340044191510235,
          0.007219686086603071,
          1.4972614073093489,
          -0.04609665935234763,
          0.5832496922048391,
          -1.160912284573802,
          -0.8877020344794185,
          -2.186678021404555,
          1.7487283717368767,
          -0.8719783272724331,
          1.4493763554675398,
          0.11561214078396854,
          -0.8972141854272594,
          -0.29355953166479615,
          -1.1682435059504628,
          1.3786205320999103,
          0.7029306137055299,
          -0.38007980865336044,
          1.0032308211482863,
          -0.5685765137851263,
          0.8713943460995273,
          0.1927885796500527,
          -0.2751621456168191,
          0.22684271539656603,
          -1.837909029969711,
          0.5014835575497858,
          -0.3546939089017811,
          -0.4696171175794592,
          -0.4345301163163577,
          -1.4616570556248334,
          0.38909851914139076,
          -1.5400906186922956,
          -0.6872201259078786,
          0.7482639365509252,
          -1.7892755878261868,
          0.8400639168089808,
          0.09819463519562766,
          -0.2615110732860843,
          3.1793374019239726,
          -0.08670782047291116,
          -2.1300441913924453,
          -0.4554377001417159,
          -0.6377633484496905,
          0.733157439935938,
          0.28870473359009824,
          -0.9193502098873848,
          0.48687161988351946,
          1.6424137888751968,
          1.015535311115342,
          0.9138342808974499,
          -1.6218024187224305,
          -2.392459364977683,
          -0.1420622592139242,
          1.0582889215079105,
          -1.2950118177782814,
          -0.5360598451217263,
          0.0731377606026403,
          1.1234249878168598,
          -1.5759070702215632,
          0.11304870309755373,
          0.4422367727290712,
          -0.6032620828052875,
          1.8626049979893835,
          1.0401778661341772,
          0.01669400356380883,
          -0.09203427486901614,
          -0.3637457690533202,
          0.22495212968339492,
          1.1616132507353933,
          0.04095237700946709,
          -0.6766285558027316,
          -0.11833905998707339,
          0.7281348538685237,
          -1.0173261169720615,
          0.4988816656128602,
          0.08121816158344466,
          1.4465190343394592,
          -1.1028652379852462,
          -0.42244143294951275,
          -1.2752585402757737,
          -0.6097536444022841,
          0.6410262067138363,
          0.8444186389101047,
          -0.5909109487788097,
          0.32074330184721456,
          -0.3421928846739918,
          0.25911507025855096,
          -1.0724326475644987,
          0.815436250153532,
          0.45743279240665713,
          0.02120133953180642,
          1.1981606450102738,
          1.2376959462224455,
          -0.5611798761045033,
          1.0233464376540242,
          0.2214098729640432,
          0.6848854352022663,
          0.8499813647671488,
          0.3031451674980366,
          0.8252626927211091,
          1.7716091587496114,
          0.0357398071154578,
          0.2847729496048749,
          1.096715308379943,
          0.35404747521392504,
          1.0986586959617928,
          1.0751734643453659,
          -0.727139026004347,
          -0.5042717665465527,
          0.46277277275164597,
          -0.5162293422079407,
          0.4373821879601408,
          -1.9320525486069755,
          0.7076964850107175,
          -1.0665220380197293,
          -0.8000173429710902,
          0.46005002101947756,
          -1.1352061399555284,
          -1.4581519948413122,
          -0.15657589287547624,
          0.37886602695868615,
          -0.5647192114539014,
          -1.0405458576132194,
          -0.12480252529942139,
          -1.4958364429239837,
          -0.9790399452620899,
          -0.4847165649552854,
          0.24095656593259798,
          -0.4641789356080759,
          -2.032343779870609,
          1.2079144628375893,
          -0.7173108950091918,
          -1.5857396763833582,
          -1.4728592736827695,
          0.951295293115328,
          0.542659136881205,
          -0.40750184014503016,
          0.5241485171204354,
          1.1532756770518728,
          -1.1488705986557868,
          0.3210296367733202,
          -2.3162181448062316,
          -0.7863614176996532,
          -0.8675095630817283,
          -0.20779277685812964,
          1.022923261773937,
          -0.16264982475502576,
          -0.6378977980139955,
          -2.109040643078583,
          0.15285280300673657,
          0.10033428746595642,
          0.7985329015642794,
          0.18719475804312377,
          -0.2442259987822182,
          0.12967305916573815,
          -0.29616787535252215,
          -0.5644133631791696,
          -0.4789731663069605,
          2.5785588664235832,
          0.5610897927318939,
          -1.662086910629218,
          -0.6667074634131411,
          1.8559436566359517,
          -0.19365809406941295,
          -0.2899468119778489,
          0.08239792926657928,
          0.1620798023308258,
          -1.1789280029928473,
          0.30861494091827657,
          2.080948191438688,
          0.17395805813645698,
          -0.049368907625992935,
          -0.18639712772658892,
          0.856392096089919,
          -1.1465066570547116,
          -0.609085160191032,
          -1.8616163507385233,
          -1.275677414663254,
          1.1678548286269912,
          0.6743054926560207,
          0.12715178654877785,
          -0.6859139931657987,
          -0.703424625908697,
          -1.0666022612418777,
          0.8910920193100705,
          -1.393104074633198,
          1.0922052820949593,
          -1.6581721545990171,
          0.09785634393280203,
          1.3128957271937751,
          -0.8078793398679767,
          0.8576282354169649,
          -1.9303162965493132,
          0.03405062439287506,
          -0.022452808575351445,
          1.2384433462801023,
          -1.7519410808804596,
          0.8047770172752632,
          1.7917319529262852,
          -1.273442937003866,
          0.18279819593861196,
          1.7275355883514527,
          0.4082866048261445,
          -0.04779002293358511,
          0.055053551824683564,
          0.6983706303404468,
          1.0412711195895148,
          -1.490834481890102,
          0.12513620982995424,
          -1.463287325630996,
          0.31722407424828086,
          0.2315586506830054,
          -0.918542981795037,
          -0.20213956500656524,
          -0.18911032894151397,
          -0.31026307650620544,
          -0.21954316972091045,
          -0.46633194179246085,
          -1.0070272736801584,
          -1.106999892698809,
          0.9975969403818966,
          -0.0403327133448877,
          0.14114251032226,
          0.9866459925457108,
          -0.4112685702018566,
          0.022918903280537813,
          -0.6114754043789101,
          1.3033040785159227,
          0.4725091010047569,
          1.3927379926097332,
          1.4841271017427962,
          0.27743856289409,
          -0.17512957720833222,
          0.9145366470009568,
          -0.02011024986683093,
          1.096462615940105,
          -0.20488943258664533,
          1.6875491783789842,
          -1.2822952337752693,
          -0.8431271451217714,
          -0.06850429106927008,
          -0.9811055142203493,
          0.5574706646276707,
          -0.10703333028740676,
          0.6812809105640354,
          0.024105084945749155,
          1.3144984991023763,
          0.40138141673857236,
          0.6545914778959717,
          1.4511387539229468,
          0.5225127515058949,
          0.8434900472579351,
          -0.764767835556175,
          0.6720991904980775,
          0.7808434241247554,
          -1.7021104294486928,
          0.6154524693192829,
          -0.4186425327804643,
          1.724310350063445,
          -1.2042415478696833,
          0.3130722263520311,
          -0.19143721376851275,
          -0.7563545328127226,
          0.6230042981527254,
          0.1466422228907432,
          -1.2818249000800495,
          -1.477921947510572,
          -0.45479020947916754,
          0.20671265976448838,
          -1.443480679875236,
          -0.5727668677446112,
          -0.4120477996885198,
          0.16042585586946514,
          -0.46636472602665396,
          -1.081515927147076,
          -0.6290954893141838,
          1.1812637237682597,
          0.536735425262891,
          -0.4738373497594471,
          1.3291001500612314,
          -0.14082481002481806,
          -0.40590448545786234,
          0.4890014387213559,
          -0.015969494697304094,
          0.4269671007838707,
          -0.6472150561298006,
          0.23608261691043664,
          0.8011830973898876,
          0.06100527450082239,
          0.1784080935061504,
          -0.2387284120438354,
          -0.272504790070189,
          1.4148371410771734,
          0.39936311100720595,
          -0.26492136459762705,
          -0.37960036833346916,
          0.41185081257202855,
          -0.05165321467085935,
          -1.7211904623485157,
          1.0329910499695492,
          0.28905165688076495,
          1.195186913208505,
          -0.3976977026288993,
          0.2182898395484769,
          1.1173460451077937,
          -0.4002789343117277,
          0.9085249779828987,
          -0.5970291238188219,
          -0.03679337324159869,
          -0.6616190621186151,
          -2.329010471080156,
          -0.8824066869996116,
          2.1735379045701455,
          -0.3713179149423788,
          -0.30388645050264707,
          0.28980000847011456,
          0.8047813952962729,
          0.4054878524902272,
          -0.43432898989700375,
          1.6794196622350597,
          -1.5099310197778761,
          0.6722702909769224,
          -0.7030685238960269,
          0.48743997424359814,
          -0.676054159271135,
          0.8458724706974876,
          0.27937116502135667,
          0.9687589437597646,
          -0.19046412853822242,
          -1.7619256357212272,
          -1.3137689294913235,
          -0.4723713201555558,
          -0.3509046472725066,
          -0.7986989962877084,
          -0.9821301328056349,
          -1.8513039046049427,
          0.4504670298067862,
          -0.47017358307538704,
          1.6508780655401065,
          0.22627361172086305,
          0.5424414224425861,
          -0.2627647029438465,
          -0.21965723687142277,
          -0.7742921182904545,
          -0.33519096612164206,
          -0.26758387880143775,
          -0.9179636909277077,
          -1.7630499771180987,
          -0.5227071565948039,
          -2.7010382603007805,
          1.1176150989510514,
          -1.1174553839770687,
          0.25657369192585483,
          -0.7589479452052714,
          1.829918121341258,
          -0.09272396138146054,
          -0.4443403691433471,
          0.022162194249646883,
          1.9681125057971076,
          0.1929597507744939,
          0.46048014216037636,
          -1.3809263873553048,
          -1.3345517050958047,
          2.0116769871134115,
          -0.2869463699794904,
          -0.3935926777786429,
          0.42033110935412166,
          1.454543959180279,
          0.05113020767690329,
          -0.23594403211657983,
          0.39482715915892935,
          -0.6797278435904334,
          -1.7053323686500141,
          -0.5283106500500504,
          -0.41046052994261945,
          -0.047730496565854395,
          1.9517451495323719,
          -0.06777169696774545,
          0.26205546575584204,
          0.09668304928985652,
          -1.03682712286367,
          2.1516959449541093,
          -0.1515770620952362,
          0.38529949925785534,
          0.31975149249312323,
          0.9444415091915828,
          0.02919266889352085,
          -0.3655670617980617,
          0.031087194615799358,
          0.2512029125698339,
          -0.19843639549340014,
          0.44347065632150134,
          -0.23323486623073386,
          0.5621075282293665,
          -1.0967903816655231,
          -0.16063168145345103,
          -2.507098577056796,
          0.153462143737839,
          -2.3257925718676993,
          0.1647574813592169,
          -0.3387797523427237,
          1.2497059249930889,
          -0.4002765948889909,
          -1.0848543872338712,
          -0.08967858974718924,
          -0.804552946890749,
          -1.3652796708415504,
          -1.4980511547499502,
          -0.1027572069195776,
          -0.8953652402107993,
          1.336461240083169,
          -0.3655597178661835,
          1.6537783199134204,
          1.39266912420587,
          -0.7600077971018069,
          0.002232809675425009,
          0.4625208573368677,
          1.5565628408302157,
          0.5230870605751267,
          -0.04908475448464546,
          0.46770382598148214,
          -0.7015828111339222,
          -1.7098671744929006,
          0.0646039508480374,
          0.26301209378236,
          -0.620918165452059,
          -0.5324905226837388,
          -0.007349620065699979,
          1.485010726892002,
          0.8060838979198542,
          -1.5054649843424448,
          -0.5991011916563479,
          0.48839695650482007,
          1.034510284209622,
          2.254890628896241,
          -1.823508415040192,
          0.48382625294599924,
          -0.1492999210054008,
          -0.5307593644396803,
          -0.4498756014766365,
          -0.18330126022835547,
          -0.3635701958943089,
          -0.8213059681968096,
          1.0030463760096302,
          -2.205206266278945,
          1.696172553635219,
          0.6340174879852681,
          -0.43264922637568876,
          -0.19182262659257351,
          -1.3102366268324908,
          0.4780931209094271,
          0.8990952364585522,
          0.7571809462299433,
          -0.9168157635919065,
          0.7734822445046023,
          1.439242564657576,
          0.5137404916018314,
          -0.48759662158885103,
          -0.29411093346219086,
          1.4734208466505705,
          -0.17277335890125042,
          -1.2165668322055903,
          2.1150387437715015,
          -0.10994328653962673,
          1.5433152169310542,
          0.492916489047503,
          1.099056830691693,
          -0.17799170078913143,
          -0.4849116575042685,
          1.1446086829818385,
          0.9457247196028276,
          0.6975037829007673,
          0.3616766509281956,
          2.4640777211326284,
          -0.11565974687020678,
          -0.9545232413863574,
          0.2641893212364025,
          -1.4361805794687499,
          0.10915387222917418,
          -0.599691466111542,
          1.0931243697704092,
          0.4166875197687251,
          -0.2836766054159715,
          0.47397282574850225,
          1.8171374302017147,
          -1.3070554862472132,
          1.212960787400571,
          -1.3367330662566916,
          -0.4363430703385006,
          -1.9141725613010925,
          -0.6591022294496356,
          -1.1881174553645841,
          -0.4855799616854638,
          -0.85163748003156,
          0.153489822928468,
          -0.46339667960644054,
          0.7209995112159343,
          -0.049848757636975195,
          -0.9988854597963508,
          0.8379409265665734,
          0.3803623416629129,
          -0.07977038544350645,
          0.2195794685739533,
          -0.2757007594509705,
          0.3623407798403987,
          0.27237298055139886,
          -0.23845875000586012,
          -0.6026279956857726,
          -0.21411075350367217,
          2.195588142180795,
          -1.0366613674712495,
          0.17277009941572805,
          1.5510039989530868,
          1.3393292194906221,
          -1.5575120430673195,
          -0.6511784447603747,
          -1.2022748288123453,
          2.1791672613297286,
          0.3688132960948365,
          -0.29857087529647663,
          0.16200018198522984,
          2.4169645775672888,
          0.26607110005439677,
          -0.9923094067762411,
          -0.7304127491766216,
          -1.5085104934939473,
          -1.1953176078560868,
          0.008830869092020327,
          0.8591085411483121,
          -0.022266419812790598,
          -0.058773966549547564,
          -1.4637638908077928,
          -0.33628055069156554,
          -0.8194524077843893,
          -1.303158528508218,
          0.7710162560952357,
          -1.2445585997948996,
          1.369323578737425,
          -0.7751542093496668,
          -0.43846330205859724,
          -0.4747484564496387,
          -0.6054784605477409,
          -0.5828068899931947,
          1.4064941815541336,
          -0.07045070766597392,
          -0.07931642362689069,
          -0.6002009819739493,
          0.06498385869025135,
          1.3472196752116177,
          -0.6300333884141537,
          1.4984396490498286,
          0.19343276409770238,
          0.5399003572422248,
          -0.8336907286159306,
          0.4303110157274294,
          0.08954330784775284,
          0.8987116275534227,
          2.43893339481085,
          0.5949796489392564,
          -0.7903320833341627,
          -2.71546599049831,
          -0.45688789449547956,
          1.3868825667535374,
          0.3635342776312941,
          0.6388313296519463,
          1.195453554250292,
          -0.2821187718845466,
          0.16595528458246597,
          0.10177949625603559,
          0.27376281149219345,
          -0.3871860807447361,
          -0.38488636559316336,
          1.786422136592792,
          -1.492212949442347,
          -0.4009444308045116,
          1.0669078752347754,
          -0.14021603902820154,
          0.863162650015835,
          -0.10050304364175303,
          -0.6438816053107178,
          2.010190337968157,
          -0.4878066418556827,
          -1.4057701557399116,
          -1.4299810484975395,
          1.0931352798374785,
          1.2730222752908975,
          0.037792243415456846,
          -1.6465707840187902,
          1.696746513062621,
          -0.353021057918157,
          -2.102812714839042,
          -0.6656460678592472,
          -0.7895141208378081,
          -1.3951566370156985,
          -0.4701176949487766,
          1.9366786054779597,
          -0.2780374860445139,
          1.2947265172720526,
          1.3571021530922518,
          1.0195108483148012,
          0.0626963994082289,
          -0.7722998020656351,
          -1.353209182537532,
          1.0643149268603325,
          -2.640287903169448,
          0.07029310524184747,
          -0.5288450188880869,
          0.3638227250102882,
          0.2465970109468828,
          -0.11052559918009715,
          -0.23743676425814433,
          -1.677387843120302,
          -0.08562675823228623,
          0.5984546299630684,
          0.6076379090972879,
          1.254124672057115,
          -0.9724778149831481,
          0.3143545194191499,
          -0.058757956215938184,
          -0.03737652487987073,
          -0.6802828041691912,
          -1.5672140547661044,
          1.0463712798929348,
          0.011779607431918354,
          0.19906242655162534,
          -1.387986633464073,
          0.3947178451929407,
          -0.6544888761951909,
          -0.43241078879186734,
          0.5529688788719433,
          -0.6476489907686221,
          -0.861413119962127,
          -1.3531129534526538,
          -0.6984103584903586,
          -1.0634539106852559,
          0.3516009496637605,
          2.192674055018413,
          0.8701948653279472,
          -0.026203766684250257,
          -0.1612220190020383,
          0.46359793232707014,
          -0.27600074575817984,
          -1.156750181569165,
          0.6798050439901265,
          -1.1728500356905869,
          -0.18410887618957578,
          1.0382651634749183,
          0.3947340256619207,
          0.6859121318450213,
          -0.88545025729977,
          -0.3150055332303982,
          1.8126579166330625,
          0.3147616747323655,
          -2.6740421090810105,
          0.4059699223029372,
          -2.814693660123929,
          -0.6930434598461482,
          -0.6492453170372148,
          -0.8402318705494847,
          -0.14630092518220958,
          -0.2375964670024113,
          0.19133324986256467,
          0.17238740645483738,
          -1.0415195960057646,
          0.2991669483810755,
          -0.7584674424581026,
          1.7878060389572574,
          -0.5649400282340064,
          0.3043535930866452,
          1.0205266068186039,
          -0.5667949669104921,
          0.1917677673659334,
          -0.855743027934645,
          0.2763033763577128,
          0.20224118655973058,
          0.10651995698684925,
          -0.07188380995994023,
          0.44780244390635754,
          -1.5615166489539152,
          -0.7470479808014171,
          1.0828648276146124,
          1.3148346167787655,
          -0.968651655027996,
          -0.8087261235810866,
          -0.005589512415402244,
          2.1446105167859155,
          -1.845470204820757,
          -0.3916671112517671,
          -1.0447118829772202,
          -0.5137341826333847,
          -0.9631175540932926,
          -0.5287077671624641,
          -0.5124697112105684,
          -0.22473335935761898,
          1.5922851889014118,
          -1.9247261983034087,
          0.04208562593001435,
          0.9809193965521468,
          -2.1715256850186857,
          0.22026544112456617,
          1.0274724018083001,
          0.19146882644173502,
          0.2966209929572214,
          -1.251048096697558,
          -0.9480605820509905,
          -1.2452603120344947,
          -0.5948701446344465,
          -0.0728012671598547,
          -1.7292582637192355,
          1.4853841957627223,
          -0.28522507588836427,
          -2.21032938119405,
          0.41047064809853306,
          1.313858253987967,
          -1.9927269721846654,
          -2.4045677600322293,
          0.17563487066987854,
          0.4494777777883911,
          0.13197529133720184,
          0.13886685170236462,
          -1.2747313569637944,
          0.2615858758460099,
          -0.9627393919491288,
          -0.7762717239981387,
          -0.4536576763425273,
          0.38619998896098967,
          0.5330995152486147,
          0.42322347471210003,
          0.4650280440565669,
          -0.13909190579500164,
          0.09453065711883347,
          1.4137002776931857,
          -0.8848798381064654,
          -0.5613883141116315,
          0.4271392493358198,
          -0.7719578864453772,
          0.31355699973984297,
          -0.710808301641366,
          -0.4668353989062388,
          2.9251593739618813,
          -0.5354517739253739,
          0.6068426028196436,
          -1.7521068471130539,
          -1.5844215547596894,
          0.08467806480852133,
          -0.12021665980445842,
          0.2539441294754349,
          -1.2967572927173594,
          0.13812642407570522,
          0.19331265784250276,
          2.2050709700426623,
          -1.4286981500574392,
          -0.6580571382406363,
          1.5159396083972232,
          0.06760966822277466,
          0.4564393251414711,
          0.4579403757874037,
          -1.256128008190096,
          1.1030976102723842,
          -0.6096231739850535,
          1.7623489428352255,
          -0.2090700851972197,
          0.7931232665267367,
          -0.7597890240027518,
          1.8581871835268868,
          -1.160710829567585,
          0.17706960897194118,
          -0.1062554459023574,
          0.5877838939151928,
          -0.5740409150457704,
          -0.10576334432512305,
          -2.067877933451655,
          -0.7174589918498919,
          0.40677416919509146,
          -0.9256282480422119,
          0.757873446526456,
          -1.2449964166479919,
          -1.1063370741072738,
          -0.725871313212018,
          0.017526499340869812,
          -0.11968346613358016,
          0.8794544119204947,
          -1.8531276258015983,
          -1.5286884782924697,
          0.6187826423948037,
          0.8811564763837493,
          -0.38952920954592996,
          -0.264422145250853,
          -0.4504878812394111,
          1.3740073388916418,
          -2.2464860984112476,
          0.7408506650268087,
          -1.9020053337022909,
          0.20382352965406633,
          0.6671417029534187,
          0.666869873715674,
          -0.6887249573388003,
          0.0930243768134932,
          -1.006893990285936,
          -0.24328554116895773,
          0.5332809006736275,
          -0.5005326058311155,
          -0.6665983184525959,
          0.3401269947304808,
          -1.0744375075309684,
          0.8739425494050931,
          0.5199375803828654,
          2.233266326963029,
          1.182886587423966,
          0.6538138451393498,
          1.0499017221279183,
          0.9849625151269034,
          0.2143966243313062,
          0.42147111004828874,
          -1.4335338280464536,
          0.5891053304221869,
          1.836340582786884,
          -0.19176101741375426,
          2.0375769576541543,
          0.22803703322887953,
          -0.3406016284271402,
          -0.17014935128939718,
          -1.976557265148297,
          0.2740121259926054,
          -0.7935924735099087,
          0.010962642445743987,
          -0.26885170354957,
          -1.8440277227275006,
          -1.5834860921760927,
          -0.0114782143268399,
          0.3470258615925487,
          1.5779642675110253,
          -1.9897780039262476,
          -1.8884793216211657,
          -0.08197798920311962,
          -1.6358083183813956,
          1.276508047369394,
          1.1559677978708558,
          -0.5012594810647238,
          -0.7862818625321734,
          -0.8348248742174379,
          -0.8558500306859055,
          1.4245505976242927,
          0.12951135302557779,
          0.5800941514975937,
          -0.5560131996003186,
          1.467784330041294,
          0.19582099923556756,
          0.2654877185618999,
          -0.010971155594760303,
          -0.03015525448018339,
          1.1078184574985708,
          0.7993364497532396,
          -0.06000718188401065,
          1.1851077712847506,
          -1.2339963340719622,
          -0.24786784224805597,
          0.5195832576824289,
          0.2560917252018305,
          1.367812802758703,
          -1.4110001653765711,
          1.6654565542521238,
          -0.5435425673018908,
          1.334086453121928,
          -0.0768777101281786,
          0.3308647126261426,
          0.5717384291417286,
          -0.20943493255058146,
          -0.608887315061422,
          -1.728689671679145,
          0.18598119368430685,
          1.5147488586989974,
          0.25291600750220045,
          -0.5405776698422251,
          -0.360341804491502,
          0.6154496432433069,
          1.1567515286074088,
          -0.12921175290771392,
          -0.5764787920227445,
          0.9789207875916022,
          -1.0825170379641689,
          -0.6912606050945371,
          0.2042127405112615,
          -0.007062369146108063,
          -0.3561355118462063,
          1.4789574359830135,
          -0.5606668599504836,
          -1.721022395003217,
          -0.1731516011521658,
          -0.6913562790479066,
          -0.34535825909539725,
          1.1709324610294654,
          -0.04176259899052151,
          -1.0965078410852902,
          -0.9897153000854241,
          -0.0002234635499085957,
          -1.8818277772745868,
          0.7085706077271451,
          1.9120465509042064,
          -1.8645589092341888,
          0.4000352515379545,
          -1.2965567285302968,
          -1.2608141022032393,
          -0.5272424841053021,
          0.9162688356785331,
          0.4698780312206122,
          -0.009924243568570206,
          -1.5002820477718246,
          0.14449557241825464,
          -0.40293473402593727,
          -0.46619004404891307,
          -0.36570218879527183,
          1.1189930859008161,
          0.1888649500342992,
          0.49407416494590034,
          -0.6001207128601571,
          0.32984697989549816,
          0.05894151431539787,
          0.7188315825939091,
          1.4982879051215832,
          -0.05292883973912044,
          0.2826746894317272,
          -0.7139365424262557,
          -1.2468072587160939,
          -0.8890894698644939,
          -0.065962137830307,
          1.810762790569657,
          -0.07647749144977684,
          0.7970283323280202,
          0.07310606497284414,
          0.8888698597793643,
          0.49531521115328386,
          -1.2375665013076895,
          -0.020957430053891554,
          -1.3897099076100883,
          -1.1253371012158795,
          -1.2974624235625265,
          -0.20804568590699773,
          -0.7291312248779944,
          -0.08486926584593327,
          0.5456153649414199,
          -0.6254965009530854,
          0.4478878744647442,
          -0.1924064326489712,
          0.23165044144794814,
          -1.3852099318458946,
          -1.3875217498433254,
          -0.9471953953512128,
          0.12207231614655514,
          -0.12486983705233645,
          -0.2604277416426192,
          -0.8976168034050819,
          -0.37027783502299244,
          -0.5591629063068851,
          -0.06010683304504971,
          1.304364739897875,
          -1.3098893785117296,
          0.6273085181054181,
          -1.411849869984284,
          1.4604582964128539,
          0.4161940562915186,
          0.0686630050928481,
          0.9639197884801174,
          0.332794547225913,
          0.5444607585142656,
          -0.09707880294276126,
          -0.5898380793608238,
          -0.09988596665370439,
          -0.4511009621429025,
          1.5839119936872925,
          0.45562034517937344,
          -1.0393039867495133,
          -0.2158514154849838,
          -0.609309755683151,
          1.6462308140359478,
          -1.0510303595719726,
          -0.6419182543722538,
          -1.4297857984155977,
          -0.06689202544509518,
          -0.20300292940822492,
          -1.6876602633464077,
          -1.278232571116688,
          1.1607939158955252,
          0.977032512731871,
          0.18879699528354205,
          0.14366509407551112,
          0.49641550697026476,
          2.159770005839213,
          0.023707570685367243,
          -1.1895345170961629,
          0.5671195609093028,
          0.49957010384480754,
          -0.5117194434120194,
          0.7586900609806113,
          0.14495032861142126,
          -0.32238814123824155,
          2.7075386297687056,
          -0.369758583502732,
          -0.6067831223025454,
          1.286676381957433,
          -1.2369022581960594,
          0.9971647193982403,
          -0.3707214494414906,
          -0.5661106092917135,
          -0.5033229651174689,
          -0.8853289913050088,
          -1.8911428512168607,
          -1.1010893654675427,
          -0.7479821173900504,
          0.7175225803963051,
          -1.2038821372312847,
          -1.063320900435505,
          0.4176657119745844,
          -0.02050698501904491,
          -0.44880100609119494,
          2.033586729886769,
          1.6172788504510494,
          0.5408988301131055,
          -1.2706972844789448,
          1.6025592087497496,
          -3.1501668078950082,
          1.367469004772903,
          2.4533665483293343,
          -0.9331854023803994,
          -0.028577272872386473,
          -0.43267910591683034,
          -0.42842245543535123,
          -1.822866501393956,
          0.15481818202906333,
          0.8032167230077678,
          -0.155808639505359,
          0.7267338260131352,
          -0.3569027261352732,
          -1.1387549882840167,
          1.198787613716028,
          0.08382517926926492,
          0.7947136810615927,
          -0.3078683353622674,
          0.35011933455639505,
          0.2588655294417708,
          0.9118990186015538,
          -0.03081291594940044,
          -0.28459886379572663,
          -0.7906998836463587,
          1.9080792802302329,
          1.4464392666911636,
          -1.0737236819300506,
          0.07701149305412197,
          -0.5905987731436502,
          -0.2110638736660074,
          -2.31107761523779,
          0.7387218351162446,
          0.7101763699573554,
          -1.1495806743694386,
          0.22203473685351047,
          0.3958450093298442,
          -0.020967886221650325,
          0.24761944640150696,
          -0.6360957358089608,
          -0.0831212462430292,
          -0.05766327454067503,
          -0.23491602835808506,
          0.496907275584944,
          -0.09491232091057746,
          -0.26038716084562386,
          -0.48169729706320874,
          -0.4900268837320281,
          0.6111901310559487,
          2.196936897392297,
          1.6555490454166493,
          -2.8159358549060554,
          -0.07998606159080072,
          0.0645389193957452,
          0.9249152791300675,
          0.3318183640113746,
          0.4963016541518108,
          0.8941056672987766,
          -0.6479721952616144,
          -0.24150106139818628,
          1.0257735215406671,
          -0.7045490616972447,
          0.8189694824992093,
          0.07681581077177282,
          0.38948425542292386,
          0.2644136766247914,
          -1.871580017055433,
          -1.17854139720492,
          1.4833633697799082,
          1.15044476454698,
          -0.8685073555665335,
          -1.2474698591787552,
          -1.1547729439988024,
          0.06463237964047193,
          -0.1365344638269574,
          -0.5362097266512261,
          0.17541770161923378,
          0.19663923528081478,
          0.22015964503846777,
          -0.3950268921064058,
          1.227887673995571,
          -0.4698533676496491,
          -0.5586597831572034,
          -0.227635434996058,
          0.30850577119623923,
          -0.18276653903608248,
          -1.597494211264757,
          -0.8968970954924189,
          1.4649709232885118,
          -0.5200566045513272,
          2.465038671765193,
          0.49289420973886816,
          -1.6845712981775278,
          0.03886243643235829,
          0.416884768654999,
          0.06888678583659597,
          -0.4102864814544886,
          -0.24171836334973434,
          1.2209294301002953,
          -1.6634805140089068,
          -0.02233010868806819,
          0.17378080386602665,
          0.2867836786380533,
          0.34925785362516204,
          -0.5316397676447475,
          -0.34791403414582617,
          0.37275585809606515,
          -0.7032641996537113,
          -0.633582114845352,
          0.6238261892894027,
          -0.03683706879370984,
          -1.1486905678973525,
          -0.3930538644416666,
          0.7262719838846678,
          1.6238966443006873,
          0.49012623154078905,
          -2.3619170316618856,
          -0.7832467103511628,
          0.2160267981332813,
          0.7590331396758194,
          0.3663614263541731,
          -1.6394197560547799,
          -0.5101510532842545,
          -0.5968990335296012,
          0.7076898759046845,
          0.10111402107770572,
          -1.1122672247581828,
          0.08167310549344949,
          -2.3002168864333656,
          2.424556395373364,
          0.5838915265134144,
          -0.2869192892553071,
          -1.888771010704265,
          2.1713084473608206,
          -2.3348048912971833,
          0.17455550907464748,
          0.1181430853628287,
          0.41305838469971495,
          0.2288451598784666,
          -0.4012581949013563,
          -0.8622766485501344,
          -0.3091542732941031,
          -0.7836036397171464,
          0.16989611787091866,
          -1.6651835180309356,
          0.1382979335181665,
          -0.9913234627419238,
          0.18161741080132257,
          0.3033320211888739,
          -0.23392988769695314,
          0.6755360957450551,
          0.4280196481315851,
          -1.0301198581946638,
          0.039311660203746525,
          0.12381583172589011,
          0.9374399559545441,
          -0.13512596353619147,
          0.4321417504491294,
          -1.3248555915289548,
          2.4293173907149224,
          -0.41037636519281545,
          -1.054898684079829,
          1.2724324296006917,
          -1.3261890088995174,
          -1.104359080396998,
          0.2500064343798217,
          0.006320298631699747,
          -0.5154997407105152,
          0.23624968988736428,
          0.15613688114453145,
          0.6424470225691189,
          1.2117271475873177,
          -0.9845801481779056,
          0.5208504208365592,
          0.2627423952492921,
          0.7792031422855146,
          -0.15335431550117157,
          0.6445080686446504,
          0.04599857072586567,
          0.4364527295328009,
          -0.5004725752921146,
          0.7083029991335118,
          -0.3286851557920419,
          -0.5949900754195714,
          0.2214887588908578,
          0.7886325047062979,
          -0.4985094568286113,
          0.44143874363298313,
          0.5328251219422981,
          -1.353285300048155,
          0.37951962479912726,
          -0.3272858424772699,
          0.6536707453974069,
          2.306566721445888,
          -1.1843107029758235,
          0.10583259248010035,
          0.6655948112552725,
          -2.710430876960346,
          0.7892348377556224,
          0.2015439919516832,
          1.3650865044308094,
          -1.865820019987835,
          -0.2989827858752314,
          0.23933061536635938,
          -0.9295414688681944,
          1.8576033802663863,
          1.6307702946869638,
          -0.9085562592553719,
          -0.30642749601553626,
          -1.094116579790802,
          -0.21487987997588773,
          0.9705504146505187,
          0.6550075392491035,
          1.4132846183638388,
          0.731210480920366,
          -0.15162101731867988,
          2.5338330676588656,
          -0.8534055553350982,
          -0.22224019446391605,
          -0.265952690500246,
          0.25228119358103296,
          -1.7346755946997983,
          1.9092045013142576,
          -0.6133829125838717,
          1.6783868162843092,
          -0.5774804056458916,
          1.563906286406633,
          0.6268184734880021,
          -0.19130399447801302,
          0.04261778734773015,
          -0.10054229581183415,
          -0.8947659957880798,
          1.5649008284882011,
          0.5274284657562932,
          -0.3318260240837032,
          -0.7368648000905011,
          0.52456767811696,
          -0.2031407142453453,
          -0.32912372208353524,
          -1.0548721137030461,
          1.2608124728750776,
          0.7784538820187725,
          -0.15513790776966635,
          -0.9325827448069153,
          -0.3782467178932643,
          0.28882310734423217,
          0.2917891750484117,
          1.245182830306438,
          -0.6604011499599796,
          -0.6964415214819384,
          -0.9118304908563568,
          0.17592976933757795,
          0.9349811965385129,
          -0.5434858798737959,
          -0.15294221503701674,
          -0.8016965629643338,
          0.4539616494012536,
          0.6755763066936502,
          -1.381183233118573,
          -0.7551101256461502,
          0.6445672320962359,
          0.8587556035425125,
          -0.5671925219375182,
          0.22045781055448763,
          -0.1784258741800318,
          -1.2137419852126252,
          -2.957520817422983,
          -0.051749371931401174,
          -0.0028919236057743177,
          -0.7313313979148742,
          1.0165930294003573,
          1.1182332763350844,
          -0.8003261163843434,
          1.134196607237462,
          -0.24081152520777208,
          -0.26119453253005714,
          -1.3999417145600455,
          -0.8503573901132547,
          -0.09416731580557999,
          1.5773697891681446,
          0.6166383676147209,
          -0.47065596451993924,
          -2.3832233735845665,
          0.12848469561932518,
          0.46363334578328425,
          1.57240105838216,
          0.6855289358314559,
          2.17339301322876,
          1.3733331654536742,
          -0.7946168707740797,
          -0.2529082124046605,
          0.3387061924261835,
          0.10621924843434641,
          0.837793520856126,
          0.8416827390986698,
          -0.1814032201415747,
          1.478898413961566,
          1.4822009886303362,
          -0.7347363625875081,
          -0.45223482840353096,
          -2.2387350221684037,
          2.0361636482432828,
          -1.2495388213202272,
          0.47409495777104466,
          0.7543965555229444,
          0.15286893216545552,
          -0.9092318523639165,
          -0.5038157753976537,
          -0.8941077823658622,
          0.15817809000963814,
          0.7859939596253486,
          1.6892349147050534,
          0.9068413986690085,
          -0.7889208938869929,
          -0.4188890188660395,
          -0.5554838500111468,
          0.1735788250264432,
          0.2322560673964984,
          -0.03715685868698827,
          -0.975846517409458,
          0.7972308307999934,
          -1.6140279373918045,
          1.4777476052075638,
          0.8235337992785449,
          0.31437748676257393,
          -0.742737747080613,
          -1.25502853276865,
          -0.528401653621594,
          -0.8006496520718922,
          1.9525763779102916,
          -0.46132163338943033,
          -1.7031247413749675,
          -0.9693398758801363,
          0.0841547791828935,
          -0.9173212130681694,
          0.48066455658035095,
          0.19407593080973856,
          -1.348620966651474,
          0.566332000383684,
          3.1629806487743113,
          1.259139795617536,
          0.6896823456673106,
          -1.1268703328564866,
          -1.194886497982371,
          0.13864863246966355,
          0.08405326477021355,
          -0.4904055576945669,
          0.6170069415584493,
          -0.0015460773905243653,
          -0.11192891689073539,
          -1.5275001049837857,
          -0.5361282566038934,
          0.07109601210929552,
          2.414070094885766,
          -2.1975307149651266,
          0.01652344817721471,
          -0.7402224029080667,
          -0.8611910663777452,
          -0.84161419107413,
          -0.4039840276746652,
          -1.7044971118999024,
          -0.16296739101151606,
          2.006781878354883,
          -0.2962145486493859,
          -0.7053889385163113,
          2.2961038040539723,
          0.17403614335404438,
          -0.07767792770178247,
          -1.4656916553754664,
          -0.6990312997554704,
          -0.49668973100752833,
          -0.522148267878785,
          0.9430345196652499,
          -0.6985611883356921,
          -0.3268290166240014,
          -0.22043780424582737,
          1.1224904765719363,
          -1.4116593292243989,
          -0.4586975712974204,
          1.0768067453446983,
          1.023749194548247,
          -0.6328095308154777,
          -0.26242612629362716,
          1.6489493358440677,
          -0.7344507235173204,
          1.7987346223853802,
          -0.590202235019461,
          0.21843820863830854,
          0.8279857821646149,
          -0.5419992938061082,
          -1.9798134236960347,
          0.6220096723059714,
          1.2339922466486566,
          -0.05870021701881918,
          0.20890025056480765,
          0.823962552675662,
          2.204063408480706,
          -0.8982425246924542,
          1.509552808730266,
          -0.22293106614724914,
          -1.7121336896090071,
          -0.5219024264614331,
          -0.6725252696348598,
          0.7900759757179397,
          -0.6388428565962607,
          -0.7710255856193508,
          1.3114042747492671,
          -0.251706524357906,
          -0.9998854389290461,
          -1.313635854802315,
          0.08123044955139128,
          1.0625521726130807,
          1.2786749180891508,
          -0.35136675822253355,
          0.13708499338579846,
          0.9904177741470922,
          -0.2266423755736852,
          0.20920877549402306,
          -0.14711056640710152,
          -0.69376479663673,
          -1.0612012488844766,
          -0.49389342003614706,
          -0.954784411178941,
          -0.1436206622121841,
          -0.1291650760565076,
          -0.26085702168883496,
          0.17404135206418866,
          -0.5232971609382255,
          -0.4260236740571143,
          0.06343708413167634,
          0.884965118602101,
          0.2760925978919972,
          1.122847865435642,
          -0.01677328631517995,
          -0.1027354726956838,
          1.31905196003047,
          0.08694728559137525,
          -1.0251689025723556,
          0.7885010867375053,
          1.8123376849401354,
          1.3790884297390587,
          0.40464824008774036,
          -2.01030747070879,
          -0.733751377658719,
          0.9861945581045873,
          1.8819406100331886,
          -0.9022307452491746,
          -0.6038576998216388,
          0.6169898304901236,
          -0.054390617481092106,
          0.1631997925384422,
          -1.7897195753850306,
          -1.726202903011734,
          -2.463965206848845,
          0.9477105206258258,
          -1.5504550232938716,
          -0.7245604114503834,
          -0.06848837173332657,
          -0.8507437703205205,
          0.6656569377615825,
          -2.0008741957064644,
          -0.5927326479600049,
          0.024298507227441736,
          -1.002938483186389,
          1.3556954347273964,
          0.6787796885460887,
          -0.47495088063595153,
          0.8618009564689699,
          0.5846701486738941,
          0.8367111325981346,
          2.0703560641442413,
          0.9346207144603267,
          -0.6949012274048068,
          1.06012366602569,
          0.5594138420197564,
          -0.8069952148786189,
          -0.1524855218637045,
          0.02384442424762657,
          -0.13943632347539733,
          0.5931645436065887,
          1.118442570258617,
          1.0605118682135017,
          0.4424039706047199,
          0.586692225453598,
          1.8187004179426431,
          1.0150853832869802,
          -0.748054201523194,
          -0.20223331550029824,
          -0.705526147901966,
          1.2827813362114955,
          1.5090626528644528,
          -1.9243412179453168,
          0.013110493263333389,
          -0.36764206630306334,
          1.323975316983373,
          0.3133556443405028,
          -0.34030012885914107,
          1.0332155725357663,
          0.2503261596723349,
          -0.116566203268021,
          -1.291414965587748,
          -0.6325494834496732,
          0.9157666929905606,
          -1.0939618667161164,
          -1.079723661890586,
          0.9502941639233846,
          1.6096173730063206,
          -0.9833090996147125,
          0.7173841184774626,
          0.28601625218446514,
          -0.38456681430883655,
          0.27506442564857947,
          -1.7097488639153928,
          2.098168730288847,
          -1.0600280345630742,
          0.8911530019032444,
          1.2973090273500927,
          0.8251133784062223,
          -0.03021497205248733,
          0.14709282404559126,
          0.6436127341056148,
          0.5233485864392287,
          1.9982961663194148,
          0.43793590524883746,
          0.4616229041534004,
          0.32069562130818763,
          0.9891094290946884,
          -0.5773757716059793,
          -0.3181119005102529,
          -0.5245836033794711,
          1.6462230044982162,
          -0.15766956690292888,
          -0.5062992149663385,
          -0.10897453600783669,
          0.01713698550356456,
          1.0967905431617166,
          -1.4139783359104758,
          0.05286356395085484,
          0.5263415647398767,
          0.2499597343672616,
          -1.7000632932495925,
          -0.1668149291172145,
          0.040449959134853115,
          0.1697168294996862,
          0.021199942447534054,
          1.2332213138525185,
          1.2399315842521872,
          -0.6288455042974673,
          0.2999489096109978,
          0.5039734181897157,
          -0.021880870636735772,
          -0.24041693616346785,
          -0.5609369773005002,
          -0.06686318233548727,
          0.6141479504977725,
          0.09129073315053145,
          -1.8080344613980164,
          0.44044348284595153,
          1.6783879950156735,
          0.3085522114607901,
          -0.27230263896017276,
          0.7299725203430897,
          1.4235125370582318,
          -0.43565771980700535,
          0.2539514626096239,
          0.1013181583376304,
          -0.755366766303154,
          -1.3788198057163041,
          0.1942123626321156,
          0.6980869179509783,
          0.1674453631778015,
          -0.05883653923496085,
          1.4125406918444903,
          -0.28195748519150243,
          -0.40481018036027905,
          -0.07189848917241624,
          -1.8056581175693296,
          0.9393197468379887,
          -1.1629926056712063,
          -0.7507435885574044,
          0.004442131842646419,
          1.3591089338839155,
          -0.7440938890498752,
          1.070905908032184,
          0.012692753864978486,
          -0.1574577375759745,
          -1.4890990752553794,
          -0.7358747603747823,
          0.9969306002217411,
          -0.8247002700502423,
          0.552701181156863,
          0.9173281121534994,
          -0.394431703984102,
          0.653734128420817,
          -0.19824458290618208,
          1.4471150520123577,
          -1.4676526265682943,
          0.5173966445814197,
          1.6691553798974132,
          -0.37429644138227475,
          0.9277210407799513,
          -0.18614539283303344,
          -0.3924022561719057,
          0.7027923794813201,
          1.757329702925744,
          -0.14364305302618235,
          0.015187693208137813,
          -0.8858713016822561,
          -0.26936922111696326,
          -0.38729364123715415,
          0.015096165027009374,
          1.4775822386232857,
          -0.5761283685045808,
          -0.026211860408456602,
          -1.6864024814158811,
          0.21580775869258756,
          1.9330742425531804,
          -1.1390484840560697,
          -0.688441221463475,
          0.23502235414233408,
          0.49310714783069615,
          -1.221573015284721,
          2.156633988189983,
          -0.8180921529818848,
          0.12927816532368322,
          0.4661549503123242,
          -1.5513827817974453,
          0.8833098320832596,
          0.34548793192706956,
          0.25582019742168177,
          -0.5991123379292383,
          0.29060873367214285,
          1.899070745817109,
          -0.4257333534063908,
          -0.31626115026914436,
          2.0696689666809527,
          0.1859650303781638,
          0.159129956785548,
          -1.2011220171230306,
          0.9163571812663305,
          0.6875388400139367,
          -1.0870020761021848,
          0.7406711037329063,
          1.0238329985300019,
          -0.20138916649794897,
          0.7930178984825453,
          0.8098683686855486,
          1.1019226066499215,
          1.1453153713694046,
          0.9642044065347152,
          -1.191235868759841,
          0.40054554404884113,
          0.8318389512460436,
          -0.7950197601175023,
          -1.0997687487050793,
          -0.34394859511224507,
          -0.23566196106296783,
          -0.6018879074815662,
          0.7283030703988493,
          -1.2230363283318504,
          1.2775830204921255,
          -1.3888544340051907,
          0.847371489904005,
          -0.1282739694401609,
          -0.6409323073967943,
          -0.37309031916866187,
          -0.7574112690790761,
          -1.0019170094618892,
          -0.023554304362230775,
          0.16297694120150494,
          1.685950337891197,
          0.8277370417858094,
          0.431999294799516,
          0.07345832969790304,
          0.7631007500420964,
          0.6003972092891193,
          -0.6333068048062906,
          1.267536929626598,
          -1.0531342690607246,
          0.47211837595901507,
          -0.8838033771008235,
          1.7595702679065721,
          0.6901139988447967,
          -1.439791618776031,
          -0.8948763564183431,
          0.8090970686117226,
          -0.8020962806357113,
          -0.4412470712979747,
          0.9275989085770173,
          -0.002705862618950477,
          -2.0791722321203734,
          0.8977612770239194,
          1.6683564066769276,
          0.27120083749417373,
          0.6477876368544233,
          0.6227489253487826,
          0.2750401406485739,
          1.743525411836308,
          0.6227323669205118,
          0.09042980288752485,
          0.5271808152200965,
          0.37783970570053926,
          -0.8148113139657488,
          -1.8134062681245378,
          -2.229398836208169,
          0.8114645789300411,
          1.3249556365046553,
          0.7678718536719731,
          -0.24684776059963406,
          0.07021460137344199,
          1.7736777008301021,
          0.3773162377624031,
          -0.6501523305069821,
          -0.02970340781720099,
          0.7370225426394115,
          -0.19205044768885363,
          0.5939366828874044,
          2.4739114301438447,
          1.8160641012469063,
          0.1260347216144264,
          0.21491396091740084,
          -0.08880837188956117,
          0.48944089346408587,
          -1.164668827013413,
          -1.7290427227618652,
          0.6939420214919435,
          -1.5575202957489263,
          -0.5854538761595126,
          -0.1655632353218035,
          -0.22299805615704524,
          0.6925420154302606,
          -1.263730473433422,
          0.23888112922029045,
          0.030863269995122896,
          0.813619200399223,
          -0.2149963046016491,
          0.4388580464722834,
          1.4237987985137068,
          -0.022648431465903167,
          -0.04701659052734999,
          0.023400389413187988,
          0.5811529194663483,
          0.08073505148102515,
          -2.105871703600591,
          0.3513880026960906,
          -0.6223922137501267,
          1.676353568924408,
          -0.6312774686944439,
          -0.09394185369997925,
          -0.22097143018707185,
          0.41028755766792213,
          -0.2977821509578876,
          -1.0114257160042583,
          1.3076735292596993,
          -0.20013059972103828,
          -0.6387341429189001,
          -0.21112658155297484,
          1.6035509123777922,
          0.38096105515059797,
          -0.7890158331809971,
          -1.3687532656463266,
          0.20446777677183184,
          -0.5611234792997919,
          0.4321510645197742,
          -1.1519865100933095,
          1.638215341074138,
          -0.9071764484425988,
          -1.3958229611953747,
          -1.0380495431575136,
          -0.5033587762207077,
          0.8176086911913756,
          -0.7468105340274183,
          -1.1109524458661562,
          -0.8649180858446428,
          -0.4689321814047323,
          0.019001761091833574,
          -0.4218641199192646,
          -0.6239474556309832,
          -0.03456680869555658,
          0.19588793676246077,
          -0.014306426342394051,
          -0.540023017699285,
          0.07921118030627085,
          -0.34903036035506424,
          0.4420772907844918,
          0.14602188312643258,
          -1.0768729210694463,
          1.094730239091747,
          -1.1698239058552031,
          -1.521816409171872,
          -1.0129740086926098,
          0.17644718429429018,
          2.2401429346973556,
          -0.5682526311441812,
          1.8768926006224609,
          -0.44083072054346567,
          1.2426400343974322,
          0.2967201152551996,
          1.4226773667386492,
          -0.3557147922558001,
          1.697833834871072,
          0.7560128538193963,
          0.4695438162014104,
          0.5728657153217493,
          0.9799427662801813,
          1.1671682613869534,
          -0.6966906374801115,
          0.7146674139673661,
          0.44670014267441904,
          1.3583166117324217,
          -0.22543325591301336,
          -1.059263937388333,
          0.9157209921332955,
          -0.12570512947218931,
          0.5611778967002315,
          -2.061206187162275,
          -1.2935964138293465,
          -0.9168260887286767,
          1.431665826872943,
          0.028217556747632135,
          -0.046432240107803176,
          1.0574378420578927,
          0.7505921900633832,
          0.32090118086154257,
          -1.2341374175430715,
          0.5511084616929731,
          -2.0840242666323454,
          -2.0237967864777744,
          0.3590826630670367,
          -0.8403181895883168,
          -2.048996165075957,
          0.2828404142172029,
          -0.8896190652558875,
          -0.3440039029143271,
          1.5009915185574545,
          1.9253667522666635,
          -0.31260100135122226,
          -0.4357818675581748,
          -0.1371633559423791,
          0.4553500883180476,
          -0.6986389626877406,
          0.8271191627972534,
          -0.09213867577681968
         ]
        }
       ],
       "layout": {
        "template": {
         "data": {
          "bar": [
           {
            "error_x": {
             "color": "#2a3f5f"
            },
            "error_y": {
             "color": "#2a3f5f"
            },
            "marker": {
             "line": {
              "color": "#E5ECF6",
              "width": 0.5
             },
             "pattern": {
              "fillmode": "overlay",
              "size": 10,
              "solidity": 0.2
             }
            },
            "type": "bar"
           }
          ],
          "barpolar": [
           {
            "marker": {
             "line": {
              "color": "#E5ECF6",
              "width": 0.5
             },
             "pattern": {
              "fillmode": "overlay",
              "size": 10,
              "solidity": 0.2
             }
            },
            "type": "barpolar"
           }
          ],
          "carpet": [
           {
            "aaxis": {
             "endlinecolor": "#2a3f5f",
             "gridcolor": "white",
             "linecolor": "white",
             "minorgridcolor": "white",
             "startlinecolor": "#2a3f5f"
            },
            "baxis": {
             "endlinecolor": "#2a3f5f",
             "gridcolor": "white",
             "linecolor": "white",
             "minorgridcolor": "white",
             "startlinecolor": "#2a3f5f"
            },
            "type": "carpet"
           }
          ],
          "choropleth": [
           {
            "colorbar": {
             "outlinewidth": 0,
             "ticks": ""
            },
            "type": "choropleth"
           }
          ],
          "contour": [
           {
            "colorbar": {
             "outlinewidth": 0,
             "ticks": ""
            },
            "colorscale": [
             [
              0,
              "#0d0887"
             ],
             [
              0.1111111111111111,
              "#46039f"
             ],
             [
              0.2222222222222222,
              "#7201a8"
             ],
             [
              0.3333333333333333,
              "#9c179e"
             ],
             [
              0.4444444444444444,
              "#bd3786"
             ],
             [
              0.5555555555555556,
              "#d8576b"
             ],
             [
              0.6666666666666666,
              "#ed7953"
             ],
             [
              0.7777777777777778,
              "#fb9f3a"
             ],
             [
              0.8888888888888888,
              "#fdca26"
             ],
             [
              1,
              "#f0f921"
             ]
            ],
            "type": "contour"
           }
          ],
          "contourcarpet": [
           {
            "colorbar": {
             "outlinewidth": 0,
             "ticks": ""
            },
            "type": "contourcarpet"
           }
          ],
          "heatmap": [
           {
            "colorbar": {
             "outlinewidth": 0,
             "ticks": ""
            },
            "colorscale": [
             [
              0,
              "#0d0887"
             ],
             [
              0.1111111111111111,
              "#46039f"
             ],
             [
              0.2222222222222222,
              "#7201a8"
             ],
             [
              0.3333333333333333,
              "#9c179e"
             ],
             [
              0.4444444444444444,
              "#bd3786"
             ],
             [
              0.5555555555555556,
              "#d8576b"
             ],
             [
              0.6666666666666666,
              "#ed7953"
             ],
             [
              0.7777777777777778,
              "#fb9f3a"
             ],
             [
              0.8888888888888888,
              "#fdca26"
             ],
             [
              1,
              "#f0f921"
             ]
            ],
            "type": "heatmap"
           }
          ],
          "heatmapgl": [
           {
            "colorbar": {
             "outlinewidth": 0,
             "ticks": ""
            },
            "colorscale": [
             [
              0,
              "#0d0887"
             ],
             [
              0.1111111111111111,
              "#46039f"
             ],
             [
              0.2222222222222222,
              "#7201a8"
             ],
             [
              0.3333333333333333,
              "#9c179e"
             ],
             [
              0.4444444444444444,
              "#bd3786"
             ],
             [
              0.5555555555555556,
              "#d8576b"
             ],
             [
              0.6666666666666666,
              "#ed7953"
             ],
             [
              0.7777777777777778,
              "#fb9f3a"
             ],
             [
              0.8888888888888888,
              "#fdca26"
             ],
             [
              1,
              "#f0f921"
             ]
            ],
            "type": "heatmapgl"
           }
          ],
          "histogram": [
           {
            "marker": {
             "pattern": {
              "fillmode": "overlay",
              "size": 10,
              "solidity": 0.2
             }
            },
            "type": "histogram"
           }
          ],
          "histogram2d": [
           {
            "colorbar": {
             "outlinewidth": 0,
             "ticks": ""
            },
            "colorscale": [
             [
              0,
              "#0d0887"
             ],
             [
              0.1111111111111111,
              "#46039f"
             ],
             [
              0.2222222222222222,
              "#7201a8"
             ],
             [
              0.3333333333333333,
              "#9c179e"
             ],
             [
              0.4444444444444444,
              "#bd3786"
             ],
             [
              0.5555555555555556,
              "#d8576b"
             ],
             [
              0.6666666666666666,
              "#ed7953"
             ],
             [
              0.7777777777777778,
              "#fb9f3a"
             ],
             [
              0.8888888888888888,
              "#fdca26"
             ],
             [
              1,
              "#f0f921"
             ]
            ],
            "type": "histogram2d"
           }
          ],
          "histogram2dcontour": [
           {
            "colorbar": {
             "outlinewidth": 0,
             "ticks": ""
            },
            "colorscale": [
             [
              0,
              "#0d0887"
             ],
             [
              0.1111111111111111,
              "#46039f"
             ],
             [
              0.2222222222222222,
              "#7201a8"
             ],
             [
              0.3333333333333333,
              "#9c179e"
             ],
             [
              0.4444444444444444,
              "#bd3786"
             ],
             [
              0.5555555555555556,
              "#d8576b"
             ],
             [
              0.6666666666666666,
              "#ed7953"
             ],
             [
              0.7777777777777778,
              "#fb9f3a"
             ],
             [
              0.8888888888888888,
              "#fdca26"
             ],
             [
              1,
              "#f0f921"
             ]
            ],
            "type": "histogram2dcontour"
           }
          ],
          "mesh3d": [
           {
            "colorbar": {
             "outlinewidth": 0,
             "ticks": ""
            },
            "type": "mesh3d"
           }
          ],
          "parcoords": [
           {
            "line": {
             "colorbar": {
              "outlinewidth": 0,
              "ticks": ""
             }
            },
            "type": "parcoords"
           }
          ],
          "pie": [
           {
            "automargin": true,
            "type": "pie"
           }
          ],
          "scatter": [
           {
            "fillpattern": {
             "fillmode": "overlay",
             "size": 10,
             "solidity": 0.2
            },
            "type": "scatter"
           }
          ],
          "scatter3d": [
           {
            "line": {
             "colorbar": {
              "outlinewidth": 0,
              "ticks": ""
             }
            },
            "marker": {
             "colorbar": {
              "outlinewidth": 0,
              "ticks": ""
             }
            },
            "type": "scatter3d"
           }
          ],
          "scattercarpet": [
           {
            "marker": {
             "colorbar": {
              "outlinewidth": 0,
              "ticks": ""
             }
            },
            "type": "scattercarpet"
           }
          ],
          "scattergeo": [
           {
            "marker": {
             "colorbar": {
              "outlinewidth": 0,
              "ticks": ""
             }
            },
            "type": "scattergeo"
           }
          ],
          "scattergl": [
           {
            "marker": {
             "colorbar": {
              "outlinewidth": 0,
              "ticks": ""
             }
            },
            "type": "scattergl"
           }
          ],
          "scattermapbox": [
           {
            "marker": {
             "colorbar": {
              "outlinewidth": 0,
              "ticks": ""
             }
            },
            "type": "scattermapbox"
           }
          ],
          "scatterpolar": [
           {
            "marker": {
             "colorbar": {
              "outlinewidth": 0,
              "ticks": ""
             }
            },
            "type": "scatterpolar"
           }
          ],
          "scatterpolargl": [
           {
            "marker": {
             "colorbar": {
              "outlinewidth": 0,
              "ticks": ""
             }
            },
            "type": "scatterpolargl"
           }
          ],
          "scatterternary": [
           {
            "marker": {
             "colorbar": {
              "outlinewidth": 0,
              "ticks": ""
             }
            },
            "type": "scatterternary"
           }
          ],
          "surface": [
           {
            "colorbar": {
             "outlinewidth": 0,
             "ticks": ""
            },
            "colorscale": [
             [
              0,
              "#0d0887"
             ],
             [
              0.1111111111111111,
              "#46039f"
             ],
             [
              0.2222222222222222,
              "#7201a8"
             ],
             [
              0.3333333333333333,
              "#9c179e"
             ],
             [
              0.4444444444444444,
              "#bd3786"
             ],
             [
              0.5555555555555556,
              "#d8576b"
             ],
             [
              0.6666666666666666,
              "#ed7953"
             ],
             [
              0.7777777777777778,
              "#fb9f3a"
             ],
             [
              0.8888888888888888,
              "#fdca26"
             ],
             [
              1,
              "#f0f921"
             ]
            ],
            "type": "surface"
           }
          ],
          "table": [
           {
            "cells": {
             "fill": {
              "color": "#EBF0F8"
             },
             "line": {
              "color": "white"
             }
            },
            "header": {
             "fill": {
              "color": "#C8D4E3"
             },
             "line": {
              "color": "white"
             }
            },
            "type": "table"
           }
          ]
         },
         "layout": {
          "annotationdefaults": {
           "arrowcolor": "#2a3f5f",
           "arrowhead": 0,
           "arrowwidth": 1
          },
          "autotypenumbers": "strict",
          "coloraxis": {
           "colorbar": {
            "outlinewidth": 0,
            "ticks": ""
           }
          },
          "colorscale": {
           "diverging": [
            [
             0,
             "#8e0152"
            ],
            [
             0.1,
             "#c51b7d"
            ],
            [
             0.2,
             "#de77ae"
            ],
            [
             0.3,
             "#f1b6da"
            ],
            [
             0.4,
             "#fde0ef"
            ],
            [
             0.5,
             "#f7f7f7"
            ],
            [
             0.6,
             "#e6f5d0"
            ],
            [
             0.7,
             "#b8e186"
            ],
            [
             0.8,
             "#7fbc41"
            ],
            [
             0.9,
             "#4d9221"
            ],
            [
             1,
             "#276419"
            ]
           ],
           "sequential": [
            [
             0,
             "#0d0887"
            ],
            [
             0.1111111111111111,
             "#46039f"
            ],
            [
             0.2222222222222222,
             "#7201a8"
            ],
            [
             0.3333333333333333,
             "#9c179e"
            ],
            [
             0.4444444444444444,
             "#bd3786"
            ],
            [
             0.5555555555555556,
             "#d8576b"
            ],
            [
             0.6666666666666666,
             "#ed7953"
            ],
            [
             0.7777777777777778,
             "#fb9f3a"
            ],
            [
             0.8888888888888888,
             "#fdca26"
            ],
            [
             1,
             "#f0f921"
            ]
           ],
           "sequentialminus": [
            [
             0,
             "#0d0887"
            ],
            [
             0.1111111111111111,
             "#46039f"
            ],
            [
             0.2222222222222222,
             "#7201a8"
            ],
            [
             0.3333333333333333,
             "#9c179e"
            ],
            [
             0.4444444444444444,
             "#bd3786"
            ],
            [
             0.5555555555555556,
             "#d8576b"
            ],
            [
             0.6666666666666666,
             "#ed7953"
            ],
            [
             0.7777777777777778,
             "#fb9f3a"
            ],
            [
             0.8888888888888888,
             "#fdca26"
            ],
            [
             1,
             "#f0f921"
            ]
           ]
          },
          "colorway": [
           "#636efa",
           "#EF553B",
           "#00cc96",
           "#ab63fa",
           "#FFA15A",
           "#19d3f3",
           "#FF6692",
           "#B6E880",
           "#FF97FF",
           "#FECB52"
          ],
          "font": {
           "color": "#2a3f5f"
          },
          "geo": {
           "bgcolor": "white",
           "lakecolor": "white",
           "landcolor": "#E5ECF6",
           "showlakes": true,
           "showland": true,
           "subunitcolor": "white"
          },
          "hoverlabel": {
           "align": "left"
          },
          "hovermode": "closest",
          "mapbox": {
           "style": "light"
          },
          "paper_bgcolor": "white",
          "plot_bgcolor": "#E5ECF6",
          "polar": {
           "angularaxis": {
            "gridcolor": "white",
            "linecolor": "white",
            "ticks": ""
           },
           "bgcolor": "#E5ECF6",
           "radialaxis": {
            "gridcolor": "white",
            "linecolor": "white",
            "ticks": ""
           }
          },
          "scene": {
           "xaxis": {
            "backgroundcolor": "#E5ECF6",
            "gridcolor": "white",
            "gridwidth": 2,
            "linecolor": "white",
            "showbackground": true,
            "ticks": "",
            "zerolinecolor": "white"
           },
           "yaxis": {
            "backgroundcolor": "#E5ECF6",
            "gridcolor": "white",
            "gridwidth": 2,
            "linecolor": "white",
            "showbackground": true,
            "ticks": "",
            "zerolinecolor": "white"
           },
           "zaxis": {
            "backgroundcolor": "#E5ECF6",
            "gridcolor": "white",
            "gridwidth": 2,
            "linecolor": "white",
            "showbackground": true,
            "ticks": "",
            "zerolinecolor": "white"
           }
          },
          "shapedefaults": {
           "line": {
            "color": "#2a3f5f"
           }
          },
          "ternary": {
           "aaxis": {
            "gridcolor": "white",
            "linecolor": "white",
            "ticks": ""
           },
           "baxis": {
            "gridcolor": "white",
            "linecolor": "white",
            "ticks": ""
           },
           "bgcolor": "#E5ECF6",
           "caxis": {
            "gridcolor": "white",
            "linecolor": "white",
            "ticks": ""
           }
          },
          "title": {
           "x": 0.05
          },
          "xaxis": {
           "automargin": true,
           "gridcolor": "white",
           "linecolor": "white",
           "ticks": "",
           "title": {
            "standoff": 15
           },
           "zerolinecolor": "white",
           "zerolinewidth": 2
          },
          "yaxis": {
           "automargin": true,
           "gridcolor": "white",
           "linecolor": "white",
           "ticks": "",
           "title": {
            "standoff": 15
           },
           "zerolinecolor": "white",
           "zerolinewidth": 2
          }
         }
        }
       }
      },
      "text/html": [
       "<div>                            <div id=\"5f47685f-80a1-485f-96a0-baecbfac5e0b\" class=\"plotly-graph-div\" style=\"height:525px; width:100%;\"></div>            <script type=\"text/javascript\">                require([\"plotly\"], function(Plotly) {                    window.PLOTLYENV=window.PLOTLYENV || {};                                    if (document.getElementById(\"5f47685f-80a1-485f-96a0-baecbfac5e0b\")) {                    Plotly.newPlot(                        \"5f47685f-80a1-485f-96a0-baecbfac5e0b\",                        [{\"contours\":{\"coloring\":\"heatmap\"},\"x\":[0.5465736579520414,1.199191097945311,1.3854618294216,2.8739246833723233,0.34959007762020833,0.2101219159748956,-0.044104488800265025,-0.3592033328931769,0.15798466686180104,-1.437216718134857,0.1878965017376754,1.0656446181169124,1.9543459858599048,-0.13365273991778773,1.0865978677907642,-0.8012369775279364,0.24275118550613972,0.4714792992521871,-0.2909337414549523,0.6697060393177087,1.784870009597721,0.2589910521077722,-1.497240776889539,-0.479359708310925,0.45528549411002306,0.038430693968327594,-1.0265295573073607,0.06461751069412792,-0.35942546787123253,0.48621172903282267,-0.2817744251651497,0.2977005001462227,-1.4270267380366741,-0.5561636323850507,-0.7156435898570221,-1.9145496915702302,-0.4312151950626301,-0.29564919641526605,-0.1231947781276731,0.6454882541999198,-0.478329869503585,1.203922332479485,0.4836432981705512,1.4399216001163777,0.7306170693905668,-1.2199329537504187,0.38913531377747557,-1.3038256706586815,-0.2992829907651729,-0.35175290103588297,1.2672298063770981,2.023654805008079,0.24155703578779975,0.1918472382915681,-0.07441984550654247,0.41316246629391246,1.3337394754039775,1.1975096248517103,1.770995303011352,0.2383436924870869,-0.8149678167167053,-0.36117695107398023,0.3248187401677931,0.03894887535931781,0.017981565921951763,0.18713400491639737,-1.013506419998934,1.3250368400136339,-0.03644421459666435,-1.181788588250882,0.8299847445602468,-0.47394086912914274,1.8297470636298143,1.2406019906218835,-0.5872218850525966,0.8557743796123175,1.2665062142740795,0.36477875738379917,-0.0589094079335857,-1.7219831188255188,1.4573177614277626,-1.1004804504983625,0.5611371055131029,-0.3062970274676136,0.22063060322019426,0.12797459122834165,-0.9410831903014033,-1.5033156858405465,-0.8573911947076823,0.13261726061587173,0.4266188230720724,0.19227178472904244,-0.06103700326644921,-0.33873871153698026,-0.19826804762451913,0.6980080873712878,0.49237565120206517,-0.15547160597884016,0.2190900768085989,-0.8532174004032381,-0.29801131033967443,-0.94960300046756,-1.0767319594024678,0.030361570023168336,-0.3831268070788777,0.6216436687634521,-0.7159651763980263,1.617256082545143,2.345052940600371,0.4792120191238974,0.5693899603210089,-0.9645696137889759,1.4331219743114887,-0.30576924574035924,-0.041127707207843915,0.7545446027922127,0.600159774498096,-0.38353424599839925,0.5192379863451975,1.361346317858611,-1.3903708290861945,-0.8790252396299731,-1.5921541934852046,-0.505316150772982,0.3607030629790932,-0.26145111130351956,1.219136701509934,-0.5127178461332533,0.3797148405655652,-0.9251454914225733,0.34510878981466714,-1.2142361099207286,-1.2992205923235796,0.19984503387736957,0.1962849429509274,1.0255588717076283,-0.4789431001831097,-1.9204148748318945,0.21196177691118603,-0.33643053294504827,-1.2016008572524077,0.2868808449318455,-0.8007709328607542,0.10185884103194316,-0.057120414762734294,-0.7442492847507595,2.2315728446739325,-0.7782309522821865,1.68419544250344,-0.36862980215238694,0.7611684539533521,0.8197228685426162,0.9723544529643455,1.0235122963193775,-0.7723302858553691,-0.9880683927193767,0.24177140299032787,1.5104821267527546,0.3240066270473089,-1.90936288029695,1.1031982410998094,-1.0977577273814236,-0.6268756195357855,-0.17024881211190573,1.6349396868065988,-1.281632390482404,-1.369913972744195,-0.19593277154847225,-1.2485731955501573,1.404552219098374,-0.5274365471314493,-0.44092225346961555,-1.0491567408380902,-0.7357776787506887,-0.15243506688100544,-0.7047651886383794,1.219466195719851,-0.414601823333276,-2.7908942345780168,-2.2411689481072306,0.18083965327063725,-0.15151523960018162,-0.4517657092857894,0.9927832147227739,0.24193645475487033,-0.5105738723950974,0.2988534401974377,0.009113678745944615,1.404902765830761,1.4991550893366712,0.9357843945369488,-0.09556995384429595,1.2140850669421401,0.7418105449638375,-1.1899254031942996,2.2542754532893645,-0.5420586052793077,-0.01249247573849786,-0.27325671376241933,0.9838205670907701,1.3698640635450432,-0.38021839260064844,-0.2721913737024253,0.20532582736683258,0.3413329230906213,1.2272116192293003,1.104377626621635,-2.5632992362806606,-0.5597664916276317,1.2086081267906092,0.2670219881074668,0.5483888876667379,0.961035468986979,-0.36825039641486085,0.34059059889154825,-1.8649672525127854,0.09669400269649453,1.326529300180918,-0.5658259997520977,-0.3599837272634119,1.4159131070054576,-1.5255859384485877,0.8817051609524431,0.0901828937610591,-1.1292763015939253,0.7443053720207518,0.2121763034841361,0.08759439014810892,0.4141962952372725,-0.7424822976450546,-0.8745229494850951,0.13919530117094128,-1.0989108467408129,1.0946555354665084,-0.9677935529156402,-0.19563813827761825,-0.19595966673445786,-0.9687153390878962,0.05951905448847641,0.839632814312218,-1.4279987317999616,0.738020238042697,-0.2798845902882226,-0.18322671298030951,-1.448073587708047,0.45571655305876874,-0.2542113137558483,-0.933899783730624,-0.45954856654908427,0.6717981043594805,0.791118984926067,-1.474076032732944,-0.49039728730576915,0.185485668861812,-0.074423117167162,1.022547373015571,-0.14636835923938785,0.7027717570659885,0.8190599224406516,-0.3777617332087278,1.777959603501752,-0.8900401678552913,0.3839921395671437,-0.13897327241505628,1.4210537016901907,-1.8071283659337554,-0.6063941198880582,-0.8072658473621892,-0.9705853450242022,-0.5005122320712426,1.7263189465857522,0.8462374123657451,-0.17947560324532852,-0.29581100896773155,-0.3636106707209423,0.9069882370225214,-2.3804690365346577,-1.1648097291103627,-0.8602762829147041,-0.7707088762216882,0.8161872841031507,-1.9066625080538977,1.6625281307286446,-1.8515279817331458,1.0857433472897846,-0.9289869094933203,2.7181978918854655,0.2558080201622237,-1.2443607406053083,-1.8406386176957468,1.2588908128184302,-1.0242000854054905,0.10314946151556201,-0.016753630810475786,0.8379074475766622,0.61019944567419,0.19932044546826325,-1.0756534644897673,-0.012513922927383776,-0.8159518083593977,0.3796054754996264,0.4243370887829271,1.3262991957265073,0.6844341043376888,-1.1171694301478756,0.7336281671313238,0.6147426649164572,-0.7217358125626246,0.4219475901094399,0.8731242279151323,2.0636513326180186,0.14702331842661956,-0.31078968592865924,-1.2067813568540813,0.5356977205246708,0.28108393898281836,0.7489041449474183,1.0680368627645611,0.1862468204666871,0.8678795868179884,0.1050354876890061,1.3432319738188025,0.11552707476511358,0.013711422506430053,-0.916841723609218,-0.7926518503303284,0.35125312421719146,-0.5302011520907064,-0.4140719536125548,-0.2050195988751169,0.5648748044552677,-3.064800482505433,-0.4841250516132817,-1.305580885308176,-0.9817473976693237,-0.8488895588623401,0.008730788510092168,-0.5026956204263193,-0.8771875161933576,-1.2180291828827958,-0.06902074372482991,1.1987468631885982,1.2984139262012508,-0.4630193317895061,0.720346482950109,-0.24831117984970966,0.7181120460152632,0.7945239699314206,0.28374937921432414,0.7157578127045728,-0.35513296213889917,1.4209484493274813,0.26540786151546336,0.8898391264040384,0.14255101445548155,0.0032068268331731185,-0.6671660170003195,0.022366611216438872,0.07878078073444195,0.34197645766567414,2.0757970363747718,-1.8593055884116705,-0.25678085858411787,-1.13561888170855,1.1094019570722784,-0.1570166336785825,-0.009939560048638652,1.8219939249514792,0.31050811101284703,0.8997816378760153,0.48935658085186307,2.1125127017298144,0.25911997935131,1.278354799935499,-0.04874548015616842,0.062047211467902465,0.7880336860641423,0.6482787895919094,-0.8643128722211646,-0.17704890831657638,0.4278561655809566,-0.6725978300900635,0.7532156726464722,1.1267148685818746,-0.31460266776774853,-1.8699249057409486,0.1408877440611983,1.7625408446618822,1.4013211434780122,-0.2624180178676363,1.2751848807258628,0.36232204085270214,1.0278038875962163,0.9431832944734982,-0.4773737329192406,0.4092995418924496,1.1042127709161387,1.0196077126208907,-0.7066993182145354,-0.09062026401885091,0.9042222309598213,0.5837678403386827,-1.4622035877878476,0.03549483280717214,0.17634186503378568,0.6202511852217657,0.16988502660133944,-1.4394027604626216,-1.0813220488114192,0.09199886469050884,0.7495381469822144,-0.49827148321964065,0.6071546695965455,0.3233816842508152,-1.156315585332376,-0.7634740396283455,0.3984747772632237,-0.060217263135913225,1.7956788416668943,2.542600737537201,0.4994194955431525,0.27816577279541177,1.4073050107990102,-0.10232046015307393,-0.26349249085945664,-1.0256316375161283,1.772056790723303,0.24224504535957941,0.3006408983130885,1.6918640857943321,-1.3297808013553156,0.25809765563625886,-0.59239277095806,-0.6461180348748141,-0.44561532108747853,-0.651478543644362,0.10768121655458111,-1.3224587343715255,0.03164819185801112,-0.9666691403812319,2.419495372268247,-2.4087828344100735,-0.17068488580004607,-1.1722470993510372,0.0561233561348205,-0.29642066578134507,2.0279502832089147,0.08116448281928121,0.7782972437314664,2.170570773151476,-0.0044883036898510946,0.4989056527058948,0.875752378743303,1.6663774874096755,0.2662860177778213,-2.1508197035134144,-2.421473591109148,0.4237028842587805,0.25618830916428026,0.326716147497096,-0.8180977882301173,0.8549382024429162,1.7337276636574148,-0.30387887964708105,0.6965555546694839,-1.209562860820719,1.4135875403846951,0.812097701627545,0.3514312359627664,0.17641104959854786,0.2296601538600224,-2.66691510742759,-0.7817786599740923,0.31064058351725005,0.01395076192648793,-1.488701457266969,-1.846869179619965,0.5651796050978727,-2.3227913549856503,-0.40442735238775834,-0.37389646392119275,0.9045194646556894,-0.6249478771948798,0.8568279956458877,1.3198008913951431,0.06386421249570061,-1.923053763380045,0.5285409862347922,0.8782753403978073,-1.2613677308164752,0.9410515378885274,-0.15020838442364917,0.10790163585921395,1.990399343992763,-0.6620782088489374,1.7274352947962985,0.9178261489669293,-1.300251997364336,-0.4672890728063471,0.3981479519984537,0.33455737600563284,-0.7033165154098072,-1.7609189151542708,2.1432201732362053,-1.4701393475965883,0.6568684421145592,0.5089215288237326,-0.9146330678204414,1.8556579879031903,0.8844976541214351,0.8447609447427107,-0.4706295702946832,-0.12456612453966409,0.5223446349854642,0.08449757841392713,0.9787979964751297,-0.019199309498494584,-0.10367929655578426,0.9128643556526228,0.845790808096461,-0.08668882122786092,-0.5892828927299268,2.4409667723859343,-0.6517484968774027,-0.24314076313647046,2.4626932639304373,0.05783164918446414,-0.5735281551464478,-1.0791443596965073,0.3612375674309647,2.2925030613818445,0.6766843636127455,-1.2251603240426008,0.27366058123833703,-0.3005690373566258,-1.4834427505217584,0.18864489835739712,1.3242267787263162,-0.5369316064649243,-0.29684323942868623,-0.2931442869979767,-1.151864864829075,-1.9489129131553868,-0.35868926256358974,0.727890929774501,-0.15404955758732103,-0.25602379937052183,1.9729624115118982,-0.5432877111788449,-1.269406829233057,1.614074656830744,-0.3584460460015811,1.4688419240738126,-2.2353018147054335,0.12369658194148934,1.3007585619195852,-0.6823619769354514,-0.0537007867762153,-0.536046057129287,-1.9680509173354397,-0.2698358745556005,-1.1449847579260344,-0.6008853503374222,-1.1409468471687618,-1.0169347346564983,-0.8828202033345894,-1.2861171622147065,0.9692905737581483,0.30420920021187337,-0.8319940540088501,-1.3697441424872667,0.7169045505942391,1.4351117406080653,-1.21483658928051,0.30526382670873164,2.5727270702161835,0.5387278599034516,0.6590774463170339,0.49609880272419116,-0.7316574666629463,-0.49560644857268116,0.9998569447827164,0.33910416589228415,0.9945594888800132,-0.9445584322383755,0.9190383834955681,0.33547520116013435,-0.6739295574048285,0.07582519956010776,-0.6737396061681181,-1.2268165052238267,0.3049735109252614,0.7839621781139676,1.0892869291799647,1.640280025549598,-0.8344705002684724,-1.4272379343033967,1.8426524265790496,1.201809065960673,-0.1983990659835364,-0.33192458053657947,-2.0659219089595067,-0.043547281813813093,-0.45523998856628983,-1.6403193532446934,0.6687239711661691,-0.5042776465498529,-0.37523703969656896,0.7429489574872914,0.02802768417862022,-1.070974660874209,0.03442542234621025,1.5987272531045948,1.2338883414968846,-0.24432324349031798,-0.7827205352954498,-1.1741593852853751,0.6333462241460843,-2.55038747229211,0.23940038481389667,0.2865789396208104,-0.2963722329100241,0.6189527385317501,-0.8717095513510615,-0.05285760232344006,-0.968980895328761,0.8825671746053845,1.1257945014393744,-1.2022745004316362,0.8616968236186666,-0.9603090913532758,0.5777775590828547,1.1948615454961051,0.07051477974859462,-1.9397152055979856,-1.2403731982962911,1.0652296899064984,1.226888021164865,0.6723669150977968,-1.2727718339730796,0.20057759930134764,-0.19006355007180636,-0.3399704729128217,-0.7742677808677285,-1.2795716026582542,-0.6008967523771077,-1.2121564354817134,0.23688766464491473,1.9158024529227777,-0.3021695485372087,0.5268948577064745,-1.0661813770402744,-0.7173481509055941,2.3046810068406014,-1.067724803722399,0.38910743239923723,-0.4793934110116364,-1.6121006131183124,-1.2093315217786251,-0.7011603672722017,0.04594299430635943,-0.7354333146678006,-0.8761375723241206,0.061137199106223,1.2651626354594496,-0.17575202876895887,-0.27561483744844345,-1.5859549136176334,1.4945065053084432,-0.900924689220603,0.5908205657557017,0.38463332299667197,-1.3103058819496372,1.3575459292981067,0.10355497990704053,-0.11400630844596832,1.6243304846456839,0.11839890841477883,0.05791727445068717,-0.25356359843036613,-1.8956121269974855,-0.05528657395101722,-0.4214899922246996,0.08251561057603918,0.7592967914350558,-0.2668826845021553,-0.633158443982216,0.8923850248050718,-1.3623993663321476,-1.0735478108363887,-2.1286518476528826,-0.5392829964658732,2.023798185380656,1.8952310989220167,-0.4224479041253591,1.1449472937750587,0.14163658735420717,0.6988023345954761,-0.5829273809187304,-1.2543716908636857,-0.1494412557675123,-0.9941796828478328,-0.6168536682372214,0.19844531059159087,-0.4598339490019057,0.28693479077669454,-0.002109467541671378,0.5348683445480905,2.5020064687788754,1.3842266841015747,-0.24635753523536844,1.549041276102489,-0.09554440033964827,-0.37032356514926495,1.1950410567635241,0.7477200923184676,-0.9792517159413072,0.031329886987459615,-0.968395176805899,1.2369973525978786,1.673023893615962,-0.3024254370294277,-0.4438472840968737,-1.1477316947530016,0.8681499603639105,0.334059252104856,-0.17871267206898603,-0.5927527028024288,2.0386947165083784,-0.10353003909564498,0.09997415507331824,-0.10295473789335226,1.2220526711328217,-0.6880891316310619,0.025567043864230813,-0.0012197465963647647,1.6153072722359025,0.23252158194414763,-0.0064368958386073274,0.5109014245159308,0.2570910437581396,-0.7434708102102804,-0.6177341042028985,-0.4268650831884757,-0.39489848700135816,-0.20048408564784578,0.3900139390841064,0.9216888390265542,-0.42426836099035126,-0.9488981415885542,0.8941713531141089,0.7447848967342947,-1.9353542535304984,-0.19010427347493222,0.5221397740342424,0.5676477437267302,0.21802058740465596,-0.3685782395982187,0.4812756705966927,-1.189329453695909,0.23370116186052373,-0.27213412849795454,1.6807488798627739,-0.3644949971800649,1.2848332085434022,0.8242819047193088,0.5810964226151305,-0.19024709931589365,-0.896309995553333,-0.44059164343442286,-2.209254442126772,0.22793377288814762,-0.9847084144433057,-1.1474075633255911,0.05981404555399189,0.4909306637162865,-0.07118245119674416,-0.8282176213228836,0.5892977946051453,-1.6937920010050027,0.851198248016464,0.7344175799381721,0.5416423832130207,1.185010726737503,0.695992048376487,-1.894987113490657,-1.4711639412558921,0.9607682303298711,0.43975296620027715,0.689052260680187,0.811968127531019,-0.29883253687404415,0.9024503161726184,0.43821775148884134,0.27920199733101186,0.006042154419405174,-0.6279058016589152,-1.5414272785685135,-0.7153765715581805,0.21773786332641185,2.7521044141728743,-0.4353156199072523,-1.1060510376379744,-2.19586345408302,-0.7149552049423001,-0.25201689159379265,0.6812958792908516,0.8202335062963001,-1.0343165974281114,-1.0931591016459723,0.5824211073306773,1.5303835012564382,1.6052214404030305,0.9851478096579722,0.5797532302200665,0.03497299006604775,-0.2339329848967712,0.10244801072708995,0.180921251800485,1.1360782198372674,-0.9641230884699848,-1.9807289837732827,-0.4986636335430608,0.5567525758319368,-0.822846504557857,-0.84977017755536,-0.2321956833021199,-1.7879243408161452,-0.304937058640139,-1.2880089540252408,-0.6897273382395196,-1.5153290753671356,-0.8775763474085007,-1.1271549556150504,-1.1777632989544584,0.2242163140159442,-0.7769082511992457,0.07537533703583409,-0.9526231314585168,1.2261932881589452,-0.32270590477779354,1.4828530208930102,0.368474951971865,0.25705168294362074,0.029300786043937734,-0.0705563264185672,-0.30570442064978604,-1.0349251310672067,-0.9324934044980466,-0.6517943391510365,-1.0710811507472062,-0.44818834112429967,-0.40000870527796323,-0.264900655194727,0.854476554516275,1.5489162426566379,0.8970692761355341,-0.22933859127993136,-0.702487288067723,0.2736550389657503,-0.22961061109875897,1.0044044418200322,0.8581981987463504,0.3067922614845921,-0.3651756199066655,0.4803306928685353,-0.361901105971888,0.0533355654391766,-1.2059961624355582,0.22390915809771061,1.0012547892802488,1.1830687063296061,-1.035566191412404,1.1322520060912393,-0.5625286669477705,0.3977997688197847,-0.8613965670993451,0.11151679396516519,1.9791121714689013,0.23500406724791223,0.13486722727402756,0.7000404606633058,1.6667878059687482,1.3131389377557703,0.045009966511619794,-1.3113662666991934,-0.023817005588394044,0.5591672229152406,0.42776943223784425,-1.3357176012836287,0.07717096139756888,-0.7389501878690646,-1.7757184276581952,-0.49703562995108586,0.07196227763412366,-0.7296797195040922,0.10432701334421292,0.2637454760291156,-0.7231732784263377,0.12384679434543078,-0.9556524284436385,-0.08419739242724275,-0.5943668221534311,-0.6411915141057434,1.3983934180942241,-1.201675878467897,0.6143975341676395,-1.9895896299257745,1.3854420608977158,-0.6296844445799883,-0.2521479896142054,0.28312780500885054,-0.25217063720799626,-3.049442321448261,1.0860472650835882,0.5441921335457527,-1.3021833934804905,-1.8063719204380633,-0.8399307366753049,0.008089632596003028,0.5488576665404675,-0.006851104025064234,-0.30893618009028273,-0.7842896095891535,0.41309669942411675,-0.25910084499489444,-0.26849591316771315,1.3479622469862935,1.5842184396698955,-0.14820470590499674,-0.6930314493680187,-1.1606642875678164,-0.10342387987914696,-1.7753429539471568,1.0620130994438335,-1.4693526426311272,0.49553451807972015,-1.411968727193103,-0.18465128367854552,-0.2416492479799183,-1.0504262837372011,-1.106761299913864,0.7099742655273261,0.5715489394862486,-1.308499941179441,-0.018364698607090772,-0.4680697372761507,1.2604770342299356,2.3337197713400006,1.2902895279547626,-1.0699868663229026,-0.8413971007903015,0.7977781482024946,1.8745531002193492,0.4180328789113602,-0.4430690817314931,1.295003236606799,1.0673601092230076,0.03250847220490271,2.5612920856907455,-0.5339751279548345,0.1118450292377074,-1.0466464267606181,0.7281674599308019,-0.14667380464762633,0.5361439973357373,-0.6455801391345413,-0.003974688822395513,0.18650529691373768,0.5465332958215213,-0.7409395820037273,0.865347184244655,-0.8576406987567498,-0.014707104160190932,0.12128870597613926,-2.552401075528895,-0.8502709688960564,0.07972223853980098,0.42710363900320003,-0.9175644078109031,-0.5534845117991678,-1.866607457952943,-0.8664022492526159,-0.6769382845290448,0.10706738781324979,0.48177951746660097,-0.45115751066585996,-0.4060255662139269,2.425576593171324,0.3677675916012053,0.3759087666496739,-0.542667797944678,0.06736904474971535,-0.6190833801474368,-1.9407200852571862,0.9035833910585847,2.7605214224198704,1.0001430623038812,-0.023567870459518723,1.632473911789778,0.507545505718247,-0.3458339981962568,0.7966259563230541,0.25532677946442306,1.6278426424530272,-0.02605563992992214,-1.55167745133505,0.09613407254468442,2.0448569260001697,0.37320499473950103,-0.9504008810515431,-0.43401725973804073,0.8735151230883483,-0.5766507211601242,-0.09506481952825484,0.3588500574902766,-0.3087401225435287,0.2583356780679459,1.217992367859612,-2.9722007220814235,0.09040085846368597,-0.2376031516635789,0.6896901649634558,-0.4532931001574331,-0.1909458644408877,0.4689370555886229,-0.934576945567105,-0.7192221300201279,-1.8398829128977152,-0.18448552619365305,-0.2246600491890016,-1.065579094396493,0.811295323380187,1.9933806746486273,0.24538507089852163,-0.78838604642682,-1.373912953963199,-0.08428816983457253,-1.428356171560874,-0.4424189913034202,0.844440903074474,0.5949460105198968,1.59972816797384,-1.3547675387932836,-0.5974647383829457,-1.5089059509221803,0.72905972891875,1.4564509488578008,-0.7272453241944492,-1.410145248303456,-2.5930506069097023,1.2368168538700746,-0.7049341441972579,-0.44848057408554637,-1.2993699000405197,0.31177485394206667,0.19570923601683085,0.35650085207150556,-0.005109012563237837,0.03943174164149487,-0.6253266771244538,-1.5622674545660864,0.8994214817099021,2.1921030200975493,-0.13506176881430404,-1.2420719237905689,-0.9637549905424995,0.024492209539889943,1.35467898159326,1.8724926029014766,-0.09795706967647269,-0.3367809939801128,-0.2995261017262293,0.9291012007077857,-0.9670306662807091,-0.12095575972997835,-1.0269754298305644,-1.637767635791713,-0.5547085477669292,0.7333929816018019,1.809109721300532,-0.28624207895504,1.6814845157354807,0.11842762955559478,0.16519180875746123,-0.7077054762901634,-0.4917891370898812,-0.39983882847402935,-0.28355228549121586,0.24652899184114918,1.5798105933969526,-0.006717090707968717,-0.43641225127171585,-0.7967878953929121,-0.05417425909163411,-1.0434063813234606,1.832043601420747,0.13932035219860225,0.904253932944776,0.4072606355123508,-1.1575920614646462,-0.6875209381124888,0.4372088177480439,-0.7884739605123356,0.17104483186906042,0.3080606159608332,0.3482154688687089,-0.7415221767490614,-2.095017012920495,-0.7486099322475,0.032827836951530555,0.8007350926714922,1.05788025088057,-0.09377541407925782,0.3361908212667744,-0.14939059680298464,0.12240819354519121,0.953094405207546,-0.025266379051185756,-0.24041826273730132,-0.8151450647811614,-0.657027127303431,-1.112927925779855,2.110560127446943,0.3405886873137777,-0.015063859983813457,-1.5410703842549742,0.6466429577306728,-0.9897954418784926,0.690358114107804,0.47017122351836915,0.6402586680685467,-0.04547352026453417,0.549558030851289,0.7093085998842088,-0.5111637750441804,-0.24986116328359,0.35472850814808143,0.8322048584054235,0.2455082589772731,0.038793079303608695,0.9582031623361112,-0.06374488982803567,0.48384403703897727,0.42529055419172,1.7340724053093062,1.284421793690901,-1.2938391748946128,-1.0398180577969882,-0.40286932694547767,-0.49224369719408756,-0.9549795633306299,-2.4088956812808298,-1.4684237125378443,-0.47068608650182425,0.9088724269419982,0.8010599412563421,-1.312414088144675,0.2808519156391273,0.14046850613131742,0.5540722895436236,0.1951743424818287,1.2621675624344817,-0.39681498754150984,-0.3767583364511968,-1.279632828481682,-0.028583679864970162,0.008028050567350453,0.14082951278234349,-1.5876892180334907,0.5398485768142516,0.6465629076478865,-0.20120561220988478,0.006859411486852795,-0.21243144269481581,2.1679812463556605,1.5781777961561387,-0.17205084628979594,-1.1647111850873977,0.8795410956143017,-0.9430774373023331,0.5487581111961122,0.5075185691763315,2.608276870137376,0.07144488400482732,-0.6022528621477454,-0.16025746322350404,1.0708339425191562,-0.09682144073183938,2.0971240109494427,0.933522550281925,2.2301010375850123,0.13217327567743345,-0.27876288098136576,2.1412340890532677,0.12097433387542067,-0.05633677487311188,2.243192307427613,0.39303325279367196,-0.6967708728159139,-1.1405915312470656,1.731876877289144,-0.7141645872874062,0.9446189208867273,0.6663424449997936,-0.11397649726101075,-0.299890591841999,2.8332369364427503,-0.728423525076929,-0.578097857492259,0.4312434773945334,0.3646991876816898,-0.6999318459338728,2.0831151005725266,1.2589543565180932,-0.5069102807601983,-0.1117960270163433,0.5870302352855127,0.5862103501025918,0.6171729825960165,-0.8490266730346129,0.3908364584521507,0.12297688214025426,-1.7840473705598805,0.09613473420297051,-1.2151085102665795,0.2613249990892008,0.3917133112604233,0.1340459314510714,0.8451480257091591,-0.2491312106736161,0.7665501453699273,-2.1648748435183136,0.9109280591308717,0.8574084956974196,-1.1850054836631112,0.4254918075868025,0.15351710597110949,1.9822681305183925,-0.17301208869608287,1.386975041403768,-0.5431607536963665,-0.0566886664188805,-1.242599259114693,-1.2056330135335687,1.685379482647,1.1510025492912637,2.357510687989396,0.8355145041859923,-0.5761932201748282,-0.4942520148835336,-1.2941581385276935,-1.5626031741586377,0.0713698004700481,-0.028371427697112157,1.1877496445268796,1.0141786065715797,-1.533624597827551,0.2507335282026609,-1.8524665660139878,-0.41009132609829346,-0.7676713772943432,-0.30171732723218264,-1.3336342417369933,1.1647553496466876,2.13345041069429,-0.23239206794729067,1.19051644333857,-2.6273634817563347,0.11722631842458012,-0.859528727803681,-0.23485946935897983,0.4552468214950111,2.108867269382422,0.5398822192622366,-0.1631072020189904,-0.24342659452640641,0.5435366431699418,1.0078438161887981,-2.196781999949882,-0.42750110582355677,-2.0590170487733475,0.5206398346281517,2.195261541690349,-0.7566417386483654,-0.34225487344430017,0.3901296153966047,0.23935805991646333,0.22096267404150785,-0.3824335007031151,-0.6247631405451411,0.6363849150909614,-1.6786073641877963,0.7722498413852127,0.5551640364949113,-0.5990453030290309,-0.842625540321714,-0.4011730746030603,-1.314475772214459,2.299601623552796,0.5318470500758163,-0.683391249589213,0.7998341783435645,1.5480980487442497,-1.7378059158356984,0.7818019577254136,-0.2694143124593592,-0.7985299278297041,-0.02332909951848132,0.6736950890238015,0.2323455352838524,0.22955056819335318,0.583037974286543,-0.027578736280075653,-1.5056334248168588,1.5057647261942602,0.19544015726596187,-0.6306078171213103,-1.1554575623923602,-1.866438689694975,1.8056694959770463,1.353472606740964,0.3147317029434646,-0.2977705132139908,-0.4111477855825424,-1.3933223332315972,-0.47796715191744793,0.280041743592277,-0.5544386779559887,0.0534656348638386,-0.09843798664218288,1.9634735934088765,-1.6905688421562846,0.5744076266763838,1.2063922576572501,-0.4198587192997873,0.23518523080766582,-0.5961223796252857,1.0401412191486838,0.22892084064803897,1.2669059131246267,-1.142261021872691,-0.35918230575820503,-0.8800405207105608,0.30401017169747524,-0.6998465141407794,-0.6114159296034706,-0.13187567681613072,-1.886335472556188,0.16684893407581283,-0.6031624628705917,-0.9370108169948407,0.2432984468806058,-1.2342409865515835,-0.8735760793398782,1.3936591004086394,0.2832085501318837,-0.45131666652431446,-1.7436580749063395,1.4448860448566907,2.0039235415680485,-0.5018640317370757,-1.9755988870516061,-0.10087964826198474,1.3266712305300354,-0.7718857203778198,-2.3908278772680207,-0.07844332372144383,0.32069332621444835,-0.4358940074131709,0.7043580460929173,-0.7900754558783222,-2.10643990530462,-1.9908600237682315,0.19230992793626128,-0.7844977639750453,0.011778015352657399,0.3631683225860756,-1.158784441979609,1.1100776998333783,1.2435611096343335,-0.12266543580808777,0.5526983002308674,-0.7214208540850656,-1.6667138178252818,-0.3311221381736893,-0.4192674658688768,1.0313525580332896,0.5623045549415204,0.4738006636868103,1.035645605427171,1.455499495952899,-1.1373619044913408,1.7722425842178808,-1.6546388781450299,0.28756952007084724,0.7257219223433127,-0.802811515651045,0.30569091410725613,-0.8441306544111443,-0.8156926955519278,-0.3403391488828762,-0.46209919789229775,-0.2517662188299,-0.38047410803215737,0.353916523490445,-0.1867296085231889,-0.8696650040703445,-0.16065153151507208,-0.6540019321351879,0.714081710702046,0.10278172643196895,0.8428961960603526,0.10720415439785408,-0.9396074339927224,0.3375957438016125,-1.1871770258310146,-1.272969018700718,-1.0521916841302903,-0.40570675065209216,0.3252771535915009,0.09473649506289399,-1.3364636395811993,-0.6435416576078661,0.5714599706490484,1.0254347864707818,1.0208787494022393,0.8252310300115013,-1.4745884938551637,-1.4539937337330107,1.0459755716601615,0.11941146246459523,0.29072381111680695,-0.9217758608899711,1.7858654391449782,-1.048566170298058,1.4475976233684673,1.4160568558849722,-0.7430798764481976,1.3436802131574148,-1.4845472127273136,1.8512046477595308,-0.6440339078577014,1.5210592443561204,-0.054896803818157355,0.9163294556875299,0.6877231022768332,0.8791267366980764,0.17101269949099654,1.4222265796463018,0.1625923830514093,-0.19636379635063933,-0.09190473212184011,0.49591992177837335,-2.341392808148818,2.5413543738670734,0.05027071281970602,1.156783496174255,-0.24913531623237417,0.3569116347926788,-0.538010906507468,0.09818349912077434,-0.38312612010278074,1.307093720923112,-0.19379477532659098,1.636488509755138,0.03992473428460492,0.9493842698955413,-1.801703009541594,-0.6997173613785361,1.6007006330523612,-0.4414272926580313,-1.5656502295658576,0.13713818554894278,-0.13163102028980253,0.1442543174575286,-1.8253717500206557,0.6059141342439474,-0.46946525058201566,-0.3665200279367319,1.2427843879179918,-2.0245372926489282,-2.0504757522423405,0.7927262135157261,0.37017524882822617,0.990624399193544,-0.20562159169519167,0.6294840889775876,0.9607028750713509,-1.5883185793882748,0.9232641433160323,0.8751160602150743,0.7657702155261292,-0.09849209852691211,-0.41054687355528663,-0.4815570373757001,-1.9825602718899613,0.5503599508327761,-0.3811276871963754,0.047931300910945364,-0.14605393133783834,-0.8213983786241998,0.8304073422103417,0.5752133925098152,0.00153617605537147,-0.09630883566024598,-1.7730873775347504,1.4136643041228802,0.5475505802012143,-1.204788708717815,-0.7072941929476676,1.6021578145305593,-5.579511202511599e-06,0.7610069698714285,-0.14027199935296042,1.824831585851487,-1.2587716146773322,-0.8503607764635075,3.0570921101123303,0.588544917962304,1.2473329494152121,-0.40928106558728744,0.46400027278128114,0.1048484254580791,-1.6192930729903048,-1.234812070287014,0.2604708497780573,0.005817170716988387,1.4126839780913372,0.8402975908861362,-1.8397577489969943,1.3075427636711783,-1.0064436737380762,-1.2281949500426605,0.9134391814666072,1.1975091802700644,0.23397890375152608,0.44914168238417823,-0.4313459008015403,0.30733611400030914,0.0835614711807169,2.0140719798846427,-0.4671792344511679,-0.456869602554341,0.7162406190703516,0.5350107403640745,1.3234197099847709,0.2325567966679178,0.3793261478053902,-0.8203902955939099,-0.5914027605996688,0.3718698021487487,0.03733957146407731,0.6431274887215589,1.7812328903647716,-0.7179428646435752,0.39399144115089807,-0.7916730072071346,-0.3255838107778837,-1.9264737962277232,0.2740823083280172,-0.16025560222646618,1.8405822011247375,1.4801227287693774,1.0492277488318271,0.6690387986779491,1.6737751174183857,-1.8358257164791376,-1.1578381794026782,-1.656768770758164,-1.3922823951794414,1.865341864732956,-0.9691835850036736,1.1962667231600437,0.8968120330395564,-0.31548130285188963,1.2235733661549013,0.2063326052545958,0.00656002495526554,0.5992513027256468,-0.9265497103980175,-0.2897870105637903,1.1950897804938103,-0.673512734905742,-0.5648511396146557,-1.6166491024455325,0.7458118744891664,-0.06427502462938188,-0.13421154405875002,0.39595397202349913,-1.857942044004946,0.6940214426518502,0.29488380190983393,-2.623579257796062,-0.06465073600462583,-0.13395505188111126,0.9263600585425039,-1.2135826321548473,-0.10959161067659116,-0.5413070456002077,-0.962589000782982,-2.103250515012246,-0.014141070641661846,0.7245277593466146,-0.9282584882490109,0.7748250711871941,1.6105317236118935,2.502704458491481,-0.0528676542846476,1.3246621444953104,-1.7280228845220802,0.7060566487187683,-0.6670962470258324,0.7746222967894387,0.9930680165753505,0.1904597624174096,-0.8348298236696061,-0.5965087976205536,1.4789459646449723,0.6397343015747025,0.040760989344784275,0.4438748580374994,0.8693035577641515,0.5950026358170425,-0.047212955310426796,-0.3807501381388765,1.5596564057883278,1.949683414098706,0.10522741627337406,-0.469371084910487,0.013871975490577927,-3.166331995753341,0.9983004701884834,1.964426273047587,-1.3841052564890681,0.6473245177252978,0.2321766750277704,0.46390179030018935,-0.3813149348953103,1.1599694983740143,0.5119706570733145,0.8355370356095244,-1.799744398818019,-0.7602796139431623,-0.7212742229763602,1.6140308153654765,0.36070589677563164,-1.0486992660618986,0.9836887559420059,-0.09075112598077703,-0.4623215192956811,-0.3557019193698097,0.4625636717822336,-0.3569435172103973,-2.160936027725935,-1.3111459838800077,0.40856760678853876,-1.826224900077778,0.9350793915027094,-0.07882378599358623,1.943375651086299,0.15273125782697392,0.2279962201426337,-0.2771866182609222,-0.788407394210459,1.9325544765141174,0.3132977615585777,-0.26969983156204824,-0.0032433306908185053,1.391416209599937,-0.8351838025355917,2.3612313809146626,1.8314273005983757,0.6902790498811683,-1.4558552278331867,0.14387424716753963,1.4026557729633529,-0.009794891829332908,-2.0356993588176753,-2.991008545537987,1.0274573148450337,-1.5099828599092393,0.1332187332852605,0.4357686242043305,-1.2472641533589846,0.1892268779735384,-0.05884605817581805,1.4872847796851174,0.2544341672272626,0.4574595144929178,0.5988086760359689,-0.5220940095422906,-0.544647606072358,2.850364686416001,0.7543957315815859,-2.033384312589785,0.6484617706246713,-0.9990976201242222,0.19120027263485867,0.6831664583526056,-1.2848058483886264,-0.41044620504940815,1.5727105599415654,-0.5391376618223015,-0.2306232528844037,1.7821831139403337,-0.8272415913779915,1.1999631019844985,-0.13187873239934125,-0.36111595870425445,-0.5099073682826001,-0.33412323045092945,-1.380756664041274,0.6839648594089927,-0.15747526490006336,0.0931584376499049,-1.5045594922136731,0.11457901083835659,-0.008038419511603393,1.0885850915448523,-1.2578820701458673,0.2066486384001494,0.8359157702043518,0.44746783492066755,-0.16843047689250926,-1.8094408867296892,2.7655536952464064,0.4459271999200616,-1.1522015064085542,0.45328270774475204,-0.4388627668550488,-0.21024800697102336,-0.600253196136185,0.151911234558798,-0.6204490302348894,-0.3251943972277467,1.0134810499587705,1.478326523799757,0.011680856172416001,0.1622775998639722,-0.18048861168359645,-0.3180420717756567,-0.6306667283482741,-0.9984553858768156,-0.22353098761987628,-0.7616171500661709,1.2315219661370844,-0.7785239850569988,0.6872078305462204,-0.01971170124966158,0.9864876920915405,0.40984282175199144,-0.08003092743957341,-0.10333855099752118,0.6414887752020159,-0.014946406297380515,-0.02667078630712676,-0.9788889567899279,-1.1683990066269607,-1.3620200203153714,-0.7598089145764272,-0.039927461536188154,0.6531219165962745,-1.0050035108940512,0.08877928424732492,0.18162156478161218,-1.614785604874144,0.7178365702901056,-0.16294578961321027,1.347270606410923,-1.6236249630345443,-0.7124621201227285,1.4892837215638566,-0.22410947270770606,0.42526180273096065,-0.19547965208935672,-0.9464970387402277,1.5248142852943412,1.1832728938342796,0.022301878966018433,0.6382220071739964,0.42553125699273253,-0.9433908784454716,-0.9917249319622644,-0.6400698202768893,0.003897238980645859,-1.371896271231593,-0.514003218991007,-1.3469917268298945,2.1894287767744305,-0.570487851059021,-0.28390595072541974,-1.7152637836667735,-0.7157392469896323,1.3315028832653582,-0.2839599503636074,0.6059569432919008,-1.9669891206670143,-0.9185396218860904,-0.4228268967338386,0.1862410052397992,0.6469079096695551,1.1271579047246745,-0.8242841861571851,0.20719788966675773,-0.8088354707157727,-0.2607665951624569,-0.7996797312622138,-0.564802910648721,-0.17310553379898935,-1.4452223662493826,-0.47788358270764314,-0.019931671847240703,-0.36278741195821507,-0.030350331060791873,-1.1231778766438405,1.5081296591212248,0.580713308971926,-0.10526099604514227,-1.3271848462401086,-2.0152885723792924,-0.398757171703036,0.272756600065593,-0.1161102485195099,1.071586996097545,-1.8301630714843582,0.45677886516782956,1.3820663151778176,-1.3742514152361067,0.5994345128021141,-0.22154225062512312,-0.44779246162002284,1.0291702404416339,1.4347349237507252,-1.2192995577477475,-1.2648623403574841,0.43560007628397185,-0.1696429994176648,0.5671164939857829,-2.205548453402961,-0.4595029831858837,-0.6939344535348159,-1.8411769425399067,-0.5730150162575964,-0.06570830576964816,0.9645172709982012,0.3047461844047345,-0.8153890931574738,0.09412619358198712,-0.0727440910225704,-0.357657546005404,0.8645359877681539,0.39661198509678525,-0.10274407891528001,0.3457815517555768,-0.16271453211592204,-0.5548658029989898,1.5180000005122238,-0.3341121297351151,-0.25154651334681627,0.8354648956018735,-0.28149991785410317,1.2028584171943193,0.23913292796459645,-0.6424702077179226,-2.1788777065432163,-0.0031188568838696343,-0.5029837099415365,-0.1432447489071826,-1.7391733691395848,-0.12356500321542702,1.2278259832651406,0.436444865242317,0.15966015033251071,-0.24750211154190585,0.5605074909724705,1.7012388960607971,-0.4592698307324492,-2.245575841400929,-0.48548459893287293,0.6567074577661618,-0.3930553262545764,-0.11336859619932695,-0.9891213826987255,0.9770735448387805,0.5105975068543128,1.0947717993580615,-0.08409107526987965,0.18059834520160142,-0.8226432053489018,-0.5047408909649866,-1.2888156615816329,0.6502555450678146,-0.9346844251580985,-1.2393414148464037,0.12377495255110486,1.8240976768726325,0.6704243805124833,-0.7019406671204592,-0.08451890353690432,1.4497719966139835,-1.3183460472663937,-0.7893618898626718,-0.566655044344879,0.951024675102823,-0.3147640494502886,0.3452149800899153,0.4603203287526379,0.31133958932993594,0.8590226804554754,2.1822502499647705,2.093958770153132,0.09149737566783245,-1.1216524966263843,-0.9435583187133476,0.28938150943647073,-2.036096306795085,0.08905701958996358,0.5192826624007206,-2.0499248325860076,0.22617877556043117,1.2864387899938439,2.4611026449175046,1.7675974557336065,-0.156832307185492,0.43246324117652296,-1.5589012137396074,1.4817633088578663,-2.941922209840373,0.6410170360772073,0.239315271565656,-0.04479597944109596,1.0360950880857511,0.5795392647357844,0.285050298578902,-0.8397944215947413,0.8995800131653657,1.7164238144042638,0.9524210388580215,1.2853200575960526,1.07405439209206,1.2481038268838538,-1.181564835606925,-0.7092858894119876,-0.6053039080967504,1.310280554230839,-0.9543416791128592,0.3835051929684184,-1.5680356267325497,-0.046279961874514906,-0.07080712745262363,0.01707754344554796,0.514192311617676,-0.45772670751754513,-0.9428904526621061,-0.6991741266310124,-0.26663293590474574,0.41739788419958374,-1.2842738749990008,-1.3828323358801977,0.5657752387928753,0.5692064610817907,0.7749051006242093,-0.7923019292508918,0.3690601704288909,0.7903295687623848,1.0268481072162716,0.5311379788090275,-1.4866776122220704,0.9302074018835979,2.1533646576339,-0.0026020821340250744,0.5522259866368145,0.1654601409580799,-0.40769298749338095,1.4719451455932697,0.3127180811553209,-0.09626026109474636,-1.4933253934986654,0.40781114723987444,0.08759511310408008,0.4047948731817973,-0.5764929756536156,1.3281210893622346,-2.3536379818732587,-1.8338523690293531,-0.08060546037625925,-0.05676008555505025,0.008891284320598351,1.1393487356981993,0.9824513998529727,0.02951626480360196,1.2018805771083805,0.8767736737366683,0.856391641758432,-0.4545113918771347,-0.7059360563456837,0.12381837316800418,0.8445042734616808,0.28011120973648335],\"y\":[0.25050609476009283,0.0030004651090658526,0.5524223136429547,-0.6488226077083485,1.2479256640927272,-0.5308153541094189,1.3127910679260282,0.20815765004404002,-1.7846853774338034,-1.5153810993298331,-0.7190671154523401,-1.7973128280099047,-0.06974048358419303,-1.2051736292919975,-0.08481540402581782,-0.747402686407019,0.3655581185664324,-0.3819117538427739,-0.09002410850101102,0.7458214724734473,0.5657700005654962,-2.175652159098188,0.8218414771703706,0.5850746984438395,2.4133844708123235,0.10210801850625217,-0.7911849364539602,0.48370850071065913,0.7087825853878656,-0.9763061224871087,-1.6362116343699058,-1.194075933630571,-1.6547916940724456,1.68545105411234,1.0339064851708382,1.4768519223601213,-0.30071123834539754,-0.6076220935628984,1.0844863157717135,0.4497865453836335,0.6388739036871578,2.0942043951601508,-1.0478555254651905,0.8429429445253769,0.03151718340690123,1.3035433469551228,-0.9756625354441509,1.4402221023212143,-0.7855795477691117,0.009142405713819916,0.6835463803953887,0.8164579972181917,0.02550326272725123,0.5174960269262113,2.5321642162352758,-0.3241456603279669,0.10705913228799893,-0.5502015937927408,1.0098084772295641,0.7848311502410641,0.37358348354400733,0.17021998371161812,-1.889607303010635,0.4527761507556027,0.5592470242016772,-0.2638638728356517,0.9391530774125032,1.7543845033316343,1.392075957644774,1.412808218865146,0.6432418172315634,1.7820328999719086,-0.005708083088053558,0.3094855846012524,-0.14281738581932568,1.1708148011172963,1.5718727237546644,1.6014536911703143,-1.1526391592211633,-0.9790339360435333,-0.10305032210497973,-0.08982088196861504,1.008928656607252,-1.4886058939328828,-1.6694275966018413,-0.13528592268435116,-0.5288761826804271,0.258752436686005,0.4183888795065857,1.2813542572613499,-0.15609759576904034,0.9031784369060536,-0.2568828783103753,-1.0619796336658305,-2.268663823671183,0.1313695046597388,-0.8279654382829856,0.6956399481156238,0.06619508206508863,-0.21015725754332168,0.8694663740622965,0.384880821863838,-0.41336270084838195,0.4466524304973291,0.309615048554639,-0.8453791534628302,0.553689625021151,-0.5484061132309216,-1.9235668119210863,1.212825434224671,-1.3263454759346747,-2.554497136698884,-2.415449069649477,1.2987337354076267,1.1767027187296535,0.43291172823666346,0.7595798838346278,-0.5509918935803204,1.2253068209696876,0.9004049652040135,-0.7916853074041149,1.0717954344179381,-0.23911996272748173,-0.6201637930627024,0.55374551430722,-1.0880456928095108,-0.8737296600891892,1.3242829931913915,0.3668958074367885,0.26105845024133056,-0.7264922840841075,-0.08252218479309162,0.21287085036448083,0.02798604495094648,-0.5646739831057761,-0.5117077014731328,-0.7358074052894166,1.2834012149550995,-1.340044191510235,0.007219686086603071,1.4972614073093489,-0.04609665935234763,0.5832496922048391,-1.160912284573802,-0.8877020344794185,-2.186678021404555,1.7487283717368767,-0.8719783272724331,1.4493763554675398,0.11561214078396854,-0.8972141854272594,-0.29355953166479615,-1.1682435059504628,1.3786205320999103,0.7029306137055299,-0.38007980865336044,1.0032308211482863,-0.5685765137851263,0.8713943460995273,0.1927885796500527,-0.2751621456168191,0.22684271539656603,-1.837909029969711,0.5014835575497858,-0.3546939089017811,-0.4696171175794592,-0.4345301163163577,-1.4616570556248334,0.38909851914139076,-1.5400906186922956,-0.6872201259078786,0.7482639365509252,-1.7892755878261868,0.8400639168089808,0.09819463519562766,-0.2615110732860843,3.1793374019239726,-0.08670782047291116,-2.1300441913924453,-0.4554377001417159,-0.6377633484496905,0.733157439935938,0.28870473359009824,-0.9193502098873848,0.48687161988351946,1.6424137888751968,1.015535311115342,0.9138342808974499,-1.6218024187224305,-2.392459364977683,-0.1420622592139242,1.0582889215079105,-1.2950118177782814,-0.5360598451217263,0.0731377606026403,1.1234249878168598,-1.5759070702215632,0.11304870309755373,0.4422367727290712,-0.6032620828052875,1.8626049979893835,1.0401778661341772,0.01669400356380883,-0.09203427486901614,-0.3637457690533202,0.22495212968339492,1.1616132507353933,0.04095237700946709,-0.6766285558027316,-0.11833905998707339,0.7281348538685237,-1.0173261169720615,0.4988816656128602,0.08121816158344466,1.4465190343394592,-1.1028652379852462,-0.42244143294951275,-1.2752585402757737,-0.6097536444022841,0.6410262067138363,0.8444186389101047,-0.5909109487788097,0.32074330184721456,-0.3421928846739918,0.25911507025855096,-1.0724326475644987,0.815436250153532,0.45743279240665713,0.02120133953180642,1.1981606450102738,1.2376959462224455,-0.5611798761045033,1.0233464376540242,0.2214098729640432,0.6848854352022663,0.8499813647671488,0.3031451674980366,0.8252626927211091,1.7716091587496114,0.0357398071154578,0.2847729496048749,1.096715308379943,0.35404747521392504,1.0986586959617928,1.0751734643453659,-0.727139026004347,-0.5042717665465527,0.46277277275164597,-0.5162293422079407,0.4373821879601408,-1.9320525486069755,0.7076964850107175,-1.0665220380197293,-0.8000173429710902,0.46005002101947756,-1.1352061399555284,-1.4581519948413122,-0.15657589287547624,0.37886602695868615,-0.5647192114539014,-1.0405458576132194,-0.12480252529942139,-1.4958364429239837,-0.9790399452620899,-0.4847165649552854,0.24095656593259798,-0.4641789356080759,-2.032343779870609,1.2079144628375893,-0.7173108950091918,-1.5857396763833582,-1.4728592736827695,0.951295293115328,0.542659136881205,-0.40750184014503016,0.5241485171204354,1.1532756770518728,-1.1488705986557868,0.3210296367733202,-2.3162181448062316,-0.7863614176996532,-0.8675095630817283,-0.20779277685812964,1.022923261773937,-0.16264982475502576,-0.6378977980139955,-2.109040643078583,0.15285280300673657,0.10033428746595642,0.7985329015642794,0.18719475804312377,-0.2442259987822182,0.12967305916573815,-0.29616787535252215,-0.5644133631791696,-0.4789731663069605,2.5785588664235832,0.5610897927318939,-1.662086910629218,-0.6667074634131411,1.8559436566359517,-0.19365809406941295,-0.2899468119778489,0.08239792926657928,0.1620798023308258,-1.1789280029928473,0.30861494091827657,2.080948191438688,0.17395805813645698,-0.049368907625992935,-0.18639712772658892,0.856392096089919,-1.1465066570547116,-0.609085160191032,-1.8616163507385233,-1.275677414663254,1.1678548286269912,0.6743054926560207,0.12715178654877785,-0.6859139931657987,-0.703424625908697,-1.0666022612418777,0.8910920193100705,-1.393104074633198,1.0922052820949593,-1.6581721545990171,0.09785634393280203,1.3128957271937751,-0.8078793398679767,0.8576282354169649,-1.9303162965493132,0.03405062439287506,-0.022452808575351445,1.2384433462801023,-1.7519410808804596,0.8047770172752632,1.7917319529262852,-1.273442937003866,0.18279819593861196,1.7275355883514527,0.4082866048261445,-0.04779002293358511,0.055053551824683564,0.6983706303404468,1.0412711195895148,-1.490834481890102,0.12513620982995424,-1.463287325630996,0.31722407424828086,0.2315586506830054,-0.918542981795037,-0.20213956500656524,-0.18911032894151397,-0.31026307650620544,-0.21954316972091045,-0.46633194179246085,-1.0070272736801584,-1.106999892698809,0.9975969403818966,-0.0403327133448877,0.14114251032226,0.9866459925457108,-0.4112685702018566,0.022918903280537813,-0.6114754043789101,1.3033040785159227,0.4725091010047569,1.3927379926097332,1.4841271017427962,0.27743856289409,-0.17512957720833222,0.9145366470009568,-0.02011024986683093,1.096462615940105,-0.20488943258664533,1.6875491783789842,-1.2822952337752693,-0.8431271451217714,-0.06850429106927008,-0.9811055142203493,0.5574706646276707,-0.10703333028740676,0.6812809105640354,0.024105084945749155,1.3144984991023763,0.40138141673857236,0.6545914778959717,1.4511387539229468,0.5225127515058949,0.8434900472579351,-0.764767835556175,0.6720991904980775,0.7808434241247554,-1.7021104294486928,0.6154524693192829,-0.4186425327804643,1.724310350063445,-1.2042415478696833,0.3130722263520311,-0.19143721376851275,-0.7563545328127226,0.6230042981527254,0.1466422228907432,-1.2818249000800495,-1.477921947510572,-0.45479020947916754,0.20671265976448838,-1.443480679875236,-0.5727668677446112,-0.4120477996885198,0.16042585586946514,-0.46636472602665396,-1.081515927147076,-0.6290954893141838,1.1812637237682597,0.536735425262891,-0.4738373497594471,1.3291001500612314,-0.14082481002481806,-0.40590448545786234,0.4890014387213559,-0.015969494697304094,0.4269671007838707,-0.6472150561298006,0.23608261691043664,0.8011830973898876,0.06100527450082239,0.1784080935061504,-0.2387284120438354,-0.272504790070189,1.4148371410771734,0.39936311100720595,-0.26492136459762705,-0.37960036833346916,0.41185081257202855,-0.05165321467085935,-1.7211904623485157,1.0329910499695492,0.28905165688076495,1.195186913208505,-0.3976977026288993,0.2182898395484769,1.1173460451077937,-0.4002789343117277,0.9085249779828987,-0.5970291238188219,-0.03679337324159869,-0.6616190621186151,-2.329010471080156,-0.8824066869996116,2.1735379045701455,-0.3713179149423788,-0.30388645050264707,0.28980000847011456,0.8047813952962729,0.4054878524902272,-0.43432898989700375,1.6794196622350597,-1.5099310197778761,0.6722702909769224,-0.7030685238960269,0.48743997424359814,-0.676054159271135,0.8458724706974876,0.27937116502135667,0.9687589437597646,-0.19046412853822242,-1.7619256357212272,-1.3137689294913235,-0.4723713201555558,-0.3509046472725066,-0.7986989962877084,-0.9821301328056349,-1.8513039046049427,0.4504670298067862,-0.47017358307538704,1.6508780655401065,0.22627361172086305,0.5424414224425861,-0.2627647029438465,-0.21965723687142277,-0.7742921182904545,-0.33519096612164206,-0.26758387880143775,-0.9179636909277077,-1.7630499771180987,-0.5227071565948039,-2.7010382603007805,1.1176150989510514,-1.1174553839770687,0.25657369192585483,-0.7589479452052714,1.829918121341258,-0.09272396138146054,-0.4443403691433471,0.022162194249646883,1.9681125057971076,0.1929597507744939,0.46048014216037636,-1.3809263873553048,-1.3345517050958047,2.0116769871134115,-0.2869463699794904,-0.3935926777786429,0.42033110935412166,1.454543959180279,0.05113020767690329,-0.23594403211657983,0.39482715915892935,-0.6797278435904334,-1.7053323686500141,-0.5283106500500504,-0.41046052994261945,-0.047730496565854395,1.9517451495323719,-0.06777169696774545,0.26205546575584204,0.09668304928985652,-1.03682712286367,2.1516959449541093,-0.1515770620952362,0.38529949925785534,0.31975149249312323,0.9444415091915828,0.02919266889352085,-0.3655670617980617,0.031087194615799358,0.2512029125698339,-0.19843639549340014,0.44347065632150134,-0.23323486623073386,0.5621075282293665,-1.0967903816655231,-0.16063168145345103,-2.507098577056796,0.153462143737839,-2.3257925718676993,0.1647574813592169,-0.3387797523427237,1.2497059249930889,-0.4002765948889909,-1.0848543872338712,-0.08967858974718924,-0.804552946890749,-1.3652796708415504,-1.4980511547499502,-0.1027572069195776,-0.8953652402107993,1.336461240083169,-0.3655597178661835,1.6537783199134204,1.39266912420587,-0.7600077971018069,0.002232809675425009,0.4625208573368677,1.5565628408302157,0.5230870605751267,-0.04908475448464546,0.46770382598148214,-0.7015828111339222,-1.7098671744929006,0.0646039508480374,0.26301209378236,-0.620918165452059,-0.5324905226837388,-0.007349620065699979,1.485010726892002,0.8060838979198542,-1.5054649843424448,-0.5991011916563479,0.48839695650482007,1.034510284209622,2.254890628896241,-1.823508415040192,0.48382625294599924,-0.1492999210054008,-0.5307593644396803,-0.4498756014766365,-0.18330126022835547,-0.3635701958943089,-0.8213059681968096,1.0030463760096302,-2.205206266278945,1.696172553635219,0.6340174879852681,-0.43264922637568876,-0.19182262659257351,-1.3102366268324908,0.4780931209094271,0.8990952364585522,0.7571809462299433,-0.9168157635919065,0.7734822445046023,1.439242564657576,0.5137404916018314,-0.48759662158885103,-0.29411093346219086,1.4734208466505705,-0.17277335890125042,-1.2165668322055903,2.1150387437715015,-0.10994328653962673,1.5433152169310542,0.492916489047503,1.099056830691693,-0.17799170078913143,-0.4849116575042685,1.1446086829818385,0.9457247196028276,0.6975037829007673,0.3616766509281956,2.4640777211326284,-0.11565974687020678,-0.9545232413863574,0.2641893212364025,-1.4361805794687499,0.10915387222917418,-0.599691466111542,1.0931243697704092,0.4166875197687251,-0.2836766054159715,0.47397282574850225,1.8171374302017147,-1.3070554862472132,1.212960787400571,-1.3367330662566916,-0.4363430703385006,-1.9141725613010925,-0.6591022294496356,-1.1881174553645841,-0.4855799616854638,-0.85163748003156,0.153489822928468,-0.46339667960644054,0.7209995112159343,-0.049848757636975195,-0.9988854597963508,0.8379409265665734,0.3803623416629129,-0.07977038544350645,0.2195794685739533,-0.2757007594509705,0.3623407798403987,0.27237298055139886,-0.23845875000586012,-0.6026279956857726,-0.21411075350367217,2.195588142180795,-1.0366613674712495,0.17277009941572805,1.5510039989530868,1.3393292194906221,-1.5575120430673195,-0.6511784447603747,-1.2022748288123453,2.1791672613297286,0.3688132960948365,-0.29857087529647663,0.16200018198522984,2.4169645775672888,0.26607110005439677,-0.9923094067762411,-0.7304127491766216,-1.5085104934939473,-1.1953176078560868,0.008830869092020327,0.8591085411483121,-0.022266419812790598,-0.058773966549547564,-1.4637638908077928,-0.33628055069156554,-0.8194524077843893,-1.303158528508218,0.7710162560952357,-1.2445585997948996,1.369323578737425,-0.7751542093496668,-0.43846330205859724,-0.4747484564496387,-0.6054784605477409,-0.5828068899931947,1.4064941815541336,-0.07045070766597392,-0.07931642362689069,-0.6002009819739493,0.06498385869025135,1.3472196752116177,-0.6300333884141537,1.4984396490498286,0.19343276409770238,0.5399003572422248,-0.8336907286159306,0.4303110157274294,0.08954330784775284,0.8987116275534227,2.43893339481085,0.5949796489392564,-0.7903320833341627,-2.71546599049831,-0.45688789449547956,1.3868825667535374,0.3635342776312941,0.6388313296519463,1.195453554250292,-0.2821187718845466,0.16595528458246597,0.10177949625603559,0.27376281149219345,-0.3871860807447361,-0.38488636559316336,1.786422136592792,-1.492212949442347,-0.4009444308045116,1.0669078752347754,-0.14021603902820154,0.863162650015835,-0.10050304364175303,-0.6438816053107178,2.010190337968157,-0.4878066418556827,-1.4057701557399116,-1.4299810484975395,1.0931352798374785,1.2730222752908975,0.037792243415456846,-1.6465707840187902,1.696746513062621,-0.353021057918157,-2.102812714839042,-0.6656460678592472,-0.7895141208378081,-1.3951566370156985,-0.4701176949487766,1.9366786054779597,-0.2780374860445139,1.2947265172720526,1.3571021530922518,1.0195108483148012,0.0626963994082289,-0.7722998020656351,-1.353209182537532,1.0643149268603325,-2.640287903169448,0.07029310524184747,-0.5288450188880869,0.3638227250102882,0.2465970109468828,-0.11052559918009715,-0.23743676425814433,-1.677387843120302,-0.08562675823228623,0.5984546299630684,0.6076379090972879,1.254124672057115,-0.9724778149831481,0.3143545194191499,-0.058757956215938184,-0.03737652487987073,-0.6802828041691912,-1.5672140547661044,1.0463712798929348,0.011779607431918354,0.19906242655162534,-1.387986633464073,0.3947178451929407,-0.6544888761951909,-0.43241078879186734,0.5529688788719433,-0.6476489907686221,-0.861413119962127,-1.3531129534526538,-0.6984103584903586,-1.0634539106852559,0.3516009496637605,2.192674055018413,0.8701948653279472,-0.026203766684250257,-0.1612220190020383,0.46359793232707014,-0.27600074575817984,-1.156750181569165,0.6798050439901265,-1.1728500356905869,-0.18410887618957578,1.0382651634749183,0.3947340256619207,0.6859121318450213,-0.88545025729977,-0.3150055332303982,1.8126579166330625,0.3147616747323655,-2.6740421090810105,0.4059699223029372,-2.814693660123929,-0.6930434598461482,-0.6492453170372148,-0.8402318705494847,-0.14630092518220958,-0.2375964670024113,0.19133324986256467,0.17238740645483738,-1.0415195960057646,0.2991669483810755,-0.7584674424581026,1.7878060389572574,-0.5649400282340064,0.3043535930866452,1.0205266068186039,-0.5667949669104921,0.1917677673659334,-0.855743027934645,0.2763033763577128,0.20224118655973058,0.10651995698684925,-0.07188380995994023,0.44780244390635754,-1.5615166489539152,-0.7470479808014171,1.0828648276146124,1.3148346167787655,-0.968651655027996,-0.8087261235810866,-0.005589512415402244,2.1446105167859155,-1.845470204820757,-0.3916671112517671,-1.0447118829772202,-0.5137341826333847,-0.9631175540932926,-0.5287077671624641,-0.5124697112105684,-0.22473335935761898,1.5922851889014118,-1.9247261983034087,0.04208562593001435,0.9809193965521468,-2.1715256850186857,0.22026544112456617,1.0274724018083001,0.19146882644173502,0.2966209929572214,-1.251048096697558,-0.9480605820509905,-1.2452603120344947,-0.5948701446344465,-0.0728012671598547,-1.7292582637192355,1.4853841957627223,-0.28522507588836427,-2.21032938119405,0.41047064809853306,1.313858253987967,-1.9927269721846654,-2.4045677600322293,0.17563487066987854,0.4494777777883911,0.13197529133720184,0.13886685170236462,-1.2747313569637944,0.2615858758460099,-0.9627393919491288,-0.7762717239981387,-0.4536576763425273,0.38619998896098967,0.5330995152486147,0.42322347471210003,0.4650280440565669,-0.13909190579500164,0.09453065711883347,1.4137002776931857,-0.8848798381064654,-0.5613883141116315,0.4271392493358198,-0.7719578864453772,0.31355699973984297,-0.710808301641366,-0.4668353989062388,2.9251593739618813,-0.5354517739253739,0.6068426028196436,-1.7521068471130539,-1.5844215547596894,0.08467806480852133,-0.12021665980445842,0.2539441294754349,-1.2967572927173594,0.13812642407570522,0.19331265784250276,2.2050709700426623,-1.4286981500574392,-0.6580571382406363,1.5159396083972232,0.06760966822277466,0.4564393251414711,0.4579403757874037,-1.256128008190096,1.1030976102723842,-0.6096231739850535,1.7623489428352255,-0.2090700851972197,0.7931232665267367,-0.7597890240027518,1.8581871835268868,-1.160710829567585,0.17706960897194118,-0.1062554459023574,0.5877838939151928,-0.5740409150457704,-0.10576334432512305,-2.067877933451655,-0.7174589918498919,0.40677416919509146,-0.9256282480422119,0.757873446526456,-1.2449964166479919,-1.1063370741072738,-0.725871313212018,0.017526499340869812,-0.11968346613358016,0.8794544119204947,-1.8531276258015983,-1.5286884782924697,0.6187826423948037,0.8811564763837493,-0.38952920954592996,-0.264422145250853,-0.4504878812394111,1.3740073388916418,-2.2464860984112476,0.7408506650268087,-1.9020053337022909,0.20382352965406633,0.6671417029534187,0.666869873715674,-0.6887249573388003,0.0930243768134932,-1.006893990285936,-0.24328554116895773,0.5332809006736275,-0.5005326058311155,-0.6665983184525959,0.3401269947304808,-1.0744375075309684,0.8739425494050931,0.5199375803828654,2.233266326963029,1.182886587423966,0.6538138451393498,1.0499017221279183,0.9849625151269034,0.2143966243313062,0.42147111004828874,-1.4335338280464536,0.5891053304221869,1.836340582786884,-0.19176101741375426,2.0375769576541543,0.22803703322887953,-0.3406016284271402,-0.17014935128939718,-1.976557265148297,0.2740121259926054,-0.7935924735099087,0.010962642445743987,-0.26885170354957,-1.8440277227275006,-1.5834860921760927,-0.0114782143268399,0.3470258615925487,1.5779642675110253,-1.9897780039262476,-1.8884793216211657,-0.08197798920311962,-1.6358083183813956,1.276508047369394,1.1559677978708558,-0.5012594810647238,-0.7862818625321734,-0.8348248742174379,-0.8558500306859055,1.4245505976242927,0.12951135302557779,0.5800941514975937,-0.5560131996003186,1.467784330041294,0.19582099923556756,0.2654877185618999,-0.010971155594760303,-0.03015525448018339,1.1078184574985708,0.7993364497532396,-0.06000718188401065,1.1851077712847506,-1.2339963340719622,-0.24786784224805597,0.5195832576824289,0.2560917252018305,1.367812802758703,-1.4110001653765711,1.6654565542521238,-0.5435425673018908,1.334086453121928,-0.0768777101281786,0.3308647126261426,0.5717384291417286,-0.20943493255058146,-0.608887315061422,-1.728689671679145,0.18598119368430685,1.5147488586989974,0.25291600750220045,-0.5405776698422251,-0.360341804491502,0.6154496432433069,1.1567515286074088,-0.12921175290771392,-0.5764787920227445,0.9789207875916022,-1.0825170379641689,-0.6912606050945371,0.2042127405112615,-0.007062369146108063,-0.3561355118462063,1.4789574359830135,-0.5606668599504836,-1.721022395003217,-0.1731516011521658,-0.6913562790479066,-0.34535825909539725,1.1709324610294654,-0.04176259899052151,-1.0965078410852902,-0.9897153000854241,-0.0002234635499085957,-1.8818277772745868,0.7085706077271451,1.9120465509042064,-1.8645589092341888,0.4000352515379545,-1.2965567285302968,-1.2608141022032393,-0.5272424841053021,0.9162688356785331,0.4698780312206122,-0.009924243568570206,-1.5002820477718246,0.14449557241825464,-0.40293473402593727,-0.46619004404891307,-0.36570218879527183,1.1189930859008161,0.1888649500342992,0.49407416494590034,-0.6001207128601571,0.32984697989549816,0.05894151431539787,0.7188315825939091,1.4982879051215832,-0.05292883973912044,0.2826746894317272,-0.7139365424262557,-1.2468072587160939,-0.8890894698644939,-0.065962137830307,1.810762790569657,-0.07647749144977684,0.7970283323280202,0.07310606497284414,0.8888698597793643,0.49531521115328386,-1.2375665013076895,-0.020957430053891554,-1.3897099076100883,-1.1253371012158795,-1.2974624235625265,-0.20804568590699773,-0.7291312248779944,-0.08486926584593327,0.5456153649414199,-0.6254965009530854,0.4478878744647442,-0.1924064326489712,0.23165044144794814,-1.3852099318458946,-1.3875217498433254,-0.9471953953512128,0.12207231614655514,-0.12486983705233645,-0.2604277416426192,-0.8976168034050819,-0.37027783502299244,-0.5591629063068851,-0.06010683304504971,1.304364739897875,-1.3098893785117296,0.6273085181054181,-1.411849869984284,1.4604582964128539,0.4161940562915186,0.0686630050928481,0.9639197884801174,0.332794547225913,0.5444607585142656,-0.09707880294276126,-0.5898380793608238,-0.09988596665370439,-0.4511009621429025,1.5839119936872925,0.45562034517937344,-1.0393039867495133,-0.2158514154849838,-0.609309755683151,1.6462308140359478,-1.0510303595719726,-0.6419182543722538,-1.4297857984155977,-0.06689202544509518,-0.20300292940822492,-1.6876602633464077,-1.278232571116688,1.1607939158955252,0.977032512731871,0.18879699528354205,0.14366509407551112,0.49641550697026476,2.159770005839213,0.023707570685367243,-1.1895345170961629,0.5671195609093028,0.49957010384480754,-0.5117194434120194,0.7586900609806113,0.14495032861142126,-0.32238814123824155,2.7075386297687056,-0.369758583502732,-0.6067831223025454,1.286676381957433,-1.2369022581960594,0.9971647193982403,-0.3707214494414906,-0.5661106092917135,-0.5033229651174689,-0.8853289913050088,-1.8911428512168607,-1.1010893654675427,-0.7479821173900504,0.7175225803963051,-1.2038821372312847,-1.063320900435505,0.4176657119745844,-0.02050698501904491,-0.44880100609119494,2.033586729886769,1.6172788504510494,0.5408988301131055,-1.2706972844789448,1.6025592087497496,-3.1501668078950082,1.367469004772903,2.4533665483293343,-0.9331854023803994,-0.028577272872386473,-0.43267910591683034,-0.42842245543535123,-1.822866501393956,0.15481818202906333,0.8032167230077678,-0.155808639505359,0.7267338260131352,-0.3569027261352732,-1.1387549882840167,1.198787613716028,0.08382517926926492,0.7947136810615927,-0.3078683353622674,0.35011933455639505,0.2588655294417708,0.9118990186015538,-0.03081291594940044,-0.28459886379572663,-0.7906998836463587,1.9080792802302329,1.4464392666911636,-1.0737236819300506,0.07701149305412197,-0.5905987731436502,-0.2110638736660074,-2.31107761523779,0.7387218351162446,0.7101763699573554,-1.1495806743694386,0.22203473685351047,0.3958450093298442,-0.020967886221650325,0.24761944640150696,-0.6360957358089608,-0.0831212462430292,-0.05766327454067503,-0.23491602835808506,0.496907275584944,-0.09491232091057746,-0.26038716084562386,-0.48169729706320874,-0.4900268837320281,0.6111901310559487,2.196936897392297,1.6555490454166493,-2.8159358549060554,-0.07998606159080072,0.0645389193957452,0.9249152791300675,0.3318183640113746,0.4963016541518108,0.8941056672987766,-0.6479721952616144,-0.24150106139818628,1.0257735215406671,-0.7045490616972447,0.8189694824992093,0.07681581077177282,0.38948425542292386,0.2644136766247914,-1.871580017055433,-1.17854139720492,1.4833633697799082,1.15044476454698,-0.8685073555665335,-1.2474698591787552,-1.1547729439988024,0.06463237964047193,-0.1365344638269574,-0.5362097266512261,0.17541770161923378,0.19663923528081478,0.22015964503846777,-0.3950268921064058,1.227887673995571,-0.4698533676496491,-0.5586597831572034,-0.227635434996058,0.30850577119623923,-0.18276653903608248,-1.597494211264757,-0.8968970954924189,1.4649709232885118,-0.5200566045513272,2.465038671765193,0.49289420973886816,-1.6845712981775278,0.03886243643235829,0.416884768654999,0.06888678583659597,-0.4102864814544886,-0.24171836334973434,1.2209294301002953,-1.6634805140089068,-0.02233010868806819,0.17378080386602665,0.2867836786380533,0.34925785362516204,-0.5316397676447475,-0.34791403414582617,0.37275585809606515,-0.7032641996537113,-0.633582114845352,0.6238261892894027,-0.03683706879370984,-1.1486905678973525,-0.3930538644416666,0.7262719838846678,1.6238966443006873,0.49012623154078905,-2.3619170316618856,-0.7832467103511628,0.2160267981332813,0.7590331396758194,0.3663614263541731,-1.6394197560547799,-0.5101510532842545,-0.5968990335296012,0.7076898759046845,0.10111402107770572,-1.1122672247581828,0.08167310549344949,-2.3002168864333656,2.424556395373364,0.5838915265134144,-0.2869192892553071,-1.888771010704265,2.1713084473608206,-2.3348048912971833,0.17455550907464748,0.1181430853628287,0.41305838469971495,0.2288451598784666,-0.4012581949013563,-0.8622766485501344,-0.3091542732941031,-0.7836036397171464,0.16989611787091866,-1.6651835180309356,0.1382979335181665,-0.9913234627419238,0.18161741080132257,0.3033320211888739,-0.23392988769695314,0.6755360957450551,0.4280196481315851,-1.0301198581946638,0.039311660203746525,0.12381583172589011,0.9374399559545441,-0.13512596353619147,0.4321417504491294,-1.3248555915289548,2.4293173907149224,-0.41037636519281545,-1.054898684079829,1.2724324296006917,-1.3261890088995174,-1.104359080396998,0.2500064343798217,0.006320298631699747,-0.5154997407105152,0.23624968988736428,0.15613688114453145,0.6424470225691189,1.2117271475873177,-0.9845801481779056,0.5208504208365592,0.2627423952492921,0.7792031422855146,-0.15335431550117157,0.6445080686446504,0.04599857072586567,0.4364527295328009,-0.5004725752921146,0.7083029991335118,-0.3286851557920419,-0.5949900754195714,0.2214887588908578,0.7886325047062979,-0.4985094568286113,0.44143874363298313,0.5328251219422981,-1.353285300048155,0.37951962479912726,-0.3272858424772699,0.6536707453974069,2.306566721445888,-1.1843107029758235,0.10583259248010035,0.6655948112552725,-2.710430876960346,0.7892348377556224,0.2015439919516832,1.3650865044308094,-1.865820019987835,-0.2989827858752314,0.23933061536635938,-0.9295414688681944,1.8576033802663863,1.6307702946869638,-0.9085562592553719,-0.30642749601553626,-1.094116579790802,-0.21487987997588773,0.9705504146505187,0.6550075392491035,1.4132846183638388,0.731210480920366,-0.15162101731867988,2.5338330676588656,-0.8534055553350982,-0.22224019446391605,-0.265952690500246,0.25228119358103296,-1.7346755946997983,1.9092045013142576,-0.6133829125838717,1.6783868162843092,-0.5774804056458916,1.563906286406633,0.6268184734880021,-0.19130399447801302,0.04261778734773015,-0.10054229581183415,-0.8947659957880798,1.5649008284882011,0.5274284657562932,-0.3318260240837032,-0.7368648000905011,0.52456767811696,-0.2031407142453453,-0.32912372208353524,-1.0548721137030461,1.2608124728750776,0.7784538820187725,-0.15513790776966635,-0.9325827448069153,-0.3782467178932643,0.28882310734423217,0.2917891750484117,1.245182830306438,-0.6604011499599796,-0.6964415214819384,-0.9118304908563568,0.17592976933757795,0.9349811965385129,-0.5434858798737959,-0.15294221503701674,-0.8016965629643338,0.4539616494012536,0.6755763066936502,-1.381183233118573,-0.7551101256461502,0.6445672320962359,0.8587556035425125,-0.5671925219375182,0.22045781055448763,-0.1784258741800318,-1.2137419852126252,-2.957520817422983,-0.051749371931401174,-0.0028919236057743177,-0.7313313979148742,1.0165930294003573,1.1182332763350844,-0.8003261163843434,1.134196607237462,-0.24081152520777208,-0.26119453253005714,-1.3999417145600455,-0.8503573901132547,-0.09416731580557999,1.5773697891681446,0.6166383676147209,-0.47065596451993924,-2.3832233735845665,0.12848469561932518,0.46363334578328425,1.57240105838216,0.6855289358314559,2.17339301322876,1.3733331654536742,-0.7946168707740797,-0.2529082124046605,0.3387061924261835,0.10621924843434641,0.837793520856126,0.8416827390986698,-0.1814032201415747,1.478898413961566,1.4822009886303362,-0.7347363625875081,-0.45223482840353096,-2.2387350221684037,2.0361636482432828,-1.2495388213202272,0.47409495777104466,0.7543965555229444,0.15286893216545552,-0.9092318523639165,-0.5038157753976537,-0.8941077823658622,0.15817809000963814,0.7859939596253486,1.6892349147050534,0.9068413986690085,-0.7889208938869929,-0.4188890188660395,-0.5554838500111468,0.1735788250264432,0.2322560673964984,-0.03715685868698827,-0.975846517409458,0.7972308307999934,-1.6140279373918045,1.4777476052075638,0.8235337992785449,0.31437748676257393,-0.742737747080613,-1.25502853276865,-0.528401653621594,-0.8006496520718922,1.9525763779102916,-0.46132163338943033,-1.7031247413749675,-0.9693398758801363,0.0841547791828935,-0.9173212130681694,0.48066455658035095,0.19407593080973856,-1.348620966651474,0.566332000383684,3.1629806487743113,1.259139795617536,0.6896823456673106,-1.1268703328564866,-1.194886497982371,0.13864863246966355,0.08405326477021355,-0.4904055576945669,0.6170069415584493,-0.0015460773905243653,-0.11192891689073539,-1.5275001049837857,-0.5361282566038934,0.07109601210929552,2.414070094885766,-2.1975307149651266,0.01652344817721471,-0.7402224029080667,-0.8611910663777452,-0.84161419107413,-0.4039840276746652,-1.7044971118999024,-0.16296739101151606,2.006781878354883,-0.2962145486493859,-0.7053889385163113,2.2961038040539723,0.17403614335404438,-0.07767792770178247,-1.4656916553754664,-0.6990312997554704,-0.49668973100752833,-0.522148267878785,0.9430345196652499,-0.6985611883356921,-0.3268290166240014,-0.22043780424582737,1.1224904765719363,-1.4116593292243989,-0.4586975712974204,1.0768067453446983,1.023749194548247,-0.6328095308154777,-0.26242612629362716,1.6489493358440677,-0.7344507235173204,1.7987346223853802,-0.590202235019461,0.21843820863830854,0.8279857821646149,-0.5419992938061082,-1.9798134236960347,0.6220096723059714,1.2339922466486566,-0.05870021701881918,0.20890025056480765,0.823962552675662,2.204063408480706,-0.8982425246924542,1.509552808730266,-0.22293106614724914,-1.7121336896090071,-0.5219024264614331,-0.6725252696348598,0.7900759757179397,-0.6388428565962607,-0.7710255856193508,1.3114042747492671,-0.251706524357906,-0.9998854389290461,-1.313635854802315,0.08123044955139128,1.0625521726130807,1.2786749180891508,-0.35136675822253355,0.13708499338579846,0.9904177741470922,-0.2266423755736852,0.20920877549402306,-0.14711056640710152,-0.69376479663673,-1.0612012488844766,-0.49389342003614706,-0.954784411178941,-0.1436206622121841,-0.1291650760565076,-0.26085702168883496,0.17404135206418866,-0.5232971609382255,-0.4260236740571143,0.06343708413167634,0.884965118602101,0.2760925978919972,1.122847865435642,-0.01677328631517995,-0.1027354726956838,1.31905196003047,0.08694728559137525,-1.0251689025723556,0.7885010867375053,1.8123376849401354,1.3790884297390587,0.40464824008774036,-2.01030747070879,-0.733751377658719,0.9861945581045873,1.8819406100331886,-0.9022307452491746,-0.6038576998216388,0.6169898304901236,-0.054390617481092106,0.1631997925384422,-1.7897195753850306,-1.726202903011734,-2.463965206848845,0.9477105206258258,-1.5504550232938716,-0.7245604114503834,-0.06848837173332657,-0.8507437703205205,0.6656569377615825,-2.0008741957064644,-0.5927326479600049,0.024298507227441736,-1.002938483186389,1.3556954347273964,0.6787796885460887,-0.47495088063595153,0.8618009564689699,0.5846701486738941,0.8367111325981346,2.0703560641442413,0.9346207144603267,-0.6949012274048068,1.06012366602569,0.5594138420197564,-0.8069952148786189,-0.1524855218637045,0.02384442424762657,-0.13943632347539733,0.5931645436065887,1.118442570258617,1.0605118682135017,0.4424039706047199,0.586692225453598,1.8187004179426431,1.0150853832869802,-0.748054201523194,-0.20223331550029824,-0.705526147901966,1.2827813362114955,1.5090626528644528,-1.9243412179453168,0.013110493263333389,-0.36764206630306334,1.323975316983373,0.3133556443405028,-0.34030012885914107,1.0332155725357663,0.2503261596723349,-0.116566203268021,-1.291414965587748,-0.6325494834496732,0.9157666929905606,-1.0939618667161164,-1.079723661890586,0.9502941639233846,1.6096173730063206,-0.9833090996147125,0.7173841184774626,0.28601625218446514,-0.38456681430883655,0.27506442564857947,-1.7097488639153928,2.098168730288847,-1.0600280345630742,0.8911530019032444,1.2973090273500927,0.8251133784062223,-0.03021497205248733,0.14709282404559126,0.6436127341056148,0.5233485864392287,1.9982961663194148,0.43793590524883746,0.4616229041534004,0.32069562130818763,0.9891094290946884,-0.5773757716059793,-0.3181119005102529,-0.5245836033794711,1.6462230044982162,-0.15766956690292888,-0.5062992149663385,-0.10897453600783669,0.01713698550356456,1.0967905431617166,-1.4139783359104758,0.05286356395085484,0.5263415647398767,0.2499597343672616,-1.7000632932495925,-0.1668149291172145,0.040449959134853115,0.1697168294996862,0.021199942447534054,1.2332213138525185,1.2399315842521872,-0.6288455042974673,0.2999489096109978,0.5039734181897157,-0.021880870636735772,-0.24041693616346785,-0.5609369773005002,-0.06686318233548727,0.6141479504977725,0.09129073315053145,-1.8080344613980164,0.44044348284595153,1.6783879950156735,0.3085522114607901,-0.27230263896017276,0.7299725203430897,1.4235125370582318,-0.43565771980700535,0.2539514626096239,0.1013181583376304,-0.755366766303154,-1.3788198057163041,0.1942123626321156,0.6980869179509783,0.1674453631778015,-0.05883653923496085,1.4125406918444903,-0.28195748519150243,-0.40481018036027905,-0.07189848917241624,-1.8056581175693296,0.9393197468379887,-1.1629926056712063,-0.7507435885574044,0.004442131842646419,1.3591089338839155,-0.7440938890498752,1.070905908032184,0.012692753864978486,-0.1574577375759745,-1.4890990752553794,-0.7358747603747823,0.9969306002217411,-0.8247002700502423,0.552701181156863,0.9173281121534994,-0.394431703984102,0.653734128420817,-0.19824458290618208,1.4471150520123577,-1.4676526265682943,0.5173966445814197,1.6691553798974132,-0.37429644138227475,0.9277210407799513,-0.18614539283303344,-0.3924022561719057,0.7027923794813201,1.757329702925744,-0.14364305302618235,0.015187693208137813,-0.8858713016822561,-0.26936922111696326,-0.38729364123715415,0.015096165027009374,1.4775822386232857,-0.5761283685045808,-0.026211860408456602,-1.6864024814158811,0.21580775869258756,1.9330742425531804,-1.1390484840560697,-0.688441221463475,0.23502235414233408,0.49310714783069615,-1.221573015284721,2.156633988189983,-0.8180921529818848,0.12927816532368322,0.4661549503123242,-1.5513827817974453,0.8833098320832596,0.34548793192706956,0.25582019742168177,-0.5991123379292383,0.29060873367214285,1.899070745817109,-0.4257333534063908,-0.31626115026914436,2.0696689666809527,0.1859650303781638,0.159129956785548,-1.2011220171230306,0.9163571812663305,0.6875388400139367,-1.0870020761021848,0.7406711037329063,1.0238329985300019,-0.20138916649794897,0.7930178984825453,0.8098683686855486,1.1019226066499215,1.1453153713694046,0.9642044065347152,-1.191235868759841,0.40054554404884113,0.8318389512460436,-0.7950197601175023,-1.0997687487050793,-0.34394859511224507,-0.23566196106296783,-0.6018879074815662,0.7283030703988493,-1.2230363283318504,1.2775830204921255,-1.3888544340051907,0.847371489904005,-0.1282739694401609,-0.6409323073967943,-0.37309031916866187,-0.7574112690790761,-1.0019170094618892,-0.023554304362230775,0.16297694120150494,1.685950337891197,0.8277370417858094,0.431999294799516,0.07345832969790304,0.7631007500420964,0.6003972092891193,-0.6333068048062906,1.267536929626598,-1.0531342690607246,0.47211837595901507,-0.8838033771008235,1.7595702679065721,0.6901139988447967,-1.439791618776031,-0.8948763564183431,0.8090970686117226,-0.8020962806357113,-0.4412470712979747,0.9275989085770173,-0.002705862618950477,-2.0791722321203734,0.8977612770239194,1.6683564066769276,0.27120083749417373,0.6477876368544233,0.6227489253487826,0.2750401406485739,1.743525411836308,0.6227323669205118,0.09042980288752485,0.5271808152200965,0.37783970570053926,-0.8148113139657488,-1.8134062681245378,-2.229398836208169,0.8114645789300411,1.3249556365046553,0.7678718536719731,-0.24684776059963406,0.07021460137344199,1.7736777008301021,0.3773162377624031,-0.6501523305069821,-0.02970340781720099,0.7370225426394115,-0.19205044768885363,0.5939366828874044,2.4739114301438447,1.8160641012469063,0.1260347216144264,0.21491396091740084,-0.08880837188956117,0.48944089346408587,-1.164668827013413,-1.7290427227618652,0.6939420214919435,-1.5575202957489263,-0.5854538761595126,-0.1655632353218035,-0.22299805615704524,0.6925420154302606,-1.263730473433422,0.23888112922029045,0.030863269995122896,0.813619200399223,-0.2149963046016491,0.4388580464722834,1.4237987985137068,-0.022648431465903167,-0.04701659052734999,0.023400389413187988,0.5811529194663483,0.08073505148102515,-2.105871703600591,0.3513880026960906,-0.6223922137501267,1.676353568924408,-0.6312774686944439,-0.09394185369997925,-0.22097143018707185,0.41028755766792213,-0.2977821509578876,-1.0114257160042583,1.3076735292596993,-0.20013059972103828,-0.6387341429189001,-0.21112658155297484,1.6035509123777922,0.38096105515059797,-0.7890158331809971,-1.3687532656463266,0.20446777677183184,-0.5611234792997919,0.4321510645197742,-1.1519865100933095,1.638215341074138,-0.9071764484425988,-1.3958229611953747,-1.0380495431575136,-0.5033587762207077,0.8176086911913756,-0.7468105340274183,-1.1109524458661562,-0.8649180858446428,-0.4689321814047323,0.019001761091833574,-0.4218641199192646,-0.6239474556309832,-0.03456680869555658,0.19588793676246077,-0.014306426342394051,-0.540023017699285,0.07921118030627085,-0.34903036035506424,0.4420772907844918,0.14602188312643258,-1.0768729210694463,1.094730239091747,-1.1698239058552031,-1.521816409171872,-1.0129740086926098,0.17644718429429018,2.2401429346973556,-0.5682526311441812,1.8768926006224609,-0.44083072054346567,1.2426400343974322,0.2967201152551996,1.4226773667386492,-0.3557147922558001,1.697833834871072,0.7560128538193963,0.4695438162014104,0.5728657153217493,0.9799427662801813,1.1671682613869534,-0.6966906374801115,0.7146674139673661,0.44670014267441904,1.3583166117324217,-0.22543325591301336,-1.059263937388333,0.9157209921332955,-0.12570512947218931,0.5611778967002315,-2.061206187162275,-1.2935964138293465,-0.9168260887286767,1.431665826872943,0.028217556747632135,-0.046432240107803176,1.0574378420578927,0.7505921900633832,0.32090118086154257,-1.2341374175430715,0.5511084616929731,-2.0840242666323454,-2.0237967864777744,0.3590826630670367,-0.8403181895883168,-2.048996165075957,0.2828404142172029,-0.8896190652558875,-0.3440039029143271,1.5009915185574545,1.9253667522666635,-0.31260100135122226,-0.4357818675581748,-0.1371633559423791,0.4553500883180476,-0.6986389626877406,0.8271191627972534,-0.09213867577681968],\"type\":\"histogram2dcontour\"},{\"marker\":{\"color\":\"white\",\"opacity\":0.3,\"size\":3},\"mode\":\"markers\",\"x\":[0.5465736579520414,1.199191097945311,1.3854618294216,2.8739246833723233,0.34959007762020833,0.2101219159748956,-0.044104488800265025,-0.3592033328931769,0.15798466686180104,-1.437216718134857,0.1878965017376754,1.0656446181169124,1.9543459858599048,-0.13365273991778773,1.0865978677907642,-0.8012369775279364,0.24275118550613972,0.4714792992521871,-0.2909337414549523,0.6697060393177087,1.784870009597721,0.2589910521077722,-1.497240776889539,-0.479359708310925,0.45528549411002306,0.038430693968327594,-1.0265295573073607,0.06461751069412792,-0.35942546787123253,0.48621172903282267,-0.2817744251651497,0.2977005001462227,-1.4270267380366741,-0.5561636323850507,-0.7156435898570221,-1.9145496915702302,-0.4312151950626301,-0.29564919641526605,-0.1231947781276731,0.6454882541999198,-0.478329869503585,1.203922332479485,0.4836432981705512,1.4399216001163777,0.7306170693905668,-1.2199329537504187,0.38913531377747557,-1.3038256706586815,-0.2992829907651729,-0.35175290103588297,1.2672298063770981,2.023654805008079,0.24155703578779975,0.1918472382915681,-0.07441984550654247,0.41316246629391246,1.3337394754039775,1.1975096248517103,1.770995303011352,0.2383436924870869,-0.8149678167167053,-0.36117695107398023,0.3248187401677931,0.03894887535931781,0.017981565921951763,0.18713400491639737,-1.013506419998934,1.3250368400136339,-0.03644421459666435,-1.181788588250882,0.8299847445602468,-0.47394086912914274,1.8297470636298143,1.2406019906218835,-0.5872218850525966,0.8557743796123175,1.2665062142740795,0.36477875738379917,-0.0589094079335857,-1.7219831188255188,1.4573177614277626,-1.1004804504983625,0.5611371055131029,-0.3062970274676136,0.22063060322019426,0.12797459122834165,-0.9410831903014033,-1.5033156858405465,-0.8573911947076823,0.13261726061587173,0.4266188230720724,0.19227178472904244,-0.06103700326644921,-0.33873871153698026,-0.19826804762451913,0.6980080873712878,0.49237565120206517,-0.15547160597884016,0.2190900768085989,-0.8532174004032381,-0.29801131033967443,-0.94960300046756,-1.0767319594024678,0.030361570023168336,-0.3831268070788777,0.6216436687634521,-0.7159651763980263,1.617256082545143,2.345052940600371,0.4792120191238974,0.5693899603210089,-0.9645696137889759,1.4331219743114887,-0.30576924574035924,-0.041127707207843915,0.7545446027922127,0.600159774498096,-0.38353424599839925,0.5192379863451975,1.361346317858611,-1.3903708290861945,-0.8790252396299731,-1.5921541934852046,-0.505316150772982,0.3607030629790932,-0.26145111130351956,1.219136701509934,-0.5127178461332533,0.3797148405655652,-0.9251454914225733,0.34510878981466714,-1.2142361099207286,-1.2992205923235796,0.19984503387736957,0.1962849429509274,1.0255588717076283,-0.4789431001831097,-1.9204148748318945,0.21196177691118603,-0.33643053294504827,-1.2016008572524077,0.2868808449318455,-0.8007709328607542,0.10185884103194316,-0.057120414762734294,-0.7442492847507595,2.2315728446739325,-0.7782309522821865,1.68419544250344,-0.36862980215238694,0.7611684539533521,0.8197228685426162,0.9723544529643455,1.0235122963193775,-0.7723302858553691,-0.9880683927193767,0.24177140299032787,1.5104821267527546,0.3240066270473089,-1.90936288029695,1.1031982410998094,-1.0977577273814236,-0.6268756195357855,-0.17024881211190573,1.6349396868065988,-1.281632390482404,-1.369913972744195,-0.19593277154847225,-1.2485731955501573,1.404552219098374,-0.5274365471314493,-0.44092225346961555,-1.0491567408380902,-0.7357776787506887,-0.15243506688100544,-0.7047651886383794,1.219466195719851,-0.414601823333276,-2.7908942345780168,-2.2411689481072306,0.18083965327063725,-0.15151523960018162,-0.4517657092857894,0.9927832147227739,0.24193645475487033,-0.5105738723950974,0.2988534401974377,0.009113678745944615,1.404902765830761,1.4991550893366712,0.9357843945369488,-0.09556995384429595,1.2140850669421401,0.7418105449638375,-1.1899254031942996,2.2542754532893645,-0.5420586052793077,-0.01249247573849786,-0.27325671376241933,0.9838205670907701,1.3698640635450432,-0.38021839260064844,-0.2721913737024253,0.20532582736683258,0.3413329230906213,1.2272116192293003,1.104377626621635,-2.5632992362806606,-0.5597664916276317,1.2086081267906092,0.2670219881074668,0.5483888876667379,0.961035468986979,-0.36825039641486085,0.34059059889154825,-1.8649672525127854,0.09669400269649453,1.326529300180918,-0.5658259997520977,-0.3599837272634119,1.4159131070054576,-1.5255859384485877,0.8817051609524431,0.0901828937610591,-1.1292763015939253,0.7443053720207518,0.2121763034841361,0.08759439014810892,0.4141962952372725,-0.7424822976450546,-0.8745229494850951,0.13919530117094128,-1.0989108467408129,1.0946555354665084,-0.9677935529156402,-0.19563813827761825,-0.19595966673445786,-0.9687153390878962,0.05951905448847641,0.839632814312218,-1.4279987317999616,0.738020238042697,-0.2798845902882226,-0.18322671298030951,-1.448073587708047,0.45571655305876874,-0.2542113137558483,-0.933899783730624,-0.45954856654908427,0.6717981043594805,0.791118984926067,-1.474076032732944,-0.49039728730576915,0.185485668861812,-0.074423117167162,1.022547373015571,-0.14636835923938785,0.7027717570659885,0.8190599224406516,-0.3777617332087278,1.777959603501752,-0.8900401678552913,0.3839921395671437,-0.13897327241505628,1.4210537016901907,-1.8071283659337554,-0.6063941198880582,-0.8072658473621892,-0.9705853450242022,-0.5005122320712426,1.7263189465857522,0.8462374123657451,-0.17947560324532852,-0.29581100896773155,-0.3636106707209423,0.9069882370225214,-2.3804690365346577,-1.1648097291103627,-0.8602762829147041,-0.7707088762216882,0.8161872841031507,-1.9066625080538977,1.6625281307286446,-1.8515279817331458,1.0857433472897846,-0.9289869094933203,2.7181978918854655,0.2558080201622237,-1.2443607406053083,-1.8406386176957468,1.2588908128184302,-1.0242000854054905,0.10314946151556201,-0.016753630810475786,0.8379074475766622,0.61019944567419,0.19932044546826325,-1.0756534644897673,-0.012513922927383776,-0.8159518083593977,0.3796054754996264,0.4243370887829271,1.3262991957265073,0.6844341043376888,-1.1171694301478756,0.7336281671313238,0.6147426649164572,-0.7217358125626246,0.4219475901094399,0.8731242279151323,2.0636513326180186,0.14702331842661956,-0.31078968592865924,-1.2067813568540813,0.5356977205246708,0.28108393898281836,0.7489041449474183,1.0680368627645611,0.1862468204666871,0.8678795868179884,0.1050354876890061,1.3432319738188025,0.11552707476511358,0.013711422506430053,-0.916841723609218,-0.7926518503303284,0.35125312421719146,-0.5302011520907064,-0.4140719536125548,-0.2050195988751169,0.5648748044552677,-3.064800482505433,-0.4841250516132817,-1.305580885308176,-0.9817473976693237,-0.8488895588623401,0.008730788510092168,-0.5026956204263193,-0.8771875161933576,-1.2180291828827958,-0.06902074372482991,1.1987468631885982,1.2984139262012508,-0.4630193317895061,0.720346482950109,-0.24831117984970966,0.7181120460152632,0.7945239699314206,0.28374937921432414,0.7157578127045728,-0.35513296213889917,1.4209484493274813,0.26540786151546336,0.8898391264040384,0.14255101445548155,0.0032068268331731185,-0.6671660170003195,0.022366611216438872,0.07878078073444195,0.34197645766567414,2.0757970363747718,-1.8593055884116705,-0.25678085858411787,-1.13561888170855,1.1094019570722784,-0.1570166336785825,-0.009939560048638652,1.8219939249514792,0.31050811101284703,0.8997816378760153,0.48935658085186307,2.1125127017298144,0.25911997935131,1.278354799935499,-0.04874548015616842,0.062047211467902465,0.7880336860641423,0.6482787895919094,-0.8643128722211646,-0.17704890831657638,0.4278561655809566,-0.6725978300900635,0.7532156726464722,1.1267148685818746,-0.31460266776774853,-1.8699249057409486,0.1408877440611983,1.7625408446618822,1.4013211434780122,-0.2624180178676363,1.2751848807258628,0.36232204085270214,1.0278038875962163,0.9431832944734982,-0.4773737329192406,0.4092995418924496,1.1042127709161387,1.0196077126208907,-0.7066993182145354,-0.09062026401885091,0.9042222309598213,0.5837678403386827,-1.4622035877878476,0.03549483280717214,0.17634186503378568,0.6202511852217657,0.16988502660133944,-1.4394027604626216,-1.0813220488114192,0.09199886469050884,0.7495381469822144,-0.49827148321964065,0.6071546695965455,0.3233816842508152,-1.156315585332376,-0.7634740396283455,0.3984747772632237,-0.060217263135913225,1.7956788416668943,2.542600737537201,0.4994194955431525,0.27816577279541177,1.4073050107990102,-0.10232046015307393,-0.26349249085945664,-1.0256316375161283,1.772056790723303,0.24224504535957941,0.3006408983130885,1.6918640857943321,-1.3297808013553156,0.25809765563625886,-0.59239277095806,-0.6461180348748141,-0.44561532108747853,-0.651478543644362,0.10768121655458111,-1.3224587343715255,0.03164819185801112,-0.9666691403812319,2.419495372268247,-2.4087828344100735,-0.17068488580004607,-1.1722470993510372,0.0561233561348205,-0.29642066578134507,2.0279502832089147,0.08116448281928121,0.7782972437314664,2.170570773151476,-0.0044883036898510946,0.4989056527058948,0.875752378743303,1.6663774874096755,0.2662860177778213,-2.1508197035134144,-2.421473591109148,0.4237028842587805,0.25618830916428026,0.326716147497096,-0.8180977882301173,0.8549382024429162,1.7337276636574148,-0.30387887964708105,0.6965555546694839,-1.209562860820719,1.4135875403846951,0.812097701627545,0.3514312359627664,0.17641104959854786,0.2296601538600224,-2.66691510742759,-0.7817786599740923,0.31064058351725005,0.01395076192648793,-1.488701457266969,-1.846869179619965,0.5651796050978727,-2.3227913549856503,-0.40442735238775834,-0.37389646392119275,0.9045194646556894,-0.6249478771948798,0.8568279956458877,1.3198008913951431,0.06386421249570061,-1.923053763380045,0.5285409862347922,0.8782753403978073,-1.2613677308164752,0.9410515378885274,-0.15020838442364917,0.10790163585921395,1.990399343992763,-0.6620782088489374,1.7274352947962985,0.9178261489669293,-1.300251997364336,-0.4672890728063471,0.3981479519984537,0.33455737600563284,-0.7033165154098072,-1.7609189151542708,2.1432201732362053,-1.4701393475965883,0.6568684421145592,0.5089215288237326,-0.9146330678204414,1.8556579879031903,0.8844976541214351,0.8447609447427107,-0.4706295702946832,-0.12456612453966409,0.5223446349854642,0.08449757841392713,0.9787979964751297,-0.019199309498494584,-0.10367929655578426,0.9128643556526228,0.845790808096461,-0.08668882122786092,-0.5892828927299268,2.4409667723859343,-0.6517484968774027,-0.24314076313647046,2.4626932639304373,0.05783164918446414,-0.5735281551464478,-1.0791443596965073,0.3612375674309647,2.2925030613818445,0.6766843636127455,-1.2251603240426008,0.27366058123833703,-0.3005690373566258,-1.4834427505217584,0.18864489835739712,1.3242267787263162,-0.5369316064649243,-0.29684323942868623,-0.2931442869979767,-1.151864864829075,-1.9489129131553868,-0.35868926256358974,0.727890929774501,-0.15404955758732103,-0.25602379937052183,1.9729624115118982,-0.5432877111788449,-1.269406829233057,1.614074656830744,-0.3584460460015811,1.4688419240738126,-2.2353018147054335,0.12369658194148934,1.3007585619195852,-0.6823619769354514,-0.0537007867762153,-0.536046057129287,-1.9680509173354397,-0.2698358745556005,-1.1449847579260344,-0.6008853503374222,-1.1409468471687618,-1.0169347346564983,-0.8828202033345894,-1.2861171622147065,0.9692905737581483,0.30420920021187337,-0.8319940540088501,-1.3697441424872667,0.7169045505942391,1.4351117406080653,-1.21483658928051,0.30526382670873164,2.5727270702161835,0.5387278599034516,0.6590774463170339,0.49609880272419116,-0.7316574666629463,-0.49560644857268116,0.9998569447827164,0.33910416589228415,0.9945594888800132,-0.9445584322383755,0.9190383834955681,0.33547520116013435,-0.6739295574048285,0.07582519956010776,-0.6737396061681181,-1.2268165052238267,0.3049735109252614,0.7839621781139676,1.0892869291799647,1.640280025549598,-0.8344705002684724,-1.4272379343033967,1.8426524265790496,1.201809065960673,-0.1983990659835364,-0.33192458053657947,-2.0659219089595067,-0.043547281813813093,-0.45523998856628983,-1.6403193532446934,0.6687239711661691,-0.5042776465498529,-0.37523703969656896,0.7429489574872914,0.02802768417862022,-1.070974660874209,0.03442542234621025,1.5987272531045948,1.2338883414968846,-0.24432324349031798,-0.7827205352954498,-1.1741593852853751,0.6333462241460843,-2.55038747229211,0.23940038481389667,0.2865789396208104,-0.2963722329100241,0.6189527385317501,-0.8717095513510615,-0.05285760232344006,-0.968980895328761,0.8825671746053845,1.1257945014393744,-1.2022745004316362,0.8616968236186666,-0.9603090913532758,0.5777775590828547,1.1948615454961051,0.07051477974859462,-1.9397152055979856,-1.2403731982962911,1.0652296899064984,1.226888021164865,0.6723669150977968,-1.2727718339730796,0.20057759930134764,-0.19006355007180636,-0.3399704729128217,-0.7742677808677285,-1.2795716026582542,-0.6008967523771077,-1.2121564354817134,0.23688766464491473,1.9158024529227777,-0.3021695485372087,0.5268948577064745,-1.0661813770402744,-0.7173481509055941,2.3046810068406014,-1.067724803722399,0.38910743239923723,-0.4793934110116364,-1.6121006131183124,-1.2093315217786251,-0.7011603672722017,0.04594299430635943,-0.7354333146678006,-0.8761375723241206,0.061137199106223,1.2651626354594496,-0.17575202876895887,-0.27561483744844345,-1.5859549136176334,1.4945065053084432,-0.900924689220603,0.5908205657557017,0.38463332299667197,-1.3103058819496372,1.3575459292981067,0.10355497990704053,-0.11400630844596832,1.6243304846456839,0.11839890841477883,0.05791727445068717,-0.25356359843036613,-1.8956121269974855,-0.05528657395101722,-0.4214899922246996,0.08251561057603918,0.7592967914350558,-0.2668826845021553,-0.633158443982216,0.8923850248050718,-1.3623993663321476,-1.0735478108363887,-2.1286518476528826,-0.5392829964658732,2.023798185380656,1.8952310989220167,-0.4224479041253591,1.1449472937750587,0.14163658735420717,0.6988023345954761,-0.5829273809187304,-1.2543716908636857,-0.1494412557675123,-0.9941796828478328,-0.6168536682372214,0.19844531059159087,-0.4598339490019057,0.28693479077669454,-0.002109467541671378,0.5348683445480905,2.5020064687788754,1.3842266841015747,-0.24635753523536844,1.549041276102489,-0.09554440033964827,-0.37032356514926495,1.1950410567635241,0.7477200923184676,-0.9792517159413072,0.031329886987459615,-0.968395176805899,1.2369973525978786,1.673023893615962,-0.3024254370294277,-0.4438472840968737,-1.1477316947530016,0.8681499603639105,0.334059252104856,-0.17871267206898603,-0.5927527028024288,2.0386947165083784,-0.10353003909564498,0.09997415507331824,-0.10295473789335226,1.2220526711328217,-0.6880891316310619,0.025567043864230813,-0.0012197465963647647,1.6153072722359025,0.23252158194414763,-0.0064368958386073274,0.5109014245159308,0.2570910437581396,-0.7434708102102804,-0.6177341042028985,-0.4268650831884757,-0.39489848700135816,-0.20048408564784578,0.3900139390841064,0.9216888390265542,-0.42426836099035126,-0.9488981415885542,0.8941713531141089,0.7447848967342947,-1.9353542535304984,-0.19010427347493222,0.5221397740342424,0.5676477437267302,0.21802058740465596,-0.3685782395982187,0.4812756705966927,-1.189329453695909,0.23370116186052373,-0.27213412849795454,1.6807488798627739,-0.3644949971800649,1.2848332085434022,0.8242819047193088,0.5810964226151305,-0.19024709931589365,-0.896309995553333,-0.44059164343442286,-2.209254442126772,0.22793377288814762,-0.9847084144433057,-1.1474075633255911,0.05981404555399189,0.4909306637162865,-0.07118245119674416,-0.8282176213228836,0.5892977946051453,-1.6937920010050027,0.851198248016464,0.7344175799381721,0.5416423832130207,1.185010726737503,0.695992048376487,-1.894987113490657,-1.4711639412558921,0.9607682303298711,0.43975296620027715,0.689052260680187,0.811968127531019,-0.29883253687404415,0.9024503161726184,0.43821775148884134,0.27920199733101186,0.006042154419405174,-0.6279058016589152,-1.5414272785685135,-0.7153765715581805,0.21773786332641185,2.7521044141728743,-0.4353156199072523,-1.1060510376379744,-2.19586345408302,-0.7149552049423001,-0.25201689159379265,0.6812958792908516,0.8202335062963001,-1.0343165974281114,-1.0931591016459723,0.5824211073306773,1.5303835012564382,1.6052214404030305,0.9851478096579722,0.5797532302200665,0.03497299006604775,-0.2339329848967712,0.10244801072708995,0.180921251800485,1.1360782198372674,-0.9641230884699848,-1.9807289837732827,-0.4986636335430608,0.5567525758319368,-0.822846504557857,-0.84977017755536,-0.2321956833021199,-1.7879243408161452,-0.304937058640139,-1.2880089540252408,-0.6897273382395196,-1.5153290753671356,-0.8775763474085007,-1.1271549556150504,-1.1777632989544584,0.2242163140159442,-0.7769082511992457,0.07537533703583409,-0.9526231314585168,1.2261932881589452,-0.32270590477779354,1.4828530208930102,0.368474951971865,0.25705168294362074,0.029300786043937734,-0.0705563264185672,-0.30570442064978604,-1.0349251310672067,-0.9324934044980466,-0.6517943391510365,-1.0710811507472062,-0.44818834112429967,-0.40000870527796323,-0.264900655194727,0.854476554516275,1.5489162426566379,0.8970692761355341,-0.22933859127993136,-0.702487288067723,0.2736550389657503,-0.22961061109875897,1.0044044418200322,0.8581981987463504,0.3067922614845921,-0.3651756199066655,0.4803306928685353,-0.361901105971888,0.0533355654391766,-1.2059961624355582,0.22390915809771061,1.0012547892802488,1.1830687063296061,-1.035566191412404,1.1322520060912393,-0.5625286669477705,0.3977997688197847,-0.8613965670993451,0.11151679396516519,1.9791121714689013,0.23500406724791223,0.13486722727402756,0.7000404606633058,1.6667878059687482,1.3131389377557703,0.045009966511619794,-1.3113662666991934,-0.023817005588394044,0.5591672229152406,0.42776943223784425,-1.3357176012836287,0.07717096139756888,-0.7389501878690646,-1.7757184276581952,-0.49703562995108586,0.07196227763412366,-0.7296797195040922,0.10432701334421292,0.2637454760291156,-0.7231732784263377,0.12384679434543078,-0.9556524284436385,-0.08419739242724275,-0.5943668221534311,-0.6411915141057434,1.3983934180942241,-1.201675878467897,0.6143975341676395,-1.9895896299257745,1.3854420608977158,-0.6296844445799883,-0.2521479896142054,0.28312780500885054,-0.25217063720799626,-3.049442321448261,1.0860472650835882,0.5441921335457527,-1.3021833934804905,-1.8063719204380633,-0.8399307366753049,0.008089632596003028,0.5488576665404675,-0.006851104025064234,-0.30893618009028273,-0.7842896095891535,0.41309669942411675,-0.25910084499489444,-0.26849591316771315,1.3479622469862935,1.5842184396698955,-0.14820470590499674,-0.6930314493680187,-1.1606642875678164,-0.10342387987914696,-1.7753429539471568,1.0620130994438335,-1.4693526426311272,0.49553451807972015,-1.411968727193103,-0.18465128367854552,-0.2416492479799183,-1.0504262837372011,-1.106761299913864,0.7099742655273261,0.5715489394862486,-1.308499941179441,-0.018364698607090772,-0.4680697372761507,1.2604770342299356,2.3337197713400006,1.2902895279547626,-1.0699868663229026,-0.8413971007903015,0.7977781482024946,1.8745531002193492,0.4180328789113602,-0.4430690817314931,1.295003236606799,1.0673601092230076,0.03250847220490271,2.5612920856907455,-0.5339751279548345,0.1118450292377074,-1.0466464267606181,0.7281674599308019,-0.14667380464762633,0.5361439973357373,-0.6455801391345413,-0.003974688822395513,0.18650529691373768,0.5465332958215213,-0.7409395820037273,0.865347184244655,-0.8576406987567498,-0.014707104160190932,0.12128870597613926,-2.552401075528895,-0.8502709688960564,0.07972223853980098,0.42710363900320003,-0.9175644078109031,-0.5534845117991678,-1.866607457952943,-0.8664022492526159,-0.6769382845290448,0.10706738781324979,0.48177951746660097,-0.45115751066585996,-0.4060255662139269,2.425576593171324,0.3677675916012053,0.3759087666496739,-0.542667797944678,0.06736904474971535,-0.6190833801474368,-1.9407200852571862,0.9035833910585847,2.7605214224198704,1.0001430623038812,-0.023567870459518723,1.632473911789778,0.507545505718247,-0.3458339981962568,0.7966259563230541,0.25532677946442306,1.6278426424530272,-0.02605563992992214,-1.55167745133505,0.09613407254468442,2.0448569260001697,0.37320499473950103,-0.9504008810515431,-0.43401725973804073,0.8735151230883483,-0.5766507211601242,-0.09506481952825484,0.3588500574902766,-0.3087401225435287,0.2583356780679459,1.217992367859612,-2.9722007220814235,0.09040085846368597,-0.2376031516635789,0.6896901649634558,-0.4532931001574331,-0.1909458644408877,0.4689370555886229,-0.934576945567105,-0.7192221300201279,-1.8398829128977152,-0.18448552619365305,-0.2246600491890016,-1.065579094396493,0.811295323380187,1.9933806746486273,0.24538507089852163,-0.78838604642682,-1.373912953963199,-0.08428816983457253,-1.428356171560874,-0.4424189913034202,0.844440903074474,0.5949460105198968,1.59972816797384,-1.3547675387932836,-0.5974647383829457,-1.5089059509221803,0.72905972891875,1.4564509488578008,-0.7272453241944492,-1.410145248303456,-2.5930506069097023,1.2368168538700746,-0.7049341441972579,-0.44848057408554637,-1.2993699000405197,0.31177485394206667,0.19570923601683085,0.35650085207150556,-0.005109012563237837,0.03943174164149487,-0.6253266771244538,-1.5622674545660864,0.8994214817099021,2.1921030200975493,-0.13506176881430404,-1.2420719237905689,-0.9637549905424995,0.024492209539889943,1.35467898159326,1.8724926029014766,-0.09795706967647269,-0.3367809939801128,-0.2995261017262293,0.9291012007077857,-0.9670306662807091,-0.12095575972997835,-1.0269754298305644,-1.637767635791713,-0.5547085477669292,0.7333929816018019,1.809109721300532,-0.28624207895504,1.6814845157354807,0.11842762955559478,0.16519180875746123,-0.7077054762901634,-0.4917891370898812,-0.39983882847402935,-0.28355228549121586,0.24652899184114918,1.5798105933969526,-0.006717090707968717,-0.43641225127171585,-0.7967878953929121,-0.05417425909163411,-1.0434063813234606,1.832043601420747,0.13932035219860225,0.904253932944776,0.4072606355123508,-1.1575920614646462,-0.6875209381124888,0.4372088177480439,-0.7884739605123356,0.17104483186906042,0.3080606159608332,0.3482154688687089,-0.7415221767490614,-2.095017012920495,-0.7486099322475,0.032827836951530555,0.8007350926714922,1.05788025088057,-0.09377541407925782,0.3361908212667744,-0.14939059680298464,0.12240819354519121,0.953094405207546,-0.025266379051185756,-0.24041826273730132,-0.8151450647811614,-0.657027127303431,-1.112927925779855,2.110560127446943,0.3405886873137777,-0.015063859983813457,-1.5410703842549742,0.6466429577306728,-0.9897954418784926,0.690358114107804,0.47017122351836915,0.6402586680685467,-0.04547352026453417,0.549558030851289,0.7093085998842088,-0.5111637750441804,-0.24986116328359,0.35472850814808143,0.8322048584054235,0.2455082589772731,0.038793079303608695,0.9582031623361112,-0.06374488982803567,0.48384403703897727,0.42529055419172,1.7340724053093062,1.284421793690901,-1.2938391748946128,-1.0398180577969882,-0.40286932694547767,-0.49224369719408756,-0.9549795633306299,-2.4088956812808298,-1.4684237125378443,-0.47068608650182425,0.9088724269419982,0.8010599412563421,-1.312414088144675,0.2808519156391273,0.14046850613131742,0.5540722895436236,0.1951743424818287,1.2621675624344817,-0.39681498754150984,-0.3767583364511968,-1.279632828481682,-0.028583679864970162,0.008028050567350453,0.14082951278234349,-1.5876892180334907,0.5398485768142516,0.6465629076478865,-0.20120561220988478,0.006859411486852795,-0.21243144269481581,2.1679812463556605,1.5781777961561387,-0.17205084628979594,-1.1647111850873977,0.8795410956143017,-0.9430774373023331,0.5487581111961122,0.5075185691763315,2.608276870137376,0.07144488400482732,-0.6022528621477454,-0.16025746322350404,1.0708339425191562,-0.09682144073183938,2.0971240109494427,0.933522550281925,2.2301010375850123,0.13217327567743345,-0.27876288098136576,2.1412340890532677,0.12097433387542067,-0.05633677487311188,2.243192307427613,0.39303325279367196,-0.6967708728159139,-1.1405915312470656,1.731876877289144,-0.7141645872874062,0.9446189208867273,0.6663424449997936,-0.11397649726101075,-0.299890591841999,2.8332369364427503,-0.728423525076929,-0.578097857492259,0.4312434773945334,0.3646991876816898,-0.6999318459338728,2.0831151005725266,1.2589543565180932,-0.5069102807601983,-0.1117960270163433,0.5870302352855127,0.5862103501025918,0.6171729825960165,-0.8490266730346129,0.3908364584521507,0.12297688214025426,-1.7840473705598805,0.09613473420297051,-1.2151085102665795,0.2613249990892008,0.3917133112604233,0.1340459314510714,0.8451480257091591,-0.2491312106736161,0.7665501453699273,-2.1648748435183136,0.9109280591308717,0.8574084956974196,-1.1850054836631112,0.4254918075868025,0.15351710597110949,1.9822681305183925,-0.17301208869608287,1.386975041403768,-0.5431607536963665,-0.0566886664188805,-1.242599259114693,-1.2056330135335687,1.685379482647,1.1510025492912637,2.357510687989396,0.8355145041859923,-0.5761932201748282,-0.4942520148835336,-1.2941581385276935,-1.5626031741586377,0.0713698004700481,-0.028371427697112157,1.1877496445268796,1.0141786065715797,-1.533624597827551,0.2507335282026609,-1.8524665660139878,-0.41009132609829346,-0.7676713772943432,-0.30171732723218264,-1.3336342417369933,1.1647553496466876,2.13345041069429,-0.23239206794729067,1.19051644333857,-2.6273634817563347,0.11722631842458012,-0.859528727803681,-0.23485946935897983,0.4552468214950111,2.108867269382422,0.5398822192622366,-0.1631072020189904,-0.24342659452640641,0.5435366431699418,1.0078438161887981,-2.196781999949882,-0.42750110582355677,-2.0590170487733475,0.5206398346281517,2.195261541690349,-0.7566417386483654,-0.34225487344430017,0.3901296153966047,0.23935805991646333,0.22096267404150785,-0.3824335007031151,-0.6247631405451411,0.6363849150909614,-1.6786073641877963,0.7722498413852127,0.5551640364949113,-0.5990453030290309,-0.842625540321714,-0.4011730746030603,-1.314475772214459,2.299601623552796,0.5318470500758163,-0.683391249589213,0.7998341783435645,1.5480980487442497,-1.7378059158356984,0.7818019577254136,-0.2694143124593592,-0.7985299278297041,-0.02332909951848132,0.6736950890238015,0.2323455352838524,0.22955056819335318,0.583037974286543,-0.027578736280075653,-1.5056334248168588,1.5057647261942602,0.19544015726596187,-0.6306078171213103,-1.1554575623923602,-1.866438689694975,1.8056694959770463,1.353472606740964,0.3147317029434646,-0.2977705132139908,-0.4111477855825424,-1.3933223332315972,-0.47796715191744793,0.280041743592277,-0.5544386779559887,0.0534656348638386,-0.09843798664218288,1.9634735934088765,-1.6905688421562846,0.5744076266763838,1.2063922576572501,-0.4198587192997873,0.23518523080766582,-0.5961223796252857,1.0401412191486838,0.22892084064803897,1.2669059131246267,-1.142261021872691,-0.35918230575820503,-0.8800405207105608,0.30401017169747524,-0.6998465141407794,-0.6114159296034706,-0.13187567681613072,-1.886335472556188,0.16684893407581283,-0.6031624628705917,-0.9370108169948407,0.2432984468806058,-1.2342409865515835,-0.8735760793398782,1.3936591004086394,0.2832085501318837,-0.45131666652431446,-1.7436580749063395,1.4448860448566907,2.0039235415680485,-0.5018640317370757,-1.9755988870516061,-0.10087964826198474,1.3266712305300354,-0.7718857203778198,-2.3908278772680207,-0.07844332372144383,0.32069332621444835,-0.4358940074131709,0.7043580460929173,-0.7900754558783222,-2.10643990530462,-1.9908600237682315,0.19230992793626128,-0.7844977639750453,0.011778015352657399,0.3631683225860756,-1.158784441979609,1.1100776998333783,1.2435611096343335,-0.12266543580808777,0.5526983002308674,-0.7214208540850656,-1.6667138178252818,-0.3311221381736893,-0.4192674658688768,1.0313525580332896,0.5623045549415204,0.4738006636868103,1.035645605427171,1.455499495952899,-1.1373619044913408,1.7722425842178808,-1.6546388781450299,0.28756952007084724,0.7257219223433127,-0.802811515651045,0.30569091410725613,-0.8441306544111443,-0.8156926955519278,-0.3403391488828762,-0.46209919789229775,-0.2517662188299,-0.38047410803215737,0.353916523490445,-0.1867296085231889,-0.8696650040703445,-0.16065153151507208,-0.6540019321351879,0.714081710702046,0.10278172643196895,0.8428961960603526,0.10720415439785408,-0.9396074339927224,0.3375957438016125,-1.1871770258310146,-1.272969018700718,-1.0521916841302903,-0.40570675065209216,0.3252771535915009,0.09473649506289399,-1.3364636395811993,-0.6435416576078661,0.5714599706490484,1.0254347864707818,1.0208787494022393,0.8252310300115013,-1.4745884938551637,-1.4539937337330107,1.0459755716601615,0.11941146246459523,0.29072381111680695,-0.9217758608899711,1.7858654391449782,-1.048566170298058,1.4475976233684673,1.4160568558849722,-0.7430798764481976,1.3436802131574148,-1.4845472127273136,1.8512046477595308,-0.6440339078577014,1.5210592443561204,-0.054896803818157355,0.9163294556875299,0.6877231022768332,0.8791267366980764,0.17101269949099654,1.4222265796463018,0.1625923830514093,-0.19636379635063933,-0.09190473212184011,0.49591992177837335,-2.341392808148818,2.5413543738670734,0.05027071281970602,1.156783496174255,-0.24913531623237417,0.3569116347926788,-0.538010906507468,0.09818349912077434,-0.38312612010278074,1.307093720923112,-0.19379477532659098,1.636488509755138,0.03992473428460492,0.9493842698955413,-1.801703009541594,-0.6997173613785361,1.6007006330523612,-0.4414272926580313,-1.5656502295658576,0.13713818554894278,-0.13163102028980253,0.1442543174575286,-1.8253717500206557,0.6059141342439474,-0.46946525058201566,-0.3665200279367319,1.2427843879179918,-2.0245372926489282,-2.0504757522423405,0.7927262135157261,0.37017524882822617,0.990624399193544,-0.20562159169519167,0.6294840889775876,0.9607028750713509,-1.5883185793882748,0.9232641433160323,0.8751160602150743,0.7657702155261292,-0.09849209852691211,-0.41054687355528663,-0.4815570373757001,-1.9825602718899613,0.5503599508327761,-0.3811276871963754,0.047931300910945364,-0.14605393133783834,-0.8213983786241998,0.8304073422103417,0.5752133925098152,0.00153617605537147,-0.09630883566024598,-1.7730873775347504,1.4136643041228802,0.5475505802012143,-1.204788708717815,-0.7072941929476676,1.6021578145305593,-5.579511202511599e-06,0.7610069698714285,-0.14027199935296042,1.824831585851487,-1.2587716146773322,-0.8503607764635075,3.0570921101123303,0.588544917962304,1.2473329494152121,-0.40928106558728744,0.46400027278128114,0.1048484254580791,-1.6192930729903048,-1.234812070287014,0.2604708497780573,0.005817170716988387,1.4126839780913372,0.8402975908861362,-1.8397577489969943,1.3075427636711783,-1.0064436737380762,-1.2281949500426605,0.9134391814666072,1.1975091802700644,0.23397890375152608,0.44914168238417823,-0.4313459008015403,0.30733611400030914,0.0835614711807169,2.0140719798846427,-0.4671792344511679,-0.456869602554341,0.7162406190703516,0.5350107403640745,1.3234197099847709,0.2325567966679178,0.3793261478053902,-0.8203902955939099,-0.5914027605996688,0.3718698021487487,0.03733957146407731,0.6431274887215589,1.7812328903647716,-0.7179428646435752,0.39399144115089807,-0.7916730072071346,-0.3255838107778837,-1.9264737962277232,0.2740823083280172,-0.16025560222646618,1.8405822011247375,1.4801227287693774,1.0492277488318271,0.6690387986779491,1.6737751174183857,-1.8358257164791376,-1.1578381794026782,-1.656768770758164,-1.3922823951794414,1.865341864732956,-0.9691835850036736,1.1962667231600437,0.8968120330395564,-0.31548130285188963,1.2235733661549013,0.2063326052545958,0.00656002495526554,0.5992513027256468,-0.9265497103980175,-0.2897870105637903,1.1950897804938103,-0.673512734905742,-0.5648511396146557,-1.6166491024455325,0.7458118744891664,-0.06427502462938188,-0.13421154405875002,0.39595397202349913,-1.857942044004946,0.6940214426518502,0.29488380190983393,-2.623579257796062,-0.06465073600462583,-0.13395505188111126,0.9263600585425039,-1.2135826321548473,-0.10959161067659116,-0.5413070456002077,-0.962589000782982,-2.103250515012246,-0.014141070641661846,0.7245277593466146,-0.9282584882490109,0.7748250711871941,1.6105317236118935,2.502704458491481,-0.0528676542846476,1.3246621444953104,-1.7280228845220802,0.7060566487187683,-0.6670962470258324,0.7746222967894387,0.9930680165753505,0.1904597624174096,-0.8348298236696061,-0.5965087976205536,1.4789459646449723,0.6397343015747025,0.040760989344784275,0.4438748580374994,0.8693035577641515,0.5950026358170425,-0.047212955310426796,-0.3807501381388765,1.5596564057883278,1.949683414098706,0.10522741627337406,-0.469371084910487,0.013871975490577927,-3.166331995753341,0.9983004701884834,1.964426273047587,-1.3841052564890681,0.6473245177252978,0.2321766750277704,0.46390179030018935,-0.3813149348953103,1.1599694983740143,0.5119706570733145,0.8355370356095244,-1.799744398818019,-0.7602796139431623,-0.7212742229763602,1.6140308153654765,0.36070589677563164,-1.0486992660618986,0.9836887559420059,-0.09075112598077703,-0.4623215192956811,-0.3557019193698097,0.4625636717822336,-0.3569435172103973,-2.160936027725935,-1.3111459838800077,0.40856760678853876,-1.826224900077778,0.9350793915027094,-0.07882378599358623,1.943375651086299,0.15273125782697392,0.2279962201426337,-0.2771866182609222,-0.788407394210459,1.9325544765141174,0.3132977615585777,-0.26969983156204824,-0.0032433306908185053,1.391416209599937,-0.8351838025355917,2.3612313809146626,1.8314273005983757,0.6902790498811683,-1.4558552278331867,0.14387424716753963,1.4026557729633529,-0.009794891829332908,-2.0356993588176753,-2.991008545537987,1.0274573148450337,-1.5099828599092393,0.1332187332852605,0.4357686242043305,-1.2472641533589846,0.1892268779735384,-0.05884605817581805,1.4872847796851174,0.2544341672272626,0.4574595144929178,0.5988086760359689,-0.5220940095422906,-0.544647606072358,2.850364686416001,0.7543957315815859,-2.033384312589785,0.6484617706246713,-0.9990976201242222,0.19120027263485867,0.6831664583526056,-1.2848058483886264,-0.41044620504940815,1.5727105599415654,-0.5391376618223015,-0.2306232528844037,1.7821831139403337,-0.8272415913779915,1.1999631019844985,-0.13187873239934125,-0.36111595870425445,-0.5099073682826001,-0.33412323045092945,-1.380756664041274,0.6839648594089927,-0.15747526490006336,0.0931584376499049,-1.5045594922136731,0.11457901083835659,-0.008038419511603393,1.0885850915448523,-1.2578820701458673,0.2066486384001494,0.8359157702043518,0.44746783492066755,-0.16843047689250926,-1.8094408867296892,2.7655536952464064,0.4459271999200616,-1.1522015064085542,0.45328270774475204,-0.4388627668550488,-0.21024800697102336,-0.600253196136185,0.151911234558798,-0.6204490302348894,-0.3251943972277467,1.0134810499587705,1.478326523799757,0.011680856172416001,0.1622775998639722,-0.18048861168359645,-0.3180420717756567,-0.6306667283482741,-0.9984553858768156,-0.22353098761987628,-0.7616171500661709,1.2315219661370844,-0.7785239850569988,0.6872078305462204,-0.01971170124966158,0.9864876920915405,0.40984282175199144,-0.08003092743957341,-0.10333855099752118,0.6414887752020159,-0.014946406297380515,-0.02667078630712676,-0.9788889567899279,-1.1683990066269607,-1.3620200203153714,-0.7598089145764272,-0.039927461536188154,0.6531219165962745,-1.0050035108940512,0.08877928424732492,0.18162156478161218,-1.614785604874144,0.7178365702901056,-0.16294578961321027,1.347270606410923,-1.6236249630345443,-0.7124621201227285,1.4892837215638566,-0.22410947270770606,0.42526180273096065,-0.19547965208935672,-0.9464970387402277,1.5248142852943412,1.1832728938342796,0.022301878966018433,0.6382220071739964,0.42553125699273253,-0.9433908784454716,-0.9917249319622644,-0.6400698202768893,0.003897238980645859,-1.371896271231593,-0.514003218991007,-1.3469917268298945,2.1894287767744305,-0.570487851059021,-0.28390595072541974,-1.7152637836667735,-0.7157392469896323,1.3315028832653582,-0.2839599503636074,0.6059569432919008,-1.9669891206670143,-0.9185396218860904,-0.4228268967338386,0.1862410052397992,0.6469079096695551,1.1271579047246745,-0.8242841861571851,0.20719788966675773,-0.8088354707157727,-0.2607665951624569,-0.7996797312622138,-0.564802910648721,-0.17310553379898935,-1.4452223662493826,-0.47788358270764314,-0.019931671847240703,-0.36278741195821507,-0.030350331060791873,-1.1231778766438405,1.5081296591212248,0.580713308971926,-0.10526099604514227,-1.3271848462401086,-2.0152885723792924,-0.398757171703036,0.272756600065593,-0.1161102485195099,1.071586996097545,-1.8301630714843582,0.45677886516782956,1.3820663151778176,-1.3742514152361067,0.5994345128021141,-0.22154225062512312,-0.44779246162002284,1.0291702404416339,1.4347349237507252,-1.2192995577477475,-1.2648623403574841,0.43560007628397185,-0.1696429994176648,0.5671164939857829,-2.205548453402961,-0.4595029831858837,-0.6939344535348159,-1.8411769425399067,-0.5730150162575964,-0.06570830576964816,0.9645172709982012,0.3047461844047345,-0.8153890931574738,0.09412619358198712,-0.0727440910225704,-0.357657546005404,0.8645359877681539,0.39661198509678525,-0.10274407891528001,0.3457815517555768,-0.16271453211592204,-0.5548658029989898,1.5180000005122238,-0.3341121297351151,-0.25154651334681627,0.8354648956018735,-0.28149991785410317,1.2028584171943193,0.23913292796459645,-0.6424702077179226,-2.1788777065432163,-0.0031188568838696343,-0.5029837099415365,-0.1432447489071826,-1.7391733691395848,-0.12356500321542702,1.2278259832651406,0.436444865242317,0.15966015033251071,-0.24750211154190585,0.5605074909724705,1.7012388960607971,-0.4592698307324492,-2.245575841400929,-0.48548459893287293,0.6567074577661618,-0.3930553262545764,-0.11336859619932695,-0.9891213826987255,0.9770735448387805,0.5105975068543128,1.0947717993580615,-0.08409107526987965,0.18059834520160142,-0.8226432053489018,-0.5047408909649866,-1.2888156615816329,0.6502555450678146,-0.9346844251580985,-1.2393414148464037,0.12377495255110486,1.8240976768726325,0.6704243805124833,-0.7019406671204592,-0.08451890353690432,1.4497719966139835,-1.3183460472663937,-0.7893618898626718,-0.566655044344879,0.951024675102823,-0.3147640494502886,0.3452149800899153,0.4603203287526379,0.31133958932993594,0.8590226804554754,2.1822502499647705,2.093958770153132,0.09149737566783245,-1.1216524966263843,-0.9435583187133476,0.28938150943647073,-2.036096306795085,0.08905701958996358,0.5192826624007206,-2.0499248325860076,0.22617877556043117,1.2864387899938439,2.4611026449175046,1.7675974557336065,-0.156832307185492,0.43246324117652296,-1.5589012137396074,1.4817633088578663,-2.941922209840373,0.6410170360772073,0.239315271565656,-0.04479597944109596,1.0360950880857511,0.5795392647357844,0.285050298578902,-0.8397944215947413,0.8995800131653657,1.7164238144042638,0.9524210388580215,1.2853200575960526,1.07405439209206,1.2481038268838538,-1.181564835606925,-0.7092858894119876,-0.6053039080967504,1.310280554230839,-0.9543416791128592,0.3835051929684184,-1.5680356267325497,-0.046279961874514906,-0.07080712745262363,0.01707754344554796,0.514192311617676,-0.45772670751754513,-0.9428904526621061,-0.6991741266310124,-0.26663293590474574,0.41739788419958374,-1.2842738749990008,-1.3828323358801977,0.5657752387928753,0.5692064610817907,0.7749051006242093,-0.7923019292508918,0.3690601704288909,0.7903295687623848,1.0268481072162716,0.5311379788090275,-1.4866776122220704,0.9302074018835979,2.1533646576339,-0.0026020821340250744,0.5522259866368145,0.1654601409580799,-0.40769298749338095,1.4719451455932697,0.3127180811553209,-0.09626026109474636,-1.4933253934986654,0.40781114723987444,0.08759511310408008,0.4047948731817973,-0.5764929756536156,1.3281210893622346,-2.3536379818732587,-1.8338523690293531,-0.08060546037625925,-0.05676008555505025,0.008891284320598351,1.1393487356981993,0.9824513998529727,0.02951626480360196,1.2018805771083805,0.8767736737366683,0.856391641758432,-0.4545113918771347,-0.7059360563456837,0.12381837316800418,0.8445042734616808,0.28011120973648335],\"y\":[0.25050609476009283,0.0030004651090658526,0.5524223136429547,-0.6488226077083485,1.2479256640927272,-0.5308153541094189,1.3127910679260282,0.20815765004404002,-1.7846853774338034,-1.5153810993298331,-0.7190671154523401,-1.7973128280099047,-0.06974048358419303,-1.2051736292919975,-0.08481540402581782,-0.747402686407019,0.3655581185664324,-0.3819117538427739,-0.09002410850101102,0.7458214724734473,0.5657700005654962,-2.175652159098188,0.8218414771703706,0.5850746984438395,2.4133844708123235,0.10210801850625217,-0.7911849364539602,0.48370850071065913,0.7087825853878656,-0.9763061224871087,-1.6362116343699058,-1.194075933630571,-1.6547916940724456,1.68545105411234,1.0339064851708382,1.4768519223601213,-0.30071123834539754,-0.6076220935628984,1.0844863157717135,0.4497865453836335,0.6388739036871578,2.0942043951601508,-1.0478555254651905,0.8429429445253769,0.03151718340690123,1.3035433469551228,-0.9756625354441509,1.4402221023212143,-0.7855795477691117,0.009142405713819916,0.6835463803953887,0.8164579972181917,0.02550326272725123,0.5174960269262113,2.5321642162352758,-0.3241456603279669,0.10705913228799893,-0.5502015937927408,1.0098084772295641,0.7848311502410641,0.37358348354400733,0.17021998371161812,-1.889607303010635,0.4527761507556027,0.5592470242016772,-0.2638638728356517,0.9391530774125032,1.7543845033316343,1.392075957644774,1.412808218865146,0.6432418172315634,1.7820328999719086,-0.005708083088053558,0.3094855846012524,-0.14281738581932568,1.1708148011172963,1.5718727237546644,1.6014536911703143,-1.1526391592211633,-0.9790339360435333,-0.10305032210497973,-0.08982088196861504,1.008928656607252,-1.4886058939328828,-1.6694275966018413,-0.13528592268435116,-0.5288761826804271,0.258752436686005,0.4183888795065857,1.2813542572613499,-0.15609759576904034,0.9031784369060536,-0.2568828783103753,-1.0619796336658305,-2.268663823671183,0.1313695046597388,-0.8279654382829856,0.6956399481156238,0.06619508206508863,-0.21015725754332168,0.8694663740622965,0.384880821863838,-0.41336270084838195,0.4466524304973291,0.309615048554639,-0.8453791534628302,0.553689625021151,-0.5484061132309216,-1.9235668119210863,1.212825434224671,-1.3263454759346747,-2.554497136698884,-2.415449069649477,1.2987337354076267,1.1767027187296535,0.43291172823666346,0.7595798838346278,-0.5509918935803204,1.2253068209696876,0.9004049652040135,-0.7916853074041149,1.0717954344179381,-0.23911996272748173,-0.6201637930627024,0.55374551430722,-1.0880456928095108,-0.8737296600891892,1.3242829931913915,0.3668958074367885,0.26105845024133056,-0.7264922840841075,-0.08252218479309162,0.21287085036448083,0.02798604495094648,-0.5646739831057761,-0.5117077014731328,-0.7358074052894166,1.2834012149550995,-1.340044191510235,0.007219686086603071,1.4972614073093489,-0.04609665935234763,0.5832496922048391,-1.160912284573802,-0.8877020344794185,-2.186678021404555,1.7487283717368767,-0.8719783272724331,1.4493763554675398,0.11561214078396854,-0.8972141854272594,-0.29355953166479615,-1.1682435059504628,1.3786205320999103,0.7029306137055299,-0.38007980865336044,1.0032308211482863,-0.5685765137851263,0.8713943460995273,0.1927885796500527,-0.2751621456168191,0.22684271539656603,-1.837909029969711,0.5014835575497858,-0.3546939089017811,-0.4696171175794592,-0.4345301163163577,-1.4616570556248334,0.38909851914139076,-1.5400906186922956,-0.6872201259078786,0.7482639365509252,-1.7892755878261868,0.8400639168089808,0.09819463519562766,-0.2615110732860843,3.1793374019239726,-0.08670782047291116,-2.1300441913924453,-0.4554377001417159,-0.6377633484496905,0.733157439935938,0.28870473359009824,-0.9193502098873848,0.48687161988351946,1.6424137888751968,1.015535311115342,0.9138342808974499,-1.6218024187224305,-2.392459364977683,-0.1420622592139242,1.0582889215079105,-1.2950118177782814,-0.5360598451217263,0.0731377606026403,1.1234249878168598,-1.5759070702215632,0.11304870309755373,0.4422367727290712,-0.6032620828052875,1.8626049979893835,1.0401778661341772,0.01669400356380883,-0.09203427486901614,-0.3637457690533202,0.22495212968339492,1.1616132507353933,0.04095237700946709,-0.6766285558027316,-0.11833905998707339,0.7281348538685237,-1.0173261169720615,0.4988816656128602,0.08121816158344466,1.4465190343394592,-1.1028652379852462,-0.42244143294951275,-1.2752585402757737,-0.6097536444022841,0.6410262067138363,0.8444186389101047,-0.5909109487788097,0.32074330184721456,-0.3421928846739918,0.25911507025855096,-1.0724326475644987,0.815436250153532,0.45743279240665713,0.02120133953180642,1.1981606450102738,1.2376959462224455,-0.5611798761045033,1.0233464376540242,0.2214098729640432,0.6848854352022663,0.8499813647671488,0.3031451674980366,0.8252626927211091,1.7716091587496114,0.0357398071154578,0.2847729496048749,1.096715308379943,0.35404747521392504,1.0986586959617928,1.0751734643453659,-0.727139026004347,-0.5042717665465527,0.46277277275164597,-0.5162293422079407,0.4373821879601408,-1.9320525486069755,0.7076964850107175,-1.0665220380197293,-0.8000173429710902,0.46005002101947756,-1.1352061399555284,-1.4581519948413122,-0.15657589287547624,0.37886602695868615,-0.5647192114539014,-1.0405458576132194,-0.12480252529942139,-1.4958364429239837,-0.9790399452620899,-0.4847165649552854,0.24095656593259798,-0.4641789356080759,-2.032343779870609,1.2079144628375893,-0.7173108950091918,-1.5857396763833582,-1.4728592736827695,0.951295293115328,0.542659136881205,-0.40750184014503016,0.5241485171204354,1.1532756770518728,-1.1488705986557868,0.3210296367733202,-2.3162181448062316,-0.7863614176996532,-0.8675095630817283,-0.20779277685812964,1.022923261773937,-0.16264982475502576,-0.6378977980139955,-2.109040643078583,0.15285280300673657,0.10033428746595642,0.7985329015642794,0.18719475804312377,-0.2442259987822182,0.12967305916573815,-0.29616787535252215,-0.5644133631791696,-0.4789731663069605,2.5785588664235832,0.5610897927318939,-1.662086910629218,-0.6667074634131411,1.8559436566359517,-0.19365809406941295,-0.2899468119778489,0.08239792926657928,0.1620798023308258,-1.1789280029928473,0.30861494091827657,2.080948191438688,0.17395805813645698,-0.049368907625992935,-0.18639712772658892,0.856392096089919,-1.1465066570547116,-0.609085160191032,-1.8616163507385233,-1.275677414663254,1.1678548286269912,0.6743054926560207,0.12715178654877785,-0.6859139931657987,-0.703424625908697,-1.0666022612418777,0.8910920193100705,-1.393104074633198,1.0922052820949593,-1.6581721545990171,0.09785634393280203,1.3128957271937751,-0.8078793398679767,0.8576282354169649,-1.9303162965493132,0.03405062439287506,-0.022452808575351445,1.2384433462801023,-1.7519410808804596,0.8047770172752632,1.7917319529262852,-1.273442937003866,0.18279819593861196,1.7275355883514527,0.4082866048261445,-0.04779002293358511,0.055053551824683564,0.6983706303404468,1.0412711195895148,-1.490834481890102,0.12513620982995424,-1.463287325630996,0.31722407424828086,0.2315586506830054,-0.918542981795037,-0.20213956500656524,-0.18911032894151397,-0.31026307650620544,-0.21954316972091045,-0.46633194179246085,-1.0070272736801584,-1.106999892698809,0.9975969403818966,-0.0403327133448877,0.14114251032226,0.9866459925457108,-0.4112685702018566,0.022918903280537813,-0.6114754043789101,1.3033040785159227,0.4725091010047569,1.3927379926097332,1.4841271017427962,0.27743856289409,-0.17512957720833222,0.9145366470009568,-0.02011024986683093,1.096462615940105,-0.20488943258664533,1.6875491783789842,-1.2822952337752693,-0.8431271451217714,-0.06850429106927008,-0.9811055142203493,0.5574706646276707,-0.10703333028740676,0.6812809105640354,0.024105084945749155,1.3144984991023763,0.40138141673857236,0.6545914778959717,1.4511387539229468,0.5225127515058949,0.8434900472579351,-0.764767835556175,0.6720991904980775,0.7808434241247554,-1.7021104294486928,0.6154524693192829,-0.4186425327804643,1.724310350063445,-1.2042415478696833,0.3130722263520311,-0.19143721376851275,-0.7563545328127226,0.6230042981527254,0.1466422228907432,-1.2818249000800495,-1.477921947510572,-0.45479020947916754,0.20671265976448838,-1.443480679875236,-0.5727668677446112,-0.4120477996885198,0.16042585586946514,-0.46636472602665396,-1.081515927147076,-0.6290954893141838,1.1812637237682597,0.536735425262891,-0.4738373497594471,1.3291001500612314,-0.14082481002481806,-0.40590448545786234,0.4890014387213559,-0.015969494697304094,0.4269671007838707,-0.6472150561298006,0.23608261691043664,0.8011830973898876,0.06100527450082239,0.1784080935061504,-0.2387284120438354,-0.272504790070189,1.4148371410771734,0.39936311100720595,-0.26492136459762705,-0.37960036833346916,0.41185081257202855,-0.05165321467085935,-1.7211904623485157,1.0329910499695492,0.28905165688076495,1.195186913208505,-0.3976977026288993,0.2182898395484769,1.1173460451077937,-0.4002789343117277,0.9085249779828987,-0.5970291238188219,-0.03679337324159869,-0.6616190621186151,-2.329010471080156,-0.8824066869996116,2.1735379045701455,-0.3713179149423788,-0.30388645050264707,0.28980000847011456,0.8047813952962729,0.4054878524902272,-0.43432898989700375,1.6794196622350597,-1.5099310197778761,0.6722702909769224,-0.7030685238960269,0.48743997424359814,-0.676054159271135,0.8458724706974876,0.27937116502135667,0.9687589437597646,-0.19046412853822242,-1.7619256357212272,-1.3137689294913235,-0.4723713201555558,-0.3509046472725066,-0.7986989962877084,-0.9821301328056349,-1.8513039046049427,0.4504670298067862,-0.47017358307538704,1.6508780655401065,0.22627361172086305,0.5424414224425861,-0.2627647029438465,-0.21965723687142277,-0.7742921182904545,-0.33519096612164206,-0.26758387880143775,-0.9179636909277077,-1.7630499771180987,-0.5227071565948039,-2.7010382603007805,1.1176150989510514,-1.1174553839770687,0.25657369192585483,-0.7589479452052714,1.829918121341258,-0.09272396138146054,-0.4443403691433471,0.022162194249646883,1.9681125057971076,0.1929597507744939,0.46048014216037636,-1.3809263873553048,-1.3345517050958047,2.0116769871134115,-0.2869463699794904,-0.3935926777786429,0.42033110935412166,1.454543959180279,0.05113020767690329,-0.23594403211657983,0.39482715915892935,-0.6797278435904334,-1.7053323686500141,-0.5283106500500504,-0.41046052994261945,-0.047730496565854395,1.9517451495323719,-0.06777169696774545,0.26205546575584204,0.09668304928985652,-1.03682712286367,2.1516959449541093,-0.1515770620952362,0.38529949925785534,0.31975149249312323,0.9444415091915828,0.02919266889352085,-0.3655670617980617,0.031087194615799358,0.2512029125698339,-0.19843639549340014,0.44347065632150134,-0.23323486623073386,0.5621075282293665,-1.0967903816655231,-0.16063168145345103,-2.507098577056796,0.153462143737839,-2.3257925718676993,0.1647574813592169,-0.3387797523427237,1.2497059249930889,-0.4002765948889909,-1.0848543872338712,-0.08967858974718924,-0.804552946890749,-1.3652796708415504,-1.4980511547499502,-0.1027572069195776,-0.8953652402107993,1.336461240083169,-0.3655597178661835,1.6537783199134204,1.39266912420587,-0.7600077971018069,0.002232809675425009,0.4625208573368677,1.5565628408302157,0.5230870605751267,-0.04908475448464546,0.46770382598148214,-0.7015828111339222,-1.7098671744929006,0.0646039508480374,0.26301209378236,-0.620918165452059,-0.5324905226837388,-0.007349620065699979,1.485010726892002,0.8060838979198542,-1.5054649843424448,-0.5991011916563479,0.48839695650482007,1.034510284209622,2.254890628896241,-1.823508415040192,0.48382625294599924,-0.1492999210054008,-0.5307593644396803,-0.4498756014766365,-0.18330126022835547,-0.3635701958943089,-0.8213059681968096,1.0030463760096302,-2.205206266278945,1.696172553635219,0.6340174879852681,-0.43264922637568876,-0.19182262659257351,-1.3102366268324908,0.4780931209094271,0.8990952364585522,0.7571809462299433,-0.9168157635919065,0.7734822445046023,1.439242564657576,0.5137404916018314,-0.48759662158885103,-0.29411093346219086,1.4734208466505705,-0.17277335890125042,-1.2165668322055903,2.1150387437715015,-0.10994328653962673,1.5433152169310542,0.492916489047503,1.099056830691693,-0.17799170078913143,-0.4849116575042685,1.1446086829818385,0.9457247196028276,0.6975037829007673,0.3616766509281956,2.4640777211326284,-0.11565974687020678,-0.9545232413863574,0.2641893212364025,-1.4361805794687499,0.10915387222917418,-0.599691466111542,1.0931243697704092,0.4166875197687251,-0.2836766054159715,0.47397282574850225,1.8171374302017147,-1.3070554862472132,1.212960787400571,-1.3367330662566916,-0.4363430703385006,-1.9141725613010925,-0.6591022294496356,-1.1881174553645841,-0.4855799616854638,-0.85163748003156,0.153489822928468,-0.46339667960644054,0.7209995112159343,-0.049848757636975195,-0.9988854597963508,0.8379409265665734,0.3803623416629129,-0.07977038544350645,0.2195794685739533,-0.2757007594509705,0.3623407798403987,0.27237298055139886,-0.23845875000586012,-0.6026279956857726,-0.21411075350367217,2.195588142180795,-1.0366613674712495,0.17277009941572805,1.5510039989530868,1.3393292194906221,-1.5575120430673195,-0.6511784447603747,-1.2022748288123453,2.1791672613297286,0.3688132960948365,-0.29857087529647663,0.16200018198522984,2.4169645775672888,0.26607110005439677,-0.9923094067762411,-0.7304127491766216,-1.5085104934939473,-1.1953176078560868,0.008830869092020327,0.8591085411483121,-0.022266419812790598,-0.058773966549547564,-1.4637638908077928,-0.33628055069156554,-0.8194524077843893,-1.303158528508218,0.7710162560952357,-1.2445585997948996,1.369323578737425,-0.7751542093496668,-0.43846330205859724,-0.4747484564496387,-0.6054784605477409,-0.5828068899931947,1.4064941815541336,-0.07045070766597392,-0.07931642362689069,-0.6002009819739493,0.06498385869025135,1.3472196752116177,-0.6300333884141537,1.4984396490498286,0.19343276409770238,0.5399003572422248,-0.8336907286159306,0.4303110157274294,0.08954330784775284,0.8987116275534227,2.43893339481085,0.5949796489392564,-0.7903320833341627,-2.71546599049831,-0.45688789449547956,1.3868825667535374,0.3635342776312941,0.6388313296519463,1.195453554250292,-0.2821187718845466,0.16595528458246597,0.10177949625603559,0.27376281149219345,-0.3871860807447361,-0.38488636559316336,1.786422136592792,-1.492212949442347,-0.4009444308045116,1.0669078752347754,-0.14021603902820154,0.863162650015835,-0.10050304364175303,-0.6438816053107178,2.010190337968157,-0.4878066418556827,-1.4057701557399116,-1.4299810484975395,1.0931352798374785,1.2730222752908975,0.037792243415456846,-1.6465707840187902,1.696746513062621,-0.353021057918157,-2.102812714839042,-0.6656460678592472,-0.7895141208378081,-1.3951566370156985,-0.4701176949487766,1.9366786054779597,-0.2780374860445139,1.2947265172720526,1.3571021530922518,1.0195108483148012,0.0626963994082289,-0.7722998020656351,-1.353209182537532,1.0643149268603325,-2.640287903169448,0.07029310524184747,-0.5288450188880869,0.3638227250102882,0.2465970109468828,-0.11052559918009715,-0.23743676425814433,-1.677387843120302,-0.08562675823228623,0.5984546299630684,0.6076379090972879,1.254124672057115,-0.9724778149831481,0.3143545194191499,-0.058757956215938184,-0.03737652487987073,-0.6802828041691912,-1.5672140547661044,1.0463712798929348,0.011779607431918354,0.19906242655162534,-1.387986633464073,0.3947178451929407,-0.6544888761951909,-0.43241078879186734,0.5529688788719433,-0.6476489907686221,-0.861413119962127,-1.3531129534526538,-0.6984103584903586,-1.0634539106852559,0.3516009496637605,2.192674055018413,0.8701948653279472,-0.026203766684250257,-0.1612220190020383,0.46359793232707014,-0.27600074575817984,-1.156750181569165,0.6798050439901265,-1.1728500356905869,-0.18410887618957578,1.0382651634749183,0.3947340256619207,0.6859121318450213,-0.88545025729977,-0.3150055332303982,1.8126579166330625,0.3147616747323655,-2.6740421090810105,0.4059699223029372,-2.814693660123929,-0.6930434598461482,-0.6492453170372148,-0.8402318705494847,-0.14630092518220958,-0.2375964670024113,0.19133324986256467,0.17238740645483738,-1.0415195960057646,0.2991669483810755,-0.7584674424581026,1.7878060389572574,-0.5649400282340064,0.3043535930866452,1.0205266068186039,-0.5667949669104921,0.1917677673659334,-0.855743027934645,0.2763033763577128,0.20224118655973058,0.10651995698684925,-0.07188380995994023,0.44780244390635754,-1.5615166489539152,-0.7470479808014171,1.0828648276146124,1.3148346167787655,-0.968651655027996,-0.8087261235810866,-0.005589512415402244,2.1446105167859155,-1.845470204820757,-0.3916671112517671,-1.0447118829772202,-0.5137341826333847,-0.9631175540932926,-0.5287077671624641,-0.5124697112105684,-0.22473335935761898,1.5922851889014118,-1.9247261983034087,0.04208562593001435,0.9809193965521468,-2.1715256850186857,0.22026544112456617,1.0274724018083001,0.19146882644173502,0.2966209929572214,-1.251048096697558,-0.9480605820509905,-1.2452603120344947,-0.5948701446344465,-0.0728012671598547,-1.7292582637192355,1.4853841957627223,-0.28522507588836427,-2.21032938119405,0.41047064809853306,1.313858253987967,-1.9927269721846654,-2.4045677600322293,0.17563487066987854,0.4494777777883911,0.13197529133720184,0.13886685170236462,-1.2747313569637944,0.2615858758460099,-0.9627393919491288,-0.7762717239981387,-0.4536576763425273,0.38619998896098967,0.5330995152486147,0.42322347471210003,0.4650280440565669,-0.13909190579500164,0.09453065711883347,1.4137002776931857,-0.8848798381064654,-0.5613883141116315,0.4271392493358198,-0.7719578864453772,0.31355699973984297,-0.710808301641366,-0.4668353989062388,2.9251593739618813,-0.5354517739253739,0.6068426028196436,-1.7521068471130539,-1.5844215547596894,0.08467806480852133,-0.12021665980445842,0.2539441294754349,-1.2967572927173594,0.13812642407570522,0.19331265784250276,2.2050709700426623,-1.4286981500574392,-0.6580571382406363,1.5159396083972232,0.06760966822277466,0.4564393251414711,0.4579403757874037,-1.256128008190096,1.1030976102723842,-0.6096231739850535,1.7623489428352255,-0.2090700851972197,0.7931232665267367,-0.7597890240027518,1.8581871835268868,-1.160710829567585,0.17706960897194118,-0.1062554459023574,0.5877838939151928,-0.5740409150457704,-0.10576334432512305,-2.067877933451655,-0.7174589918498919,0.40677416919509146,-0.9256282480422119,0.757873446526456,-1.2449964166479919,-1.1063370741072738,-0.725871313212018,0.017526499340869812,-0.11968346613358016,0.8794544119204947,-1.8531276258015983,-1.5286884782924697,0.6187826423948037,0.8811564763837493,-0.38952920954592996,-0.264422145250853,-0.4504878812394111,1.3740073388916418,-2.2464860984112476,0.7408506650268087,-1.9020053337022909,0.20382352965406633,0.6671417029534187,0.666869873715674,-0.6887249573388003,0.0930243768134932,-1.006893990285936,-0.24328554116895773,0.5332809006736275,-0.5005326058311155,-0.6665983184525959,0.3401269947304808,-1.0744375075309684,0.8739425494050931,0.5199375803828654,2.233266326963029,1.182886587423966,0.6538138451393498,1.0499017221279183,0.9849625151269034,0.2143966243313062,0.42147111004828874,-1.4335338280464536,0.5891053304221869,1.836340582786884,-0.19176101741375426,2.0375769576541543,0.22803703322887953,-0.3406016284271402,-0.17014935128939718,-1.976557265148297,0.2740121259926054,-0.7935924735099087,0.010962642445743987,-0.26885170354957,-1.8440277227275006,-1.5834860921760927,-0.0114782143268399,0.3470258615925487,1.5779642675110253,-1.9897780039262476,-1.8884793216211657,-0.08197798920311962,-1.6358083183813956,1.276508047369394,1.1559677978708558,-0.5012594810647238,-0.7862818625321734,-0.8348248742174379,-0.8558500306859055,1.4245505976242927,0.12951135302557779,0.5800941514975937,-0.5560131996003186,1.467784330041294,0.19582099923556756,0.2654877185618999,-0.010971155594760303,-0.03015525448018339,1.1078184574985708,0.7993364497532396,-0.06000718188401065,1.1851077712847506,-1.2339963340719622,-0.24786784224805597,0.5195832576824289,0.2560917252018305,1.367812802758703,-1.4110001653765711,1.6654565542521238,-0.5435425673018908,1.334086453121928,-0.0768777101281786,0.3308647126261426,0.5717384291417286,-0.20943493255058146,-0.608887315061422,-1.728689671679145,0.18598119368430685,1.5147488586989974,0.25291600750220045,-0.5405776698422251,-0.360341804491502,0.6154496432433069,1.1567515286074088,-0.12921175290771392,-0.5764787920227445,0.9789207875916022,-1.0825170379641689,-0.6912606050945371,0.2042127405112615,-0.007062369146108063,-0.3561355118462063,1.4789574359830135,-0.5606668599504836,-1.721022395003217,-0.1731516011521658,-0.6913562790479066,-0.34535825909539725,1.1709324610294654,-0.04176259899052151,-1.0965078410852902,-0.9897153000854241,-0.0002234635499085957,-1.8818277772745868,0.7085706077271451,1.9120465509042064,-1.8645589092341888,0.4000352515379545,-1.2965567285302968,-1.2608141022032393,-0.5272424841053021,0.9162688356785331,0.4698780312206122,-0.009924243568570206,-1.5002820477718246,0.14449557241825464,-0.40293473402593727,-0.46619004404891307,-0.36570218879527183,1.1189930859008161,0.1888649500342992,0.49407416494590034,-0.6001207128601571,0.32984697989549816,0.05894151431539787,0.7188315825939091,1.4982879051215832,-0.05292883973912044,0.2826746894317272,-0.7139365424262557,-1.2468072587160939,-0.8890894698644939,-0.065962137830307,1.810762790569657,-0.07647749144977684,0.7970283323280202,0.07310606497284414,0.8888698597793643,0.49531521115328386,-1.2375665013076895,-0.020957430053891554,-1.3897099076100883,-1.1253371012158795,-1.2974624235625265,-0.20804568590699773,-0.7291312248779944,-0.08486926584593327,0.5456153649414199,-0.6254965009530854,0.4478878744647442,-0.1924064326489712,0.23165044144794814,-1.3852099318458946,-1.3875217498433254,-0.9471953953512128,0.12207231614655514,-0.12486983705233645,-0.2604277416426192,-0.8976168034050819,-0.37027783502299244,-0.5591629063068851,-0.06010683304504971,1.304364739897875,-1.3098893785117296,0.6273085181054181,-1.411849869984284,1.4604582964128539,0.4161940562915186,0.0686630050928481,0.9639197884801174,0.332794547225913,0.5444607585142656,-0.09707880294276126,-0.5898380793608238,-0.09988596665370439,-0.4511009621429025,1.5839119936872925,0.45562034517937344,-1.0393039867495133,-0.2158514154849838,-0.609309755683151,1.6462308140359478,-1.0510303595719726,-0.6419182543722538,-1.4297857984155977,-0.06689202544509518,-0.20300292940822492,-1.6876602633464077,-1.278232571116688,1.1607939158955252,0.977032512731871,0.18879699528354205,0.14366509407551112,0.49641550697026476,2.159770005839213,0.023707570685367243,-1.1895345170961629,0.5671195609093028,0.49957010384480754,-0.5117194434120194,0.7586900609806113,0.14495032861142126,-0.32238814123824155,2.7075386297687056,-0.369758583502732,-0.6067831223025454,1.286676381957433,-1.2369022581960594,0.9971647193982403,-0.3707214494414906,-0.5661106092917135,-0.5033229651174689,-0.8853289913050088,-1.8911428512168607,-1.1010893654675427,-0.7479821173900504,0.7175225803963051,-1.2038821372312847,-1.063320900435505,0.4176657119745844,-0.02050698501904491,-0.44880100609119494,2.033586729886769,1.6172788504510494,0.5408988301131055,-1.2706972844789448,1.6025592087497496,-3.1501668078950082,1.367469004772903,2.4533665483293343,-0.9331854023803994,-0.028577272872386473,-0.43267910591683034,-0.42842245543535123,-1.822866501393956,0.15481818202906333,0.8032167230077678,-0.155808639505359,0.7267338260131352,-0.3569027261352732,-1.1387549882840167,1.198787613716028,0.08382517926926492,0.7947136810615927,-0.3078683353622674,0.35011933455639505,0.2588655294417708,0.9118990186015538,-0.03081291594940044,-0.28459886379572663,-0.7906998836463587,1.9080792802302329,1.4464392666911636,-1.0737236819300506,0.07701149305412197,-0.5905987731436502,-0.2110638736660074,-2.31107761523779,0.7387218351162446,0.7101763699573554,-1.1495806743694386,0.22203473685351047,0.3958450093298442,-0.020967886221650325,0.24761944640150696,-0.6360957358089608,-0.0831212462430292,-0.05766327454067503,-0.23491602835808506,0.496907275584944,-0.09491232091057746,-0.26038716084562386,-0.48169729706320874,-0.4900268837320281,0.6111901310559487,2.196936897392297,1.6555490454166493,-2.8159358549060554,-0.07998606159080072,0.0645389193957452,0.9249152791300675,0.3318183640113746,0.4963016541518108,0.8941056672987766,-0.6479721952616144,-0.24150106139818628,1.0257735215406671,-0.7045490616972447,0.8189694824992093,0.07681581077177282,0.38948425542292386,0.2644136766247914,-1.871580017055433,-1.17854139720492,1.4833633697799082,1.15044476454698,-0.8685073555665335,-1.2474698591787552,-1.1547729439988024,0.06463237964047193,-0.1365344638269574,-0.5362097266512261,0.17541770161923378,0.19663923528081478,0.22015964503846777,-0.3950268921064058,1.227887673995571,-0.4698533676496491,-0.5586597831572034,-0.227635434996058,0.30850577119623923,-0.18276653903608248,-1.597494211264757,-0.8968970954924189,1.4649709232885118,-0.5200566045513272,2.465038671765193,0.49289420973886816,-1.6845712981775278,0.03886243643235829,0.416884768654999,0.06888678583659597,-0.4102864814544886,-0.24171836334973434,1.2209294301002953,-1.6634805140089068,-0.02233010868806819,0.17378080386602665,0.2867836786380533,0.34925785362516204,-0.5316397676447475,-0.34791403414582617,0.37275585809606515,-0.7032641996537113,-0.633582114845352,0.6238261892894027,-0.03683706879370984,-1.1486905678973525,-0.3930538644416666,0.7262719838846678,1.6238966443006873,0.49012623154078905,-2.3619170316618856,-0.7832467103511628,0.2160267981332813,0.7590331396758194,0.3663614263541731,-1.6394197560547799,-0.5101510532842545,-0.5968990335296012,0.7076898759046845,0.10111402107770572,-1.1122672247581828,0.08167310549344949,-2.3002168864333656,2.424556395373364,0.5838915265134144,-0.2869192892553071,-1.888771010704265,2.1713084473608206,-2.3348048912971833,0.17455550907464748,0.1181430853628287,0.41305838469971495,0.2288451598784666,-0.4012581949013563,-0.8622766485501344,-0.3091542732941031,-0.7836036397171464,0.16989611787091866,-1.6651835180309356,0.1382979335181665,-0.9913234627419238,0.18161741080132257,0.3033320211888739,-0.23392988769695314,0.6755360957450551,0.4280196481315851,-1.0301198581946638,0.039311660203746525,0.12381583172589011,0.9374399559545441,-0.13512596353619147,0.4321417504491294,-1.3248555915289548,2.4293173907149224,-0.41037636519281545,-1.054898684079829,1.2724324296006917,-1.3261890088995174,-1.104359080396998,0.2500064343798217,0.006320298631699747,-0.5154997407105152,0.23624968988736428,0.15613688114453145,0.6424470225691189,1.2117271475873177,-0.9845801481779056,0.5208504208365592,0.2627423952492921,0.7792031422855146,-0.15335431550117157,0.6445080686446504,0.04599857072586567,0.4364527295328009,-0.5004725752921146,0.7083029991335118,-0.3286851557920419,-0.5949900754195714,0.2214887588908578,0.7886325047062979,-0.4985094568286113,0.44143874363298313,0.5328251219422981,-1.353285300048155,0.37951962479912726,-0.3272858424772699,0.6536707453974069,2.306566721445888,-1.1843107029758235,0.10583259248010035,0.6655948112552725,-2.710430876960346,0.7892348377556224,0.2015439919516832,1.3650865044308094,-1.865820019987835,-0.2989827858752314,0.23933061536635938,-0.9295414688681944,1.8576033802663863,1.6307702946869638,-0.9085562592553719,-0.30642749601553626,-1.094116579790802,-0.21487987997588773,0.9705504146505187,0.6550075392491035,1.4132846183638388,0.731210480920366,-0.15162101731867988,2.5338330676588656,-0.8534055553350982,-0.22224019446391605,-0.265952690500246,0.25228119358103296,-1.7346755946997983,1.9092045013142576,-0.6133829125838717,1.6783868162843092,-0.5774804056458916,1.563906286406633,0.6268184734880021,-0.19130399447801302,0.04261778734773015,-0.10054229581183415,-0.8947659957880798,1.5649008284882011,0.5274284657562932,-0.3318260240837032,-0.7368648000905011,0.52456767811696,-0.2031407142453453,-0.32912372208353524,-1.0548721137030461,1.2608124728750776,0.7784538820187725,-0.15513790776966635,-0.9325827448069153,-0.3782467178932643,0.28882310734423217,0.2917891750484117,1.245182830306438,-0.6604011499599796,-0.6964415214819384,-0.9118304908563568,0.17592976933757795,0.9349811965385129,-0.5434858798737959,-0.15294221503701674,-0.8016965629643338,0.4539616494012536,0.6755763066936502,-1.381183233118573,-0.7551101256461502,0.6445672320962359,0.8587556035425125,-0.5671925219375182,0.22045781055448763,-0.1784258741800318,-1.2137419852126252,-2.957520817422983,-0.051749371931401174,-0.0028919236057743177,-0.7313313979148742,1.0165930294003573,1.1182332763350844,-0.8003261163843434,1.134196607237462,-0.24081152520777208,-0.26119453253005714,-1.3999417145600455,-0.8503573901132547,-0.09416731580557999,1.5773697891681446,0.6166383676147209,-0.47065596451993924,-2.3832233735845665,0.12848469561932518,0.46363334578328425,1.57240105838216,0.6855289358314559,2.17339301322876,1.3733331654536742,-0.7946168707740797,-0.2529082124046605,0.3387061924261835,0.10621924843434641,0.837793520856126,0.8416827390986698,-0.1814032201415747,1.478898413961566,1.4822009886303362,-0.7347363625875081,-0.45223482840353096,-2.2387350221684037,2.0361636482432828,-1.2495388213202272,0.47409495777104466,0.7543965555229444,0.15286893216545552,-0.9092318523639165,-0.5038157753976537,-0.8941077823658622,0.15817809000963814,0.7859939596253486,1.6892349147050534,0.9068413986690085,-0.7889208938869929,-0.4188890188660395,-0.5554838500111468,0.1735788250264432,0.2322560673964984,-0.03715685868698827,-0.975846517409458,0.7972308307999934,-1.6140279373918045,1.4777476052075638,0.8235337992785449,0.31437748676257393,-0.742737747080613,-1.25502853276865,-0.528401653621594,-0.8006496520718922,1.9525763779102916,-0.46132163338943033,-1.7031247413749675,-0.9693398758801363,0.0841547791828935,-0.9173212130681694,0.48066455658035095,0.19407593080973856,-1.348620966651474,0.566332000383684,3.1629806487743113,1.259139795617536,0.6896823456673106,-1.1268703328564866,-1.194886497982371,0.13864863246966355,0.08405326477021355,-0.4904055576945669,0.6170069415584493,-0.0015460773905243653,-0.11192891689073539,-1.5275001049837857,-0.5361282566038934,0.07109601210929552,2.414070094885766,-2.1975307149651266,0.01652344817721471,-0.7402224029080667,-0.8611910663777452,-0.84161419107413,-0.4039840276746652,-1.7044971118999024,-0.16296739101151606,2.006781878354883,-0.2962145486493859,-0.7053889385163113,2.2961038040539723,0.17403614335404438,-0.07767792770178247,-1.4656916553754664,-0.6990312997554704,-0.49668973100752833,-0.522148267878785,0.9430345196652499,-0.6985611883356921,-0.3268290166240014,-0.22043780424582737,1.1224904765719363,-1.4116593292243989,-0.4586975712974204,1.0768067453446983,1.023749194548247,-0.6328095308154777,-0.26242612629362716,1.6489493358440677,-0.7344507235173204,1.7987346223853802,-0.590202235019461,0.21843820863830854,0.8279857821646149,-0.5419992938061082,-1.9798134236960347,0.6220096723059714,1.2339922466486566,-0.05870021701881918,0.20890025056480765,0.823962552675662,2.204063408480706,-0.8982425246924542,1.509552808730266,-0.22293106614724914,-1.7121336896090071,-0.5219024264614331,-0.6725252696348598,0.7900759757179397,-0.6388428565962607,-0.7710255856193508,1.3114042747492671,-0.251706524357906,-0.9998854389290461,-1.313635854802315,0.08123044955139128,1.0625521726130807,1.2786749180891508,-0.35136675822253355,0.13708499338579846,0.9904177741470922,-0.2266423755736852,0.20920877549402306,-0.14711056640710152,-0.69376479663673,-1.0612012488844766,-0.49389342003614706,-0.954784411178941,-0.1436206622121841,-0.1291650760565076,-0.26085702168883496,0.17404135206418866,-0.5232971609382255,-0.4260236740571143,0.06343708413167634,0.884965118602101,0.2760925978919972,1.122847865435642,-0.01677328631517995,-0.1027354726956838,1.31905196003047,0.08694728559137525,-1.0251689025723556,0.7885010867375053,1.8123376849401354,1.3790884297390587,0.40464824008774036,-2.01030747070879,-0.733751377658719,0.9861945581045873,1.8819406100331886,-0.9022307452491746,-0.6038576998216388,0.6169898304901236,-0.054390617481092106,0.1631997925384422,-1.7897195753850306,-1.726202903011734,-2.463965206848845,0.9477105206258258,-1.5504550232938716,-0.7245604114503834,-0.06848837173332657,-0.8507437703205205,0.6656569377615825,-2.0008741957064644,-0.5927326479600049,0.024298507227441736,-1.002938483186389,1.3556954347273964,0.6787796885460887,-0.47495088063595153,0.8618009564689699,0.5846701486738941,0.8367111325981346,2.0703560641442413,0.9346207144603267,-0.6949012274048068,1.06012366602569,0.5594138420197564,-0.8069952148786189,-0.1524855218637045,0.02384442424762657,-0.13943632347539733,0.5931645436065887,1.118442570258617,1.0605118682135017,0.4424039706047199,0.586692225453598,1.8187004179426431,1.0150853832869802,-0.748054201523194,-0.20223331550029824,-0.705526147901966,1.2827813362114955,1.5090626528644528,-1.9243412179453168,0.013110493263333389,-0.36764206630306334,1.323975316983373,0.3133556443405028,-0.34030012885914107,1.0332155725357663,0.2503261596723349,-0.116566203268021,-1.291414965587748,-0.6325494834496732,0.9157666929905606,-1.0939618667161164,-1.079723661890586,0.9502941639233846,1.6096173730063206,-0.9833090996147125,0.7173841184774626,0.28601625218446514,-0.38456681430883655,0.27506442564857947,-1.7097488639153928,2.098168730288847,-1.0600280345630742,0.8911530019032444,1.2973090273500927,0.8251133784062223,-0.03021497205248733,0.14709282404559126,0.6436127341056148,0.5233485864392287,1.9982961663194148,0.43793590524883746,0.4616229041534004,0.32069562130818763,0.9891094290946884,-0.5773757716059793,-0.3181119005102529,-0.5245836033794711,1.6462230044982162,-0.15766956690292888,-0.5062992149663385,-0.10897453600783669,0.01713698550356456,1.0967905431617166,-1.4139783359104758,0.05286356395085484,0.5263415647398767,0.2499597343672616,-1.7000632932495925,-0.1668149291172145,0.040449959134853115,0.1697168294996862,0.021199942447534054,1.2332213138525185,1.2399315842521872,-0.6288455042974673,0.2999489096109978,0.5039734181897157,-0.021880870636735772,-0.24041693616346785,-0.5609369773005002,-0.06686318233548727,0.6141479504977725,0.09129073315053145,-1.8080344613980164,0.44044348284595153,1.6783879950156735,0.3085522114607901,-0.27230263896017276,0.7299725203430897,1.4235125370582318,-0.43565771980700535,0.2539514626096239,0.1013181583376304,-0.755366766303154,-1.3788198057163041,0.1942123626321156,0.6980869179509783,0.1674453631778015,-0.05883653923496085,1.4125406918444903,-0.28195748519150243,-0.40481018036027905,-0.07189848917241624,-1.8056581175693296,0.9393197468379887,-1.1629926056712063,-0.7507435885574044,0.004442131842646419,1.3591089338839155,-0.7440938890498752,1.070905908032184,0.012692753864978486,-0.1574577375759745,-1.4890990752553794,-0.7358747603747823,0.9969306002217411,-0.8247002700502423,0.552701181156863,0.9173281121534994,-0.394431703984102,0.653734128420817,-0.19824458290618208,1.4471150520123577,-1.4676526265682943,0.5173966445814197,1.6691553798974132,-0.37429644138227475,0.9277210407799513,-0.18614539283303344,-0.3924022561719057,0.7027923794813201,1.757329702925744,-0.14364305302618235,0.015187693208137813,-0.8858713016822561,-0.26936922111696326,-0.38729364123715415,0.015096165027009374,1.4775822386232857,-0.5761283685045808,-0.026211860408456602,-1.6864024814158811,0.21580775869258756,1.9330742425531804,-1.1390484840560697,-0.688441221463475,0.23502235414233408,0.49310714783069615,-1.221573015284721,2.156633988189983,-0.8180921529818848,0.12927816532368322,0.4661549503123242,-1.5513827817974453,0.8833098320832596,0.34548793192706956,0.25582019742168177,-0.5991123379292383,0.29060873367214285,1.899070745817109,-0.4257333534063908,-0.31626115026914436,2.0696689666809527,0.1859650303781638,0.159129956785548,-1.2011220171230306,0.9163571812663305,0.6875388400139367,-1.0870020761021848,0.7406711037329063,1.0238329985300019,-0.20138916649794897,0.7930178984825453,0.8098683686855486,1.1019226066499215,1.1453153713694046,0.9642044065347152,-1.191235868759841,0.40054554404884113,0.8318389512460436,-0.7950197601175023,-1.0997687487050793,-0.34394859511224507,-0.23566196106296783,-0.6018879074815662,0.7283030703988493,-1.2230363283318504,1.2775830204921255,-1.3888544340051907,0.847371489904005,-0.1282739694401609,-0.6409323073967943,-0.37309031916866187,-0.7574112690790761,-1.0019170094618892,-0.023554304362230775,0.16297694120150494,1.685950337891197,0.8277370417858094,0.431999294799516,0.07345832969790304,0.7631007500420964,0.6003972092891193,-0.6333068048062906,1.267536929626598,-1.0531342690607246,0.47211837595901507,-0.8838033771008235,1.7595702679065721,0.6901139988447967,-1.439791618776031,-0.8948763564183431,0.8090970686117226,-0.8020962806357113,-0.4412470712979747,0.9275989085770173,-0.002705862618950477,-2.0791722321203734,0.8977612770239194,1.6683564066769276,0.27120083749417373,0.6477876368544233,0.6227489253487826,0.2750401406485739,1.743525411836308,0.6227323669205118,0.09042980288752485,0.5271808152200965,0.37783970570053926,-0.8148113139657488,-1.8134062681245378,-2.229398836208169,0.8114645789300411,1.3249556365046553,0.7678718536719731,-0.24684776059963406,0.07021460137344199,1.7736777008301021,0.3773162377624031,-0.6501523305069821,-0.02970340781720099,0.7370225426394115,-0.19205044768885363,0.5939366828874044,2.4739114301438447,1.8160641012469063,0.1260347216144264,0.21491396091740084,-0.08880837188956117,0.48944089346408587,-1.164668827013413,-1.7290427227618652,0.6939420214919435,-1.5575202957489263,-0.5854538761595126,-0.1655632353218035,-0.22299805615704524,0.6925420154302606,-1.263730473433422,0.23888112922029045,0.030863269995122896,0.813619200399223,-0.2149963046016491,0.4388580464722834,1.4237987985137068,-0.022648431465903167,-0.04701659052734999,0.023400389413187988,0.5811529194663483,0.08073505148102515,-2.105871703600591,0.3513880026960906,-0.6223922137501267,1.676353568924408,-0.6312774686944439,-0.09394185369997925,-0.22097143018707185,0.41028755766792213,-0.2977821509578876,-1.0114257160042583,1.3076735292596993,-0.20013059972103828,-0.6387341429189001,-0.21112658155297484,1.6035509123777922,0.38096105515059797,-0.7890158331809971,-1.3687532656463266,0.20446777677183184,-0.5611234792997919,0.4321510645197742,-1.1519865100933095,1.638215341074138,-0.9071764484425988,-1.3958229611953747,-1.0380495431575136,-0.5033587762207077,0.8176086911913756,-0.7468105340274183,-1.1109524458661562,-0.8649180858446428,-0.4689321814047323,0.019001761091833574,-0.4218641199192646,-0.6239474556309832,-0.03456680869555658,0.19588793676246077,-0.014306426342394051,-0.540023017699285,0.07921118030627085,-0.34903036035506424,0.4420772907844918,0.14602188312643258,-1.0768729210694463,1.094730239091747,-1.1698239058552031,-1.521816409171872,-1.0129740086926098,0.17644718429429018,2.2401429346973556,-0.5682526311441812,1.8768926006224609,-0.44083072054346567,1.2426400343974322,0.2967201152551996,1.4226773667386492,-0.3557147922558001,1.697833834871072,0.7560128538193963,0.4695438162014104,0.5728657153217493,0.9799427662801813,1.1671682613869534,-0.6966906374801115,0.7146674139673661,0.44670014267441904,1.3583166117324217,-0.22543325591301336,-1.059263937388333,0.9157209921332955,-0.12570512947218931,0.5611778967002315,-2.061206187162275,-1.2935964138293465,-0.9168260887286767,1.431665826872943,0.028217556747632135,-0.046432240107803176,1.0574378420578927,0.7505921900633832,0.32090118086154257,-1.2341374175430715,0.5511084616929731,-2.0840242666323454,-2.0237967864777744,0.3590826630670367,-0.8403181895883168,-2.048996165075957,0.2828404142172029,-0.8896190652558875,-0.3440039029143271,1.5009915185574545,1.9253667522666635,-0.31260100135122226,-0.4357818675581748,-0.1371633559423791,0.4553500883180476,-0.6986389626877406,0.8271191627972534,-0.09213867577681968],\"type\":\"scatter\"}],                        {\"template\":{\"data\":{\"barpolar\":[{\"marker\":{\"line\":{\"color\":\"#E5ECF6\",\"width\":0.5},\"pattern\":{\"fillmode\":\"overlay\",\"size\":10,\"solidity\":0.2}},\"type\":\"barpolar\"}],\"bar\":[{\"error_x\":{\"color\":\"#2a3f5f\"},\"error_y\":{\"color\":\"#2a3f5f\"},\"marker\":{\"line\":{\"color\":\"#E5ECF6\",\"width\":0.5},\"pattern\":{\"fillmode\":\"overlay\",\"size\":10,\"solidity\":0.2}},\"type\":\"bar\"}],\"carpet\":[{\"aaxis\":{\"endlinecolor\":\"#2a3f5f\",\"gridcolor\":\"white\",\"linecolor\":\"white\",\"minorgridcolor\":\"white\",\"startlinecolor\":\"#2a3f5f\"},\"baxis\":{\"endlinecolor\":\"#2a3f5f\",\"gridcolor\":\"white\",\"linecolor\":\"white\",\"minorgridcolor\":\"white\",\"startlinecolor\":\"#2a3f5f\"},\"type\":\"carpet\"}],\"choropleth\":[{\"colorbar\":{\"outlinewidth\":0,\"ticks\":\"\"},\"type\":\"choropleth\"}],\"contourcarpet\":[{\"colorbar\":{\"outlinewidth\":0,\"ticks\":\"\"},\"type\":\"contourcarpet\"}],\"contour\":[{\"colorbar\":{\"outlinewidth\":0,\"ticks\":\"\"},\"colorscale\":[[0.0,\"#0d0887\"],[0.1111111111111111,\"#46039f\"],[0.2222222222222222,\"#7201a8\"],[0.3333333333333333,\"#9c179e\"],[0.4444444444444444,\"#bd3786\"],[0.5555555555555556,\"#d8576b\"],[0.6666666666666666,\"#ed7953\"],[0.7777777777777778,\"#fb9f3a\"],[0.8888888888888888,\"#fdca26\"],[1.0,\"#f0f921\"]],\"type\":\"contour\"}],\"heatmapgl\":[{\"colorbar\":{\"outlinewidth\":0,\"ticks\":\"\"},\"colorscale\":[[0.0,\"#0d0887\"],[0.1111111111111111,\"#46039f\"],[0.2222222222222222,\"#7201a8\"],[0.3333333333333333,\"#9c179e\"],[0.4444444444444444,\"#bd3786\"],[0.5555555555555556,\"#d8576b\"],[0.6666666666666666,\"#ed7953\"],[0.7777777777777778,\"#fb9f3a\"],[0.8888888888888888,\"#fdca26\"],[1.0,\"#f0f921\"]],\"type\":\"heatmapgl\"}],\"heatmap\":[{\"colorbar\":{\"outlinewidth\":0,\"ticks\":\"\"},\"colorscale\":[[0.0,\"#0d0887\"],[0.1111111111111111,\"#46039f\"],[0.2222222222222222,\"#7201a8\"],[0.3333333333333333,\"#9c179e\"],[0.4444444444444444,\"#bd3786\"],[0.5555555555555556,\"#d8576b\"],[0.6666666666666666,\"#ed7953\"],[0.7777777777777778,\"#fb9f3a\"],[0.8888888888888888,\"#fdca26\"],[1.0,\"#f0f921\"]],\"type\":\"heatmap\"}],\"histogram2dcontour\":[{\"colorbar\":{\"outlinewidth\":0,\"ticks\":\"\"},\"colorscale\":[[0.0,\"#0d0887\"],[0.1111111111111111,\"#46039f\"],[0.2222222222222222,\"#7201a8\"],[0.3333333333333333,\"#9c179e\"],[0.4444444444444444,\"#bd3786\"],[0.5555555555555556,\"#d8576b\"],[0.6666666666666666,\"#ed7953\"],[0.7777777777777778,\"#fb9f3a\"],[0.8888888888888888,\"#fdca26\"],[1.0,\"#f0f921\"]],\"type\":\"histogram2dcontour\"}],\"histogram2d\":[{\"colorbar\":{\"outlinewidth\":0,\"ticks\":\"\"},\"colorscale\":[[0.0,\"#0d0887\"],[0.1111111111111111,\"#46039f\"],[0.2222222222222222,\"#7201a8\"],[0.3333333333333333,\"#9c179e\"],[0.4444444444444444,\"#bd3786\"],[0.5555555555555556,\"#d8576b\"],[0.6666666666666666,\"#ed7953\"],[0.7777777777777778,\"#fb9f3a\"],[0.8888888888888888,\"#fdca26\"],[1.0,\"#f0f921\"]],\"type\":\"histogram2d\"}],\"histogram\":[{\"marker\":{\"pattern\":{\"fillmode\":\"overlay\",\"size\":10,\"solidity\":0.2}},\"type\":\"histogram\"}],\"mesh3d\":[{\"colorbar\":{\"outlinewidth\":0,\"ticks\":\"\"},\"type\":\"mesh3d\"}],\"parcoords\":[{\"line\":{\"colorbar\":{\"outlinewidth\":0,\"ticks\":\"\"}},\"type\":\"parcoords\"}],\"pie\":[{\"automargin\":true,\"type\":\"pie\"}],\"scatter3d\":[{\"line\":{\"colorbar\":{\"outlinewidth\":0,\"ticks\":\"\"}},\"marker\":{\"colorbar\":{\"outlinewidth\":0,\"ticks\":\"\"}},\"type\":\"scatter3d\"}],\"scattercarpet\":[{\"marker\":{\"colorbar\":{\"outlinewidth\":0,\"ticks\":\"\"}},\"type\":\"scattercarpet\"}],\"scattergeo\":[{\"marker\":{\"colorbar\":{\"outlinewidth\":0,\"ticks\":\"\"}},\"type\":\"scattergeo\"}],\"scattergl\":[{\"marker\":{\"colorbar\":{\"outlinewidth\":0,\"ticks\":\"\"}},\"type\":\"scattergl\"}],\"scattermapbox\":[{\"marker\":{\"colorbar\":{\"outlinewidth\":0,\"ticks\":\"\"}},\"type\":\"scattermapbox\"}],\"scatterpolargl\":[{\"marker\":{\"colorbar\":{\"outlinewidth\":0,\"ticks\":\"\"}},\"type\":\"scatterpolargl\"}],\"scatterpolar\":[{\"marker\":{\"colorbar\":{\"outlinewidth\":0,\"ticks\":\"\"}},\"type\":\"scatterpolar\"}],\"scatter\":[{\"fillpattern\":{\"fillmode\":\"overlay\",\"size\":10,\"solidity\":0.2},\"type\":\"scatter\"}],\"scatterternary\":[{\"marker\":{\"colorbar\":{\"outlinewidth\":0,\"ticks\":\"\"}},\"type\":\"scatterternary\"}],\"surface\":[{\"colorbar\":{\"outlinewidth\":0,\"ticks\":\"\"},\"colorscale\":[[0.0,\"#0d0887\"],[0.1111111111111111,\"#46039f\"],[0.2222222222222222,\"#7201a8\"],[0.3333333333333333,\"#9c179e\"],[0.4444444444444444,\"#bd3786\"],[0.5555555555555556,\"#d8576b\"],[0.6666666666666666,\"#ed7953\"],[0.7777777777777778,\"#fb9f3a\"],[0.8888888888888888,\"#fdca26\"],[1.0,\"#f0f921\"]],\"type\":\"surface\"}],\"table\":[{\"cells\":{\"fill\":{\"color\":\"#EBF0F8\"},\"line\":{\"color\":\"white\"}},\"header\":{\"fill\":{\"color\":\"#C8D4E3\"},\"line\":{\"color\":\"white\"}},\"type\":\"table\"}]},\"layout\":{\"annotationdefaults\":{\"arrowcolor\":\"#2a3f5f\",\"arrowhead\":0,\"arrowwidth\":1},\"autotypenumbers\":\"strict\",\"coloraxis\":{\"colorbar\":{\"outlinewidth\":0,\"ticks\":\"\"}},\"colorscale\":{\"diverging\":[[0,\"#8e0152\"],[0.1,\"#c51b7d\"],[0.2,\"#de77ae\"],[0.3,\"#f1b6da\"],[0.4,\"#fde0ef\"],[0.5,\"#f7f7f7\"],[0.6,\"#e6f5d0\"],[0.7,\"#b8e186\"],[0.8,\"#7fbc41\"],[0.9,\"#4d9221\"],[1,\"#276419\"]],\"sequential\":[[0.0,\"#0d0887\"],[0.1111111111111111,\"#46039f\"],[0.2222222222222222,\"#7201a8\"],[0.3333333333333333,\"#9c179e\"],[0.4444444444444444,\"#bd3786\"],[0.5555555555555556,\"#d8576b\"],[0.6666666666666666,\"#ed7953\"],[0.7777777777777778,\"#fb9f3a\"],[0.8888888888888888,\"#fdca26\"],[1.0,\"#f0f921\"]],\"sequentialminus\":[[0.0,\"#0d0887\"],[0.1111111111111111,\"#46039f\"],[0.2222222222222222,\"#7201a8\"],[0.3333333333333333,\"#9c179e\"],[0.4444444444444444,\"#bd3786\"],[0.5555555555555556,\"#d8576b\"],[0.6666666666666666,\"#ed7953\"],[0.7777777777777778,\"#fb9f3a\"],[0.8888888888888888,\"#fdca26\"],[1.0,\"#f0f921\"]]},\"colorway\":[\"#636efa\",\"#EF553B\",\"#00cc96\",\"#ab63fa\",\"#FFA15A\",\"#19d3f3\",\"#FF6692\",\"#B6E880\",\"#FF97FF\",\"#FECB52\"],\"font\":{\"color\":\"#2a3f5f\"},\"geo\":{\"bgcolor\":\"white\",\"lakecolor\":\"white\",\"landcolor\":\"#E5ECF6\",\"showlakes\":true,\"showland\":true,\"subunitcolor\":\"white\"},\"hoverlabel\":{\"align\":\"left\"},\"hovermode\":\"closest\",\"mapbox\":{\"style\":\"light\"},\"paper_bgcolor\":\"white\",\"plot_bgcolor\":\"#E5ECF6\",\"polar\":{\"angularaxis\":{\"gridcolor\":\"white\",\"linecolor\":\"white\",\"ticks\":\"\"},\"bgcolor\":\"#E5ECF6\",\"radialaxis\":{\"gridcolor\":\"white\",\"linecolor\":\"white\",\"ticks\":\"\"}},\"scene\":{\"xaxis\":{\"backgroundcolor\":\"#E5ECF6\",\"gridcolor\":\"white\",\"gridwidth\":2,\"linecolor\":\"white\",\"showbackground\":true,\"ticks\":\"\",\"zerolinecolor\":\"white\"},\"yaxis\":{\"backgroundcolor\":\"#E5ECF6\",\"gridcolor\":\"white\",\"gridwidth\":2,\"linecolor\":\"white\",\"showbackground\":true,\"ticks\":\"\",\"zerolinecolor\":\"white\"},\"zaxis\":{\"backgroundcolor\":\"#E5ECF6\",\"gridcolor\":\"white\",\"gridwidth\":2,\"linecolor\":\"white\",\"showbackground\":true,\"ticks\":\"\",\"zerolinecolor\":\"white\"}},\"shapedefaults\":{\"line\":{\"color\":\"#2a3f5f\"}},\"ternary\":{\"aaxis\":{\"gridcolor\":\"white\",\"linecolor\":\"white\",\"ticks\":\"\"},\"baxis\":{\"gridcolor\":\"white\",\"linecolor\":\"white\",\"ticks\":\"\"},\"bgcolor\":\"#E5ECF6\",\"caxis\":{\"gridcolor\":\"white\",\"linecolor\":\"white\",\"ticks\":\"\"}},\"title\":{\"x\":0.05},\"xaxis\":{\"automargin\":true,\"gridcolor\":\"white\",\"linecolor\":\"white\",\"ticks\":\"\",\"title\":{\"standoff\":15},\"zerolinecolor\":\"white\",\"zerolinewidth\":2},\"yaxis\":{\"automargin\":true,\"gridcolor\":\"white\",\"linecolor\":\"white\",\"ticks\":\"\",\"title\":{\"standoff\":15},\"zerolinecolor\":\"white\",\"zerolinewidth\":2}}}},                        {\"responsive\": true}                    ).then(function(){\n",
       "                            \n",
       "var gd = document.getElementById('5f47685f-80a1-485f-96a0-baecbfac5e0b');\n",
       "var x = new MutationObserver(function (mutations, observer) {{\n",
       "        var display = window.getComputedStyle(gd).display;\n",
       "        if (!display || display === 'none') {{\n",
       "            console.log([gd, 'removed!']);\n",
       "            Plotly.purge(gd);\n",
       "            observer.disconnect();\n",
       "        }}\n",
       "}});\n",
       "\n",
       "// Listen for the removal of the full notebook cells\n",
       "var notebookContainer = gd.closest('#notebook-container');\n",
       "if (notebookContainer) {{\n",
       "    x.observe(notebookContainer, {childList: true});\n",
       "}}\n",
       "\n",
       "// Listen for the clearing of the current output cell\n",
       "var outputEl = gd.closest('.output');\n",
       "if (outputEl) {{\n",
       "    x.observe(outputEl, {childList: true});\n",
       "}}\n",
       "\n",
       "                        })                };                });            </script>        </div>"
      ]
     },
     "metadata": {},
     "output_type": "display_data"
    }
   ],
   "source": [
    "import plotly.graph_objs as go\n",
    "import numpy as np\n",
    "\n",
    "x = np.random.randn(2000)\n",
    "y = np.random.randn(2000)\n",
    "iplot([go.Histogram2dContour(x=x, y=y, contours=dict(coloring='heatmap')),\n",
    "       go.Scatter(x=x, y=y, mode='markers', marker=dict(color='white', size=3, opacity=0.3))], show_link=False)"
   ]
  },
  {
   "cell_type": "markdown",
   "metadata": {
    "id": "7aGDgn2z25LD"
   },
   "source": [
    "# Bài 2"
   ]
  },
  {
   "cell_type": "code",
   "execution_count": 29,
   "metadata": {
    "id": "PODavPyE25LG"
   },
   "outputs": [],
   "source": [
    "import chart_studio.plotly as py\n",
    "#import plotly as py\n",
    "import plotly.graph_objs as go\n",
    "import numpy as np"
   ]
  },
  {
   "cell_type": "code",
   "execution_count": 30,
   "metadata": {
    "id": "h7TUtfxK25LH"
   },
   "outputs": [],
   "source": [
    "N = 100\n",
    "example_x = np.random.rand(N)\n",
    "example_y = np.random.rand(N)"
   ]
  },
  {
   "cell_type": "code",
   "execution_count": 31,
   "metadata": {
    "id": "WApQwKjO25LH"
   },
   "outputs": [],
   "source": [
    "trace = go.Scatter(\n",
    "    x = example_x,\n",
    "    y = example_y,\n",
    "    mode = 'markers')"
   ]
  },
  {
   "cell_type": "code",
   "execution_count": 32,
   "metadata": {
    "id": "GOUk1k2n25LH",
    "outputId": "2da8b8ec-ee0c-4777-e304-d5a37e7208bc"
   },
   "outputs": [
    {
     "data": {
      "application/vnd.plotly.v1+json": {
       "config": {
        "linkText": "Export to plotly.com",
        "plotlyServerURL": "https://plotly.com",
        "showLink": false
       },
       "data": [
        {
         "mode": "markers",
         "type": "scatter",
         "x": [
          0.8062966102715015,
          0.8300531783875945,
          0.7490602574990163,
          0.7147971430097796,
          0.7022246136041685,
          0.5889663213559981,
          0.7443228094421975,
          0.9098275341154424,
          0.4450176637077883,
          0.6833410679413428,
          0.9494977296641305,
          0.11798934844810194,
          0.6933658713397888,
          0.8940663683617505,
          0.7284549727030575,
          0.7083845879614623,
          0.7491601813788021,
          0.5878413708331731,
          0.1672696581289086,
          0.3393354945037893,
          0.14997094744976536,
          0.02109373038494844,
          0.2779760097168459,
          0.6600977357957092,
          0.4300784404092147,
          0.7591975522554726,
          0.5089674714977794,
          0.5016346028227219,
          0.6502197444149983,
          0.8692463073732088,
          0.2229496557074545,
          0.4384779007200831,
          0.6826831493759214,
          0.6558837846411428,
          0.6613332087409962,
          0.44105886268628103,
          0.8913807498888701,
          0.8525756173496194,
          0.156160864408873,
          0.7555324106541262,
          0.07854306415441714,
          0.40331186868883373,
          0.6837560998337252,
          0.07984443061686541,
          0.0890088915427022,
          0.5915549029038096,
          0.30768785575609336,
          0.23484163578371442,
          0.6766678417224251,
          0.9421496625033176,
          0.49347676486301206,
          0.7552975980064629,
          0.24113424616463952,
          0.3624119853317306,
          0.9581108600217814,
          0.7490933237015902,
          0.9639194137268055,
          0.3366476817065086,
          0.3794867917193203,
          0.9246961633091119,
          0.5528045993372658,
          0.051248844043096486,
          0.8657969360015542,
          0.14268926258190695,
          0.32117395810945126,
          0.0023763543224447625,
          0.7671375009652468,
          0.6011779534621947,
          0.6814778155371152,
          0.05726032912947654,
          0.3099305107021353,
          0.5919108688731741,
          0.1943836300751517,
          0.08878217182698933,
          0.9100873786113569,
          0.5579441017656144,
          0.8307912883464432,
          0.8652963752928959,
          0.9870685378797751,
          0.0016337994733292005,
          0.4669920785609063,
          0.7807213439323047,
          0.8265750678048662,
          0.8086600953466135,
          0.9344136731983398,
          0.6909471211794823,
          0.030803610507516788,
          0.5583449956914249,
          0.5800415052901161,
          0.9877607039961285,
          0.6808571493099719,
          0.1529731470850927,
          0.04089672819848633,
          0.3466768648450458,
          0.813530621028816,
          0.40721500849791803,
          0.326678583190935,
          0.46553227364753547,
          0.889024921108703,
          0.9278487979592912
         ],
         "y": [
          0.05554746872520844,
          0.9621066846733024,
          0.8297316397872128,
          0.32553548586339387,
          0.4992385236174227,
          0.762001101066874,
          0.4786841921039965,
          0.058521871038795026,
          0.43017430049271355,
          0.3917333895880416,
          0.4326212552290395,
          0.97307054486725,
          0.6113181627195345,
          0.5517171294107546,
          0.8530653155750546,
          0.32432792745695904,
          0.6816175982939521,
          0.09612888969768363,
          0.5381922840166353,
          0.4027679400369033,
          0.7331751930479913,
          0.23646787140029357,
          0.9093419215564474,
          0.9331089371021974,
          0.6794268407260378,
          0.15500977544798855,
          0.488562356426281,
          0.6220783904904013,
          0.38280485377208706,
          0.6083072728342132,
          0.10798159657348716,
          0.6291074760421155,
          0.3796200947191687,
          0.239692247601609,
          0.5263913590776305,
          0.36739440714233607,
          0.3726511427362694,
          0.16507935047811273,
          0.5103952097494608,
          0.44349238514297673,
          0.5404255770264461,
          0.6997625619239821,
          0.2978031073257881,
          0.6289807117275347,
          0.5459378004245603,
          0.21587225439600122,
          0.4744654075402144,
          0.31582810471582445,
          0.5699208558960732,
          0.2791226373327055,
          0.2017065778577286,
          0.6672618283480256,
          0.9827188578888676,
          0.11656021708633502,
          0.5182868658738325,
          0.9238745373755454,
          0.9609542844168064,
          0.27850648463560246,
          0.2019296872189431,
          0.5057799113534274,
          0.67152658476557,
          0.8586556405562067,
          0.22609084107047328,
          0.4197737849495399,
          0.19379082464458175,
          0.6261850012802,
          0.6327154360557705,
          0.19969383637842564,
          0.9768630576118219,
          0.8226650600448547,
          0.9478351759239347,
          0.44781059066376283,
          0.5932844495315814,
          0.8053834952018174,
          0.3534443786490853,
          0.47007970099626817,
          0.28916469679839973,
          0.019026537818696565,
          0.20612599788562258,
          0.808173196292491,
          0.2970136078146991,
          0.9830705846665511,
          0.5817232164387715,
          0.32643764879332193,
          0.06903031401233684,
          0.5414136920584713,
          0.23443202908868188,
          0.2194301182060382,
          0.18456180670949218,
          0.10022599097369955,
          0.41143389723690016,
          0.3936599447720489,
          0.43767538571885223,
          0.11497909497445769,
          0.086736366613405,
          0.7138463887074915,
          0.6672400925028438,
          0.14548305189401556,
          0.80426259702072,
          0.5838895215674396
         ]
        }
       ],
       "layout": {
        "template": {
         "data": {
          "bar": [
           {
            "error_x": {
             "color": "#2a3f5f"
            },
            "error_y": {
             "color": "#2a3f5f"
            },
            "marker": {
             "line": {
              "color": "#E5ECF6",
              "width": 0.5
             },
             "pattern": {
              "fillmode": "overlay",
              "size": 10,
              "solidity": 0.2
             }
            },
            "type": "bar"
           }
          ],
          "barpolar": [
           {
            "marker": {
             "line": {
              "color": "#E5ECF6",
              "width": 0.5
             },
             "pattern": {
              "fillmode": "overlay",
              "size": 10,
              "solidity": 0.2
             }
            },
            "type": "barpolar"
           }
          ],
          "carpet": [
           {
            "aaxis": {
             "endlinecolor": "#2a3f5f",
             "gridcolor": "white",
             "linecolor": "white",
             "minorgridcolor": "white",
             "startlinecolor": "#2a3f5f"
            },
            "baxis": {
             "endlinecolor": "#2a3f5f",
             "gridcolor": "white",
             "linecolor": "white",
             "minorgridcolor": "white",
             "startlinecolor": "#2a3f5f"
            },
            "type": "carpet"
           }
          ],
          "choropleth": [
           {
            "colorbar": {
             "outlinewidth": 0,
             "ticks": ""
            },
            "type": "choropleth"
           }
          ],
          "contour": [
           {
            "colorbar": {
             "outlinewidth": 0,
             "ticks": ""
            },
            "colorscale": [
             [
              0,
              "#0d0887"
             ],
             [
              0.1111111111111111,
              "#46039f"
             ],
             [
              0.2222222222222222,
              "#7201a8"
             ],
             [
              0.3333333333333333,
              "#9c179e"
             ],
             [
              0.4444444444444444,
              "#bd3786"
             ],
             [
              0.5555555555555556,
              "#d8576b"
             ],
             [
              0.6666666666666666,
              "#ed7953"
             ],
             [
              0.7777777777777778,
              "#fb9f3a"
             ],
             [
              0.8888888888888888,
              "#fdca26"
             ],
             [
              1,
              "#f0f921"
             ]
            ],
            "type": "contour"
           }
          ],
          "contourcarpet": [
           {
            "colorbar": {
             "outlinewidth": 0,
             "ticks": ""
            },
            "type": "contourcarpet"
           }
          ],
          "heatmap": [
           {
            "colorbar": {
             "outlinewidth": 0,
             "ticks": ""
            },
            "colorscale": [
             [
              0,
              "#0d0887"
             ],
             [
              0.1111111111111111,
              "#46039f"
             ],
             [
              0.2222222222222222,
              "#7201a8"
             ],
             [
              0.3333333333333333,
              "#9c179e"
             ],
             [
              0.4444444444444444,
              "#bd3786"
             ],
             [
              0.5555555555555556,
              "#d8576b"
             ],
             [
              0.6666666666666666,
              "#ed7953"
             ],
             [
              0.7777777777777778,
              "#fb9f3a"
             ],
             [
              0.8888888888888888,
              "#fdca26"
             ],
             [
              1,
              "#f0f921"
             ]
            ],
            "type": "heatmap"
           }
          ],
          "heatmapgl": [
           {
            "colorbar": {
             "outlinewidth": 0,
             "ticks": ""
            },
            "colorscale": [
             [
              0,
              "#0d0887"
             ],
             [
              0.1111111111111111,
              "#46039f"
             ],
             [
              0.2222222222222222,
              "#7201a8"
             ],
             [
              0.3333333333333333,
              "#9c179e"
             ],
             [
              0.4444444444444444,
              "#bd3786"
             ],
             [
              0.5555555555555556,
              "#d8576b"
             ],
             [
              0.6666666666666666,
              "#ed7953"
             ],
             [
              0.7777777777777778,
              "#fb9f3a"
             ],
             [
              0.8888888888888888,
              "#fdca26"
             ],
             [
              1,
              "#f0f921"
             ]
            ],
            "type": "heatmapgl"
           }
          ],
          "histogram": [
           {
            "marker": {
             "pattern": {
              "fillmode": "overlay",
              "size": 10,
              "solidity": 0.2
             }
            },
            "type": "histogram"
           }
          ],
          "histogram2d": [
           {
            "colorbar": {
             "outlinewidth": 0,
             "ticks": ""
            },
            "colorscale": [
             [
              0,
              "#0d0887"
             ],
             [
              0.1111111111111111,
              "#46039f"
             ],
             [
              0.2222222222222222,
              "#7201a8"
             ],
             [
              0.3333333333333333,
              "#9c179e"
             ],
             [
              0.4444444444444444,
              "#bd3786"
             ],
             [
              0.5555555555555556,
              "#d8576b"
             ],
             [
              0.6666666666666666,
              "#ed7953"
             ],
             [
              0.7777777777777778,
              "#fb9f3a"
             ],
             [
              0.8888888888888888,
              "#fdca26"
             ],
             [
              1,
              "#f0f921"
             ]
            ],
            "type": "histogram2d"
           }
          ],
          "histogram2dcontour": [
           {
            "colorbar": {
             "outlinewidth": 0,
             "ticks": ""
            },
            "colorscale": [
             [
              0,
              "#0d0887"
             ],
             [
              0.1111111111111111,
              "#46039f"
             ],
             [
              0.2222222222222222,
              "#7201a8"
             ],
             [
              0.3333333333333333,
              "#9c179e"
             ],
             [
              0.4444444444444444,
              "#bd3786"
             ],
             [
              0.5555555555555556,
              "#d8576b"
             ],
             [
              0.6666666666666666,
              "#ed7953"
             ],
             [
              0.7777777777777778,
              "#fb9f3a"
             ],
             [
              0.8888888888888888,
              "#fdca26"
             ],
             [
              1,
              "#f0f921"
             ]
            ],
            "type": "histogram2dcontour"
           }
          ],
          "mesh3d": [
           {
            "colorbar": {
             "outlinewidth": 0,
             "ticks": ""
            },
            "type": "mesh3d"
           }
          ],
          "parcoords": [
           {
            "line": {
             "colorbar": {
              "outlinewidth": 0,
              "ticks": ""
             }
            },
            "type": "parcoords"
           }
          ],
          "pie": [
           {
            "automargin": true,
            "type": "pie"
           }
          ],
          "scatter": [
           {
            "fillpattern": {
             "fillmode": "overlay",
             "size": 10,
             "solidity": 0.2
            },
            "type": "scatter"
           }
          ],
          "scatter3d": [
           {
            "line": {
             "colorbar": {
              "outlinewidth": 0,
              "ticks": ""
             }
            },
            "marker": {
             "colorbar": {
              "outlinewidth": 0,
              "ticks": ""
             }
            },
            "type": "scatter3d"
           }
          ],
          "scattercarpet": [
           {
            "marker": {
             "colorbar": {
              "outlinewidth": 0,
              "ticks": ""
             }
            },
            "type": "scattercarpet"
           }
          ],
          "scattergeo": [
           {
            "marker": {
             "colorbar": {
              "outlinewidth": 0,
              "ticks": ""
             }
            },
            "type": "scattergeo"
           }
          ],
          "scattergl": [
           {
            "marker": {
             "colorbar": {
              "outlinewidth": 0,
              "ticks": ""
             }
            },
            "type": "scattergl"
           }
          ],
          "scattermapbox": [
           {
            "marker": {
             "colorbar": {
              "outlinewidth": 0,
              "ticks": ""
             }
            },
            "type": "scattermapbox"
           }
          ],
          "scatterpolar": [
           {
            "marker": {
             "colorbar": {
              "outlinewidth": 0,
              "ticks": ""
             }
            },
            "type": "scatterpolar"
           }
          ],
          "scatterpolargl": [
           {
            "marker": {
             "colorbar": {
              "outlinewidth": 0,
              "ticks": ""
             }
            },
            "type": "scatterpolargl"
           }
          ],
          "scatterternary": [
           {
            "marker": {
             "colorbar": {
              "outlinewidth": 0,
              "ticks": ""
             }
            },
            "type": "scatterternary"
           }
          ],
          "surface": [
           {
            "colorbar": {
             "outlinewidth": 0,
             "ticks": ""
            },
            "colorscale": [
             [
              0,
              "#0d0887"
             ],
             [
              0.1111111111111111,
              "#46039f"
             ],
             [
              0.2222222222222222,
              "#7201a8"
             ],
             [
              0.3333333333333333,
              "#9c179e"
             ],
             [
              0.4444444444444444,
              "#bd3786"
             ],
             [
              0.5555555555555556,
              "#d8576b"
             ],
             [
              0.6666666666666666,
              "#ed7953"
             ],
             [
              0.7777777777777778,
              "#fb9f3a"
             ],
             [
              0.8888888888888888,
              "#fdca26"
             ],
             [
              1,
              "#f0f921"
             ]
            ],
            "type": "surface"
           }
          ],
          "table": [
           {
            "cells": {
             "fill": {
              "color": "#EBF0F8"
             },
             "line": {
              "color": "white"
             }
            },
            "header": {
             "fill": {
              "color": "#C8D4E3"
             },
             "line": {
              "color": "white"
             }
            },
            "type": "table"
           }
          ]
         },
         "layout": {
          "annotationdefaults": {
           "arrowcolor": "#2a3f5f",
           "arrowhead": 0,
           "arrowwidth": 1
          },
          "autotypenumbers": "strict",
          "coloraxis": {
           "colorbar": {
            "outlinewidth": 0,
            "ticks": ""
           }
          },
          "colorscale": {
           "diverging": [
            [
             0,
             "#8e0152"
            ],
            [
             0.1,
             "#c51b7d"
            ],
            [
             0.2,
             "#de77ae"
            ],
            [
             0.3,
             "#f1b6da"
            ],
            [
             0.4,
             "#fde0ef"
            ],
            [
             0.5,
             "#f7f7f7"
            ],
            [
             0.6,
             "#e6f5d0"
            ],
            [
             0.7,
             "#b8e186"
            ],
            [
             0.8,
             "#7fbc41"
            ],
            [
             0.9,
             "#4d9221"
            ],
            [
             1,
             "#276419"
            ]
           ],
           "sequential": [
            [
             0,
             "#0d0887"
            ],
            [
             0.1111111111111111,
             "#46039f"
            ],
            [
             0.2222222222222222,
             "#7201a8"
            ],
            [
             0.3333333333333333,
             "#9c179e"
            ],
            [
             0.4444444444444444,
             "#bd3786"
            ],
            [
             0.5555555555555556,
             "#d8576b"
            ],
            [
             0.6666666666666666,
             "#ed7953"
            ],
            [
             0.7777777777777778,
             "#fb9f3a"
            ],
            [
             0.8888888888888888,
             "#fdca26"
            ],
            [
             1,
             "#f0f921"
            ]
           ],
           "sequentialminus": [
            [
             0,
             "#0d0887"
            ],
            [
             0.1111111111111111,
             "#46039f"
            ],
            [
             0.2222222222222222,
             "#7201a8"
            ],
            [
             0.3333333333333333,
             "#9c179e"
            ],
            [
             0.4444444444444444,
             "#bd3786"
            ],
            [
             0.5555555555555556,
             "#d8576b"
            ],
            [
             0.6666666666666666,
             "#ed7953"
            ],
            [
             0.7777777777777778,
             "#fb9f3a"
            ],
            [
             0.8888888888888888,
             "#fdca26"
            ],
            [
             1,
             "#f0f921"
            ]
           ]
          },
          "colorway": [
           "#636efa",
           "#EF553B",
           "#00cc96",
           "#ab63fa",
           "#FFA15A",
           "#19d3f3",
           "#FF6692",
           "#B6E880",
           "#FF97FF",
           "#FECB52"
          ],
          "font": {
           "color": "#2a3f5f"
          },
          "geo": {
           "bgcolor": "white",
           "lakecolor": "white",
           "landcolor": "#E5ECF6",
           "showlakes": true,
           "showland": true,
           "subunitcolor": "white"
          },
          "hoverlabel": {
           "align": "left"
          },
          "hovermode": "closest",
          "mapbox": {
           "style": "light"
          },
          "paper_bgcolor": "white",
          "plot_bgcolor": "#E5ECF6",
          "polar": {
           "angularaxis": {
            "gridcolor": "white",
            "linecolor": "white",
            "ticks": ""
           },
           "bgcolor": "#E5ECF6",
           "radialaxis": {
            "gridcolor": "white",
            "linecolor": "white",
            "ticks": ""
           }
          },
          "scene": {
           "xaxis": {
            "backgroundcolor": "#E5ECF6",
            "gridcolor": "white",
            "gridwidth": 2,
            "linecolor": "white",
            "showbackground": true,
            "ticks": "",
            "zerolinecolor": "white"
           },
           "yaxis": {
            "backgroundcolor": "#E5ECF6",
            "gridcolor": "white",
            "gridwidth": 2,
            "linecolor": "white",
            "showbackground": true,
            "ticks": "",
            "zerolinecolor": "white"
           },
           "zaxis": {
            "backgroundcolor": "#E5ECF6",
            "gridcolor": "white",
            "gridwidth": 2,
            "linecolor": "white",
            "showbackground": true,
            "ticks": "",
            "zerolinecolor": "white"
           }
          },
          "shapedefaults": {
           "line": {
            "color": "#2a3f5f"
           }
          },
          "ternary": {
           "aaxis": {
            "gridcolor": "white",
            "linecolor": "white",
            "ticks": ""
           },
           "baxis": {
            "gridcolor": "white",
            "linecolor": "white",
            "ticks": ""
           },
           "bgcolor": "#E5ECF6",
           "caxis": {
            "gridcolor": "white",
            "linecolor": "white",
            "ticks": ""
           }
          },
          "title": {
           "x": 0.05
          },
          "xaxis": {
           "automargin": true,
           "gridcolor": "white",
           "linecolor": "white",
           "ticks": "",
           "title": {
            "standoff": 15
           },
           "zerolinecolor": "white",
           "zerolinewidth": 2
          },
          "yaxis": {
           "automargin": true,
           "gridcolor": "white",
           "linecolor": "white",
           "ticks": "",
           "title": {
            "standoff": 15
           },
           "zerolinecolor": "white",
           "zerolinewidth": 2
          }
         }
        }
       }
      },
      "text/html": [
       "<div>                            <div id=\"eb3a01fb-47d0-4dc6-8383-b7bee1305125\" class=\"plotly-graph-div\" style=\"height:525px; width:100%;\"></div>            <script type=\"text/javascript\">                require([\"plotly\"], function(Plotly) {                    window.PLOTLYENV=window.PLOTLYENV || {};                                    if (document.getElementById(\"eb3a01fb-47d0-4dc6-8383-b7bee1305125\")) {                    Plotly.newPlot(                        \"eb3a01fb-47d0-4dc6-8383-b7bee1305125\",                        [{\"mode\":\"markers\",\"x\":[0.8062966102715015,0.8300531783875945,0.7490602574990163,0.7147971430097796,0.7022246136041685,0.5889663213559981,0.7443228094421975,0.9098275341154424,0.4450176637077883,0.6833410679413428,0.9494977296641305,0.11798934844810194,0.6933658713397888,0.8940663683617505,0.7284549727030575,0.7083845879614623,0.7491601813788021,0.5878413708331731,0.1672696581289086,0.3393354945037893,0.14997094744976536,0.02109373038494844,0.2779760097168459,0.6600977357957092,0.4300784404092147,0.7591975522554726,0.5089674714977794,0.5016346028227219,0.6502197444149983,0.8692463073732088,0.2229496557074545,0.4384779007200831,0.6826831493759214,0.6558837846411428,0.6613332087409962,0.44105886268628103,0.8913807498888701,0.8525756173496194,0.156160864408873,0.7555324106541262,0.07854306415441714,0.40331186868883373,0.6837560998337252,0.07984443061686541,0.0890088915427022,0.5915549029038096,0.30768785575609336,0.23484163578371442,0.6766678417224251,0.9421496625033176,0.49347676486301206,0.7552975980064629,0.24113424616463952,0.3624119853317306,0.9581108600217814,0.7490933237015902,0.9639194137268055,0.3366476817065086,0.3794867917193203,0.9246961633091119,0.5528045993372658,0.051248844043096486,0.8657969360015542,0.14268926258190695,0.32117395810945126,0.0023763543224447625,0.7671375009652468,0.6011779534621947,0.6814778155371152,0.05726032912947654,0.3099305107021353,0.5919108688731741,0.1943836300751517,0.08878217182698933,0.9100873786113569,0.5579441017656144,0.8307912883464432,0.8652963752928959,0.9870685378797751,0.0016337994733292005,0.4669920785609063,0.7807213439323047,0.8265750678048662,0.8086600953466135,0.9344136731983398,0.6909471211794823,0.030803610507516788,0.5583449956914249,0.5800415052901161,0.9877607039961285,0.6808571493099719,0.1529731470850927,0.04089672819848633,0.3466768648450458,0.813530621028816,0.40721500849791803,0.326678583190935,0.46553227364753547,0.889024921108703,0.9278487979592912],\"y\":[0.05554746872520844,0.9621066846733024,0.8297316397872128,0.32553548586339387,0.4992385236174227,0.762001101066874,0.4786841921039965,0.058521871038795026,0.43017430049271355,0.3917333895880416,0.4326212552290395,0.97307054486725,0.6113181627195345,0.5517171294107546,0.8530653155750546,0.32432792745695904,0.6816175982939521,0.09612888969768363,0.5381922840166353,0.4027679400369033,0.7331751930479913,0.23646787140029357,0.9093419215564474,0.9331089371021974,0.6794268407260378,0.15500977544798855,0.488562356426281,0.6220783904904013,0.38280485377208706,0.6083072728342132,0.10798159657348716,0.6291074760421155,0.3796200947191687,0.239692247601609,0.5263913590776305,0.36739440714233607,0.3726511427362694,0.16507935047811273,0.5103952097494608,0.44349238514297673,0.5404255770264461,0.6997625619239821,0.2978031073257881,0.6289807117275347,0.5459378004245603,0.21587225439600122,0.4744654075402144,0.31582810471582445,0.5699208558960732,0.2791226373327055,0.2017065778577286,0.6672618283480256,0.9827188578888676,0.11656021708633502,0.5182868658738325,0.9238745373755454,0.9609542844168064,0.27850648463560246,0.2019296872189431,0.5057799113534274,0.67152658476557,0.8586556405562067,0.22609084107047328,0.4197737849495399,0.19379082464458175,0.6261850012802,0.6327154360557705,0.19969383637842564,0.9768630576118219,0.8226650600448547,0.9478351759239347,0.44781059066376283,0.5932844495315814,0.8053834952018174,0.3534443786490853,0.47007970099626817,0.28916469679839973,0.019026537818696565,0.20612599788562258,0.808173196292491,0.2970136078146991,0.9830705846665511,0.5817232164387715,0.32643764879332193,0.06903031401233684,0.5414136920584713,0.23443202908868188,0.2194301182060382,0.18456180670949218,0.10022599097369955,0.41143389723690016,0.3936599447720489,0.43767538571885223,0.11497909497445769,0.086736366613405,0.7138463887074915,0.6672400925028438,0.14548305189401556,0.80426259702072,0.5838895215674396],\"type\":\"scatter\"}],                        {\"template\":{\"data\":{\"barpolar\":[{\"marker\":{\"line\":{\"color\":\"#E5ECF6\",\"width\":0.5},\"pattern\":{\"fillmode\":\"overlay\",\"size\":10,\"solidity\":0.2}},\"type\":\"barpolar\"}],\"bar\":[{\"error_x\":{\"color\":\"#2a3f5f\"},\"error_y\":{\"color\":\"#2a3f5f\"},\"marker\":{\"line\":{\"color\":\"#E5ECF6\",\"width\":0.5},\"pattern\":{\"fillmode\":\"overlay\",\"size\":10,\"solidity\":0.2}},\"type\":\"bar\"}],\"carpet\":[{\"aaxis\":{\"endlinecolor\":\"#2a3f5f\",\"gridcolor\":\"white\",\"linecolor\":\"white\",\"minorgridcolor\":\"white\",\"startlinecolor\":\"#2a3f5f\"},\"baxis\":{\"endlinecolor\":\"#2a3f5f\",\"gridcolor\":\"white\",\"linecolor\":\"white\",\"minorgridcolor\":\"white\",\"startlinecolor\":\"#2a3f5f\"},\"type\":\"carpet\"}],\"choropleth\":[{\"colorbar\":{\"outlinewidth\":0,\"ticks\":\"\"},\"type\":\"choropleth\"}],\"contourcarpet\":[{\"colorbar\":{\"outlinewidth\":0,\"ticks\":\"\"},\"type\":\"contourcarpet\"}],\"contour\":[{\"colorbar\":{\"outlinewidth\":0,\"ticks\":\"\"},\"colorscale\":[[0.0,\"#0d0887\"],[0.1111111111111111,\"#46039f\"],[0.2222222222222222,\"#7201a8\"],[0.3333333333333333,\"#9c179e\"],[0.4444444444444444,\"#bd3786\"],[0.5555555555555556,\"#d8576b\"],[0.6666666666666666,\"#ed7953\"],[0.7777777777777778,\"#fb9f3a\"],[0.8888888888888888,\"#fdca26\"],[1.0,\"#f0f921\"]],\"type\":\"contour\"}],\"heatmapgl\":[{\"colorbar\":{\"outlinewidth\":0,\"ticks\":\"\"},\"colorscale\":[[0.0,\"#0d0887\"],[0.1111111111111111,\"#46039f\"],[0.2222222222222222,\"#7201a8\"],[0.3333333333333333,\"#9c179e\"],[0.4444444444444444,\"#bd3786\"],[0.5555555555555556,\"#d8576b\"],[0.6666666666666666,\"#ed7953\"],[0.7777777777777778,\"#fb9f3a\"],[0.8888888888888888,\"#fdca26\"],[1.0,\"#f0f921\"]],\"type\":\"heatmapgl\"}],\"heatmap\":[{\"colorbar\":{\"outlinewidth\":0,\"ticks\":\"\"},\"colorscale\":[[0.0,\"#0d0887\"],[0.1111111111111111,\"#46039f\"],[0.2222222222222222,\"#7201a8\"],[0.3333333333333333,\"#9c179e\"],[0.4444444444444444,\"#bd3786\"],[0.5555555555555556,\"#d8576b\"],[0.6666666666666666,\"#ed7953\"],[0.7777777777777778,\"#fb9f3a\"],[0.8888888888888888,\"#fdca26\"],[1.0,\"#f0f921\"]],\"type\":\"heatmap\"}],\"histogram2dcontour\":[{\"colorbar\":{\"outlinewidth\":0,\"ticks\":\"\"},\"colorscale\":[[0.0,\"#0d0887\"],[0.1111111111111111,\"#46039f\"],[0.2222222222222222,\"#7201a8\"],[0.3333333333333333,\"#9c179e\"],[0.4444444444444444,\"#bd3786\"],[0.5555555555555556,\"#d8576b\"],[0.6666666666666666,\"#ed7953\"],[0.7777777777777778,\"#fb9f3a\"],[0.8888888888888888,\"#fdca26\"],[1.0,\"#f0f921\"]],\"type\":\"histogram2dcontour\"}],\"histogram2d\":[{\"colorbar\":{\"outlinewidth\":0,\"ticks\":\"\"},\"colorscale\":[[0.0,\"#0d0887\"],[0.1111111111111111,\"#46039f\"],[0.2222222222222222,\"#7201a8\"],[0.3333333333333333,\"#9c179e\"],[0.4444444444444444,\"#bd3786\"],[0.5555555555555556,\"#d8576b\"],[0.6666666666666666,\"#ed7953\"],[0.7777777777777778,\"#fb9f3a\"],[0.8888888888888888,\"#fdca26\"],[1.0,\"#f0f921\"]],\"type\":\"histogram2d\"}],\"histogram\":[{\"marker\":{\"pattern\":{\"fillmode\":\"overlay\",\"size\":10,\"solidity\":0.2}},\"type\":\"histogram\"}],\"mesh3d\":[{\"colorbar\":{\"outlinewidth\":0,\"ticks\":\"\"},\"type\":\"mesh3d\"}],\"parcoords\":[{\"line\":{\"colorbar\":{\"outlinewidth\":0,\"ticks\":\"\"}},\"type\":\"parcoords\"}],\"pie\":[{\"automargin\":true,\"type\":\"pie\"}],\"scatter3d\":[{\"line\":{\"colorbar\":{\"outlinewidth\":0,\"ticks\":\"\"}},\"marker\":{\"colorbar\":{\"outlinewidth\":0,\"ticks\":\"\"}},\"type\":\"scatter3d\"}],\"scattercarpet\":[{\"marker\":{\"colorbar\":{\"outlinewidth\":0,\"ticks\":\"\"}},\"type\":\"scattercarpet\"}],\"scattergeo\":[{\"marker\":{\"colorbar\":{\"outlinewidth\":0,\"ticks\":\"\"}},\"type\":\"scattergeo\"}],\"scattergl\":[{\"marker\":{\"colorbar\":{\"outlinewidth\":0,\"ticks\":\"\"}},\"type\":\"scattergl\"}],\"scattermapbox\":[{\"marker\":{\"colorbar\":{\"outlinewidth\":0,\"ticks\":\"\"}},\"type\":\"scattermapbox\"}],\"scatterpolargl\":[{\"marker\":{\"colorbar\":{\"outlinewidth\":0,\"ticks\":\"\"}},\"type\":\"scatterpolargl\"}],\"scatterpolar\":[{\"marker\":{\"colorbar\":{\"outlinewidth\":0,\"ticks\":\"\"}},\"type\":\"scatterpolar\"}],\"scatter\":[{\"fillpattern\":{\"fillmode\":\"overlay\",\"size\":10,\"solidity\":0.2},\"type\":\"scatter\"}],\"scatterternary\":[{\"marker\":{\"colorbar\":{\"outlinewidth\":0,\"ticks\":\"\"}},\"type\":\"scatterternary\"}],\"surface\":[{\"colorbar\":{\"outlinewidth\":0,\"ticks\":\"\"},\"colorscale\":[[0.0,\"#0d0887\"],[0.1111111111111111,\"#46039f\"],[0.2222222222222222,\"#7201a8\"],[0.3333333333333333,\"#9c179e\"],[0.4444444444444444,\"#bd3786\"],[0.5555555555555556,\"#d8576b\"],[0.6666666666666666,\"#ed7953\"],[0.7777777777777778,\"#fb9f3a\"],[0.8888888888888888,\"#fdca26\"],[1.0,\"#f0f921\"]],\"type\":\"surface\"}],\"table\":[{\"cells\":{\"fill\":{\"color\":\"#EBF0F8\"},\"line\":{\"color\":\"white\"}},\"header\":{\"fill\":{\"color\":\"#C8D4E3\"},\"line\":{\"color\":\"white\"}},\"type\":\"table\"}]},\"layout\":{\"annotationdefaults\":{\"arrowcolor\":\"#2a3f5f\",\"arrowhead\":0,\"arrowwidth\":1},\"autotypenumbers\":\"strict\",\"coloraxis\":{\"colorbar\":{\"outlinewidth\":0,\"ticks\":\"\"}},\"colorscale\":{\"diverging\":[[0,\"#8e0152\"],[0.1,\"#c51b7d\"],[0.2,\"#de77ae\"],[0.3,\"#f1b6da\"],[0.4,\"#fde0ef\"],[0.5,\"#f7f7f7\"],[0.6,\"#e6f5d0\"],[0.7,\"#b8e186\"],[0.8,\"#7fbc41\"],[0.9,\"#4d9221\"],[1,\"#276419\"]],\"sequential\":[[0.0,\"#0d0887\"],[0.1111111111111111,\"#46039f\"],[0.2222222222222222,\"#7201a8\"],[0.3333333333333333,\"#9c179e\"],[0.4444444444444444,\"#bd3786\"],[0.5555555555555556,\"#d8576b\"],[0.6666666666666666,\"#ed7953\"],[0.7777777777777778,\"#fb9f3a\"],[0.8888888888888888,\"#fdca26\"],[1.0,\"#f0f921\"]],\"sequentialminus\":[[0.0,\"#0d0887\"],[0.1111111111111111,\"#46039f\"],[0.2222222222222222,\"#7201a8\"],[0.3333333333333333,\"#9c179e\"],[0.4444444444444444,\"#bd3786\"],[0.5555555555555556,\"#d8576b\"],[0.6666666666666666,\"#ed7953\"],[0.7777777777777778,\"#fb9f3a\"],[0.8888888888888888,\"#fdca26\"],[1.0,\"#f0f921\"]]},\"colorway\":[\"#636efa\",\"#EF553B\",\"#00cc96\",\"#ab63fa\",\"#FFA15A\",\"#19d3f3\",\"#FF6692\",\"#B6E880\",\"#FF97FF\",\"#FECB52\"],\"font\":{\"color\":\"#2a3f5f\"},\"geo\":{\"bgcolor\":\"white\",\"lakecolor\":\"white\",\"landcolor\":\"#E5ECF6\",\"showlakes\":true,\"showland\":true,\"subunitcolor\":\"white\"},\"hoverlabel\":{\"align\":\"left\"},\"hovermode\":\"closest\",\"mapbox\":{\"style\":\"light\"},\"paper_bgcolor\":\"white\",\"plot_bgcolor\":\"#E5ECF6\",\"polar\":{\"angularaxis\":{\"gridcolor\":\"white\",\"linecolor\":\"white\",\"ticks\":\"\"},\"bgcolor\":\"#E5ECF6\",\"radialaxis\":{\"gridcolor\":\"white\",\"linecolor\":\"white\",\"ticks\":\"\"}},\"scene\":{\"xaxis\":{\"backgroundcolor\":\"#E5ECF6\",\"gridcolor\":\"white\",\"gridwidth\":2,\"linecolor\":\"white\",\"showbackground\":true,\"ticks\":\"\",\"zerolinecolor\":\"white\"},\"yaxis\":{\"backgroundcolor\":\"#E5ECF6\",\"gridcolor\":\"white\",\"gridwidth\":2,\"linecolor\":\"white\",\"showbackground\":true,\"ticks\":\"\",\"zerolinecolor\":\"white\"},\"zaxis\":{\"backgroundcolor\":\"#E5ECF6\",\"gridcolor\":\"white\",\"gridwidth\":2,\"linecolor\":\"white\",\"showbackground\":true,\"ticks\":\"\",\"zerolinecolor\":\"white\"}},\"shapedefaults\":{\"line\":{\"color\":\"#2a3f5f\"}},\"ternary\":{\"aaxis\":{\"gridcolor\":\"white\",\"linecolor\":\"white\",\"ticks\":\"\"},\"baxis\":{\"gridcolor\":\"white\",\"linecolor\":\"white\",\"ticks\":\"\"},\"bgcolor\":\"#E5ECF6\",\"caxis\":{\"gridcolor\":\"white\",\"linecolor\":\"white\",\"ticks\":\"\"}},\"title\":{\"x\":0.05},\"xaxis\":{\"automargin\":true,\"gridcolor\":\"white\",\"linecolor\":\"white\",\"ticks\":\"\",\"title\":{\"standoff\":15},\"zerolinecolor\":\"white\",\"zerolinewidth\":2},\"yaxis\":{\"automargin\":true,\"gridcolor\":\"white\",\"linecolor\":\"white\",\"ticks\":\"\",\"title\":{\"standoff\":15},\"zerolinecolor\":\"white\",\"zerolinewidth\":2}}}},                        {\"responsive\": true}                    ).then(function(){\n",
       "                            \n",
       "var gd = document.getElementById('eb3a01fb-47d0-4dc6-8383-b7bee1305125');\n",
       "var x = new MutationObserver(function (mutations, observer) {{\n",
       "        var display = window.getComputedStyle(gd).display;\n",
       "        if (!display || display === 'none') {{\n",
       "            console.log([gd, 'removed!']);\n",
       "            Plotly.purge(gd);\n",
       "            observer.disconnect();\n",
       "        }}\n",
       "}});\n",
       "\n",
       "// Listen for the removal of the full notebook cells\n",
       "var notebookContainer = gd.closest('#notebook-container');\n",
       "if (notebookContainer) {{\n",
       "    x.observe(notebookContainer, {childList: true});\n",
       "}}\n",
       "\n",
       "// Listen for the clearing of the current output cell\n",
       "var outputEl = gd.closest('.output');\n",
       "if (outputEl) {{\n",
       "    x.observe(outputEl, {childList: true});\n",
       "}}\n",
       "\n",
       "                        })                };                });            </script>        </div>"
      ]
     },
     "metadata": {},
     "output_type": "display_data"
    }
   ],
   "source": [
    "data = [trace]\n",
    "iplot(data)"
   ]
  },
  {
   "cell_type": "code",
   "execution_count": 11,
   "metadata": {
    "id": "_uKtcVqq25LI",
    "outputId": "5a2c4478-9e7c-40f8-d0ff-0f92645591f7"
   },
   "outputs": [
    {
     "data": {
      "application/vnd.plotly.v1+json": {
       "config": {
        "linkText": "Export to plot.ly",
        "plotlyServerURL": "https://plot.ly",
        "showLink": false
       },
       "data": [
        {
         "hoverinfo": "label+percent",
         "labels": [
          "Rent",
          "Food",
          "Bills",
          "Miscellaneous"
         ],
         "marker": {
          "colors": [
           "#d32c58",
           "#f9b1ee",
           "#b7f9b1",
           "#b1f5f9"
          ],
          "line": {
           "color": "#000000",
           "width": 3
          }
         },
         "textfont": {
          "size": 25
         },
         "textinfo": "value",
         "type": "pie",
         "values": [
          1000,
          518,
          331,
          277
         ]
        }
       ],
       "layout": {
        "template": {
         "data": {
          "bar": [
           {
            "error_x": {
             "color": "#2a3f5f"
            },
            "error_y": {
             "color": "#2a3f5f"
            },
            "marker": {
             "line": {
              "color": "#E5ECF6",
              "width": 0.5
             },
             "pattern": {
              "fillmode": "overlay",
              "size": 10,
              "solidity": 0.2
             }
            },
            "type": "bar"
           }
          ],
          "barpolar": [
           {
            "marker": {
             "line": {
              "color": "#E5ECF6",
              "width": 0.5
             },
             "pattern": {
              "fillmode": "overlay",
              "size": 10,
              "solidity": 0.2
             }
            },
            "type": "barpolar"
           }
          ],
          "carpet": [
           {
            "aaxis": {
             "endlinecolor": "#2a3f5f",
             "gridcolor": "white",
             "linecolor": "white",
             "minorgridcolor": "white",
             "startlinecolor": "#2a3f5f"
            },
            "baxis": {
             "endlinecolor": "#2a3f5f",
             "gridcolor": "white",
             "linecolor": "white",
             "minorgridcolor": "white",
             "startlinecolor": "#2a3f5f"
            },
            "type": "carpet"
           }
          ],
          "choropleth": [
           {
            "colorbar": {
             "outlinewidth": 0,
             "ticks": ""
            },
            "type": "choropleth"
           }
          ],
          "contour": [
           {
            "colorbar": {
             "outlinewidth": 0,
             "ticks": ""
            },
            "colorscale": [
             [
              0,
              "#0d0887"
             ],
             [
              0.1111111111111111,
              "#46039f"
             ],
             [
              0.2222222222222222,
              "#7201a8"
             ],
             [
              0.3333333333333333,
              "#9c179e"
             ],
             [
              0.4444444444444444,
              "#bd3786"
             ],
             [
              0.5555555555555556,
              "#d8576b"
             ],
             [
              0.6666666666666666,
              "#ed7953"
             ],
             [
              0.7777777777777778,
              "#fb9f3a"
             ],
             [
              0.8888888888888888,
              "#fdca26"
             ],
             [
              1,
              "#f0f921"
             ]
            ],
            "type": "contour"
           }
          ],
          "contourcarpet": [
           {
            "colorbar": {
             "outlinewidth": 0,
             "ticks": ""
            },
            "type": "contourcarpet"
           }
          ],
          "heatmap": [
           {
            "colorbar": {
             "outlinewidth": 0,
             "ticks": ""
            },
            "colorscale": [
             [
              0,
              "#0d0887"
             ],
             [
              0.1111111111111111,
              "#46039f"
             ],
             [
              0.2222222222222222,
              "#7201a8"
             ],
             [
              0.3333333333333333,
              "#9c179e"
             ],
             [
              0.4444444444444444,
              "#bd3786"
             ],
             [
              0.5555555555555556,
              "#d8576b"
             ],
             [
              0.6666666666666666,
              "#ed7953"
             ],
             [
              0.7777777777777778,
              "#fb9f3a"
             ],
             [
              0.8888888888888888,
              "#fdca26"
             ],
             [
              1,
              "#f0f921"
             ]
            ],
            "type": "heatmap"
           }
          ],
          "heatmapgl": [
           {
            "colorbar": {
             "outlinewidth": 0,
             "ticks": ""
            },
            "colorscale": [
             [
              0,
              "#0d0887"
             ],
             [
              0.1111111111111111,
              "#46039f"
             ],
             [
              0.2222222222222222,
              "#7201a8"
             ],
             [
              0.3333333333333333,
              "#9c179e"
             ],
             [
              0.4444444444444444,
              "#bd3786"
             ],
             [
              0.5555555555555556,
              "#d8576b"
             ],
             [
              0.6666666666666666,
              "#ed7953"
             ],
             [
              0.7777777777777778,
              "#fb9f3a"
             ],
             [
              0.8888888888888888,
              "#fdca26"
             ],
             [
              1,
              "#f0f921"
             ]
            ],
            "type": "heatmapgl"
           }
          ],
          "histogram": [
           {
            "marker": {
             "pattern": {
              "fillmode": "overlay",
              "size": 10,
              "solidity": 0.2
             }
            },
            "type": "histogram"
           }
          ],
          "histogram2d": [
           {
            "colorbar": {
             "outlinewidth": 0,
             "ticks": ""
            },
            "colorscale": [
             [
              0,
              "#0d0887"
             ],
             [
              0.1111111111111111,
              "#46039f"
             ],
             [
              0.2222222222222222,
              "#7201a8"
             ],
             [
              0.3333333333333333,
              "#9c179e"
             ],
             [
              0.4444444444444444,
              "#bd3786"
             ],
             [
              0.5555555555555556,
              "#d8576b"
             ],
             [
              0.6666666666666666,
              "#ed7953"
             ],
             [
              0.7777777777777778,
              "#fb9f3a"
             ],
             [
              0.8888888888888888,
              "#fdca26"
             ],
             [
              1,
              "#f0f921"
             ]
            ],
            "type": "histogram2d"
           }
          ],
          "histogram2dcontour": [
           {
            "colorbar": {
             "outlinewidth": 0,
             "ticks": ""
            },
            "colorscale": [
             [
              0,
              "#0d0887"
             ],
             [
              0.1111111111111111,
              "#46039f"
             ],
             [
              0.2222222222222222,
              "#7201a8"
             ],
             [
              0.3333333333333333,
              "#9c179e"
             ],
             [
              0.4444444444444444,
              "#bd3786"
             ],
             [
              0.5555555555555556,
              "#d8576b"
             ],
             [
              0.6666666666666666,
              "#ed7953"
             ],
             [
              0.7777777777777778,
              "#fb9f3a"
             ],
             [
              0.8888888888888888,
              "#fdca26"
             ],
             [
              1,
              "#f0f921"
             ]
            ],
            "type": "histogram2dcontour"
           }
          ],
          "mesh3d": [
           {
            "colorbar": {
             "outlinewidth": 0,
             "ticks": ""
            },
            "type": "mesh3d"
           }
          ],
          "parcoords": [
           {
            "line": {
             "colorbar": {
              "outlinewidth": 0,
              "ticks": ""
             }
            },
            "type": "parcoords"
           }
          ],
          "pie": [
           {
            "automargin": true,
            "type": "pie"
           }
          ],
          "scatter": [
           {
            "fillpattern": {
             "fillmode": "overlay",
             "size": 10,
             "solidity": 0.2
            },
            "type": "scatter"
           }
          ],
          "scatter3d": [
           {
            "line": {
             "colorbar": {
              "outlinewidth": 0,
              "ticks": ""
             }
            },
            "marker": {
             "colorbar": {
              "outlinewidth": 0,
              "ticks": ""
             }
            },
            "type": "scatter3d"
           }
          ],
          "scattercarpet": [
           {
            "marker": {
             "colorbar": {
              "outlinewidth": 0,
              "ticks": ""
             }
            },
            "type": "scattercarpet"
           }
          ],
          "scattergeo": [
           {
            "marker": {
             "colorbar": {
              "outlinewidth": 0,
              "ticks": ""
             }
            },
            "type": "scattergeo"
           }
          ],
          "scattergl": [
           {
            "marker": {
             "colorbar": {
              "outlinewidth": 0,
              "ticks": ""
             }
            },
            "type": "scattergl"
           }
          ],
          "scattermapbox": [
           {
            "marker": {
             "colorbar": {
              "outlinewidth": 0,
              "ticks": ""
             }
            },
            "type": "scattermapbox"
           }
          ],
          "scatterpolar": [
           {
            "marker": {
             "colorbar": {
              "outlinewidth": 0,
              "ticks": ""
             }
            },
            "type": "scatterpolar"
           }
          ],
          "scatterpolargl": [
           {
            "marker": {
             "colorbar": {
              "outlinewidth": 0,
              "ticks": ""
             }
            },
            "type": "scatterpolargl"
           }
          ],
          "scatterternary": [
           {
            "marker": {
             "colorbar": {
              "outlinewidth": 0,
              "ticks": ""
             }
            },
            "type": "scatterternary"
           }
          ],
          "surface": [
           {
            "colorbar": {
             "outlinewidth": 0,
             "ticks": ""
            },
            "colorscale": [
             [
              0,
              "#0d0887"
             ],
             [
              0.1111111111111111,
              "#46039f"
             ],
             [
              0.2222222222222222,
              "#7201a8"
             ],
             [
              0.3333333333333333,
              "#9c179e"
             ],
             [
              0.4444444444444444,
              "#bd3786"
             ],
             [
              0.5555555555555556,
              "#d8576b"
             ],
             [
              0.6666666666666666,
              "#ed7953"
             ],
             [
              0.7777777777777778,
              "#fb9f3a"
             ],
             [
              0.8888888888888888,
              "#fdca26"
             ],
             [
              1,
              "#f0f921"
             ]
            ],
            "type": "surface"
           }
          ],
          "table": [
           {
            "cells": {
             "fill": {
              "color": "#EBF0F8"
             },
             "line": {
              "color": "white"
             }
            },
            "header": {
             "fill": {
              "color": "#C8D4E3"
             },
             "line": {
              "color": "white"
             }
            },
            "type": "table"
           }
          ]
         },
         "layout": {
          "annotationdefaults": {
           "arrowcolor": "#2a3f5f",
           "arrowhead": 0,
           "arrowwidth": 1
          },
          "autotypenumbers": "strict",
          "coloraxis": {
           "colorbar": {
            "outlinewidth": 0,
            "ticks": ""
           }
          },
          "colorscale": {
           "diverging": [
            [
             0,
             "#8e0152"
            ],
            [
             0.1,
             "#c51b7d"
            ],
            [
             0.2,
             "#de77ae"
            ],
            [
             0.3,
             "#f1b6da"
            ],
            [
             0.4,
             "#fde0ef"
            ],
            [
             0.5,
             "#f7f7f7"
            ],
            [
             0.6,
             "#e6f5d0"
            ],
            [
             0.7,
             "#b8e186"
            ],
            [
             0.8,
             "#7fbc41"
            ],
            [
             0.9,
             "#4d9221"
            ],
            [
             1,
             "#276419"
            ]
           ],
           "sequential": [
            [
             0,
             "#0d0887"
            ],
            [
             0.1111111111111111,
             "#46039f"
            ],
            [
             0.2222222222222222,
             "#7201a8"
            ],
            [
             0.3333333333333333,
             "#9c179e"
            ],
            [
             0.4444444444444444,
             "#bd3786"
            ],
            [
             0.5555555555555556,
             "#d8576b"
            ],
            [
             0.6666666666666666,
             "#ed7953"
            ],
            [
             0.7777777777777778,
             "#fb9f3a"
            ],
            [
             0.8888888888888888,
             "#fdca26"
            ],
            [
             1,
             "#f0f921"
            ]
           ],
           "sequentialminus": [
            [
             0,
             "#0d0887"
            ],
            [
             0.1111111111111111,
             "#46039f"
            ],
            [
             0.2222222222222222,
             "#7201a8"
            ],
            [
             0.3333333333333333,
             "#9c179e"
            ],
            [
             0.4444444444444444,
             "#bd3786"
            ],
            [
             0.5555555555555556,
             "#d8576b"
            ],
            [
             0.6666666666666666,
             "#ed7953"
            ],
            [
             0.7777777777777778,
             "#fb9f3a"
            ],
            [
             0.8888888888888888,
             "#fdca26"
            ],
            [
             1,
             "#f0f921"
            ]
           ]
          },
          "colorway": [
           "#636efa",
           "#EF553B",
           "#00cc96",
           "#ab63fa",
           "#FFA15A",
           "#19d3f3",
           "#FF6692",
           "#B6E880",
           "#FF97FF",
           "#FECB52"
          ],
          "font": {
           "color": "#2a3f5f"
          },
          "geo": {
           "bgcolor": "white",
           "lakecolor": "white",
           "landcolor": "#E5ECF6",
           "showlakes": true,
           "showland": true,
           "subunitcolor": "white"
          },
          "hoverlabel": {
           "align": "left"
          },
          "hovermode": "closest",
          "mapbox": {
           "style": "light"
          },
          "paper_bgcolor": "white",
          "plot_bgcolor": "#E5ECF6",
          "polar": {
           "angularaxis": {
            "gridcolor": "white",
            "linecolor": "white",
            "ticks": ""
           },
           "bgcolor": "#E5ECF6",
           "radialaxis": {
            "gridcolor": "white",
            "linecolor": "white",
            "ticks": ""
           }
          },
          "scene": {
           "xaxis": {
            "backgroundcolor": "#E5ECF6",
            "gridcolor": "white",
            "gridwidth": 2,
            "linecolor": "white",
            "showbackground": true,
            "ticks": "",
            "zerolinecolor": "white"
           },
           "yaxis": {
            "backgroundcolor": "#E5ECF6",
            "gridcolor": "white",
            "gridwidth": 2,
            "linecolor": "white",
            "showbackground": true,
            "ticks": "",
            "zerolinecolor": "white"
           },
           "zaxis": {
            "backgroundcolor": "#E5ECF6",
            "gridcolor": "white",
            "gridwidth": 2,
            "linecolor": "white",
            "showbackground": true,
            "ticks": "",
            "zerolinecolor": "white"
           }
          },
          "shapedefaults": {
           "line": {
            "color": "#2a3f5f"
           }
          },
          "ternary": {
           "aaxis": {
            "gridcolor": "white",
            "linecolor": "white",
            "ticks": ""
           },
           "baxis": {
            "gridcolor": "white",
            "linecolor": "white",
            "ticks": ""
           },
           "bgcolor": "#E5ECF6",
           "caxis": {
            "gridcolor": "white",
            "linecolor": "white",
            "ticks": ""
           }
          },
          "title": {
           "x": 0.05
          },
          "xaxis": {
           "automargin": true,
           "gridcolor": "white",
           "linecolor": "white",
           "ticks": "",
           "title": {
            "standoff": 15
           },
           "zerolinecolor": "white",
           "zerolinewidth": 2
          },
          "yaxis": {
           "automargin": true,
           "gridcolor": "white",
           "linecolor": "white",
           "ticks": "",
           "title": {
            "standoff": 15
           },
           "zerolinecolor": "white",
           "zerolinewidth": 2
          }
         }
        }
       }
      },
      "text/html": [
       "<div>                            <div id=\"a8b43dde-a35d-4ed9-ade6-f43ea1ae007a\" class=\"plotly-graph-div\" style=\"height:525px; width:100%;\"></div>            <script type=\"text/javascript\">                require([\"plotly\"], function(Plotly) {                    window.PLOTLYENV=window.PLOTLYENV || {};                                    if (document.getElementById(\"a8b43dde-a35d-4ed9-ade6-f43ea1ae007a\")) {                    Plotly.newPlot(                        \"a8b43dde-a35d-4ed9-ade6-f43ea1ae007a\",                        [{\"hoverinfo\":\"label+percent\",\"labels\":[\"Rent\",\"Food\",\"Bills\",\"Miscellaneous\"],\"marker\":{\"colors\":[\"#d32c58\",\"#f9b1ee\",\"#b7f9b1\",\"#b1f5f9\"],\"line\":{\"color\":\"#000000\",\"width\":3}},\"textfont\":{\"size\":25},\"textinfo\":\"value\",\"values\":[1000,518,331,277],\"type\":\"pie\"}],                        {\"template\":{\"data\":{\"barpolar\":[{\"marker\":{\"line\":{\"color\":\"#E5ECF6\",\"width\":0.5},\"pattern\":{\"fillmode\":\"overlay\",\"size\":10,\"solidity\":0.2}},\"type\":\"barpolar\"}],\"bar\":[{\"error_x\":{\"color\":\"#2a3f5f\"},\"error_y\":{\"color\":\"#2a3f5f\"},\"marker\":{\"line\":{\"color\":\"#E5ECF6\",\"width\":0.5},\"pattern\":{\"fillmode\":\"overlay\",\"size\":10,\"solidity\":0.2}},\"type\":\"bar\"}],\"carpet\":[{\"aaxis\":{\"endlinecolor\":\"#2a3f5f\",\"gridcolor\":\"white\",\"linecolor\":\"white\",\"minorgridcolor\":\"white\",\"startlinecolor\":\"#2a3f5f\"},\"baxis\":{\"endlinecolor\":\"#2a3f5f\",\"gridcolor\":\"white\",\"linecolor\":\"white\",\"minorgridcolor\":\"white\",\"startlinecolor\":\"#2a3f5f\"},\"type\":\"carpet\"}],\"choropleth\":[{\"colorbar\":{\"outlinewidth\":0,\"ticks\":\"\"},\"type\":\"choropleth\"}],\"contourcarpet\":[{\"colorbar\":{\"outlinewidth\":0,\"ticks\":\"\"},\"type\":\"contourcarpet\"}],\"contour\":[{\"colorbar\":{\"outlinewidth\":0,\"ticks\":\"\"},\"colorscale\":[[0.0,\"#0d0887\"],[0.1111111111111111,\"#46039f\"],[0.2222222222222222,\"#7201a8\"],[0.3333333333333333,\"#9c179e\"],[0.4444444444444444,\"#bd3786\"],[0.5555555555555556,\"#d8576b\"],[0.6666666666666666,\"#ed7953\"],[0.7777777777777778,\"#fb9f3a\"],[0.8888888888888888,\"#fdca26\"],[1.0,\"#f0f921\"]],\"type\":\"contour\"}],\"heatmapgl\":[{\"colorbar\":{\"outlinewidth\":0,\"ticks\":\"\"},\"colorscale\":[[0.0,\"#0d0887\"],[0.1111111111111111,\"#46039f\"],[0.2222222222222222,\"#7201a8\"],[0.3333333333333333,\"#9c179e\"],[0.4444444444444444,\"#bd3786\"],[0.5555555555555556,\"#d8576b\"],[0.6666666666666666,\"#ed7953\"],[0.7777777777777778,\"#fb9f3a\"],[0.8888888888888888,\"#fdca26\"],[1.0,\"#f0f921\"]],\"type\":\"heatmapgl\"}],\"heatmap\":[{\"colorbar\":{\"outlinewidth\":0,\"ticks\":\"\"},\"colorscale\":[[0.0,\"#0d0887\"],[0.1111111111111111,\"#46039f\"],[0.2222222222222222,\"#7201a8\"],[0.3333333333333333,\"#9c179e\"],[0.4444444444444444,\"#bd3786\"],[0.5555555555555556,\"#d8576b\"],[0.6666666666666666,\"#ed7953\"],[0.7777777777777778,\"#fb9f3a\"],[0.8888888888888888,\"#fdca26\"],[1.0,\"#f0f921\"]],\"type\":\"heatmap\"}],\"histogram2dcontour\":[{\"colorbar\":{\"outlinewidth\":0,\"ticks\":\"\"},\"colorscale\":[[0.0,\"#0d0887\"],[0.1111111111111111,\"#46039f\"],[0.2222222222222222,\"#7201a8\"],[0.3333333333333333,\"#9c179e\"],[0.4444444444444444,\"#bd3786\"],[0.5555555555555556,\"#d8576b\"],[0.6666666666666666,\"#ed7953\"],[0.7777777777777778,\"#fb9f3a\"],[0.8888888888888888,\"#fdca26\"],[1.0,\"#f0f921\"]],\"type\":\"histogram2dcontour\"}],\"histogram2d\":[{\"colorbar\":{\"outlinewidth\":0,\"ticks\":\"\"},\"colorscale\":[[0.0,\"#0d0887\"],[0.1111111111111111,\"#46039f\"],[0.2222222222222222,\"#7201a8\"],[0.3333333333333333,\"#9c179e\"],[0.4444444444444444,\"#bd3786\"],[0.5555555555555556,\"#d8576b\"],[0.6666666666666666,\"#ed7953\"],[0.7777777777777778,\"#fb9f3a\"],[0.8888888888888888,\"#fdca26\"],[1.0,\"#f0f921\"]],\"type\":\"histogram2d\"}],\"histogram\":[{\"marker\":{\"pattern\":{\"fillmode\":\"overlay\",\"size\":10,\"solidity\":0.2}},\"type\":\"histogram\"}],\"mesh3d\":[{\"colorbar\":{\"outlinewidth\":0,\"ticks\":\"\"},\"type\":\"mesh3d\"}],\"parcoords\":[{\"line\":{\"colorbar\":{\"outlinewidth\":0,\"ticks\":\"\"}},\"type\":\"parcoords\"}],\"pie\":[{\"automargin\":true,\"type\":\"pie\"}],\"scatter3d\":[{\"line\":{\"colorbar\":{\"outlinewidth\":0,\"ticks\":\"\"}},\"marker\":{\"colorbar\":{\"outlinewidth\":0,\"ticks\":\"\"}},\"type\":\"scatter3d\"}],\"scattercarpet\":[{\"marker\":{\"colorbar\":{\"outlinewidth\":0,\"ticks\":\"\"}},\"type\":\"scattercarpet\"}],\"scattergeo\":[{\"marker\":{\"colorbar\":{\"outlinewidth\":0,\"ticks\":\"\"}},\"type\":\"scattergeo\"}],\"scattergl\":[{\"marker\":{\"colorbar\":{\"outlinewidth\":0,\"ticks\":\"\"}},\"type\":\"scattergl\"}],\"scattermapbox\":[{\"marker\":{\"colorbar\":{\"outlinewidth\":0,\"ticks\":\"\"}},\"type\":\"scattermapbox\"}],\"scatterpolargl\":[{\"marker\":{\"colorbar\":{\"outlinewidth\":0,\"ticks\":\"\"}},\"type\":\"scatterpolargl\"}],\"scatterpolar\":[{\"marker\":{\"colorbar\":{\"outlinewidth\":0,\"ticks\":\"\"}},\"type\":\"scatterpolar\"}],\"scatter\":[{\"fillpattern\":{\"fillmode\":\"overlay\",\"size\":10,\"solidity\":0.2},\"type\":\"scatter\"}],\"scatterternary\":[{\"marker\":{\"colorbar\":{\"outlinewidth\":0,\"ticks\":\"\"}},\"type\":\"scatterternary\"}],\"surface\":[{\"colorbar\":{\"outlinewidth\":0,\"ticks\":\"\"},\"colorscale\":[[0.0,\"#0d0887\"],[0.1111111111111111,\"#46039f\"],[0.2222222222222222,\"#7201a8\"],[0.3333333333333333,\"#9c179e\"],[0.4444444444444444,\"#bd3786\"],[0.5555555555555556,\"#d8576b\"],[0.6666666666666666,\"#ed7953\"],[0.7777777777777778,\"#fb9f3a\"],[0.8888888888888888,\"#fdca26\"],[1.0,\"#f0f921\"]],\"type\":\"surface\"}],\"table\":[{\"cells\":{\"fill\":{\"color\":\"#EBF0F8\"},\"line\":{\"color\":\"white\"}},\"header\":{\"fill\":{\"color\":\"#C8D4E3\"},\"line\":{\"color\":\"white\"}},\"type\":\"table\"}]},\"layout\":{\"annotationdefaults\":{\"arrowcolor\":\"#2a3f5f\",\"arrowhead\":0,\"arrowwidth\":1},\"autotypenumbers\":\"strict\",\"coloraxis\":{\"colorbar\":{\"outlinewidth\":0,\"ticks\":\"\"}},\"colorscale\":{\"diverging\":[[0,\"#8e0152\"],[0.1,\"#c51b7d\"],[0.2,\"#de77ae\"],[0.3,\"#f1b6da\"],[0.4,\"#fde0ef\"],[0.5,\"#f7f7f7\"],[0.6,\"#e6f5d0\"],[0.7,\"#b8e186\"],[0.8,\"#7fbc41\"],[0.9,\"#4d9221\"],[1,\"#276419\"]],\"sequential\":[[0.0,\"#0d0887\"],[0.1111111111111111,\"#46039f\"],[0.2222222222222222,\"#7201a8\"],[0.3333333333333333,\"#9c179e\"],[0.4444444444444444,\"#bd3786\"],[0.5555555555555556,\"#d8576b\"],[0.6666666666666666,\"#ed7953\"],[0.7777777777777778,\"#fb9f3a\"],[0.8888888888888888,\"#fdca26\"],[1.0,\"#f0f921\"]],\"sequentialminus\":[[0.0,\"#0d0887\"],[0.1111111111111111,\"#46039f\"],[0.2222222222222222,\"#7201a8\"],[0.3333333333333333,\"#9c179e\"],[0.4444444444444444,\"#bd3786\"],[0.5555555555555556,\"#d8576b\"],[0.6666666666666666,\"#ed7953\"],[0.7777777777777778,\"#fb9f3a\"],[0.8888888888888888,\"#fdca26\"],[1.0,\"#f0f921\"]]},\"colorway\":[\"#636efa\",\"#EF553B\",\"#00cc96\",\"#ab63fa\",\"#FFA15A\",\"#19d3f3\",\"#FF6692\",\"#B6E880\",\"#FF97FF\",\"#FECB52\"],\"font\":{\"color\":\"#2a3f5f\"},\"geo\":{\"bgcolor\":\"white\",\"lakecolor\":\"white\",\"landcolor\":\"#E5ECF6\",\"showlakes\":true,\"showland\":true,\"subunitcolor\":\"white\"},\"hoverlabel\":{\"align\":\"left\"},\"hovermode\":\"closest\",\"mapbox\":{\"style\":\"light\"},\"paper_bgcolor\":\"white\",\"plot_bgcolor\":\"#E5ECF6\",\"polar\":{\"angularaxis\":{\"gridcolor\":\"white\",\"linecolor\":\"white\",\"ticks\":\"\"},\"bgcolor\":\"#E5ECF6\",\"radialaxis\":{\"gridcolor\":\"white\",\"linecolor\":\"white\",\"ticks\":\"\"}},\"scene\":{\"xaxis\":{\"backgroundcolor\":\"#E5ECF6\",\"gridcolor\":\"white\",\"gridwidth\":2,\"linecolor\":\"white\",\"showbackground\":true,\"ticks\":\"\",\"zerolinecolor\":\"white\"},\"yaxis\":{\"backgroundcolor\":\"#E5ECF6\",\"gridcolor\":\"white\",\"gridwidth\":2,\"linecolor\":\"white\",\"showbackground\":true,\"ticks\":\"\",\"zerolinecolor\":\"white\"},\"zaxis\":{\"backgroundcolor\":\"#E5ECF6\",\"gridcolor\":\"white\",\"gridwidth\":2,\"linecolor\":\"white\",\"showbackground\":true,\"ticks\":\"\",\"zerolinecolor\":\"white\"}},\"shapedefaults\":{\"line\":{\"color\":\"#2a3f5f\"}},\"ternary\":{\"aaxis\":{\"gridcolor\":\"white\",\"linecolor\":\"white\",\"ticks\":\"\"},\"baxis\":{\"gridcolor\":\"white\",\"linecolor\":\"white\",\"ticks\":\"\"},\"bgcolor\":\"#E5ECF6\",\"caxis\":{\"gridcolor\":\"white\",\"linecolor\":\"white\",\"ticks\":\"\"}},\"title\":{\"x\":0.05},\"xaxis\":{\"automargin\":true,\"gridcolor\":\"white\",\"linecolor\":\"white\",\"ticks\":\"\",\"title\":{\"standoff\":15},\"zerolinecolor\":\"white\",\"zerolinewidth\":2},\"yaxis\":{\"automargin\":true,\"gridcolor\":\"white\",\"linecolor\":\"white\",\"ticks\":\"\",\"title\":{\"standoff\":15},\"zerolinecolor\":\"white\",\"zerolinewidth\":2}}}},                        {\"responsive\": true}                    ).then(function(){\n",
       "                            \n",
       "var gd = document.getElementById('a8b43dde-a35d-4ed9-ade6-f43ea1ae007a');\n",
       "var x = new MutationObserver(function (mutations, observer) {{\n",
       "        var display = window.getComputedStyle(gd).display;\n",
       "        if (!display || display === 'none') {{\n",
       "            console.log([gd, 'removed!']);\n",
       "            Plotly.purge(gd);\n",
       "            observer.disconnect();\n",
       "        }}\n",
       "}});\n",
       "\n",
       "// Listen for the removal of the full notebook cells\n",
       "var notebookContainer = gd.closest('#notebook-container');\n",
       "if (notebookContainer) {{\n",
       "    x.observe(notebookContainer, {childList: true});\n",
       "}}\n",
       "\n",
       "// Listen for the clearing of the current output cell\n",
       "var outputEl = gd.closest('.output');\n",
       "if (outputEl) {{\n",
       "    x.observe(outputEl, {childList: true});\n",
       "}}\n",
       "\n",
       "                        })                };                });            </script>        </div>"
      ]
     },
     "metadata": {},
     "output_type": "display_data"
    }
   ],
   "source": [
    "#Expenses\n",
    "\n",
    "#breakdown each category \n",
    "groups = ['Rent','Food','Bills','Miscellaneous']\n",
    "#create amount\n",
    "amount = [1000,518,331,277]\n",
    "#style\n",
    "colors = ['#d32c58', '#f9b1ee', '#b7f9b1', '#b1f5f9']\n",
    "\n",
    "trace = go.Pie(labels=groups, values=amount,\n",
    "               hoverinfo='label+percent', textinfo='value', \n",
    "               textfont=dict(size=25),\n",
    "               marker=dict(colors=colors, \n",
    "                           line=dict(color='#000000', width=3)))\n",
    "\n",
    "#plot - \n",
    "iplot([trace])"
   ]
  },
  {
   "cell_type": "markdown",
   "metadata": {
    "id": "NFEcu4h025LI"
   },
   "source": [
    "## Bài 3"
   ]
  },
  {
   "cell_type": "code",
   "execution_count": 12,
   "metadata": {
    "id": "zx-qE1h925LI"
   },
   "outputs": [],
   "source": [
    "import pandas as pd"
   ]
  },
  {
   "cell_type": "code",
   "execution_count": 13,
   "metadata": {
    "id": "DWKdazXS25LI"
   },
   "outputs": [],
   "source": [
    "pubg = pd.read_csv('P48-Custom-Data-PUBG.csv')\n",
    "#pubg.head(10)\n",
    "df_pubg = pubg.apply(pd.to_numeric, errors='ignore')\n",
    "df_new_pubg = df_pubg.head(10)"
   ]
  },
  {
   "cell_type": "code",
   "execution_count": 14,
   "metadata": {
    "id": "6QOi68IX25LJ",
    "outputId": "685be8c1-a819-4056-b2d6-e1add08c0e9d"
   },
   "outputs": [
    {
     "data": {
      "text/html": [
       "<div>\n",
       "<style scoped>\n",
       "    .dataframe tbody tr th:only-of-type {\n",
       "        vertical-align: middle;\n",
       "    }\n",
       "\n",
       "    .dataframe tbody tr th {\n",
       "        vertical-align: top;\n",
       "    }\n",
       "\n",
       "    .dataframe thead th {\n",
       "        text-align: right;\n",
       "    }\n",
       "</style>\n",
       "<table border=\"1\" class=\"dataframe\">\n",
       "  <thead>\n",
       "    <tr style=\"text-align: right;\">\n",
       "      <th></th>\n",
       "      <th>player_name</th>\n",
       "      <th>tracker_id</th>\n",
       "      <th>solo_KillDeathRatio</th>\n",
       "      <th>solo_WinRatio</th>\n",
       "      <th>solo_TimeSurvived</th>\n",
       "      <th>solo_RoundsPlayed</th>\n",
       "      <th>solo_Wins</th>\n",
       "      <th>solo_WinTop10Ratio</th>\n",
       "      <th>solo_Top10s</th>\n",
       "      <th>solo_Top10Ratio</th>\n",
       "      <th>...</th>\n",
       "      <th>squad_RideDistance</th>\n",
       "      <th>squad_MoveDistance</th>\n",
       "      <th>squad_AvgWalkDistance</th>\n",
       "      <th>squad_AvgRideDistance</th>\n",
       "      <th>squad_LongestKill</th>\n",
       "      <th>squad_Heals</th>\n",
       "      <th>squad_Revives</th>\n",
       "      <th>squad_Boosts</th>\n",
       "      <th>squad_DamageDealt</th>\n",
       "      <th>squad_DBNOs</th>\n",
       "    </tr>\n",
       "  </thead>\n",
       "  <tbody>\n",
       "    <tr>\n",
       "      <th>0</th>\n",
       "      <td>BreakNeck</td>\n",
       "      <td>4405</td>\n",
       "      <td>3.14</td>\n",
       "      <td>17.65</td>\n",
       "      <td>18469.14</td>\n",
       "      <td>17</td>\n",
       "      <td>3</td>\n",
       "      <td>0.83</td>\n",
       "      <td>4</td>\n",
       "      <td>23.5</td>\n",
       "      <td>...</td>\n",
       "      <td>3751590.99</td>\n",
       "      <td>5194786.58</td>\n",
       "      <td>2626.97</td>\n",
       "      <td>4372.64</td>\n",
       "      <td>536.98</td>\n",
       "      <td>2186</td>\n",
       "      <td>234</td>\n",
       "      <td>1884</td>\n",
       "      <td>242132.73</td>\n",
       "      <td>1448</td>\n",
       "    </tr>\n",
       "    <tr>\n",
       "      <th>1</th>\n",
       "      <td>Blackwalk</td>\n",
       "      <td>8199</td>\n",
       "      <td>4.41</td>\n",
       "      <td>18.18</td>\n",
       "      <td>33014.86</td>\n",
       "      <td>33</td>\n",
       "      <td>6</td>\n",
       "      <td>0.36</td>\n",
       "      <td>11</td>\n",
       "      <td>33.3</td>\n",
       "      <td>...</td>\n",
       "      <td>4295917.30</td>\n",
       "      <td>6051783.67</td>\n",
       "      <td>2422.48</td>\n",
       "      <td>6009.73</td>\n",
       "      <td>734.85</td>\n",
       "      <td>2041</td>\n",
       "      <td>276</td>\n",
       "      <td>2340</td>\n",
       "      <td>269795.75</td>\n",
       "      <td>1724</td>\n",
       "    </tr>\n",
       "    <tr>\n",
       "      <th>2</th>\n",
       "      <td>mercedes_benz</td>\n",
       "      <td>4454</td>\n",
       "      <td>3.60</td>\n",
       "      <td>0.00</td>\n",
       "      <td>4330.44</td>\n",
       "      <td>5</td>\n",
       "      <td>0</td>\n",
       "      <td>0.00</td>\n",
       "      <td>1</td>\n",
       "      <td>20.0</td>\n",
       "      <td>...</td>\n",
       "      <td>3935265.63</td>\n",
       "      <td>5589608.74</td>\n",
       "      <td>1871.89</td>\n",
       "      <td>3011.87</td>\n",
       "      <td>725.44</td>\n",
       "      <td>1766</td>\n",
       "      <td>210</td>\n",
       "      <td>2193</td>\n",
       "      <td>292977.07</td>\n",
       "      <td>1897</td>\n",
       "    </tr>\n",
       "    <tr>\n",
       "      <th>3</th>\n",
       "      <td>DORA</td>\n",
       "      <td>7729</td>\n",
       "      <td>14.00</td>\n",
       "      <td>50.00</td>\n",
       "      <td>13421.82</td>\n",
       "      <td>8</td>\n",
       "      <td>4</td>\n",
       "      <td>0.67</td>\n",
       "      <td>6</td>\n",
       "      <td>75.0</td>\n",
       "      <td>...</td>\n",
       "      <td>2738998.00</td>\n",
       "      <td>3796916.00</td>\n",
       "      <td>2154.62</td>\n",
       "      <td>5578.41</td>\n",
       "      <td>587.28</td>\n",
       "      <td>1214</td>\n",
       "      <td>142</td>\n",
       "      <td>1252</td>\n",
       "      <td>181106.90</td>\n",
       "      <td>1057</td>\n",
       "    </tr>\n",
       "    <tr>\n",
       "      <th>4</th>\n",
       "      <td>n2tstar</td>\n",
       "      <td>0</td>\n",
       "      <td>10.50</td>\n",
       "      <td>33.33</td>\n",
       "      <td>9841.04</td>\n",
       "      <td>6</td>\n",
       "      <td>2</td>\n",
       "      <td>0.40</td>\n",
       "      <td>5</td>\n",
       "      <td>83.3</td>\n",
       "      <td>...</td>\n",
       "      <td>2347295.00</td>\n",
       "      <td>3220260.00</td>\n",
       "      <td>2098.47</td>\n",
       "      <td>5642.54</td>\n",
       "      <td>546.10</td>\n",
       "      <td>1245</td>\n",
       "      <td>120</td>\n",
       "      <td>923</td>\n",
       "      <td>160029.80</td>\n",
       "      <td>1077</td>\n",
       "    </tr>\n",
       "    <tr>\n",
       "      <th>5</th>\n",
       "      <td>coldoxygen</td>\n",
       "      <td>33313</td>\n",
       "      <td>5.73</td>\n",
       "      <td>31.25</td>\n",
       "      <td>22003.22</td>\n",
       "      <td>16</td>\n",
       "      <td>5</td>\n",
       "      <td>0.50</td>\n",
       "      <td>10</td>\n",
       "      <td>62.5</td>\n",
       "      <td>...</td>\n",
       "      <td>3218436.00</td>\n",
       "      <td>4733977.00</td>\n",
       "      <td>2078.93</td>\n",
       "      <td>4414.86</td>\n",
       "      <td>1212.76</td>\n",
       "      <td>2023</td>\n",
       "      <td>195</td>\n",
       "      <td>2307</td>\n",
       "      <td>238640.00</td>\n",
       "      <td>1450</td>\n",
       "    </tr>\n",
       "    <tr>\n",
       "      <th>6</th>\n",
       "      <td>Giken</td>\n",
       "      <td>15585</td>\n",
       "      <td>2.45</td>\n",
       "      <td>8.45</td>\n",
       "      <td>148051.25</td>\n",
       "      <td>142</td>\n",
       "      <td>12</td>\n",
       "      <td>0.18</td>\n",
       "      <td>34</td>\n",
       "      <td>23.9</td>\n",
       "      <td>...</td>\n",
       "      <td>2057423.12</td>\n",
       "      <td>2883099.31</td>\n",
       "      <td>1664.77</td>\n",
       "      <td>3022.51</td>\n",
       "      <td>564.20</td>\n",
       "      <td>1274</td>\n",
       "      <td>133</td>\n",
       "      <td>1320</td>\n",
       "      <td>132008.88</td>\n",
       "      <td>775</td>\n",
       "    </tr>\n",
       "    <tr>\n",
       "      <th>7</th>\n",
       "      <td>KoreaNo1</td>\n",
       "      <td>9454</td>\n",
       "      <td>2.71</td>\n",
       "      <td>26.32</td>\n",
       "      <td>26091.14</td>\n",
       "      <td>19</td>\n",
       "      <td>5</td>\n",
       "      <td>0.50</td>\n",
       "      <td>10</td>\n",
       "      <td>52.6</td>\n",
       "      <td>...</td>\n",
       "      <td>3586593.00</td>\n",
       "      <td>4854387.00</td>\n",
       "      <td>1635.86</td>\n",
       "      <td>4627.86</td>\n",
       "      <td>806.24</td>\n",
       "      <td>2199</td>\n",
       "      <td>163</td>\n",
       "      <td>1864</td>\n",
       "      <td>201659.00</td>\n",
       "      <td>1287</td>\n",
       "    </tr>\n",
       "    <tr>\n",
       "      <th>8</th>\n",
       "      <td>undor</td>\n",
       "      <td>24029</td>\n",
       "      <td>3.68</td>\n",
       "      <td>13.64</td>\n",
       "      <td>49282.41</td>\n",
       "      <td>44</td>\n",
       "      <td>6</td>\n",
       "      <td>0.23</td>\n",
       "      <td>13</td>\n",
       "      <td>29.5</td>\n",
       "      <td>...</td>\n",
       "      <td>1054263.00</td>\n",
       "      <td>1550975.00</td>\n",
       "      <td>2207.61</td>\n",
       "      <td>4685.61</td>\n",
       "      <td>455.67</td>\n",
       "      <td>617</td>\n",
       "      <td>61</td>\n",
       "      <td>585</td>\n",
       "      <td>80498.73</td>\n",
       "      <td>513</td>\n",
       "    </tr>\n",
       "    <tr>\n",
       "      <th>9</th>\n",
       "      <td>Fordune</td>\n",
       "      <td>11289</td>\n",
       "      <td>4.17</td>\n",
       "      <td>25.00</td>\n",
       "      <td>10280.77</td>\n",
       "      <td>8</td>\n",
       "      <td>2</td>\n",
       "      <td>0.25</td>\n",
       "      <td>4</td>\n",
       "      <td>50.0</td>\n",
       "      <td>...</td>\n",
       "      <td>2793909.91</td>\n",
       "      <td>4071039.87</td>\n",
       "      <td>1981.29</td>\n",
       "      <td>3635.28</td>\n",
       "      <td>546.95</td>\n",
       "      <td>1320</td>\n",
       "      <td>220</td>\n",
       "      <td>1338</td>\n",
       "      <td>123573.74</td>\n",
       "      <td>675</td>\n",
       "    </tr>\n",
       "  </tbody>\n",
       "</table>\n",
       "<p>10 rows × 152 columns</p>\n",
       "</div>"
      ],
      "text/plain": [
       "     player_name  tracker_id  solo_KillDeathRatio  solo_WinRatio  \\\n",
       "0      BreakNeck        4405                 3.14          17.65   \n",
       "1      Blackwalk        8199                 4.41          18.18   \n",
       "2  mercedes_benz        4454                 3.60           0.00   \n",
       "3           DORA        7729                14.00          50.00   \n",
       "4        n2tstar           0                10.50          33.33   \n",
       "5     coldoxygen       33313                 5.73          31.25   \n",
       "6          Giken       15585                 2.45           8.45   \n",
       "7       KoreaNo1        9454                 2.71          26.32   \n",
       "8          undor       24029                 3.68          13.64   \n",
       "9        Fordune       11289                 4.17          25.00   \n",
       "\n",
       "   solo_TimeSurvived  solo_RoundsPlayed  solo_Wins  solo_WinTop10Ratio  \\\n",
       "0           18469.14                 17          3                0.83   \n",
       "1           33014.86                 33          6                0.36   \n",
       "2            4330.44                  5          0                0.00   \n",
       "3           13421.82                  8          4                0.67   \n",
       "4            9841.04                  6          2                0.40   \n",
       "5           22003.22                 16          5                0.50   \n",
       "6          148051.25                142         12                0.18   \n",
       "7           26091.14                 19          5                0.50   \n",
       "8           49282.41                 44          6                0.23   \n",
       "9           10280.77                  8          2                0.25   \n",
       "\n",
       "   solo_Top10s  solo_Top10Ratio  ...  squad_RideDistance  squad_MoveDistance  \\\n",
       "0            4             23.5  ...          3751590.99          5194786.58   \n",
       "1           11             33.3  ...          4295917.30          6051783.67   \n",
       "2            1             20.0  ...          3935265.63          5589608.74   \n",
       "3            6             75.0  ...          2738998.00          3796916.00   \n",
       "4            5             83.3  ...          2347295.00          3220260.00   \n",
       "5           10             62.5  ...          3218436.00          4733977.00   \n",
       "6           34             23.9  ...          2057423.12          2883099.31   \n",
       "7           10             52.6  ...          3586593.00          4854387.00   \n",
       "8           13             29.5  ...          1054263.00          1550975.00   \n",
       "9            4             50.0  ...          2793909.91          4071039.87   \n",
       "\n",
       "   squad_AvgWalkDistance  squad_AvgRideDistance  squad_LongestKill  \\\n",
       "0                2626.97                4372.64             536.98   \n",
       "1                2422.48                6009.73             734.85   \n",
       "2                1871.89                3011.87             725.44   \n",
       "3                2154.62                5578.41             587.28   \n",
       "4                2098.47                5642.54             546.10   \n",
       "5                2078.93                4414.86            1212.76   \n",
       "6                1664.77                3022.51             564.20   \n",
       "7                1635.86                4627.86             806.24   \n",
       "8                2207.61                4685.61             455.67   \n",
       "9                1981.29                3635.28             546.95   \n",
       "\n",
       "   squad_Heals  squad_Revives  squad_Boosts  squad_DamageDealt  squad_DBNOs  \n",
       "0         2186            234          1884          242132.73         1448  \n",
       "1         2041            276          2340          269795.75         1724  \n",
       "2         1766            210          2193          292977.07         1897  \n",
       "3         1214            142          1252          181106.90         1057  \n",
       "4         1245            120           923          160029.80         1077  \n",
       "5         2023            195          2307          238640.00         1450  \n",
       "6         1274            133          1320          132008.88          775  \n",
       "7         2199            163          1864          201659.00         1287  \n",
       "8          617             61           585           80498.73          513  \n",
       "9         1320            220          1338          123573.74          675  \n",
       "\n",
       "[10 rows x 152 columns]"
      ]
     },
     "execution_count": 14,
     "metadata": {},
     "output_type": "execute_result"
    }
   ],
   "source": [
    "df_new_pubg.head(10)"
   ]
  },
  {
   "cell_type": "code",
   "execution_count": 15,
   "metadata": {
    "id": "6wAvFhLU25LJ",
    "outputId": "e5303658-4a5a-47f8-eccb-e385628a8295"
   },
   "outputs": [
    {
     "data": {
      "application/vnd.plotly.v1+json": {
       "config": {
        "linkText": "Export to plot.ly",
        "plotlyServerURL": "https://plot.ly",
        "showLink": false
       },
       "data": [
        {
         "name": "Rounds Won",
         "type": "scatter",
         "x": [
          17,
          33,
          5,
          8,
          6,
          16,
          142,
          19,
          44,
          8
         ],
         "y": [
          3,
          6,
          0,
          4,
          2,
          5,
          12,
          5,
          6,
          2
         ]
        }
       ],
       "layout": {
        "plot_bgcolor": "rgb(230, 230,230)",
        "showlegend": true,
        "template": {
         "data": {
          "bar": [
           {
            "error_x": {
             "color": "#2a3f5f"
            },
            "error_y": {
             "color": "#2a3f5f"
            },
            "marker": {
             "line": {
              "color": "#E5ECF6",
              "width": 0.5
             },
             "pattern": {
              "fillmode": "overlay",
              "size": 10,
              "solidity": 0.2
             }
            },
            "type": "bar"
           }
          ],
          "barpolar": [
           {
            "marker": {
             "line": {
              "color": "#E5ECF6",
              "width": 0.5
             },
             "pattern": {
              "fillmode": "overlay",
              "size": 10,
              "solidity": 0.2
             }
            },
            "type": "barpolar"
           }
          ],
          "carpet": [
           {
            "aaxis": {
             "endlinecolor": "#2a3f5f",
             "gridcolor": "white",
             "linecolor": "white",
             "minorgridcolor": "white",
             "startlinecolor": "#2a3f5f"
            },
            "baxis": {
             "endlinecolor": "#2a3f5f",
             "gridcolor": "white",
             "linecolor": "white",
             "minorgridcolor": "white",
             "startlinecolor": "#2a3f5f"
            },
            "type": "carpet"
           }
          ],
          "choropleth": [
           {
            "colorbar": {
             "outlinewidth": 0,
             "ticks": ""
            },
            "type": "choropleth"
           }
          ],
          "contour": [
           {
            "colorbar": {
             "outlinewidth": 0,
             "ticks": ""
            },
            "colorscale": [
             [
              0,
              "#0d0887"
             ],
             [
              0.1111111111111111,
              "#46039f"
             ],
             [
              0.2222222222222222,
              "#7201a8"
             ],
             [
              0.3333333333333333,
              "#9c179e"
             ],
             [
              0.4444444444444444,
              "#bd3786"
             ],
             [
              0.5555555555555556,
              "#d8576b"
             ],
             [
              0.6666666666666666,
              "#ed7953"
             ],
             [
              0.7777777777777778,
              "#fb9f3a"
             ],
             [
              0.8888888888888888,
              "#fdca26"
             ],
             [
              1,
              "#f0f921"
             ]
            ],
            "type": "contour"
           }
          ],
          "contourcarpet": [
           {
            "colorbar": {
             "outlinewidth": 0,
             "ticks": ""
            },
            "type": "contourcarpet"
           }
          ],
          "heatmap": [
           {
            "colorbar": {
             "outlinewidth": 0,
             "ticks": ""
            },
            "colorscale": [
             [
              0,
              "#0d0887"
             ],
             [
              0.1111111111111111,
              "#46039f"
             ],
             [
              0.2222222222222222,
              "#7201a8"
             ],
             [
              0.3333333333333333,
              "#9c179e"
             ],
             [
              0.4444444444444444,
              "#bd3786"
             ],
             [
              0.5555555555555556,
              "#d8576b"
             ],
             [
              0.6666666666666666,
              "#ed7953"
             ],
             [
              0.7777777777777778,
              "#fb9f3a"
             ],
             [
              0.8888888888888888,
              "#fdca26"
             ],
             [
              1,
              "#f0f921"
             ]
            ],
            "type": "heatmap"
           }
          ],
          "heatmapgl": [
           {
            "colorbar": {
             "outlinewidth": 0,
             "ticks": ""
            },
            "colorscale": [
             [
              0,
              "#0d0887"
             ],
             [
              0.1111111111111111,
              "#46039f"
             ],
             [
              0.2222222222222222,
              "#7201a8"
             ],
             [
              0.3333333333333333,
              "#9c179e"
             ],
             [
              0.4444444444444444,
              "#bd3786"
             ],
             [
              0.5555555555555556,
              "#d8576b"
             ],
             [
              0.6666666666666666,
              "#ed7953"
             ],
             [
              0.7777777777777778,
              "#fb9f3a"
             ],
             [
              0.8888888888888888,
              "#fdca26"
             ],
             [
              1,
              "#f0f921"
             ]
            ],
            "type": "heatmapgl"
           }
          ],
          "histogram": [
           {
            "marker": {
             "pattern": {
              "fillmode": "overlay",
              "size": 10,
              "solidity": 0.2
             }
            },
            "type": "histogram"
           }
          ],
          "histogram2d": [
           {
            "colorbar": {
             "outlinewidth": 0,
             "ticks": ""
            },
            "colorscale": [
             [
              0,
              "#0d0887"
             ],
             [
              0.1111111111111111,
              "#46039f"
             ],
             [
              0.2222222222222222,
              "#7201a8"
             ],
             [
              0.3333333333333333,
              "#9c179e"
             ],
             [
              0.4444444444444444,
              "#bd3786"
             ],
             [
              0.5555555555555556,
              "#d8576b"
             ],
             [
              0.6666666666666666,
              "#ed7953"
             ],
             [
              0.7777777777777778,
              "#fb9f3a"
             ],
             [
              0.8888888888888888,
              "#fdca26"
             ],
             [
              1,
              "#f0f921"
             ]
            ],
            "type": "histogram2d"
           }
          ],
          "histogram2dcontour": [
           {
            "colorbar": {
             "outlinewidth": 0,
             "ticks": ""
            },
            "colorscale": [
             [
              0,
              "#0d0887"
             ],
             [
              0.1111111111111111,
              "#46039f"
             ],
             [
              0.2222222222222222,
              "#7201a8"
             ],
             [
              0.3333333333333333,
              "#9c179e"
             ],
             [
              0.4444444444444444,
              "#bd3786"
             ],
             [
              0.5555555555555556,
              "#d8576b"
             ],
             [
              0.6666666666666666,
              "#ed7953"
             ],
             [
              0.7777777777777778,
              "#fb9f3a"
             ],
             [
              0.8888888888888888,
              "#fdca26"
             ],
             [
              1,
              "#f0f921"
             ]
            ],
            "type": "histogram2dcontour"
           }
          ],
          "mesh3d": [
           {
            "colorbar": {
             "outlinewidth": 0,
             "ticks": ""
            },
            "type": "mesh3d"
           }
          ],
          "parcoords": [
           {
            "line": {
             "colorbar": {
              "outlinewidth": 0,
              "ticks": ""
             }
            },
            "type": "parcoords"
           }
          ],
          "pie": [
           {
            "automargin": true,
            "type": "pie"
           }
          ],
          "scatter": [
           {
            "fillpattern": {
             "fillmode": "overlay",
             "size": 10,
             "solidity": 0.2
            },
            "type": "scatter"
           }
          ],
          "scatter3d": [
           {
            "line": {
             "colorbar": {
              "outlinewidth": 0,
              "ticks": ""
             }
            },
            "marker": {
             "colorbar": {
              "outlinewidth": 0,
              "ticks": ""
             }
            },
            "type": "scatter3d"
           }
          ],
          "scattercarpet": [
           {
            "marker": {
             "colorbar": {
              "outlinewidth": 0,
              "ticks": ""
             }
            },
            "type": "scattercarpet"
           }
          ],
          "scattergeo": [
           {
            "marker": {
             "colorbar": {
              "outlinewidth": 0,
              "ticks": ""
             }
            },
            "type": "scattergeo"
           }
          ],
          "scattergl": [
           {
            "marker": {
             "colorbar": {
              "outlinewidth": 0,
              "ticks": ""
             }
            },
            "type": "scattergl"
           }
          ],
          "scattermapbox": [
           {
            "marker": {
             "colorbar": {
              "outlinewidth": 0,
              "ticks": ""
             }
            },
            "type": "scattermapbox"
           }
          ],
          "scatterpolar": [
           {
            "marker": {
             "colorbar": {
              "outlinewidth": 0,
              "ticks": ""
             }
            },
            "type": "scatterpolar"
           }
          ],
          "scatterpolargl": [
           {
            "marker": {
             "colorbar": {
              "outlinewidth": 0,
              "ticks": ""
             }
            },
            "type": "scatterpolargl"
           }
          ],
          "scatterternary": [
           {
            "marker": {
             "colorbar": {
              "outlinewidth": 0,
              "ticks": ""
             }
            },
            "type": "scatterternary"
           }
          ],
          "surface": [
           {
            "colorbar": {
             "outlinewidth": 0,
             "ticks": ""
            },
            "colorscale": [
             [
              0,
              "#0d0887"
             ],
             [
              0.1111111111111111,
              "#46039f"
             ],
             [
              0.2222222222222222,
              "#7201a8"
             ],
             [
              0.3333333333333333,
              "#9c179e"
             ],
             [
              0.4444444444444444,
              "#bd3786"
             ],
             [
              0.5555555555555556,
              "#d8576b"
             ],
             [
              0.6666666666666666,
              "#ed7953"
             ],
             [
              0.7777777777777778,
              "#fb9f3a"
             ],
             [
              0.8888888888888888,
              "#fdca26"
             ],
             [
              1,
              "#f0f921"
             ]
            ],
            "type": "surface"
           }
          ],
          "table": [
           {
            "cells": {
             "fill": {
              "color": "#EBF0F8"
             },
             "line": {
              "color": "white"
             }
            },
            "header": {
             "fill": {
              "color": "#C8D4E3"
             },
             "line": {
              "color": "white"
             }
            },
            "type": "table"
           }
          ]
         },
         "layout": {
          "annotationdefaults": {
           "arrowcolor": "#2a3f5f",
           "arrowhead": 0,
           "arrowwidth": 1
          },
          "autotypenumbers": "strict",
          "coloraxis": {
           "colorbar": {
            "outlinewidth": 0,
            "ticks": ""
           }
          },
          "colorscale": {
           "diverging": [
            [
             0,
             "#8e0152"
            ],
            [
             0.1,
             "#c51b7d"
            ],
            [
             0.2,
             "#de77ae"
            ],
            [
             0.3,
             "#f1b6da"
            ],
            [
             0.4,
             "#fde0ef"
            ],
            [
             0.5,
             "#f7f7f7"
            ],
            [
             0.6,
             "#e6f5d0"
            ],
            [
             0.7,
             "#b8e186"
            ],
            [
             0.8,
             "#7fbc41"
            ],
            [
             0.9,
             "#4d9221"
            ],
            [
             1,
             "#276419"
            ]
           ],
           "sequential": [
            [
             0,
             "#0d0887"
            ],
            [
             0.1111111111111111,
             "#46039f"
            ],
            [
             0.2222222222222222,
             "#7201a8"
            ],
            [
             0.3333333333333333,
             "#9c179e"
            ],
            [
             0.4444444444444444,
             "#bd3786"
            ],
            [
             0.5555555555555556,
             "#d8576b"
            ],
            [
             0.6666666666666666,
             "#ed7953"
            ],
            [
             0.7777777777777778,
             "#fb9f3a"
            ],
            [
             0.8888888888888888,
             "#fdca26"
            ],
            [
             1,
             "#f0f921"
            ]
           ],
           "sequentialminus": [
            [
             0,
             "#0d0887"
            ],
            [
             0.1111111111111111,
             "#46039f"
            ],
            [
             0.2222222222222222,
             "#7201a8"
            ],
            [
             0.3333333333333333,
             "#9c179e"
            ],
            [
             0.4444444444444444,
             "#bd3786"
            ],
            [
             0.5555555555555556,
             "#d8576b"
            ],
            [
             0.6666666666666666,
             "#ed7953"
            ],
            [
             0.7777777777777778,
             "#fb9f3a"
            ],
            [
             0.8888888888888888,
             "#fdca26"
            ],
            [
             1,
             "#f0f921"
            ]
           ]
          },
          "colorway": [
           "#636efa",
           "#EF553B",
           "#00cc96",
           "#ab63fa",
           "#FFA15A",
           "#19d3f3",
           "#FF6692",
           "#B6E880",
           "#FF97FF",
           "#FECB52"
          ],
          "font": {
           "color": "#2a3f5f"
          },
          "geo": {
           "bgcolor": "white",
           "lakecolor": "white",
           "landcolor": "#E5ECF6",
           "showlakes": true,
           "showland": true,
           "subunitcolor": "white"
          },
          "hoverlabel": {
           "align": "left"
          },
          "hovermode": "closest",
          "mapbox": {
           "style": "light"
          },
          "paper_bgcolor": "white",
          "plot_bgcolor": "#E5ECF6",
          "polar": {
           "angularaxis": {
            "gridcolor": "white",
            "linecolor": "white",
            "ticks": ""
           },
           "bgcolor": "#E5ECF6",
           "radialaxis": {
            "gridcolor": "white",
            "linecolor": "white",
            "ticks": ""
           }
          },
          "scene": {
           "xaxis": {
            "backgroundcolor": "#E5ECF6",
            "gridcolor": "white",
            "gridwidth": 2,
            "linecolor": "white",
            "showbackground": true,
            "ticks": "",
            "zerolinecolor": "white"
           },
           "yaxis": {
            "backgroundcolor": "#E5ECF6",
            "gridcolor": "white",
            "gridwidth": 2,
            "linecolor": "white",
            "showbackground": true,
            "ticks": "",
            "zerolinecolor": "white"
           },
           "zaxis": {
            "backgroundcolor": "#E5ECF6",
            "gridcolor": "white",
            "gridwidth": 2,
            "linecolor": "white",
            "showbackground": true,
            "ticks": "",
            "zerolinecolor": "white"
           }
          },
          "shapedefaults": {
           "line": {
            "color": "#2a3f5f"
           }
          },
          "ternary": {
           "aaxis": {
            "gridcolor": "white",
            "linecolor": "white",
            "ticks": ""
           },
           "baxis": {
            "gridcolor": "white",
            "linecolor": "white",
            "ticks": ""
           },
           "bgcolor": "#E5ECF6",
           "caxis": {
            "gridcolor": "white",
            "linecolor": "white",
            "ticks": ""
           }
          },
          "title": {
           "x": 0.05
          },
          "xaxis": {
           "automargin": true,
           "gridcolor": "white",
           "linecolor": "white",
           "ticks": "",
           "title": {
            "standoff": 15
           },
           "zerolinecolor": "white",
           "zerolinewidth": 2
          },
          "yaxis": {
           "automargin": true,
           "gridcolor": "white",
           "linecolor": "white",
           "ticks": "",
           "title": {
            "standoff": 15
           },
           "zerolinecolor": "white",
           "zerolinewidth": 2
          }
         }
        },
        "title": {
         "text": "PUBG Wins vs Rounds Played"
        }
       }
      },
      "text/html": [
       "<div>                            <div id=\"ca4fd0f7-6012-4fec-ab4e-c5b6b4593da8\" class=\"plotly-graph-div\" style=\"height:525px; width:100%;\"></div>            <script type=\"text/javascript\">                require([\"plotly\"], function(Plotly) {                    window.PLOTLYENV=window.PLOTLYENV || {};                                    if (document.getElementById(\"ca4fd0f7-6012-4fec-ab4e-c5b6b4593da8\")) {                    Plotly.newPlot(                        \"ca4fd0f7-6012-4fec-ab4e-c5b6b4593da8\",                        [{\"name\":\"Rounds Won\",\"x\":[17,33,5,8,6,16,142,19,44,8],\"y\":[3,6,0,4,2,5,12,5,6,2],\"type\":\"scatter\"}],                        {\"plot_bgcolor\":\"rgb(230, 230,230)\",\"showlegend\":true,\"template\":{\"data\":{\"barpolar\":[{\"marker\":{\"line\":{\"color\":\"#E5ECF6\",\"width\":0.5},\"pattern\":{\"fillmode\":\"overlay\",\"size\":10,\"solidity\":0.2}},\"type\":\"barpolar\"}],\"bar\":[{\"error_x\":{\"color\":\"#2a3f5f\"},\"error_y\":{\"color\":\"#2a3f5f\"},\"marker\":{\"line\":{\"color\":\"#E5ECF6\",\"width\":0.5},\"pattern\":{\"fillmode\":\"overlay\",\"size\":10,\"solidity\":0.2}},\"type\":\"bar\"}],\"carpet\":[{\"aaxis\":{\"endlinecolor\":\"#2a3f5f\",\"gridcolor\":\"white\",\"linecolor\":\"white\",\"minorgridcolor\":\"white\",\"startlinecolor\":\"#2a3f5f\"},\"baxis\":{\"endlinecolor\":\"#2a3f5f\",\"gridcolor\":\"white\",\"linecolor\":\"white\",\"minorgridcolor\":\"white\",\"startlinecolor\":\"#2a3f5f\"},\"type\":\"carpet\"}],\"choropleth\":[{\"colorbar\":{\"outlinewidth\":0,\"ticks\":\"\"},\"type\":\"choropleth\"}],\"contourcarpet\":[{\"colorbar\":{\"outlinewidth\":0,\"ticks\":\"\"},\"type\":\"contourcarpet\"}],\"contour\":[{\"colorbar\":{\"outlinewidth\":0,\"ticks\":\"\"},\"colorscale\":[[0.0,\"#0d0887\"],[0.1111111111111111,\"#46039f\"],[0.2222222222222222,\"#7201a8\"],[0.3333333333333333,\"#9c179e\"],[0.4444444444444444,\"#bd3786\"],[0.5555555555555556,\"#d8576b\"],[0.6666666666666666,\"#ed7953\"],[0.7777777777777778,\"#fb9f3a\"],[0.8888888888888888,\"#fdca26\"],[1.0,\"#f0f921\"]],\"type\":\"contour\"}],\"heatmapgl\":[{\"colorbar\":{\"outlinewidth\":0,\"ticks\":\"\"},\"colorscale\":[[0.0,\"#0d0887\"],[0.1111111111111111,\"#46039f\"],[0.2222222222222222,\"#7201a8\"],[0.3333333333333333,\"#9c179e\"],[0.4444444444444444,\"#bd3786\"],[0.5555555555555556,\"#d8576b\"],[0.6666666666666666,\"#ed7953\"],[0.7777777777777778,\"#fb9f3a\"],[0.8888888888888888,\"#fdca26\"],[1.0,\"#f0f921\"]],\"type\":\"heatmapgl\"}],\"heatmap\":[{\"colorbar\":{\"outlinewidth\":0,\"ticks\":\"\"},\"colorscale\":[[0.0,\"#0d0887\"],[0.1111111111111111,\"#46039f\"],[0.2222222222222222,\"#7201a8\"],[0.3333333333333333,\"#9c179e\"],[0.4444444444444444,\"#bd3786\"],[0.5555555555555556,\"#d8576b\"],[0.6666666666666666,\"#ed7953\"],[0.7777777777777778,\"#fb9f3a\"],[0.8888888888888888,\"#fdca26\"],[1.0,\"#f0f921\"]],\"type\":\"heatmap\"}],\"histogram2dcontour\":[{\"colorbar\":{\"outlinewidth\":0,\"ticks\":\"\"},\"colorscale\":[[0.0,\"#0d0887\"],[0.1111111111111111,\"#46039f\"],[0.2222222222222222,\"#7201a8\"],[0.3333333333333333,\"#9c179e\"],[0.4444444444444444,\"#bd3786\"],[0.5555555555555556,\"#d8576b\"],[0.6666666666666666,\"#ed7953\"],[0.7777777777777778,\"#fb9f3a\"],[0.8888888888888888,\"#fdca26\"],[1.0,\"#f0f921\"]],\"type\":\"histogram2dcontour\"}],\"histogram2d\":[{\"colorbar\":{\"outlinewidth\":0,\"ticks\":\"\"},\"colorscale\":[[0.0,\"#0d0887\"],[0.1111111111111111,\"#46039f\"],[0.2222222222222222,\"#7201a8\"],[0.3333333333333333,\"#9c179e\"],[0.4444444444444444,\"#bd3786\"],[0.5555555555555556,\"#d8576b\"],[0.6666666666666666,\"#ed7953\"],[0.7777777777777778,\"#fb9f3a\"],[0.8888888888888888,\"#fdca26\"],[1.0,\"#f0f921\"]],\"type\":\"histogram2d\"}],\"histogram\":[{\"marker\":{\"pattern\":{\"fillmode\":\"overlay\",\"size\":10,\"solidity\":0.2}},\"type\":\"histogram\"}],\"mesh3d\":[{\"colorbar\":{\"outlinewidth\":0,\"ticks\":\"\"},\"type\":\"mesh3d\"}],\"parcoords\":[{\"line\":{\"colorbar\":{\"outlinewidth\":0,\"ticks\":\"\"}},\"type\":\"parcoords\"}],\"pie\":[{\"automargin\":true,\"type\":\"pie\"}],\"scatter3d\":[{\"line\":{\"colorbar\":{\"outlinewidth\":0,\"ticks\":\"\"}},\"marker\":{\"colorbar\":{\"outlinewidth\":0,\"ticks\":\"\"}},\"type\":\"scatter3d\"}],\"scattercarpet\":[{\"marker\":{\"colorbar\":{\"outlinewidth\":0,\"ticks\":\"\"}},\"type\":\"scattercarpet\"}],\"scattergeo\":[{\"marker\":{\"colorbar\":{\"outlinewidth\":0,\"ticks\":\"\"}},\"type\":\"scattergeo\"}],\"scattergl\":[{\"marker\":{\"colorbar\":{\"outlinewidth\":0,\"ticks\":\"\"}},\"type\":\"scattergl\"}],\"scattermapbox\":[{\"marker\":{\"colorbar\":{\"outlinewidth\":0,\"ticks\":\"\"}},\"type\":\"scattermapbox\"}],\"scatterpolargl\":[{\"marker\":{\"colorbar\":{\"outlinewidth\":0,\"ticks\":\"\"}},\"type\":\"scatterpolargl\"}],\"scatterpolar\":[{\"marker\":{\"colorbar\":{\"outlinewidth\":0,\"ticks\":\"\"}},\"type\":\"scatterpolar\"}],\"scatter\":[{\"fillpattern\":{\"fillmode\":\"overlay\",\"size\":10,\"solidity\":0.2},\"type\":\"scatter\"}],\"scatterternary\":[{\"marker\":{\"colorbar\":{\"outlinewidth\":0,\"ticks\":\"\"}},\"type\":\"scatterternary\"}],\"surface\":[{\"colorbar\":{\"outlinewidth\":0,\"ticks\":\"\"},\"colorscale\":[[0.0,\"#0d0887\"],[0.1111111111111111,\"#46039f\"],[0.2222222222222222,\"#7201a8\"],[0.3333333333333333,\"#9c179e\"],[0.4444444444444444,\"#bd3786\"],[0.5555555555555556,\"#d8576b\"],[0.6666666666666666,\"#ed7953\"],[0.7777777777777778,\"#fb9f3a\"],[0.8888888888888888,\"#fdca26\"],[1.0,\"#f0f921\"]],\"type\":\"surface\"}],\"table\":[{\"cells\":{\"fill\":{\"color\":\"#EBF0F8\"},\"line\":{\"color\":\"white\"}},\"header\":{\"fill\":{\"color\":\"#C8D4E3\"},\"line\":{\"color\":\"white\"}},\"type\":\"table\"}]},\"layout\":{\"annotationdefaults\":{\"arrowcolor\":\"#2a3f5f\",\"arrowhead\":0,\"arrowwidth\":1},\"autotypenumbers\":\"strict\",\"coloraxis\":{\"colorbar\":{\"outlinewidth\":0,\"ticks\":\"\"}},\"colorscale\":{\"diverging\":[[0,\"#8e0152\"],[0.1,\"#c51b7d\"],[0.2,\"#de77ae\"],[0.3,\"#f1b6da\"],[0.4,\"#fde0ef\"],[0.5,\"#f7f7f7\"],[0.6,\"#e6f5d0\"],[0.7,\"#b8e186\"],[0.8,\"#7fbc41\"],[0.9,\"#4d9221\"],[1,\"#276419\"]],\"sequential\":[[0.0,\"#0d0887\"],[0.1111111111111111,\"#46039f\"],[0.2222222222222222,\"#7201a8\"],[0.3333333333333333,\"#9c179e\"],[0.4444444444444444,\"#bd3786\"],[0.5555555555555556,\"#d8576b\"],[0.6666666666666666,\"#ed7953\"],[0.7777777777777778,\"#fb9f3a\"],[0.8888888888888888,\"#fdca26\"],[1.0,\"#f0f921\"]],\"sequentialminus\":[[0.0,\"#0d0887\"],[0.1111111111111111,\"#46039f\"],[0.2222222222222222,\"#7201a8\"],[0.3333333333333333,\"#9c179e\"],[0.4444444444444444,\"#bd3786\"],[0.5555555555555556,\"#d8576b\"],[0.6666666666666666,\"#ed7953\"],[0.7777777777777778,\"#fb9f3a\"],[0.8888888888888888,\"#fdca26\"],[1.0,\"#f0f921\"]]},\"colorway\":[\"#636efa\",\"#EF553B\",\"#00cc96\",\"#ab63fa\",\"#FFA15A\",\"#19d3f3\",\"#FF6692\",\"#B6E880\",\"#FF97FF\",\"#FECB52\"],\"font\":{\"color\":\"#2a3f5f\"},\"geo\":{\"bgcolor\":\"white\",\"lakecolor\":\"white\",\"landcolor\":\"#E5ECF6\",\"showlakes\":true,\"showland\":true,\"subunitcolor\":\"white\"},\"hoverlabel\":{\"align\":\"left\"},\"hovermode\":\"closest\",\"mapbox\":{\"style\":\"light\"},\"paper_bgcolor\":\"white\",\"plot_bgcolor\":\"#E5ECF6\",\"polar\":{\"angularaxis\":{\"gridcolor\":\"white\",\"linecolor\":\"white\",\"ticks\":\"\"},\"bgcolor\":\"#E5ECF6\",\"radialaxis\":{\"gridcolor\":\"white\",\"linecolor\":\"white\",\"ticks\":\"\"}},\"scene\":{\"xaxis\":{\"backgroundcolor\":\"#E5ECF6\",\"gridcolor\":\"white\",\"gridwidth\":2,\"linecolor\":\"white\",\"showbackground\":true,\"ticks\":\"\",\"zerolinecolor\":\"white\"},\"yaxis\":{\"backgroundcolor\":\"#E5ECF6\",\"gridcolor\":\"white\",\"gridwidth\":2,\"linecolor\":\"white\",\"showbackground\":true,\"ticks\":\"\",\"zerolinecolor\":\"white\"},\"zaxis\":{\"backgroundcolor\":\"#E5ECF6\",\"gridcolor\":\"white\",\"gridwidth\":2,\"linecolor\":\"white\",\"showbackground\":true,\"ticks\":\"\",\"zerolinecolor\":\"white\"}},\"shapedefaults\":{\"line\":{\"color\":\"#2a3f5f\"}},\"ternary\":{\"aaxis\":{\"gridcolor\":\"white\",\"linecolor\":\"white\",\"ticks\":\"\"},\"baxis\":{\"gridcolor\":\"white\",\"linecolor\":\"white\",\"ticks\":\"\"},\"bgcolor\":\"#E5ECF6\",\"caxis\":{\"gridcolor\":\"white\",\"linecolor\":\"white\",\"ticks\":\"\"}},\"title\":{\"x\":0.05},\"xaxis\":{\"automargin\":true,\"gridcolor\":\"white\",\"linecolor\":\"white\",\"ticks\":\"\",\"title\":{\"standoff\":15},\"zerolinecolor\":\"white\",\"zerolinewidth\":2},\"yaxis\":{\"automargin\":true,\"gridcolor\":\"white\",\"linecolor\":\"white\",\"ticks\":\"\",\"title\":{\"standoff\":15},\"zerolinecolor\":\"white\",\"zerolinewidth\":2}}},\"title\":{\"text\":\"PUBG Wins vs Rounds Played\"}},                        {\"responsive\": true}                    ).then(function(){\n",
       "                            \n",
       "var gd = document.getElementById('ca4fd0f7-6012-4fec-ab4e-c5b6b4593da8');\n",
       "var x = new MutationObserver(function (mutations, observer) {{\n",
       "        var display = window.getComputedStyle(gd).display;\n",
       "        if (!display || display === 'none') {{\n",
       "            console.log([gd, 'removed!']);\n",
       "            Plotly.purge(gd);\n",
       "            observer.disconnect();\n",
       "        }}\n",
       "}});\n",
       "\n",
       "// Listen for the removal of the full notebook cells\n",
       "var notebookContainer = gd.closest('#notebook-container');\n",
       "if (notebookContainer) {{\n",
       "    x.observe(notebookContainer, {childList: true});\n",
       "}}\n",
       "\n",
       "// Listen for the clearing of the current output cell\n",
       "var outputEl = gd.closest('.output');\n",
       "if (outputEl) {{\n",
       "    x.observe(outputEl, {childList: true});\n",
       "}}\n",
       "\n",
       "                        })                };                });            </script>        </div>"
      ]
     },
     "metadata": {},
     "output_type": "display_data"
    }
   ],
   "source": [
    "\n",
    "trace = go.Scatter(x = df_new_pubg['solo_RoundsPlayed'], y= df_new_pubg['solo_Wins'],\n",
    "                  name ='Rounds Won')\n",
    "layout = go.Layout(title='PUBG Wins vs Rounds Played',\n",
    "                   plot_bgcolor='rgb(230, 230,230)', \n",
    "                   showlegend=True)\n",
    "fig = go.Figure(data=[trace], layout=layout)\n",
    "\n",
    "iplot(fig, filename='test')"
   ]
  },
  {
   "cell_type": "code",
   "execution_count": 16,
   "metadata": {
    "id": "AHqeef1L25LJ"
   },
   "outputs": [],
   "source": [
    "df_bar_pubg = df_pubg.head(30)"
   ]
  },
  {
   "cell_type": "code",
   "execution_count": 17,
   "metadata": {
    "id": "KGtpD0AZ25LJ"
   },
   "outputs": [],
   "source": [
    "trace1 = go.Bar( \n",
    "        x = df_bar_pubg['player_name'],\n",
    "        y = df_bar_pubg['solo_RoundsPlayed'],\n",
    "        name= 'Rounds Played')\n",
    "\n",
    "trace2 = go.Bar( \n",
    "        x = df_bar_pubg['player_name'],\n",
    "        y = df_bar_pubg['solo_Wins'],\n",
    "        name= 'Wins')\n",
    "\n"
   ]
  },
  {
   "cell_type": "code",
   "execution_count": 18,
   "metadata": {
    "id": "3qrNb6nq25LK",
    "outputId": "8ff324c0-948b-4469-9a94-f13f1cccc2fd"
   },
   "outputs": [
    {
     "data": {
      "application/vnd.plotly.v1+json": {
       "config": {
        "linkText": "Export to plot.ly",
        "plotlyServerURL": "https://plot.ly",
        "showLink": false
       },
       "data": [
        {
         "name": "Rounds Played",
         "type": "bar",
         "x": [
          "BreakNeck",
          "Blackwalk",
          "mercedes_benz",
          "DORA",
          "n2tstar",
          "coldoxygen",
          "Giken",
          "KoreaNo1",
          "undor",
          "Fordune",
          "PandaTV-Tongk",
          "Benny-_-",
          "PanDaTV_Karl",
          "homeboye",
          "YUPPIEE",
          "Doomhammer",
          "DinghisKhan",
          "YoonRoot",
          "3N1GmA",
          "synthtail",
          "SevenWolf",
          "FZTEAMLDS",
          "1125",
          "BombBurst",
          "SILPHTV",
          "SexyPIG",
          "TOP_94",
          "zeggi",
          "baoli6666666",
          "Toadoo1"
         ],
         "y": [
          17,
          33,
          5,
          8,
          6,
          16,
          142,
          19,
          44,
          8,
          116,
          335,
          87,
          72,
          23,
          3,
          165,
          65,
          16,
          45,
          55,
          45,
          9,
          14,
          277,
          265,
          77,
          52,
          56,
          22
         ]
        },
        {
         "name": "Wins",
         "type": "bar",
         "x": [
          "BreakNeck",
          "Blackwalk",
          "mercedes_benz",
          "DORA",
          "n2tstar",
          "coldoxygen",
          "Giken",
          "KoreaNo1",
          "undor",
          "Fordune",
          "PandaTV-Tongk",
          "Benny-_-",
          "PanDaTV_Karl",
          "homeboye",
          "YUPPIEE",
          "Doomhammer",
          "DinghisKhan",
          "YoonRoot",
          "3N1GmA",
          "synthtail",
          "SevenWolf",
          "FZTEAMLDS",
          "1125",
          "BombBurst",
          "SILPHTV",
          "SexyPIG",
          "TOP_94",
          "zeggi",
          "baoli6666666",
          "Toadoo1"
         ],
         "y": [
          3,
          6,
          0,
          4,
          2,
          5,
          12,
          5,
          6,
          2,
          7,
          4,
          9,
          4,
          3,
          1,
          38,
          12,
          6,
          2,
          7,
          4,
          3,
          2,
          48,
          63,
          4,
          3,
          3,
          2
         ]
        }
       ],
       "layout": {
        "barmode": "group",
        "template": {
         "data": {
          "bar": [
           {
            "error_x": {
             "color": "#2a3f5f"
            },
            "error_y": {
             "color": "#2a3f5f"
            },
            "marker": {
             "line": {
              "color": "#E5ECF6",
              "width": 0.5
             },
             "pattern": {
              "fillmode": "overlay",
              "size": 10,
              "solidity": 0.2
             }
            },
            "type": "bar"
           }
          ],
          "barpolar": [
           {
            "marker": {
             "line": {
              "color": "#E5ECF6",
              "width": 0.5
             },
             "pattern": {
              "fillmode": "overlay",
              "size": 10,
              "solidity": 0.2
             }
            },
            "type": "barpolar"
           }
          ],
          "carpet": [
           {
            "aaxis": {
             "endlinecolor": "#2a3f5f",
             "gridcolor": "white",
             "linecolor": "white",
             "minorgridcolor": "white",
             "startlinecolor": "#2a3f5f"
            },
            "baxis": {
             "endlinecolor": "#2a3f5f",
             "gridcolor": "white",
             "linecolor": "white",
             "minorgridcolor": "white",
             "startlinecolor": "#2a3f5f"
            },
            "type": "carpet"
           }
          ],
          "choropleth": [
           {
            "colorbar": {
             "outlinewidth": 0,
             "ticks": ""
            },
            "type": "choropleth"
           }
          ],
          "contour": [
           {
            "colorbar": {
             "outlinewidth": 0,
             "ticks": ""
            },
            "colorscale": [
             [
              0,
              "#0d0887"
             ],
             [
              0.1111111111111111,
              "#46039f"
             ],
             [
              0.2222222222222222,
              "#7201a8"
             ],
             [
              0.3333333333333333,
              "#9c179e"
             ],
             [
              0.4444444444444444,
              "#bd3786"
             ],
             [
              0.5555555555555556,
              "#d8576b"
             ],
             [
              0.6666666666666666,
              "#ed7953"
             ],
             [
              0.7777777777777778,
              "#fb9f3a"
             ],
             [
              0.8888888888888888,
              "#fdca26"
             ],
             [
              1,
              "#f0f921"
             ]
            ],
            "type": "contour"
           }
          ],
          "contourcarpet": [
           {
            "colorbar": {
             "outlinewidth": 0,
             "ticks": ""
            },
            "type": "contourcarpet"
           }
          ],
          "heatmap": [
           {
            "colorbar": {
             "outlinewidth": 0,
             "ticks": ""
            },
            "colorscale": [
             [
              0,
              "#0d0887"
             ],
             [
              0.1111111111111111,
              "#46039f"
             ],
             [
              0.2222222222222222,
              "#7201a8"
             ],
             [
              0.3333333333333333,
              "#9c179e"
             ],
             [
              0.4444444444444444,
              "#bd3786"
             ],
             [
              0.5555555555555556,
              "#d8576b"
             ],
             [
              0.6666666666666666,
              "#ed7953"
             ],
             [
              0.7777777777777778,
              "#fb9f3a"
             ],
             [
              0.8888888888888888,
              "#fdca26"
             ],
             [
              1,
              "#f0f921"
             ]
            ],
            "type": "heatmap"
           }
          ],
          "heatmapgl": [
           {
            "colorbar": {
             "outlinewidth": 0,
             "ticks": ""
            },
            "colorscale": [
             [
              0,
              "#0d0887"
             ],
             [
              0.1111111111111111,
              "#46039f"
             ],
             [
              0.2222222222222222,
              "#7201a8"
             ],
             [
              0.3333333333333333,
              "#9c179e"
             ],
             [
              0.4444444444444444,
              "#bd3786"
             ],
             [
              0.5555555555555556,
              "#d8576b"
             ],
             [
              0.6666666666666666,
              "#ed7953"
             ],
             [
              0.7777777777777778,
              "#fb9f3a"
             ],
             [
              0.8888888888888888,
              "#fdca26"
             ],
             [
              1,
              "#f0f921"
             ]
            ],
            "type": "heatmapgl"
           }
          ],
          "histogram": [
           {
            "marker": {
             "pattern": {
              "fillmode": "overlay",
              "size": 10,
              "solidity": 0.2
             }
            },
            "type": "histogram"
           }
          ],
          "histogram2d": [
           {
            "colorbar": {
             "outlinewidth": 0,
             "ticks": ""
            },
            "colorscale": [
             [
              0,
              "#0d0887"
             ],
             [
              0.1111111111111111,
              "#46039f"
             ],
             [
              0.2222222222222222,
              "#7201a8"
             ],
             [
              0.3333333333333333,
              "#9c179e"
             ],
             [
              0.4444444444444444,
              "#bd3786"
             ],
             [
              0.5555555555555556,
              "#d8576b"
             ],
             [
              0.6666666666666666,
              "#ed7953"
             ],
             [
              0.7777777777777778,
              "#fb9f3a"
             ],
             [
              0.8888888888888888,
              "#fdca26"
             ],
             [
              1,
              "#f0f921"
             ]
            ],
            "type": "histogram2d"
           }
          ],
          "histogram2dcontour": [
           {
            "colorbar": {
             "outlinewidth": 0,
             "ticks": ""
            },
            "colorscale": [
             [
              0,
              "#0d0887"
             ],
             [
              0.1111111111111111,
              "#46039f"
             ],
             [
              0.2222222222222222,
              "#7201a8"
             ],
             [
              0.3333333333333333,
              "#9c179e"
             ],
             [
              0.4444444444444444,
              "#bd3786"
             ],
             [
              0.5555555555555556,
              "#d8576b"
             ],
             [
              0.6666666666666666,
              "#ed7953"
             ],
             [
              0.7777777777777778,
              "#fb9f3a"
             ],
             [
              0.8888888888888888,
              "#fdca26"
             ],
             [
              1,
              "#f0f921"
             ]
            ],
            "type": "histogram2dcontour"
           }
          ],
          "mesh3d": [
           {
            "colorbar": {
             "outlinewidth": 0,
             "ticks": ""
            },
            "type": "mesh3d"
           }
          ],
          "parcoords": [
           {
            "line": {
             "colorbar": {
              "outlinewidth": 0,
              "ticks": ""
             }
            },
            "type": "parcoords"
           }
          ],
          "pie": [
           {
            "automargin": true,
            "type": "pie"
           }
          ],
          "scatter": [
           {
            "fillpattern": {
             "fillmode": "overlay",
             "size": 10,
             "solidity": 0.2
            },
            "type": "scatter"
           }
          ],
          "scatter3d": [
           {
            "line": {
             "colorbar": {
              "outlinewidth": 0,
              "ticks": ""
             }
            },
            "marker": {
             "colorbar": {
              "outlinewidth": 0,
              "ticks": ""
             }
            },
            "type": "scatter3d"
           }
          ],
          "scattercarpet": [
           {
            "marker": {
             "colorbar": {
              "outlinewidth": 0,
              "ticks": ""
             }
            },
            "type": "scattercarpet"
           }
          ],
          "scattergeo": [
           {
            "marker": {
             "colorbar": {
              "outlinewidth": 0,
              "ticks": ""
             }
            },
            "type": "scattergeo"
           }
          ],
          "scattergl": [
           {
            "marker": {
             "colorbar": {
              "outlinewidth": 0,
              "ticks": ""
             }
            },
            "type": "scattergl"
           }
          ],
          "scattermapbox": [
           {
            "marker": {
             "colorbar": {
              "outlinewidth": 0,
              "ticks": ""
             }
            },
            "type": "scattermapbox"
           }
          ],
          "scatterpolar": [
           {
            "marker": {
             "colorbar": {
              "outlinewidth": 0,
              "ticks": ""
             }
            },
            "type": "scatterpolar"
           }
          ],
          "scatterpolargl": [
           {
            "marker": {
             "colorbar": {
              "outlinewidth": 0,
              "ticks": ""
             }
            },
            "type": "scatterpolargl"
           }
          ],
          "scatterternary": [
           {
            "marker": {
             "colorbar": {
              "outlinewidth": 0,
              "ticks": ""
             }
            },
            "type": "scatterternary"
           }
          ],
          "surface": [
           {
            "colorbar": {
             "outlinewidth": 0,
             "ticks": ""
            },
            "colorscale": [
             [
              0,
              "#0d0887"
             ],
             [
              0.1111111111111111,
              "#46039f"
             ],
             [
              0.2222222222222222,
              "#7201a8"
             ],
             [
              0.3333333333333333,
              "#9c179e"
             ],
             [
              0.4444444444444444,
              "#bd3786"
             ],
             [
              0.5555555555555556,
              "#d8576b"
             ],
             [
              0.6666666666666666,
              "#ed7953"
             ],
             [
              0.7777777777777778,
              "#fb9f3a"
             ],
             [
              0.8888888888888888,
              "#fdca26"
             ],
             [
              1,
              "#f0f921"
             ]
            ],
            "type": "surface"
           }
          ],
          "table": [
           {
            "cells": {
             "fill": {
              "color": "#EBF0F8"
             },
             "line": {
              "color": "white"
             }
            },
            "header": {
             "fill": {
              "color": "#C8D4E3"
             },
             "line": {
              "color": "white"
             }
            },
            "type": "table"
           }
          ]
         },
         "layout": {
          "annotationdefaults": {
           "arrowcolor": "#2a3f5f",
           "arrowhead": 0,
           "arrowwidth": 1
          },
          "autotypenumbers": "strict",
          "coloraxis": {
           "colorbar": {
            "outlinewidth": 0,
            "ticks": ""
           }
          },
          "colorscale": {
           "diverging": [
            [
             0,
             "#8e0152"
            ],
            [
             0.1,
             "#c51b7d"
            ],
            [
             0.2,
             "#de77ae"
            ],
            [
             0.3,
             "#f1b6da"
            ],
            [
             0.4,
             "#fde0ef"
            ],
            [
             0.5,
             "#f7f7f7"
            ],
            [
             0.6,
             "#e6f5d0"
            ],
            [
             0.7,
             "#b8e186"
            ],
            [
             0.8,
             "#7fbc41"
            ],
            [
             0.9,
             "#4d9221"
            ],
            [
             1,
             "#276419"
            ]
           ],
           "sequential": [
            [
             0,
             "#0d0887"
            ],
            [
             0.1111111111111111,
             "#46039f"
            ],
            [
             0.2222222222222222,
             "#7201a8"
            ],
            [
             0.3333333333333333,
             "#9c179e"
            ],
            [
             0.4444444444444444,
             "#bd3786"
            ],
            [
             0.5555555555555556,
             "#d8576b"
            ],
            [
             0.6666666666666666,
             "#ed7953"
            ],
            [
             0.7777777777777778,
             "#fb9f3a"
            ],
            [
             0.8888888888888888,
             "#fdca26"
            ],
            [
             1,
             "#f0f921"
            ]
           ],
           "sequentialminus": [
            [
             0,
             "#0d0887"
            ],
            [
             0.1111111111111111,
             "#46039f"
            ],
            [
             0.2222222222222222,
             "#7201a8"
            ],
            [
             0.3333333333333333,
             "#9c179e"
            ],
            [
             0.4444444444444444,
             "#bd3786"
            ],
            [
             0.5555555555555556,
             "#d8576b"
            ],
            [
             0.6666666666666666,
             "#ed7953"
            ],
            [
             0.7777777777777778,
             "#fb9f3a"
            ],
            [
             0.8888888888888888,
             "#fdca26"
            ],
            [
             1,
             "#f0f921"
            ]
           ]
          },
          "colorway": [
           "#636efa",
           "#EF553B",
           "#00cc96",
           "#ab63fa",
           "#FFA15A",
           "#19d3f3",
           "#FF6692",
           "#B6E880",
           "#FF97FF",
           "#FECB52"
          ],
          "font": {
           "color": "#2a3f5f"
          },
          "geo": {
           "bgcolor": "white",
           "lakecolor": "white",
           "landcolor": "#E5ECF6",
           "showlakes": true,
           "showland": true,
           "subunitcolor": "white"
          },
          "hoverlabel": {
           "align": "left"
          },
          "hovermode": "closest",
          "mapbox": {
           "style": "light"
          },
          "paper_bgcolor": "white",
          "plot_bgcolor": "#E5ECF6",
          "polar": {
           "angularaxis": {
            "gridcolor": "white",
            "linecolor": "white",
            "ticks": ""
           },
           "bgcolor": "#E5ECF6",
           "radialaxis": {
            "gridcolor": "white",
            "linecolor": "white",
            "ticks": ""
           }
          },
          "scene": {
           "xaxis": {
            "backgroundcolor": "#E5ECF6",
            "gridcolor": "white",
            "gridwidth": 2,
            "linecolor": "white",
            "showbackground": true,
            "ticks": "",
            "zerolinecolor": "white"
           },
           "yaxis": {
            "backgroundcolor": "#E5ECF6",
            "gridcolor": "white",
            "gridwidth": 2,
            "linecolor": "white",
            "showbackground": true,
            "ticks": "",
            "zerolinecolor": "white"
           },
           "zaxis": {
            "backgroundcolor": "#E5ECF6",
            "gridcolor": "white",
            "gridwidth": 2,
            "linecolor": "white",
            "showbackground": true,
            "ticks": "",
            "zerolinecolor": "white"
           }
          },
          "shapedefaults": {
           "line": {
            "color": "#2a3f5f"
           }
          },
          "ternary": {
           "aaxis": {
            "gridcolor": "white",
            "linecolor": "white",
            "ticks": ""
           },
           "baxis": {
            "gridcolor": "white",
            "linecolor": "white",
            "ticks": ""
           },
           "bgcolor": "#E5ECF6",
           "caxis": {
            "gridcolor": "white",
            "linecolor": "white",
            "ticks": ""
           }
          },
          "title": {
           "x": 0.05
          },
          "xaxis": {
           "automargin": true,
           "gridcolor": "white",
           "linecolor": "white",
           "ticks": "",
           "title": {
            "standoff": 15
           },
           "zerolinecolor": "white",
           "zerolinewidth": 2
          },
          "yaxis": {
           "automargin": true,
           "gridcolor": "white",
           "linecolor": "white",
           "ticks": "",
           "title": {
            "standoff": 15
           },
           "zerolinecolor": "white",
           "zerolinewidth": 2
          }
         }
        }
       }
      },
      "text/html": [
       "<div>                            <div id=\"8297793f-b6c4-4960-91c8-5479ab65ab27\" class=\"plotly-graph-div\" style=\"height:525px; width:100%;\"></div>            <script type=\"text/javascript\">                require([\"plotly\"], function(Plotly) {                    window.PLOTLYENV=window.PLOTLYENV || {};                                    if (document.getElementById(\"8297793f-b6c4-4960-91c8-5479ab65ab27\")) {                    Plotly.newPlot(                        \"8297793f-b6c4-4960-91c8-5479ab65ab27\",                        [{\"name\":\"Rounds Played\",\"x\":[\"BreakNeck\",\"Blackwalk\",\"mercedes_benz\",\"DORA\",\"n2tstar\",\"coldoxygen\",\"Giken\",\"KoreaNo1\",\"undor\",\"Fordune\",\"PandaTV-Tongk\",\"Benny-_-\",\"PanDaTV_Karl\",\"homeboye\",\"YUPPIEE\",\"Doomhammer\",\"DinghisKhan\",\"YoonRoot\",\"3N1GmA\",\"synthtail\",\"SevenWolf\",\"FZTEAMLDS\",\"1125\",\"BombBurst\",\"SILPHTV\",\"SexyPIG\",\"TOP_94\",\"zeggi\",\"baoli6666666\",\"Toadoo1\"],\"y\":[17,33,5,8,6,16,142,19,44,8,116,335,87,72,23,3,165,65,16,45,55,45,9,14,277,265,77,52,56,22],\"type\":\"bar\"},{\"name\":\"Wins\",\"x\":[\"BreakNeck\",\"Blackwalk\",\"mercedes_benz\",\"DORA\",\"n2tstar\",\"coldoxygen\",\"Giken\",\"KoreaNo1\",\"undor\",\"Fordune\",\"PandaTV-Tongk\",\"Benny-_-\",\"PanDaTV_Karl\",\"homeboye\",\"YUPPIEE\",\"Doomhammer\",\"DinghisKhan\",\"YoonRoot\",\"3N1GmA\",\"synthtail\",\"SevenWolf\",\"FZTEAMLDS\",\"1125\",\"BombBurst\",\"SILPHTV\",\"SexyPIG\",\"TOP_94\",\"zeggi\",\"baoli6666666\",\"Toadoo1\"],\"y\":[3,6,0,4,2,5,12,5,6,2,7,4,9,4,3,1,38,12,6,2,7,4,3,2,48,63,4,3,3,2],\"type\":\"bar\"}],                        {\"barmode\":\"group\",\"template\":{\"data\":{\"barpolar\":[{\"marker\":{\"line\":{\"color\":\"#E5ECF6\",\"width\":0.5},\"pattern\":{\"fillmode\":\"overlay\",\"size\":10,\"solidity\":0.2}},\"type\":\"barpolar\"}],\"bar\":[{\"error_x\":{\"color\":\"#2a3f5f\"},\"error_y\":{\"color\":\"#2a3f5f\"},\"marker\":{\"line\":{\"color\":\"#E5ECF6\",\"width\":0.5},\"pattern\":{\"fillmode\":\"overlay\",\"size\":10,\"solidity\":0.2}},\"type\":\"bar\"}],\"carpet\":[{\"aaxis\":{\"endlinecolor\":\"#2a3f5f\",\"gridcolor\":\"white\",\"linecolor\":\"white\",\"minorgridcolor\":\"white\",\"startlinecolor\":\"#2a3f5f\"},\"baxis\":{\"endlinecolor\":\"#2a3f5f\",\"gridcolor\":\"white\",\"linecolor\":\"white\",\"minorgridcolor\":\"white\",\"startlinecolor\":\"#2a3f5f\"},\"type\":\"carpet\"}],\"choropleth\":[{\"colorbar\":{\"outlinewidth\":0,\"ticks\":\"\"},\"type\":\"choropleth\"}],\"contourcarpet\":[{\"colorbar\":{\"outlinewidth\":0,\"ticks\":\"\"},\"type\":\"contourcarpet\"}],\"contour\":[{\"colorbar\":{\"outlinewidth\":0,\"ticks\":\"\"},\"colorscale\":[[0.0,\"#0d0887\"],[0.1111111111111111,\"#46039f\"],[0.2222222222222222,\"#7201a8\"],[0.3333333333333333,\"#9c179e\"],[0.4444444444444444,\"#bd3786\"],[0.5555555555555556,\"#d8576b\"],[0.6666666666666666,\"#ed7953\"],[0.7777777777777778,\"#fb9f3a\"],[0.8888888888888888,\"#fdca26\"],[1.0,\"#f0f921\"]],\"type\":\"contour\"}],\"heatmapgl\":[{\"colorbar\":{\"outlinewidth\":0,\"ticks\":\"\"},\"colorscale\":[[0.0,\"#0d0887\"],[0.1111111111111111,\"#46039f\"],[0.2222222222222222,\"#7201a8\"],[0.3333333333333333,\"#9c179e\"],[0.4444444444444444,\"#bd3786\"],[0.5555555555555556,\"#d8576b\"],[0.6666666666666666,\"#ed7953\"],[0.7777777777777778,\"#fb9f3a\"],[0.8888888888888888,\"#fdca26\"],[1.0,\"#f0f921\"]],\"type\":\"heatmapgl\"}],\"heatmap\":[{\"colorbar\":{\"outlinewidth\":0,\"ticks\":\"\"},\"colorscale\":[[0.0,\"#0d0887\"],[0.1111111111111111,\"#46039f\"],[0.2222222222222222,\"#7201a8\"],[0.3333333333333333,\"#9c179e\"],[0.4444444444444444,\"#bd3786\"],[0.5555555555555556,\"#d8576b\"],[0.6666666666666666,\"#ed7953\"],[0.7777777777777778,\"#fb9f3a\"],[0.8888888888888888,\"#fdca26\"],[1.0,\"#f0f921\"]],\"type\":\"heatmap\"}],\"histogram2dcontour\":[{\"colorbar\":{\"outlinewidth\":0,\"ticks\":\"\"},\"colorscale\":[[0.0,\"#0d0887\"],[0.1111111111111111,\"#46039f\"],[0.2222222222222222,\"#7201a8\"],[0.3333333333333333,\"#9c179e\"],[0.4444444444444444,\"#bd3786\"],[0.5555555555555556,\"#d8576b\"],[0.6666666666666666,\"#ed7953\"],[0.7777777777777778,\"#fb9f3a\"],[0.8888888888888888,\"#fdca26\"],[1.0,\"#f0f921\"]],\"type\":\"histogram2dcontour\"}],\"histogram2d\":[{\"colorbar\":{\"outlinewidth\":0,\"ticks\":\"\"},\"colorscale\":[[0.0,\"#0d0887\"],[0.1111111111111111,\"#46039f\"],[0.2222222222222222,\"#7201a8\"],[0.3333333333333333,\"#9c179e\"],[0.4444444444444444,\"#bd3786\"],[0.5555555555555556,\"#d8576b\"],[0.6666666666666666,\"#ed7953\"],[0.7777777777777778,\"#fb9f3a\"],[0.8888888888888888,\"#fdca26\"],[1.0,\"#f0f921\"]],\"type\":\"histogram2d\"}],\"histogram\":[{\"marker\":{\"pattern\":{\"fillmode\":\"overlay\",\"size\":10,\"solidity\":0.2}},\"type\":\"histogram\"}],\"mesh3d\":[{\"colorbar\":{\"outlinewidth\":0,\"ticks\":\"\"},\"type\":\"mesh3d\"}],\"parcoords\":[{\"line\":{\"colorbar\":{\"outlinewidth\":0,\"ticks\":\"\"}},\"type\":\"parcoords\"}],\"pie\":[{\"automargin\":true,\"type\":\"pie\"}],\"scatter3d\":[{\"line\":{\"colorbar\":{\"outlinewidth\":0,\"ticks\":\"\"}},\"marker\":{\"colorbar\":{\"outlinewidth\":0,\"ticks\":\"\"}},\"type\":\"scatter3d\"}],\"scattercarpet\":[{\"marker\":{\"colorbar\":{\"outlinewidth\":0,\"ticks\":\"\"}},\"type\":\"scattercarpet\"}],\"scattergeo\":[{\"marker\":{\"colorbar\":{\"outlinewidth\":0,\"ticks\":\"\"}},\"type\":\"scattergeo\"}],\"scattergl\":[{\"marker\":{\"colorbar\":{\"outlinewidth\":0,\"ticks\":\"\"}},\"type\":\"scattergl\"}],\"scattermapbox\":[{\"marker\":{\"colorbar\":{\"outlinewidth\":0,\"ticks\":\"\"}},\"type\":\"scattermapbox\"}],\"scatterpolargl\":[{\"marker\":{\"colorbar\":{\"outlinewidth\":0,\"ticks\":\"\"}},\"type\":\"scatterpolargl\"}],\"scatterpolar\":[{\"marker\":{\"colorbar\":{\"outlinewidth\":0,\"ticks\":\"\"}},\"type\":\"scatterpolar\"}],\"scatter\":[{\"fillpattern\":{\"fillmode\":\"overlay\",\"size\":10,\"solidity\":0.2},\"type\":\"scatter\"}],\"scatterternary\":[{\"marker\":{\"colorbar\":{\"outlinewidth\":0,\"ticks\":\"\"}},\"type\":\"scatterternary\"}],\"surface\":[{\"colorbar\":{\"outlinewidth\":0,\"ticks\":\"\"},\"colorscale\":[[0.0,\"#0d0887\"],[0.1111111111111111,\"#46039f\"],[0.2222222222222222,\"#7201a8\"],[0.3333333333333333,\"#9c179e\"],[0.4444444444444444,\"#bd3786\"],[0.5555555555555556,\"#d8576b\"],[0.6666666666666666,\"#ed7953\"],[0.7777777777777778,\"#fb9f3a\"],[0.8888888888888888,\"#fdca26\"],[1.0,\"#f0f921\"]],\"type\":\"surface\"}],\"table\":[{\"cells\":{\"fill\":{\"color\":\"#EBF0F8\"},\"line\":{\"color\":\"white\"}},\"header\":{\"fill\":{\"color\":\"#C8D4E3\"},\"line\":{\"color\":\"white\"}},\"type\":\"table\"}]},\"layout\":{\"annotationdefaults\":{\"arrowcolor\":\"#2a3f5f\",\"arrowhead\":0,\"arrowwidth\":1},\"autotypenumbers\":\"strict\",\"coloraxis\":{\"colorbar\":{\"outlinewidth\":0,\"ticks\":\"\"}},\"colorscale\":{\"diverging\":[[0,\"#8e0152\"],[0.1,\"#c51b7d\"],[0.2,\"#de77ae\"],[0.3,\"#f1b6da\"],[0.4,\"#fde0ef\"],[0.5,\"#f7f7f7\"],[0.6,\"#e6f5d0\"],[0.7,\"#b8e186\"],[0.8,\"#7fbc41\"],[0.9,\"#4d9221\"],[1,\"#276419\"]],\"sequential\":[[0.0,\"#0d0887\"],[0.1111111111111111,\"#46039f\"],[0.2222222222222222,\"#7201a8\"],[0.3333333333333333,\"#9c179e\"],[0.4444444444444444,\"#bd3786\"],[0.5555555555555556,\"#d8576b\"],[0.6666666666666666,\"#ed7953\"],[0.7777777777777778,\"#fb9f3a\"],[0.8888888888888888,\"#fdca26\"],[1.0,\"#f0f921\"]],\"sequentialminus\":[[0.0,\"#0d0887\"],[0.1111111111111111,\"#46039f\"],[0.2222222222222222,\"#7201a8\"],[0.3333333333333333,\"#9c179e\"],[0.4444444444444444,\"#bd3786\"],[0.5555555555555556,\"#d8576b\"],[0.6666666666666666,\"#ed7953\"],[0.7777777777777778,\"#fb9f3a\"],[0.8888888888888888,\"#fdca26\"],[1.0,\"#f0f921\"]]},\"colorway\":[\"#636efa\",\"#EF553B\",\"#00cc96\",\"#ab63fa\",\"#FFA15A\",\"#19d3f3\",\"#FF6692\",\"#B6E880\",\"#FF97FF\",\"#FECB52\"],\"font\":{\"color\":\"#2a3f5f\"},\"geo\":{\"bgcolor\":\"white\",\"lakecolor\":\"white\",\"landcolor\":\"#E5ECF6\",\"showlakes\":true,\"showland\":true,\"subunitcolor\":\"white\"},\"hoverlabel\":{\"align\":\"left\"},\"hovermode\":\"closest\",\"mapbox\":{\"style\":\"light\"},\"paper_bgcolor\":\"white\",\"plot_bgcolor\":\"#E5ECF6\",\"polar\":{\"angularaxis\":{\"gridcolor\":\"white\",\"linecolor\":\"white\",\"ticks\":\"\"},\"bgcolor\":\"#E5ECF6\",\"radialaxis\":{\"gridcolor\":\"white\",\"linecolor\":\"white\",\"ticks\":\"\"}},\"scene\":{\"xaxis\":{\"backgroundcolor\":\"#E5ECF6\",\"gridcolor\":\"white\",\"gridwidth\":2,\"linecolor\":\"white\",\"showbackground\":true,\"ticks\":\"\",\"zerolinecolor\":\"white\"},\"yaxis\":{\"backgroundcolor\":\"#E5ECF6\",\"gridcolor\":\"white\",\"gridwidth\":2,\"linecolor\":\"white\",\"showbackground\":true,\"ticks\":\"\",\"zerolinecolor\":\"white\"},\"zaxis\":{\"backgroundcolor\":\"#E5ECF6\",\"gridcolor\":\"white\",\"gridwidth\":2,\"linecolor\":\"white\",\"showbackground\":true,\"ticks\":\"\",\"zerolinecolor\":\"white\"}},\"shapedefaults\":{\"line\":{\"color\":\"#2a3f5f\"}},\"ternary\":{\"aaxis\":{\"gridcolor\":\"white\",\"linecolor\":\"white\",\"ticks\":\"\"},\"baxis\":{\"gridcolor\":\"white\",\"linecolor\":\"white\",\"ticks\":\"\"},\"bgcolor\":\"#E5ECF6\",\"caxis\":{\"gridcolor\":\"white\",\"linecolor\":\"white\",\"ticks\":\"\"}},\"title\":{\"x\":0.05},\"xaxis\":{\"automargin\":true,\"gridcolor\":\"white\",\"linecolor\":\"white\",\"ticks\":\"\",\"title\":{\"standoff\":15},\"zerolinecolor\":\"white\",\"zerolinewidth\":2},\"yaxis\":{\"automargin\":true,\"gridcolor\":\"white\",\"linecolor\":\"white\",\"ticks\":\"\",\"title\":{\"standoff\":15},\"zerolinecolor\":\"white\",\"zerolinewidth\":2}}}},                        {\"responsive\": true}                    ).then(function(){\n",
       "                            \n",
       "var gd = document.getElementById('8297793f-b6c4-4960-91c8-5479ab65ab27');\n",
       "var x = new MutationObserver(function (mutations, observer) {{\n",
       "        var display = window.getComputedStyle(gd).display;\n",
       "        if (!display || display === 'none') {{\n",
       "            console.log([gd, 'removed!']);\n",
       "            Plotly.purge(gd);\n",
       "            observer.disconnect();\n",
       "        }}\n",
       "}});\n",
       "\n",
       "// Listen for the removal of the full notebook cells\n",
       "var notebookContainer = gd.closest('#notebook-container');\n",
       "if (notebookContainer) {{\n",
       "    x.observe(notebookContainer, {childList: true});\n",
       "}}\n",
       "\n",
       "// Listen for the clearing of the current output cell\n",
       "var outputEl = gd.closest('.output');\n",
       "if (outputEl) {{\n",
       "    x.observe(outputEl, {childList: true});\n",
       "}}\n",
       "\n",
       "                        })                };                });            </script>        </div>"
      ]
     },
     "metadata": {},
     "output_type": "display_data"
    }
   ],
   "source": [
    "data = [trace1, trace2]\n",
    "layout = go.Layout(barmode='group')\n",
    "\n",
    "fig = go.Figure(data=data, layout=layout)\n",
    "iplot(fig, filename='grouped-bar')"
   ]
  },
  {
   "cell_type": "markdown",
   "metadata": {
    "id": "BiQbXlrs25LK"
   },
   "source": [
    "## <center> Bài 4 </center>"
   ]
  },
  {
   "cell_type": "code",
   "execution_count": 19,
   "metadata": {
    "id": "417l8IEQ25LK",
    "outputId": "46520350-3e6a-497a-fc4e-13dff49c49b2",
    "scrolled": true
   },
   "outputs": [
    {
     "data": {
      "text/html": [
       "<div>\n",
       "<style scoped>\n",
       "    .dataframe tbody tr th:only-of-type {\n",
       "        vertical-align: middle;\n",
       "    }\n",
       "\n",
       "    .dataframe tbody tr th {\n",
       "        vertical-align: top;\n",
       "    }\n",
       "\n",
       "    .dataframe thead th {\n",
       "        text-align: right;\n",
       "    }\n",
       "</style>\n",
       "<table border=\"1\" class=\"dataframe\">\n",
       "  <thead>\n",
       "    <tr style=\"text-align: right;\">\n",
       "      <th></th>\n",
       "      <th>player_name</th>\n",
       "      <th>tracker_id</th>\n",
       "      <th>solo_KillDeathRatio</th>\n",
       "      <th>solo_WinRatio</th>\n",
       "      <th>solo_TimeSurvived</th>\n",
       "      <th>solo_RoundsPlayed</th>\n",
       "      <th>solo_Wins</th>\n",
       "      <th>solo_WinTop10Ratio</th>\n",
       "      <th>solo_Top10s</th>\n",
       "      <th>solo_Top10Ratio</th>\n",
       "      <th>...</th>\n",
       "      <th>squad_RideDistance</th>\n",
       "      <th>squad_MoveDistance</th>\n",
       "      <th>squad_AvgWalkDistance</th>\n",
       "      <th>squad_AvgRideDistance</th>\n",
       "      <th>squad_LongestKill</th>\n",
       "      <th>squad_Heals</th>\n",
       "      <th>squad_Revives</th>\n",
       "      <th>squad_Boosts</th>\n",
       "      <th>squad_DamageDealt</th>\n",
       "      <th>squad_DBNOs</th>\n",
       "    </tr>\n",
       "  </thead>\n",
       "  <tbody>\n",
       "    <tr>\n",
       "      <th>0</th>\n",
       "      <td>BreakNeck</td>\n",
       "      <td>4405</td>\n",
       "      <td>3.14</td>\n",
       "      <td>17.65</td>\n",
       "      <td>18469.14</td>\n",
       "      <td>17</td>\n",
       "      <td>3</td>\n",
       "      <td>0.83</td>\n",
       "      <td>4</td>\n",
       "      <td>23.5</td>\n",
       "      <td>...</td>\n",
       "      <td>3751590.99</td>\n",
       "      <td>5194786.58</td>\n",
       "      <td>2626.97</td>\n",
       "      <td>4372.64</td>\n",
       "      <td>536.98</td>\n",
       "      <td>2186</td>\n",
       "      <td>234</td>\n",
       "      <td>1884</td>\n",
       "      <td>242132.73</td>\n",
       "      <td>1448</td>\n",
       "    </tr>\n",
       "    <tr>\n",
       "      <th>1</th>\n",
       "      <td>Blackwalk</td>\n",
       "      <td>8199</td>\n",
       "      <td>4.41</td>\n",
       "      <td>18.18</td>\n",
       "      <td>33014.86</td>\n",
       "      <td>33</td>\n",
       "      <td>6</td>\n",
       "      <td>0.36</td>\n",
       "      <td>11</td>\n",
       "      <td>33.3</td>\n",
       "      <td>...</td>\n",
       "      <td>4295917.30</td>\n",
       "      <td>6051783.67</td>\n",
       "      <td>2422.48</td>\n",
       "      <td>6009.73</td>\n",
       "      <td>734.85</td>\n",
       "      <td>2041</td>\n",
       "      <td>276</td>\n",
       "      <td>2340</td>\n",
       "      <td>269795.75</td>\n",
       "      <td>1724</td>\n",
       "    </tr>\n",
       "    <tr>\n",
       "      <th>2</th>\n",
       "      <td>mercedes_benz</td>\n",
       "      <td>4454</td>\n",
       "      <td>3.60</td>\n",
       "      <td>0.00</td>\n",
       "      <td>4330.44</td>\n",
       "      <td>5</td>\n",
       "      <td>0</td>\n",
       "      <td>0.00</td>\n",
       "      <td>1</td>\n",
       "      <td>20.0</td>\n",
       "      <td>...</td>\n",
       "      <td>3935265.63</td>\n",
       "      <td>5589608.74</td>\n",
       "      <td>1871.89</td>\n",
       "      <td>3011.87</td>\n",
       "      <td>725.44</td>\n",
       "      <td>1766</td>\n",
       "      <td>210</td>\n",
       "      <td>2193</td>\n",
       "      <td>292977.07</td>\n",
       "      <td>1897</td>\n",
       "    </tr>\n",
       "    <tr>\n",
       "      <th>3</th>\n",
       "      <td>DORA</td>\n",
       "      <td>7729</td>\n",
       "      <td>14.00</td>\n",
       "      <td>50.00</td>\n",
       "      <td>13421.82</td>\n",
       "      <td>8</td>\n",
       "      <td>4</td>\n",
       "      <td>0.67</td>\n",
       "      <td>6</td>\n",
       "      <td>75.0</td>\n",
       "      <td>...</td>\n",
       "      <td>2738998.00</td>\n",
       "      <td>3796916.00</td>\n",
       "      <td>2154.62</td>\n",
       "      <td>5578.41</td>\n",
       "      <td>587.28</td>\n",
       "      <td>1214</td>\n",
       "      <td>142</td>\n",
       "      <td>1252</td>\n",
       "      <td>181106.90</td>\n",
       "      <td>1057</td>\n",
       "    </tr>\n",
       "    <tr>\n",
       "      <th>4</th>\n",
       "      <td>n2tstar</td>\n",
       "      <td>0</td>\n",
       "      <td>10.50</td>\n",
       "      <td>33.33</td>\n",
       "      <td>9841.04</td>\n",
       "      <td>6</td>\n",
       "      <td>2</td>\n",
       "      <td>0.40</td>\n",
       "      <td>5</td>\n",
       "      <td>83.3</td>\n",
       "      <td>...</td>\n",
       "      <td>2347295.00</td>\n",
       "      <td>3220260.00</td>\n",
       "      <td>2098.47</td>\n",
       "      <td>5642.54</td>\n",
       "      <td>546.10</td>\n",
       "      <td>1245</td>\n",
       "      <td>120</td>\n",
       "      <td>923</td>\n",
       "      <td>160029.80</td>\n",
       "      <td>1077</td>\n",
       "    </tr>\n",
       "    <tr>\n",
       "      <th>5</th>\n",
       "      <td>coldoxygen</td>\n",
       "      <td>33313</td>\n",
       "      <td>5.73</td>\n",
       "      <td>31.25</td>\n",
       "      <td>22003.22</td>\n",
       "      <td>16</td>\n",
       "      <td>5</td>\n",
       "      <td>0.50</td>\n",
       "      <td>10</td>\n",
       "      <td>62.5</td>\n",
       "      <td>...</td>\n",
       "      <td>3218436.00</td>\n",
       "      <td>4733977.00</td>\n",
       "      <td>2078.93</td>\n",
       "      <td>4414.86</td>\n",
       "      <td>1212.76</td>\n",
       "      <td>2023</td>\n",
       "      <td>195</td>\n",
       "      <td>2307</td>\n",
       "      <td>238640.00</td>\n",
       "      <td>1450</td>\n",
       "    </tr>\n",
       "    <tr>\n",
       "      <th>6</th>\n",
       "      <td>Giken</td>\n",
       "      <td>15585</td>\n",
       "      <td>2.45</td>\n",
       "      <td>8.45</td>\n",
       "      <td>148051.25</td>\n",
       "      <td>142</td>\n",
       "      <td>12</td>\n",
       "      <td>0.18</td>\n",
       "      <td>34</td>\n",
       "      <td>23.9</td>\n",
       "      <td>...</td>\n",
       "      <td>2057423.12</td>\n",
       "      <td>2883099.31</td>\n",
       "      <td>1664.77</td>\n",
       "      <td>3022.51</td>\n",
       "      <td>564.20</td>\n",
       "      <td>1274</td>\n",
       "      <td>133</td>\n",
       "      <td>1320</td>\n",
       "      <td>132008.88</td>\n",
       "      <td>775</td>\n",
       "    </tr>\n",
       "    <tr>\n",
       "      <th>7</th>\n",
       "      <td>KoreaNo1</td>\n",
       "      <td>9454</td>\n",
       "      <td>2.71</td>\n",
       "      <td>26.32</td>\n",
       "      <td>26091.14</td>\n",
       "      <td>19</td>\n",
       "      <td>5</td>\n",
       "      <td>0.50</td>\n",
       "      <td>10</td>\n",
       "      <td>52.6</td>\n",
       "      <td>...</td>\n",
       "      <td>3586593.00</td>\n",
       "      <td>4854387.00</td>\n",
       "      <td>1635.86</td>\n",
       "      <td>4627.86</td>\n",
       "      <td>806.24</td>\n",
       "      <td>2199</td>\n",
       "      <td>163</td>\n",
       "      <td>1864</td>\n",
       "      <td>201659.00</td>\n",
       "      <td>1287</td>\n",
       "    </tr>\n",
       "    <tr>\n",
       "      <th>8</th>\n",
       "      <td>undor</td>\n",
       "      <td>24029</td>\n",
       "      <td>3.68</td>\n",
       "      <td>13.64</td>\n",
       "      <td>49282.41</td>\n",
       "      <td>44</td>\n",
       "      <td>6</td>\n",
       "      <td>0.23</td>\n",
       "      <td>13</td>\n",
       "      <td>29.5</td>\n",
       "      <td>...</td>\n",
       "      <td>1054263.00</td>\n",
       "      <td>1550975.00</td>\n",
       "      <td>2207.61</td>\n",
       "      <td>4685.61</td>\n",
       "      <td>455.67</td>\n",
       "      <td>617</td>\n",
       "      <td>61</td>\n",
       "      <td>585</td>\n",
       "      <td>80498.73</td>\n",
       "      <td>513</td>\n",
       "    </tr>\n",
       "    <tr>\n",
       "      <th>9</th>\n",
       "      <td>Fordune</td>\n",
       "      <td>11289</td>\n",
       "      <td>4.17</td>\n",
       "      <td>25.00</td>\n",
       "      <td>10280.77</td>\n",
       "      <td>8</td>\n",
       "      <td>2</td>\n",
       "      <td>0.25</td>\n",
       "      <td>4</td>\n",
       "      <td>50.0</td>\n",
       "      <td>...</td>\n",
       "      <td>2793909.91</td>\n",
       "      <td>4071039.87</td>\n",
       "      <td>1981.29</td>\n",
       "      <td>3635.28</td>\n",
       "      <td>546.95</td>\n",
       "      <td>1320</td>\n",
       "      <td>220</td>\n",
       "      <td>1338</td>\n",
       "      <td>123573.74</td>\n",
       "      <td>675</td>\n",
       "    </tr>\n",
       "  </tbody>\n",
       "</table>\n",
       "<p>10 rows × 152 columns</p>\n",
       "</div>"
      ],
      "text/plain": [
       "     player_name  tracker_id  solo_KillDeathRatio  solo_WinRatio  \\\n",
       "0      BreakNeck        4405                 3.14          17.65   \n",
       "1      Blackwalk        8199                 4.41          18.18   \n",
       "2  mercedes_benz        4454                 3.60           0.00   \n",
       "3           DORA        7729                14.00          50.00   \n",
       "4        n2tstar           0                10.50          33.33   \n",
       "5     coldoxygen       33313                 5.73          31.25   \n",
       "6          Giken       15585                 2.45           8.45   \n",
       "7       KoreaNo1        9454                 2.71          26.32   \n",
       "8          undor       24029                 3.68          13.64   \n",
       "9        Fordune       11289                 4.17          25.00   \n",
       "\n",
       "   solo_TimeSurvived  solo_RoundsPlayed  solo_Wins  solo_WinTop10Ratio  \\\n",
       "0           18469.14                 17          3                0.83   \n",
       "1           33014.86                 33          6                0.36   \n",
       "2            4330.44                  5          0                0.00   \n",
       "3           13421.82                  8          4                0.67   \n",
       "4            9841.04                  6          2                0.40   \n",
       "5           22003.22                 16          5                0.50   \n",
       "6          148051.25                142         12                0.18   \n",
       "7           26091.14                 19          5                0.50   \n",
       "8           49282.41                 44          6                0.23   \n",
       "9           10280.77                  8          2                0.25   \n",
       "\n",
       "   solo_Top10s  solo_Top10Ratio  ...  squad_RideDistance  squad_MoveDistance  \\\n",
       "0            4             23.5  ...          3751590.99          5194786.58   \n",
       "1           11             33.3  ...          4295917.30          6051783.67   \n",
       "2            1             20.0  ...          3935265.63          5589608.74   \n",
       "3            6             75.0  ...          2738998.00          3796916.00   \n",
       "4            5             83.3  ...          2347295.00          3220260.00   \n",
       "5           10             62.5  ...          3218436.00          4733977.00   \n",
       "6           34             23.9  ...          2057423.12          2883099.31   \n",
       "7           10             52.6  ...          3586593.00          4854387.00   \n",
       "8           13             29.5  ...          1054263.00          1550975.00   \n",
       "9            4             50.0  ...          2793909.91          4071039.87   \n",
       "\n",
       "   squad_AvgWalkDistance  squad_AvgRideDistance  squad_LongestKill  \\\n",
       "0                2626.97                4372.64             536.98   \n",
       "1                2422.48                6009.73             734.85   \n",
       "2                1871.89                3011.87             725.44   \n",
       "3                2154.62                5578.41             587.28   \n",
       "4                2098.47                5642.54             546.10   \n",
       "5                2078.93                4414.86            1212.76   \n",
       "6                1664.77                3022.51             564.20   \n",
       "7                1635.86                4627.86             806.24   \n",
       "8                2207.61                4685.61             455.67   \n",
       "9                1981.29                3635.28             546.95   \n",
       "\n",
       "   squad_Heals  squad_Revives  squad_Boosts  squad_DamageDealt  squad_DBNOs  \n",
       "0         2186            234          1884          242132.73         1448  \n",
       "1         2041            276          2340          269795.75         1724  \n",
       "2         1766            210          2193          292977.07         1897  \n",
       "3         1214            142          1252          181106.90         1057  \n",
       "4         1245            120           923          160029.80         1077  \n",
       "5         2023            195          2307          238640.00         1450  \n",
       "6         1274            133          1320          132008.88          775  \n",
       "7         2199            163          1864          201659.00         1287  \n",
       "8          617             61           585           80498.73          513  \n",
       "9         1320            220          1338          123573.74          675  \n",
       "\n",
       "[10 rows x 152 columns]"
      ]
     },
     "execution_count": 19,
     "metadata": {},
     "output_type": "execute_result"
    }
   ],
   "source": [
    "df_bar_pubg.head(10)"
   ]
  },
  {
   "cell_type": "code",
   "execution_count": 20,
   "metadata": {
    "id": "TFnb4X_B25LK",
    "outputId": "7c68048c-668b-4537-ac9b-74fbd9b9e62b"
   },
   "outputs": [
    {
     "data": {
      "application/vnd.plotly.v1+json": {
       "config": {
        "linkText": "Export to plot.ly",
        "plotlyServerURL": "https://plot.ly",
        "showLink": false
       },
       "data": [
        {
         "marker": {
          "color": "rgb(0, 0, 128)",
          "opacity": 0.4,
          "size": 3
         },
         "mode": "markers",
         "name": "points",
         "type": "scatter",
         "x": [
          3,
          6,
          0,
          4,
          2,
          5,
          12,
          5,
          6,
          2,
          7,
          4,
          9,
          4,
          3,
          1,
          38,
          12,
          6,
          2,
          7,
          4,
          3,
          2,
          48,
          63,
          4,
          3,
          3,
          2
         ],
         "y": [
          18469.14,
          33014.86,
          4330.44,
          13421.82,
          9841.04,
          22003.22,
          148051.25,
          26091.14,
          49282.41,
          10280.77,
          106330.23,
          232995.54,
          91380.4,
          71910.46,
          30996.86,
          3638.01,
          246771.12,
          87214.43,
          20927.23,
          45916.37,
          62763.42,
          43124.07,
          11733.19,
          18488.62,
          331173.26,
          397022.2,
          87514.41,
          53548.14,
          47966.09,
          25094.18
         ]
        },
        {
         "colorscale": [
          [
           0,
           "rgb(122, 69, 121)"
          ],
          [
           0.25,
           "rgb(213, 96, 115)"
          ],
          [
           0.5,
           "rgb(236, 158, 105)"
          ],
          [
           0.75,
           "rgb(255, 255, 51)"
          ],
          [
           1,
           "rgb(250, 250, 250)"
          ]
         ],
         "name": "density",
         "ncontours": 20,
         "reversescale": true,
         "showscale": false,
         "type": "histogram2dcontour",
         "x": [
          3,
          6,
          0,
          4,
          2,
          5,
          12,
          5,
          6,
          2,
          7,
          4,
          9,
          4,
          3,
          1,
          38,
          12,
          6,
          2,
          7,
          4,
          3,
          2,
          48,
          63,
          4,
          3,
          3,
          2
         ],
         "y": [
          18469.14,
          33014.86,
          4330.44,
          13421.82,
          9841.04,
          22003.22,
          148051.25,
          26091.14,
          49282.41,
          10280.77,
          106330.23,
          232995.54,
          91380.4,
          71910.46,
          30996.86,
          3638.01,
          246771.12,
          87214.43,
          20927.23,
          45916.37,
          62763.42,
          43124.07,
          11733.19,
          18488.62,
          331173.26,
          397022.2,
          87514.41,
          53548.14,
          47966.09,
          25094.18
         ]
        },
        {
         "marker": {
          "color": "rgb(255, 237, 222)"
         },
         "name": "x density",
         "type": "histogram",
         "x": [
          3,
          6,
          0,
          4,
          2,
          5,
          12,
          5,
          6,
          2,
          7,
          4,
          9,
          4,
          3,
          1,
          38,
          12,
          6,
          2,
          7,
          4,
          3,
          2,
          48,
          63,
          4,
          3,
          3,
          2
         ],
         "yaxis": "y2"
        },
        {
         "marker": {
          "color": "rgb(255, 237, 222)"
         },
         "name": "y density",
         "type": "histogram",
         "xaxis": "x2",
         "y": [
          18469.14,
          33014.86,
          4330.44,
          13421.82,
          9841.04,
          22003.22,
          148051.25,
          26091.14,
          49282.41,
          10280.77,
          106330.23,
          232995.54,
          91380.4,
          71910.46,
          30996.86,
          3638.01,
          246771.12,
          87214.43,
          20927.23,
          45916.37,
          62763.42,
          43124.07,
          11733.19,
          18488.62,
          331173.26,
          397022.2,
          87514.41,
          53548.14,
          47966.09,
          25094.18
         ]
        }
       ],
       "layout": {
        "autosize": false,
        "bargap": 0,
        "height": 600,
        "hovermode": "closest",
        "margin": {
         "t": 50
        },
        "showlegend": false,
        "template": {
         "data": {
          "bar": [
           {
            "error_x": {
             "color": "#2a3f5f"
            },
            "error_y": {
             "color": "#2a3f5f"
            },
            "marker": {
             "line": {
              "color": "#E5ECF6",
              "width": 0.5
             },
             "pattern": {
              "fillmode": "overlay",
              "size": 10,
              "solidity": 0.2
             }
            },
            "type": "bar"
           }
          ],
          "barpolar": [
           {
            "marker": {
             "line": {
              "color": "#E5ECF6",
              "width": 0.5
             },
             "pattern": {
              "fillmode": "overlay",
              "size": 10,
              "solidity": 0.2
             }
            },
            "type": "barpolar"
           }
          ],
          "carpet": [
           {
            "aaxis": {
             "endlinecolor": "#2a3f5f",
             "gridcolor": "white",
             "linecolor": "white",
             "minorgridcolor": "white",
             "startlinecolor": "#2a3f5f"
            },
            "baxis": {
             "endlinecolor": "#2a3f5f",
             "gridcolor": "white",
             "linecolor": "white",
             "minorgridcolor": "white",
             "startlinecolor": "#2a3f5f"
            },
            "type": "carpet"
           }
          ],
          "choropleth": [
           {
            "colorbar": {
             "outlinewidth": 0,
             "ticks": ""
            },
            "type": "choropleth"
           }
          ],
          "contour": [
           {
            "colorbar": {
             "outlinewidth": 0,
             "ticks": ""
            },
            "colorscale": [
             [
              0,
              "#0d0887"
             ],
             [
              0.1111111111111111,
              "#46039f"
             ],
             [
              0.2222222222222222,
              "#7201a8"
             ],
             [
              0.3333333333333333,
              "#9c179e"
             ],
             [
              0.4444444444444444,
              "#bd3786"
             ],
             [
              0.5555555555555556,
              "#d8576b"
             ],
             [
              0.6666666666666666,
              "#ed7953"
             ],
             [
              0.7777777777777778,
              "#fb9f3a"
             ],
             [
              0.8888888888888888,
              "#fdca26"
             ],
             [
              1,
              "#f0f921"
             ]
            ],
            "type": "contour"
           }
          ],
          "contourcarpet": [
           {
            "colorbar": {
             "outlinewidth": 0,
             "ticks": ""
            },
            "type": "contourcarpet"
           }
          ],
          "heatmap": [
           {
            "colorbar": {
             "outlinewidth": 0,
             "ticks": ""
            },
            "colorscale": [
             [
              0,
              "#0d0887"
             ],
             [
              0.1111111111111111,
              "#46039f"
             ],
             [
              0.2222222222222222,
              "#7201a8"
             ],
             [
              0.3333333333333333,
              "#9c179e"
             ],
             [
              0.4444444444444444,
              "#bd3786"
             ],
             [
              0.5555555555555556,
              "#d8576b"
             ],
             [
              0.6666666666666666,
              "#ed7953"
             ],
             [
              0.7777777777777778,
              "#fb9f3a"
             ],
             [
              0.8888888888888888,
              "#fdca26"
             ],
             [
              1,
              "#f0f921"
             ]
            ],
            "type": "heatmap"
           }
          ],
          "heatmapgl": [
           {
            "colorbar": {
             "outlinewidth": 0,
             "ticks": ""
            },
            "colorscale": [
             [
              0,
              "#0d0887"
             ],
             [
              0.1111111111111111,
              "#46039f"
             ],
             [
              0.2222222222222222,
              "#7201a8"
             ],
             [
              0.3333333333333333,
              "#9c179e"
             ],
             [
              0.4444444444444444,
              "#bd3786"
             ],
             [
              0.5555555555555556,
              "#d8576b"
             ],
             [
              0.6666666666666666,
              "#ed7953"
             ],
             [
              0.7777777777777778,
              "#fb9f3a"
             ],
             [
              0.8888888888888888,
              "#fdca26"
             ],
             [
              1,
              "#f0f921"
             ]
            ],
            "type": "heatmapgl"
           }
          ],
          "histogram": [
           {
            "marker": {
             "pattern": {
              "fillmode": "overlay",
              "size": 10,
              "solidity": 0.2
             }
            },
            "type": "histogram"
           }
          ],
          "histogram2d": [
           {
            "colorbar": {
             "outlinewidth": 0,
             "ticks": ""
            },
            "colorscale": [
             [
              0,
              "#0d0887"
             ],
             [
              0.1111111111111111,
              "#46039f"
             ],
             [
              0.2222222222222222,
              "#7201a8"
             ],
             [
              0.3333333333333333,
              "#9c179e"
             ],
             [
              0.4444444444444444,
              "#bd3786"
             ],
             [
              0.5555555555555556,
              "#d8576b"
             ],
             [
              0.6666666666666666,
              "#ed7953"
             ],
             [
              0.7777777777777778,
              "#fb9f3a"
             ],
             [
              0.8888888888888888,
              "#fdca26"
             ],
             [
              1,
              "#f0f921"
             ]
            ],
            "type": "histogram2d"
           }
          ],
          "histogram2dcontour": [
           {
            "colorbar": {
             "outlinewidth": 0,
             "ticks": ""
            },
            "colorscale": [
             [
              0,
              "#0d0887"
             ],
             [
              0.1111111111111111,
              "#46039f"
             ],
             [
              0.2222222222222222,
              "#7201a8"
             ],
             [
              0.3333333333333333,
              "#9c179e"
             ],
             [
              0.4444444444444444,
              "#bd3786"
             ],
             [
              0.5555555555555556,
              "#d8576b"
             ],
             [
              0.6666666666666666,
              "#ed7953"
             ],
             [
              0.7777777777777778,
              "#fb9f3a"
             ],
             [
              0.8888888888888888,
              "#fdca26"
             ],
             [
              1,
              "#f0f921"
             ]
            ],
            "type": "histogram2dcontour"
           }
          ],
          "mesh3d": [
           {
            "colorbar": {
             "outlinewidth": 0,
             "ticks": ""
            },
            "type": "mesh3d"
           }
          ],
          "parcoords": [
           {
            "line": {
             "colorbar": {
              "outlinewidth": 0,
              "ticks": ""
             }
            },
            "type": "parcoords"
           }
          ],
          "pie": [
           {
            "automargin": true,
            "type": "pie"
           }
          ],
          "scatter": [
           {
            "fillpattern": {
             "fillmode": "overlay",
             "size": 10,
             "solidity": 0.2
            },
            "type": "scatter"
           }
          ],
          "scatter3d": [
           {
            "line": {
             "colorbar": {
              "outlinewidth": 0,
              "ticks": ""
             }
            },
            "marker": {
             "colorbar": {
              "outlinewidth": 0,
              "ticks": ""
             }
            },
            "type": "scatter3d"
           }
          ],
          "scattercarpet": [
           {
            "marker": {
             "colorbar": {
              "outlinewidth": 0,
              "ticks": ""
             }
            },
            "type": "scattercarpet"
           }
          ],
          "scattergeo": [
           {
            "marker": {
             "colorbar": {
              "outlinewidth": 0,
              "ticks": ""
             }
            },
            "type": "scattergeo"
           }
          ],
          "scattergl": [
           {
            "marker": {
             "colorbar": {
              "outlinewidth": 0,
              "ticks": ""
             }
            },
            "type": "scattergl"
           }
          ],
          "scattermapbox": [
           {
            "marker": {
             "colorbar": {
              "outlinewidth": 0,
              "ticks": ""
             }
            },
            "type": "scattermapbox"
           }
          ],
          "scatterpolar": [
           {
            "marker": {
             "colorbar": {
              "outlinewidth": 0,
              "ticks": ""
             }
            },
            "type": "scatterpolar"
           }
          ],
          "scatterpolargl": [
           {
            "marker": {
             "colorbar": {
              "outlinewidth": 0,
              "ticks": ""
             }
            },
            "type": "scatterpolargl"
           }
          ],
          "scatterternary": [
           {
            "marker": {
             "colorbar": {
              "outlinewidth": 0,
              "ticks": ""
             }
            },
            "type": "scatterternary"
           }
          ],
          "surface": [
           {
            "colorbar": {
             "outlinewidth": 0,
             "ticks": ""
            },
            "colorscale": [
             [
              0,
              "#0d0887"
             ],
             [
              0.1111111111111111,
              "#46039f"
             ],
             [
              0.2222222222222222,
              "#7201a8"
             ],
             [
              0.3333333333333333,
              "#9c179e"
             ],
             [
              0.4444444444444444,
              "#bd3786"
             ],
             [
              0.5555555555555556,
              "#d8576b"
             ],
             [
              0.6666666666666666,
              "#ed7953"
             ],
             [
              0.7777777777777778,
              "#fb9f3a"
             ],
             [
              0.8888888888888888,
              "#fdca26"
             ],
             [
              1,
              "#f0f921"
             ]
            ],
            "type": "surface"
           }
          ],
          "table": [
           {
            "cells": {
             "fill": {
              "color": "#EBF0F8"
             },
             "line": {
              "color": "white"
             }
            },
            "header": {
             "fill": {
              "color": "#C8D4E3"
             },
             "line": {
              "color": "white"
             }
            },
            "type": "table"
           }
          ]
         },
         "layout": {
          "annotationdefaults": {
           "arrowcolor": "#2a3f5f",
           "arrowhead": 0,
           "arrowwidth": 1
          },
          "autotypenumbers": "strict",
          "coloraxis": {
           "colorbar": {
            "outlinewidth": 0,
            "ticks": ""
           }
          },
          "colorscale": {
           "diverging": [
            [
             0,
             "#8e0152"
            ],
            [
             0.1,
             "#c51b7d"
            ],
            [
             0.2,
             "#de77ae"
            ],
            [
             0.3,
             "#f1b6da"
            ],
            [
             0.4,
             "#fde0ef"
            ],
            [
             0.5,
             "#f7f7f7"
            ],
            [
             0.6,
             "#e6f5d0"
            ],
            [
             0.7,
             "#b8e186"
            ],
            [
             0.8,
             "#7fbc41"
            ],
            [
             0.9,
             "#4d9221"
            ],
            [
             1,
             "#276419"
            ]
           ],
           "sequential": [
            [
             0,
             "#0d0887"
            ],
            [
             0.1111111111111111,
             "#46039f"
            ],
            [
             0.2222222222222222,
             "#7201a8"
            ],
            [
             0.3333333333333333,
             "#9c179e"
            ],
            [
             0.4444444444444444,
             "#bd3786"
            ],
            [
             0.5555555555555556,
             "#d8576b"
            ],
            [
             0.6666666666666666,
             "#ed7953"
            ],
            [
             0.7777777777777778,
             "#fb9f3a"
            ],
            [
             0.8888888888888888,
             "#fdca26"
            ],
            [
             1,
             "#f0f921"
            ]
           ],
           "sequentialminus": [
            [
             0,
             "#0d0887"
            ],
            [
             0.1111111111111111,
             "#46039f"
            ],
            [
             0.2222222222222222,
             "#7201a8"
            ],
            [
             0.3333333333333333,
             "#9c179e"
            ],
            [
             0.4444444444444444,
             "#bd3786"
            ],
            [
             0.5555555555555556,
             "#d8576b"
            ],
            [
             0.6666666666666666,
             "#ed7953"
            ],
            [
             0.7777777777777778,
             "#fb9f3a"
            ],
            [
             0.8888888888888888,
             "#fdca26"
            ],
            [
             1,
             "#f0f921"
            ]
           ]
          },
          "colorway": [
           "#636efa",
           "#EF553B",
           "#00cc96",
           "#ab63fa",
           "#FFA15A",
           "#19d3f3",
           "#FF6692",
           "#B6E880",
           "#FF97FF",
           "#FECB52"
          ],
          "font": {
           "color": "#2a3f5f"
          },
          "geo": {
           "bgcolor": "white",
           "lakecolor": "white",
           "landcolor": "#E5ECF6",
           "showlakes": true,
           "showland": true,
           "subunitcolor": "white"
          },
          "hoverlabel": {
           "align": "left"
          },
          "hovermode": "closest",
          "mapbox": {
           "style": "light"
          },
          "paper_bgcolor": "white",
          "plot_bgcolor": "#E5ECF6",
          "polar": {
           "angularaxis": {
            "gridcolor": "white",
            "linecolor": "white",
            "ticks": ""
           },
           "bgcolor": "#E5ECF6",
           "radialaxis": {
            "gridcolor": "white",
            "linecolor": "white",
            "ticks": ""
           }
          },
          "scene": {
           "xaxis": {
            "backgroundcolor": "#E5ECF6",
            "gridcolor": "white",
            "gridwidth": 2,
            "linecolor": "white",
            "showbackground": true,
            "ticks": "",
            "zerolinecolor": "white"
           },
           "yaxis": {
            "backgroundcolor": "#E5ECF6",
            "gridcolor": "white",
            "gridwidth": 2,
            "linecolor": "white",
            "showbackground": true,
            "ticks": "",
            "zerolinecolor": "white"
           },
           "zaxis": {
            "backgroundcolor": "#E5ECF6",
            "gridcolor": "white",
            "gridwidth": 2,
            "linecolor": "white",
            "showbackground": true,
            "ticks": "",
            "zerolinecolor": "white"
           }
          },
          "shapedefaults": {
           "line": {
            "color": "#2a3f5f"
           }
          },
          "ternary": {
           "aaxis": {
            "gridcolor": "white",
            "linecolor": "white",
            "ticks": ""
           },
           "baxis": {
            "gridcolor": "white",
            "linecolor": "white",
            "ticks": ""
           },
           "bgcolor": "#E5ECF6",
           "caxis": {
            "gridcolor": "white",
            "linecolor": "white",
            "ticks": ""
           }
          },
          "title": {
           "x": 0.05
          },
          "xaxis": {
           "automargin": true,
           "gridcolor": "white",
           "linecolor": "white",
           "ticks": "",
           "title": {
            "standoff": 15
           },
           "zerolinecolor": "white",
           "zerolinewidth": 2
          },
          "yaxis": {
           "automargin": true,
           "gridcolor": "white",
           "linecolor": "white",
           "ticks": "",
           "title": {
            "standoff": 15
           },
           "zerolinecolor": "white",
           "zerolinewidth": 2
          }
         }
        },
        "title": {
         "text": "2D Density Plot"
        },
        "width": 600,
        "xaxis": {
         "domain": [
          0,
          0.85
         ],
         "showgrid": false,
         "zeroline": false
        },
        "xaxis2": {
         "domain": [
          0.85,
          1
         ],
         "showgrid": false,
         "zeroline": false
        },
        "yaxis": {
         "domain": [
          0,
          0.85
         ],
         "showgrid": false,
         "zeroline": false
        },
        "yaxis2": {
         "domain": [
          0.85,
          1
         ],
         "showgrid": false,
         "zeroline": false
        }
       }
      },
      "text/html": [
       "<div>                            <div id=\"364d588d-b3f8-4aa8-b5c4-35c1b1298940\" class=\"plotly-graph-div\" style=\"height:600px; width:600px;\"></div>            <script type=\"text/javascript\">                require([\"plotly\"], function(Plotly) {                    window.PLOTLYENV=window.PLOTLYENV || {};                                    if (document.getElementById(\"364d588d-b3f8-4aa8-b5c4-35c1b1298940\")) {                    Plotly.newPlot(                        \"364d588d-b3f8-4aa8-b5c4-35c1b1298940\",                        [{\"marker\":{\"color\":\"rgb(0, 0, 128)\",\"opacity\":0.4,\"size\":3},\"mode\":\"markers\",\"name\":\"points\",\"x\":[3,6,0,4,2,5,12,5,6,2,7,4,9,4,3,1,38,12,6,2,7,4,3,2,48,63,4,3,3,2],\"y\":[18469.14,33014.86,4330.44,13421.82,9841.04,22003.22,148051.25,26091.14,49282.41,10280.77,106330.23,232995.54,91380.4,71910.46,30996.86,3638.01,246771.12,87214.43,20927.23,45916.37,62763.42,43124.07,11733.19,18488.62,331173.26,397022.2,87514.41,53548.14,47966.09,25094.18],\"type\":\"scatter\"},{\"colorscale\":[[0.0,\"rgb(122, 69, 121)\"],[0.25,\"rgb(213, 96, 115)\"],[0.5,\"rgb(236, 158, 105)\"],[0.75,\"rgb(255, 255, 51)\"],[1.0,\"rgb(250, 250, 250)\"]],\"name\":\"density\",\"ncontours\":20,\"reversescale\":true,\"showscale\":false,\"x\":[3,6,0,4,2,5,12,5,6,2,7,4,9,4,3,1,38,12,6,2,7,4,3,2,48,63,4,3,3,2],\"y\":[18469.14,33014.86,4330.44,13421.82,9841.04,22003.22,148051.25,26091.14,49282.41,10280.77,106330.23,232995.54,91380.4,71910.46,30996.86,3638.01,246771.12,87214.43,20927.23,45916.37,62763.42,43124.07,11733.19,18488.62,331173.26,397022.2,87514.41,53548.14,47966.09,25094.18],\"type\":\"histogram2dcontour\"},{\"marker\":{\"color\":\"rgb(255, 237, 222)\"},\"name\":\"x density\",\"x\":[3,6,0,4,2,5,12,5,6,2,7,4,9,4,3,1,38,12,6,2,7,4,3,2,48,63,4,3,3,2],\"yaxis\":\"y2\",\"type\":\"histogram\"},{\"marker\":{\"color\":\"rgb(255, 237, 222)\"},\"name\":\"y density\",\"xaxis\":\"x2\",\"y\":[18469.14,33014.86,4330.44,13421.82,9841.04,22003.22,148051.25,26091.14,49282.41,10280.77,106330.23,232995.54,91380.4,71910.46,30996.86,3638.01,246771.12,87214.43,20927.23,45916.37,62763.42,43124.07,11733.19,18488.62,331173.26,397022.2,87514.41,53548.14,47966.09,25094.18],\"type\":\"histogram\"}],                        {\"autosize\":false,\"bargap\":0,\"height\":600,\"hovermode\":\"closest\",\"margin\":{\"t\":50},\"showlegend\":false,\"template\":{\"data\":{\"barpolar\":[{\"marker\":{\"line\":{\"color\":\"#E5ECF6\",\"width\":0.5},\"pattern\":{\"fillmode\":\"overlay\",\"size\":10,\"solidity\":0.2}},\"type\":\"barpolar\"}],\"bar\":[{\"error_x\":{\"color\":\"#2a3f5f\"},\"error_y\":{\"color\":\"#2a3f5f\"},\"marker\":{\"line\":{\"color\":\"#E5ECF6\",\"width\":0.5},\"pattern\":{\"fillmode\":\"overlay\",\"size\":10,\"solidity\":0.2}},\"type\":\"bar\"}],\"carpet\":[{\"aaxis\":{\"endlinecolor\":\"#2a3f5f\",\"gridcolor\":\"white\",\"linecolor\":\"white\",\"minorgridcolor\":\"white\",\"startlinecolor\":\"#2a3f5f\"},\"baxis\":{\"endlinecolor\":\"#2a3f5f\",\"gridcolor\":\"white\",\"linecolor\":\"white\",\"minorgridcolor\":\"white\",\"startlinecolor\":\"#2a3f5f\"},\"type\":\"carpet\"}],\"choropleth\":[{\"colorbar\":{\"outlinewidth\":0,\"ticks\":\"\"},\"type\":\"choropleth\"}],\"contourcarpet\":[{\"colorbar\":{\"outlinewidth\":0,\"ticks\":\"\"},\"type\":\"contourcarpet\"}],\"contour\":[{\"colorbar\":{\"outlinewidth\":0,\"ticks\":\"\"},\"colorscale\":[[0.0,\"#0d0887\"],[0.1111111111111111,\"#46039f\"],[0.2222222222222222,\"#7201a8\"],[0.3333333333333333,\"#9c179e\"],[0.4444444444444444,\"#bd3786\"],[0.5555555555555556,\"#d8576b\"],[0.6666666666666666,\"#ed7953\"],[0.7777777777777778,\"#fb9f3a\"],[0.8888888888888888,\"#fdca26\"],[1.0,\"#f0f921\"]],\"type\":\"contour\"}],\"heatmapgl\":[{\"colorbar\":{\"outlinewidth\":0,\"ticks\":\"\"},\"colorscale\":[[0.0,\"#0d0887\"],[0.1111111111111111,\"#46039f\"],[0.2222222222222222,\"#7201a8\"],[0.3333333333333333,\"#9c179e\"],[0.4444444444444444,\"#bd3786\"],[0.5555555555555556,\"#d8576b\"],[0.6666666666666666,\"#ed7953\"],[0.7777777777777778,\"#fb9f3a\"],[0.8888888888888888,\"#fdca26\"],[1.0,\"#f0f921\"]],\"type\":\"heatmapgl\"}],\"heatmap\":[{\"colorbar\":{\"outlinewidth\":0,\"ticks\":\"\"},\"colorscale\":[[0.0,\"#0d0887\"],[0.1111111111111111,\"#46039f\"],[0.2222222222222222,\"#7201a8\"],[0.3333333333333333,\"#9c179e\"],[0.4444444444444444,\"#bd3786\"],[0.5555555555555556,\"#d8576b\"],[0.6666666666666666,\"#ed7953\"],[0.7777777777777778,\"#fb9f3a\"],[0.8888888888888888,\"#fdca26\"],[1.0,\"#f0f921\"]],\"type\":\"heatmap\"}],\"histogram2dcontour\":[{\"colorbar\":{\"outlinewidth\":0,\"ticks\":\"\"},\"colorscale\":[[0.0,\"#0d0887\"],[0.1111111111111111,\"#46039f\"],[0.2222222222222222,\"#7201a8\"],[0.3333333333333333,\"#9c179e\"],[0.4444444444444444,\"#bd3786\"],[0.5555555555555556,\"#d8576b\"],[0.6666666666666666,\"#ed7953\"],[0.7777777777777778,\"#fb9f3a\"],[0.8888888888888888,\"#fdca26\"],[1.0,\"#f0f921\"]],\"type\":\"histogram2dcontour\"}],\"histogram2d\":[{\"colorbar\":{\"outlinewidth\":0,\"ticks\":\"\"},\"colorscale\":[[0.0,\"#0d0887\"],[0.1111111111111111,\"#46039f\"],[0.2222222222222222,\"#7201a8\"],[0.3333333333333333,\"#9c179e\"],[0.4444444444444444,\"#bd3786\"],[0.5555555555555556,\"#d8576b\"],[0.6666666666666666,\"#ed7953\"],[0.7777777777777778,\"#fb9f3a\"],[0.8888888888888888,\"#fdca26\"],[1.0,\"#f0f921\"]],\"type\":\"histogram2d\"}],\"histogram\":[{\"marker\":{\"pattern\":{\"fillmode\":\"overlay\",\"size\":10,\"solidity\":0.2}},\"type\":\"histogram\"}],\"mesh3d\":[{\"colorbar\":{\"outlinewidth\":0,\"ticks\":\"\"},\"type\":\"mesh3d\"}],\"parcoords\":[{\"line\":{\"colorbar\":{\"outlinewidth\":0,\"ticks\":\"\"}},\"type\":\"parcoords\"}],\"pie\":[{\"automargin\":true,\"type\":\"pie\"}],\"scatter3d\":[{\"line\":{\"colorbar\":{\"outlinewidth\":0,\"ticks\":\"\"}},\"marker\":{\"colorbar\":{\"outlinewidth\":0,\"ticks\":\"\"}},\"type\":\"scatter3d\"}],\"scattercarpet\":[{\"marker\":{\"colorbar\":{\"outlinewidth\":0,\"ticks\":\"\"}},\"type\":\"scattercarpet\"}],\"scattergeo\":[{\"marker\":{\"colorbar\":{\"outlinewidth\":0,\"ticks\":\"\"}},\"type\":\"scattergeo\"}],\"scattergl\":[{\"marker\":{\"colorbar\":{\"outlinewidth\":0,\"ticks\":\"\"}},\"type\":\"scattergl\"}],\"scattermapbox\":[{\"marker\":{\"colorbar\":{\"outlinewidth\":0,\"ticks\":\"\"}},\"type\":\"scattermapbox\"}],\"scatterpolargl\":[{\"marker\":{\"colorbar\":{\"outlinewidth\":0,\"ticks\":\"\"}},\"type\":\"scatterpolargl\"}],\"scatterpolar\":[{\"marker\":{\"colorbar\":{\"outlinewidth\":0,\"ticks\":\"\"}},\"type\":\"scatterpolar\"}],\"scatter\":[{\"fillpattern\":{\"fillmode\":\"overlay\",\"size\":10,\"solidity\":0.2},\"type\":\"scatter\"}],\"scatterternary\":[{\"marker\":{\"colorbar\":{\"outlinewidth\":0,\"ticks\":\"\"}},\"type\":\"scatterternary\"}],\"surface\":[{\"colorbar\":{\"outlinewidth\":0,\"ticks\":\"\"},\"colorscale\":[[0.0,\"#0d0887\"],[0.1111111111111111,\"#46039f\"],[0.2222222222222222,\"#7201a8\"],[0.3333333333333333,\"#9c179e\"],[0.4444444444444444,\"#bd3786\"],[0.5555555555555556,\"#d8576b\"],[0.6666666666666666,\"#ed7953\"],[0.7777777777777778,\"#fb9f3a\"],[0.8888888888888888,\"#fdca26\"],[1.0,\"#f0f921\"]],\"type\":\"surface\"}],\"table\":[{\"cells\":{\"fill\":{\"color\":\"#EBF0F8\"},\"line\":{\"color\":\"white\"}},\"header\":{\"fill\":{\"color\":\"#C8D4E3\"},\"line\":{\"color\":\"white\"}},\"type\":\"table\"}]},\"layout\":{\"annotationdefaults\":{\"arrowcolor\":\"#2a3f5f\",\"arrowhead\":0,\"arrowwidth\":1},\"autotypenumbers\":\"strict\",\"coloraxis\":{\"colorbar\":{\"outlinewidth\":0,\"ticks\":\"\"}},\"colorscale\":{\"diverging\":[[0,\"#8e0152\"],[0.1,\"#c51b7d\"],[0.2,\"#de77ae\"],[0.3,\"#f1b6da\"],[0.4,\"#fde0ef\"],[0.5,\"#f7f7f7\"],[0.6,\"#e6f5d0\"],[0.7,\"#b8e186\"],[0.8,\"#7fbc41\"],[0.9,\"#4d9221\"],[1,\"#276419\"]],\"sequential\":[[0.0,\"#0d0887\"],[0.1111111111111111,\"#46039f\"],[0.2222222222222222,\"#7201a8\"],[0.3333333333333333,\"#9c179e\"],[0.4444444444444444,\"#bd3786\"],[0.5555555555555556,\"#d8576b\"],[0.6666666666666666,\"#ed7953\"],[0.7777777777777778,\"#fb9f3a\"],[0.8888888888888888,\"#fdca26\"],[1.0,\"#f0f921\"]],\"sequentialminus\":[[0.0,\"#0d0887\"],[0.1111111111111111,\"#46039f\"],[0.2222222222222222,\"#7201a8\"],[0.3333333333333333,\"#9c179e\"],[0.4444444444444444,\"#bd3786\"],[0.5555555555555556,\"#d8576b\"],[0.6666666666666666,\"#ed7953\"],[0.7777777777777778,\"#fb9f3a\"],[0.8888888888888888,\"#fdca26\"],[1.0,\"#f0f921\"]]},\"colorway\":[\"#636efa\",\"#EF553B\",\"#00cc96\",\"#ab63fa\",\"#FFA15A\",\"#19d3f3\",\"#FF6692\",\"#B6E880\",\"#FF97FF\",\"#FECB52\"],\"font\":{\"color\":\"#2a3f5f\"},\"geo\":{\"bgcolor\":\"white\",\"lakecolor\":\"white\",\"landcolor\":\"#E5ECF6\",\"showlakes\":true,\"showland\":true,\"subunitcolor\":\"white\"},\"hoverlabel\":{\"align\":\"left\"},\"hovermode\":\"closest\",\"mapbox\":{\"style\":\"light\"},\"paper_bgcolor\":\"white\",\"plot_bgcolor\":\"#E5ECF6\",\"polar\":{\"angularaxis\":{\"gridcolor\":\"white\",\"linecolor\":\"white\",\"ticks\":\"\"},\"bgcolor\":\"#E5ECF6\",\"radialaxis\":{\"gridcolor\":\"white\",\"linecolor\":\"white\",\"ticks\":\"\"}},\"scene\":{\"xaxis\":{\"backgroundcolor\":\"#E5ECF6\",\"gridcolor\":\"white\",\"gridwidth\":2,\"linecolor\":\"white\",\"showbackground\":true,\"ticks\":\"\",\"zerolinecolor\":\"white\"},\"yaxis\":{\"backgroundcolor\":\"#E5ECF6\",\"gridcolor\":\"white\",\"gridwidth\":2,\"linecolor\":\"white\",\"showbackground\":true,\"ticks\":\"\",\"zerolinecolor\":\"white\"},\"zaxis\":{\"backgroundcolor\":\"#E5ECF6\",\"gridcolor\":\"white\",\"gridwidth\":2,\"linecolor\":\"white\",\"showbackground\":true,\"ticks\":\"\",\"zerolinecolor\":\"white\"}},\"shapedefaults\":{\"line\":{\"color\":\"#2a3f5f\"}},\"ternary\":{\"aaxis\":{\"gridcolor\":\"white\",\"linecolor\":\"white\",\"ticks\":\"\"},\"baxis\":{\"gridcolor\":\"white\",\"linecolor\":\"white\",\"ticks\":\"\"},\"bgcolor\":\"#E5ECF6\",\"caxis\":{\"gridcolor\":\"white\",\"linecolor\":\"white\",\"ticks\":\"\"}},\"title\":{\"x\":0.05},\"xaxis\":{\"automargin\":true,\"gridcolor\":\"white\",\"linecolor\":\"white\",\"ticks\":\"\",\"title\":{\"standoff\":15},\"zerolinecolor\":\"white\",\"zerolinewidth\":2},\"yaxis\":{\"automargin\":true,\"gridcolor\":\"white\",\"linecolor\":\"white\",\"ticks\":\"\",\"title\":{\"standoff\":15},\"zerolinecolor\":\"white\",\"zerolinewidth\":2}}},\"title\":{\"text\":\"2D Density Plot\"},\"width\":600,\"xaxis\":{\"domain\":[0,0.85],\"showgrid\":false,\"zeroline\":false},\"yaxis\":{\"domain\":[0,0.85],\"showgrid\":false,\"zeroline\":false},\"xaxis2\":{\"domain\":[0.85,1],\"showgrid\":false,\"zeroline\":false},\"yaxis2\":{\"domain\":[0.85,1],\"showgrid\":false,\"zeroline\":false}},                        {\"responsive\": true}                    ).then(function(){\n",
       "                            \n",
       "var gd = document.getElementById('364d588d-b3f8-4aa8-b5c4-35c1b1298940');\n",
       "var x = new MutationObserver(function (mutations, observer) {{\n",
       "        var display = window.getComputedStyle(gd).display;\n",
       "        if (!display || display === 'none') {{\n",
       "            console.log([gd, 'removed!']);\n",
       "            Plotly.purge(gd);\n",
       "            observer.disconnect();\n",
       "        }}\n",
       "}});\n",
       "\n",
       "// Listen for the removal of the full notebook cells\n",
       "var notebookContainer = gd.closest('#notebook-container');\n",
       "if (notebookContainer) {{\n",
       "    x.observe(notebookContainer, {childList: true});\n",
       "}}\n",
       "\n",
       "// Listen for the clearing of the current output cell\n",
       "var outputEl = gd.closest('.output');\n",
       "if (outputEl) {{\n",
       "    x.observe(outputEl, {childList: true});\n",
       "}}\n",
       "\n",
       "                        })                };                });            </script>        </div>"
      ]
     },
     "metadata": {},
     "output_type": "display_data"
    }
   ],
   "source": [
    "import plotly.figure_factory as ff\n",
    "\n",
    "x = df_bar_pubg['solo_Wins']\n",
    "y = df_bar_pubg['solo_TimeSurvived']\n",
    "#z = df_bar_pubg['squad_Heals']\n",
    "\n",
    "colorscale = ['#7A4579', '#D56073', 'rgb(236,158,105)', (1, 1, 0.2), (0.98,0.98,0.98)]\n",
    "\n",
    "fig = ff.create_2d_density(\n",
    "    x, y, colorscale=colorscale,\n",
    "    hist_color='rgb(255, 237, 222)', point_size=3\n",
    ")\n",
    "\n",
    "\n",
    "iplot(fig, filename='histogram_subplots')"
   ]
  },
  {
   "cell_type": "code",
   "execution_count": 21,
   "metadata": {
    "id": "ua1URH4H25LL",
    "outputId": "6f0d95e7-c4ed-442a-8c0f-93b60f8a891e"
   },
   "outputs": [
    {
     "data": {
      "text/html": [
       "<div>\n",
       "<style scoped>\n",
       "    .dataframe tbody tr th:only-of-type {\n",
       "        vertical-align: middle;\n",
       "    }\n",
       "\n",
       "    .dataframe tbody tr th {\n",
       "        vertical-align: top;\n",
       "    }\n",
       "\n",
       "    .dataframe thead th {\n",
       "        text-align: right;\n",
       "    }\n",
       "</style>\n",
       "<table border=\"1\" class=\"dataframe\">\n",
       "  <thead>\n",
       "    <tr style=\"text-align: right;\">\n",
       "      <th></th>\n",
       "      <th>player_name</th>\n",
       "      <th>tracker_id</th>\n",
       "      <th>solo_KillDeathRatio</th>\n",
       "      <th>solo_WinRatio</th>\n",
       "      <th>solo_TimeSurvived</th>\n",
       "      <th>solo_RoundsPlayed</th>\n",
       "      <th>solo_Wins</th>\n",
       "      <th>solo_WinTop10Ratio</th>\n",
       "      <th>solo_Top10s</th>\n",
       "      <th>solo_Top10Ratio</th>\n",
       "      <th>...</th>\n",
       "      <th>squad_RideDistance</th>\n",
       "      <th>squad_MoveDistance</th>\n",
       "      <th>squad_AvgWalkDistance</th>\n",
       "      <th>squad_AvgRideDistance</th>\n",
       "      <th>squad_LongestKill</th>\n",
       "      <th>squad_Heals</th>\n",
       "      <th>squad_Revives</th>\n",
       "      <th>squad_Boosts</th>\n",
       "      <th>squad_DamageDealt</th>\n",
       "      <th>squad_DBNOs</th>\n",
       "    </tr>\n",
       "  </thead>\n",
       "  <tbody>\n",
       "    <tr>\n",
       "      <th>0</th>\n",
       "      <td>BreakNeck</td>\n",
       "      <td>4405</td>\n",
       "      <td>3.14</td>\n",
       "      <td>17.65</td>\n",
       "      <td>18469.14</td>\n",
       "      <td>17</td>\n",
       "      <td>3</td>\n",
       "      <td>0.83</td>\n",
       "      <td>4</td>\n",
       "      <td>23.5</td>\n",
       "      <td>...</td>\n",
       "      <td>3751590.99</td>\n",
       "      <td>5194786.58</td>\n",
       "      <td>2626.97</td>\n",
       "      <td>4372.64</td>\n",
       "      <td>536.98</td>\n",
       "      <td>2186</td>\n",
       "      <td>234</td>\n",
       "      <td>1884</td>\n",
       "      <td>242132.73</td>\n",
       "      <td>1448</td>\n",
       "    </tr>\n",
       "  </tbody>\n",
       "</table>\n",
       "<p>1 rows × 152 columns</p>\n",
       "</div>"
      ],
      "text/plain": [
       "  player_name  tracker_id  solo_KillDeathRatio  solo_WinRatio  \\\n",
       "0   BreakNeck        4405                 3.14          17.65   \n",
       "\n",
       "   solo_TimeSurvived  solo_RoundsPlayed  solo_Wins  solo_WinTop10Ratio  \\\n",
       "0           18469.14                 17          3                0.83   \n",
       "\n",
       "   solo_Top10s  solo_Top10Ratio  ...  squad_RideDistance  squad_MoveDistance  \\\n",
       "0            4             23.5  ...          3751590.99          5194786.58   \n",
       "\n",
       "   squad_AvgWalkDistance  squad_AvgRideDistance  squad_LongestKill  \\\n",
       "0                2626.97                4372.64             536.98   \n",
       "\n",
       "   squad_Heals  squad_Revives  squad_Boosts  squad_DamageDealt  squad_DBNOs  \n",
       "0         2186            234          1884          242132.73         1448  \n",
       "\n",
       "[1 rows x 152 columns]"
      ]
     },
     "execution_count": 21,
     "metadata": {},
     "output_type": "execute_result"
    }
   ],
   "source": [
    "df_bar_pubg.head(1)"
   ]
  },
  {
   "cell_type": "code",
   "execution_count": 26,
   "metadata": {
    "id": "WHbW9jhT25LL",
    "outputId": "d1d281fd-afbd-4f43-d1c1-36ab3420abe4"
   },
   "outputs": [
    {
     "data": {
      "application/vnd.plotly.v1+json": {
       "config": {
        "linkText": "Export to plotly.com",
        "plotlyServerURL": "https://plotly.com",
        "showLink": false
       },
       "data": [
        {
         "marker": {
          "color": [
           17,
           33,
           5,
           8,
           6,
           16,
           142,
           19,
           44,
           8,
           116,
           335,
           87,
           72,
           23,
           3,
           165,
           65,
           16,
           45,
           55,
           45,
           9,
           14,
           277,
           265,
           77,
           52,
           56,
           22
          ],
          "colorscale": [
           [
            0,
            "#440154"
           ],
           [
            0.1111111111111111,
            "#482878"
           ],
           [
            0.2222222222222222,
            "#3e4989"
           ],
           [
            0.3333333333333333,
            "#31688e"
           ],
           [
            0.4444444444444444,
            "#26828e"
           ],
           [
            0.5555555555555556,
            "#1f9e89"
           ],
           [
            0.6666666666666666,
            "#35b779"
           ],
           [
            0.7777777777777778,
            "#6ece58"
           ],
           [
            0.8888888888888888,
            "#b5de2b"
           ],
           [
            1,
            "#fde725"
           ]
          ],
          "opacity": 0.8,
          "size": 12
         },
         "mode": "markers",
         "type": "scatter3d",
         "x": [
          3,
          6,
          0,
          4,
          2,
          5,
          12,
          5,
          6,
          2,
          7,
          4,
          9,
          4,
          3,
          1,
          38,
          12,
          6,
          2,
          7,
          4,
          3,
          2,
          48,
          63,
          4,
          3,
          3,
          2
         ],
         "y": [
          18469.14,
          33014.86,
          4330.44,
          13421.82,
          9841.04,
          22003.22,
          148051.25,
          26091.14,
          49282.41,
          10280.77,
          106330.23,
          232995.54,
          91380.4,
          71910.46,
          30996.86,
          3638.01,
          246771.12,
          87214.43,
          20927.23,
          45916.37,
          62763.42,
          43124.07,
          11733.19,
          18488.62,
          331173.26,
          397022.2,
          87514.41,
          53548.14,
          47966.09,
          25094.18
         ],
         "z": [
          17,
          33,
          5,
          8,
          6,
          16,
          142,
          19,
          44,
          8,
          116,
          335,
          87,
          72,
          23,
          3,
          165,
          65,
          16,
          45,
          55,
          45,
          9,
          14,
          277,
          265,
          77,
          52,
          56,
          22
         ]
        }
       ],
       "layout": {
        "margin": {
         "b": 0,
         "l": 0,
         "r": 0,
         "t": 0
        },
        "template": {
         "data": {
          "bar": [
           {
            "error_x": {
             "color": "#2a3f5f"
            },
            "error_y": {
             "color": "#2a3f5f"
            },
            "marker": {
             "line": {
              "color": "#E5ECF6",
              "width": 0.5
             },
             "pattern": {
              "fillmode": "overlay",
              "size": 10,
              "solidity": 0.2
             }
            },
            "type": "bar"
           }
          ],
          "barpolar": [
           {
            "marker": {
             "line": {
              "color": "#E5ECF6",
              "width": 0.5
             },
             "pattern": {
              "fillmode": "overlay",
              "size": 10,
              "solidity": 0.2
             }
            },
            "type": "barpolar"
           }
          ],
          "carpet": [
           {
            "aaxis": {
             "endlinecolor": "#2a3f5f",
             "gridcolor": "white",
             "linecolor": "white",
             "minorgridcolor": "white",
             "startlinecolor": "#2a3f5f"
            },
            "baxis": {
             "endlinecolor": "#2a3f5f",
             "gridcolor": "white",
             "linecolor": "white",
             "minorgridcolor": "white",
             "startlinecolor": "#2a3f5f"
            },
            "type": "carpet"
           }
          ],
          "choropleth": [
           {
            "colorbar": {
             "outlinewidth": 0,
             "ticks": ""
            },
            "type": "choropleth"
           }
          ],
          "contour": [
           {
            "colorbar": {
             "outlinewidth": 0,
             "ticks": ""
            },
            "colorscale": [
             [
              0,
              "#0d0887"
             ],
             [
              0.1111111111111111,
              "#46039f"
             ],
             [
              0.2222222222222222,
              "#7201a8"
             ],
             [
              0.3333333333333333,
              "#9c179e"
             ],
             [
              0.4444444444444444,
              "#bd3786"
             ],
             [
              0.5555555555555556,
              "#d8576b"
             ],
             [
              0.6666666666666666,
              "#ed7953"
             ],
             [
              0.7777777777777778,
              "#fb9f3a"
             ],
             [
              0.8888888888888888,
              "#fdca26"
             ],
             [
              1,
              "#f0f921"
             ]
            ],
            "type": "contour"
           }
          ],
          "contourcarpet": [
           {
            "colorbar": {
             "outlinewidth": 0,
             "ticks": ""
            },
            "type": "contourcarpet"
           }
          ],
          "heatmap": [
           {
            "colorbar": {
             "outlinewidth": 0,
             "ticks": ""
            },
            "colorscale": [
             [
              0,
              "#0d0887"
             ],
             [
              0.1111111111111111,
              "#46039f"
             ],
             [
              0.2222222222222222,
              "#7201a8"
             ],
             [
              0.3333333333333333,
              "#9c179e"
             ],
             [
              0.4444444444444444,
              "#bd3786"
             ],
             [
              0.5555555555555556,
              "#d8576b"
             ],
             [
              0.6666666666666666,
              "#ed7953"
             ],
             [
              0.7777777777777778,
              "#fb9f3a"
             ],
             [
              0.8888888888888888,
              "#fdca26"
             ],
             [
              1,
              "#f0f921"
             ]
            ],
            "type": "heatmap"
           }
          ],
          "heatmapgl": [
           {
            "colorbar": {
             "outlinewidth": 0,
             "ticks": ""
            },
            "colorscale": [
             [
              0,
              "#0d0887"
             ],
             [
              0.1111111111111111,
              "#46039f"
             ],
             [
              0.2222222222222222,
              "#7201a8"
             ],
             [
              0.3333333333333333,
              "#9c179e"
             ],
             [
              0.4444444444444444,
              "#bd3786"
             ],
             [
              0.5555555555555556,
              "#d8576b"
             ],
             [
              0.6666666666666666,
              "#ed7953"
             ],
             [
              0.7777777777777778,
              "#fb9f3a"
             ],
             [
              0.8888888888888888,
              "#fdca26"
             ],
             [
              1,
              "#f0f921"
             ]
            ],
            "type": "heatmapgl"
           }
          ],
          "histogram": [
           {
            "marker": {
             "pattern": {
              "fillmode": "overlay",
              "size": 10,
              "solidity": 0.2
             }
            },
            "type": "histogram"
           }
          ],
          "histogram2d": [
           {
            "colorbar": {
             "outlinewidth": 0,
             "ticks": ""
            },
            "colorscale": [
             [
              0,
              "#0d0887"
             ],
             [
              0.1111111111111111,
              "#46039f"
             ],
             [
              0.2222222222222222,
              "#7201a8"
             ],
             [
              0.3333333333333333,
              "#9c179e"
             ],
             [
              0.4444444444444444,
              "#bd3786"
             ],
             [
              0.5555555555555556,
              "#d8576b"
             ],
             [
              0.6666666666666666,
              "#ed7953"
             ],
             [
              0.7777777777777778,
              "#fb9f3a"
             ],
             [
              0.8888888888888888,
              "#fdca26"
             ],
             [
              1,
              "#f0f921"
             ]
            ],
            "type": "histogram2d"
           }
          ],
          "histogram2dcontour": [
           {
            "colorbar": {
             "outlinewidth": 0,
             "ticks": ""
            },
            "colorscale": [
             [
              0,
              "#0d0887"
             ],
             [
              0.1111111111111111,
              "#46039f"
             ],
             [
              0.2222222222222222,
              "#7201a8"
             ],
             [
              0.3333333333333333,
              "#9c179e"
             ],
             [
              0.4444444444444444,
              "#bd3786"
             ],
             [
              0.5555555555555556,
              "#d8576b"
             ],
             [
              0.6666666666666666,
              "#ed7953"
             ],
             [
              0.7777777777777778,
              "#fb9f3a"
             ],
             [
              0.8888888888888888,
              "#fdca26"
             ],
             [
              1,
              "#f0f921"
             ]
            ],
            "type": "histogram2dcontour"
           }
          ],
          "mesh3d": [
           {
            "colorbar": {
             "outlinewidth": 0,
             "ticks": ""
            },
            "type": "mesh3d"
           }
          ],
          "parcoords": [
           {
            "line": {
             "colorbar": {
              "outlinewidth": 0,
              "ticks": ""
             }
            },
            "type": "parcoords"
           }
          ],
          "pie": [
           {
            "automargin": true,
            "type": "pie"
           }
          ],
          "scatter": [
           {
            "fillpattern": {
             "fillmode": "overlay",
             "size": 10,
             "solidity": 0.2
            },
            "type": "scatter"
           }
          ],
          "scatter3d": [
           {
            "line": {
             "colorbar": {
              "outlinewidth": 0,
              "ticks": ""
             }
            },
            "marker": {
             "colorbar": {
              "outlinewidth": 0,
              "ticks": ""
             }
            },
            "type": "scatter3d"
           }
          ],
          "scattercarpet": [
           {
            "marker": {
             "colorbar": {
              "outlinewidth": 0,
              "ticks": ""
             }
            },
            "type": "scattercarpet"
           }
          ],
          "scattergeo": [
           {
            "marker": {
             "colorbar": {
              "outlinewidth": 0,
              "ticks": ""
             }
            },
            "type": "scattergeo"
           }
          ],
          "scattergl": [
           {
            "marker": {
             "colorbar": {
              "outlinewidth": 0,
              "ticks": ""
             }
            },
            "type": "scattergl"
           }
          ],
          "scattermapbox": [
           {
            "marker": {
             "colorbar": {
              "outlinewidth": 0,
              "ticks": ""
             }
            },
            "type": "scattermapbox"
           }
          ],
          "scatterpolar": [
           {
            "marker": {
             "colorbar": {
              "outlinewidth": 0,
              "ticks": ""
             }
            },
            "type": "scatterpolar"
           }
          ],
          "scatterpolargl": [
           {
            "marker": {
             "colorbar": {
              "outlinewidth": 0,
              "ticks": ""
             }
            },
            "type": "scatterpolargl"
           }
          ],
          "scatterternary": [
           {
            "marker": {
             "colorbar": {
              "outlinewidth": 0,
              "ticks": ""
             }
            },
            "type": "scatterternary"
           }
          ],
          "surface": [
           {
            "colorbar": {
             "outlinewidth": 0,
             "ticks": ""
            },
            "colorscale": [
             [
              0,
              "#0d0887"
             ],
             [
              0.1111111111111111,
              "#46039f"
             ],
             [
              0.2222222222222222,
              "#7201a8"
             ],
             [
              0.3333333333333333,
              "#9c179e"
             ],
             [
              0.4444444444444444,
              "#bd3786"
             ],
             [
              0.5555555555555556,
              "#d8576b"
             ],
             [
              0.6666666666666666,
              "#ed7953"
             ],
             [
              0.7777777777777778,
              "#fb9f3a"
             ],
             [
              0.8888888888888888,
              "#fdca26"
             ],
             [
              1,
              "#f0f921"
             ]
            ],
            "type": "surface"
           }
          ],
          "table": [
           {
            "cells": {
             "fill": {
              "color": "#EBF0F8"
             },
             "line": {
              "color": "white"
             }
            },
            "header": {
             "fill": {
              "color": "#C8D4E3"
             },
             "line": {
              "color": "white"
             }
            },
            "type": "table"
           }
          ]
         },
         "layout": {
          "annotationdefaults": {
           "arrowcolor": "#2a3f5f",
           "arrowhead": 0,
           "arrowwidth": 1
          },
          "autotypenumbers": "strict",
          "coloraxis": {
           "colorbar": {
            "outlinewidth": 0,
            "ticks": ""
           }
          },
          "colorscale": {
           "diverging": [
            [
             0,
             "#8e0152"
            ],
            [
             0.1,
             "#c51b7d"
            ],
            [
             0.2,
             "#de77ae"
            ],
            [
             0.3,
             "#f1b6da"
            ],
            [
             0.4,
             "#fde0ef"
            ],
            [
             0.5,
             "#f7f7f7"
            ],
            [
             0.6,
             "#e6f5d0"
            ],
            [
             0.7,
             "#b8e186"
            ],
            [
             0.8,
             "#7fbc41"
            ],
            [
             0.9,
             "#4d9221"
            ],
            [
             1,
             "#276419"
            ]
           ],
           "sequential": [
            [
             0,
             "#0d0887"
            ],
            [
             0.1111111111111111,
             "#46039f"
            ],
            [
             0.2222222222222222,
             "#7201a8"
            ],
            [
             0.3333333333333333,
             "#9c179e"
            ],
            [
             0.4444444444444444,
             "#bd3786"
            ],
            [
             0.5555555555555556,
             "#d8576b"
            ],
            [
             0.6666666666666666,
             "#ed7953"
            ],
            [
             0.7777777777777778,
             "#fb9f3a"
            ],
            [
             0.8888888888888888,
             "#fdca26"
            ],
            [
             1,
             "#f0f921"
            ]
           ],
           "sequentialminus": [
            [
             0,
             "#0d0887"
            ],
            [
             0.1111111111111111,
             "#46039f"
            ],
            [
             0.2222222222222222,
             "#7201a8"
            ],
            [
             0.3333333333333333,
             "#9c179e"
            ],
            [
             0.4444444444444444,
             "#bd3786"
            ],
            [
             0.5555555555555556,
             "#d8576b"
            ],
            [
             0.6666666666666666,
             "#ed7953"
            ],
            [
             0.7777777777777778,
             "#fb9f3a"
            ],
            [
             0.8888888888888888,
             "#fdca26"
            ],
            [
             1,
             "#f0f921"
            ]
           ]
          },
          "colorway": [
           "#636efa",
           "#EF553B",
           "#00cc96",
           "#ab63fa",
           "#FFA15A",
           "#19d3f3",
           "#FF6692",
           "#B6E880",
           "#FF97FF",
           "#FECB52"
          ],
          "font": {
           "color": "#2a3f5f"
          },
          "geo": {
           "bgcolor": "white",
           "lakecolor": "white",
           "landcolor": "#E5ECF6",
           "showlakes": true,
           "showland": true,
           "subunitcolor": "white"
          },
          "hoverlabel": {
           "align": "left"
          },
          "hovermode": "closest",
          "mapbox": {
           "style": "light"
          },
          "paper_bgcolor": "white",
          "plot_bgcolor": "#E5ECF6",
          "polar": {
           "angularaxis": {
            "gridcolor": "white",
            "linecolor": "white",
            "ticks": ""
           },
           "bgcolor": "#E5ECF6",
           "radialaxis": {
            "gridcolor": "white",
            "linecolor": "white",
            "ticks": ""
           }
          },
          "scene": {
           "xaxis": {
            "backgroundcolor": "#E5ECF6",
            "gridcolor": "white",
            "gridwidth": 2,
            "linecolor": "white",
            "showbackground": true,
            "ticks": "",
            "zerolinecolor": "white"
           },
           "yaxis": {
            "backgroundcolor": "#E5ECF6",
            "gridcolor": "white",
            "gridwidth": 2,
            "linecolor": "white",
            "showbackground": true,
            "ticks": "",
            "zerolinecolor": "white"
           },
           "zaxis": {
            "backgroundcolor": "#E5ECF6",
            "gridcolor": "white",
            "gridwidth": 2,
            "linecolor": "white",
            "showbackground": true,
            "ticks": "",
            "zerolinecolor": "white"
           }
          },
          "shapedefaults": {
           "line": {
            "color": "#2a3f5f"
           }
          },
          "ternary": {
           "aaxis": {
            "gridcolor": "white",
            "linecolor": "white",
            "ticks": ""
           },
           "baxis": {
            "gridcolor": "white",
            "linecolor": "white",
            "ticks": ""
           },
           "bgcolor": "#E5ECF6",
           "caxis": {
            "gridcolor": "white",
            "linecolor": "white",
            "ticks": ""
           }
          },
          "title": {
           "x": 0.05
          },
          "xaxis": {
           "automargin": true,
           "gridcolor": "white",
           "linecolor": "white",
           "ticks": "",
           "title": {
            "standoff": 15
           },
           "zerolinecolor": "white",
           "zerolinewidth": 2
          },
          "yaxis": {
           "automargin": true,
           "gridcolor": "white",
           "linecolor": "white",
           "ticks": "",
           "title": {
            "standoff": 15
           },
           "zerolinecolor": "white",
           "zerolinewidth": 2
          }
         }
        }
       }
      },
      "text/html": [
       "<div>                            <div id=\"36048187-665d-4289-a13a-51ad04ebc533\" class=\"plotly-graph-div\" style=\"height:525px; width:100%;\"></div>            <script type=\"text/javascript\">                require([\"plotly\"], function(Plotly) {                    window.PLOTLYENV=window.PLOTLYENV || {};                                    if (document.getElementById(\"36048187-665d-4289-a13a-51ad04ebc533\")) {                    Plotly.newPlot(                        \"36048187-665d-4289-a13a-51ad04ebc533\",                        [{\"marker\":{\"color\":[17,33,5,8,6,16,142,19,44,8,116,335,87,72,23,3,165,65,16,45,55,45,9,14,277,265,77,52,56,22],\"colorscale\":[[0.0,\"#440154\"],[0.1111111111111111,\"#482878\"],[0.2222222222222222,\"#3e4989\"],[0.3333333333333333,\"#31688e\"],[0.4444444444444444,\"#26828e\"],[0.5555555555555556,\"#1f9e89\"],[0.6666666666666666,\"#35b779\"],[0.7777777777777778,\"#6ece58\"],[0.8888888888888888,\"#b5de2b\"],[1.0,\"#fde725\"]],\"opacity\":0.8,\"size\":12},\"mode\":\"markers\",\"x\":[3,6,0,4,2,5,12,5,6,2,7,4,9,4,3,1,38,12,6,2,7,4,3,2,48,63,4,3,3,2],\"y\":[18469.14,33014.86,4330.44,13421.82,9841.04,22003.22,148051.25,26091.14,49282.41,10280.77,106330.23,232995.54,91380.4,71910.46,30996.86,3638.01,246771.12,87214.43,20927.23,45916.37,62763.42,43124.07,11733.19,18488.62,331173.26,397022.2,87514.41,53548.14,47966.09,25094.18],\"z\":[17,33,5,8,6,16,142,19,44,8,116,335,87,72,23,3,165,65,16,45,55,45,9,14,277,265,77,52,56,22],\"type\":\"scatter3d\"}],                        {\"margin\":{\"b\":0,\"l\":0,\"r\":0,\"t\":0},\"template\":{\"data\":{\"barpolar\":[{\"marker\":{\"line\":{\"color\":\"#E5ECF6\",\"width\":0.5},\"pattern\":{\"fillmode\":\"overlay\",\"size\":10,\"solidity\":0.2}},\"type\":\"barpolar\"}],\"bar\":[{\"error_x\":{\"color\":\"#2a3f5f\"},\"error_y\":{\"color\":\"#2a3f5f\"},\"marker\":{\"line\":{\"color\":\"#E5ECF6\",\"width\":0.5},\"pattern\":{\"fillmode\":\"overlay\",\"size\":10,\"solidity\":0.2}},\"type\":\"bar\"}],\"carpet\":[{\"aaxis\":{\"endlinecolor\":\"#2a3f5f\",\"gridcolor\":\"white\",\"linecolor\":\"white\",\"minorgridcolor\":\"white\",\"startlinecolor\":\"#2a3f5f\"},\"baxis\":{\"endlinecolor\":\"#2a3f5f\",\"gridcolor\":\"white\",\"linecolor\":\"white\",\"minorgridcolor\":\"white\",\"startlinecolor\":\"#2a3f5f\"},\"type\":\"carpet\"}],\"choropleth\":[{\"colorbar\":{\"outlinewidth\":0,\"ticks\":\"\"},\"type\":\"choropleth\"}],\"contourcarpet\":[{\"colorbar\":{\"outlinewidth\":0,\"ticks\":\"\"},\"type\":\"contourcarpet\"}],\"contour\":[{\"colorbar\":{\"outlinewidth\":0,\"ticks\":\"\"},\"colorscale\":[[0.0,\"#0d0887\"],[0.1111111111111111,\"#46039f\"],[0.2222222222222222,\"#7201a8\"],[0.3333333333333333,\"#9c179e\"],[0.4444444444444444,\"#bd3786\"],[0.5555555555555556,\"#d8576b\"],[0.6666666666666666,\"#ed7953\"],[0.7777777777777778,\"#fb9f3a\"],[0.8888888888888888,\"#fdca26\"],[1.0,\"#f0f921\"]],\"type\":\"contour\"}],\"heatmapgl\":[{\"colorbar\":{\"outlinewidth\":0,\"ticks\":\"\"},\"colorscale\":[[0.0,\"#0d0887\"],[0.1111111111111111,\"#46039f\"],[0.2222222222222222,\"#7201a8\"],[0.3333333333333333,\"#9c179e\"],[0.4444444444444444,\"#bd3786\"],[0.5555555555555556,\"#d8576b\"],[0.6666666666666666,\"#ed7953\"],[0.7777777777777778,\"#fb9f3a\"],[0.8888888888888888,\"#fdca26\"],[1.0,\"#f0f921\"]],\"type\":\"heatmapgl\"}],\"heatmap\":[{\"colorbar\":{\"outlinewidth\":0,\"ticks\":\"\"},\"colorscale\":[[0.0,\"#0d0887\"],[0.1111111111111111,\"#46039f\"],[0.2222222222222222,\"#7201a8\"],[0.3333333333333333,\"#9c179e\"],[0.4444444444444444,\"#bd3786\"],[0.5555555555555556,\"#d8576b\"],[0.6666666666666666,\"#ed7953\"],[0.7777777777777778,\"#fb9f3a\"],[0.8888888888888888,\"#fdca26\"],[1.0,\"#f0f921\"]],\"type\":\"heatmap\"}],\"histogram2dcontour\":[{\"colorbar\":{\"outlinewidth\":0,\"ticks\":\"\"},\"colorscale\":[[0.0,\"#0d0887\"],[0.1111111111111111,\"#46039f\"],[0.2222222222222222,\"#7201a8\"],[0.3333333333333333,\"#9c179e\"],[0.4444444444444444,\"#bd3786\"],[0.5555555555555556,\"#d8576b\"],[0.6666666666666666,\"#ed7953\"],[0.7777777777777778,\"#fb9f3a\"],[0.8888888888888888,\"#fdca26\"],[1.0,\"#f0f921\"]],\"type\":\"histogram2dcontour\"}],\"histogram2d\":[{\"colorbar\":{\"outlinewidth\":0,\"ticks\":\"\"},\"colorscale\":[[0.0,\"#0d0887\"],[0.1111111111111111,\"#46039f\"],[0.2222222222222222,\"#7201a8\"],[0.3333333333333333,\"#9c179e\"],[0.4444444444444444,\"#bd3786\"],[0.5555555555555556,\"#d8576b\"],[0.6666666666666666,\"#ed7953\"],[0.7777777777777778,\"#fb9f3a\"],[0.8888888888888888,\"#fdca26\"],[1.0,\"#f0f921\"]],\"type\":\"histogram2d\"}],\"histogram\":[{\"marker\":{\"pattern\":{\"fillmode\":\"overlay\",\"size\":10,\"solidity\":0.2}},\"type\":\"histogram\"}],\"mesh3d\":[{\"colorbar\":{\"outlinewidth\":0,\"ticks\":\"\"},\"type\":\"mesh3d\"}],\"parcoords\":[{\"line\":{\"colorbar\":{\"outlinewidth\":0,\"ticks\":\"\"}},\"type\":\"parcoords\"}],\"pie\":[{\"automargin\":true,\"type\":\"pie\"}],\"scatter3d\":[{\"line\":{\"colorbar\":{\"outlinewidth\":0,\"ticks\":\"\"}},\"marker\":{\"colorbar\":{\"outlinewidth\":0,\"ticks\":\"\"}},\"type\":\"scatter3d\"}],\"scattercarpet\":[{\"marker\":{\"colorbar\":{\"outlinewidth\":0,\"ticks\":\"\"}},\"type\":\"scattercarpet\"}],\"scattergeo\":[{\"marker\":{\"colorbar\":{\"outlinewidth\":0,\"ticks\":\"\"}},\"type\":\"scattergeo\"}],\"scattergl\":[{\"marker\":{\"colorbar\":{\"outlinewidth\":0,\"ticks\":\"\"}},\"type\":\"scattergl\"}],\"scattermapbox\":[{\"marker\":{\"colorbar\":{\"outlinewidth\":0,\"ticks\":\"\"}},\"type\":\"scattermapbox\"}],\"scatterpolargl\":[{\"marker\":{\"colorbar\":{\"outlinewidth\":0,\"ticks\":\"\"}},\"type\":\"scatterpolargl\"}],\"scatterpolar\":[{\"marker\":{\"colorbar\":{\"outlinewidth\":0,\"ticks\":\"\"}},\"type\":\"scatterpolar\"}],\"scatter\":[{\"fillpattern\":{\"fillmode\":\"overlay\",\"size\":10,\"solidity\":0.2},\"type\":\"scatter\"}],\"scatterternary\":[{\"marker\":{\"colorbar\":{\"outlinewidth\":0,\"ticks\":\"\"}},\"type\":\"scatterternary\"}],\"surface\":[{\"colorbar\":{\"outlinewidth\":0,\"ticks\":\"\"},\"colorscale\":[[0.0,\"#0d0887\"],[0.1111111111111111,\"#46039f\"],[0.2222222222222222,\"#7201a8\"],[0.3333333333333333,\"#9c179e\"],[0.4444444444444444,\"#bd3786\"],[0.5555555555555556,\"#d8576b\"],[0.6666666666666666,\"#ed7953\"],[0.7777777777777778,\"#fb9f3a\"],[0.8888888888888888,\"#fdca26\"],[1.0,\"#f0f921\"]],\"type\":\"surface\"}],\"table\":[{\"cells\":{\"fill\":{\"color\":\"#EBF0F8\"},\"line\":{\"color\":\"white\"}},\"header\":{\"fill\":{\"color\":\"#C8D4E3\"},\"line\":{\"color\":\"white\"}},\"type\":\"table\"}]},\"layout\":{\"annotationdefaults\":{\"arrowcolor\":\"#2a3f5f\",\"arrowhead\":0,\"arrowwidth\":1},\"autotypenumbers\":\"strict\",\"coloraxis\":{\"colorbar\":{\"outlinewidth\":0,\"ticks\":\"\"}},\"colorscale\":{\"diverging\":[[0,\"#8e0152\"],[0.1,\"#c51b7d\"],[0.2,\"#de77ae\"],[0.3,\"#f1b6da\"],[0.4,\"#fde0ef\"],[0.5,\"#f7f7f7\"],[0.6,\"#e6f5d0\"],[0.7,\"#b8e186\"],[0.8,\"#7fbc41\"],[0.9,\"#4d9221\"],[1,\"#276419\"]],\"sequential\":[[0.0,\"#0d0887\"],[0.1111111111111111,\"#46039f\"],[0.2222222222222222,\"#7201a8\"],[0.3333333333333333,\"#9c179e\"],[0.4444444444444444,\"#bd3786\"],[0.5555555555555556,\"#d8576b\"],[0.6666666666666666,\"#ed7953\"],[0.7777777777777778,\"#fb9f3a\"],[0.8888888888888888,\"#fdca26\"],[1.0,\"#f0f921\"]],\"sequentialminus\":[[0.0,\"#0d0887\"],[0.1111111111111111,\"#46039f\"],[0.2222222222222222,\"#7201a8\"],[0.3333333333333333,\"#9c179e\"],[0.4444444444444444,\"#bd3786\"],[0.5555555555555556,\"#d8576b\"],[0.6666666666666666,\"#ed7953\"],[0.7777777777777778,\"#fb9f3a\"],[0.8888888888888888,\"#fdca26\"],[1.0,\"#f0f921\"]]},\"colorway\":[\"#636efa\",\"#EF553B\",\"#00cc96\",\"#ab63fa\",\"#FFA15A\",\"#19d3f3\",\"#FF6692\",\"#B6E880\",\"#FF97FF\",\"#FECB52\"],\"font\":{\"color\":\"#2a3f5f\"},\"geo\":{\"bgcolor\":\"white\",\"lakecolor\":\"white\",\"landcolor\":\"#E5ECF6\",\"showlakes\":true,\"showland\":true,\"subunitcolor\":\"white\"},\"hoverlabel\":{\"align\":\"left\"},\"hovermode\":\"closest\",\"mapbox\":{\"style\":\"light\"},\"paper_bgcolor\":\"white\",\"plot_bgcolor\":\"#E5ECF6\",\"polar\":{\"angularaxis\":{\"gridcolor\":\"white\",\"linecolor\":\"white\",\"ticks\":\"\"},\"bgcolor\":\"#E5ECF6\",\"radialaxis\":{\"gridcolor\":\"white\",\"linecolor\":\"white\",\"ticks\":\"\"}},\"scene\":{\"xaxis\":{\"backgroundcolor\":\"#E5ECF6\",\"gridcolor\":\"white\",\"gridwidth\":2,\"linecolor\":\"white\",\"showbackground\":true,\"ticks\":\"\",\"zerolinecolor\":\"white\"},\"yaxis\":{\"backgroundcolor\":\"#E5ECF6\",\"gridcolor\":\"white\",\"gridwidth\":2,\"linecolor\":\"white\",\"showbackground\":true,\"ticks\":\"\",\"zerolinecolor\":\"white\"},\"zaxis\":{\"backgroundcolor\":\"#E5ECF6\",\"gridcolor\":\"white\",\"gridwidth\":2,\"linecolor\":\"white\",\"showbackground\":true,\"ticks\":\"\",\"zerolinecolor\":\"white\"}},\"shapedefaults\":{\"line\":{\"color\":\"#2a3f5f\"}},\"ternary\":{\"aaxis\":{\"gridcolor\":\"white\",\"linecolor\":\"white\",\"ticks\":\"\"},\"baxis\":{\"gridcolor\":\"white\",\"linecolor\":\"white\",\"ticks\":\"\"},\"bgcolor\":\"#E5ECF6\",\"caxis\":{\"gridcolor\":\"white\",\"linecolor\":\"white\",\"ticks\":\"\"}},\"title\":{\"x\":0.05},\"xaxis\":{\"automargin\":true,\"gridcolor\":\"white\",\"linecolor\":\"white\",\"ticks\":\"\",\"title\":{\"standoff\":15},\"zerolinecolor\":\"white\",\"zerolinewidth\":2},\"yaxis\":{\"automargin\":true,\"gridcolor\":\"white\",\"linecolor\":\"white\",\"ticks\":\"\",\"title\":{\"standoff\":15},\"zerolinecolor\":\"white\",\"zerolinewidth\":2}}}},                        {\"responsive\": true}                    ).then(function(){\n",
       "                            \n",
       "var gd = document.getElementById('36048187-665d-4289-a13a-51ad04ebc533');\n",
       "var x = new MutationObserver(function (mutations, observer) {{\n",
       "        var display = window.getComputedStyle(gd).display;\n",
       "        if (!display || display === 'none') {{\n",
       "            console.log([gd, 'removed!']);\n",
       "            Plotly.purge(gd);\n",
       "            observer.disconnect();\n",
       "        }}\n",
       "}});\n",
       "\n",
       "// Listen for the removal of the full notebook cells\n",
       "var notebookContainer = gd.closest('#notebook-container');\n",
       "if (notebookContainer) {{\n",
       "    x.observe(notebookContainer, {childList: true});\n",
       "}}\n",
       "\n",
       "// Listen for the clearing of the current output cell\n",
       "var outputEl = gd.closest('.output');\n",
       "if (outputEl) {{\n",
       "    x.observe(outputEl, {childList: true});\n",
       "}}\n",
       "\n",
       "                        })                };                });            </script>        </div>"
      ]
     },
     "metadata": {},
     "output_type": "display_data"
    }
   ],
   "source": [
    "#3D Plotly visualization\n",
    "import chart_studio\n",
    "\n",
    "chart_studio.tools.set_credentials_file(username='DemoAccount', api_key='lr1c37zw81')\n",
    "\n",
    "x = df_bar_pubg['solo_Wins']\n",
    "y = df_bar_pubg['solo_TimeSurvived']\n",
    "z = df_bar_pubg['solo_RoundsPlayed']\n",
    "\n",
    "trace1 = go.Scatter3d(\n",
    "    x=x,\n",
    "    y=y,\n",
    "    z=z,\n",
    "    mode='markers',\n",
    "    marker=dict(\n",
    "    size=12,\n",
    "    color=z,\n",
    "    colorscale='Viridis',\n",
    "    opacity=0.8))\n",
    "\n",
    "data = [trace1]\n",
    "layout = go.Layout(\n",
    "    margin=dict(\n",
    "    l=0,\n",
    "    r=0,\n",
    "    b=0,\n",
    "    t=0)\n",
    ")\n",
    "\n",
    "fig = go.Figure(data=data, layout=layout)\n",
    "iplot(fig, filename='3d-pubg-plot')"
   ]
  },
  {
   "cell_type": "code",
   "execution_count": 27,
   "metadata": {
    "id": "mGWSk0eL25LM",
    "outputId": "4337eb81-c84b-4d17-c186-2bcd5d1fadd2"
   },
   "outputs": [
    {
     "data": {
      "application/vnd.plotly.v1+json": {
       "config": {
        "linkText": "Export to plotly.com",
        "plotlyServerURL": "https://plotly.com",
        "showLink": false
       },
       "data": [
        {
         "boxpoints": "all",
         "fillcolor": "rgba(93, 164, 214, 0.5)",
         "jitter": 0.5,
         "line": {
          "width": 1
         },
         "marker": {
          "size": 2
         },
         "name": "Carmelo Anthony",
         "type": "box",
         "whiskerwidth": 0.2,
         "y": [
          -0.8310576857284615,
          -1.189588484717783,
          -0.2658406571931402,
          -0.6140374310049062,
          -1.8668023165668015,
          -0.2972644867350517,
          -2.0439228801921008,
          -1.3934075462130395,
          -1.1473105199474904,
          -1.017376815124706,
          -1.8219396531404541,
          -1.3452083937410617,
          -1.13233552045324,
          -0.46374244167395795,
          -0.44052157785009505,
          0.24807463494613424,
          -1.4159148648175162,
          0.0698976185465745,
          -2.0463352292741006,
          0.15257821174909147,
          -1.110704079374558,
          -1.906446190810837,
          -1.7980389626163764,
          -0.8233807248718397,
          -0.2687409192224065,
          -1.5745465054071144,
          -1.5581102344079834,
          -1.7736474715445518,
          -1.7117305625534192,
          -0.8782073918971355,
          -1.344915387347341,
          1.222713782487852,
          -1.3148541617104423,
          -1.195131277657781,
          -1.5655524667279672,
          -1.1556859156718866,
          -0.8720858410618588,
          -3.1486333914629903,
          -1.0779196670429172,
          0.6421333760334698,
          0.3921062794580845,
          -2.4807831269089506,
          1.5547187617550828,
          -2.2242075315723175,
          -2.150545181667337,
          -0.19977490471749504,
          0.33123999251668734,
          -0.31108326282674637,
          -1.1954596712138001,
          -2.081723283092062
         ]
        },
        {
         "boxpoints": "all",
         "fillcolor": "rgba(255, 144, 14, 0.5)",
         "jitter": 0.5,
         "line": {
          "width": 1
         },
         "marker": {
          "size": 2
         },
         "name": "Dwyane Wade",
         "type": "box",
         "whiskerwidth": 0.2,
         "y": [
          0.7067844460374703,
          1.889956008681505,
          0.572793409205504,
          4.153715148669514,
          0.9942915145961162,
          1.97391928833005,
          1.7703185149533782,
          1.5420477286121343,
          1.0529377162520925,
          2.1607046502221228,
          1.1981498563401778,
          -1.0097577825543191,
          1.5792135419980216,
          0.9488830122335146,
          2.609362192562404,
          1.4516815815752055,
          -0.5251112523952324,
          0.00019865345811520552,
          0.5464897255419188,
          1.7098683804232393,
          2.882456637676901,
          0.24238601875304056,
          0.5531714595336453,
          0.453601434932273,
          2.9097817077645987,
          -1.9651649962671058,
          0.032487126749428774,
          1.5430810593193047,
          0.9255109563322814,
          -0.35206250959063157,
          1.2436632268297447,
          -0.11230480714392077,
          0.21898267876816768,
          1.016268922397719,
          1.1944579473862167,
          -0.18775556925526038,
          0.36603313415418737,
          0.5021584684227685,
          0.21387705222681852,
          0.7739005043096104,
          0.6763198113741815,
          -0.3615618680490831,
          -0.6198184558278819,
          1.4217327422587236,
          2.01304702242998,
          -0.9891459220009053,
          1.1687183423905687,
          -0.970281990686229,
          -0.03883600210514371,
          -1.5594319069640648
         ]
        },
        {
         "boxpoints": "all",
         "fillcolor": "rgba(44, 160, 101, 0.5)",
         "jitter": 0.5,
         "line": {
          "width": 1
         },
         "marker": {
          "size": 2
         },
         "name": "Deron Williams",
         "type": "box",
         "whiskerwidth": 0.2,
         "y": [
          0.3448834165590591,
          0.8417382668000007,
          -0.5372126320428544,
          -1.864397643024247,
          0.992983459776133,
          -0.4164208376213312,
          -0.774340141570989,
          0.9921642024671067,
          0.13018703498251688,
          1.321326175646752,
          -1.6619977059291933,
          -0.8110717670121004,
          0.44239480354884414,
          1.7959446940254442,
          0.21640763400756788,
          -1.748360782753007,
          -1.0766079108153521,
          -0.05544512025566217,
          -0.2626224320482883,
          -1.7063548430350874,
          -0.7721224146869673,
          0.0074901841186996885,
          0.7017253422041616,
          0.8605488359059679,
          -0.8441247550415435,
          0.42374253484049024,
          0.6409368311863299,
          1.4873057770021296,
          -1.9718989647450198,
          -1.2348984766070283,
          1.2746152518621607,
          -1.680624563001623,
          -1.6318010143654231,
          -0.799350675327718,
          0.581181138852499,
          -0.05830715491471207,
          -0.7752000343239355,
          0.6674581604618974,
          0.3564376636499844,
          1.0874972869503257,
          -0.525223566360451,
          -1.1771159514566554,
          -0.039349201146582254,
          0.49029908030701047,
          0.7191326413266647,
          1.5034712415208136,
          -2.119703072314202,
          -0.793738597635568,
          0.22619301140930453,
          -2.0468397736527395
         ]
        },
        {
         "boxpoints": "all",
         "fillcolor": "rgba(255, 65, 54, 0.5)",
         "jitter": 0.5,
         "line": {
          "width": 1
         },
         "marker": {
          "size": 2
         },
         "name": "Brook Lopez",
         "type": "box",
         "whiskerwidth": 0.2,
         "y": [
          1.4639676088280766,
          3.1207501714520216,
          2.15572827720871,
          0.3199525504579652,
          3.2098302059375325,
          0.15266771582317373,
          2.511441603415203,
          2.1675718122396597,
          0.8942204699537775,
          3.3207622825076304,
          2.2745591885834964,
          1.8166005455097582,
          1.07957380523886,
          1.6778948161284377,
          2.521746612376876,
          3.001010290345368,
          1.3695389817857633,
          1.4663732253901636,
          -1.5311387738723323,
          2.253446326123962,
          2.5322541454448406,
          4.181454670772876,
          0.5982376981728388,
          3.7075215097378793,
          3.2541945582682685,
          0.6384749860603844,
          3.5104494444218064,
          2.448401379366446,
          2.346080934464609,
          1.6775812407368866,
          2.5163205710528813,
          3.6491954182339073,
          2.058785623866125,
          1.1544991892389298,
          0.3596398697366445,
          1.8379130473098009,
          2.9444041288420713,
          1.4330965041370936,
          1.0167321824598703,
          1.2259531848737417,
          0.6216095377986464,
          0.1241100946575382,
          2.3840807714704546,
          2.490310495831587,
          3.0321212862031697,
          1.8095547708414388,
          1.793951681328708,
          2.1875896527364374,
          1.1269186508629536,
          2.2332850280254615
         ]
        },
        {
         "boxpoints": "all",
         "fillcolor": "rgba(207, 114, 255, 0.5)",
         "jitter": 0.5,
         "line": {
          "width": 1
         },
         "marker": {
          "size": 2
         },
         "name": "Damian Lillard",
         "type": "box",
         "whiskerwidth": 0.2,
         "y": [
          -2.6708502631154443,
          -2.4078044469538122,
          -1.2430448322373757,
          -2.354409639311243,
          -1.6616825026602835,
          -1.1959023818438606,
          -1.5476288941614489,
          -4.272879412641814,
          -3.7752131680223826,
          -2.753834420850498,
          -3.9106739993248794,
          -3.1054283001247738,
          -3.2789541432904388,
          -2.641644117099975,
          -0.08509510487620187,
          -1.5332968956019422,
          -2.1715504162503914,
          -1.9283636560971282,
          -2.1270500600055686,
          -1.9983611461518758,
          -1.4910006413254093,
          -1.1114015014398704,
          -3.1555405269450785,
          -0.7410245173243062,
          -2.9064053481098173,
          -1.7627211295964826,
          -4.143355823479348,
          -1.7014857913771393,
          -1.5406355364663389,
          -1.9461279367256663,
          -2.598222744939148,
          -2.344694914309432,
          -2.0763302689175354,
          -3.131440460050489,
          -1.3059811005154645,
          -3.2092531665243147,
          -1.8607220318782944,
          0.7062939079137442,
          -1.3480748954069703,
          -1.1988338242474845,
          -4.503851121725907,
          -2.4007932245224963,
          -3.0445468617528872,
          -0.6633625691976519,
          -1.0788915472119884,
          -0.41127403022239317,
          -2.534870529247005,
          -0.507063264235855,
          -1.6564795465633988,
          -1.9861170146312654
         ]
        },
        {
         "boxpoints": "all",
         "fillcolor": "rgba(127, 96, 0, 0.5)",
         "jitter": 0.5,
         "line": {
          "width": 1
         },
         "marker": {
          "size": 2
         },
         "name": "David West",
         "type": "box",
         "whiskerwidth": 0.2,
         "y": [
          3.642254062857036,
          2.876650892963424,
          4.572541430999331,
          4.102306196732955,
          3.4003559879380685,
          3.0882285257025166,
          1.9100511789634338,
          2.7180042706391188,
          4.3978256142197525,
          3.0081751918269006,
          1.399082202982522,
          1.9644299260371643,
          1.0907977584941055,
          1.7896976078840847,
          4.452729086768746,
          5.643355027061332,
          2.4890285729606783,
          3.5819814206125025,
          3.208685479089104,
          2.351938118003292,
          4.86242431091433,
          1.8125556926551853,
          2.91103321118611,
          1.5670474525310258,
          2.7779371069814864,
          2.6297168601293572,
          3.477510224434883,
          4.337025443523947,
          2.9648840163812844,
          4.577470150578816,
          2.796499350117595,
          2.0821008814470736,
          5.359734123975144,
          3.986745606051657,
          2.36829476203836,
          1.46774380937644,
          2.4857492768055027,
          2.0010704788820157,
          4.48793281798247,
          3.5699943869203943,
          0.33011273903161475,
          2.7785242376443686,
          4.865927812914075,
          2.9461559021582038,
          2.1493391675303717,
          0.25940404985479537,
          2.76135951847833,
          0.875201247956686,
          1.2471276920035976,
          4.298195011058263
         ]
        }
       ],
       "layout": {
        "margin": {
         "b": 80,
         "l": 40,
         "r": 30,
         "t": 100
        },
        "paper_bgcolor": "rgb(243, 243, 243)",
        "plot_bgcolor": "rgb(243, 243, 243)",
        "showlegend": false,
        "template": {
         "data": {
          "bar": [
           {
            "error_x": {
             "color": "#2a3f5f"
            },
            "error_y": {
             "color": "#2a3f5f"
            },
            "marker": {
             "line": {
              "color": "#E5ECF6",
              "width": 0.5
             },
             "pattern": {
              "fillmode": "overlay",
              "size": 10,
              "solidity": 0.2
             }
            },
            "type": "bar"
           }
          ],
          "barpolar": [
           {
            "marker": {
             "line": {
              "color": "#E5ECF6",
              "width": 0.5
             },
             "pattern": {
              "fillmode": "overlay",
              "size": 10,
              "solidity": 0.2
             }
            },
            "type": "barpolar"
           }
          ],
          "carpet": [
           {
            "aaxis": {
             "endlinecolor": "#2a3f5f",
             "gridcolor": "white",
             "linecolor": "white",
             "minorgridcolor": "white",
             "startlinecolor": "#2a3f5f"
            },
            "baxis": {
             "endlinecolor": "#2a3f5f",
             "gridcolor": "white",
             "linecolor": "white",
             "minorgridcolor": "white",
             "startlinecolor": "#2a3f5f"
            },
            "type": "carpet"
           }
          ],
          "choropleth": [
           {
            "colorbar": {
             "outlinewidth": 0,
             "ticks": ""
            },
            "type": "choropleth"
           }
          ],
          "contour": [
           {
            "colorbar": {
             "outlinewidth": 0,
             "ticks": ""
            },
            "colorscale": [
             [
              0,
              "#0d0887"
             ],
             [
              0.1111111111111111,
              "#46039f"
             ],
             [
              0.2222222222222222,
              "#7201a8"
             ],
             [
              0.3333333333333333,
              "#9c179e"
             ],
             [
              0.4444444444444444,
              "#bd3786"
             ],
             [
              0.5555555555555556,
              "#d8576b"
             ],
             [
              0.6666666666666666,
              "#ed7953"
             ],
             [
              0.7777777777777778,
              "#fb9f3a"
             ],
             [
              0.8888888888888888,
              "#fdca26"
             ],
             [
              1,
              "#f0f921"
             ]
            ],
            "type": "contour"
           }
          ],
          "contourcarpet": [
           {
            "colorbar": {
             "outlinewidth": 0,
             "ticks": ""
            },
            "type": "contourcarpet"
           }
          ],
          "heatmap": [
           {
            "colorbar": {
             "outlinewidth": 0,
             "ticks": ""
            },
            "colorscale": [
             [
              0,
              "#0d0887"
             ],
             [
              0.1111111111111111,
              "#46039f"
             ],
             [
              0.2222222222222222,
              "#7201a8"
             ],
             [
              0.3333333333333333,
              "#9c179e"
             ],
             [
              0.4444444444444444,
              "#bd3786"
             ],
             [
              0.5555555555555556,
              "#d8576b"
             ],
             [
              0.6666666666666666,
              "#ed7953"
             ],
             [
              0.7777777777777778,
              "#fb9f3a"
             ],
             [
              0.8888888888888888,
              "#fdca26"
             ],
             [
              1,
              "#f0f921"
             ]
            ],
            "type": "heatmap"
           }
          ],
          "heatmapgl": [
           {
            "colorbar": {
             "outlinewidth": 0,
             "ticks": ""
            },
            "colorscale": [
             [
              0,
              "#0d0887"
             ],
             [
              0.1111111111111111,
              "#46039f"
             ],
             [
              0.2222222222222222,
              "#7201a8"
             ],
             [
              0.3333333333333333,
              "#9c179e"
             ],
             [
              0.4444444444444444,
              "#bd3786"
             ],
             [
              0.5555555555555556,
              "#d8576b"
             ],
             [
              0.6666666666666666,
              "#ed7953"
             ],
             [
              0.7777777777777778,
              "#fb9f3a"
             ],
             [
              0.8888888888888888,
              "#fdca26"
             ],
             [
              1,
              "#f0f921"
             ]
            ],
            "type": "heatmapgl"
           }
          ],
          "histogram": [
           {
            "marker": {
             "pattern": {
              "fillmode": "overlay",
              "size": 10,
              "solidity": 0.2
             }
            },
            "type": "histogram"
           }
          ],
          "histogram2d": [
           {
            "colorbar": {
             "outlinewidth": 0,
             "ticks": ""
            },
            "colorscale": [
             [
              0,
              "#0d0887"
             ],
             [
              0.1111111111111111,
              "#46039f"
             ],
             [
              0.2222222222222222,
              "#7201a8"
             ],
             [
              0.3333333333333333,
              "#9c179e"
             ],
             [
              0.4444444444444444,
              "#bd3786"
             ],
             [
              0.5555555555555556,
              "#d8576b"
             ],
             [
              0.6666666666666666,
              "#ed7953"
             ],
             [
              0.7777777777777778,
              "#fb9f3a"
             ],
             [
              0.8888888888888888,
              "#fdca26"
             ],
             [
              1,
              "#f0f921"
             ]
            ],
            "type": "histogram2d"
           }
          ],
          "histogram2dcontour": [
           {
            "colorbar": {
             "outlinewidth": 0,
             "ticks": ""
            },
            "colorscale": [
             [
              0,
              "#0d0887"
             ],
             [
              0.1111111111111111,
              "#46039f"
             ],
             [
              0.2222222222222222,
              "#7201a8"
             ],
             [
              0.3333333333333333,
              "#9c179e"
             ],
             [
              0.4444444444444444,
              "#bd3786"
             ],
             [
              0.5555555555555556,
              "#d8576b"
             ],
             [
              0.6666666666666666,
              "#ed7953"
             ],
             [
              0.7777777777777778,
              "#fb9f3a"
             ],
             [
              0.8888888888888888,
              "#fdca26"
             ],
             [
              1,
              "#f0f921"
             ]
            ],
            "type": "histogram2dcontour"
           }
          ],
          "mesh3d": [
           {
            "colorbar": {
             "outlinewidth": 0,
             "ticks": ""
            },
            "type": "mesh3d"
           }
          ],
          "parcoords": [
           {
            "line": {
             "colorbar": {
              "outlinewidth": 0,
              "ticks": ""
             }
            },
            "type": "parcoords"
           }
          ],
          "pie": [
           {
            "automargin": true,
            "type": "pie"
           }
          ],
          "scatter": [
           {
            "fillpattern": {
             "fillmode": "overlay",
             "size": 10,
             "solidity": 0.2
            },
            "type": "scatter"
           }
          ],
          "scatter3d": [
           {
            "line": {
             "colorbar": {
              "outlinewidth": 0,
              "ticks": ""
             }
            },
            "marker": {
             "colorbar": {
              "outlinewidth": 0,
              "ticks": ""
             }
            },
            "type": "scatter3d"
           }
          ],
          "scattercarpet": [
           {
            "marker": {
             "colorbar": {
              "outlinewidth": 0,
              "ticks": ""
             }
            },
            "type": "scattercarpet"
           }
          ],
          "scattergeo": [
           {
            "marker": {
             "colorbar": {
              "outlinewidth": 0,
              "ticks": ""
             }
            },
            "type": "scattergeo"
           }
          ],
          "scattergl": [
           {
            "marker": {
             "colorbar": {
              "outlinewidth": 0,
              "ticks": ""
             }
            },
            "type": "scattergl"
           }
          ],
          "scattermapbox": [
           {
            "marker": {
             "colorbar": {
              "outlinewidth": 0,
              "ticks": ""
             }
            },
            "type": "scattermapbox"
           }
          ],
          "scatterpolar": [
           {
            "marker": {
             "colorbar": {
              "outlinewidth": 0,
              "ticks": ""
             }
            },
            "type": "scatterpolar"
           }
          ],
          "scatterpolargl": [
           {
            "marker": {
             "colorbar": {
              "outlinewidth": 0,
              "ticks": ""
             }
            },
            "type": "scatterpolargl"
           }
          ],
          "scatterternary": [
           {
            "marker": {
             "colorbar": {
              "outlinewidth": 0,
              "ticks": ""
             }
            },
            "type": "scatterternary"
           }
          ],
          "surface": [
           {
            "colorbar": {
             "outlinewidth": 0,
             "ticks": ""
            },
            "colorscale": [
             [
              0,
              "#0d0887"
             ],
             [
              0.1111111111111111,
              "#46039f"
             ],
             [
              0.2222222222222222,
              "#7201a8"
             ],
             [
              0.3333333333333333,
              "#9c179e"
             ],
             [
              0.4444444444444444,
              "#bd3786"
             ],
             [
              0.5555555555555556,
              "#d8576b"
             ],
             [
              0.6666666666666666,
              "#ed7953"
             ],
             [
              0.7777777777777778,
              "#fb9f3a"
             ],
             [
              0.8888888888888888,
              "#fdca26"
             ],
             [
              1,
              "#f0f921"
             ]
            ],
            "type": "surface"
           }
          ],
          "table": [
           {
            "cells": {
             "fill": {
              "color": "#EBF0F8"
             },
             "line": {
              "color": "white"
             }
            },
            "header": {
             "fill": {
              "color": "#C8D4E3"
             },
             "line": {
              "color": "white"
             }
            },
            "type": "table"
           }
          ]
         },
         "layout": {
          "annotationdefaults": {
           "arrowcolor": "#2a3f5f",
           "arrowhead": 0,
           "arrowwidth": 1
          },
          "autotypenumbers": "strict",
          "coloraxis": {
           "colorbar": {
            "outlinewidth": 0,
            "ticks": ""
           }
          },
          "colorscale": {
           "diverging": [
            [
             0,
             "#8e0152"
            ],
            [
             0.1,
             "#c51b7d"
            ],
            [
             0.2,
             "#de77ae"
            ],
            [
             0.3,
             "#f1b6da"
            ],
            [
             0.4,
             "#fde0ef"
            ],
            [
             0.5,
             "#f7f7f7"
            ],
            [
             0.6,
             "#e6f5d0"
            ],
            [
             0.7,
             "#b8e186"
            ],
            [
             0.8,
             "#7fbc41"
            ],
            [
             0.9,
             "#4d9221"
            ],
            [
             1,
             "#276419"
            ]
           ],
           "sequential": [
            [
             0,
             "#0d0887"
            ],
            [
             0.1111111111111111,
             "#46039f"
            ],
            [
             0.2222222222222222,
             "#7201a8"
            ],
            [
             0.3333333333333333,
             "#9c179e"
            ],
            [
             0.4444444444444444,
             "#bd3786"
            ],
            [
             0.5555555555555556,
             "#d8576b"
            ],
            [
             0.6666666666666666,
             "#ed7953"
            ],
            [
             0.7777777777777778,
             "#fb9f3a"
            ],
            [
             0.8888888888888888,
             "#fdca26"
            ],
            [
             1,
             "#f0f921"
            ]
           ],
           "sequentialminus": [
            [
             0,
             "#0d0887"
            ],
            [
             0.1111111111111111,
             "#46039f"
            ],
            [
             0.2222222222222222,
             "#7201a8"
            ],
            [
             0.3333333333333333,
             "#9c179e"
            ],
            [
             0.4444444444444444,
             "#bd3786"
            ],
            [
             0.5555555555555556,
             "#d8576b"
            ],
            [
             0.6666666666666666,
             "#ed7953"
            ],
            [
             0.7777777777777778,
             "#fb9f3a"
            ],
            [
             0.8888888888888888,
             "#fdca26"
            ],
            [
             1,
             "#f0f921"
            ]
           ]
          },
          "colorway": [
           "#636efa",
           "#EF553B",
           "#00cc96",
           "#ab63fa",
           "#FFA15A",
           "#19d3f3",
           "#FF6692",
           "#B6E880",
           "#FF97FF",
           "#FECB52"
          ],
          "font": {
           "color": "#2a3f5f"
          },
          "geo": {
           "bgcolor": "white",
           "lakecolor": "white",
           "landcolor": "#E5ECF6",
           "showlakes": true,
           "showland": true,
           "subunitcolor": "white"
          },
          "hoverlabel": {
           "align": "left"
          },
          "hovermode": "closest",
          "mapbox": {
           "style": "light"
          },
          "paper_bgcolor": "white",
          "plot_bgcolor": "#E5ECF6",
          "polar": {
           "angularaxis": {
            "gridcolor": "white",
            "linecolor": "white",
            "ticks": ""
           },
           "bgcolor": "#E5ECF6",
           "radialaxis": {
            "gridcolor": "white",
            "linecolor": "white",
            "ticks": ""
           }
          },
          "scene": {
           "xaxis": {
            "backgroundcolor": "#E5ECF6",
            "gridcolor": "white",
            "gridwidth": 2,
            "linecolor": "white",
            "showbackground": true,
            "ticks": "",
            "zerolinecolor": "white"
           },
           "yaxis": {
            "backgroundcolor": "#E5ECF6",
            "gridcolor": "white",
            "gridwidth": 2,
            "linecolor": "white",
            "showbackground": true,
            "ticks": "",
            "zerolinecolor": "white"
           },
           "zaxis": {
            "backgroundcolor": "#E5ECF6",
            "gridcolor": "white",
            "gridwidth": 2,
            "linecolor": "white",
            "showbackground": true,
            "ticks": "",
            "zerolinecolor": "white"
           }
          },
          "shapedefaults": {
           "line": {
            "color": "#2a3f5f"
           }
          },
          "ternary": {
           "aaxis": {
            "gridcolor": "white",
            "linecolor": "white",
            "ticks": ""
           },
           "baxis": {
            "gridcolor": "white",
            "linecolor": "white",
            "ticks": ""
           },
           "bgcolor": "#E5ECF6",
           "caxis": {
            "gridcolor": "white",
            "linecolor": "white",
            "ticks": ""
           }
          },
          "title": {
           "x": 0.05
          },
          "xaxis": {
           "automargin": true,
           "gridcolor": "white",
           "linecolor": "white",
           "ticks": "",
           "title": {
            "standoff": 15
           },
           "zerolinecolor": "white",
           "zerolinewidth": 2
          },
          "yaxis": {
           "automargin": true,
           "gridcolor": "white",
           "linecolor": "white",
           "ticks": "",
           "title": {
            "standoff": 15
           },
           "zerolinecolor": "white",
           "zerolinewidth": 2
          }
         }
        },
        "title": {
         "text": "Points Scored by the Top 9 Scoring NBA Players in 2012"
        },
        "yaxis": {
         "autorange": true,
         "dtick": 5,
         "gridcolor": "rgb(255, 255, 255)",
         "gridwidth": 1,
         "showgrid": true,
         "zeroline": true,
         "zerolinecolor": "rgb(255, 255, 255)",
         "zerolinewidth": 2
        }
       }
      },
      "text/html": [
       "<div>                            <div id=\"57afb757-ded8-4c0b-9b4d-3a3d7a172b36\" class=\"plotly-graph-div\" style=\"height:525px; width:100%;\"></div>            <script type=\"text/javascript\">                require([\"plotly\"], function(Plotly) {                    window.PLOTLYENV=window.PLOTLYENV || {};                                    if (document.getElementById(\"57afb757-ded8-4c0b-9b4d-3a3d7a172b36\")) {                    Plotly.newPlot(                        \"57afb757-ded8-4c0b-9b4d-3a3d7a172b36\",                        [{\"boxpoints\":\"all\",\"fillcolor\":\"rgba(93, 164, 214, 0.5)\",\"jitter\":0.5,\"line\":{\"width\":1},\"marker\":{\"size\":2},\"name\":\"Carmelo Anthony\",\"whiskerwidth\":0.2,\"y\":[-0.8310576857284615,-1.189588484717783,-0.2658406571931402,-0.6140374310049062,-1.8668023165668015,-0.2972644867350517,-2.0439228801921008,-1.3934075462130395,-1.1473105199474904,-1.017376815124706,-1.8219396531404541,-1.3452083937410617,-1.13233552045324,-0.46374244167395795,-0.44052157785009505,0.24807463494613424,-1.4159148648175162,0.0698976185465745,-2.0463352292741006,0.15257821174909147,-1.110704079374558,-1.906446190810837,-1.7980389626163764,-0.8233807248718397,-0.2687409192224065,-1.5745465054071144,-1.5581102344079834,-1.7736474715445518,-1.7117305625534192,-0.8782073918971355,-1.344915387347341,1.222713782487852,-1.3148541617104423,-1.195131277657781,-1.5655524667279672,-1.1556859156718866,-0.8720858410618588,-3.1486333914629903,-1.0779196670429172,0.6421333760334698,0.3921062794580845,-2.4807831269089506,1.5547187617550828,-2.2242075315723175,-2.150545181667337,-0.19977490471749504,0.33123999251668734,-0.31108326282674637,-1.1954596712138001,-2.081723283092062],\"type\":\"box\"},{\"boxpoints\":\"all\",\"fillcolor\":\"rgba(255, 144, 14, 0.5)\",\"jitter\":0.5,\"line\":{\"width\":1},\"marker\":{\"size\":2},\"name\":\"Dwyane Wade\",\"whiskerwidth\":0.2,\"y\":[0.7067844460374703,1.889956008681505,0.572793409205504,4.153715148669514,0.9942915145961162,1.97391928833005,1.7703185149533782,1.5420477286121343,1.0529377162520925,2.1607046502221228,1.1981498563401778,-1.0097577825543191,1.5792135419980216,0.9488830122335146,2.609362192562404,1.4516815815752055,-0.5251112523952324,0.00019865345811520552,0.5464897255419188,1.7098683804232393,2.882456637676901,0.24238601875304056,0.5531714595336453,0.453601434932273,2.9097817077645987,-1.9651649962671058,0.032487126749428774,1.5430810593193047,0.9255109563322814,-0.35206250959063157,1.2436632268297447,-0.11230480714392077,0.21898267876816768,1.016268922397719,1.1944579473862167,-0.18775556925526038,0.36603313415418737,0.5021584684227685,0.21387705222681852,0.7739005043096104,0.6763198113741815,-0.3615618680490831,-0.6198184558278819,1.4217327422587236,2.01304702242998,-0.9891459220009053,1.1687183423905687,-0.970281990686229,-0.03883600210514371,-1.5594319069640648],\"type\":\"box\"},{\"boxpoints\":\"all\",\"fillcolor\":\"rgba(44, 160, 101, 0.5)\",\"jitter\":0.5,\"line\":{\"width\":1},\"marker\":{\"size\":2},\"name\":\"Deron Williams\",\"whiskerwidth\":0.2,\"y\":[0.3448834165590591,0.8417382668000007,-0.5372126320428544,-1.864397643024247,0.992983459776133,-0.4164208376213312,-0.774340141570989,0.9921642024671067,0.13018703498251688,1.321326175646752,-1.6619977059291933,-0.8110717670121004,0.44239480354884414,1.7959446940254442,0.21640763400756788,-1.748360782753007,-1.0766079108153521,-0.05544512025566217,-0.2626224320482883,-1.7063548430350874,-0.7721224146869673,0.0074901841186996885,0.7017253422041616,0.8605488359059679,-0.8441247550415435,0.42374253484049024,0.6409368311863299,1.4873057770021296,-1.9718989647450198,-1.2348984766070283,1.2746152518621607,-1.680624563001623,-1.6318010143654231,-0.799350675327718,0.581181138852499,-0.05830715491471207,-0.7752000343239355,0.6674581604618974,0.3564376636499844,1.0874972869503257,-0.525223566360451,-1.1771159514566554,-0.039349201146582254,0.49029908030701047,0.7191326413266647,1.5034712415208136,-2.119703072314202,-0.793738597635568,0.22619301140930453,-2.0468397736527395],\"type\":\"box\"},{\"boxpoints\":\"all\",\"fillcolor\":\"rgba(255, 65, 54, 0.5)\",\"jitter\":0.5,\"line\":{\"width\":1},\"marker\":{\"size\":2},\"name\":\"Brook Lopez\",\"whiskerwidth\":0.2,\"y\":[1.4639676088280766,3.1207501714520216,2.15572827720871,0.3199525504579652,3.2098302059375325,0.15266771582317373,2.511441603415203,2.1675718122396597,0.8942204699537775,3.3207622825076304,2.2745591885834964,1.8166005455097582,1.07957380523886,1.6778948161284377,2.521746612376876,3.001010290345368,1.3695389817857633,1.4663732253901636,-1.5311387738723323,2.253446326123962,2.5322541454448406,4.181454670772876,0.5982376981728388,3.7075215097378793,3.2541945582682685,0.6384749860603844,3.5104494444218064,2.448401379366446,2.346080934464609,1.6775812407368866,2.5163205710528813,3.6491954182339073,2.058785623866125,1.1544991892389298,0.3596398697366445,1.8379130473098009,2.9444041288420713,1.4330965041370936,1.0167321824598703,1.2259531848737417,0.6216095377986464,0.1241100946575382,2.3840807714704546,2.490310495831587,3.0321212862031697,1.8095547708414388,1.793951681328708,2.1875896527364374,1.1269186508629536,2.2332850280254615],\"type\":\"box\"},{\"boxpoints\":\"all\",\"fillcolor\":\"rgba(207, 114, 255, 0.5)\",\"jitter\":0.5,\"line\":{\"width\":1},\"marker\":{\"size\":2},\"name\":\"Damian Lillard\",\"whiskerwidth\":0.2,\"y\":[-2.6708502631154443,-2.4078044469538122,-1.2430448322373757,-2.354409639311243,-1.6616825026602835,-1.1959023818438606,-1.5476288941614489,-4.272879412641814,-3.7752131680223826,-2.753834420850498,-3.9106739993248794,-3.1054283001247738,-3.2789541432904388,-2.641644117099975,-0.08509510487620187,-1.5332968956019422,-2.1715504162503914,-1.9283636560971282,-2.1270500600055686,-1.9983611461518758,-1.4910006413254093,-1.1114015014398704,-3.1555405269450785,-0.7410245173243062,-2.9064053481098173,-1.7627211295964826,-4.143355823479348,-1.7014857913771393,-1.5406355364663389,-1.9461279367256663,-2.598222744939148,-2.344694914309432,-2.0763302689175354,-3.131440460050489,-1.3059811005154645,-3.2092531665243147,-1.8607220318782944,0.7062939079137442,-1.3480748954069703,-1.1988338242474845,-4.503851121725907,-2.4007932245224963,-3.0445468617528872,-0.6633625691976519,-1.0788915472119884,-0.41127403022239317,-2.534870529247005,-0.507063264235855,-1.6564795465633988,-1.9861170146312654],\"type\":\"box\"},{\"boxpoints\":\"all\",\"fillcolor\":\"rgba(127, 96, 0, 0.5)\",\"jitter\":0.5,\"line\":{\"width\":1},\"marker\":{\"size\":2},\"name\":\"David West\",\"whiskerwidth\":0.2,\"y\":[3.642254062857036,2.876650892963424,4.572541430999331,4.102306196732955,3.4003559879380685,3.0882285257025166,1.9100511789634338,2.7180042706391188,4.3978256142197525,3.0081751918269006,1.399082202982522,1.9644299260371643,1.0907977584941055,1.7896976078840847,4.452729086768746,5.643355027061332,2.4890285729606783,3.5819814206125025,3.208685479089104,2.351938118003292,4.86242431091433,1.8125556926551853,2.91103321118611,1.5670474525310258,2.7779371069814864,2.6297168601293572,3.477510224434883,4.337025443523947,2.9648840163812844,4.577470150578816,2.796499350117595,2.0821008814470736,5.359734123975144,3.986745606051657,2.36829476203836,1.46774380937644,2.4857492768055027,2.0010704788820157,4.48793281798247,3.5699943869203943,0.33011273903161475,2.7785242376443686,4.865927812914075,2.9461559021582038,2.1493391675303717,0.25940404985479537,2.76135951847833,0.875201247956686,1.2471276920035976,4.298195011058263],\"type\":\"box\"}],                        {\"margin\":{\"b\":80,\"l\":40,\"r\":30,\"t\":100},\"paper_bgcolor\":\"rgb(243, 243, 243)\",\"plot_bgcolor\":\"rgb(243, 243, 243)\",\"showlegend\":false,\"template\":{\"data\":{\"barpolar\":[{\"marker\":{\"line\":{\"color\":\"#E5ECF6\",\"width\":0.5},\"pattern\":{\"fillmode\":\"overlay\",\"size\":10,\"solidity\":0.2}},\"type\":\"barpolar\"}],\"bar\":[{\"error_x\":{\"color\":\"#2a3f5f\"},\"error_y\":{\"color\":\"#2a3f5f\"},\"marker\":{\"line\":{\"color\":\"#E5ECF6\",\"width\":0.5},\"pattern\":{\"fillmode\":\"overlay\",\"size\":10,\"solidity\":0.2}},\"type\":\"bar\"}],\"carpet\":[{\"aaxis\":{\"endlinecolor\":\"#2a3f5f\",\"gridcolor\":\"white\",\"linecolor\":\"white\",\"minorgridcolor\":\"white\",\"startlinecolor\":\"#2a3f5f\"},\"baxis\":{\"endlinecolor\":\"#2a3f5f\",\"gridcolor\":\"white\",\"linecolor\":\"white\",\"minorgridcolor\":\"white\",\"startlinecolor\":\"#2a3f5f\"},\"type\":\"carpet\"}],\"choropleth\":[{\"colorbar\":{\"outlinewidth\":0,\"ticks\":\"\"},\"type\":\"choropleth\"}],\"contourcarpet\":[{\"colorbar\":{\"outlinewidth\":0,\"ticks\":\"\"},\"type\":\"contourcarpet\"}],\"contour\":[{\"colorbar\":{\"outlinewidth\":0,\"ticks\":\"\"},\"colorscale\":[[0.0,\"#0d0887\"],[0.1111111111111111,\"#46039f\"],[0.2222222222222222,\"#7201a8\"],[0.3333333333333333,\"#9c179e\"],[0.4444444444444444,\"#bd3786\"],[0.5555555555555556,\"#d8576b\"],[0.6666666666666666,\"#ed7953\"],[0.7777777777777778,\"#fb9f3a\"],[0.8888888888888888,\"#fdca26\"],[1.0,\"#f0f921\"]],\"type\":\"contour\"}],\"heatmapgl\":[{\"colorbar\":{\"outlinewidth\":0,\"ticks\":\"\"},\"colorscale\":[[0.0,\"#0d0887\"],[0.1111111111111111,\"#46039f\"],[0.2222222222222222,\"#7201a8\"],[0.3333333333333333,\"#9c179e\"],[0.4444444444444444,\"#bd3786\"],[0.5555555555555556,\"#d8576b\"],[0.6666666666666666,\"#ed7953\"],[0.7777777777777778,\"#fb9f3a\"],[0.8888888888888888,\"#fdca26\"],[1.0,\"#f0f921\"]],\"type\":\"heatmapgl\"}],\"heatmap\":[{\"colorbar\":{\"outlinewidth\":0,\"ticks\":\"\"},\"colorscale\":[[0.0,\"#0d0887\"],[0.1111111111111111,\"#46039f\"],[0.2222222222222222,\"#7201a8\"],[0.3333333333333333,\"#9c179e\"],[0.4444444444444444,\"#bd3786\"],[0.5555555555555556,\"#d8576b\"],[0.6666666666666666,\"#ed7953\"],[0.7777777777777778,\"#fb9f3a\"],[0.8888888888888888,\"#fdca26\"],[1.0,\"#f0f921\"]],\"type\":\"heatmap\"}],\"histogram2dcontour\":[{\"colorbar\":{\"outlinewidth\":0,\"ticks\":\"\"},\"colorscale\":[[0.0,\"#0d0887\"],[0.1111111111111111,\"#46039f\"],[0.2222222222222222,\"#7201a8\"],[0.3333333333333333,\"#9c179e\"],[0.4444444444444444,\"#bd3786\"],[0.5555555555555556,\"#d8576b\"],[0.6666666666666666,\"#ed7953\"],[0.7777777777777778,\"#fb9f3a\"],[0.8888888888888888,\"#fdca26\"],[1.0,\"#f0f921\"]],\"type\":\"histogram2dcontour\"}],\"histogram2d\":[{\"colorbar\":{\"outlinewidth\":0,\"ticks\":\"\"},\"colorscale\":[[0.0,\"#0d0887\"],[0.1111111111111111,\"#46039f\"],[0.2222222222222222,\"#7201a8\"],[0.3333333333333333,\"#9c179e\"],[0.4444444444444444,\"#bd3786\"],[0.5555555555555556,\"#d8576b\"],[0.6666666666666666,\"#ed7953\"],[0.7777777777777778,\"#fb9f3a\"],[0.8888888888888888,\"#fdca26\"],[1.0,\"#f0f921\"]],\"type\":\"histogram2d\"}],\"histogram\":[{\"marker\":{\"pattern\":{\"fillmode\":\"overlay\",\"size\":10,\"solidity\":0.2}},\"type\":\"histogram\"}],\"mesh3d\":[{\"colorbar\":{\"outlinewidth\":0,\"ticks\":\"\"},\"type\":\"mesh3d\"}],\"parcoords\":[{\"line\":{\"colorbar\":{\"outlinewidth\":0,\"ticks\":\"\"}},\"type\":\"parcoords\"}],\"pie\":[{\"automargin\":true,\"type\":\"pie\"}],\"scatter3d\":[{\"line\":{\"colorbar\":{\"outlinewidth\":0,\"ticks\":\"\"}},\"marker\":{\"colorbar\":{\"outlinewidth\":0,\"ticks\":\"\"}},\"type\":\"scatter3d\"}],\"scattercarpet\":[{\"marker\":{\"colorbar\":{\"outlinewidth\":0,\"ticks\":\"\"}},\"type\":\"scattercarpet\"}],\"scattergeo\":[{\"marker\":{\"colorbar\":{\"outlinewidth\":0,\"ticks\":\"\"}},\"type\":\"scattergeo\"}],\"scattergl\":[{\"marker\":{\"colorbar\":{\"outlinewidth\":0,\"ticks\":\"\"}},\"type\":\"scattergl\"}],\"scattermapbox\":[{\"marker\":{\"colorbar\":{\"outlinewidth\":0,\"ticks\":\"\"}},\"type\":\"scattermapbox\"}],\"scatterpolargl\":[{\"marker\":{\"colorbar\":{\"outlinewidth\":0,\"ticks\":\"\"}},\"type\":\"scatterpolargl\"}],\"scatterpolar\":[{\"marker\":{\"colorbar\":{\"outlinewidth\":0,\"ticks\":\"\"}},\"type\":\"scatterpolar\"}],\"scatter\":[{\"fillpattern\":{\"fillmode\":\"overlay\",\"size\":10,\"solidity\":0.2},\"type\":\"scatter\"}],\"scatterternary\":[{\"marker\":{\"colorbar\":{\"outlinewidth\":0,\"ticks\":\"\"}},\"type\":\"scatterternary\"}],\"surface\":[{\"colorbar\":{\"outlinewidth\":0,\"ticks\":\"\"},\"colorscale\":[[0.0,\"#0d0887\"],[0.1111111111111111,\"#46039f\"],[0.2222222222222222,\"#7201a8\"],[0.3333333333333333,\"#9c179e\"],[0.4444444444444444,\"#bd3786\"],[0.5555555555555556,\"#d8576b\"],[0.6666666666666666,\"#ed7953\"],[0.7777777777777778,\"#fb9f3a\"],[0.8888888888888888,\"#fdca26\"],[1.0,\"#f0f921\"]],\"type\":\"surface\"}],\"table\":[{\"cells\":{\"fill\":{\"color\":\"#EBF0F8\"},\"line\":{\"color\":\"white\"}},\"header\":{\"fill\":{\"color\":\"#C8D4E3\"},\"line\":{\"color\":\"white\"}},\"type\":\"table\"}]},\"layout\":{\"annotationdefaults\":{\"arrowcolor\":\"#2a3f5f\",\"arrowhead\":0,\"arrowwidth\":1},\"autotypenumbers\":\"strict\",\"coloraxis\":{\"colorbar\":{\"outlinewidth\":0,\"ticks\":\"\"}},\"colorscale\":{\"diverging\":[[0,\"#8e0152\"],[0.1,\"#c51b7d\"],[0.2,\"#de77ae\"],[0.3,\"#f1b6da\"],[0.4,\"#fde0ef\"],[0.5,\"#f7f7f7\"],[0.6,\"#e6f5d0\"],[0.7,\"#b8e186\"],[0.8,\"#7fbc41\"],[0.9,\"#4d9221\"],[1,\"#276419\"]],\"sequential\":[[0.0,\"#0d0887\"],[0.1111111111111111,\"#46039f\"],[0.2222222222222222,\"#7201a8\"],[0.3333333333333333,\"#9c179e\"],[0.4444444444444444,\"#bd3786\"],[0.5555555555555556,\"#d8576b\"],[0.6666666666666666,\"#ed7953\"],[0.7777777777777778,\"#fb9f3a\"],[0.8888888888888888,\"#fdca26\"],[1.0,\"#f0f921\"]],\"sequentialminus\":[[0.0,\"#0d0887\"],[0.1111111111111111,\"#46039f\"],[0.2222222222222222,\"#7201a8\"],[0.3333333333333333,\"#9c179e\"],[0.4444444444444444,\"#bd3786\"],[0.5555555555555556,\"#d8576b\"],[0.6666666666666666,\"#ed7953\"],[0.7777777777777778,\"#fb9f3a\"],[0.8888888888888888,\"#fdca26\"],[1.0,\"#f0f921\"]]},\"colorway\":[\"#636efa\",\"#EF553B\",\"#00cc96\",\"#ab63fa\",\"#FFA15A\",\"#19d3f3\",\"#FF6692\",\"#B6E880\",\"#FF97FF\",\"#FECB52\"],\"font\":{\"color\":\"#2a3f5f\"},\"geo\":{\"bgcolor\":\"white\",\"lakecolor\":\"white\",\"landcolor\":\"#E5ECF6\",\"showlakes\":true,\"showland\":true,\"subunitcolor\":\"white\"},\"hoverlabel\":{\"align\":\"left\"},\"hovermode\":\"closest\",\"mapbox\":{\"style\":\"light\"},\"paper_bgcolor\":\"white\",\"plot_bgcolor\":\"#E5ECF6\",\"polar\":{\"angularaxis\":{\"gridcolor\":\"white\",\"linecolor\":\"white\",\"ticks\":\"\"},\"bgcolor\":\"#E5ECF6\",\"radialaxis\":{\"gridcolor\":\"white\",\"linecolor\":\"white\",\"ticks\":\"\"}},\"scene\":{\"xaxis\":{\"backgroundcolor\":\"#E5ECF6\",\"gridcolor\":\"white\",\"gridwidth\":2,\"linecolor\":\"white\",\"showbackground\":true,\"ticks\":\"\",\"zerolinecolor\":\"white\"},\"yaxis\":{\"backgroundcolor\":\"#E5ECF6\",\"gridcolor\":\"white\",\"gridwidth\":2,\"linecolor\":\"white\",\"showbackground\":true,\"ticks\":\"\",\"zerolinecolor\":\"white\"},\"zaxis\":{\"backgroundcolor\":\"#E5ECF6\",\"gridcolor\":\"white\",\"gridwidth\":2,\"linecolor\":\"white\",\"showbackground\":true,\"ticks\":\"\",\"zerolinecolor\":\"white\"}},\"shapedefaults\":{\"line\":{\"color\":\"#2a3f5f\"}},\"ternary\":{\"aaxis\":{\"gridcolor\":\"white\",\"linecolor\":\"white\",\"ticks\":\"\"},\"baxis\":{\"gridcolor\":\"white\",\"linecolor\":\"white\",\"ticks\":\"\"},\"bgcolor\":\"#E5ECF6\",\"caxis\":{\"gridcolor\":\"white\",\"linecolor\":\"white\",\"ticks\":\"\"}},\"title\":{\"x\":0.05},\"xaxis\":{\"automargin\":true,\"gridcolor\":\"white\",\"linecolor\":\"white\",\"ticks\":\"\",\"title\":{\"standoff\":15},\"zerolinecolor\":\"white\",\"zerolinewidth\":2},\"yaxis\":{\"automargin\":true,\"gridcolor\":\"white\",\"linecolor\":\"white\",\"ticks\":\"\",\"title\":{\"standoff\":15},\"zerolinecolor\":\"white\",\"zerolinewidth\":2}}},\"title\":{\"text\":\"Points Scored by the Top 9 Scoring NBA Players in 2012\"},\"yaxis\":{\"autorange\":true,\"dtick\":5,\"gridcolor\":\"rgb(255, 255, 255)\",\"gridwidth\":1,\"showgrid\":true,\"zeroline\":true,\"zerolinecolor\":\"rgb(255, 255, 255)\",\"zerolinewidth\":2}},                        {\"responsive\": true}                    ).then(function(){\n",
       "                            \n",
       "var gd = document.getElementById('57afb757-ded8-4c0b-9b4d-3a3d7a172b36');\n",
       "var x = new MutationObserver(function (mutations, observer) {{\n",
       "        var display = window.getComputedStyle(gd).display;\n",
       "        if (!display || display === 'none') {{\n",
       "            console.log([gd, 'removed!']);\n",
       "            Plotly.purge(gd);\n",
       "            observer.disconnect();\n",
       "        }}\n",
       "}});\n",
       "\n",
       "// Listen for the removal of the full notebook cells\n",
       "var notebookContainer = gd.closest('#notebook-container');\n",
       "if (notebookContainer) {{\n",
       "    x.observe(notebookContainer, {childList: true});\n",
       "}}\n",
       "\n",
       "// Listen for the clearing of the current output cell\n",
       "var outputEl = gd.closest('.output');\n",
       "if (outputEl) {{\n",
       "    x.observe(outputEl, {childList: true});\n",
       "}}\n",
       "\n",
       "                        })                };                });            </script>        </div>"
      ]
     },
     "metadata": {},
     "output_type": "display_data"
    }
   ],
   "source": [
    "# https://plot.ly/python/box-plots/\n",
    "\n",
    "import chart_studio.plotly as py\n",
    "import plotly.graph_objs as go\n",
    "import numpy as np\n",
    "\n",
    "x_data = ['Carmelo Anthony', 'Dwyane Wade',\n",
    "          'Deron Williams', 'Brook Lopez',\n",
    "          'Damian Lillard', 'David West',]\n",
    "\n",
    "y0 = np.random.randn(50)-1\n",
    "y1 = np.random.randn(50)+1\n",
    "y2 = np.random.randn(50)\n",
    "y3 = np.random.randn(50)+2\n",
    "y4 = np.random.randn(50)-2\n",
    "y5 = np.random.randn(50)+3\n",
    "\n",
    "y_data = [y0,y1,y2,y3,y4,y5]\n",
    "\n",
    "colors = ['rgba(93, 164, 214, 0.5)', 'rgba(255, 144, 14, 0.5)', 'rgba(44, 160, 101, 0.5)', 'rgba(255, 65, 54, 0.5)', 'rgba(207, 114, 255, 0.5)', 'rgba(127, 96, 0, 0.5)']\n",
    "\n",
    "traces = []\n",
    "\n",
    "for xd, yd, cls in zip(x_data, y_data, colors):\n",
    "        traces.append(go.Box(\n",
    "            y=yd,\n",
    "            name=xd,\n",
    "            boxpoints='all',\n",
    "            jitter=0.5,\n",
    "            whiskerwidth=0.2,\n",
    "            fillcolor=cls,\n",
    "            marker=dict(\n",
    "                size=2,\n",
    "            ),\n",
    "            line=dict(width=1),\n",
    "        ))\n",
    "\n",
    "layout = go.Layout(\n",
    "    title='Points Scored by the Top 9 Scoring NBA Players in 2012',\n",
    "    yaxis=dict(\n",
    "        autorange=True,\n",
    "        showgrid=True,\n",
    "        zeroline=True,\n",
    "        dtick=5,\n",
    "        gridcolor='rgb(255, 255, 255)',\n",
    "        gridwidth=1,\n",
    "        zerolinecolor='rgb(255, 255, 255)',\n",
    "        zerolinewidth=2,\n",
    "    ),\n",
    "    margin=dict(\n",
    "        l=40,\n",
    "        r=30,\n",
    "        b=80,\n",
    "        t=100,\n",
    "    ),\n",
    "    paper_bgcolor='rgb(243, 243, 243)',\n",
    "    plot_bgcolor='rgb(243, 243, 243)',\n",
    "    showlegend=False\n",
    ")\n",
    "\n",
    "fig = go.Figure(data=traces, layout=layout)\n",
    "iplot(fig)"
   ]
  },
  {
   "cell_type": "code",
   "execution_count": 28,
   "metadata": {
    "id": "rSsKOqKO25LM",
    "outputId": "1474f234-7a58-4355-9e89-c5e54e5b5ed1"
   },
   "outputs": [
    {
     "data": {
      "application/vnd.plotly.v1+json": {
       "config": {
        "linkText": "Export to plotly.com",
        "plotlyServerURL": "https://plotly.com",
        "showLink": false
       },
       "data": [
        {
         "type": "heatmap",
         "x": [
          "BreakNeck",
          "Blackwalk",
          "mercedes_benz",
          "DORA",
          "n2tstar",
          "coldoxygen",
          "Giken",
          "KoreaNo1",
          "undor",
          "Fordune",
          "PandaTV-Tongk",
          "Benny-_-",
          "PanDaTV_Karl",
          "homeboye",
          "YUPPIEE",
          "Doomhammer",
          "DinghisKhan",
          "YoonRoot",
          "3N1GmA",
          "synthtail",
          "SevenWolf",
          "FZTEAMLDS",
          "1125",
          "BombBurst",
          "SILPHTV",
          "SexyPIG",
          "TOP_94",
          "zeggi",
          "baoli6666666",
          "Toadoo1"
         ],
         "y": [
          17,
          33,
          5,
          8,
          6,
          16,
          142,
          19,
          44,
          8,
          116,
          335,
          87,
          72,
          23,
          3,
          165,
          65,
          16,
          45,
          55,
          45,
          9,
          14,
          277,
          265,
          77,
          52,
          56,
          22
         ],
         "z": [
          3,
          6,
          0,
          4,
          2,
          5,
          12,
          5,
          6,
          2,
          7,
          4,
          9,
          4,
          3,
          1,
          38,
          12,
          6,
          2,
          7,
          4,
          3,
          2,
          48,
          63,
          4,
          3,
          3,
          2
         ]
        }
       ],
       "layout": {
        "template": {
         "data": {
          "bar": [
           {
            "error_x": {
             "color": "#2a3f5f"
            },
            "error_y": {
             "color": "#2a3f5f"
            },
            "marker": {
             "line": {
              "color": "#E5ECF6",
              "width": 0.5
             },
             "pattern": {
              "fillmode": "overlay",
              "size": 10,
              "solidity": 0.2
             }
            },
            "type": "bar"
           }
          ],
          "barpolar": [
           {
            "marker": {
             "line": {
              "color": "#E5ECF6",
              "width": 0.5
             },
             "pattern": {
              "fillmode": "overlay",
              "size": 10,
              "solidity": 0.2
             }
            },
            "type": "barpolar"
           }
          ],
          "carpet": [
           {
            "aaxis": {
             "endlinecolor": "#2a3f5f",
             "gridcolor": "white",
             "linecolor": "white",
             "minorgridcolor": "white",
             "startlinecolor": "#2a3f5f"
            },
            "baxis": {
             "endlinecolor": "#2a3f5f",
             "gridcolor": "white",
             "linecolor": "white",
             "minorgridcolor": "white",
             "startlinecolor": "#2a3f5f"
            },
            "type": "carpet"
           }
          ],
          "choropleth": [
           {
            "colorbar": {
             "outlinewidth": 0,
             "ticks": ""
            },
            "type": "choropleth"
           }
          ],
          "contour": [
           {
            "colorbar": {
             "outlinewidth": 0,
             "ticks": ""
            },
            "colorscale": [
             [
              0,
              "#0d0887"
             ],
             [
              0.1111111111111111,
              "#46039f"
             ],
             [
              0.2222222222222222,
              "#7201a8"
             ],
             [
              0.3333333333333333,
              "#9c179e"
             ],
             [
              0.4444444444444444,
              "#bd3786"
             ],
             [
              0.5555555555555556,
              "#d8576b"
             ],
             [
              0.6666666666666666,
              "#ed7953"
             ],
             [
              0.7777777777777778,
              "#fb9f3a"
             ],
             [
              0.8888888888888888,
              "#fdca26"
             ],
             [
              1,
              "#f0f921"
             ]
            ],
            "type": "contour"
           }
          ],
          "contourcarpet": [
           {
            "colorbar": {
             "outlinewidth": 0,
             "ticks": ""
            },
            "type": "contourcarpet"
           }
          ],
          "heatmap": [
           {
            "colorbar": {
             "outlinewidth": 0,
             "ticks": ""
            },
            "colorscale": [
             [
              0,
              "#0d0887"
             ],
             [
              0.1111111111111111,
              "#46039f"
             ],
             [
              0.2222222222222222,
              "#7201a8"
             ],
             [
              0.3333333333333333,
              "#9c179e"
             ],
             [
              0.4444444444444444,
              "#bd3786"
             ],
             [
              0.5555555555555556,
              "#d8576b"
             ],
             [
              0.6666666666666666,
              "#ed7953"
             ],
             [
              0.7777777777777778,
              "#fb9f3a"
             ],
             [
              0.8888888888888888,
              "#fdca26"
             ],
             [
              1,
              "#f0f921"
             ]
            ],
            "type": "heatmap"
           }
          ],
          "heatmapgl": [
           {
            "colorbar": {
             "outlinewidth": 0,
             "ticks": ""
            },
            "colorscale": [
             [
              0,
              "#0d0887"
             ],
             [
              0.1111111111111111,
              "#46039f"
             ],
             [
              0.2222222222222222,
              "#7201a8"
             ],
             [
              0.3333333333333333,
              "#9c179e"
             ],
             [
              0.4444444444444444,
              "#bd3786"
             ],
             [
              0.5555555555555556,
              "#d8576b"
             ],
             [
              0.6666666666666666,
              "#ed7953"
             ],
             [
              0.7777777777777778,
              "#fb9f3a"
             ],
             [
              0.8888888888888888,
              "#fdca26"
             ],
             [
              1,
              "#f0f921"
             ]
            ],
            "type": "heatmapgl"
           }
          ],
          "histogram": [
           {
            "marker": {
             "pattern": {
              "fillmode": "overlay",
              "size": 10,
              "solidity": 0.2
             }
            },
            "type": "histogram"
           }
          ],
          "histogram2d": [
           {
            "colorbar": {
             "outlinewidth": 0,
             "ticks": ""
            },
            "colorscale": [
             [
              0,
              "#0d0887"
             ],
             [
              0.1111111111111111,
              "#46039f"
             ],
             [
              0.2222222222222222,
              "#7201a8"
             ],
             [
              0.3333333333333333,
              "#9c179e"
             ],
             [
              0.4444444444444444,
              "#bd3786"
             ],
             [
              0.5555555555555556,
              "#d8576b"
             ],
             [
              0.6666666666666666,
              "#ed7953"
             ],
             [
              0.7777777777777778,
              "#fb9f3a"
             ],
             [
              0.8888888888888888,
              "#fdca26"
             ],
             [
              1,
              "#f0f921"
             ]
            ],
            "type": "histogram2d"
           }
          ],
          "histogram2dcontour": [
           {
            "colorbar": {
             "outlinewidth": 0,
             "ticks": ""
            },
            "colorscale": [
             [
              0,
              "#0d0887"
             ],
             [
              0.1111111111111111,
              "#46039f"
             ],
             [
              0.2222222222222222,
              "#7201a8"
             ],
             [
              0.3333333333333333,
              "#9c179e"
             ],
             [
              0.4444444444444444,
              "#bd3786"
             ],
             [
              0.5555555555555556,
              "#d8576b"
             ],
             [
              0.6666666666666666,
              "#ed7953"
             ],
             [
              0.7777777777777778,
              "#fb9f3a"
             ],
             [
              0.8888888888888888,
              "#fdca26"
             ],
             [
              1,
              "#f0f921"
             ]
            ],
            "type": "histogram2dcontour"
           }
          ],
          "mesh3d": [
           {
            "colorbar": {
             "outlinewidth": 0,
             "ticks": ""
            },
            "type": "mesh3d"
           }
          ],
          "parcoords": [
           {
            "line": {
             "colorbar": {
              "outlinewidth": 0,
              "ticks": ""
             }
            },
            "type": "parcoords"
           }
          ],
          "pie": [
           {
            "automargin": true,
            "type": "pie"
           }
          ],
          "scatter": [
           {
            "fillpattern": {
             "fillmode": "overlay",
             "size": 10,
             "solidity": 0.2
            },
            "type": "scatter"
           }
          ],
          "scatter3d": [
           {
            "line": {
             "colorbar": {
              "outlinewidth": 0,
              "ticks": ""
             }
            },
            "marker": {
             "colorbar": {
              "outlinewidth": 0,
              "ticks": ""
             }
            },
            "type": "scatter3d"
           }
          ],
          "scattercarpet": [
           {
            "marker": {
             "colorbar": {
              "outlinewidth": 0,
              "ticks": ""
             }
            },
            "type": "scattercarpet"
           }
          ],
          "scattergeo": [
           {
            "marker": {
             "colorbar": {
              "outlinewidth": 0,
              "ticks": ""
             }
            },
            "type": "scattergeo"
           }
          ],
          "scattergl": [
           {
            "marker": {
             "colorbar": {
              "outlinewidth": 0,
              "ticks": ""
             }
            },
            "type": "scattergl"
           }
          ],
          "scattermapbox": [
           {
            "marker": {
             "colorbar": {
              "outlinewidth": 0,
              "ticks": ""
             }
            },
            "type": "scattermapbox"
           }
          ],
          "scatterpolar": [
           {
            "marker": {
             "colorbar": {
              "outlinewidth": 0,
              "ticks": ""
             }
            },
            "type": "scatterpolar"
           }
          ],
          "scatterpolargl": [
           {
            "marker": {
             "colorbar": {
              "outlinewidth": 0,
              "ticks": ""
             }
            },
            "type": "scatterpolargl"
           }
          ],
          "scatterternary": [
           {
            "marker": {
             "colorbar": {
              "outlinewidth": 0,
              "ticks": ""
             }
            },
            "type": "scatterternary"
           }
          ],
          "surface": [
           {
            "colorbar": {
             "outlinewidth": 0,
             "ticks": ""
            },
            "colorscale": [
             [
              0,
              "#0d0887"
             ],
             [
              0.1111111111111111,
              "#46039f"
             ],
             [
              0.2222222222222222,
              "#7201a8"
             ],
             [
              0.3333333333333333,
              "#9c179e"
             ],
             [
              0.4444444444444444,
              "#bd3786"
             ],
             [
              0.5555555555555556,
              "#d8576b"
             ],
             [
              0.6666666666666666,
              "#ed7953"
             ],
             [
              0.7777777777777778,
              "#fb9f3a"
             ],
             [
              0.8888888888888888,
              "#fdca26"
             ],
             [
              1,
              "#f0f921"
             ]
            ],
            "type": "surface"
           }
          ],
          "table": [
           {
            "cells": {
             "fill": {
              "color": "#EBF0F8"
             },
             "line": {
              "color": "white"
             }
            },
            "header": {
             "fill": {
              "color": "#C8D4E3"
             },
             "line": {
              "color": "white"
             }
            },
            "type": "table"
           }
          ]
         },
         "layout": {
          "annotationdefaults": {
           "arrowcolor": "#2a3f5f",
           "arrowhead": 0,
           "arrowwidth": 1
          },
          "autotypenumbers": "strict",
          "coloraxis": {
           "colorbar": {
            "outlinewidth": 0,
            "ticks": ""
           }
          },
          "colorscale": {
           "diverging": [
            [
             0,
             "#8e0152"
            ],
            [
             0.1,
             "#c51b7d"
            ],
            [
             0.2,
             "#de77ae"
            ],
            [
             0.3,
             "#f1b6da"
            ],
            [
             0.4,
             "#fde0ef"
            ],
            [
             0.5,
             "#f7f7f7"
            ],
            [
             0.6,
             "#e6f5d0"
            ],
            [
             0.7,
             "#b8e186"
            ],
            [
             0.8,
             "#7fbc41"
            ],
            [
             0.9,
             "#4d9221"
            ],
            [
             1,
             "#276419"
            ]
           ],
           "sequential": [
            [
             0,
             "#0d0887"
            ],
            [
             0.1111111111111111,
             "#46039f"
            ],
            [
             0.2222222222222222,
             "#7201a8"
            ],
            [
             0.3333333333333333,
             "#9c179e"
            ],
            [
             0.4444444444444444,
             "#bd3786"
            ],
            [
             0.5555555555555556,
             "#d8576b"
            ],
            [
             0.6666666666666666,
             "#ed7953"
            ],
            [
             0.7777777777777778,
             "#fb9f3a"
            ],
            [
             0.8888888888888888,
             "#fdca26"
            ],
            [
             1,
             "#f0f921"
            ]
           ],
           "sequentialminus": [
            [
             0,
             "#0d0887"
            ],
            [
             0.1111111111111111,
             "#46039f"
            ],
            [
             0.2222222222222222,
             "#7201a8"
            ],
            [
             0.3333333333333333,
             "#9c179e"
            ],
            [
             0.4444444444444444,
             "#bd3786"
            ],
            [
             0.5555555555555556,
             "#d8576b"
            ],
            [
             0.6666666666666666,
             "#ed7953"
            ],
            [
             0.7777777777777778,
             "#fb9f3a"
            ],
            [
             0.8888888888888888,
             "#fdca26"
            ],
            [
             1,
             "#f0f921"
            ]
           ]
          },
          "colorway": [
           "#636efa",
           "#EF553B",
           "#00cc96",
           "#ab63fa",
           "#FFA15A",
           "#19d3f3",
           "#FF6692",
           "#B6E880",
           "#FF97FF",
           "#FECB52"
          ],
          "font": {
           "color": "#2a3f5f"
          },
          "geo": {
           "bgcolor": "white",
           "lakecolor": "white",
           "landcolor": "#E5ECF6",
           "showlakes": true,
           "showland": true,
           "subunitcolor": "white"
          },
          "hoverlabel": {
           "align": "left"
          },
          "hovermode": "closest",
          "mapbox": {
           "style": "light"
          },
          "paper_bgcolor": "white",
          "plot_bgcolor": "#E5ECF6",
          "polar": {
           "angularaxis": {
            "gridcolor": "white",
            "linecolor": "white",
            "ticks": ""
           },
           "bgcolor": "#E5ECF6",
           "radialaxis": {
            "gridcolor": "white",
            "linecolor": "white",
            "ticks": ""
           }
          },
          "scene": {
           "xaxis": {
            "backgroundcolor": "#E5ECF6",
            "gridcolor": "white",
            "gridwidth": 2,
            "linecolor": "white",
            "showbackground": true,
            "ticks": "",
            "zerolinecolor": "white"
           },
           "yaxis": {
            "backgroundcolor": "#E5ECF6",
            "gridcolor": "white",
            "gridwidth": 2,
            "linecolor": "white",
            "showbackground": true,
            "ticks": "",
            "zerolinecolor": "white"
           },
           "zaxis": {
            "backgroundcolor": "#E5ECF6",
            "gridcolor": "white",
            "gridwidth": 2,
            "linecolor": "white",
            "showbackground": true,
            "ticks": "",
            "zerolinecolor": "white"
           }
          },
          "shapedefaults": {
           "line": {
            "color": "#2a3f5f"
           }
          },
          "ternary": {
           "aaxis": {
            "gridcolor": "white",
            "linecolor": "white",
            "ticks": ""
           },
           "baxis": {
            "gridcolor": "white",
            "linecolor": "white",
            "ticks": ""
           },
           "bgcolor": "#E5ECF6",
           "caxis": {
            "gridcolor": "white",
            "linecolor": "white",
            "ticks": ""
           }
          },
          "title": {
           "x": 0.05
          },
          "xaxis": {
           "automargin": true,
           "gridcolor": "white",
           "linecolor": "white",
           "ticks": "",
           "title": {
            "standoff": 15
           },
           "zerolinecolor": "white",
           "zerolinewidth": 2
          },
          "yaxis": {
           "automargin": true,
           "gridcolor": "white",
           "linecolor": "white",
           "ticks": "",
           "title": {
            "standoff": 15
           },
           "zerolinecolor": "white",
           "zerolinewidth": 2
          }
         }
        }
       }
      },
      "text/html": [
       "<div>                            <div id=\"70a2b86b-7d90-41ba-a65c-8ccb1d352395\" class=\"plotly-graph-div\" style=\"height:525px; width:100%;\"></div>            <script type=\"text/javascript\">                require([\"plotly\"], function(Plotly) {                    window.PLOTLYENV=window.PLOTLYENV || {};                                    if (document.getElementById(\"70a2b86b-7d90-41ba-a65c-8ccb1d352395\")) {                    Plotly.newPlot(                        \"70a2b86b-7d90-41ba-a65c-8ccb1d352395\",                        [{\"x\":[\"BreakNeck\",\"Blackwalk\",\"mercedes_benz\",\"DORA\",\"n2tstar\",\"coldoxygen\",\"Giken\",\"KoreaNo1\",\"undor\",\"Fordune\",\"PandaTV-Tongk\",\"Benny-_-\",\"PanDaTV_Karl\",\"homeboye\",\"YUPPIEE\",\"Doomhammer\",\"DinghisKhan\",\"YoonRoot\",\"3N1GmA\",\"synthtail\",\"SevenWolf\",\"FZTEAMLDS\",\"1125\",\"BombBurst\",\"SILPHTV\",\"SexyPIG\",\"TOP_94\",\"zeggi\",\"baoli6666666\",\"Toadoo1\"],\"y\":[17,33,5,8,6,16,142,19,44,8,116,335,87,72,23,3,165,65,16,45,55,45,9,14,277,265,77,52,56,22],\"z\":[3,6,0,4,2,5,12,5,6,2,7,4,9,4,3,1,38,12,6,2,7,4,3,2,48,63,4,3,3,2],\"type\":\"heatmap\"}],                        {\"template\":{\"data\":{\"barpolar\":[{\"marker\":{\"line\":{\"color\":\"#E5ECF6\",\"width\":0.5},\"pattern\":{\"fillmode\":\"overlay\",\"size\":10,\"solidity\":0.2}},\"type\":\"barpolar\"}],\"bar\":[{\"error_x\":{\"color\":\"#2a3f5f\"},\"error_y\":{\"color\":\"#2a3f5f\"},\"marker\":{\"line\":{\"color\":\"#E5ECF6\",\"width\":0.5},\"pattern\":{\"fillmode\":\"overlay\",\"size\":10,\"solidity\":0.2}},\"type\":\"bar\"}],\"carpet\":[{\"aaxis\":{\"endlinecolor\":\"#2a3f5f\",\"gridcolor\":\"white\",\"linecolor\":\"white\",\"minorgridcolor\":\"white\",\"startlinecolor\":\"#2a3f5f\"},\"baxis\":{\"endlinecolor\":\"#2a3f5f\",\"gridcolor\":\"white\",\"linecolor\":\"white\",\"minorgridcolor\":\"white\",\"startlinecolor\":\"#2a3f5f\"},\"type\":\"carpet\"}],\"choropleth\":[{\"colorbar\":{\"outlinewidth\":0,\"ticks\":\"\"},\"type\":\"choropleth\"}],\"contourcarpet\":[{\"colorbar\":{\"outlinewidth\":0,\"ticks\":\"\"},\"type\":\"contourcarpet\"}],\"contour\":[{\"colorbar\":{\"outlinewidth\":0,\"ticks\":\"\"},\"colorscale\":[[0.0,\"#0d0887\"],[0.1111111111111111,\"#46039f\"],[0.2222222222222222,\"#7201a8\"],[0.3333333333333333,\"#9c179e\"],[0.4444444444444444,\"#bd3786\"],[0.5555555555555556,\"#d8576b\"],[0.6666666666666666,\"#ed7953\"],[0.7777777777777778,\"#fb9f3a\"],[0.8888888888888888,\"#fdca26\"],[1.0,\"#f0f921\"]],\"type\":\"contour\"}],\"heatmapgl\":[{\"colorbar\":{\"outlinewidth\":0,\"ticks\":\"\"},\"colorscale\":[[0.0,\"#0d0887\"],[0.1111111111111111,\"#46039f\"],[0.2222222222222222,\"#7201a8\"],[0.3333333333333333,\"#9c179e\"],[0.4444444444444444,\"#bd3786\"],[0.5555555555555556,\"#d8576b\"],[0.6666666666666666,\"#ed7953\"],[0.7777777777777778,\"#fb9f3a\"],[0.8888888888888888,\"#fdca26\"],[1.0,\"#f0f921\"]],\"type\":\"heatmapgl\"}],\"heatmap\":[{\"colorbar\":{\"outlinewidth\":0,\"ticks\":\"\"},\"colorscale\":[[0.0,\"#0d0887\"],[0.1111111111111111,\"#46039f\"],[0.2222222222222222,\"#7201a8\"],[0.3333333333333333,\"#9c179e\"],[0.4444444444444444,\"#bd3786\"],[0.5555555555555556,\"#d8576b\"],[0.6666666666666666,\"#ed7953\"],[0.7777777777777778,\"#fb9f3a\"],[0.8888888888888888,\"#fdca26\"],[1.0,\"#f0f921\"]],\"type\":\"heatmap\"}],\"histogram2dcontour\":[{\"colorbar\":{\"outlinewidth\":0,\"ticks\":\"\"},\"colorscale\":[[0.0,\"#0d0887\"],[0.1111111111111111,\"#46039f\"],[0.2222222222222222,\"#7201a8\"],[0.3333333333333333,\"#9c179e\"],[0.4444444444444444,\"#bd3786\"],[0.5555555555555556,\"#d8576b\"],[0.6666666666666666,\"#ed7953\"],[0.7777777777777778,\"#fb9f3a\"],[0.8888888888888888,\"#fdca26\"],[1.0,\"#f0f921\"]],\"type\":\"histogram2dcontour\"}],\"histogram2d\":[{\"colorbar\":{\"outlinewidth\":0,\"ticks\":\"\"},\"colorscale\":[[0.0,\"#0d0887\"],[0.1111111111111111,\"#46039f\"],[0.2222222222222222,\"#7201a8\"],[0.3333333333333333,\"#9c179e\"],[0.4444444444444444,\"#bd3786\"],[0.5555555555555556,\"#d8576b\"],[0.6666666666666666,\"#ed7953\"],[0.7777777777777778,\"#fb9f3a\"],[0.8888888888888888,\"#fdca26\"],[1.0,\"#f0f921\"]],\"type\":\"histogram2d\"}],\"histogram\":[{\"marker\":{\"pattern\":{\"fillmode\":\"overlay\",\"size\":10,\"solidity\":0.2}},\"type\":\"histogram\"}],\"mesh3d\":[{\"colorbar\":{\"outlinewidth\":0,\"ticks\":\"\"},\"type\":\"mesh3d\"}],\"parcoords\":[{\"line\":{\"colorbar\":{\"outlinewidth\":0,\"ticks\":\"\"}},\"type\":\"parcoords\"}],\"pie\":[{\"automargin\":true,\"type\":\"pie\"}],\"scatter3d\":[{\"line\":{\"colorbar\":{\"outlinewidth\":0,\"ticks\":\"\"}},\"marker\":{\"colorbar\":{\"outlinewidth\":0,\"ticks\":\"\"}},\"type\":\"scatter3d\"}],\"scattercarpet\":[{\"marker\":{\"colorbar\":{\"outlinewidth\":0,\"ticks\":\"\"}},\"type\":\"scattercarpet\"}],\"scattergeo\":[{\"marker\":{\"colorbar\":{\"outlinewidth\":0,\"ticks\":\"\"}},\"type\":\"scattergeo\"}],\"scattergl\":[{\"marker\":{\"colorbar\":{\"outlinewidth\":0,\"ticks\":\"\"}},\"type\":\"scattergl\"}],\"scattermapbox\":[{\"marker\":{\"colorbar\":{\"outlinewidth\":0,\"ticks\":\"\"}},\"type\":\"scattermapbox\"}],\"scatterpolargl\":[{\"marker\":{\"colorbar\":{\"outlinewidth\":0,\"ticks\":\"\"}},\"type\":\"scatterpolargl\"}],\"scatterpolar\":[{\"marker\":{\"colorbar\":{\"outlinewidth\":0,\"ticks\":\"\"}},\"type\":\"scatterpolar\"}],\"scatter\":[{\"fillpattern\":{\"fillmode\":\"overlay\",\"size\":10,\"solidity\":0.2},\"type\":\"scatter\"}],\"scatterternary\":[{\"marker\":{\"colorbar\":{\"outlinewidth\":0,\"ticks\":\"\"}},\"type\":\"scatterternary\"}],\"surface\":[{\"colorbar\":{\"outlinewidth\":0,\"ticks\":\"\"},\"colorscale\":[[0.0,\"#0d0887\"],[0.1111111111111111,\"#46039f\"],[0.2222222222222222,\"#7201a8\"],[0.3333333333333333,\"#9c179e\"],[0.4444444444444444,\"#bd3786\"],[0.5555555555555556,\"#d8576b\"],[0.6666666666666666,\"#ed7953\"],[0.7777777777777778,\"#fb9f3a\"],[0.8888888888888888,\"#fdca26\"],[1.0,\"#f0f921\"]],\"type\":\"surface\"}],\"table\":[{\"cells\":{\"fill\":{\"color\":\"#EBF0F8\"},\"line\":{\"color\":\"white\"}},\"header\":{\"fill\":{\"color\":\"#C8D4E3\"},\"line\":{\"color\":\"white\"}},\"type\":\"table\"}]},\"layout\":{\"annotationdefaults\":{\"arrowcolor\":\"#2a3f5f\",\"arrowhead\":0,\"arrowwidth\":1},\"autotypenumbers\":\"strict\",\"coloraxis\":{\"colorbar\":{\"outlinewidth\":0,\"ticks\":\"\"}},\"colorscale\":{\"diverging\":[[0,\"#8e0152\"],[0.1,\"#c51b7d\"],[0.2,\"#de77ae\"],[0.3,\"#f1b6da\"],[0.4,\"#fde0ef\"],[0.5,\"#f7f7f7\"],[0.6,\"#e6f5d0\"],[0.7,\"#b8e186\"],[0.8,\"#7fbc41\"],[0.9,\"#4d9221\"],[1,\"#276419\"]],\"sequential\":[[0.0,\"#0d0887\"],[0.1111111111111111,\"#46039f\"],[0.2222222222222222,\"#7201a8\"],[0.3333333333333333,\"#9c179e\"],[0.4444444444444444,\"#bd3786\"],[0.5555555555555556,\"#d8576b\"],[0.6666666666666666,\"#ed7953\"],[0.7777777777777778,\"#fb9f3a\"],[0.8888888888888888,\"#fdca26\"],[1.0,\"#f0f921\"]],\"sequentialminus\":[[0.0,\"#0d0887\"],[0.1111111111111111,\"#46039f\"],[0.2222222222222222,\"#7201a8\"],[0.3333333333333333,\"#9c179e\"],[0.4444444444444444,\"#bd3786\"],[0.5555555555555556,\"#d8576b\"],[0.6666666666666666,\"#ed7953\"],[0.7777777777777778,\"#fb9f3a\"],[0.8888888888888888,\"#fdca26\"],[1.0,\"#f0f921\"]]},\"colorway\":[\"#636efa\",\"#EF553B\",\"#00cc96\",\"#ab63fa\",\"#FFA15A\",\"#19d3f3\",\"#FF6692\",\"#B6E880\",\"#FF97FF\",\"#FECB52\"],\"font\":{\"color\":\"#2a3f5f\"},\"geo\":{\"bgcolor\":\"white\",\"lakecolor\":\"white\",\"landcolor\":\"#E5ECF6\",\"showlakes\":true,\"showland\":true,\"subunitcolor\":\"white\"},\"hoverlabel\":{\"align\":\"left\"},\"hovermode\":\"closest\",\"mapbox\":{\"style\":\"light\"},\"paper_bgcolor\":\"white\",\"plot_bgcolor\":\"#E5ECF6\",\"polar\":{\"angularaxis\":{\"gridcolor\":\"white\",\"linecolor\":\"white\",\"ticks\":\"\"},\"bgcolor\":\"#E5ECF6\",\"radialaxis\":{\"gridcolor\":\"white\",\"linecolor\":\"white\",\"ticks\":\"\"}},\"scene\":{\"xaxis\":{\"backgroundcolor\":\"#E5ECF6\",\"gridcolor\":\"white\",\"gridwidth\":2,\"linecolor\":\"white\",\"showbackground\":true,\"ticks\":\"\",\"zerolinecolor\":\"white\"},\"yaxis\":{\"backgroundcolor\":\"#E5ECF6\",\"gridcolor\":\"white\",\"gridwidth\":2,\"linecolor\":\"white\",\"showbackground\":true,\"ticks\":\"\",\"zerolinecolor\":\"white\"},\"zaxis\":{\"backgroundcolor\":\"#E5ECF6\",\"gridcolor\":\"white\",\"gridwidth\":2,\"linecolor\":\"white\",\"showbackground\":true,\"ticks\":\"\",\"zerolinecolor\":\"white\"}},\"shapedefaults\":{\"line\":{\"color\":\"#2a3f5f\"}},\"ternary\":{\"aaxis\":{\"gridcolor\":\"white\",\"linecolor\":\"white\",\"ticks\":\"\"},\"baxis\":{\"gridcolor\":\"white\",\"linecolor\":\"white\",\"ticks\":\"\"},\"bgcolor\":\"#E5ECF6\",\"caxis\":{\"gridcolor\":\"white\",\"linecolor\":\"white\",\"ticks\":\"\"}},\"title\":{\"x\":0.05},\"xaxis\":{\"automargin\":true,\"gridcolor\":\"white\",\"linecolor\":\"white\",\"ticks\":\"\",\"title\":{\"standoff\":15},\"zerolinecolor\":\"white\",\"zerolinewidth\":2},\"yaxis\":{\"automargin\":true,\"gridcolor\":\"white\",\"linecolor\":\"white\",\"ticks\":\"\",\"title\":{\"standoff\":15},\"zerolinecolor\":\"white\",\"zerolinewidth\":2}}}},                        {\"responsive\": true}                    ).then(function(){\n",
       "                            \n",
       "var gd = document.getElementById('70a2b86b-7d90-41ba-a65c-8ccb1d352395');\n",
       "var x = new MutationObserver(function (mutations, observer) {{\n",
       "        var display = window.getComputedStyle(gd).display;\n",
       "        if (!display || display === 'none') {{\n",
       "            console.log([gd, 'removed!']);\n",
       "            Plotly.purge(gd);\n",
       "            observer.disconnect();\n",
       "        }}\n",
       "}});\n",
       "\n",
       "// Listen for the removal of the full notebook cells\n",
       "var notebookContainer = gd.closest('#notebook-container');\n",
       "if (notebookContainer) {{\n",
       "    x.observe(notebookContainer, {childList: true});\n",
       "}}\n",
       "\n",
       "// Listen for the clearing of the current output cell\n",
       "var outputEl = gd.closest('.output');\n",
       "if (outputEl) {{\n",
       "    x.observe(outputEl, {childList: true});\n",
       "}}\n",
       "\n",
       "                        })                };                });            </script>        </div>"
      ]
     },
     "metadata": {},
     "output_type": "display_data"
    }
   ],
   "source": [
    "#NOTE\n",
    "\n",
    "trace = go.Heatmap(z= df_bar_pubg['solo_Wins'],\n",
    "                   x= df_bar_pubg['player_name'],\n",
    "                   y= df_bar_pubg['solo_RoundsPlayed'])\n",
    "data=[trace]\n",
    "iplot(data, filename='labelled-heatmap')"
   ]
  },
  {
   "cell_type": "code",
   "execution_count": null,
   "metadata": {},
   "outputs": [],
   "source": []
  }
 ],
 "metadata": {
  "colab": {
   "collapsed_sections": [],
   "name": "VN_Working With Plotly.ipynb",
   "provenance": []
  },
  "kernelspec": {
   "display_name": "Python 3 (ipykernel)",
   "language": "python",
   "name": "python3"
  },
  "language_info": {
   "codemirror_mode": {
    "name": "ipython",
    "version": 3
   },
   "file_extension": ".py",
   "mimetype": "text/x-python",
   "name": "python",
   "nbconvert_exporter": "python",
   "pygments_lexer": "ipython3",
   "version": "3.11.4"
  }
 },
 "nbformat": 4,
 "nbformat_minor": 1
}
