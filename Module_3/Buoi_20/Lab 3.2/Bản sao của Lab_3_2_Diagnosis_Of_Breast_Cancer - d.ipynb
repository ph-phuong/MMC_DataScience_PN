{
 "cells": [
  {
   "cell_type": "markdown",
   "metadata": {
    "id": "qsQxbvputRtY"
   },
   "source": [
    "# Diagnosis Of Breast Cancer\n",
    "\n",
    "Thời lượng ước tính: **120** phút\n",
    "\n",
    "## Giới thiệu Lab\n",
    "Ung thư vú thường bắt nguồn từ sự phát triển không kiểm soát của các tế bào tạo nên các ống dẫn sữa. Mặc dù khá hiếm gặp ở nam giới (ít hơn 0,1% mắc bệnh này), nhưng theo BreastCancer.org, 1/8 phụ nữ (12%) mắc phải một dạng ung thư vú ác tính trong suốt cuộc đời của họ. Những tế bào xâm lấn này tạo thành khối u phá hủy mô lân cận, có thể lây lan sang các bộ phận khác của cơ thể, và nếu không được điều trị thích hợp thì có thể dẫn đến tử vong. Nói một cách dễ hiểu, ở Mỹ mỗi năm  có khoảng 600 phụ nữ chết do các biến chứng liên quan đến thai nghén ... nhưng có tới hơn 40.000 người chết do ung thư vú.\n",
    "\n",
    "Ung thư vú không phát triển trong chốc lát và giống như bất kỳ bệnh ung thư nào khác, nó có thể được điều trị cực kỳ hiệu quả nếu được phát hiện ở giai đoạn sớm hơn. Một phần kiến thức về bệnh ung thư là biết rằng không phải tất cả các tế bào phát triển không đều đều là ác tính; một số là sự phát triển lành tính, hoặc không nguy hiểm, không phải ung thư. Khối u lành tính không có nghĩa là không tăng kích thước, mà nó chỉ không gây ra mối đe dọa cho các mô lân cận, cũng như không có khả năng lây lan sang các bộ phận khác của cơ thể. Nó chỉ đơn giản ở đó để phát triển. Các khối u lành tính thực sự khá phổ biến, chẳng hạn như nốt ruồi và một số mụn cóc. Do đó, có thể đánh giá chính xác xem một khối u là lành tính hay ác tính, có thể bỏ qua được hay rất đáng báo động; và đây là một bài toán có thể giải quyết được thông qua dữ liệu và machine learning (học máy).\n",
    "\n",
    "Trong lab này, bạn sẽ sử dụng tập dữ liệu **[Breast Cancer Wisconsin Original](https://archive.ics.uci.edu/ml/datasets/Breast+Cancer+Wisconsin+(Original))**, được cung cấp với sự hỗ trợ của Machine Learning Repository từ UCI. Dưới đây là tên cột, bạn có thể đọc thêm chi tiết trên trang thông tin của tập dữ liệu:\n",
    "\n",
    "**['sample', 'thickness', 'size', 'shape', 'adhesion', 'epithelial', 'nuclei', 'chromatin', 'nucleoli', 'mitoses', 'status']**"
   ]
  },
  {
   "cell_type": "code",
   "execution_count": 1,
   "metadata": {
    "executionInfo": {
     "elapsed": 877,
     "status": "ok",
     "timestamp": 1714792226161,
     "user": {
      "displayName": "Nam Lê Hoàng",
      "userId": "04706170583322624514"
     },
     "user_tz": -420
    },
    "id": "ybrJc_3xtRtd"
   },
   "outputs": [],
   "source": [
    "import random, math\n",
    "import pandas as pd\n",
    "import numpy as np\n",
    "import scipy.io\n",
    "\n",
    "from mpl_toolkits.mplot3d import Axes3D\n",
    "import matplotlib.pyplot as plt\n",
    "\n",
    "plt.style.use('ggplot') # Look Pretty\n",
    "\n",
    "\n",
    "# Leave this alone until indicated:\n",
    "Test_PCA = False"
   ]
  },
  {
   "cell_type": "markdown",
   "metadata": {
    "id": "3qD4KY8ztRtm"
   },
   "source": [
    "### Hàm hữu ích"
   ]
  },
  {
   "cell_type": "markdown",
   "metadata": {
    "id": "AsStrakJtRto"
   },
   "source": [
    "Phương pháp này chỉ nhằm mục đích thuận tiện cho việc trực quan hóa. Bạn không nên tự kết hợp điều này với nhau, dù bây giờ bạn có thể làm theo code:"
   ]
  },
  {
   "cell_type": "code",
   "execution_count": 2,
   "metadata": {
    "executionInfo": {
     "elapsed": 14,
     "status": "ok",
     "timestamp": 1714792225294,
     "user": {
      "displayName": "Nam Lê Hoàng",
      "userId": "04706170583322624514"
     },
     "user_tz": -420
    },
    "id": "jcJlMLSRtRtq"
   },
   "outputs": [],
   "source": [
    "def plotDecisionBoundary(model, X, y):\n",
    "    print(\"Plotting...\")\n",
    "\n",
    "    fig = plt.figure()\n",
    "    ax = fig.add_subplot(111)\n",
    "\n",
    "    padding = 0.1\n",
    "    resolution = 0.1\n",
    "\n",
    "    #(2 for benign, 4 for malignant)\n",
    "    colors = {2:'royalblue', 4:'lightsalmon'}\n",
    "\n",
    "\n",
    "    # Calculate the boundaris\n",
    "    x_min, x_max = X[:, 0].min(), X[:, 0].max()\n",
    "    y_min, y_max = X[:, 1].min(), X[:, 1].max()\n",
    "    x_range = x_max - x_min\n",
    "    y_range = y_max - y_min\n",
    "    x_min -= x_range * padding\n",
    "    y_min -= y_range * padding\n",
    "    x_max += x_range * padding\n",
    "    y_max += y_range * padding\n",
    "\n",
    "    # Create a 2D Grid Matrix. The values stored in the matrix\n",
    "    # are the predictions of the class at at said location\n",
    "    xx, yy = np.meshgrid(np.arange(x_min, x_max, resolution),\n",
    "                         np.arange(y_min, y_max, resolution))\n",
    "\n",
    "    # What class does the classifier say?\n",
    "    Z = model.predict(np.c_[xx.ravel(), yy.ravel()])\n",
    "    Z = Z.reshape(xx.shape)\n",
    "\n",
    "    # Plot the contour map\n",
    "    plt.contourf(xx, yy, Z, cmap=plt.cm.seismic)\n",
    "    plt.axis('tight')\n",
    "\n",
    "    # Plot your testing points as well...\n",
    "    for label in np.unique(y):\n",
    "        indices = np.where(y == label)\n",
    "        plt.scatter(X[indices, 0], X[indices, 1], c=colors[label], alpha=0.8)\n",
    "\n",
    "    p = model.get_params()\n",
    "    plt.title('K = ' + str(p['n_neighbors']))\n",
    "    plt.show()"
   ]
  },
  {
   "cell_type": "markdown",
   "metadata": {
    "collapsed": true,
    "id": "U7_wk7wftRtx"
   },
   "source": [
    "## 1. Chuẩn bị dữ liệu"
   ]
  },
  {
   "cell_type": "markdown",
   "metadata": {
    "collapsed": true,
    "id": "UvBzWvYvtRty"
   },
   "source": [
    "Load trong tập dữ liệu (**breast-cancer-wisconsin.data**), xác định nans, và đặt đúng header (tiêu đề). Đảm bảo xác minh các hàng đã sắp xếp bằng cách xem tệp trong trình soạn thảo văn bản."
   ]
  },
  {
   "cell_type": "code",
   "execution_count": 12,
   "metadata": {
    "id": "y-_pz4s8tRt0"
   },
   "outputs": [
    {
     "name": "stdout",
     "output_type": "stream",
     "text": [
      "Origin Data: \n",
      "           0   1   2   3   4   5   6   7   8   9   10\n",
      "0    1000025   5   1   1   1   2   1   3   1   1   2\n",
      "1    1002945   5   4   4   5   7  10   3   2   1   2\n",
      "2    1015425   3   1   1   1   2   2   3   1   1   2\n",
      "3    1016277   6   8   8   1   3   4   3   7   1   2\n",
      "4    1017023   4   1   1   3   2   1   3   1   1   2\n",
      "..       ...  ..  ..  ..  ..  ..  ..  ..  ..  ..  ..\n",
      "694   776715   3   1   1   1   3   2   1   1   1   2\n",
      "695   841769   2   1   1   1   2   1   1   1   1   2\n",
      "696   888820   5  10  10   3   7   3   8  10   2   4\n",
      "697   897471   4   8   6   4   3   4  10   6   1   4\n",
      "698   897471   4   8   8   5   4   5  10   4   1   4\n",
      "\n",
      "[699 rows x 11 columns]\n"
     ]
    },
    {
     "data": {
      "text/html": [
       "<div>\n",
       "<style scoped>\n",
       "    .dataframe tbody tr th:only-of-type {\n",
       "        vertical-align: middle;\n",
       "    }\n",
       "\n",
       "    .dataframe tbody tr th {\n",
       "        vertical-align: top;\n",
       "    }\n",
       "\n",
       "    .dataframe thead th {\n",
       "        text-align: right;\n",
       "    }\n",
       "</style>\n",
       "<table border=\"1\" class=\"dataframe\">\n",
       "  <thead>\n",
       "    <tr style=\"text-align: right;\">\n",
       "      <th></th>\n",
       "      <th>sample</th>\n",
       "      <th>thickness</th>\n",
       "      <th>size</th>\n",
       "      <th>shape</th>\n",
       "      <th>adhesion</th>\n",
       "      <th>epithelial</th>\n",
       "      <th>nuclei</th>\n",
       "      <th>chromatin</th>\n",
       "      <th>nucleoli</th>\n",
       "      <th>mitoses</th>\n",
       "      <th>status</th>\n",
       "    </tr>\n",
       "  </thead>\n",
       "  <tbody>\n",
       "    <tr>\n",
       "      <th>0</th>\n",
       "      <td>1000025</td>\n",
       "      <td>5</td>\n",
       "      <td>1</td>\n",
       "      <td>1</td>\n",
       "      <td>1</td>\n",
       "      <td>2</td>\n",
       "      <td>1</td>\n",
       "      <td>3</td>\n",
       "      <td>1</td>\n",
       "      <td>1</td>\n",
       "      <td>2</td>\n",
       "    </tr>\n",
       "    <tr>\n",
       "      <th>1</th>\n",
       "      <td>1002945</td>\n",
       "      <td>5</td>\n",
       "      <td>4</td>\n",
       "      <td>4</td>\n",
       "      <td>5</td>\n",
       "      <td>7</td>\n",
       "      <td>10</td>\n",
       "      <td>3</td>\n",
       "      <td>2</td>\n",
       "      <td>1</td>\n",
       "      <td>2</td>\n",
       "    </tr>\n",
       "    <tr>\n",
       "      <th>2</th>\n",
       "      <td>1015425</td>\n",
       "      <td>3</td>\n",
       "      <td>1</td>\n",
       "      <td>1</td>\n",
       "      <td>1</td>\n",
       "      <td>2</td>\n",
       "      <td>2</td>\n",
       "      <td>3</td>\n",
       "      <td>1</td>\n",
       "      <td>1</td>\n",
       "      <td>2</td>\n",
       "    </tr>\n",
       "    <tr>\n",
       "      <th>3</th>\n",
       "      <td>1016277</td>\n",
       "      <td>6</td>\n",
       "      <td>8</td>\n",
       "      <td>8</td>\n",
       "      <td>1</td>\n",
       "      <td>3</td>\n",
       "      <td>4</td>\n",
       "      <td>3</td>\n",
       "      <td>7</td>\n",
       "      <td>1</td>\n",
       "      <td>2</td>\n",
       "    </tr>\n",
       "    <tr>\n",
       "      <th>4</th>\n",
       "      <td>1017023</td>\n",
       "      <td>4</td>\n",
       "      <td>1</td>\n",
       "      <td>1</td>\n",
       "      <td>3</td>\n",
       "      <td>2</td>\n",
       "      <td>1</td>\n",
       "      <td>3</td>\n",
       "      <td>1</td>\n",
       "      <td>1</td>\n",
       "      <td>2</td>\n",
       "    </tr>\n",
       "  </tbody>\n",
       "</table>\n",
       "</div>"
      ],
      "text/plain": [
       "    sample  thickness  size  shape  adhesion  epithelial nuclei  chromatin  \\\n",
       "0  1000025          5     1      1         1           2      1          3   \n",
       "1  1002945          5     4      4         5           7     10          3   \n",
       "2  1015425          3     1      1         1           2      2          3   \n",
       "3  1016277          6     8      8         1           3      4          3   \n",
       "4  1017023          4     1      1         3           2      1          3   \n",
       "\n",
       "   nucleoli  mitoses  status  \n",
       "0         1        1       2  \n",
       "1         2        1       2  \n",
       "2         1        1       2  \n",
       "3         7        1       2  \n",
       "4         1        1       2  "
      ]
     },
     "execution_count": 12,
     "metadata": {},
     "output_type": "execute_result"
    }
   ],
   "source": [
    "df = pd.read_csv('Bản sao của breast-cancer-wisconsin.data', header=None)\n",
    "print('Origin Data: \\n', df)\n",
    "\n",
    "# Đặt tên cột tương ứng\n",
    "df.columns = ['sample', 'thickness', 'size', 'shape', 'adhesion', 'epithelial', 'nuclei', 'chromatin', 'nucleoli', 'mitoses', 'status']\n",
    "\n",
    "df.head()"
   ]
  },
  {
   "cell_type": "markdown",
   "metadata": {
    "id": "oSmvSbGjtRt7"
   },
   "source": [
    "Sao chép cột trạng thái vào một slice, sau đó thả cột đó khỏi khung dữ liệu chính. Luôn xác minh rằng bạn đã thực hiện thả đúng cách bằng cách kiểm tra kỹ (in ra kết quả hoạt động)! Nhiều người quên đặt trục bên phải ở đây.\n",
    "\n",
    "Nếu bạn cảm thấy khó chịu khi load tập dữ liệu và nhận thấy rằng bạn có cột `sample`, bạn cũng nên bỏ qua nó nếu bạn chưa có."
   ]
  },
  {
   "cell_type": "code",
   "execution_count": 13,
   "metadata": {
    "id": "Pc8PoOVttRt9"
   },
   "outputs": [
    {
     "name": "stdout",
     "output_type": "stream",
     "text": [
      "Slice copy: \n",
      " 0      2\n",
      "1      2\n",
      "2      2\n",
      "3      2\n",
      "4      2\n",
      "      ..\n",
      "694    2\n",
      "695    2\n",
      "696    4\n",
      "697    4\n",
      "698    4\n",
      "Name: status, Length: 699, dtype: int64\n",
      "Data without Status: \n",
      "       sample  thickness  size  shape  adhesion  epithelial nuclei  chromatin  \\\n",
      "0    1000025          5     1      1         1           2      1          3   \n",
      "1    1002945          5     4      4         5           7     10          3   \n",
      "2    1015425          3     1      1         1           2      2          3   \n",
      "3    1016277          6     8      8         1           3      4          3   \n",
      "4    1017023          4     1      1         3           2      1          3   \n",
      "..       ...        ...   ...    ...       ...         ...    ...        ...   \n",
      "694   776715          3     1      1         1           3      2          1   \n",
      "695   841769          2     1      1         1           2      1          1   \n",
      "696   888820          5    10     10         3           7      3          8   \n",
      "697   897471          4     8      6         4           3      4         10   \n",
      "698   897471          4     8      8         5           4      5         10   \n",
      "\n",
      "     nucleoli  mitoses  \n",
      "0           1        1  \n",
      "1           2        1  \n",
      "2           1        1  \n",
      "3           7        1  \n",
      "4           1        1  \n",
      "..        ...      ...  \n",
      "694         1        1  \n",
      "695         1        1  \n",
      "696        10        2  \n",
      "697         6        1  \n",
      "698         4        1  \n",
      "\n",
      "[699 rows x 10 columns]\n"
     ]
    }
   ],
   "source": [
    "status_slice_copy = df['status'].copy()\n",
    "print('Slice copy: \\n', status_slice_copy)\n",
    "\n",
    "df.drop('status', axis=1, inplace=True)\n",
    "print('Data without Status: \\n', df)"
   ]
  },
  {
   "cell_type": "markdown",
   "metadata": {
    "id": "C-3Lo9TKtRuG"
   },
   "source": [
    "Sau khi các nhãn được xuất an toàn từ tập dữ liệu, hãy thay thế bất kỳ giá trị nan nào bằng giá trị cột/thuộc tính trung bình:"
   ]
  },
  {
   "cell_type": "code",
   "execution_count": 16,
   "metadata": {
    "id": "UjiufhQqtRuH"
   },
   "outputs": [
    {
     "name": "stdout",
     "output_type": "stream",
     "text": [
      "Type: \n",
      " sample         int64\n",
      "thickness      int64\n",
      "size           int64\n",
      "shape          int64\n",
      "adhesion       int64\n",
      "epithelial     int64\n",
      "nuclei        object\n",
      "chromatin      int64\n",
      "nucleoli       int64\n",
      "mitoses        int64\n",
      "dtype: object\n",
      "['1' '10' '2' '4' '3' '9' '7' '?' '5' '8' '6']\n",
      "Average of Nuclei:  3\n"
     ]
    },
    {
     "data": {
      "text/plain": [
       "array([ 1, 10,  2,  4,  3,  9,  7,  5,  8,  6], dtype=int64)"
      ]
     },
     "execution_count": 16,
     "metadata": {},
     "output_type": "execute_result"
    }
   ],
   "source": [
    "# Kiểm tra loại dữ liệu từng cột\n",
    "print('Type: \\n', df.dtypes)\n",
    "\n",
    "# In giá trị duy nhất của cột Nuclei\n",
    "print(df['nuclei'].unique())\n",
    "\n",
    "# Thay giá trị đặc biệt bằng nan, đổi kiểu float và tính giá trị trung bình của cột Nuclei\n",
    "avg_nuclei = df['nuclei'].replace('?', np.nan).astype(float).mean()\n",
    "print('Average of Nuclei: ', int(avg_nuclei))\n",
    "\n",
    "# Thay thế giá trị nan bằng giá trị trung bình với kiểu int64\n",
    "df['nuclei'] = df['nuclei'].replace('?', int(avg_nuclei)).astype(np.int64)\n",
    "\n",
    "# In giá trị duy nhất của cột Nuclei\n",
    "df['nuclei'].unique()"
   ]
  },
  {
   "cell_type": "markdown",
   "metadata": {
    "id": "elH_BYtEtRuO"
   },
   "source": [
    "Triển khai train_test_split. Sử dụng các tên biến tương tự như trên nền tảng EdX trong tài liệu đọc, nhưng đặt random_state = 7 cho khả năng tái lập và giữ test_size ở 0,5 (50%)."
   ]
  },
  {
   "cell_type": "code",
   "execution_count": 19,
   "metadata": {
    "id": "G6l5zha1tRuP"
   },
   "outputs": [
    {
     "name": "stdout",
     "output_type": "stream",
     "text": [
      "5 phần tử đầu tiên của tập huấn luyện X_train \n",
      "       sample  thickness  size  shape  adhesion  epithelial  nuclei  chromatin  \\\n",
      "28   1067444          2     1      1         1           2       1          2   \n",
      "376   640712          1     1      1         1           2       1          2   \n",
      "453  1230994          4     5      5         8           6      10         10   \n",
      "401  1213784          3     1      1         1           2       1          1   \n",
      "254  1116116          9    10     10         1          10       8          3   \n",
      "\n",
      "     nucleoli  mitoses  \n",
      "28          1        1  \n",
      "376         1        1  \n",
      "453         7        1  \n",
      "401         1        1  \n",
      "254         3        1  \n",
      "Số lượng phần tử trong tập huấn luyện và tập kiểm tra:  349 350\n",
      "-------------------------\n",
      "5 phần tử đầu tiên của tập nhãn huấn luyện y_train: \n",
      " 28     2\n",
      "376    2\n",
      "453    4\n",
      "401    2\n",
      "254    4\n",
      "Name: status, dtype: int64\n",
      "Số lượng phần tử trong tập nhãn huấn luyện và tập nhãn kiểm tra 349 350\n"
     ]
    }
   ],
   "source": [
    "from sklearn.model_selection import train_test_split\n",
    "\n",
    "# chia dữ liệu thành 2 tập train và test với tỷ lệ 50-50\n",
    "X_train, X_test, y_train, y_test = train_test_split(df, status_slice_copy, test_size=0.5, random_state=7)\n",
    "\n",
    "print('5 phần tử đầu tiên của tập huấn luyện X_train \\n', X_train[:5])\n",
    "print('Số lượng phần tử trong tập huấn luyện và tập kiểm tra: ', len(X_train), len(X_test))\n",
    "print('-'*25)\n",
    "print('5 phần tử đầu tiên của tập nhãn huấn luyện y_train: \\n', y_train[:5])\n",
    "print('Số lượng phần tử trong tập nhãn huấn luyện và tập nhãn kiểm tra', len(y_train), len(y_test))"
   ]
  },
  {
   "cell_type": "markdown",
   "metadata": {
    "id": "daokpc-8tRuV"
   },
   "source": [
    "Thử nghiệm với các bộ chia tỷ lệ tiền xử lý SKLearn cơ bản. Chúng ta biết rằng các thuộc tính gồm các đơn vị khác nhau được trộn lẫn với nhau, do đó khá hợp lý khi cho rằng việc mở rộng thuộc tính là cần thiết. In ra mô tả của tập dữ liệu, chuyển đổi sau đó. Nhớ lại: khi tiền xử lý, mô hình được huấn luyện dựa trên phần nào của tập dữ liệu? Ngoài ra (các) phần nào của tập dữ liệu thực sự được chuyển đổi?"
   ]
  },
  {
   "cell_type": "code",
   "execution_count": 22,
   "metadata": {
    "id": "WmOgVKtGtRuW"
   },
   "outputs": [
    {
     "name": "stdout",
     "output_type": "stream",
     "text": [
      "5 phần tử đầu tiên của X_train sau khi chuẩn hóa: \n",
      " [[0.12289211 0.11111111 0.         0.         0.         0.11111111\n",
      "  0.         0.11111111 0.         0.        ]\n",
      " [0.07066264 0.         0.         0.         0.         0.11111111\n",
      "  0.         0.11111111 0.         0.        ]\n",
      " [0.14290967 0.33333333 0.44444444 0.44444444 0.77777778 0.55555556\n",
      "  1.         1.         0.66666667 0.        ]\n",
      " [0.14080327 0.22222222 0.         0.         0.         0.11111111\n",
      "  0.         0.         0.         0.        ]\n",
      " [0.12884928 0.88888889 1.         1.         0.         1.\n",
      "  0.77777778 0.22222222 0.22222222 0.        ]]\n",
      "-------------------------\n",
      "5 phần tử đầu tiên của X_test sau khi chuẩn hóa: \n",
      " [[0.07006682 0.77777778 0.33333333 1.         0.44444444 0.33333333\n",
      "  0.33333333 0.66666667 1.         0.        ]\n",
      " [0.1340252  0.         0.11111111 0.22222222 0.         0.11111111\n",
      "  0.         0.11111111 0.         0.        ]\n",
      " [0.03546038 0.33333333 0.         0.         0.11111111 0.11111111\n",
      "  0.         0.         0.         0.        ]\n",
      " [0.05263888 0.         0.         0.22222222 0.         0.11111111\n",
      "  0.         0.         0.         0.        ]\n",
      " [0.13210374 0.44444444 1.         1.         1.         0.55555556\n",
      "  1.         0.55555556 0.44444444 0.11111111]]\n"
     ]
    }
   ],
   "source": [
    "from sklearn.preprocessing import MinMaxScaler\n",
    "\n",
    "# Chuẩn hóa dữ liệu để tất cả các giá trị của thuộc tính sẽ được đưa vào khoảng [0, 1]\n",
    "scaler = MinMaxScaler()\n",
    "\n",
    "X_train = scaler.fit_transform(X_train)\n",
    "X_test = scaler.transform(X_test)\n",
    "\n",
    "print('5 phần tử đầu tiên của X_train sau khi chuẩn hóa: \\n', X_train[:5])\n",
    "print('-'*25) \n",
    "print('5 phần tử đầu tiên của X_test sau khi chuẩn hóa: \\n', X_test[:5])"
   ]
  },
  {
   "cell_type": "markdown",
   "metadata": {
    "id": "yq7ZY--PtRud"
   },
   "source": [
    "### Giảm kích thước chiều"
   ]
  },
  {
   "cell_type": "markdown",
   "metadata": {
    "id": "YPONsL9-tRue"
   },
   "source": [
    "[PCA](https://blog.paperspace.com/dimension-reduction-with-principal-component-analysis/) và [Isomap](https://https://blog.paperspace.com/dimension-reduction-with-isomap/) là trợ thủ đắc lực cho bạn"
   ]
  },
  {
   "cell_type": "code",
   "execution_count": 24,
   "metadata": {
    "id": "UDt5EqiAtRuf"
   },
   "outputs": [
    {
     "name": "stdout",
     "output_type": "stream",
     "text": [
      "Computing 2D Isomap Manifold\n"
     ]
    }
   ],
   "source": [
    "from sklearn.manifold import Isomap\n",
    "\n",
    "model = None\n",
    "if Test_PCA:\n",
    "    print(\"Computing 2D Principle Components\")\n",
    "    model = PCA(n_components=2)\n",
    "else:\n",
    "    print(\"Computing 2D Isomap Manifold\")\n",
    "model = Isomap(n_neighbors=5, n_components=2)"
   ]
  },
  {
   "cell_type": "code",
   "execution_count": 26,
   "metadata": {},
   "outputs": [],
   "source": [
    "from sklearn.decomposition import PCA\n",
    "\n",
    "model_pca = PCA(n_components=2)\n",
    "model_isomap = Isomap(n_neighbors=5, n_components=2)"
   ]
  },
  {
   "cell_type": "markdown",
   "metadata": {
    "id": "FPKg-N2jvUry"
   },
   "source": [
    "## 2. Huấn luyện mô hình"
   ]
  },
  {
   "cell_type": "markdown",
   "metadata": {
    "id": "yQJILS-StRum"
   },
   "source": [
    "Huấn luyện mô hình của bạn dựa trên data_train, sau đó chuyển đổi cả `data_train` và` data_test` bằng mô hình của bạn. Bạn có thể lưu lại kết quả vào chính các biến."
   ]
  },
  {
   "cell_type": "code",
   "execution_count": 27,
   "metadata": {
    "id": "QiaqyS7qtRun"
   },
   "outputs": [
    {
     "name": "stdout",
     "output_type": "stream",
     "text": [
      "PCA:\n",
      "(349, 2)\n",
      "[[-0.64547094  0.02976761]\n",
      " [-0.68058273  0.04275737]\n",
      " [ 1.06091561 -0.32633353]\n",
      " [-0.64127887  0.02629903]\n",
      " [ 1.08009272  0.07436473]]\n",
      "-------------------------\n",
      "[[ 0.95612254  0.33413197]\n",
      " [-0.54615696  0.11701145]\n",
      " [-0.56938953  0.00454659]\n",
      " [-0.62246508  0.09622481]\n",
      " [ 1.42994859 -0.11243034]]\n",
      "Isomap:\n",
      "(349, 2)\n",
      "[[-1.05965211 -0.07803458]\n",
      " [-1.1871428  -0.01539562]\n",
      " [ 2.47124976 -0.09159996]\n",
      " [-1.17321036 -0.014841  ]\n",
      " [ 2.93279577 -1.03063682]]\n",
      "-------------------------\n",
      "[[ 1.71379624 -0.12051596]\n",
      " [-1.27270452 -0.11175675]\n",
      " [-1.17301248 -0.16573773]\n",
      " [-1.39067826  0.0443928 ]\n",
      " [ 2.65261723  0.11494096]]\n"
     ]
    }
   ],
   "source": [
    "X_train_pca = model_pca.fit_transform(X_train)\n",
    "X_test_pca = model_pca.transform(X_test)\n",
    "\n",
    "X_train_iso = model_isomap.fit_transform(X_train)\n",
    "X_test_iso = model_isomap.transform(X_test)\n",
    "\n",
    "print('PCA:')\n",
    "print(X_train_pca.shape)\n",
    "print(X_train_pca[:5])\n",
    "print('-'*25)\n",
    "print(X_test_pca[:5])\n",
    "\n",
    "print('Isomap:')\n",
    "print(X_train_iso.shape)\n",
    "print(X_train_iso[:5])\n",
    "print('-'*25)\n",
    "print(X_test_iso[:5])"
   ]
  },
  {
   "cell_type": "markdown",
   "metadata": {
    "id": "SJ2MFLPUtRuv"
   },
   "source": [
    "Triển khai và huấn luyện `KNeighborsClassifier` trên dữ liệu huấn luyện 2D dự kiến tại đây. Bạn có thể đặt tên biến của mình là `knmodel`. Bạn có thể sử dụng bất kỳ giá trị `K` nào từ 1 - 15, vậy hãy thử với nó và xem được kết quả nào. Mục tiêu của bạn là tìm sự cân bằng tốt, trong đó bạn không quá cụ thể (K thấp), cũng không quá chung chung (K cao). Bạn cũng nên thử nghiệm xem việc thay đổi tham số trọng số ảnh hưởng đến kết quả ra sao."
   ]
  },
  {
   "cell_type": "code",
   "execution_count": 28,
   "metadata": {
    "id": "1aPRKB-vtRuw"
   },
   "outputs": [
    {
     "name": "stdout",
     "output_type": "stream",
     "text": [
      "0.9628571428571429\n"
     ]
    }
   ],
   "source": [
    "from sklearn.neighbors import KNeighborsClassifier\n",
    "\n",
    "knmodel = KNeighborsClassifier(n_neighbors=3, weights='distance')\n",
    "knmodel.fit(X_train_pca, y_train)\n",
    "\n",
    "print(knmodel.score(X_test_pca, y_test))"
   ]
  },
  {
   "cell_type": "code",
   "execution_count": 29,
   "metadata": {
    "id": "VrCku8-MtRu4"
   },
   "outputs": [
    {
     "data": {
      "image/png": "[encoded data removed]",
      "text/plain": [
       "<Figure size 640x480 with 1 Axes>"
      ]
     },
     "metadata": {},
     "output_type": "display_data"
    }
   ],
   "source": [
    "import matplotlib.pyplot as plt\n",
    "\n",
    "k_values = range(1, 16)\n",
    "scores = []\n",
    "\n",
    "for k in k_values:\n",
    "  knmodel = KNeighborsClassifier(n_neighbors=k, weights='uniform')\n",
    "  knmodel.fit(X_train_pca, y_train)\n",
    "  scores.append(knmodel.score(X_test_pca, y_test))\n",
    "\n",
    "plt.plot(k_values, scores)\n",
    "plt.xlabel('k')\n",
    "plt.ylabel('Score')\n",
    "plt.show()"
   ]
  },
  {
   "cell_type": "markdown",
   "metadata": {
    "id": "8_fUw8XTtRu2"
   },
   "source": [
    "Hãy luôn ghi nhớ miền của bài toán! Điều quan trọng hơn là phải phân loại sai một khối u lành tính là ác tính và loại bỏ nó hơn là để lại một khối u ác tính một cách không chính xác, tin rằng nó là lành tính, và sau đó ung thư phát triển. Vì trọng số UDF không cung cấp cho bạn bất kỳ thông tin lớp nào, nên cách duy nhất để đưa dữ liệu này vào Bộ phân loại KNN (KNN Classifier) của SKLearn là \"kết tụ\" nó vào dữ liệu của bạn. Ví dụ, giảm ngẫu nhiên tỷ lệ mẫu lành tính so với mẫu ác tính từ training set."
   ]
  },
  {
   "cell_type": "markdown",
   "metadata": {
    "id": "MxOOC1ksvZXc"
   },
   "source": [
    "## 3. Đánh giá mô hình"
   ]
  },
  {
   "cell_type": "markdown",
   "metadata": {
    "collapsed": true,
    "id": "K3Jio_zStRu3"
   },
   "source": [
    "Tính toán và hiển thị độ chính xác và F1 score của testing set:"
   ]
  },
  {
   "cell_type": "code",
   "execution_count": 31,
   "metadata": {},
   "outputs": [
    {
     "name": "stdout",
     "output_type": "stream",
     "text": [
      "F1 Score: 0.9421487603305786, Accuracy: 0.96\n"
     ]
    }
   ],
   "source": [
    "from sklearn.metrics import f1_score, accuracy_score\n",
    "\n",
    "y_pred_pca = knmodel.predict(X_test_pca)\n",
    "f1_score_pca = f1_score(y_test, y_pred_pca, pos_label=4)\n",
    "accuracy_score_pca = accuracy_score(y_test, y_pred_pca)\n",
    "\n",
    "print(f'F1 Score: {f1_score_pca}, Accuracy: {accuracy_score_pca}')"
   ]
  },
  {
   "cell_type": "code",
   "execution_count": 34,
   "metadata": {
    "id": "9OxSR4GHtRu9"
   },
   "outputs": [
    {
     "name": "stdout",
     "output_type": "stream",
     "text": [
      "Plotting...\n"
     ]
    },
    {
     "data": {
      "image/png": "[encoded data removed]",
      "text/plain": [
       "<Figure size 640x480 with 1 Axes>"
      ]
     },
     "metadata": {},
     "output_type": "display_data"
    }
   ],
   "source": [
    "plotDecisionBoundary(knmodel, X_test, y_test)"
   ]
  },
  {
   "cell_type": "code",
   "execution_count": null,
   "metadata": {},
   "outputs": [],
   "source": []
  }
 ],
 "metadata": {
  "anaconda-cloud": {},
  "colab": {
   "provenance": []
  },
  "kernelspec": {
   "display_name": "Python 3 (ipykernel)",
   "language": "python",
   "name": "python3"
  },
  "language_info": {
   "codemirror_mode": {
    "name": "ipython",
    "version": 3
   },
   "file_extension": ".py",
   "mimetype": "text/x-python",
   "name": "python",
   "nbconvert_exporter": "python",
   "pygments_lexer": "ipython3",
   "version": "3.11.4"
  },
  "toc": {
   "colors": {
    "hover_highlight": "#DAA520",
    "running_highlight": "#FF0000",
    "selected_highlight": "#FFD700"
   },
   "moveMenuLeft": true,
   "nav_menu": {
    "height": "58px",
    "width": "252px"
   },
   "navigate_menu": true,
   "number_sections": true,
   "sideBar": true,
   "threshold": 4,
   "toc_cell": false,
   "toc_section_display": "block",
   "toc_window_display": false,
   "widenNotebook": false
  }
 },
 "nbformat": 4,
 "nbformat_minor": 1
}
