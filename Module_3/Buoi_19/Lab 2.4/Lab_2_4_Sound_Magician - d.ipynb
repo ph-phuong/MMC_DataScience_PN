{
 "cells": [
  {
   "cell_type": "markdown",
   "metadata": {
    "id": "CtpmzhmaTg_C"
   },
   "source": [
    "# Sound Magician\n",
    "\n",
    "Thời lượng ước tính: **120** phút\n",
    "\n",
    "## Giới thiệu lab\n",
    "Nâng cao! Có thể bạn đã từng xem một bộ phim hoặc chương trình truyền hình mà các điệp viên siêu hạng sử dụng một số kỹ thuật khó tin để nâng cao hình ảnh pixelated hoặc khôi phục một số dữ liệu bị mất. Trong lab này, bạn sẽ thực hiện điều tương tự — lần này mục tiêu của bạn là sử dụng hồi quy tuyến tính để khôi phục hoặc 'điền vào' phần bị xóa hoàn toàn của một tệp âm thanh!\n",
    "\n",
    "Để hoàn thành lab này, bạn sẽ sử dụng FSDD (Free-Spoken-Digits-Dataset), một tập dữ liệu âm thanh do Zohar Jackson tổng hợp lại khi anh ấy nhận thấy không có nhiều âm thanh được làm sạch (không có khoảng trống, độ dài tương đương, cùng bitrate, cùng tỷ lệ mẫu trên giây, ...) thư viện âm thanh sẵn sàng cho machine learning."
   ]
  },
  {
   "cell_type": "code",
   "execution_count": 1,
   "metadata": {
    "executionInfo": {
     "elapsed": 397,
     "status": "ok",
     "timestamp": 1719236579882,
     "user": {
      "displayName": "Phuong Nguyen",
      "userId": "11974806599025701743"
     },
     "user_tz": -420
    },
    "id": "UPQa1SVTTg_G"
   },
   "outputs": [],
   "source": [
    "import numpy as np\n",
    "import pandas as pd\n",
    "import os\n",
    "\n",
    "from sklearn.utils.validation import check_random_state\n",
    "from sklearn.linear_model import LinearRegression\n",
    "from sklearn.metrics import mean_squared_error, mean_absolute_error\n",
    "import scipy.io.wavfile as wavfile"
   ]
  },
  {
   "cell_type": "markdown",
   "metadata": {
    "id": "FIJAy5U0Tg_T"
   },
   "source": [
    "### Về Âm thanh"
   ]
  },
  {
   "cell_type": "markdown",
   "metadata": {
    "id": "y9lY3g5oTg_U"
   },
   "source": [
    "Mẫu là các quan sát. Mỗi tệp âm thanh sẽ là một mẫu duy nhất trong tập dữ liệu.\n",
    "\n",
    "Tìm thêm thông tin về [Mẫu âm thanh tại đây] (https://en.wikipedia.org/wiki/Sampling_(signal_processing)).\n",
    "\n",
    "Mỗi tệp .wav thực sự chỉ là một loạt các mẫu số, được lấy mẫu từ tín hiệu analog. Sampling (Lấy mẫu) là một kiểu rời rạc. Khi chúng ta đề cập đến các 'sample (mẫu)', tức là các quan sát. Khi đề cập đến 'audio sample', chúng ta muốn nói đến \"feature (thuộc tính)\" thực sự của tệp âm thanh.\n",
    "\n",
    "Mục tiêu của lab này là sử dụng hồi quy tuyến tính, đa mục tiêu để tạo ra bằng phép ngoại suy phần bị thiếu của tệp âm thanh thử nghiệm.\n",
    "\n",
    "Mỗi một thuộc tính audio_sample sẽ là đầu ra của một phương trình, là một hàm của phần được cung cấp của audio_samples:\n",
    "\n",
    "    missing_samples = f(provided_samples)\n",
    "\n",
    "Bạn có thể thử với lượng âm thanh bạn muốn cắt và để máy tính tạo ra bằng tham số Provided_Portion."
   ]
  },
  {
   "cell_type": "markdown",
   "metadata": {
    "id": "ayulRqRrTg_W"
   },
   "source": [
    "Hãy sử dụng cái này. Đây là lượng tệp âm thanh sẽ được cung cấp, tính bằng phần trăm. Phần trăm còn lại của tệp sẽ được tạo thông qua phép ngoại suy tuyến tính."
   ]
  },
  {
   "cell_type": "code",
   "execution_count": 2,
   "metadata": {
    "executionInfo": {
     "elapsed": 3,
     "status": "ok",
     "timestamp": 1719235740115,
     "user": {
      "displayName": "Phuong Nguyen",
      "userId": "11974806599025701743"
     },
     "user_tz": -420
    },
    "id": "i7chXL5DTg_X"
   },
   "outputs": [],
   "source": [
    "Provided_Portion = 0.25"
   ]
  },
  {
   "cell_type": "markdown",
   "metadata": {
    "collapsed": true,
    "id": "CvGpdC1RTg_d"
   },
   "source": [
    "## 1. Chuẩn bị dữ liệu"
   ]
  },
  {
   "cell_type": "markdown",
   "metadata": {
    "id": "KMngCekmTg_f"
   },
   "source": [
    "Bắt đầu bằng cách tạo một list Python thông thường là `zero`:"
   ]
  },
  {
   "cell_type": "code",
   "execution_count": 3,
   "metadata": {
    "colab": {
     "base_uri": "https://localhost:8080/"
    },
    "executionInfo": {
     "elapsed": 1387,
     "status": "ok",
     "timestamp": 1719235745489,
     "user": {
      "displayName": "Phuong Nguyen",
      "userId": "11974806599025701743"
     },
     "user_tz": -420
    },
    "id": "14JWhfK6Tg_g",
    "outputId": "bc4cc30f-0753-43fb-91f3-264c781d4df4"
   },
   "outputs": [
    {
     "name": "stdout",
     "output_type": "stream",
     "text": [
      "[]\n"
     ]
    }
   ],
   "source": [
    "audio_sample = []\n",
    "print(audio_sample)"
   ]
  },
  {
   "cell_type": "markdown",
   "metadata": {
    "id": "lJTKO612Tg_m"
   },
   "source": [
    "Lặp qua tập dữ liệu và tải lên tất cả 50 tệp `0_jackson*.wav` bằng phương thức `wavfile.read()`: https://docs.scipy.org/doc/scipy-0.14.0/reference/generated/scipy.io.wavfile.read.html từ thư mục [data](https://drive.google.com/drive/folders/1UDAvuRfXzcOcpI84neQAmAeffIrJKKBi?usp=sharing).\n",
    "\n",
    "Hãy cẩn thận! `.read()` trả về một tuple và bạn chỉ quan tâm đến dữ liệu âm thanh chứ không phải sample_rate tại thời điểm này. Bên trong vòng lặp for, chỉ cần nối dữ liệu âm thanh đã tải vào list Python `zero`:"
   ]
  },
  {
   "cell_type": "code",
   "execution_count": 4,
   "metadata": {
    "colab": {
     "base_uri": "https://localhost:8080/",
     "output_embedded_package_id": "1IMmL6F8MWO1jYqF5VcF3O-7bTOVARurO"
    },
    "executionInfo": {
     "elapsed": 2497,
     "status": "ok",
     "timestamp": 1719238480068,
     "user": {
      "displayName": "Phuong Nguyen",
      "userId": "11974806599025701743"
     },
     "user_tz": -420
    },
    "id": "DUwnRGm-Tg_n",
    "outputId": "9fa863da-fafc-430a-f277-68c66f8befee"
   },
   "outputs": [
    {
     "name": "stdout",
     "output_type": "stream",
     "text": [
      "[array([-369, -431, -475, ...,  301,  324,  304], dtype=int16), array([-311,  -91, -140, ...,  378,  357,  333], dtype=int16), array([-361, -226, -238, ..., -286, -311, -343], dtype=int16), array([ 323,  338,  357, ..., -246, -280, -301], dtype=int16), array([-302, -312, -103, ..., -338, -333, -348], dtype=int16), array([ 305,  365,  419, ..., -313, -342, -346], dtype=int16), array([ 364,  420,  469, ..., -326, -334, -351], dtype=int16), array([-417,  152,  168, ...,  312,  316,  309], dtype=int16), array([ 330,  382,  389, ..., -410, -400, -385], dtype=int16), array([-312, -335, -338, ...,  384,  371,  345], dtype=int16), array([-314, -303, -332, ..., -355, -343, -322], dtype=int16), array([347, 351, 462, ..., 365, 338, 302], dtype=int16), array([-336,  160,   65, ..., -315, -343, -319], dtype=int16), array([ 354,  442,  610, ..., -312, -336, -333], dtype=int16), array([ 397,  531,  638, ..., -357, -386, -353], dtype=int16), array([ 382,  459,  530, ..., -254, -301, -309], dtype=int16), array([-393,   54,  -71, ...,  319,  340,  313], dtype=int16), array([-311, -363, -318, ..., -239, -305, -304], dtype=int16), array([-316, -336, -342, ..., -442, -424, -310], dtype=int16), array([ 335,  392,  481, ..., -302, -314, -304], dtype=int16), array([-309, -323, -333, ..., -301, -300, -304], dtype=int16), array([ 305,  305,  294, ..., -379, -342, -300], dtype=int16), array([ 342,  452,  546, ..., -356, -353, -332], dtype=int16), array([-350, -391, -371, ..., -454, -416, -358], dtype=int16), array([-358, -447, -533, ..., -313, -261, -310], dtype=int16), array([-313, -347, -332, ..., -317, -350, -331], dtype=int16), array([ 332,    0,  -58, ..., -473, -511, -418], dtype=int16), array([-304, -319, -377, ..., -438, -457, -425], dtype=int16), array([-332, -396, -502, ..., -267, -274, -322], dtype=int16), array([-317, -346, -377, ...,  451,  432,  351], dtype=int16), array([-328, -401, -471, ..., -213, -274, -360], dtype=int16), array([-328, -372, -403, ...,  219,  298,  329], dtype=int16), array([-310, -377, -502, ...,  294,  351,  323], dtype=int16), array([ 310,  339,  351, ..., -327, -351, -311], dtype=int16), array([-309, -385, -459, ...,  363,  364,  306], dtype=int16), array([303, 348, 354, ..., 135, 186, 302], dtype=int16), array([-348, -418, -431, ...,  329,  357,  354], dtype=int16), array([ 306,  399,  455, ..., -228, -345, -344], dtype=int16), array([-326, -362, -376, ..., -315, -321, -316], dtype=int16), array([-317, -199, -303, ...,  393,  409,  384], dtype=int16), array([ 322,  395,  470, ..., -344, -343, -319], dtype=int16), array([355, 425, 481, ..., 398, 372, 332], dtype=int16), array([ 331,  404,  490, ..., -297, -307, -318], dtype=int16), array([-307, -334, -336, ...,  354,  328,  312], dtype=int16), array([-316, -377, -435, ..., -325, -311, -301], dtype=int16), array([ 301,  394,  507, ..., -423, -401, -329], dtype=int16), array([343, 404, 454, ..., 420, 377, 345], dtype=int16), array([ 320,  372,  421, ..., -234, -264, -302], dtype=int16), array([-439, -572, -656, ...,  425,  343,  310], dtype=int16), array([-302, -337, -371, ...,   59, -180, -352], dtype=int16)]\n"
     ]
    }
   ],
   "source": [
    "data_directory = 'data'\n",
    "for i in range(50):\n",
    "    file_path = os.path.join(data_directory, f'0_jackson_{i}.wav')\n",
    "    sample_rate, data = wavfile.read(file_path)\n",
    "    audio_sample.append(data)\n",
    "        \n",
    "print(audio_sample)"
   ]
  },
  {
   "cell_type": "markdown",
   "metadata": {
    "id": "dzHr1FEzTg_u"
   },
   "source": [
    "Hãy dành một chút thời gian để chuyển 0 thành một khung dữ liệu (DataFrame). Khi bạn làm như vậy, hãy đặt `dtype` thành `np.int16`, vì các tệp âm thanh đầu vào là 16 bit cho mỗi mẫu. Nếu bạn không biết cách thực hiện việc này, hãy đọc tài liệu tại đây: http://pandas.pydata.org/pandas-docs/stable/generated/pandas.DataFrame.html\n",
    "\n",
    "Tiếc là những đoạn âm thanh này không được chuẩn hóa độ dài nên chúng ta sẽ phải chia nhỏ chúng để tất cả có cùng độ dài. Vì Pandas sẽ chèn các NAN tại bất kỳ vị trí nào để tạo thành mảng [n_observed_samples, n_audio_samples] hình chữ nhật hoàn hảo nên hãy thực hiện một `dropna` trên trục Y ở đây. Sau đó, chuyển đổi 1 trở lại thành NDArray bằng `yourarrayname.values`:"
   ]
  },
  {
   "cell_type": "code",
   "execution_count": 5,
   "metadata": {
    "colab": {
     "base_uri": "https://localhost:8080/"
    },
    "executionInfo": {
     "elapsed": 3070,
     "status": "ok",
     "timestamp": 1719238535471,
     "user": {
      "displayName": "Phuong Nguyen",
      "userId": "11974806599025701743"
     },
     "user_tz": -420
    },
    "id": "HzG76oSaTg_v",
    "outputId": "7e8fa200-2c67-49e9-cfa0-bdca5f112541"
   },
   "outputs": [
    {
     "name": "stdout",
     "output_type": "stream",
     "text": [
      "[[-369 -431 -475 ... -108 -402 -884]\n",
      " [-311  -91 -140 ... -422 -462 -460]\n",
      " [-361 -226 -238 ...  378  416  438]\n",
      " ...\n",
      " [ 320  372  421 ... 1433 1616 1427]\n",
      " [-439 -572 -656 ... 1026 2322 2618]\n",
      " [-302 -337 -371 ... 1105  559  477]]\n"
     ]
    }
   ],
   "source": [
    "# Tìm độ dài ngắn nhất trong tất cả các đoạn âm thanh\n",
    "min_length = min(len(sample) for sample in audio_sample)\n",
    "\n",
    "# Cắt các đoạn âm thanh để tất cả có cùng độ dài ngắn nhất\n",
    "audio_sample = [sample[:min_length] for sample in audio_sample]\n",
    "\n",
    "# Tạo DataFrame từ danh sách các đoạn âm thanh đã chuẩn hóa\n",
    "audio_df = pd.DataFrame(audio_sample, dtype=np.int16)\n",
    "\n",
    "# Thực hiện dropna để loại bỏ bất kỳ hàng nào chứa giá trị NaN (nếu có)\n",
    "audio_df.dropna(axis=0, inplace=True)\n",
    "\n",
    "# Chuyển đổi DataFrame trở lại NDArray\n",
    "audio_array = audio_df.values\n",
    "\n",
    "# Kiểm tra NDArray đã được tạo\n",
    "print(audio_array)"
   ]
  },
  {
   "cell_type": "markdown",
   "metadata": {
    "id": "litpLIunTg_2"
   },
   "source": [
    "Điều quan trọng là phải biết  (bao nhiêu mẫu audio_samples) độ dài dữ liệu hiện có.\n",
    "\n",
    "`zero` hiện có shape giống như` [n_samples, n_audio_samples] `, vì vậy hãy lấy số lượng` n_audio_samples` và lưu trữ nó trong biến `n_audio_samples`:"
   ]
  },
  {
   "cell_type": "code",
   "execution_count": 6,
   "metadata": {
    "colab": {
     "base_uri": "https://localhost:8080/"
    },
    "executionInfo": {
     "elapsed": 474,
     "status": "ok",
     "timestamp": 1719239832059,
     "user": {
      "displayName": "Phuong Nguyen",
      "userId": "11974806599025701743"
     },
     "user_tz": -420
    },
    "id": "BJT-HkwsTg_4",
    "outputId": "a3ed27ea-ba48-438a-de48-e8ad94c853d0"
   },
   "outputs": [
    {
     "name": "stdout",
     "output_type": "stream",
     "text": [
      "NDArray shape: (50, 4087)\n",
      "Number of audio samples (n_audio_samples): 4087\n"
     ]
    }
   ],
   "source": [
    "# Lấy số lượng n_audio_samples từ hình dạng của NDArray\n",
    "n_audio_samples = audio_array.shape[1]\n",
    "\n",
    "# Kiểm tra NDArray và n_audio_samples\n",
    "print(\"NDArray shape:\", audio_array.shape)\n",
    "print(\"Number of audio samples (n_audio_samples):\", n_audio_samples)"
   ]
  },
  {
   "cell_type": "markdown",
   "metadata": {
    "id": "X_o9dFonajuZ"
   },
   "source": [
    "## 2. Huấn luyện mô hình"
   ]
  },
  {
   "cell_type": "markdown",
   "metadata": {
    "id": "OKs-DpagTg__"
   },
   "source": [
    "Tạo mô hình hồi quy tuyến tính của bạn tại đây và lưu trữ nó trong biến `model`. Đừng vội huấn luyện hoặc làm bất cứ điều gì khác với nó:"
   ]
  },
  {
   "cell_type": "code",
   "execution_count": 7,
   "metadata": {
    "id": "YYi87mhQThAA"
   },
   "outputs": [],
   "source": [
    "model = LinearRegression()"
   ]
  },
  {
   "cell_type": "markdown",
   "metadata": {
    "id": "Q1sUz2UwThAF"
   },
   "source": [
    "Có 50 bản ghi mỗi clip. Bạn chỉ muốn lấy ngẫu nhiên một trong số chúng ra và cái đó sẽ KHÔNG được sử dụng trong quá trình huấn luyện mô hình. Nói cách khác, tệp mà chúng ta sẽ kiểm tra/chấm điểm sẽ là một mẫu không nhìn thấy, độc lập với phần còn lại của training set:"
   ]
  },
  {
   "cell_type": "code",
   "execution_count": null,
   "metadata": {
    "id": "8ewvSE_1ThAG"
   },
   "outputs": [],
   "source": [
    "# Hãy để nguyên dòng này cho đến khi bạn đã submit bài Lab của mình:\n",
    "rng = check_random_state(7)\n",
    "\n",
    "random_idx = rng.randint(zero.shape[0])\n",
    "test  = zero[random_idx]\n",
    "train = np.delete(zero, [random_idx], axis=0)"
   ]
  },
  {
   "cell_type": "markdown",
   "metadata": {
    "id": "l-ft2fTvThAO"
   },
   "source": [
    "In ra shape của `train` và `test`.\n",
    "\n",
    "`train` sẽ có dạng:`[n_samples, n_audio_samples]`, trong đó `n_audio_samples` là 'features' (thuộc tính) của tệp âm thanh\n",
    "\n",
    "`test` sẽ có dạng `[n_audio_features]`, vì nó là mẫu duy nhất (tệp âm thanh, ví dụ: quan sát)."
   ]
  },
  {
   "cell_type": "code",
   "execution_count": 10,
   "metadata": {
    "id": "Soc8ciucThAP"
   },
   "outputs": [
    {
     "name": "stdout",
     "output_type": "stream",
     "text": [
      "Train NDArray shape: (49, 4087)\n",
      "Test sample shape: (4087,)\n"
     ]
    }
   ],
   "source": [
    "# Chọn ngẫu nhiên một mẫu để làm mẫu kiểm tra\n",
    "rng = check_random_state(7)\n",
    "random_idx = rng.randint(audio_array.shape[0])\n",
    "test_sample = audio_array[random_idx]\n",
    "train_samples = np.delete(audio_array, [random_idx], axis=0)\n",
    "\n",
    "print(\"Train NDArray shape:\", train_samples.shape)\n",
    "print(\"Test sample shape:\", test_sample.shape)"
   ]
  },
  {
   "cell_type": "markdown",
   "metadata": {
    "collapsed": true,
    "id": "xIoIIWN-ThAb"
   },
   "source": [
    "Dữ liệu thử nghiệm sẽ có hai phần, `X_test` và` y_test`.\n",
    "\n",
    "`X_test` là phần đầu tiên của tệp âm thanh thử nghiệm mà chúng ta sẽ cung cấp cho máy tính làm input.\n",
    "\n",
    "`y_test`,\"nhãn\" sẽ là phần còn lại của tệp âm thanh. Như vậy, máy tính sẽ sử dụng hồi quy tuyến tính để lấy ra phần bị thiếu của tệp âm thanh dựa trên dữ liệu huấn luyện mà nó nhận được!\n",
    "\n",
    "Hãy lưu clip `test` ban đầu, clip mà bạn sắp xóa một nửa vào thư mục hiện tại để bạn có thể so sánh nó với clip 'đã vá' sau khi tạo. Bạn hẳn đã có `sample_rate` khi tải lên các tệp .wav:"
   ]
  },
  {
   "cell_type": "code",
   "execution_count": 11,
   "metadata": {
    "id": "zxPW90H9ThAd"
   },
   "outputs": [],
   "source": [
    "# Lưu clip âm thanh kiểm tra ban đầu\n",
    "wavfile.write('Original_Test_Clip.wav', sample_rate, test_sample)\n",
    "\n",
    "# Chia test_sample thành X_test và y_test\n",
    "split_index = len(test_sample) // 2\n",
    "X_test = test_sample[:split_index]\n",
    "y_test = test_sample[split_index:]"
   ]
  },
  {
   "cell_type": "markdown",
   "metadata": {
    "id": "rIkmkMqNThAk"
   },
   "source": [
    "Chuẩn bị dữ liệu TEST bằng cách tạo lát `X_test`. Nó phải có các thuộc tính mẫu âm thanh `Provided_Portion` * `n_audio_samples`, được lấy từ tệp âm thanh thử nghiệm, hiện được lưu trữ trong biến `test`. Nói cách khác, lấy các thuộc tính âm thanh `Provided_Portion` * `n_audio_samples` ĐẦU TIÊN từ `test` và lưu trữ nó trong` X_test`. Điều này sẽ được thực hiện bằng cách sử dụng lập chỉ mục:"
   ]
  },
  {
   "cell_type": "code",
   "execution_count": 12,
   "metadata": {
    "id": "IECZK7pGThAl"
   },
   "outputs": [
    {
     "name": "stdout",
     "output_type": "stream",
     "text": [
      "X_test shape: (1021,)\n"
     ]
    }
   ],
   "source": [
    "# Số lượng thuộc tính âm thanh mà chúng ta sẽ lấy từ test_sample\n",
    "num_audio_features = int(Provided_Portion * n_audio_samples)\n",
    "\n",
    "# Tạo X_test bằng cách lấy các thuộc tính âm thanh đầu tiên từ test_sample\n",
    "X_test = test_sample[:num_audio_features]\n",
    "\n",
    "# In ra shape của X_test\n",
    "print(\"X_test shape:\", X_test.shape)"
   ]
  },
  {
   "cell_type": "markdown",
   "metadata": {
    "id": "Pt50X7z-ThAw"
   },
   "source": [
    "Nếu các thuộc tính `Provided_Portion` * `n_audio_samples` đầu tiên được lưu trữ trong `X_test`, thì chúng ta cũng cần lấy các thuộc tính âm thanh _còn lại_ và lưu trữ chúng trong` y_test`. Với các thuộc tính còn lại được lưu trữ trong đó, chúng ta sẽ có thể R ^ 2 \"chấm điểm\" thuật toán đã làm tốt như thế nào trong việc hoàn thành tệp âm thanh."
   ]
  },
  {
   "cell_type": "code",
   "execution_count": 13,
   "metadata": {
    "id": "AbbmCXo9ThAx"
   },
   "outputs": [
    {
     "name": "stdout",
     "output_type": "stream",
     "text": [
      "y_test shape: (3066,)\n"
     ]
    }
   ],
   "source": [
    "# Các thuộc tính âm thanh còn lại là phần từ vị trí num_audio_features trở đi\n",
    "y_test = test_sample[num_audio_features:]\n",
    "\n",
    "# In ra shape của y_test\n",
    "print(\"y_test shape:\", y_test.shape)"
   ]
  },
  {
   "cell_type": "markdown",
   "metadata": {
    "id": "W0DXxAEhThBA"
   },
   "source": [
    "Lặp lại quy trình tương tự cho `X_train`, `y_train`. Sự khác biệt duy nhất là:\n",
    "\n",
    "1. Bạn sẽ nhận được dữ liệu âm thanh từ `train` thay vì từ `test`\n",
    "2. Bạn có nhớ shape của `train` mà bạn đã in ra trước đó không? Bạn muốn thực hiện việc cắt này nhưng đối với TẤT CẢ các mẫu (quan sát). Đối với mỗ quan sát, bạn muốn chia các thuộc tính âm thanh `Provided_Portion` * `n_audio_samples` đầu tiên thành `X_train`, và phần còn lại chuyển vào `y_train`. Có thể thực hiện tất cả những điều này bằng lập chỉ mục thông thường ở 2 dòng code:"
   ]
  },
  {
   "cell_type": "code",
   "execution_count": 14,
   "metadata": {
    "id": "8CgSV4-IThBC"
   },
   "outputs": [
    {
     "name": "stdout",
     "output_type": "stream",
     "text": [
      "X_train shape: (49, 1021)\n",
      "y_train shape: (49, 3066)\n"
     ]
    }
   ],
   "source": [
    "# Số lượng thuộc tính âm thanh mà chúng ta sẽ lấy từ mỗi mẫu train\n",
    "num_audio_features = int(Provided_Portion * n_audio_samples)\n",
    "\n",
    "# Tạo X_train và y_train từ tất cả các mẫu trong train_samples\n",
    "X_train = train_samples[:, :num_audio_features]\n",
    "y_train = train_samples[:, num_audio_features:]\n",
    "\n",
    "# In ra shape của X_train và y_train\n",
    "print(\"X_train shape:\", X_train.shape)\n",
    "print(\"y_train shape:\", y_train.shape)"
   ]
  },
  {
   "cell_type": "markdown",
   "metadata": {
    "id": "gVZG3AQwThBN"
   },
   "source": [
    "SciKit-Learn sẽ 'tức giận' nếu bạn không cung cấp dữ liệu huấn luyện dưới dạng khung dữ liệu 2D có shape `[n_samples, n_features]`.\n",
    "\n",
    "Vì vậy, nếu bạn chỉ có một MẪU, chẳng hạn như trường hợp của chúng ta với `X_test` và `y_test` thì bằng cách gọi `.reshape(1, -1)`, bạn có thể biến `[n_features]` thành `[1, n_features] `để đáp ứng SciKit-Learn.\n",
    "\n",
    "Mặt khác, nếu bạn chỉ có một THUỘC TÍNH, bạn có thể gọi `.reshape (-1, 1)` trên dữ liệu của mình để biến `[n_samples]` thành `[n_samples, 1]`.\n",
    "\n",
    "Định hình lại X_test và y_test thành [1, n_features]:"
   ]
  },
  {
   "cell_type": "code",
   "execution_count": 15,
   "metadata": {
    "id": "ovi6Z4vAThBO"
   },
   "outputs": [
    {
     "name": "stdout",
     "output_type": "stream",
     "text": [
      "X_test reshaped shape: (1, 1021)\n",
      "y_test reshaped shape: (1, 3066)\n"
     ]
    }
   ],
   "source": [
    "# Định hình lại X_test và y_test\n",
    "X_test = X_test.reshape(1, -1)\n",
    "y_test = y_test.reshape(1, -1)\n",
    "\n",
    "# In ra shape của X_test và y_test đã định hình lại\n",
    "print(\"X_test reshaped shape:\", X_test.shape)\n",
    "print(\"y_test reshaped shape:\", y_test.shape)"
   ]
  },
  {
   "cell_type": "markdown",
   "metadata": {
    "id": "pveoa3OSThBV"
   },
   "source": [
    "Điều chỉnh mô hình của bạn bằng cách sử dụng dữ liệu huấn luyện và nhãn:"
   ]
  },
  {
   "cell_type": "code",
   "execution_count": 16,
   "metadata": {
    "id": "aWrzESmWThBW"
   },
   "outputs": [
    {
     "name": "stdout",
     "output_type": "stream",
     "text": [
      "Intercept: [-392.99658585 -439.93269982 -193.62765415 ...  228.0534521   -13.5785882\n",
      " -345.71072916]\n",
      "Coefficients: [[-0.01006156 -0.01222838 -0.01431177 ...  0.07957438  0.11474667\n",
      "   0.13375861]\n",
      " [-0.00747665 -0.0087656  -0.01020086 ...  0.05056315  0.09132977\n",
      "   0.1148416 ]\n",
      " [-0.00249175 -0.00396567 -0.00590694 ... -0.00725308  0.03584432\n",
      "   0.11652158]\n",
      " ...\n",
      " [ 0.00865076  0.01170158  0.01206544 ...  0.02779679  0.0312181\n",
      "   0.04062864]\n",
      " [ 0.0016898   0.00418021  0.00360833 ...  0.01723349  0.02001436\n",
      "   0.0316697 ]\n",
      " [-0.00752646 -0.00656857 -0.00795753 ...  0.00957986  0.0106107\n",
      "   0.01602369]]\n"
     ]
    }
   ],
   "source": [
    "# Huấn luyện mô hình trên dữ liệu huấn luyện\n",
    "model.fit(X_train, y_train)\n",
    "\n",
    "# Sau khi huấn luyện, bạn có thể kiểm tra các thông số của mô hình, ví dụ:\n",
    "print(\"Intercept:\", model.intercept_)\n",
    "print(\"Coefficients:\", model.coef_)"
   ]
  },
  {
   "cell_type": "markdown",
   "metadata": {
    "id": "beK3QB4Ha1SW"
   },
   "source": [
    "## 3. Đánh giá mô hình"
   ]
  },
  {
   "cell_type": "markdown",
   "metadata": {
    "id": "xkUDZHtkThBd"
   },
   "source": [
    "Sử dụng mô hình để dự đoán `label` của `X_test`. Lưu trữ dự đoán kết quả trong biến `y_test_prediction`:"
   ]
  },
  {
   "cell_type": "code",
   "execution_count": 17,
   "metadata": {
    "id": "ShxFfA0IThBe"
   },
   "outputs": [
    {
     "name": "stdout",
     "output_type": "stream",
     "text": [
      "y_test_prediction shape: (1, 3066)\n"
     ]
    }
   ],
   "source": [
    "# Sử dụng mô hình để dự đoán nhãn của X_test\n",
    "y_test_prediction = model.predict(X_test)\n",
    "\n",
    "# In ra shape của y_test_prediction để kiểm tra\n",
    "print(\"y_test_prediction shape:\", y_test_prediction.shape)"
   ]
  },
  {
   "cell_type": "markdown",
   "metadata": {
    "id": "9oSFOALZThBi"
   },
   "source": [
    "SciKit-Learn sẽ sử dụng float64 để tạo các dự đoán của bạn, vì vậy hãy đưa các giá trị đó trở lại int16, đó là những gì tệp .wav cần:"
   ]
  },
  {
   "cell_type": "code",
   "execution_count": 18,
   "metadata": {
    "id": "wbnClMVCThBj"
   },
   "outputs": [],
   "source": [
    "y_test_prediction = y_test_prediction.astype(dtype=np.int16)"
   ]
  },
  {
   "cell_type": "markdown",
   "metadata": {
    "id": "oYqV-K4IThBo"
   },
   "source": [
    "Chấm điểm dự đoán của bạn sẽ hoạt động tốt như thế nào bằng cách truyền dữ liệu và nhãn thử nghiệm `y_test`:"
   ]
  },
  {
   "cell_type": "code",
   "execution_count": 19,
   "metadata": {
    "id": "qF-R89wLThBp"
   },
   "outputs": [
    {
     "name": "stderr",
     "output_type": "stream",
     "text": [
      "C:\\Users\\PC\\AppData\\Roaming\\Python\\Python311\\site-packages\\sklearn\\metrics\\_regression.py:996: UndefinedMetricWarning: R^2 score is not well-defined with less than two samples.\n",
      "  warnings.warn(msg, UndefinedMetricWarning)\n"
     ]
    }
   ],
   "source": [
    "# Tính điểm R^2 cho mô hình\n",
    "score = model.score(X_test, y_test)"
   ]
  },
  {
   "cell_type": "code",
   "execution_count": 20,
   "metadata": {},
   "outputs": [],
   "source": [
    "# Tính Mean Squared Error (MSE)\n",
    "mse = mean_squared_error(y_test, y_test_prediction)\n",
    "\n",
    "# Tính Mean Absolute Error (MAE)\n",
    "mae = mean_absolute_error(y_test, y_test_prediction)"
   ]
  },
  {
   "cell_type": "code",
   "execution_count": 21,
   "metadata": {
    "id": "uAwVxcTOThBu"
   },
   "outputs": [
    {
     "name": "stdout",
     "output_type": "stream",
     "text": [
      "Mean Squared Error (MSE): 696.544357469015\n",
      "Mean Absolute Error (MAE): 6201.038160469668\n"
     ]
    }
   ],
   "source": [
    "# In ra MSE và MAE\n",
    "print(\"Mean Squared Error (MSE):\", mse)\n",
    "print(\"Mean Absolute Error (MAE):\", mae)"
   ]
  },
  {
   "cell_type": "markdown",
   "metadata": {
    "id": "Qxlg7hWRThB1"
   },
   "source": [
    "Hãy lấy phần `Provided_Portion` đầu tiên của clip thử nghiệm, phần mà bạn đã đưa vào mô hình hồi quy tuyến tính. Sau đó, kết hợp điều đó với thứ mà mô hình dự đoán đã tạo cho bạn và sau đó lưu đoạn âm thanh đã hoàn thành:"
   ]
  },
  {
   "cell_type": "code",
   "execution_count": 22,
   "metadata": {
    "id": "co0UKuZ0ThB2"
   },
   "outputs": [],
   "source": [
    "completed_clip = np.hstack((X_test, y_test_prediction))\n",
    "wavfile.write('Extrapolated Clip.wav', sample_rate, completed_clip[0])"
   ]
  }
 ],
 "metadata": {
  "anaconda-cloud": {},
  "colab": {
   "provenance": []
  },
  "kernelspec": {
   "display_name": "Python 3 (ipykernel)",
   "language": "python",
   "name": "python3"
  },
  "language_info": {
   "codemirror_mode": {
    "name": "ipython",
    "version": 3
   },
   "file_extension": ".py",
   "mimetype": "text/x-python",
   "name": "python",
   "nbconvert_exporter": "python",
   "pygments_lexer": "ipython3",
   "version": "3.11.4"
  },
  "toc": {
   "colors": {
    "hover_highlight": "#DAA520",
    "running_highlight": "#FF0000",
    "selected_highlight": "#FFD700"
   },
   "moveMenuLeft": true,
   "nav_menu": {
    "height": "58px",
    "width": "252px"
   },
   "navigate_menu": true,
   "number_sections": true,
   "sideBar": true,
   "threshold": 4,
   "toc_cell": false,
   "toc_section_display": "block",
   "toc_window_display": false,
   "widenNotebook": false
  }
 },
 "nbformat": 4,
 "nbformat_minor": 1
}
